{
 "cells": [
  {
   "cell_type": "code",
   "execution_count": null,
   "metadata": {},
   "outputs": [],
   "source": [
    "import pandas as pd\n",
    "import os\n",
    "import numpy as np\n",
    "from sklearn.linear_model import LinearRegression\n",
    "from sklearn.metrics import mean_absolute_percentage_error, mean_absolute_error, mean_squared_error, r2_score\n",
    "from sklearn.preprocessing import StandardScaler\n",
    "from sklearn.decomposition import PCA\n",
    "from sklearn.feature_selection import SelectKBest, mutual_info_regression\n",
    "import tensorflow as tf\n",
    "from tensorflow.keras.models import Model\n",
    "from tensorflow.keras.layers import Dense, Dropout, Input\n",
    "from tensorflow.keras.optimizers import Adam\n",
    "from tensorflow.keras.callbacks import EarlyStopping, ReduceLROnPlateau\n",
    "import matplotlib.pyplot as plt\n",
    "from scipy import stats\n",
    "import seaborn as sns\n",
    "import time\n",
    "import json"
   ]
  },
  {
   "cell_type": "code",
   "execution_count": null,
   "metadata": {},
   "outputs": [],
   "source": [
    "os.makedirs('results', exist_ok=True)\n",
    "os.makedirs('results/plots', exist_ok=True)\n",
    "os.makedirs('results/data', exist_ok=True)"
   ]
  },
  {
   "cell_type": "markdown",
   "metadata": {},
   "source": [
    "# Preprocessing"
   ]
  },
  {
   "cell_type": "code",
   "execution_count": null,
   "metadata": {},
   "outputs": [],
   "source": [
    "def detect_and_remove_outliers(X, y, threshold=3.0):\n",
    "    # Skip outlier detection for small datasets\n",
    "    if len(X) < 20:\n",
    "        return X, y\n",
    "    \n",
    "    X_array = X.values\n",
    "    y_array = y.values\n",
    "    \n",
    "    # Z-score method\n",
    "    z_scores = np.abs((y_array - np.mean(y_array)) / np.std(y_array))\n",
    "    mask = z_scores < threshold\n",
    "    \n",
    "\n",
    "    X_clean = X_array[mask]\n",
    "    y_clean = y_array[mask]\n",
    "\n",
    "    return X_clean, y_clean"
   ]
  },
  {
   "cell_type": "code",
   "execution_count": null,
   "metadata": {},
   "outputs": [],
   "source": [
    "def convert_to_categorical(X):\n",
    "    X_df = pd.DataFrame(X)\n",
    "    \n",
    "    # Convert each column to categorical\n",
    "    for column in X_df.columns:\n",
    "        X_df[column] = X_df[column].astype('category')\n",
    "        X_df[column] = X_df[column].cat.codes\n",
    "        \n",
    "    return X_df"
   ]
  },
  {
   "cell_type": "markdown",
   "metadata": {},
   "source": [
    "# Feature processing and selection"
   ]
  },
  {
   "cell_type": "code",
   "execution_count": null,
   "metadata": {},
   "outputs": [],
   "source": [
    "def precompute_feature_selection(data, importance_threshold=0.95):\n",
    "    # Split the data\n",
    "    X = data.iloc[:, :-1]\n",
    "    y = data.iloc[:, -1]\n",
    "    \n",
    "    # Convert categorical features if needed\n",
    "    X = convert_to_categorical(X)\n",
    "    \n",
    "    # Calculate mutual information scores for all features\n",
    "    mi_scores = mutual_info_regression(X, y)\n",
    "    \n",
    "    # Create a list of (index, score) tuples\n",
    "    feature_scores = [(i, mi_scores[i]) for i in range(len(mi_scores))]\n",
    "    \n",
    "    # Sort by descending importance\n",
    "    feature_scores.sort(key=lambda x: x[1], reverse=True)\n",
    "    \n",
    "    # Calculate total importance\n",
    "    total_importance = sum([score for _, score in feature_scores])\n",
    "    \n",
    "    # Select features until we reach the threshold\n",
    "    selected_indices = []\n",
    "    cumulative_importance = 0\n",
    "    \n",
    "    for idx, score in feature_scores:\n",
    "        selected_indices.append(idx)\n",
    "        cumulative_importance += score / total_importance\n",
    "        \n",
    "        if cumulative_importance >= importance_threshold:\n",
    "            break\n",
    "     \n",
    "    # Ensure at least one feature is selected\n",
    "    if not selected_indices:\n",
    "        selected_indices = [feature_scores[0][0]]\n",
    "    \n",
    "    # Sort indices to maintain original feature order\n",
    "    selected_indices.sort()\n",
    "        \n",
    "    return selected_indices"
   ]
  },
  {
   "cell_type": "markdown",
   "metadata": {},
   "source": [
    "# Model Creation"
   ]
  },
  {
   "cell_type": "code",
   "execution_count": 28,
   "metadata": {},
   "outputs": [],
   "source": [
    "def create_neural_network(input_dim):\n",
    "    # Create input layer\n",
    "    inputs = Input(shape=(input_dim,))\n",
    "    \n",
    "    # First hidden layer with dropout\n",
    "    x = Dense(64, activation='relu', kernel_regularizer=tf.keras.regularizers.l2(0.001))(inputs)\n",
    "    x = Dropout(0.2)(x)\n",
    "    \n",
    "    # Second hidden layer with dropout\n",
    "    x = Dense(32, activation='relu', kernel_regularizer=tf.keras.regularizers.l2(0.001))(x)\n",
    "    x = Dropout(0.2)(x)\n",
    "    \n",
    "    # Second hidden layer with dropout\n",
    "    x = Dense(16, activation='relu')(x)\n",
    "    x = Dropout(0.2)(x)\n",
    "\n",
    "    # Output layer\n",
    "    outputs = Dense(1)(x)\n",
    "    \n",
    "    # Create and compile the model\n",
    "    model = Model(inputs=inputs, outputs=outputs)\n",
    "    model.compile(optimizer=Adam(learning_rate=0.005), loss='mae')\n",
    "    \n",
    "    return model"
   ]
  },
  {
   "cell_type": "code",
   "execution_count": null,
   "metadata": {},
   "outputs": [],
   "source": [
    "def evaluate_model(y_true, y_pred):\n",
    "    mape = mean_absolute_percentage_error(y_true, y_pred)\n",
    "    mae = mean_absolute_error(y_true, y_pred)\n",
    "    rmse = np.sqrt(mean_squared_error(y_true, y_pred))\n",
    "    r2 = r2_score(y_true, y_pred)\n",
    "    \n",
    "    return {\n",
    "        'MAPE': mape,\n",
    "        'MAE': mae,\n",
    "        'RMSE': rmse,\n",
    "        'R2': r2\n",
    "    }"
   ]
  },
  {
   "cell_type": "markdown",
   "metadata": {},
   "source": [
    "# Evaluation"
   ]
  },
  {
   "cell_type": "code",
   "execution_count": null,
   "metadata": {},
   "outputs": [],
   "source": [
    "def calculate_improvement(dl_metrics, lr_metrics):\n",
    "    improvements = {}\n",
    "    for metric in dl_metrics:\n",
    "        # For R2, higher is better\n",
    "        if metric == 'R2':\n",
    "            if lr_metrics[metric] > 0:\n",
    "                improvements[metric] = ((dl_metrics[metric] - lr_metrics[metric]) / abs(lr_metrics[metric])) * 100\n",
    "            else:\n",
    "                # If baseline R2 is negative or zero\n",
    "                improvements[metric] = dl_metrics[metric] - lr_metrics[metric]\n",
    "        else:\n",
    "            # For error metrics, lower is better\n",
    "            improvements[metric] = ((lr_metrics[metric] - dl_metrics[metric]) / lr_metrics[metric]) * 100\n",
    "            \n",
    "    return improvements"
   ]
  },
  {
   "cell_type": "code",
   "execution_count": null,
   "metadata": {},
   "outputs": [],
   "source": [
    "def run_statistical_tests(method1_values, method2_values, alternative='two-sided'):\n",
    "    # Convert to numpy arrays\n",
    "    method1_values = np.array(method1_values)\n",
    "    method2_values = np.array(method2_values)\n",
    "    differences = method1_values - method2_values\n",
    "    \n",
    "    statistic, p_value = stats.wilcoxon(method1_values, method2_values, alternative=alternative)\n",
    "    \n",
    "    # Determine if the difference is significant\n",
    "    significant = p_value < 0.05\n",
    "    \n",
    "    # Calculate effect size (Cohen's d for paired samples)\n",
    "    effect_size = np.mean(differences) / np.std(differences, ddof=1) if np.std(differences, ddof=1) > 0 else 0\n",
    "    \n",
    "    return {\n",
    "        \"statistic\": statistic,\n",
    "        \"p_value\": p_value,\n",
    "        \"significant\": significant,\n",
    "        \"effect_size\": effect_size,\n",
    "    }\n"
   ]
  },
  {
   "cell_type": "code",
   "execution_count": null,
   "metadata": {},
   "outputs": [],
   "source": [
    "def save_results_to_csv(summary_df, all_metric_values, output_file='results/data/all_results.csv'):\n",
    "    # Create a copy of summary_df for the aggregated results\n",
    "    results_df = summary_df.copy()\n",
    "    \n",
    "    # Add standard deviation columns\n",
    "    for metric in ['MAPE', 'MAE', 'RMSE', 'R2']:\n",
    "        results_df[f'LR_{metric}_std'] = np.nan\n",
    "        results_df[f'DL_{metric}_std'] = np.nan\n",
    "    \n",
    "    # Fill in standard deviations\n",
    "    for i, row in results_df.iterrows():\n",
    "        system_key = f\"{row['System']}_{row['Dataset']}\"\n",
    "        if system_key in all_metric_values:\n",
    "            for metric in ['MAPE', 'MAE', 'RMSE', 'R2']:\n",
    "                lr_values = all_metric_values[system_key][f'LR_{metric}']\n",
    "                dl_values = all_metric_values[system_key][f'DL_{metric}']\n",
    "                \n",
    "                results_df.at[i, f'LR_{metric}_std'] = np.std(lr_values)\n",
    "                results_df.at[i, f'DL_{metric}_std'] = np.std(dl_values)\n",
    "    \n",
    "    # Add significance columns (based on p-values)\n",
    "    for metric in ['MAPE', 'MAE', 'RMSE', 'R2']:\n",
    "        results_df[f'{metric}_significant'] = results_df[f'{metric}_p_value'] < 0.05\n",
    "    \n",
    "    # Save aggregated results to CSV\n",
    "    results_df.to_csv(output_file, index=False)\n",
    "    \n",
    "    # CSV with individual repeat results\n",
    "    detailed_rows = []\n",
    "    \n",
    "    for i, row in summary_df.iterrows():\n",
    "        system_key = f\"{row['System']}_{row['Dataset']}\"\n",
    "        if system_key in all_metric_values:\n",
    "            # Get the number of repeats from any metric array\n",
    "            num_repeats = len(all_metric_values[system_key]['LR_MAPE'])\n",
    "            \n",
    "            for repeat_idx in range(num_repeats):\n",
    "                detailed_row = {\n",
    "                    'System': row['System'],\n",
    "                    'Dataset': row['Dataset'],\n",
    "                    'Repeat': repeat_idx + 1\n",
    "                }\n",
    "                \n",
    "                # Add all metric values for this repeat\n",
    "                for metric in ['MAPE', 'MAE', 'RMSE', 'R2']:\n",
    "                    if f'LR_{metric}' in all_metric_values[system_key]:\n",
    "                        detailed_row[f'LR_{metric}'] = all_metric_values[system_key][f'LR_{metric}'][repeat_idx]\n",
    "                    \n",
    "                    if f'DL_{metric}' in all_metric_values[system_key]:\n",
    "                        detailed_row[f'DL_{metric}'] = all_metric_values[system_key][f'DL_{metric}'][repeat_idx]\n",
    "                \n",
    "                detailed_rows.append(detailed_row)\n",
    "    \n",
    "    # Create and save the detailed DataFrame\n",
    "    detailed_output_file = output_file.replace('.csv', '_detailed.csv')\n",
    "    detailed_df = pd.DataFrame(detailed_rows)\n",
    "    detailed_df.to_csv(detailed_output_file, index=False)\n",
    "    \n",
    "    return output_file, detailed_output_file"
   ]
  },
  {
   "cell_type": "markdown",
   "metadata": {},
   "source": [
    "# Training"
   ]
  },
  {
   "cell_type": "code",
   "execution_count": 26,
   "metadata": {},
   "outputs": [],
   "source": [
    "# Specify the parameters\n",
    "systems = ['batlik', 'dconvert', 'h2', 'jump3r', 'kanzi', 'lrzip', 'x264', 'xz', 'z3']\n",
    "# systems = ['batlik']\n",
    "num_repeats = 10\n",
    "train_frac = 0.7\n",
    "random_seed = 1 \n",
    "\n",
    "# Neural network training parameters\n",
    "epochs = 100\n",
    "batch_size = 32\n",
    "patience = 10"
   ]
  },
  {
   "cell_type": "code",
   "execution_count": 29,
   "metadata": {},
   "outputs": [
    {
     "name": "stdout",
     "output_type": "stream",
     "text": [
      "\n",
      "==================================================\n",
      "Processing system: batlik\n",
      "==================================================\n",
      "\n",
      "> System: batlik, Dataset: corona.csv\n",
      "> Training data fraction: 0.7, Number of repeats: 10\n",
      "\n",
      "Repeat 1/10\n"
     ]
    },
    {
     "name": "stderr",
     "output_type": "stream",
     "text": [
      "c:\\Users\\rezab\\anaconda3\\Lib\\site-packages\\sklearn\\utils\\validation.py:2732: UserWarning: X has feature names, but StandardScaler was fitted without feature names\n",
      "  warnings.warn(\n"
     ]
    },
    {
     "name": "stdout",
     "output_type": "stream",
     "text": [
      "\u001b[1m18/18\u001b[0m \u001b[32m━━━━━━━━━━━━━━━━━━━━\u001b[0m\u001b[37m\u001b[0m \u001b[1m0s\u001b[0m 2ms/step \n",
      "LR - MAPE: 0.1216, MAE: 0.1800, RMSE: 0.2584, R2: 0.6844\n",
      "DL - MAPE: 0.0441, MAE: 0.0693, RMSE: 0.1097, R2: 0.9431\n",
      "\n",
      "Repeat 2/10\n"
     ]
    },
    {
     "name": "stderr",
     "output_type": "stream",
     "text": [
      "c:\\Users\\rezab\\anaconda3\\Lib\\site-packages\\sklearn\\utils\\validation.py:2732: UserWarning: X has feature names, but StandardScaler was fitted without feature names\n",
      "  warnings.warn(\n"
     ]
    },
    {
     "name": "stdout",
     "output_type": "stream",
     "text": [
      "\u001b[1m18/18\u001b[0m \u001b[32m━━━━━━━━━━━━━━━━━━━━\u001b[0m\u001b[37m\u001b[0m \u001b[1m0s\u001b[0m 2ms/step \n",
      "LR - MAPE: 0.1233, MAE: 0.1842, RMSE: 0.2676, R2: 0.6928\n",
      "DL - MAPE: 0.0455, MAE: 0.0769, RMSE: 0.1354, R2: 0.9213\n",
      "\n",
      "Repeat 3/10\n"
     ]
    },
    {
     "name": "stderr",
     "output_type": "stream",
     "text": [
      "c:\\Users\\rezab\\anaconda3\\Lib\\site-packages\\sklearn\\utils\\validation.py:2732: UserWarning: X has feature names, but StandardScaler was fitted without feature names\n",
      "  warnings.warn(\n"
     ]
    },
    {
     "name": "stdout",
     "output_type": "stream",
     "text": [
      "\u001b[1m18/18\u001b[0m \u001b[32m━━━━━━━━━━━━━━━━━━━━\u001b[0m\u001b[37m\u001b[0m \u001b[1m0s\u001b[0m 2ms/step \n",
      "LR - MAPE: 0.1246, MAE: 0.1829, RMSE: 0.2592, R2: 0.6843\n",
      "DL - MAPE: 0.0435, MAE: 0.0651, RMSE: 0.0964, R2: 0.9563\n",
      "\n",
      "Repeat 4/10\n"
     ]
    },
    {
     "name": "stderr",
     "output_type": "stream",
     "text": [
      "c:\\Users\\rezab\\anaconda3\\Lib\\site-packages\\sklearn\\utils\\validation.py:2732: UserWarning: X has feature names, but StandardScaler was fitted without feature names\n",
      "  warnings.warn(\n"
     ]
    },
    {
     "name": "stdout",
     "output_type": "stream",
     "text": [
      "\u001b[1m18/18\u001b[0m \u001b[32m━━━━━━━━━━━━━━━━━━━━\u001b[0m\u001b[37m\u001b[0m \u001b[1m0s\u001b[0m 2ms/step \n",
      "LR - MAPE: 0.1218, MAE: 0.1835, RMSE: 0.2679, R2: 0.7065\n",
      "DL - MAPE: 0.0381, MAE: 0.0620, RMSE: 0.1028, R2: 0.9568\n",
      "\n",
      "Repeat 5/10\n"
     ]
    },
    {
     "name": "stderr",
     "output_type": "stream",
     "text": [
      "c:\\Users\\rezab\\anaconda3\\Lib\\site-packages\\sklearn\\utils\\validation.py:2732: UserWarning: X has feature names, but StandardScaler was fitted without feature names\n",
      "  warnings.warn(\n"
     ]
    },
    {
     "name": "stdout",
     "output_type": "stream",
     "text": [
      "\u001b[1m18/18\u001b[0m \u001b[32m━━━━━━━━━━━━━━━━━━━━\u001b[0m\u001b[37m\u001b[0m \u001b[1m0s\u001b[0m 2ms/step \n",
      "LR - MAPE: 0.1216, MAE: 0.1781, RMSE: 0.2522, R2: 0.7001\n",
      "DL - MAPE: 0.0428, MAE: 0.0642, RMSE: 0.0952, R2: 0.9573\n",
      "\n",
      "Repeat 6/10\n"
     ]
    },
    {
     "name": "stderr",
     "output_type": "stream",
     "text": [
      "c:\\Users\\rezab\\anaconda3\\Lib\\site-packages\\sklearn\\utils\\validation.py:2732: UserWarning: X has feature names, but StandardScaler was fitted without feature names\n",
      "  warnings.warn(\n"
     ]
    },
    {
     "name": "stdout",
     "output_type": "stream",
     "text": [
      "\u001b[1m18/18\u001b[0m \u001b[32m━━━━━━━━━━━━━━━━━━━━\u001b[0m\u001b[37m\u001b[0m \u001b[1m0s\u001b[0m 1ms/step \n",
      "LR - MAPE: 0.1213, MAE: 0.1722, RMSE: 0.2469, R2: 0.6615\n",
      "DL - MAPE: 0.0409, MAE: 0.0613, RMSE: 0.0917, R2: 0.9533\n",
      "\n",
      "Repeat 7/10\n"
     ]
    },
    {
     "name": "stderr",
     "output_type": "stream",
     "text": [
      "c:\\Users\\rezab\\anaconda3\\Lib\\site-packages\\sklearn\\utils\\validation.py:2732: UserWarning: X has feature names, but StandardScaler was fitted without feature names\n",
      "  warnings.warn(\n"
     ]
    },
    {
     "name": "stdout",
     "output_type": "stream",
     "text": [
      "\u001b[1m18/18\u001b[0m \u001b[32m━━━━━━━━━━━━━━━━━━━━\u001b[0m\u001b[37m\u001b[0m \u001b[1m0s\u001b[0m 1ms/step \n",
      "LR - MAPE: 0.1243, MAE: 0.1845, RMSE: 0.2634, R2: 0.7018\n",
      "DL - MAPE: 0.0423, MAE: 0.0709, RMSE: 0.1233, R2: 0.9346\n",
      "\n",
      "Repeat 8/10\n"
     ]
    },
    {
     "name": "stderr",
     "output_type": "stream",
     "text": [
      "c:\\Users\\rezab\\anaconda3\\Lib\\site-packages\\sklearn\\utils\\validation.py:2732: UserWarning: X has feature names, but StandardScaler was fitted without feature names\n",
      "  warnings.warn(\n"
     ]
    },
    {
     "name": "stdout",
     "output_type": "stream",
     "text": [
      "\u001b[1m18/18\u001b[0m \u001b[32m━━━━━━━━━━━━━━━━━━━━\u001b[0m\u001b[37m\u001b[0m \u001b[1m0s\u001b[0m 1ms/step \n",
      "LR - MAPE: 0.1178, MAE: 0.1748, RMSE: 0.2537, R2: 0.6974\n",
      "DL - MAPE: 0.0428, MAE: 0.0666, RMSE: 0.1042, R2: 0.9490\n",
      "\n",
      "Repeat 9/10\n"
     ]
    },
    {
     "name": "stderr",
     "output_type": "stream",
     "text": [
      "c:\\Users\\rezab\\anaconda3\\Lib\\site-packages\\sklearn\\utils\\validation.py:2732: UserWarning: X has feature names, but StandardScaler was fitted without feature names\n",
      "  warnings.warn(\n"
     ]
    },
    {
     "name": "stdout",
     "output_type": "stream",
     "text": [
      "\u001b[1m18/18\u001b[0m \u001b[32m━━━━━━━━━━━━━━━━━━━━\u001b[0m\u001b[37m\u001b[0m \u001b[1m0s\u001b[0m 1ms/step \n",
      "LR - MAPE: 0.1212, MAE: 0.1863, RMSE: 0.2691, R2: 0.6901\n",
      "DL - MAPE: 0.0417, MAE: 0.0689, RMSE: 0.1134, R2: 0.9449\n",
      "\n",
      "Repeat 10/10\n"
     ]
    },
    {
     "name": "stderr",
     "output_type": "stream",
     "text": [
      "c:\\Users\\rezab\\anaconda3\\Lib\\site-packages\\sklearn\\utils\\validation.py:2732: UserWarning: X has feature names, but StandardScaler was fitted without feature names\n",
      "  warnings.warn(\n"
     ]
    },
    {
     "name": "stdout",
     "output_type": "stream",
     "text": [
      "\u001b[1m18/18\u001b[0m \u001b[32m━━━━━━━━━━━━━━━━━━━━\u001b[0m\u001b[37m\u001b[0m \u001b[1m0s\u001b[0m 3ms/step \n",
      "LR - MAPE: 0.1190, MAE: 0.1768, RMSE: 0.2542, R2: 0.7145\n",
      "DL - MAPE: 0.0406, MAE: 0.0645, RMSE: 0.1042, R2: 0.9520\n",
      "\n",
      "> System: batlik, Dataset: cranium.csv\n",
      "> Training data fraction: 0.7, Number of repeats: 10\n",
      "\n",
      "Repeat 1/10\n"
     ]
    },
    {
     "name": "stderr",
     "output_type": "stream",
     "text": [
      "c:\\Users\\rezab\\anaconda3\\Lib\\site-packages\\sklearn\\utils\\validation.py:2732: UserWarning: X has feature names, but StandardScaler was fitted without feature names\n",
      "  warnings.warn(\n"
     ]
    },
    {
     "name": "stdout",
     "output_type": "stream",
     "text": [
      "\u001b[1m18/18\u001b[0m \u001b[32m━━━━━━━━━━━━━━━━━━━━\u001b[0m\u001b[37m\u001b[0m \u001b[1m0s\u001b[0m 2ms/step \n",
      "LR - MAPE: 0.0330, MAE: 0.0702, RMSE: 0.0974, R2: 0.9715\n",
      "DL - MAPE: 0.0219, MAE: 0.0457, RMSE: 0.0628, R2: 0.9882\n",
      "\n",
      "Repeat 2/10\n"
     ]
    },
    {
     "name": "stderr",
     "output_type": "stream",
     "text": [
      "c:\\Users\\rezab\\anaconda3\\Lib\\site-packages\\sklearn\\utils\\validation.py:2732: UserWarning: X has feature names, but StandardScaler was fitted without feature names\n",
      "  warnings.warn(\n"
     ]
    },
    {
     "name": "stdout",
     "output_type": "stream",
     "text": [
      "\u001b[1m18/18\u001b[0m \u001b[32m━━━━━━━━━━━━━━━━━━━━\u001b[0m\u001b[37m\u001b[0m \u001b[1m0s\u001b[0m 1ms/step \n",
      "LR - MAPE: 0.0342, MAE: 0.0710, RMSE: 0.0996, R2: 0.9689\n",
      "DL - MAPE: 0.0245, MAE: 0.0521, RMSE: 0.0731, R2: 0.9832\n",
      "\n",
      "Repeat 3/10\n"
     ]
    },
    {
     "name": "stderr",
     "output_type": "stream",
     "text": [
      "c:\\Users\\rezab\\anaconda3\\Lib\\site-packages\\sklearn\\utils\\validation.py:2732: UserWarning: X has feature names, but StandardScaler was fitted without feature names\n",
      "  warnings.warn(\n"
     ]
    },
    {
     "name": "stdout",
     "output_type": "stream",
     "text": [
      "\u001b[1m18/18\u001b[0m \u001b[32m━━━━━━━━━━━━━━━━━━━━\u001b[0m\u001b[37m\u001b[0m \u001b[1m0s\u001b[0m 1ms/step \n",
      "LR - MAPE: 0.0333, MAE: 0.0692, RMSE: 0.0944, R2: 0.9706\n",
      "DL - MAPE: 0.0291, MAE: 0.0565, RMSE: 0.0723, R2: 0.9827\n",
      "\n",
      "Repeat 4/10\n"
     ]
    },
    {
     "name": "stderr",
     "output_type": "stream",
     "text": [
      "c:\\Users\\rezab\\anaconda3\\Lib\\site-packages\\sklearn\\utils\\validation.py:2732: UserWarning: X has feature names, but StandardScaler was fitted without feature names\n",
      "  warnings.warn(\n"
     ]
    },
    {
     "name": "stdout",
     "output_type": "stream",
     "text": [
      "\u001b[1m18/18\u001b[0m \u001b[32m━━━━━━━━━━━━━━━━━━━━\u001b[0m\u001b[37m\u001b[0m \u001b[1m0s\u001b[0m 1ms/step \n",
      "LR - MAPE: 0.0342, MAE: 0.0702, RMSE: 0.0968, R2: 0.9695\n",
      "DL - MAPE: 0.0208, MAE: 0.0413, RMSE: 0.0547, R2: 0.9903\n",
      "\n",
      "Repeat 5/10\n"
     ]
    },
    {
     "name": "stderr",
     "output_type": "stream",
     "text": [
      "c:\\Users\\rezab\\anaconda3\\Lib\\site-packages\\sklearn\\utils\\validation.py:2732: UserWarning: X has feature names, but StandardScaler was fitted without feature names\n",
      "  warnings.warn(\n"
     ]
    },
    {
     "name": "stdout",
     "output_type": "stream",
     "text": [
      "\u001b[1m18/18\u001b[0m \u001b[32m━━━━━━━━━━━━━━━━━━━━\u001b[0m\u001b[37m\u001b[0m \u001b[1m0s\u001b[0m 2ms/step \n",
      "LR - MAPE: 0.0324, MAE: 0.0674, RMSE: 0.0938, R2: 0.9716\n",
      "DL - MAPE: 0.0289, MAE: 0.0545, RMSE: 0.0697, R2: 0.9843\n",
      "\n",
      "Repeat 6/10\n"
     ]
    },
    {
     "name": "stderr",
     "output_type": "stream",
     "text": [
      "c:\\Users\\rezab\\anaconda3\\Lib\\site-packages\\sklearn\\utils\\validation.py:2732: UserWarning: X has feature names, but StandardScaler was fitted without feature names\n",
      "  warnings.warn(\n"
     ]
    },
    {
     "name": "stdout",
     "output_type": "stream",
     "text": [
      "\u001b[1m18/18\u001b[0m \u001b[32m━━━━━━━━━━━━━━━━━━━━\u001b[0m\u001b[37m\u001b[0m \u001b[1m0s\u001b[0m 1ms/step \n",
      "LR - MAPE: 0.0320, MAE: 0.0659, RMSE: 0.0932, R2: 0.9706\n",
      "DL - MAPE: 0.0217, MAE: 0.0413, RMSE: 0.0549, R2: 0.9898\n",
      "\n",
      "Repeat 7/10\n"
     ]
    },
    {
     "name": "stderr",
     "output_type": "stream",
     "text": [
      "c:\\Users\\rezab\\anaconda3\\Lib\\site-packages\\sklearn\\utils\\validation.py:2732: UserWarning: X has feature names, but StandardScaler was fitted without feature names\n",
      "  warnings.warn(\n"
     ]
    },
    {
     "name": "stdout",
     "output_type": "stream",
     "text": [
      "\u001b[1m18/18\u001b[0m \u001b[32m━━━━━━━━━━━━━━━━━━━━\u001b[0m\u001b[37m\u001b[0m \u001b[1m0s\u001b[0m 1ms/step \n",
      "LR - MAPE: 0.0336, MAE: 0.0689, RMSE: 0.0952, R2: 0.9705\n",
      "DL - MAPE: 0.0217, MAE: 0.0447, RMSE: 0.0613, R2: 0.9878\n",
      "\n",
      "Repeat 8/10\n"
     ]
    },
    {
     "name": "stderr",
     "output_type": "stream",
     "text": [
      "c:\\Users\\rezab\\anaconda3\\Lib\\site-packages\\sklearn\\utils\\validation.py:2732: UserWarning: X has feature names, but StandardScaler was fitted without feature names\n",
      "  warnings.warn(\n"
     ]
    },
    {
     "name": "stdout",
     "output_type": "stream",
     "text": [
      "\u001b[1m18/18\u001b[0m \u001b[32m━━━━━━━━━━━━━━━━━━━━\u001b[0m\u001b[37m\u001b[0m \u001b[1m0s\u001b[0m 1ms/step \n",
      "LR - MAPE: 0.0324, MAE: 0.0680, RMSE: 0.0939, R2: 0.9719\n",
      "DL - MAPE: 0.0228, MAE: 0.0441, RMSE: 0.0566, R2: 0.9898\n",
      "\n",
      "Repeat 9/10\n"
     ]
    },
    {
     "name": "stderr",
     "output_type": "stream",
     "text": [
      "c:\\Users\\rezab\\anaconda3\\Lib\\site-packages\\sklearn\\utils\\validation.py:2732: UserWarning: X has feature names, but StandardScaler was fitted without feature names\n",
      "  warnings.warn(\n"
     ]
    },
    {
     "name": "stdout",
     "output_type": "stream",
     "text": [
      "\u001b[1m18/18\u001b[0m \u001b[32m━━━━━━━━━━━━━━━━━━━━\u001b[0m\u001b[37m\u001b[0m \u001b[1m0s\u001b[0m 1ms/step \n",
      "LR - MAPE: 0.0339, MAE: 0.0708, RMSE: 0.0995, R2: 0.9669\n",
      "DL - MAPE: 0.0319, MAE: 0.0627, RMSE: 0.0789, R2: 0.9792\n",
      "\n",
      "Repeat 10/10\n"
     ]
    },
    {
     "name": "stderr",
     "output_type": "stream",
     "text": [
      "c:\\Users\\rezab\\anaconda3\\Lib\\site-packages\\sklearn\\utils\\validation.py:2732: UserWarning: X has feature names, but StandardScaler was fitted without feature names\n",
      "  warnings.warn(\n"
     ]
    },
    {
     "name": "stdout",
     "output_type": "stream",
     "text": [
      "\u001b[1m18/18\u001b[0m \u001b[32m━━━━━━━━━━━━━━━━━━━━\u001b[0m\u001b[37m\u001b[0m \u001b[1m0s\u001b[0m 2ms/step \n",
      "LR - MAPE: 0.0332, MAE: 0.0678, RMSE: 0.0932, R2: 0.9719\n",
      "DL - MAPE: 0.0266, MAE: 0.0522, RMSE: 0.0701, R2: 0.9841\n",
      "\n",
      "> System: batlik, Dataset: cubus.csv\n",
      "> Training data fraction: 0.7, Number of repeats: 10\n",
      "\n",
      "Repeat 1/10\n"
     ]
    },
    {
     "name": "stderr",
     "output_type": "stream",
     "text": [
      "c:\\Users\\rezab\\anaconda3\\Lib\\site-packages\\sklearn\\utils\\validation.py:2732: UserWarning: X has feature names, but StandardScaler was fitted without feature names\n",
      "  warnings.warn(\n"
     ]
    },
    {
     "name": "stdout",
     "output_type": "stream",
     "text": [
      "\u001b[1m18/18\u001b[0m \u001b[32m━━━━━━━━━━━━━━━━━━━━\u001b[0m\u001b[37m\u001b[0m \u001b[1m0s\u001b[0m 1ms/step \n",
      "LR - MAPE: 0.0388, MAE: 0.2403, RMSE: 0.3355, R2: 0.8994\n",
      "DL - MAPE: 0.0212, MAE: 0.1286, RMSE: 0.1678, R2: 0.9748\n",
      "\n",
      "Repeat 2/10\n"
     ]
    },
    {
     "name": "stderr",
     "output_type": "stream",
     "text": [
      "c:\\Users\\rezab\\anaconda3\\Lib\\site-packages\\sklearn\\utils\\validation.py:2732: UserWarning: X has feature names, but StandardScaler was fitted without feature names\n",
      "  warnings.warn(\n"
     ]
    },
    {
     "name": "stdout",
     "output_type": "stream",
     "text": [
      "\u001b[1m18/18\u001b[0m \u001b[32m━━━━━━━━━━━━━━━━━━━━\u001b[0m\u001b[37m\u001b[0m \u001b[1m0s\u001b[0m 1ms/step \n",
      "LR - MAPE: 0.0398, MAE: 0.2471, RMSE: 0.3418, R2: 0.9000\n",
      "DL - MAPE: 0.0267, MAE: 0.1670, RMSE: 0.2199, R2: 0.9586\n",
      "\n",
      "Repeat 3/10\n"
     ]
    },
    {
     "name": "stderr",
     "output_type": "stream",
     "text": [
      "c:\\Users\\rezab\\anaconda3\\Lib\\site-packages\\sklearn\\utils\\validation.py:2732: UserWarning: X has feature names, but StandardScaler was fitted without feature names\n",
      "  warnings.warn(\n"
     ]
    },
    {
     "name": "stdout",
     "output_type": "stream",
     "text": [
      "\u001b[1m18/18\u001b[0m \u001b[32m━━━━━━━━━━━━━━━━━━━━\u001b[0m\u001b[37m\u001b[0m \u001b[1m0s\u001b[0m 1ms/step \n",
      "LR - MAPE: 0.0403, MAE: 0.2488, RMSE: 0.3365, R2: 0.8980\n",
      "DL - MAPE: 0.0232, MAE: 0.1390, RMSE: 0.1833, R2: 0.9697\n",
      "\n",
      "Repeat 4/10\n"
     ]
    },
    {
     "name": "stderr",
     "output_type": "stream",
     "text": [
      "c:\\Users\\rezab\\anaconda3\\Lib\\site-packages\\sklearn\\utils\\validation.py:2732: UserWarning: X has feature names, but StandardScaler was fitted without feature names\n",
      "  warnings.warn(\n"
     ]
    },
    {
     "name": "stdout",
     "output_type": "stream",
     "text": [
      "\u001b[1m18/18\u001b[0m \u001b[32m━━━━━━━━━━━━━━━━━━━━\u001b[0m\u001b[37m\u001b[0m \u001b[1m0s\u001b[0m 1ms/step \n",
      "LR - MAPE: 0.0399, MAE: 0.2435, RMSE: 0.3297, R2: 0.9088\n",
      "DL - MAPE: 0.0222, MAE: 0.1363, RMSE: 0.1870, R2: 0.9707\n",
      "\n",
      "Repeat 5/10\n"
     ]
    },
    {
     "name": "stderr",
     "output_type": "stream",
     "text": [
      "c:\\Users\\rezab\\anaconda3\\Lib\\site-packages\\sklearn\\utils\\validation.py:2732: UserWarning: X has feature names, but StandardScaler was fitted without feature names\n",
      "  warnings.warn(\n"
     ]
    },
    {
     "name": "stdout",
     "output_type": "stream",
     "text": [
      "\u001b[1m18/18\u001b[0m \u001b[32m━━━━━━━━━━━━━━━━━━━━\u001b[0m\u001b[37m\u001b[0m \u001b[1m0s\u001b[0m 1ms/step \n",
      "LR - MAPE: 0.0389, MAE: 0.2364, RMSE: 0.3264, R2: 0.9132\n",
      "DL - MAPE: 0.0280, MAE: 0.1758, RMSE: 0.2287, R2: 0.9574\n",
      "\n",
      "Repeat 6/10\n"
     ]
    },
    {
     "name": "stderr",
     "output_type": "stream",
     "text": [
      "c:\\Users\\rezab\\anaconda3\\Lib\\site-packages\\sklearn\\utils\\validation.py:2732: UserWarning: X has feature names, but StandardScaler was fitted without feature names\n",
      "  warnings.warn(\n"
     ]
    },
    {
     "name": "stdout",
     "output_type": "stream",
     "text": [
      "\u001b[1m18/18\u001b[0m \u001b[32m━━━━━━━━━━━━━━━━━━━━\u001b[0m\u001b[37m\u001b[0m \u001b[1m0s\u001b[0m 2ms/step \n",
      "LR - MAPE: 0.0388, MAE: 0.2373, RMSE: 0.3265, R2: 0.9034\n",
      "DL - MAPE: 0.0204, MAE: 0.1277, RMSE: 0.1750, R2: 0.9722\n",
      "\n",
      "Repeat 7/10\n"
     ]
    },
    {
     "name": "stderr",
     "output_type": "stream",
     "text": [
      "c:\\Users\\rezab\\anaconda3\\Lib\\site-packages\\sklearn\\utils\\validation.py:2732: UserWarning: X has feature names, but StandardScaler was fitted without feature names\n",
      "  warnings.warn(\n"
     ]
    },
    {
     "name": "stdout",
     "output_type": "stream",
     "text": [
      "\u001b[1m18/18\u001b[0m \u001b[32m━━━━━━━━━━━━━━━━━━━━\u001b[0m\u001b[37m\u001b[0m \u001b[1m0s\u001b[0m 1ms/step \n",
      "LR - MAPE: 0.0390, MAE: 0.2408, RMSE: 0.3267, R2: 0.9138\n",
      "DL - MAPE: 0.0340, MAE: 0.2133, RMSE: 0.2677, R2: 0.9421\n",
      "\n",
      "Repeat 8/10\n"
     ]
    },
    {
     "name": "stderr",
     "output_type": "stream",
     "text": [
      "c:\\Users\\rezab\\anaconda3\\Lib\\site-packages\\sklearn\\utils\\validation.py:2732: UserWarning: X has feature names, but StandardScaler was fitted without feature names\n",
      "  warnings.warn(\n"
     ]
    },
    {
     "name": "stdout",
     "output_type": "stream",
     "text": [
      "\u001b[1m18/18\u001b[0m \u001b[32m━━━━━━━━━━━━━━━━━━━━\u001b[0m\u001b[37m\u001b[0m \u001b[1m0s\u001b[0m 2ms/step \n",
      "LR - MAPE: 0.0392, MAE: 0.2413, RMSE: 0.3391, R2: 0.9039\n",
      "DL - MAPE: 0.0270, MAE: 0.1599, RMSE: 0.2017, R2: 0.9660\n",
      "\n",
      "Repeat 9/10\n"
     ]
    },
    {
     "name": "stderr",
     "output_type": "stream",
     "text": [
      "c:\\Users\\rezab\\anaconda3\\Lib\\site-packages\\sklearn\\utils\\validation.py:2732: UserWarning: X has feature names, but StandardScaler was fitted without feature names\n",
      "  warnings.warn(\n"
     ]
    },
    {
     "name": "stdout",
     "output_type": "stream",
     "text": [
      "\u001b[1m18/18\u001b[0m \u001b[32m━━━━━━━━━━━━━━━━━━━━\u001b[0m\u001b[37m\u001b[0m \u001b[1m0s\u001b[0m 1ms/step \n",
      "LR - MAPE: 0.0395, MAE: 0.2437, RMSE: 0.3348, R2: 0.8984\n",
      "DL - MAPE: 0.0277, MAE: 0.1741, RMSE: 0.2332, R2: 0.9507\n",
      "\n",
      "Repeat 10/10\n"
     ]
    },
    {
     "name": "stderr",
     "output_type": "stream",
     "text": [
      "c:\\Users\\rezab\\anaconda3\\Lib\\site-packages\\sklearn\\utils\\validation.py:2732: UserWarning: X has feature names, but StandardScaler was fitted without feature names\n",
      "  warnings.warn(\n"
     ]
    },
    {
     "name": "stdout",
     "output_type": "stream",
     "text": [
      "\u001b[1m18/18\u001b[0m \u001b[32m━━━━━━━━━━━━━━━━━━━━\u001b[0m\u001b[37m\u001b[0m \u001b[1m0s\u001b[0m 2ms/step \n",
      "LR - MAPE: 0.0384, MAE: 0.2338, RMSE: 0.3113, R2: 0.9169\n",
      "DL - MAPE: 0.0202, MAE: 0.1268, RMSE: 0.1667, R2: 0.9762\n",
      "\n",
      "> System: batlik, Dataset: flame.csv\n",
      "> Training data fraction: 0.7, Number of repeats: 10\n",
      "\n",
      "Repeat 1/10\n"
     ]
    },
    {
     "name": "stderr",
     "output_type": "stream",
     "text": [
      "c:\\Users\\rezab\\anaconda3\\Lib\\site-packages\\sklearn\\utils\\validation.py:2732: UserWarning: X has feature names, but StandardScaler was fitted without feature names\n",
      "  warnings.warn(\n"
     ]
    },
    {
     "name": "stdout",
     "output_type": "stream",
     "text": [
      "\u001b[1m18/18\u001b[0m \u001b[32m━━━━━━━━━━━━━━━━━━━━\u001b[0m\u001b[37m\u001b[0m \u001b[1m0s\u001b[0m 1ms/step \n",
      "LR - MAPE: 0.0319, MAE: 0.0578, RMSE: 0.0767, R2: 0.9567\n",
      "DL - MAPE: 0.0216, MAE: 0.0390, RMSE: 0.0497, R2: 0.9818\n",
      "\n",
      "Repeat 2/10\n"
     ]
    },
    {
     "name": "stderr",
     "output_type": "stream",
     "text": [
      "c:\\Users\\rezab\\anaconda3\\Lib\\site-packages\\sklearn\\utils\\validation.py:2732: UserWarning: X has feature names, but StandardScaler was fitted without feature names\n",
      "  warnings.warn(\n"
     ]
    },
    {
     "name": "stdout",
     "output_type": "stream",
     "text": [
      "\u001b[1m18/18\u001b[0m \u001b[32m━━━━━━━━━━━━━━━━━━━━\u001b[0m\u001b[37m\u001b[0m \u001b[1m0s\u001b[0m 1ms/step \n",
      "LR - MAPE: 0.0322, MAE: 0.0582, RMSE: 0.0778, R2: 0.9560\n",
      "DL - MAPE: 0.0217, MAE: 0.0393, RMSE: 0.0526, R2: 0.9799\n",
      "\n",
      "Repeat 3/10\n"
     ]
    },
    {
     "name": "stderr",
     "output_type": "stream",
     "text": [
      "c:\\Users\\rezab\\anaconda3\\Lib\\site-packages\\sklearn\\utils\\validation.py:2732: UserWarning: X has feature names, but StandardScaler was fitted without feature names\n",
      "  warnings.warn(\n"
     ]
    },
    {
     "name": "stdout",
     "output_type": "stream",
     "text": [
      "\u001b[1m18/18\u001b[0m \u001b[32m━━━━━━━━━━━━━━━━━━━━\u001b[0m\u001b[37m\u001b[0m \u001b[1m0s\u001b[0m 1ms/step \n",
      "LR - MAPE: 0.0323, MAE: 0.0580, RMSE: 0.0765, R2: 0.9562\n",
      "DL - MAPE: 0.0204, MAE: 0.0363, RMSE: 0.0471, R2: 0.9834\n",
      "\n",
      "Repeat 4/10\n"
     ]
    },
    {
     "name": "stderr",
     "output_type": "stream",
     "text": [
      "c:\\Users\\rezab\\anaconda3\\Lib\\site-packages\\sklearn\\utils\\validation.py:2732: UserWarning: X has feature names, but StandardScaler was fitted without feature names\n",
      "  warnings.warn(\n"
     ]
    },
    {
     "name": "stdout",
     "output_type": "stream",
     "text": [
      "\u001b[1m18/18\u001b[0m \u001b[32m━━━━━━━━━━━━━━━━━━━━\u001b[0m\u001b[37m\u001b[0m \u001b[1m0s\u001b[0m 1ms/step \n",
      "LR - MAPE: 0.0328, MAE: 0.0587, RMSE: 0.0775, R2: 0.9561\n",
      "DL - MAPE: 0.0216, MAE: 0.0379, RMSE: 0.0490, R2: 0.9825\n",
      "\n",
      "Repeat 5/10\n"
     ]
    },
    {
     "name": "stderr",
     "output_type": "stream",
     "text": [
      "c:\\Users\\rezab\\anaconda3\\Lib\\site-packages\\sklearn\\utils\\validation.py:2732: UserWarning: X has feature names, but StandardScaler was fitted without feature names\n",
      "  warnings.warn(\n"
     ]
    },
    {
     "name": "stdout",
     "output_type": "stream",
     "text": [
      "\u001b[1m18/18\u001b[0m \u001b[32m━━━━━━━━━━━━━━━━━━━━\u001b[0m\u001b[37m\u001b[0m \u001b[1m0s\u001b[0m 1ms/step \n",
      "LR - MAPE: 0.0328, MAE: 0.0583, RMSE: 0.0759, R2: 0.9589\n",
      "DL - MAPE: 0.0281, MAE: 0.0473, RMSE: 0.0583, R2: 0.9757\n",
      "\n",
      "Repeat 6/10\n"
     ]
    },
    {
     "name": "stderr",
     "output_type": "stream",
     "text": [
      "c:\\Users\\rezab\\anaconda3\\Lib\\site-packages\\sklearn\\utils\\validation.py:2732: UserWarning: X has feature names, but StandardScaler was fitted without feature names\n",
      "  warnings.warn(\n"
     ]
    },
    {
     "name": "stdout",
     "output_type": "stream",
     "text": [
      "\u001b[1m18/18\u001b[0m \u001b[32m━━━━━━━━━━━━━━━━━━━━\u001b[0m\u001b[37m\u001b[0m \u001b[1m0s\u001b[0m 1ms/step \n",
      "LR - MAPE: 0.0303, MAE: 0.0543, RMSE: 0.0731, R2: 0.9589\n",
      "DL - MAPE: 0.0254, MAE: 0.0422, RMSE: 0.0554, R2: 0.9764\n",
      "\n",
      "Repeat 7/10\n"
     ]
    },
    {
     "name": "stderr",
     "output_type": "stream",
     "text": [
      "c:\\Users\\rezab\\anaconda3\\Lib\\site-packages\\sklearn\\utils\\validation.py:2732: UserWarning: X has feature names, but StandardScaler was fitted without feature names\n",
      "  warnings.warn(\n"
     ]
    },
    {
     "name": "stdout",
     "output_type": "stream",
     "text": [
      "\u001b[1m18/18\u001b[0m \u001b[32m━━━━━━━━━━━━━━━━━━━━\u001b[0m\u001b[37m\u001b[0m \u001b[1m0s\u001b[0m 1ms/step \n",
      "LR - MAPE: 0.0322, MAE: 0.0577, RMSE: 0.0772, R2: 0.9581\n",
      "DL - MAPE: 0.0231, MAE: 0.0404, RMSE: 0.0518, R2: 0.9811\n",
      "\n",
      "Repeat 8/10\n"
     ]
    },
    {
     "name": "stderr",
     "output_type": "stream",
     "text": [
      "c:\\Users\\rezab\\anaconda3\\Lib\\site-packages\\sklearn\\utils\\validation.py:2732: UserWarning: X has feature names, but StandardScaler was fitted without feature names\n",
      "  warnings.warn(\n"
     ]
    },
    {
     "name": "stdout",
     "output_type": "stream",
     "text": [
      "\u001b[1m18/18\u001b[0m \u001b[32m━━━━━━━━━━━━━━━━━━━━\u001b[0m\u001b[37m\u001b[0m \u001b[1m0s\u001b[0m 1ms/step \n",
      "LR - MAPE: 0.0313, MAE: 0.0566, RMSE: 0.0757, R2: 0.9589\n",
      "DL - MAPE: 0.0269, MAE: 0.0462, RMSE: 0.0571, R2: 0.9766\n",
      "\n",
      "Repeat 9/10\n"
     ]
    },
    {
     "name": "stderr",
     "output_type": "stream",
     "text": [
      "c:\\Users\\rezab\\anaconda3\\Lib\\site-packages\\sklearn\\utils\\validation.py:2732: UserWarning: X has feature names, but StandardScaler was fitted without feature names\n",
      "  warnings.warn(\n"
     ]
    },
    {
     "name": "stdout",
     "output_type": "stream",
     "text": [
      "\u001b[1m18/18\u001b[0m \u001b[32m━━━━━━━━━━━━━━━━━━━━\u001b[0m\u001b[37m\u001b[0m \u001b[1m0s\u001b[0m 1ms/step \n",
      "LR - MAPE: 0.0324, MAE: 0.0579, RMSE: 0.0775, R2: 0.9537\n",
      "DL - MAPE: 0.0252, MAE: 0.0435, RMSE: 0.0543, R2: 0.9773\n",
      "\n",
      "Repeat 10/10\n"
     ]
    },
    {
     "name": "stderr",
     "output_type": "stream",
     "text": [
      "c:\\Users\\rezab\\anaconda3\\Lib\\site-packages\\sklearn\\utils\\validation.py:2732: UserWarning: X has feature names, but StandardScaler was fitted without feature names\n",
      "  warnings.warn(\n"
     ]
    },
    {
     "name": "stdout",
     "output_type": "stream",
     "text": [
      "\u001b[1m18/18\u001b[0m \u001b[32m━━━━━━━━━━━━━━━━━━━━\u001b[0m\u001b[37m\u001b[0m \u001b[1m0s\u001b[0m 1ms/step \n",
      "LR - MAPE: 0.0316, MAE: 0.0562, RMSE: 0.0734, R2: 0.9599\n",
      "DL - MAPE: 0.0255, MAE: 0.0428, RMSE: 0.0539, R2: 0.9784\n",
      "\n",
      "> System: batlik, Dataset: france.csv\n",
      "> Training data fraction: 0.7, Number of repeats: 10\n",
      "\n",
      "Repeat 1/10\n"
     ]
    },
    {
     "name": "stderr",
     "output_type": "stream",
     "text": [
      "c:\\Users\\rezab\\anaconda3\\Lib\\site-packages\\sklearn\\utils\\validation.py:2732: UserWarning: X has feature names, but StandardScaler was fitted without feature names\n",
      "  warnings.warn(\n"
     ]
    },
    {
     "name": "stdout",
     "output_type": "stream",
     "text": [
      "\u001b[1m18/18\u001b[0m \u001b[32m━━━━━━━━━━━━━━━━━━━━\u001b[0m\u001b[37m\u001b[0m \u001b[1m0s\u001b[0m 1ms/step \n",
      "LR - MAPE: 0.0386, MAE: 0.1445, RMSE: 0.1896, R2: 0.9681\n",
      "DL - MAPE: 0.0261, MAE: 0.0899, RMSE: 0.1150, R2: 0.9883\n",
      "\n",
      "Repeat 2/10\n"
     ]
    },
    {
     "name": "stderr",
     "output_type": "stream",
     "text": [
      "c:\\Users\\rezab\\anaconda3\\Lib\\site-packages\\sklearn\\utils\\validation.py:2732: UserWarning: X has feature names, but StandardScaler was fitted without feature names\n",
      "  warnings.warn(\n"
     ]
    },
    {
     "name": "stdout",
     "output_type": "stream",
     "text": [
      "\u001b[1m18/18\u001b[0m \u001b[32m━━━━━━━━━━━━━━━━━━━━\u001b[0m\u001b[37m\u001b[0m \u001b[1m0s\u001b[0m 1ms/step \n",
      "LR - MAPE: 0.0411, MAE: 0.1502, RMSE: 0.1981, R2: 0.9635\n",
      "DL - MAPE: 0.0281, MAE: 0.1006, RMSE: 0.1332, R2: 0.9835\n",
      "\n",
      "Repeat 3/10\n"
     ]
    },
    {
     "name": "stderr",
     "output_type": "stream",
     "text": [
      "c:\\Users\\rezab\\anaconda3\\Lib\\site-packages\\sklearn\\utils\\validation.py:2732: UserWarning: X has feature names, but StandardScaler was fitted without feature names\n",
      "  warnings.warn(\n"
     ]
    },
    {
     "name": "stdout",
     "output_type": "stream",
     "text": [
      "\u001b[1m18/18\u001b[0m \u001b[32m━━━━━━━━━━━━━━━━━━━━\u001b[0m\u001b[37m\u001b[0m \u001b[1m0s\u001b[0m 2ms/step \n",
      "LR - MAPE: 0.0412, MAE: 0.1511, RMSE: 0.1968, R2: 0.9628\n",
      "DL - MAPE: 0.0243, MAE: 0.0863, RMSE: 0.1132, R2: 0.9877\n",
      "\n",
      "Repeat 4/10\n"
     ]
    },
    {
     "name": "stderr",
     "output_type": "stream",
     "text": [
      "c:\\Users\\rezab\\anaconda3\\Lib\\site-packages\\sklearn\\utils\\validation.py:2732: UserWarning: X has feature names, but StandardScaler was fitted without feature names\n",
      "  warnings.warn(\n"
     ]
    },
    {
     "name": "stdout",
     "output_type": "stream",
     "text": [
      "\u001b[1m18/18\u001b[0m \u001b[32m━━━━━━━━━━━━━━━━━━━━\u001b[0m\u001b[37m\u001b[0m \u001b[1m0s\u001b[0m 2ms/step \n",
      "LR - MAPE: 0.0403, MAE: 0.1463, RMSE: 0.1888, R2: 0.9663\n",
      "DL - MAPE: 0.0253, MAE: 0.0911, RMSE: 0.1203, R2: 0.9863\n",
      "\n",
      "Repeat 5/10\n"
     ]
    },
    {
     "name": "stderr",
     "output_type": "stream",
     "text": [
      "c:\\Users\\rezab\\anaconda3\\Lib\\site-packages\\sklearn\\utils\\validation.py:2732: UserWarning: X has feature names, but StandardScaler was fitted without feature names\n",
      "  warnings.warn(\n"
     ]
    },
    {
     "name": "stdout",
     "output_type": "stream",
     "text": [
      "\u001b[1m18/18\u001b[0m \u001b[32m━━━━━━━━━━━━━━━━━━━━\u001b[0m\u001b[37m\u001b[0m \u001b[1m0s\u001b[0m 1ms/step \n",
      "LR - MAPE: 0.0389, MAE: 0.1427, RMSE: 0.1903, R2: 0.9656\n",
      "DL - MAPE: 0.0289, MAE: 0.1012, RMSE: 0.1299, R2: 0.9840\n",
      "\n",
      "Repeat 6/10\n"
     ]
    },
    {
     "name": "stderr",
     "output_type": "stream",
     "text": [
      "c:\\Users\\rezab\\anaconda3\\Lib\\site-packages\\sklearn\\utils\\validation.py:2732: UserWarning: X has feature names, but StandardScaler was fitted without feature names\n",
      "  warnings.warn(\n"
     ]
    },
    {
     "name": "stdout",
     "output_type": "stream",
     "text": [
      "\u001b[1m18/18\u001b[0m \u001b[32m━━━━━━━━━━━━━━━━━━━━\u001b[0m\u001b[37m\u001b[0m \u001b[1m0s\u001b[0m 1ms/step \n",
      "LR - MAPE: 0.0381, MAE: 0.1386, RMSE: 0.1858, R2: 0.9655\n",
      "DL - MAPE: 0.0235, MAE: 0.0817, RMSE: 0.1076, R2: 0.9884\n",
      "\n",
      "Repeat 7/10\n"
     ]
    },
    {
     "name": "stderr",
     "output_type": "stream",
     "text": [
      "c:\\Users\\rezab\\anaconda3\\Lib\\site-packages\\sklearn\\utils\\validation.py:2732: UserWarning: X has feature names, but StandardScaler was fitted without feature names\n",
      "  warnings.warn(\n"
     ]
    },
    {
     "name": "stdout",
     "output_type": "stream",
     "text": [
      "\u001b[1m18/18\u001b[0m \u001b[32m━━━━━━━━━━━━━━━━━━━━\u001b[0m\u001b[37m\u001b[0m \u001b[1m0s\u001b[0m 1ms/step \n",
      "LR - MAPE: 0.0386, MAE: 0.1410, RMSE: 0.1862, R2: 0.9664\n",
      "DL - MAPE: 0.0229, MAE: 0.0805, RMSE: 0.1048, R2: 0.9894\n",
      "\n",
      "Repeat 8/10\n"
     ]
    },
    {
     "name": "stderr",
     "output_type": "stream",
     "text": [
      "c:\\Users\\rezab\\anaconda3\\Lib\\site-packages\\sklearn\\utils\\validation.py:2732: UserWarning: X has feature names, but StandardScaler was fitted without feature names\n",
      "  warnings.warn(\n"
     ]
    },
    {
     "name": "stdout",
     "output_type": "stream",
     "text": [
      "\u001b[1m18/18\u001b[0m \u001b[32m━━━━━━━━━━━━━━━━━━━━\u001b[0m\u001b[37m\u001b[0m \u001b[1m0s\u001b[0m 2ms/step \n",
      "LR - MAPE: 0.0386, MAE: 0.1422, RMSE: 0.1899, R2: 0.9662\n",
      "DL - MAPE: 0.0270, MAE: 0.0945, RMSE: 0.1225, R2: 0.9859\n",
      "\n",
      "Repeat 9/10\n"
     ]
    },
    {
     "name": "stderr",
     "output_type": "stream",
     "text": [
      "c:\\Users\\rezab\\anaconda3\\Lib\\site-packages\\sklearn\\utils\\validation.py:2732: UserWarning: X has feature names, but StandardScaler was fitted without feature names\n",
      "  warnings.warn(\n"
     ]
    },
    {
     "name": "stdout",
     "output_type": "stream",
     "text": [
      "\u001b[1m18/18\u001b[0m \u001b[32m━━━━━━━━━━━━━━━━━━━━\u001b[0m\u001b[37m\u001b[0m \u001b[1m0s\u001b[0m 2ms/step \n",
      "LR - MAPE: 0.0387, MAE: 0.1433, RMSE: 0.1927, R2: 0.9634\n",
      "DL - MAPE: 0.0235, MAE: 0.0833, RMSE: 0.1087, R2: 0.9884\n",
      "\n",
      "Repeat 10/10\n"
     ]
    },
    {
     "name": "stderr",
     "output_type": "stream",
     "text": [
      "c:\\Users\\rezab\\anaconda3\\Lib\\site-packages\\sklearn\\utils\\validation.py:2732: UserWarning: X has feature names, but StandardScaler was fitted without feature names\n",
      "  warnings.warn(\n"
     ]
    },
    {
     "name": "stdout",
     "output_type": "stream",
     "text": [
      "\u001b[1m18/18\u001b[0m \u001b[32m━━━━━━━━━━━━━━━━━━━━\u001b[0m\u001b[37m\u001b[0m \u001b[1m0s\u001b[0m 1ms/step \n",
      "LR - MAPE: 0.0391, MAE: 0.1424, RMSE: 0.1885, R2: 0.9661\n",
      "DL - MAPE: 0.0244, MAE: 0.0850, RMSE: 0.1110, R2: 0.9882\n",
      "\n",
      "> System: batlik, Dataset: frisco.csv\n",
      "> Training data fraction: 0.7, Number of repeats: 10\n",
      "\n",
      "Repeat 1/10\n"
     ]
    },
    {
     "name": "stderr",
     "output_type": "stream",
     "text": [
      "c:\\Users\\rezab\\anaconda3\\Lib\\site-packages\\sklearn\\utils\\validation.py:2732: UserWarning: X has feature names, but StandardScaler was fitted without feature names\n",
      "  warnings.warn(\n"
     ]
    },
    {
     "name": "stdout",
     "output_type": "stream",
     "text": [
      "\u001b[1m18/18\u001b[0m \u001b[32m━━━━━━━━━━━━━━━━━━━━\u001b[0m\u001b[37m\u001b[0m \u001b[1m0s\u001b[0m 1ms/step \n",
      "LR - MAPE: 0.0498, MAE: 0.2433, RMSE: 0.3261, R2: 0.8717\n",
      "DL - MAPE: 0.0413, MAE: 0.1937, RMSE: 0.2466, R2: 0.9266\n",
      "\n",
      "Repeat 2/10\n"
     ]
    },
    {
     "name": "stderr",
     "output_type": "stream",
     "text": [
      "c:\\Users\\rezab\\anaconda3\\Lib\\site-packages\\sklearn\\utils\\validation.py:2732: UserWarning: X has feature names, but StandardScaler was fitted without feature names\n",
      "  warnings.warn(\n"
     ]
    },
    {
     "name": "stdout",
     "output_type": "stream",
     "text": [
      "\u001b[1m18/18\u001b[0m \u001b[32m━━━━━━━━━━━━━━━━━━━━\u001b[0m\u001b[37m\u001b[0m \u001b[1m0s\u001b[0m 2ms/step \n",
      "LR - MAPE: 0.0508, MAE: 0.2470, RMSE: 0.3393, R2: 0.8664\n",
      "DL - MAPE: 0.0366, MAE: 0.1731, RMSE: 0.2240, R2: 0.9418\n",
      "\n",
      "Repeat 3/10\n"
     ]
    },
    {
     "name": "stderr",
     "output_type": "stream",
     "text": [
      "c:\\Users\\rezab\\anaconda3\\Lib\\site-packages\\sklearn\\utils\\validation.py:2732: UserWarning: X has feature names, but StandardScaler was fitted without feature names\n",
      "  warnings.warn(\n"
     ]
    },
    {
     "name": "stdout",
     "output_type": "stream",
     "text": [
      "\u001b[1m18/18\u001b[0m \u001b[32m━━━━━━━━━━━━━━━━━━━━\u001b[0m\u001b[37m\u001b[0m \u001b[1m0s\u001b[0m 2ms/step \n",
      "LR - MAPE: 0.0523, MAE: 0.2528, RMSE: 0.3349, R2: 0.8591\n",
      "DL - MAPE: 0.0346, MAE: 0.1614, RMSE: 0.2108, R2: 0.9442\n",
      "\n",
      "Repeat 4/10\n"
     ]
    },
    {
     "name": "stderr",
     "output_type": "stream",
     "text": [
      "c:\\Users\\rezab\\anaconda3\\Lib\\site-packages\\sklearn\\utils\\validation.py:2732: UserWarning: X has feature names, but StandardScaler was fitted without feature names\n",
      "  warnings.warn(\n"
     ]
    },
    {
     "name": "stdout",
     "output_type": "stream",
     "text": [
      "\u001b[1m18/18\u001b[0m \u001b[32m━━━━━━━━━━━━━━━━━━━━\u001b[0m\u001b[37m\u001b[0m \u001b[1m0s\u001b[0m 1ms/step \n",
      "LR - MAPE: 0.0524, MAE: 0.2533, RMSE: 0.3429, R2: 0.8547\n",
      "DL - MAPE: 0.0352, MAE: 0.1620, RMSE: 0.2054, R2: 0.9479\n",
      "\n",
      "Repeat 5/10\n"
     ]
    },
    {
     "name": "stderr",
     "output_type": "stream",
     "text": [
      "c:\\Users\\rezab\\anaconda3\\Lib\\site-packages\\sklearn\\utils\\validation.py:2732: UserWarning: X has feature names, but StandardScaler was fitted without feature names\n",
      "  warnings.warn(\n"
     ]
    },
    {
     "name": "stdout",
     "output_type": "stream",
     "text": [
      "\u001b[1m18/18\u001b[0m \u001b[32m━━━━━━━━━━━━━━━━━━━━\u001b[0m\u001b[37m\u001b[0m \u001b[1m0s\u001b[0m 1ms/step \n",
      "LR - MAPE: 0.0502, MAE: 0.2437, RMSE: 0.3258, R2: 0.8729\n",
      "DL - MAPE: 0.0366, MAE: 0.1766, RMSE: 0.2262, R2: 0.9387\n",
      "\n",
      "Repeat 6/10\n"
     ]
    },
    {
     "name": "stderr",
     "output_type": "stream",
     "text": [
      "c:\\Users\\rezab\\anaconda3\\Lib\\site-packages\\sklearn\\utils\\validation.py:2732: UserWarning: X has feature names, but StandardScaler was fitted without feature names\n",
      "  warnings.warn(\n"
     ]
    },
    {
     "name": "stdout",
     "output_type": "stream",
     "text": [
      "\u001b[1m18/18\u001b[0m \u001b[32m━━━━━━━━━━━━━━━━━━━━\u001b[0m\u001b[37m\u001b[0m \u001b[1m0s\u001b[0m 1ms/step \n",
      "LR - MAPE: 0.0506, MAE: 0.2396, RMSE: 0.3171, R2: 0.8704\n",
      "DL - MAPE: 0.0357, MAE: 0.1615, RMSE: 0.2059, R2: 0.9454\n",
      "\n",
      "Repeat 7/10\n"
     ]
    },
    {
     "name": "stderr",
     "output_type": "stream",
     "text": [
      "c:\\Users\\rezab\\anaconda3\\Lib\\site-packages\\sklearn\\utils\\validation.py:2732: UserWarning: X has feature names, but StandardScaler was fitted without feature names\n",
      "  warnings.warn(\n"
     ]
    },
    {
     "name": "stdout",
     "output_type": "stream",
     "text": [
      "\u001b[1m18/18\u001b[0m \u001b[32m━━━━━━━━━━━━━━━━━━━━\u001b[0m\u001b[37m\u001b[0m \u001b[1m0s\u001b[0m 1ms/step \n",
      "LR - MAPE: 0.0527, MAE: 0.2549, RMSE: 0.3439, R2: 0.8607\n",
      "DL - MAPE: 0.0372, MAE: 0.1804, RMSE: 0.2420, R2: 0.9310\n",
      "\n",
      "Repeat 8/10\n"
     ]
    },
    {
     "name": "stderr",
     "output_type": "stream",
     "text": [
      "c:\\Users\\rezab\\anaconda3\\Lib\\site-packages\\sklearn\\utils\\validation.py:2732: UserWarning: X has feature names, but StandardScaler was fitted without feature names\n",
      "  warnings.warn(\n"
     ]
    },
    {
     "name": "stdout",
     "output_type": "stream",
     "text": [
      "\u001b[1m18/18\u001b[0m \u001b[32m━━━━━━━━━━━━━━━━━━━━\u001b[0m\u001b[37m\u001b[0m \u001b[1m0s\u001b[0m 1ms/step \n",
      "LR - MAPE: 0.0487, MAE: 0.2396, RMSE: 0.3235, R2: 0.8706\n",
      "DL - MAPE: 0.0372, MAE: 0.1742, RMSE: 0.2241, R2: 0.9379\n",
      "\n",
      "Repeat 9/10\n"
     ]
    },
    {
     "name": "stderr",
     "output_type": "stream",
     "text": [
      "c:\\Users\\rezab\\anaconda3\\Lib\\site-packages\\sklearn\\utils\\validation.py:2732: UserWarning: X has feature names, but StandardScaler was fitted without feature names\n",
      "  warnings.warn(\n"
     ]
    },
    {
     "name": "stdout",
     "output_type": "stream",
     "text": [
      "\u001b[1m18/18\u001b[0m \u001b[32m━━━━━━━━━━━━━━━━━━━━\u001b[0m\u001b[37m\u001b[0m \u001b[1m0s\u001b[0m 2ms/step \n",
      "LR - MAPE: 0.0497, MAE: 0.2431, RMSE: 0.3334, R2: 0.8589\n",
      "DL - MAPE: 0.0325, MAE: 0.1533, RMSE: 0.2065, R2: 0.9458\n",
      "\n",
      "Repeat 10/10\n"
     ]
    },
    {
     "name": "stderr",
     "output_type": "stream",
     "text": [
      "c:\\Users\\rezab\\anaconda3\\Lib\\site-packages\\sklearn\\utils\\validation.py:2732: UserWarning: X has feature names, but StandardScaler was fitted without feature names\n",
      "  warnings.warn(\n"
     ]
    },
    {
     "name": "stdout",
     "output_type": "stream",
     "text": [
      "\u001b[1m18/18\u001b[0m \u001b[32m━━━━━━━━━━━━━━━━━━━━\u001b[0m\u001b[37m\u001b[0m \u001b[1m0s\u001b[0m 2ms/step \n",
      "LR - MAPE: 0.0510, MAE: 0.2444, RMSE: 0.3284, R2: 0.8644\n",
      "DL - MAPE: 0.0337, MAE: 0.1570, RMSE: 0.1988, R2: 0.9503\n",
      "\n",
      "> System: batlik, Dataset: jelly.csv\n",
      "> Training data fraction: 0.7, Number of repeats: 10\n",
      "\n",
      "Repeat 1/10\n"
     ]
    },
    {
     "name": "stderr",
     "output_type": "stream",
     "text": [
      "c:\\Users\\rezab\\anaconda3\\Lib\\site-packages\\sklearn\\utils\\validation.py:2732: UserWarning: X has feature names, but StandardScaler was fitted without feature names\n",
      "  warnings.warn(\n"
     ]
    },
    {
     "name": "stdout",
     "output_type": "stream",
     "text": [
      "\u001b[1m18/18\u001b[0m \u001b[32m━━━━━━━━━━━━━━━━━━━━\u001b[0m\u001b[37m\u001b[0m \u001b[1m0s\u001b[0m 1ms/step \n",
      "LR - MAPE: 0.1669, MAE: 0.3170, RMSE: 0.4290, R2: 0.5855\n",
      "DL - MAPE: 0.0518, MAE: 0.1529, RMSE: 0.4576, R2: 0.5284\n",
      "\n",
      "Repeat 2/10\n"
     ]
    },
    {
     "name": "stderr",
     "output_type": "stream",
     "text": [
      "c:\\Users\\rezab\\anaconda3\\Lib\\site-packages\\sklearn\\utils\\validation.py:2732: UserWarning: X has feature names, but StandardScaler was fitted without feature names\n",
      "  warnings.warn(\n"
     ]
    },
    {
     "name": "stdout",
     "output_type": "stream",
     "text": [
      "\u001b[1m18/18\u001b[0m \u001b[32m━━━━━━━━━━━━━━━━━━━━\u001b[0m\u001b[37m\u001b[0m \u001b[1m0s\u001b[0m 1ms/step \n",
      "LR - MAPE: 0.1725, MAE: 0.3302, RMSE: 0.4543, R2: 0.5831\n",
      "DL - MAPE: 0.0527, MAE: 0.1579, RMSE: 0.4647, R2: 0.5638\n",
      "\n",
      "Repeat 3/10\n"
     ]
    },
    {
     "name": "stderr",
     "output_type": "stream",
     "text": [
      "c:\\Users\\rezab\\anaconda3\\Lib\\site-packages\\sklearn\\utils\\validation.py:2732: UserWarning: X has feature names, but StandardScaler was fitted without feature names\n",
      "  warnings.warn(\n"
     ]
    },
    {
     "name": "stdout",
     "output_type": "stream",
     "text": [
      "\u001b[1m18/18\u001b[0m \u001b[32m━━━━━━━━━━━━━━━━━━━━\u001b[0m\u001b[37m\u001b[0m \u001b[1m0s\u001b[0m 1ms/step \n",
      "LR - MAPE: 0.1736, MAE: 0.3243, RMSE: 0.4347, R2: 0.5701\n",
      "DL - MAPE: 0.0502, MAE: 0.1484, RMSE: 0.4551, R2: 0.5288\n",
      "\n",
      "Repeat 4/10\n"
     ]
    },
    {
     "name": "stderr",
     "output_type": "stream",
     "text": [
      "c:\\Users\\rezab\\anaconda3\\Lib\\site-packages\\sklearn\\utils\\validation.py:2732: UserWarning: X has feature names, but StandardScaler was fitted without feature names\n",
      "  warnings.warn(\n"
     ]
    },
    {
     "name": "stdout",
     "output_type": "stream",
     "text": [
      "\u001b[1m18/18\u001b[0m \u001b[32m━━━━━━━━━━━━━━━━━━━━\u001b[0m\u001b[37m\u001b[0m \u001b[1m0s\u001b[0m 1ms/step \n",
      "LR - MAPE: 0.1701, MAE: 0.3310, RMSE: 0.4734, R2: 0.5816\n",
      "DL - MAPE: 0.0591, MAE: 0.1838, RMSE: 0.5420, R2: 0.4516\n",
      "\n",
      "Repeat 5/10\n"
     ]
    },
    {
     "name": "stderr",
     "output_type": "stream",
     "text": [
      "c:\\Users\\rezab\\anaconda3\\Lib\\site-packages\\sklearn\\utils\\validation.py:2732: UserWarning: X has feature names, but StandardScaler was fitted without feature names\n",
      "  warnings.warn(\n"
     ]
    },
    {
     "name": "stdout",
     "output_type": "stream",
     "text": [
      "\u001b[1m18/18\u001b[0m \u001b[32m━━━━━━━━━━━━━━━━━━━━\u001b[0m\u001b[37m\u001b[0m \u001b[1m0s\u001b[0m 2ms/step \n",
      "LR - MAPE: 0.1705, MAE: 0.3197, RMSE: 0.4293, R2: 0.5879\n",
      "DL - MAPE: 0.0492, MAE: 0.1389, RMSE: 0.4144, R2: 0.6160\n",
      "\n",
      "Repeat 6/10\n"
     ]
    },
    {
     "name": "stderr",
     "output_type": "stream",
     "text": [
      "c:\\Users\\rezab\\anaconda3\\Lib\\site-packages\\sklearn\\utils\\validation.py:2732: UserWarning: X has feature names, but StandardScaler was fitted without feature names\n",
      "  warnings.warn(\n"
     ]
    },
    {
     "name": "stdout",
     "output_type": "stream",
     "text": [
      "\u001b[1m18/18\u001b[0m \u001b[32m━━━━━━━━━━━━━━━━━━━━\u001b[0m\u001b[37m\u001b[0m \u001b[1m0s\u001b[0m 1ms/step \n",
      "LR - MAPE: 0.1728, MAE: 0.3100, RMSE: 0.4076, R2: 0.5371\n",
      "DL - MAPE: 0.0309, MAE: 0.0599, RMSE: 0.1153, R2: 0.9630\n",
      "\n",
      "Repeat 7/10\n"
     ]
    },
    {
     "name": "stderr",
     "output_type": "stream",
     "text": [
      "c:\\Users\\rezab\\anaconda3\\Lib\\site-packages\\sklearn\\utils\\validation.py:2732: UserWarning: X has feature names, but StandardScaler was fitted without feature names\n",
      "  warnings.warn(\n"
     ]
    },
    {
     "name": "stdout",
     "output_type": "stream",
     "text": [
      "\u001b[1m18/18\u001b[0m \u001b[32m━━━━━━━━━━━━━━━━━━━━\u001b[0m\u001b[37m\u001b[0m \u001b[1m0s\u001b[0m 1ms/step \n",
      "LR - MAPE: 0.1741, MAE: 0.3308, RMSE: 0.4517, R2: 0.5871\n",
      "DL - MAPE: 0.0552, MAE: 0.1711, RMSE: 0.5124, R2: 0.4686\n",
      "\n",
      "Repeat 8/10\n"
     ]
    },
    {
     "name": "stderr",
     "output_type": "stream",
     "text": [
      "c:\\Users\\rezab\\anaconda3\\Lib\\site-packages\\sklearn\\utils\\validation.py:2732: UserWarning: X has feature names, but StandardScaler was fitted without feature names\n",
      "  warnings.warn(\n"
     ]
    },
    {
     "name": "stdout",
     "output_type": "stream",
     "text": [
      "\u001b[1m18/18\u001b[0m \u001b[32m━━━━━━━━━━━━━━━━━━━━\u001b[0m\u001b[37m\u001b[0m \u001b[1m0s\u001b[0m 1ms/step \n",
      "LR - MAPE: 0.1632, MAE: 0.3132, RMSE: 0.4290, R2: 0.5942\n",
      "DL - MAPE: 0.0534, MAE: 0.1563, RMSE: 0.4691, R2: 0.5149\n",
      "\n",
      "Repeat 9/10\n"
     ]
    },
    {
     "name": "stderr",
     "output_type": "stream",
     "text": [
      "c:\\Users\\rezab\\anaconda3\\Lib\\site-packages\\sklearn\\utils\\validation.py:2732: UserWarning: X has feature names, but StandardScaler was fitted without feature names\n",
      "  warnings.warn(\n"
     ]
    },
    {
     "name": "stdout",
     "output_type": "stream",
     "text": [
      "\u001b[1m18/18\u001b[0m \u001b[32m━━━━━━━━━━━━━━━━━━━━\u001b[0m\u001b[37m\u001b[0m \u001b[1m0s\u001b[0m 1ms/step \n",
      "LR - MAPE: 0.1673, MAE: 0.3312, RMSE: 0.4625, R2: 0.5770\n",
      "DL - MAPE: 0.0523, MAE: 0.1558, RMSE: 0.4452, R2: 0.6080\n",
      "\n",
      "Repeat 10/10\n"
     ]
    },
    {
     "name": "stderr",
     "output_type": "stream",
     "text": [
      "c:\\Users\\rezab\\anaconda3\\Lib\\site-packages\\sklearn\\utils\\validation.py:2732: UserWarning: X has feature names, but StandardScaler was fitted without feature names\n",
      "  warnings.warn(\n"
     ]
    },
    {
     "name": "stdout",
     "output_type": "stream",
     "text": [
      "\u001b[1m18/18\u001b[0m \u001b[32m━━━━━━━━━━━━━━━━━━━━\u001b[0m\u001b[37m\u001b[0m \u001b[1m0s\u001b[0m 1ms/step \n",
      "LR - MAPE: 0.1675, MAE: 0.3186, RMSE: 0.4399, R2: 0.5926\n",
      "DL - MAPE: 0.0569, MAE: 0.1677, RMSE: 0.4925, R2: 0.4894\n",
      "\n",
      "> System: batlik, Dataset: karte.csv\n",
      "> Training data fraction: 0.7, Number of repeats: 10\n",
      "\n",
      "Repeat 1/10\n"
     ]
    },
    {
     "name": "stderr",
     "output_type": "stream",
     "text": [
      "c:\\Users\\rezab\\anaconda3\\Lib\\site-packages\\sklearn\\utils\\validation.py:2732: UserWarning: X has feature names, but StandardScaler was fitted without feature names\n",
      "  warnings.warn(\n"
     ]
    },
    {
     "name": "stdout",
     "output_type": "stream",
     "text": [
      "\u001b[1m18/18\u001b[0m \u001b[32m━━━━━━━━━━━━━━━━━━━━\u001b[0m\u001b[37m\u001b[0m \u001b[1m0s\u001b[0m 1ms/step \n",
      "LR - MAPE: 0.1517, MAE: 1.4934, RMSE: 1.9130, R2: 0.7745\n",
      "DL - MAPE: 0.0290, MAE: 0.3602, RMSE: 0.4779, R2: 0.9859\n",
      "\n",
      "Repeat 2/10\n"
     ]
    },
    {
     "name": "stderr",
     "output_type": "stream",
     "text": [
      "c:\\Users\\rezab\\anaconda3\\Lib\\site-packages\\sklearn\\utils\\validation.py:2732: UserWarning: X has feature names, but StandardScaler was fitted without feature names\n",
      "  warnings.warn(\n"
     ]
    },
    {
     "name": "stdout",
     "output_type": "stream",
     "text": [
      "\u001b[1m18/18\u001b[0m \u001b[32m━━━━━━━━━━━━━━━━━━━━\u001b[0m\u001b[37m\u001b[0m \u001b[1m0s\u001b[0m 1ms/step \n",
      "LR - MAPE: 0.1511, MAE: 1.5023, RMSE: 1.8929, R2: 0.7886\n",
      "DL - MAPE: 0.0335, MAE: 0.3994, RMSE: 0.5185, R2: 0.9841\n",
      "\n",
      "Repeat 3/10\n"
     ]
    },
    {
     "name": "stderr",
     "output_type": "stream",
     "text": [
      "c:\\Users\\rezab\\anaconda3\\Lib\\site-packages\\sklearn\\utils\\validation.py:2732: UserWarning: X has feature names, but StandardScaler was fitted without feature names\n",
      "  warnings.warn(\n"
     ]
    },
    {
     "name": "stdout",
     "output_type": "stream",
     "text": [
      "\u001b[1m18/18\u001b[0m \u001b[32m━━━━━━━━━━━━━━━━━━━━\u001b[0m\u001b[37m\u001b[0m \u001b[1m0s\u001b[0m 1ms/step \n",
      "LR - MAPE: 0.1509, MAE: 1.5006, RMSE: 1.8813, R2: 0.7889\n",
      "DL - MAPE: 0.0232, MAE: 0.2909, RMSE: 0.3866, R2: 0.9911\n",
      "\n",
      "Repeat 4/10\n"
     ]
    },
    {
     "name": "stderr",
     "output_type": "stream",
     "text": [
      "c:\\Users\\rezab\\anaconda3\\Lib\\site-packages\\sklearn\\utils\\validation.py:2732: UserWarning: X has feature names, but StandardScaler was fitted without feature names\n",
      "  warnings.warn(\n"
     ]
    },
    {
     "name": "stdout",
     "output_type": "stream",
     "text": [
      "\u001b[1m18/18\u001b[0m \u001b[32m━━━━━━━━━━━━━━━━━━━━\u001b[0m\u001b[37m\u001b[0m \u001b[1m0s\u001b[0m 2ms/step \n",
      "LR - MAPE: 0.1532, MAE: 1.5002, RMSE: 1.8559, R2: 0.8012\n",
      "DL - MAPE: 0.0217, MAE: 0.2601, RMSE: 0.3451, R2: 0.9931\n",
      "\n",
      "Repeat 5/10\n"
     ]
    },
    {
     "name": "stderr",
     "output_type": "stream",
     "text": [
      "c:\\Users\\rezab\\anaconda3\\Lib\\site-packages\\sklearn\\utils\\validation.py:2732: UserWarning: X has feature names, but StandardScaler was fitted without feature names\n",
      "  warnings.warn(\n"
     ]
    },
    {
     "name": "stdout",
     "output_type": "stream",
     "text": [
      "\u001b[1m18/18\u001b[0m \u001b[32m━━━━━━━━━━━━━━━━━━━━\u001b[0m\u001b[37m\u001b[0m \u001b[1m0s\u001b[0m 2ms/step \n",
      "LR - MAPE: 0.1526, MAE: 1.4911, RMSE: 1.8852, R2: 0.7871\n",
      "DL - MAPE: 0.0268, MAE: 0.3276, RMSE: 0.4444, R2: 0.9882\n",
      "\n",
      "Repeat 6/10\n"
     ]
    },
    {
     "name": "stderr",
     "output_type": "stream",
     "text": [
      "c:\\Users\\rezab\\anaconda3\\Lib\\site-packages\\sklearn\\utils\\validation.py:2732: UserWarning: X has feature names, but StandardScaler was fitted without feature names\n",
      "  warnings.warn(\n"
     ]
    },
    {
     "name": "stdout",
     "output_type": "stream",
     "text": [
      "\u001b[1m18/18\u001b[0m \u001b[32m━━━━━━━━━━━━━━━━━━━━\u001b[0m\u001b[37m\u001b[0m \u001b[1m0s\u001b[0m 1ms/step \n",
      "LR - MAPE: 0.1496, MAE: 1.4893, RMSE: 1.8549, R2: 0.7925\n",
      "DL - MAPE: 0.0244, MAE: 0.2967, RMSE: 0.3855, R2: 0.9910\n",
      "\n",
      "Repeat 7/10\n"
     ]
    },
    {
     "name": "stderr",
     "output_type": "stream",
     "text": [
      "c:\\Users\\rezab\\anaconda3\\Lib\\site-packages\\sklearn\\utils\\validation.py:2732: UserWarning: X has feature names, but StandardScaler was fitted without feature names\n",
      "  warnings.warn(\n"
     ]
    },
    {
     "name": "stdout",
     "output_type": "stream",
     "text": [
      "\u001b[1m18/18\u001b[0m \u001b[32m━━━━━━━━━━━━━━━━━━━━\u001b[0m\u001b[37m\u001b[0m \u001b[1m0s\u001b[0m 1ms/step \n",
      "LR - MAPE: 0.1483, MAE: 1.4792, RMSE: 1.8374, R2: 0.8111\n",
      "DL - MAPE: 0.0258, MAE: 0.3060, RMSE: 0.3934, R2: 0.9913\n",
      "\n",
      "Repeat 8/10\n"
     ]
    },
    {
     "name": "stderr",
     "output_type": "stream",
     "text": [
      "c:\\Users\\rezab\\anaconda3\\Lib\\site-packages\\sklearn\\utils\\validation.py:2732: UserWarning: X has feature names, but StandardScaler was fitted without feature names\n",
      "  warnings.warn(\n"
     ]
    },
    {
     "name": "stdout",
     "output_type": "stream",
     "text": [
      "\u001b[1m18/18\u001b[0m \u001b[32m━━━━━━━━━━━━━━━━━━━━\u001b[0m\u001b[37m\u001b[0m \u001b[1m0s\u001b[0m 1ms/step \n",
      "LR - MAPE: 0.1491, MAE: 1.4806, RMSE: 1.9341, R2: 0.7747\n",
      "DL - MAPE: 0.0339, MAE: 0.3905, RMSE: 0.4848, R2: 0.9858\n",
      "\n",
      "Repeat 9/10\n"
     ]
    },
    {
     "name": "stderr",
     "output_type": "stream",
     "text": [
      "c:\\Users\\rezab\\anaconda3\\Lib\\site-packages\\sklearn\\utils\\validation.py:2732: UserWarning: X has feature names, but StandardScaler was fitted without feature names\n",
      "  warnings.warn(\n"
     ]
    },
    {
     "name": "stdout",
     "output_type": "stream",
     "text": [
      "\u001b[1m18/18\u001b[0m \u001b[32m━━━━━━━━━━━━━━━━━━━━\u001b[0m\u001b[37m\u001b[0m \u001b[1m0s\u001b[0m 1ms/step \n",
      "LR - MAPE: 0.1479, MAE: 1.4945, RMSE: 1.8761, R2: 0.7957\n",
      "DL - MAPE: 0.0230, MAE: 0.2869, RMSE: 0.3868, R2: 0.9913\n",
      "\n",
      "Repeat 10/10\n"
     ]
    },
    {
     "name": "stderr",
     "output_type": "stream",
     "text": [
      "c:\\Users\\rezab\\anaconda3\\Lib\\site-packages\\sklearn\\utils\\validation.py:2732: UserWarning: X has feature names, but StandardScaler was fitted without feature names\n",
      "  warnings.warn(\n"
     ]
    },
    {
     "name": "stdout",
     "output_type": "stream",
     "text": [
      "\u001b[1m18/18\u001b[0m \u001b[32m━━━━━━━━━━━━━━━━━━━━\u001b[0m\u001b[37m\u001b[0m \u001b[1m0s\u001b[0m 1ms/step \n",
      "LR - MAPE: 0.1470, MAE: 1.4610, RMSE: 1.7825, R2: 0.8156\n",
      "DL - MAPE: 0.0256, MAE: 0.3080, RMSE: 0.4087, R2: 0.9903\n",
      "\n",
      "> System: batlik, Dataset: mandelbrot.csv\n",
      "> Training data fraction: 0.7, Number of repeats: 10\n",
      "\n",
      "Repeat 1/10\n"
     ]
    },
    {
     "name": "stderr",
     "output_type": "stream",
     "text": [
      "c:\\Users\\rezab\\anaconda3\\Lib\\site-packages\\sklearn\\utils\\validation.py:2732: UserWarning: X has feature names, but StandardScaler was fitted without feature names\n",
      "  warnings.warn(\n"
     ]
    },
    {
     "name": "stdout",
     "output_type": "stream",
     "text": [
      "\u001b[1m18/18\u001b[0m \u001b[32m━━━━━━━━━━━━━━━━━━━━\u001b[0m\u001b[37m\u001b[0m \u001b[1m0s\u001b[0m 1ms/step \n",
      "LR - MAPE: 0.0478, MAE: 0.0630, RMSE: 0.0855, R2: 0.6870\n",
      "DL - MAPE: 0.0218, MAE: 0.0280, RMSE: 0.0346, R2: 0.9488\n",
      "\n",
      "Repeat 2/10\n"
     ]
    },
    {
     "name": "stderr",
     "output_type": "stream",
     "text": [
      "c:\\Users\\rezab\\anaconda3\\Lib\\site-packages\\sklearn\\utils\\validation.py:2732: UserWarning: X has feature names, but StandardScaler was fitted without feature names\n",
      "  warnings.warn(\n"
     ]
    },
    {
     "name": "stdout",
     "output_type": "stream",
     "text": [
      "\u001b[1m18/18\u001b[0m \u001b[32m━━━━━━━━━━━━━━━━━━━━\u001b[0m\u001b[37m\u001b[0m \u001b[1m0s\u001b[0m 1ms/step \n",
      "LR - MAPE: 0.0477, MAE: 0.0633, RMSE: 0.0855, R2: 0.7060\n",
      "DL - MAPE: 0.0207, MAE: 0.0271, RMSE: 0.0363, R2: 0.9469\n",
      "\n",
      "Repeat 3/10\n"
     ]
    },
    {
     "name": "stderr",
     "output_type": "stream",
     "text": [
      "c:\\Users\\rezab\\anaconda3\\Lib\\site-packages\\sklearn\\utils\\validation.py:2732: UserWarning: X has feature names, but StandardScaler was fitted without feature names\n",
      "  warnings.warn(\n"
     ]
    },
    {
     "name": "stdout",
     "output_type": "stream",
     "text": [
      "\u001b[1m18/18\u001b[0m \u001b[32m━━━━━━━━━━━━━━━━━━━━\u001b[0m\u001b[37m\u001b[0m \u001b[1m0s\u001b[0m 1ms/step \n",
      "LR - MAPE: 0.0459, MAE: 0.0606, RMSE: 0.0822, R2: 0.7098\n",
      "DL - MAPE: 0.0211, MAE: 0.0269, RMSE: 0.0342, R2: 0.9497\n",
      "\n",
      "Repeat 4/10\n"
     ]
    },
    {
     "name": "stderr",
     "output_type": "stream",
     "text": [
      "c:\\Users\\rezab\\anaconda3\\Lib\\site-packages\\sklearn\\utils\\validation.py:2732: UserWarning: X has feature names, but StandardScaler was fitted without feature names\n",
      "  warnings.warn(\n"
     ]
    },
    {
     "name": "stdout",
     "output_type": "stream",
     "text": [
      "\u001b[1m18/18\u001b[0m \u001b[32m━━━━━━━━━━━━━━━━━━━━\u001b[0m\u001b[37m\u001b[0m \u001b[1m0s\u001b[0m 1ms/step \n",
      "LR - MAPE: 0.0469, MAE: 0.0620, RMSE: 0.0858, R2: 0.7046\n",
      "DL - MAPE: 0.0221, MAE: 0.0284, RMSE: 0.0365, R2: 0.9466\n",
      "\n",
      "Repeat 5/10\n"
     ]
    },
    {
     "name": "stderr",
     "output_type": "stream",
     "text": [
      "c:\\Users\\rezab\\anaconda3\\Lib\\site-packages\\sklearn\\utils\\validation.py:2732: UserWarning: X has feature names, but StandardScaler was fitted without feature names\n",
      "  warnings.warn(\n"
     ]
    },
    {
     "name": "stdout",
     "output_type": "stream",
     "text": [
      "\u001b[1m18/18\u001b[0m \u001b[32m━━━━━━━━━━━━━━━━━━━━\u001b[0m\u001b[37m\u001b[0m \u001b[1m0s\u001b[0m 2ms/step \n",
      "LR - MAPE: 0.0458, MAE: 0.0601, RMSE: 0.0834, R2: 0.7125\n",
      "DL - MAPE: 0.0212, MAE: 0.0272, RMSE: 0.0354, R2: 0.9481\n",
      "\n",
      "Repeat 6/10\n"
     ]
    },
    {
     "name": "stderr",
     "output_type": "stream",
     "text": [
      "c:\\Users\\rezab\\anaconda3\\Lib\\site-packages\\sklearn\\utils\\validation.py:2732: UserWarning: X has feature names, but StandardScaler was fitted without feature names\n",
      "  warnings.warn(\n"
     ]
    },
    {
     "name": "stdout",
     "output_type": "stream",
     "text": [
      "\u001b[1m18/18\u001b[0m \u001b[32m━━━━━━━━━━━━━━━━━━━━\u001b[0m\u001b[37m\u001b[0m \u001b[1m0s\u001b[0m 1ms/step \n",
      "LR - MAPE: 0.0463, MAE: 0.0604, RMSE: 0.0822, R2: 0.6909\n",
      "DL - MAPE: 0.0213, MAE: 0.0278, RMSE: 0.0383, R2: 0.9329\n",
      "\n",
      "Repeat 7/10\n"
     ]
    },
    {
     "name": "stderr",
     "output_type": "stream",
     "text": [
      "c:\\Users\\rezab\\anaconda3\\Lib\\site-packages\\sklearn\\utils\\validation.py:2732: UserWarning: X has feature names, but StandardScaler was fitted without feature names\n",
      "  warnings.warn(\n"
     ]
    },
    {
     "name": "stdout",
     "output_type": "stream",
     "text": [
      "\u001b[1m18/18\u001b[0m \u001b[32m━━━━━━━━━━━━━━━━━━━━\u001b[0m\u001b[37m\u001b[0m \u001b[1m0s\u001b[0m 2ms/step \n",
      "LR - MAPE: 0.0472, MAE: 0.0626, RMSE: 0.0854, R2: 0.7144\n",
      "DL - MAPE: 0.0233, MAE: 0.0298, RMSE: 0.0376, R2: 0.9446\n",
      "\n",
      "Repeat 8/10\n"
     ]
    },
    {
     "name": "stderr",
     "output_type": "stream",
     "text": [
      "c:\\Users\\rezab\\anaconda3\\Lib\\site-packages\\sklearn\\utils\\validation.py:2732: UserWarning: X has feature names, but StandardScaler was fitted without feature names\n",
      "  warnings.warn(\n"
     ]
    },
    {
     "name": "stdout",
     "output_type": "stream",
     "text": [
      "\u001b[1m18/18\u001b[0m \u001b[32m━━━━━━━━━━━━━━━━━━━━\u001b[0m\u001b[37m\u001b[0m \u001b[1m0s\u001b[0m 1ms/step \n",
      "LR - MAPE: 0.0461, MAE: 0.0607, RMSE: 0.0830, R2: 0.7089\n",
      "DL - MAPE: 0.0217, MAE: 0.0279, RMSE: 0.0358, R2: 0.9457\n",
      "\n",
      "Repeat 9/10\n"
     ]
    },
    {
     "name": "stderr",
     "output_type": "stream",
     "text": [
      "c:\\Users\\rezab\\anaconda3\\Lib\\site-packages\\sklearn\\utils\\validation.py:2732: UserWarning: X has feature names, but StandardScaler was fitted without feature names\n",
      "  warnings.warn(\n"
     ]
    },
    {
     "name": "stdout",
     "output_type": "stream",
     "text": [
      "\u001b[1m18/18\u001b[0m \u001b[32m━━━━━━━━━━━━━━━━━━━━\u001b[0m\u001b[37m\u001b[0m \u001b[1m0s\u001b[0m 1ms/step \n",
      "LR - MAPE: 0.0464, MAE: 0.0621, RMSE: 0.0847, R2: 0.7042\n",
      "DL - MAPE: 0.0199, MAE: 0.0259, RMSE: 0.0340, R2: 0.9524\n",
      "\n",
      "Repeat 10/10\n"
     ]
    },
    {
     "name": "stderr",
     "output_type": "stream",
     "text": [
      "c:\\Users\\rezab\\anaconda3\\Lib\\site-packages\\sklearn\\utils\\validation.py:2732: UserWarning: X has feature names, but StandardScaler was fitted without feature names\n",
      "  warnings.warn(\n"
     ]
    },
    {
     "name": "stdout",
     "output_type": "stream",
     "text": [
      "\u001b[1m18/18\u001b[0m \u001b[32m━━━━━━━━━━━━━━━━━━━━\u001b[0m\u001b[37m\u001b[0m \u001b[1m0s\u001b[0m 1ms/step \n",
      "LR - MAPE: 0.0447, MAE: 0.0593, RMSE: 0.0821, R2: 0.7211\n",
      "DL - MAPE: 0.0201, MAE: 0.0260, RMSE: 0.0334, R2: 0.9539\n",
      "\n",
      "> System: batlik, Dataset: strawberry.csv\n",
      "> Training data fraction: 0.7, Number of repeats: 10\n",
      "\n",
      "Repeat 1/10\n"
     ]
    },
    {
     "name": "stderr",
     "output_type": "stream",
     "text": [
      "c:\\Users\\rezab\\anaconda3\\Lib\\site-packages\\sklearn\\utils\\validation.py:2732: UserWarning: X has feature names, but StandardScaler was fitted without feature names\n",
      "  warnings.warn(\n"
     ]
    },
    {
     "name": "stdout",
     "output_type": "stream",
     "text": [
      "\u001b[1m18/18\u001b[0m \u001b[32m━━━━━━━━━━━━━━━━━━━━\u001b[0m\u001b[37m\u001b[0m \u001b[1m0s\u001b[0m 2ms/step \n",
      "LR - MAPE: 0.0526, MAE: 0.0910, RMSE: 0.1274, R2: 0.8434\n",
      "DL - MAPE: 0.0255, MAE: 0.0420, RMSE: 0.0549, R2: 0.9709\n",
      "\n",
      "Repeat 2/10\n"
     ]
    },
    {
     "name": "stderr",
     "output_type": "stream",
     "text": [
      "c:\\Users\\rezab\\anaconda3\\Lib\\site-packages\\sklearn\\utils\\validation.py:2732: UserWarning: X has feature names, but StandardScaler was fitted without feature names\n",
      "  warnings.warn(\n"
     ]
    },
    {
     "name": "stdout",
     "output_type": "stream",
     "text": [
      "\u001b[1m18/18\u001b[0m \u001b[32m━━━━━━━━━━━━━━━━━━━━\u001b[0m\u001b[37m\u001b[0m \u001b[1m0s\u001b[0m 1ms/step \n",
      "LR - MAPE: 0.0565, MAE: 0.0972, RMSE: 0.1356, R2: 0.8288\n",
      "DL - MAPE: 0.0254, MAE: 0.0405, RMSE: 0.0551, R2: 0.9717\n",
      "\n",
      "Repeat 3/10\n"
     ]
    },
    {
     "name": "stderr",
     "output_type": "stream",
     "text": [
      "c:\\Users\\rezab\\anaconda3\\Lib\\site-packages\\sklearn\\utils\\validation.py:2732: UserWarning: X has feature names, but StandardScaler was fitted without feature names\n",
      "  warnings.warn(\n"
     ]
    },
    {
     "name": "stdout",
     "output_type": "stream",
     "text": [
      "\u001b[1m18/18\u001b[0m \u001b[32m━━━━━━━━━━━━━━━━━━━━\u001b[0m\u001b[37m\u001b[0m \u001b[1m0s\u001b[0m 2ms/step \n",
      "LR - MAPE: 0.0564, MAE: 0.0956, RMSE: 0.1301, R2: 0.8284\n",
      "DL - MAPE: 0.0251, MAE: 0.0393, RMSE: 0.0512, R2: 0.9734\n",
      "\n",
      "Repeat 4/10\n"
     ]
    },
    {
     "name": "stderr",
     "output_type": "stream",
     "text": [
      "c:\\Users\\rezab\\anaconda3\\Lib\\site-packages\\sklearn\\utils\\validation.py:2732: UserWarning: X has feature names, but StandardScaler was fitted without feature names\n",
      "  warnings.warn(\n"
     ]
    },
    {
     "name": "stdout",
     "output_type": "stream",
     "text": [
      "\u001b[1m18/18\u001b[0m \u001b[32m━━━━━━━━━━━━━━━━━━━━\u001b[0m\u001b[37m\u001b[0m \u001b[1m0s\u001b[0m 1ms/step \n",
      "LR - MAPE: 0.0555, MAE: 0.0955, RMSE: 0.1354, R2: 0.8264\n",
      "DL - MAPE: 0.0279, MAE: 0.0468, RMSE: 0.0625, R2: 0.9630\n",
      "\n",
      "Repeat 5/10\n"
     ]
    },
    {
     "name": "stderr",
     "output_type": "stream",
     "text": [
      "c:\\Users\\rezab\\anaconda3\\Lib\\site-packages\\sklearn\\utils\\validation.py:2732: UserWarning: X has feature names, but StandardScaler was fitted without feature names\n",
      "  warnings.warn(\n"
     ]
    },
    {
     "name": "stdout",
     "output_type": "stream",
     "text": [
      "\u001b[1m18/18\u001b[0m \u001b[32m━━━━━━━━━━━━━━━━━━━━\u001b[0m\u001b[37m\u001b[0m \u001b[1m0s\u001b[0m 1ms/step \n",
      "LR - MAPE: 0.0536, MAE: 0.0921, RMSE: 0.1277, R2: 0.8409\n",
      "DL - MAPE: 0.0266, MAE: 0.0411, RMSE: 0.0530, R2: 0.9726\n",
      "\n",
      "Repeat 6/10\n"
     ]
    },
    {
     "name": "stderr",
     "output_type": "stream",
     "text": [
      "c:\\Users\\rezab\\anaconda3\\Lib\\site-packages\\sklearn\\utils\\validation.py:2732: UserWarning: X has feature names, but StandardScaler was fitted without feature names\n",
      "  warnings.warn(\n"
     ]
    },
    {
     "name": "stdout",
     "output_type": "stream",
     "text": [
      "\u001b[1m18/18\u001b[0m \u001b[32m━━━━━━━━━━━━━━━━━━━━\u001b[0m\u001b[37m\u001b[0m \u001b[1m0s\u001b[0m 1ms/step \n",
      "LR - MAPE: 0.0518, MAE: 0.0869, RMSE: 0.1211, R2: 0.8425\n",
      "DL - MAPE: 0.0285, MAE: 0.0430, RMSE: 0.0547, R2: 0.9679\n",
      "\n",
      "Repeat 7/10\n"
     ]
    },
    {
     "name": "stderr",
     "output_type": "stream",
     "text": [
      "c:\\Users\\rezab\\anaconda3\\Lib\\site-packages\\sklearn\\utils\\validation.py:2732: UserWarning: X has feature names, but StandardScaler was fitted without feature names\n",
      "  warnings.warn(\n"
     ]
    },
    {
     "name": "stdout",
     "output_type": "stream",
     "text": [
      "\u001b[1m18/18\u001b[0m \u001b[32m━━━━━━━━━━━━━━━━━━━━\u001b[0m\u001b[37m\u001b[0m \u001b[1m0s\u001b[0m 1ms/step \n",
      "LR - MAPE: 0.0572, MAE: 0.0975, RMSE: 0.1337, R2: 0.8310\n",
      "DL - MAPE: 0.0249, MAE: 0.0397, RMSE: 0.0525, R2: 0.9740\n",
      "\n",
      "Repeat 8/10\n"
     ]
    },
    {
     "name": "stderr",
     "output_type": "stream",
     "text": [
      "c:\\Users\\rezab\\anaconda3\\Lib\\site-packages\\sklearn\\utils\\validation.py:2732: UserWarning: X has feature names, but StandardScaler was fitted without feature names\n",
      "  warnings.warn(\n"
     ]
    },
    {
     "name": "stdout",
     "output_type": "stream",
     "text": [
      "\u001b[1m18/18\u001b[0m \u001b[32m━━━━━━━━━━━━━━━━━━━━\u001b[0m\u001b[37m\u001b[0m \u001b[1m0s\u001b[0m 1ms/step \n",
      "LR - MAPE: 0.0528, MAE: 0.0915, RMSE: 0.1278, R2: 0.8381\n",
      "DL - MAPE: 0.0248, MAE: 0.0399, RMSE: 0.0527, R2: 0.9724\n",
      "\n",
      "Repeat 9/10\n"
     ]
    },
    {
     "name": "stderr",
     "output_type": "stream",
     "text": [
      "c:\\Users\\rezab\\anaconda3\\Lib\\site-packages\\sklearn\\utils\\validation.py:2732: UserWarning: X has feature names, but StandardScaler was fitted without feature names\n",
      "  warnings.warn(\n"
     ]
    },
    {
     "name": "stdout",
     "output_type": "stream",
     "text": [
      "\u001b[1m18/18\u001b[0m \u001b[32m━━━━━━━━━━━━━━━━━━━━\u001b[0m\u001b[37m\u001b[0m \u001b[1m0s\u001b[0m 1ms/step \n",
      "LR - MAPE: 0.0545, MAE: 0.0950, RMSE: 0.1359, R2: 0.8158\n",
      "DL - MAPE: 0.0270, MAE: 0.0430, RMSE: 0.0566, R2: 0.9680\n",
      "\n",
      "Repeat 10/10\n"
     ]
    },
    {
     "name": "stderr",
     "output_type": "stream",
     "text": [
      "c:\\Users\\rezab\\anaconda3\\Lib\\site-packages\\sklearn\\utils\\validation.py:2732: UserWarning: X has feature names, but StandardScaler was fitted without feature names\n",
      "  warnings.warn(\n"
     ]
    },
    {
     "name": "stdout",
     "output_type": "stream",
     "text": [
      "\u001b[1m18/18\u001b[0m \u001b[32m━━━━━━━━━━━━━━━━━━━━\u001b[0m\u001b[37m\u001b[0m \u001b[1m0s\u001b[0m 1ms/step \n",
      "LR - MAPE: 0.0545, MAE: 0.0929, RMSE: 0.1296, R2: 0.8361\n",
      "DL - MAPE: 0.0250, MAE: 0.0396, RMSE: 0.0514, R2: 0.9743\n",
      "\n",
      "> System: batlik, Dataset: village.csv\n",
      "> Training data fraction: 0.7, Number of repeats: 10\n",
      "\n",
      "Repeat 1/10\n"
     ]
    },
    {
     "name": "stderr",
     "output_type": "stream",
     "text": [
      "c:\\Users\\rezab\\anaconda3\\Lib\\site-packages\\sklearn\\utils\\validation.py:2732: UserWarning: X has feature names, but StandardScaler was fitted without feature names\n",
      "  warnings.warn(\n"
     ]
    },
    {
     "name": "stdout",
     "output_type": "stream",
     "text": [
      "\u001b[1m18/18\u001b[0m \u001b[32m━━━━━━━━━━━━━━━━━━━━\u001b[0m\u001b[37m\u001b[0m \u001b[1m0s\u001b[0m 1ms/step \n",
      "LR - MAPE: 0.5574, MAE: 1.7371, RMSE: 2.3482, R2: 0.5643\n",
      "DL - MAPE: 0.0538, MAE: 0.6036, RMSE: 2.1688, R2: 0.6284\n",
      "\n",
      "Repeat 2/10\n"
     ]
    },
    {
     "name": "stderr",
     "output_type": "stream",
     "text": [
      "c:\\Users\\rezab\\anaconda3\\Lib\\site-packages\\sklearn\\utils\\validation.py:2732: UserWarning: X has feature names, but StandardScaler was fitted without feature names\n",
      "  warnings.warn(\n"
     ]
    },
    {
     "name": "stdout",
     "output_type": "stream",
     "text": [
      "\u001b[1m18/18\u001b[0m \u001b[32m━━━━━━━━━━━━━━━━━━━━\u001b[0m\u001b[37m\u001b[0m \u001b[1m0s\u001b[0m 1ms/step \n",
      "LR - MAPE: 0.5818, MAE: 1.8445, RMSE: 2.5350, R2: 0.5491\n",
      "DL - MAPE: 0.0630, MAE: 0.6291, RMSE: 2.0564, R2: 0.7033\n",
      "\n",
      "Repeat 3/10\n"
     ]
    },
    {
     "name": "stderr",
     "output_type": "stream",
     "text": [
      "c:\\Users\\rezab\\anaconda3\\Lib\\site-packages\\sklearn\\utils\\validation.py:2732: UserWarning: X has feature names, but StandardScaler was fitted without feature names\n",
      "  warnings.warn(\n"
     ]
    },
    {
     "name": "stdout",
     "output_type": "stream",
     "text": [
      "\u001b[1m18/18\u001b[0m \u001b[32m━━━━━━━━━━━━━━━━━━━━\u001b[0m\u001b[37m\u001b[0m \u001b[1m0s\u001b[0m 1ms/step \n",
      "LR - MAPE: 0.5877, MAE: 1.8045, RMSE: 2.4319, R2: 0.5397\n",
      "DL - MAPE: 0.0516, MAE: 0.5740, RMSE: 2.0574, R2: 0.6706\n",
      "\n",
      "Repeat 4/10\n"
     ]
    },
    {
     "name": "stderr",
     "output_type": "stream",
     "text": [
      "c:\\Users\\rezab\\anaconda3\\Lib\\site-packages\\sklearn\\utils\\validation.py:2732: UserWarning: X has feature names, but StandardScaler was fitted without feature names\n",
      "  warnings.warn(\n"
     ]
    },
    {
     "name": "stdout",
     "output_type": "stream",
     "text": [
      "\u001b[1m18/18\u001b[0m \u001b[32m━━━━━━━━━━━━━━━━━━━━\u001b[0m\u001b[37m\u001b[0m \u001b[1m0s\u001b[0m 1ms/step \n",
      "LR - MAPE: 0.5700, MAE: 1.8382, RMSE: 2.5630, R2: 0.5613\n",
      "DL - MAPE: 0.0621, MAE: 0.7168, RMSE: 2.3875, R2: 0.6193\n",
      "\n",
      "Repeat 5/10\n"
     ]
    },
    {
     "name": "stderr",
     "output_type": "stream",
     "text": [
      "c:\\Users\\rezab\\anaconda3\\Lib\\site-packages\\sklearn\\utils\\validation.py:2732: UserWarning: X has feature names, but StandardScaler was fitted without feature names\n",
      "  warnings.warn(\n"
     ]
    },
    {
     "name": "stdout",
     "output_type": "stream",
     "text": [
      "\u001b[1m18/18\u001b[0m \u001b[32m━━━━━━━━━━━━━━━━━━━━\u001b[0m\u001b[37m\u001b[0m \u001b[1m0s\u001b[0m 1ms/step \n",
      "LR - MAPE: 0.5778, MAE: 1.7859, RMSE: 2.3791, R2: 0.5544\n",
      "DL - MAPE: 0.0575, MAE: 0.6199, RMSE: 2.2014, R2: 0.6185\n",
      "\n",
      "Repeat 6/10\n"
     ]
    },
    {
     "name": "stderr",
     "output_type": "stream",
     "text": [
      "c:\\Users\\rezab\\anaconda3\\Lib\\site-packages\\sklearn\\utils\\validation.py:2732: UserWarning: X has feature names, but StandardScaler was fitted without feature names\n",
      "  warnings.warn(\n"
     ]
    },
    {
     "name": "stdout",
     "output_type": "stream",
     "text": [
      "\u001b[1m18/18\u001b[0m \u001b[32m━━━━━━━━━━━━━━━━━━━━\u001b[0m\u001b[37m\u001b[0m \u001b[1m0s\u001b[0m 1ms/step \n",
      "LR - MAPE: 0.6106, MAE: 1.7750, RMSE: 2.3510, R2: 0.4697\n",
      "DL - MAPE: 0.0539, MAE: 0.4931, RMSE: 1.9275, R2: 0.6436\n",
      "\n",
      "Repeat 7/10\n"
     ]
    },
    {
     "name": "stderr",
     "output_type": "stream",
     "text": [
      "c:\\Users\\rezab\\anaconda3\\Lib\\site-packages\\sklearn\\utils\\validation.py:2732: UserWarning: X has feature names, but StandardScaler was fitted without feature names\n",
      "  warnings.warn(\n"
     ]
    },
    {
     "name": "stdout",
     "output_type": "stream",
     "text": [
      "\u001b[1m18/18\u001b[0m \u001b[32m━━━━━━━━━━━━━━━━━━━━\u001b[0m\u001b[37m\u001b[0m \u001b[1m0s\u001b[0m 1ms/step \n",
      "LR - MAPE: 0.5871, MAE: 1.8750, RMSE: 2.6028, R2: 0.5461\n",
      "DL - MAPE: 0.0582, MAE: 0.6884, RMSE: 2.3552, R2: 0.6284\n",
      "\n",
      "Repeat 8/10\n"
     ]
    },
    {
     "name": "stderr",
     "output_type": "stream",
     "text": [
      "c:\\Users\\rezab\\anaconda3\\Lib\\site-packages\\sklearn\\utils\\validation.py:2732: UserWarning: X has feature names, but StandardScaler was fitted without feature names\n",
      "  warnings.warn(\n"
     ]
    },
    {
     "name": "stdout",
     "output_type": "stream",
     "text": [
      "\u001b[1m18/18\u001b[0m \u001b[32m━━━━━━━━━━━━━━━━━━━━\u001b[0m\u001b[37m\u001b[0m \u001b[1m0s\u001b[0m 1ms/step \n",
      "LR - MAPE: 0.5557, MAE: 1.7573, RMSE: 2.4058, R2: 0.5657\n",
      "DL - MAPE: 0.0573, MAE: 0.6262, RMSE: 2.1943, R2: 0.6387\n",
      "\n",
      "Repeat 9/10\n"
     ]
    },
    {
     "name": "stderr",
     "output_type": "stream",
     "text": [
      "c:\\Users\\rezab\\anaconda3\\Lib\\site-packages\\sklearn\\utils\\validation.py:2732: UserWarning: X has feature names, but StandardScaler was fitted without feature names\n",
      "  warnings.warn(\n"
     ]
    },
    {
     "name": "stdout",
     "output_type": "stream",
     "text": [
      "\u001b[1m18/18\u001b[0m \u001b[32m━━━━━━━━━━━━━━━━━━━━\u001b[0m\u001b[37m\u001b[0m \u001b[1m0s\u001b[0m 1ms/step \n",
      "LR - MAPE: 0.5483, MAE: 1.8068, RMSE: 2.4730, R2: 0.5807\n",
      "DL - MAPE: 0.0647, MAE: 0.7333, RMSE: 2.4230, R2: 0.5975\n",
      "\n",
      "Repeat 10/10\n"
     ]
    },
    {
     "name": "stderr",
     "output_type": "stream",
     "text": [
      "c:\\Users\\rezab\\anaconda3\\Lib\\site-packages\\sklearn\\utils\\validation.py:2732: UserWarning: X has feature names, but StandardScaler was fitted without feature names\n",
      "  warnings.warn(\n"
     ]
    },
    {
     "name": "stdout",
     "output_type": "stream",
     "text": [
      "\u001b[1m18/18\u001b[0m \u001b[32m━━━━━━━━━━━━━━━━━━━━\u001b[0m\u001b[37m\u001b[0m \u001b[1m0s\u001b[0m 1ms/step \n",
      "LR - MAPE: 0.5626, MAE: 1.7851, RMSE: 2.4508, R2: 0.5679\n",
      "DL - MAPE: 0.0587, MAE: 0.6519, RMSE: 2.2034, R2: 0.6507\n",
      "\n",
      "==================================================\n",
      "Processing system: dconvert\n",
      "==================================================\n",
      "\n",
      "> System: dconvert, Dataset: jpeg-large.csv\n",
      "> Training data fraction: 0.7, Number of repeats: 10\n",
      "\n",
      "Repeat 1/10\n"
     ]
    },
    {
     "name": "stderr",
     "output_type": "stream",
     "text": [
      "c:\\Users\\rezab\\anaconda3\\Lib\\site-packages\\sklearn\\utils\\validation.py:2732: UserWarning: X has feature names, but StandardScaler was fitted without feature names\n",
      "  warnings.warn(\n"
     ]
    },
    {
     "name": "stdout",
     "output_type": "stream",
     "text": [
      "\u001b[1m64/64\u001b[0m \u001b[32m━━━━━━━━━━━━━━━━━━━━\u001b[0m\u001b[37m\u001b[0m \u001b[1m0s\u001b[0m 2ms/step\n",
      "LR - MAPE: 0.1369, MAE: 0.4306, RMSE: 0.5869, R2: 0.7842\n",
      "DL - MAPE: 0.0494, MAE: 0.2058, RMSE: 0.5198, R2: 0.8307\n",
      "\n",
      "Repeat 2/10\n"
     ]
    },
    {
     "name": "stderr",
     "output_type": "stream",
     "text": [
      "c:\\Users\\rezab\\anaconda3\\Lib\\site-packages\\sklearn\\utils\\validation.py:2732: UserWarning: X has feature names, but StandardScaler was fitted without feature names\n",
      "  warnings.warn(\n"
     ]
    },
    {
     "name": "stdout",
     "output_type": "stream",
     "text": [
      "\u001b[1m64/64\u001b[0m \u001b[32m━━━━━━━━━━━━━━━━━━━━\u001b[0m\u001b[37m\u001b[0m \u001b[1m0s\u001b[0m 1ms/step\n",
      "LR - MAPE: 0.1339, MAE: 0.4120, RMSE: 0.5635, R2: 0.7930\n",
      "DL - MAPE: 0.0497, MAE: 0.1949, RMSE: 0.4856, R2: 0.8463\n",
      "\n",
      "Repeat 3/10\n"
     ]
    },
    {
     "name": "stderr",
     "output_type": "stream",
     "text": [
      "c:\\Users\\rezab\\anaconda3\\Lib\\site-packages\\sklearn\\utils\\validation.py:2732: UserWarning: X has feature names, but StandardScaler was fitted without feature names\n",
      "  warnings.warn(\n"
     ]
    },
    {
     "name": "stdout",
     "output_type": "stream",
     "text": [
      "\u001b[1m64/64\u001b[0m \u001b[32m━━━━━━━━━━━━━━━━━━━━\u001b[0m\u001b[37m\u001b[0m \u001b[1m0s\u001b[0m 2ms/step\n",
      "LR - MAPE: 0.1310, MAE: 0.4183, RMSE: 0.5798, R2: 0.7982\n",
      "DL - MAPE: 0.0504, MAE: 0.2078, RMSE: 0.5159, R2: 0.8402\n",
      "\n",
      "Repeat 4/10\n"
     ]
    },
    {
     "name": "stderr",
     "output_type": "stream",
     "text": [
      "c:\\Users\\rezab\\anaconda3\\Lib\\site-packages\\sklearn\\utils\\validation.py:2732: UserWarning: X has feature names, but StandardScaler was fitted without feature names\n",
      "  warnings.warn(\n"
     ]
    },
    {
     "name": "stdout",
     "output_type": "stream",
     "text": [
      "\u001b[1m64/64\u001b[0m \u001b[32m━━━━━━━━━━━━━━━━━━━━\u001b[0m\u001b[37m\u001b[0m \u001b[1m0s\u001b[0m 1ms/step\n",
      "LR - MAPE: 0.1323, MAE: 0.4107, RMSE: 0.5585, R2: 0.7959\n",
      "DL - MAPE: 0.0499, MAE: 0.1978, RMSE: 0.4889, R2: 0.8437\n",
      "\n",
      "Repeat 5/10\n"
     ]
    },
    {
     "name": "stderr",
     "output_type": "stream",
     "text": [
      "c:\\Users\\rezab\\anaconda3\\Lib\\site-packages\\sklearn\\utils\\validation.py:2732: UserWarning: X has feature names, but StandardScaler was fitted without feature names\n",
      "  warnings.warn(\n"
     ]
    },
    {
     "name": "stdout",
     "output_type": "stream",
     "text": [
      "\u001b[1m64/64\u001b[0m \u001b[32m━━━━━━━━━━━━━━━━━━━━\u001b[0m\u001b[37m\u001b[0m \u001b[1m0s\u001b[0m 1ms/step\n",
      "LR - MAPE: 0.1311, MAE: 0.4124, RMSE: 0.5699, R2: 0.7938\n",
      "DL - MAPE: 0.0539, MAE: 0.2204, RMSE: 0.5285, R2: 0.8227\n",
      "\n",
      "Repeat 6/10\n"
     ]
    },
    {
     "name": "stderr",
     "output_type": "stream",
     "text": [
      "c:\\Users\\rezab\\anaconda3\\Lib\\site-packages\\sklearn\\utils\\validation.py:2732: UserWarning: X has feature names, but StandardScaler was fitted without feature names\n",
      "  warnings.warn(\n"
     ]
    },
    {
     "name": "stdout",
     "output_type": "stream",
     "text": [
      "\u001b[1m64/64\u001b[0m \u001b[32m━━━━━━━━━━━━━━━━━━━━\u001b[0m\u001b[37m\u001b[0m \u001b[1m0s\u001b[0m 2ms/step\n",
      "LR - MAPE: 0.1357, MAE: 0.4044, RMSE: 0.5358, R2: 0.7946\n",
      "DL - MAPE: 0.0466, MAE: 0.1729, RMSE: 0.4279, R2: 0.8690\n",
      "\n",
      "Repeat 7/10\n"
     ]
    },
    {
     "name": "stderr",
     "output_type": "stream",
     "text": [
      "c:\\Users\\rezab\\anaconda3\\Lib\\site-packages\\sklearn\\utils\\validation.py:2732: UserWarning: X has feature names, but StandardScaler was fitted without feature names\n",
      "  warnings.warn(\n"
     ]
    },
    {
     "name": "stdout",
     "output_type": "stream",
     "text": [
      "\u001b[1m64/64\u001b[0m \u001b[32m━━━━━━━━━━━━━━━━━━━━\u001b[0m\u001b[37m\u001b[0m \u001b[1m0s\u001b[0m 1ms/step\n",
      "LR - MAPE: 0.1374, MAE: 0.4265, RMSE: 0.5714, R2: 0.7891\n",
      "DL - MAPE: 0.0498, MAE: 0.1950, RMSE: 0.4704, R2: 0.8570\n",
      "\n",
      "Repeat 8/10\n"
     ]
    },
    {
     "name": "stderr",
     "output_type": "stream",
     "text": [
      "c:\\Users\\rezab\\anaconda3\\Lib\\site-packages\\sklearn\\utils\\validation.py:2732: UserWarning: X has feature names, but StandardScaler was fitted without feature names\n",
      "  warnings.warn(\n"
     ]
    },
    {
     "name": "stdout",
     "output_type": "stream",
     "text": [
      "\u001b[1m64/64\u001b[0m \u001b[32m━━━━━━━━━━━━━━━━━━━━\u001b[0m\u001b[37m\u001b[0m \u001b[1m0s\u001b[0m 2ms/step  \n",
      "LR - MAPE: 0.1382, MAE: 0.4168, RMSE: 0.5464, R2: 0.7886\n",
      "DL - MAPE: 0.0463, MAE: 0.1866, RMSE: 0.4505, R2: 0.8563\n",
      "\n",
      "Repeat 9/10\n"
     ]
    },
    {
     "name": "stderr",
     "output_type": "stream",
     "text": [
      "c:\\Users\\rezab\\anaconda3\\Lib\\site-packages\\sklearn\\utils\\validation.py:2732: UserWarning: X has feature names, but StandardScaler was fitted without feature names\n",
      "  warnings.warn(\n"
     ]
    },
    {
     "name": "stdout",
     "output_type": "stream",
     "text": [
      "\u001b[1m64/64\u001b[0m \u001b[32m━━━━━━━━━━━━━━━━━━━━\u001b[0m\u001b[37m\u001b[0m \u001b[1m0s\u001b[0m 1ms/step\n",
      "LR - MAPE: 0.1336, MAE: 0.4184, RMSE: 0.5708, R2: 0.7933\n",
      "DL - MAPE: 0.0505, MAE: 0.2044, RMSE: 0.4975, R2: 0.8429\n",
      "\n",
      "Repeat 10/10\n"
     ]
    },
    {
     "name": "stderr",
     "output_type": "stream",
     "text": [
      "c:\\Users\\rezab\\anaconda3\\Lib\\site-packages\\sklearn\\utils\\validation.py:2732: UserWarning: X has feature names, but StandardScaler was fitted without feature names\n",
      "  warnings.warn(\n"
     ]
    },
    {
     "name": "stdout",
     "output_type": "stream",
     "text": [
      "\u001b[1m64/64\u001b[0m \u001b[32m━━━━━━━━━━━━━━━━━━━━\u001b[0m\u001b[37m\u001b[0m \u001b[1m0s\u001b[0m 2ms/step  \n",
      "LR - MAPE: 0.1307, MAE: 0.4036, RMSE: 0.5523, R2: 0.7996\n",
      "DL - MAPE: 0.0505, MAE: 0.2006, RMSE: 0.4824, R2: 0.8471\n",
      "\n",
      "> System: dconvert, Dataset: jpeg-medium.csv\n",
      "> Training data fraction: 0.7, Number of repeats: 10\n",
      "\n",
      "Repeat 1/10\n"
     ]
    },
    {
     "name": "stderr",
     "output_type": "stream",
     "text": [
      "c:\\Users\\rezab\\anaconda3\\Lib\\site-packages\\sklearn\\utils\\validation.py:2732: UserWarning: X has feature names, but StandardScaler was fitted without feature names\n",
      "  warnings.warn(\n"
     ]
    },
    {
     "name": "stdout",
     "output_type": "stream",
     "text": [
      "\u001b[1m64/64\u001b[0m \u001b[32m━━━━━━━━━━━━━━━━━━━━\u001b[0m\u001b[37m\u001b[0m \u001b[1m0s\u001b[0m 1ms/step\n",
      "LR - MAPE: 0.1035, MAE: 0.1831, RMSE: 0.2500, R2: 0.7843\n",
      "DL - MAPE: 0.0303, MAE: 0.0520, RMSE: 0.0763, R2: 0.9799\n",
      "\n",
      "Repeat 2/10\n"
     ]
    },
    {
     "name": "stderr",
     "output_type": "stream",
     "text": [
      "c:\\Users\\rezab\\anaconda3\\Lib\\site-packages\\sklearn\\utils\\validation.py:2732: UserWarning: X has feature names, but StandardScaler was fitted without feature names\n",
      "  warnings.warn(\n"
     ]
    },
    {
     "name": "stdout",
     "output_type": "stream",
     "text": [
      "\u001b[1m64/64\u001b[0m \u001b[32m━━━━━━━━━━━━━━━━━━━━\u001b[0m\u001b[37m\u001b[0m \u001b[1m0s\u001b[0m 2ms/step\n",
      "LR - MAPE: 0.1012, MAE: 0.1755, RMSE: 0.2400, R2: 0.7920\n",
      "DL - MAPE: 0.0334, MAE: 0.0549, RMSE: 0.0749, R2: 0.9798\n",
      "\n",
      "Repeat 3/10\n"
     ]
    },
    {
     "name": "stderr",
     "output_type": "stream",
     "text": [
      "c:\\Users\\rezab\\anaconda3\\Lib\\site-packages\\sklearn\\utils\\validation.py:2732: UserWarning: X has feature names, but StandardScaler was fitted without feature names\n",
      "  warnings.warn(\n"
     ]
    },
    {
     "name": "stdout",
     "output_type": "stream",
     "text": [
      "\u001b[1m64/64\u001b[0m \u001b[32m━━━━━━━━━━━━━━━━━━━━\u001b[0m\u001b[37m\u001b[0m \u001b[1m0s\u001b[0m 1ms/step\n",
      "LR - MAPE: 0.0995, MAE: 0.1779, RMSE: 0.2469, R2: 0.7979\n",
      "DL - MAPE: 0.0290, MAE: 0.0468, RMSE: 0.0626, R2: 0.9870\n",
      "\n",
      "Repeat 4/10\n"
     ]
    },
    {
     "name": "stderr",
     "output_type": "stream",
     "text": [
      "c:\\Users\\rezab\\anaconda3\\Lib\\site-packages\\sklearn\\utils\\validation.py:2732: UserWarning: X has feature names, but StandardScaler was fitted without feature names\n",
      "  warnings.warn(\n"
     ]
    },
    {
     "name": "stdout",
     "output_type": "stream",
     "text": [
      "\u001b[1m64/64\u001b[0m \u001b[32m━━━━━━━━━━━━━━━━━━━━\u001b[0m\u001b[37m\u001b[0m \u001b[1m0s\u001b[0m 2ms/step\n",
      "LR - MAPE: 0.1008, MAE: 0.1757, RMSE: 0.2391, R2: 0.7943\n",
      "DL - MAPE: 0.0346, MAE: 0.0555, RMSE: 0.0735, R2: 0.9806\n",
      "\n",
      "Repeat 5/10\n"
     ]
    },
    {
     "name": "stderr",
     "output_type": "stream",
     "text": [
      "c:\\Users\\rezab\\anaconda3\\Lib\\site-packages\\sklearn\\utils\\validation.py:2732: UserWarning: X has feature names, but StandardScaler was fitted without feature names\n",
      "  warnings.warn(\n"
     ]
    },
    {
     "name": "stdout",
     "output_type": "stream",
     "text": [
      "\u001b[1m64/64\u001b[0m \u001b[32m━━━━━━━━━━━━━━━━━━━━\u001b[0m\u001b[37m\u001b[0m \u001b[1m0s\u001b[0m 1ms/step\n",
      "LR - MAPE: 0.0989, MAE: 0.1746, RMSE: 0.2432, R2: 0.7939\n",
      "DL - MAPE: 0.0309, MAE: 0.0539, RMSE: 0.0737, R2: 0.9810\n",
      "\n",
      "Repeat 6/10\n"
     ]
    },
    {
     "name": "stderr",
     "output_type": "stream",
     "text": [
      "c:\\Users\\rezab\\anaconda3\\Lib\\site-packages\\sklearn\\utils\\validation.py:2732: UserWarning: X has feature names, but StandardScaler was fitted without feature names\n",
      "  warnings.warn(\n"
     ]
    },
    {
     "name": "stdout",
     "output_type": "stream",
     "text": [
      "\u001b[1m64/64\u001b[0m \u001b[32m━━━━━━━━━━━━━━━━━━━━\u001b[0m\u001b[37m\u001b[0m \u001b[1m0s\u001b[0m 2ms/step\n",
      "LR - MAPE: 0.1024, MAE: 0.1727, RMSE: 0.2285, R2: 0.7933\n",
      "DL - MAPE: 0.0261, MAE: 0.0431, RMSE: 0.0589, R2: 0.9862\n",
      "\n",
      "Repeat 7/10\n"
     ]
    },
    {
     "name": "stderr",
     "output_type": "stream",
     "text": [
      "c:\\Users\\rezab\\anaconda3\\Lib\\site-packages\\sklearn\\utils\\validation.py:2732: UserWarning: X has feature names, but StandardScaler was fitted without feature names\n",
      "  warnings.warn(\n"
     ]
    },
    {
     "name": "stdout",
     "output_type": "stream",
     "text": [
      "\u001b[1m64/64\u001b[0m \u001b[32m━━━━━━━━━━━━━━━━━━━━\u001b[0m\u001b[37m\u001b[0m \u001b[1m0s\u001b[0m 1ms/step\n",
      "LR - MAPE: 0.1040, MAE: 0.1811, RMSE: 0.2431, R2: 0.7894\n",
      "DL - MAPE: 0.0286, MAE: 0.0463, RMSE: 0.0615, R2: 0.9865\n",
      "\n",
      "Repeat 8/10\n"
     ]
    },
    {
     "name": "stderr",
     "output_type": "stream",
     "text": [
      "c:\\Users\\rezab\\anaconda3\\Lib\\site-packages\\sklearn\\utils\\validation.py:2732: UserWarning: X has feature names, but StandardScaler was fitted without feature names\n",
      "  warnings.warn(\n"
     ]
    },
    {
     "name": "stdout",
     "output_type": "stream",
     "text": [
      "\u001b[1m64/64\u001b[0m \u001b[32m━━━━━━━━━━━━━━━━━━━━\u001b[0m\u001b[37m\u001b[0m \u001b[1m0s\u001b[0m 2ms/step\n",
      "LR - MAPE: 0.1046, MAE: 0.1774, RMSE: 0.2332, R2: 0.7868\n",
      "DL - MAPE: 0.0285, MAE: 0.0468, RMSE: 0.0595, R2: 0.9861\n",
      "\n",
      "Repeat 9/10\n"
     ]
    },
    {
     "name": "stderr",
     "output_type": "stream",
     "text": [
      "c:\\Users\\rezab\\anaconda3\\Lib\\site-packages\\sklearn\\utils\\validation.py:2732: UserWarning: X has feature names, but StandardScaler was fitted without feature names\n",
      "  warnings.warn(\n"
     ]
    },
    {
     "name": "stdout",
     "output_type": "stream",
     "text": [
      "\u001b[1m64/64\u001b[0m \u001b[32m━━━━━━━━━━━━━━━━━━━━\u001b[0m\u001b[37m\u001b[0m \u001b[1m0s\u001b[0m 1ms/step\n",
      "LR - MAPE: 0.1014, MAE: 0.1777, RMSE: 0.2428, R2: 0.7940\n",
      "DL - MAPE: 0.0308, MAE: 0.0517, RMSE: 0.0683, R2: 0.9837\n",
      "\n",
      "Repeat 10/10\n"
     ]
    },
    {
     "name": "stderr",
     "output_type": "stream",
     "text": [
      "c:\\Users\\rezab\\anaconda3\\Lib\\site-packages\\sklearn\\utils\\validation.py:2732: UserWarning: X has feature names, but StandardScaler was fitted without feature names\n",
      "  warnings.warn(\n"
     ]
    },
    {
     "name": "stdout",
     "output_type": "stream",
     "text": [
      "\u001b[1m64/64\u001b[0m \u001b[32m━━━━━━━━━━━━━━━━━━━━\u001b[0m\u001b[37m\u001b[0m \u001b[1m0s\u001b[0m 2ms/step\n",
      "LR - MAPE: 0.0996, MAE: 0.1727, RMSE: 0.2364, R2: 0.7977\n",
      "DL - MAPE: 0.0282, MAE: 0.0461, RMSE: 0.0608, R2: 0.9866\n",
      "\n",
      "> System: dconvert, Dataset: jpeg-small.csv\n",
      "> Training data fraction: 0.7, Number of repeats: 10\n",
      "\n",
      "Repeat 1/10\n"
     ]
    },
    {
     "name": "stderr",
     "output_type": "stream",
     "text": [
      "c:\\Users\\rezab\\anaconda3\\Lib\\site-packages\\sklearn\\utils\\validation.py:2732: UserWarning: X has feature names, but StandardScaler was fitted without feature names\n",
      "  warnings.warn(\n"
     ]
    },
    {
     "name": "stdout",
     "output_type": "stream",
     "text": [
      "\u001b[1m64/64\u001b[0m \u001b[32m━━━━━━━━━━━━━━━━━━━━\u001b[0m\u001b[37m\u001b[0m \u001b[1m0s\u001b[0m 2ms/step\n",
      "LR - MAPE: 0.0353, MAE: 0.0152, RMSE: 0.0194, R2: 0.4396\n",
      "DL - MAPE: 0.0319, MAE: 0.0137, RMSE: 0.0175, R2: 0.5420\n",
      "\n",
      "Repeat 2/10\n"
     ]
    },
    {
     "name": "stderr",
     "output_type": "stream",
     "text": [
      "c:\\Users\\rezab\\anaconda3\\Lib\\site-packages\\sklearn\\utils\\validation.py:2732: UserWarning: X has feature names, but StandardScaler was fitted without feature names\n",
      "  warnings.warn(\n"
     ]
    },
    {
     "name": "stdout",
     "output_type": "stream",
     "text": [
      "\u001b[1m64/64\u001b[0m \u001b[32m━━━━━━━━━━━━━━━━━━━━\u001b[0m\u001b[37m\u001b[0m \u001b[1m0s\u001b[0m 1ms/step\n",
      "LR - MAPE: 0.0356, MAE: 0.0153, RMSE: 0.0195, R2: 0.4369\n",
      "DL - MAPE: 0.0316, MAE: 0.0137, RMSE: 0.0178, R2: 0.5294\n",
      "\n",
      "Repeat 3/10\n"
     ]
    },
    {
     "name": "stderr",
     "output_type": "stream",
     "text": [
      "c:\\Users\\rezab\\anaconda3\\Lib\\site-packages\\sklearn\\utils\\validation.py:2732: UserWarning: X has feature names, but StandardScaler was fitted without feature names\n",
      "  warnings.warn(\n"
     ]
    },
    {
     "name": "stdout",
     "output_type": "stream",
     "text": [
      "\u001b[1m64/64\u001b[0m \u001b[32m━━━━━━━━━━━━━━━━━━━━\u001b[0m\u001b[37m\u001b[0m \u001b[1m0s\u001b[0m 2ms/step\n",
      "LR - MAPE: 0.0348, MAE: 0.0150, RMSE: 0.0192, R2: 0.4465\n",
      "DL - MAPE: 0.0301, MAE: 0.0130, RMSE: 0.0173, R2: 0.5512\n",
      "\n",
      "Repeat 4/10\n"
     ]
    },
    {
     "name": "stderr",
     "output_type": "stream",
     "text": [
      "c:\\Users\\rezab\\anaconda3\\Lib\\site-packages\\sklearn\\utils\\validation.py:2732: UserWarning: X has feature names, but StandardScaler was fitted without feature names\n",
      "  warnings.warn(\n"
     ]
    },
    {
     "name": "stdout",
     "output_type": "stream",
     "text": [
      "\u001b[1m64/64\u001b[0m \u001b[32m━━━━━━━━━━━━━━━━━━━━\u001b[0m\u001b[37m\u001b[0m \u001b[1m0s\u001b[0m 2ms/step\n",
      "LR - MAPE: 0.0359, MAE: 0.0154, RMSE: 0.0195, R2: 0.4212\n",
      "DL - MAPE: 0.0305, MAE: 0.0132, RMSE: 0.0174, R2: 0.5380\n",
      "\n",
      "Repeat 5/10\n"
     ]
    },
    {
     "name": "stderr",
     "output_type": "stream",
     "text": [
      "c:\\Users\\rezab\\anaconda3\\Lib\\site-packages\\sklearn\\utils\\validation.py:2732: UserWarning: X has feature names, but StandardScaler was fitted without feature names\n",
      "  warnings.warn(\n"
     ]
    },
    {
     "name": "stdout",
     "output_type": "stream",
     "text": [
      "\u001b[1m64/64\u001b[0m \u001b[32m━━━━━━━━━━━━━━━━━━━━\u001b[0m\u001b[37m\u001b[0m \u001b[1m0s\u001b[0m 2ms/step\n",
      "LR - MAPE: 0.0352, MAE: 0.0151, RMSE: 0.0193, R2: 0.4303\n",
      "DL - MAPE: 0.0308, MAE: 0.0133, RMSE: 0.0176, R2: 0.5265\n",
      "\n",
      "Repeat 6/10\n"
     ]
    },
    {
     "name": "stderr",
     "output_type": "stream",
     "text": [
      "c:\\Users\\rezab\\anaconda3\\Lib\\site-packages\\sklearn\\utils\\validation.py:2732: UserWarning: X has feature names, but StandardScaler was fitted without feature names\n",
      "  warnings.warn(\n"
     ]
    },
    {
     "name": "stdout",
     "output_type": "stream",
     "text": [
      "\u001b[1m64/64\u001b[0m \u001b[32m━━━━━━━━━━━━━━━━━━━━\u001b[0m\u001b[37m\u001b[0m \u001b[1m0s\u001b[0m 1ms/step\n",
      "LR - MAPE: 0.0346, MAE: 0.0147, RMSE: 0.0188, R2: 0.4271\n",
      "DL - MAPE: 0.0296, MAE: 0.0127, RMSE: 0.0167, R2: 0.5507\n",
      "\n",
      "Repeat 7/10\n"
     ]
    },
    {
     "name": "stderr",
     "output_type": "stream",
     "text": [
      "c:\\Users\\rezab\\anaconda3\\Lib\\site-packages\\sklearn\\utils\\validation.py:2732: UserWarning: X has feature names, but StandardScaler was fitted without feature names\n",
      "  warnings.warn(\n"
     ]
    },
    {
     "name": "stdout",
     "output_type": "stream",
     "text": [
      "\u001b[1m64/64\u001b[0m \u001b[32m━━━━━━━━━━━━━━━━━━━━\u001b[0m\u001b[37m\u001b[0m \u001b[1m0s\u001b[0m 1ms/step\n",
      "LR - MAPE: 0.0350, MAE: 0.0150, RMSE: 0.0192, R2: 0.4113\n",
      "DL - MAPE: 0.0300, MAE: 0.0129, RMSE: 0.0170, R2: 0.5340\n",
      "\n",
      "Repeat 8/10\n"
     ]
    },
    {
     "name": "stderr",
     "output_type": "stream",
     "text": [
      "c:\\Users\\rezab\\anaconda3\\Lib\\site-packages\\sklearn\\utils\\validation.py:2732: UserWarning: X has feature names, but StandardScaler was fitted without feature names\n",
      "  warnings.warn(\n"
     ]
    },
    {
     "name": "stdout",
     "output_type": "stream",
     "text": [
      "\u001b[1m64/64\u001b[0m \u001b[32m━━━━━━━━━━━━━━━━━━━━\u001b[0m\u001b[37m\u001b[0m \u001b[1m0s\u001b[0m 1ms/step\n",
      "LR - MAPE: 0.0350, MAE: 0.0150, RMSE: 0.0191, R2: 0.4336\n",
      "DL - MAPE: 0.0300, MAE: 0.0129, RMSE: 0.0170, R2: 0.5539\n",
      "\n",
      "Repeat 9/10\n"
     ]
    },
    {
     "name": "stderr",
     "output_type": "stream",
     "text": [
      "c:\\Users\\rezab\\anaconda3\\Lib\\site-packages\\sklearn\\utils\\validation.py:2732: UserWarning: X has feature names, but StandardScaler was fitted without feature names\n",
      "  warnings.warn(\n"
     ]
    },
    {
     "name": "stdout",
     "output_type": "stream",
     "text": [
      "\u001b[1m64/64\u001b[0m \u001b[32m━━━━━━━━━━━━━━━━━━━━\u001b[0m\u001b[37m\u001b[0m \u001b[1m0s\u001b[0m 1ms/step\n",
      "LR - MAPE: 0.0349, MAE: 0.0150, RMSE: 0.0193, R2: 0.4464\n",
      "DL - MAPE: 0.0303, MAE: 0.0131, RMSE: 0.0172, R2: 0.5565\n",
      "\n",
      "Repeat 10/10\n"
     ]
    },
    {
     "name": "stderr",
     "output_type": "stream",
     "text": [
      "c:\\Users\\rezab\\anaconda3\\Lib\\site-packages\\sklearn\\utils\\validation.py:2732: UserWarning: X has feature names, but StandardScaler was fitted without feature names\n",
      "  warnings.warn(\n"
     ]
    },
    {
     "name": "stdout",
     "output_type": "stream",
     "text": [
      "\u001b[1m64/64\u001b[0m \u001b[32m━━━━━━━━━━━━━━━━━━━━\u001b[0m\u001b[37m\u001b[0m \u001b[1m0s\u001b[0m 1ms/step\n",
      "LR - MAPE: 0.0347, MAE: 0.0149, RMSE: 0.0193, R2: 0.4328\n",
      "DL - MAPE: 0.0306, MAE: 0.0132, RMSE: 0.0177, R2: 0.5230\n",
      "\n",
      "> System: dconvert, Dataset: png-large.csv\n",
      "> Training data fraction: 0.7, Number of repeats: 10\n",
      "\n",
      "Repeat 1/10\n"
     ]
    },
    {
     "name": "stderr",
     "output_type": "stream",
     "text": [
      "c:\\Users\\rezab\\anaconda3\\Lib\\site-packages\\sklearn\\utils\\validation.py:2732: UserWarning: X has feature names, but StandardScaler was fitted without feature names\n",
      "  warnings.warn(\n"
     ]
    },
    {
     "name": "stdout",
     "output_type": "stream",
     "text": [
      "\u001b[1m64/64\u001b[0m \u001b[32m━━━━━━━━━━━━━━━━━━━━\u001b[0m\u001b[37m\u001b[0m \u001b[1m0s\u001b[0m 1ms/step\n",
      "LR - MAPE: 0.0929, MAE: 0.2221, RMSE: 0.2871, R2: 0.8125\n",
      "DL - MAPE: 0.0387, MAE: 0.0934, RMSE: 0.1410, R2: 0.9548\n",
      "\n",
      "Repeat 2/10\n"
     ]
    },
    {
     "name": "stderr",
     "output_type": "stream",
     "text": [
      "c:\\Users\\rezab\\anaconda3\\Lib\\site-packages\\sklearn\\utils\\validation.py:2732: UserWarning: X has feature names, but StandardScaler was fitted without feature names\n",
      "  warnings.warn(\n"
     ]
    },
    {
     "name": "stdout",
     "output_type": "stream",
     "text": [
      "\u001b[1m64/64\u001b[0m \u001b[32m━━━━━━━━━━━━━━━━━━━━\u001b[0m\u001b[37m\u001b[0m \u001b[1m0s\u001b[0m 1ms/step\n",
      "LR - MAPE: 0.0929, MAE: 0.2176, RMSE: 0.2787, R2: 0.8188\n",
      "DL - MAPE: 0.0363, MAE: 0.0916, RMSE: 0.1396, R2: 0.9545\n",
      "\n",
      "Repeat 3/10\n"
     ]
    },
    {
     "name": "stderr",
     "output_type": "stream",
     "text": [
      "c:\\Users\\rezab\\anaconda3\\Lib\\site-packages\\sklearn\\utils\\validation.py:2732: UserWarning: X has feature names, but StandardScaler was fitted without feature names\n",
      "  warnings.warn(\n"
     ]
    },
    {
     "name": "stdout",
     "output_type": "stream",
     "text": [
      "\u001b[1m64/64\u001b[0m \u001b[32m━━━━━━━━━━━━━━━━━━━━\u001b[0m\u001b[37m\u001b[0m \u001b[1m0s\u001b[0m 1ms/step\n",
      "LR - MAPE: 0.0908, MAE: 0.2192, RMSE: 0.2849, R2: 0.8254\n",
      "DL - MAPE: 0.0396, MAE: 0.0993, RMSE: 0.1500, R2: 0.9516\n",
      "\n",
      "Repeat 4/10\n"
     ]
    },
    {
     "name": "stderr",
     "output_type": "stream",
     "text": [
      "c:\\Users\\rezab\\anaconda3\\Lib\\site-packages\\sklearn\\utils\\validation.py:2732: UserWarning: X has feature names, but StandardScaler was fitted without feature names\n",
      "  warnings.warn(\n"
     ]
    },
    {
     "name": "stdout",
     "output_type": "stream",
     "text": [
      "\u001b[1m64/64\u001b[0m \u001b[32m━━━━━━━━━━━━━━━━━━━━\u001b[0m\u001b[37m\u001b[0m \u001b[1m0s\u001b[0m 1ms/step\n",
      "LR - MAPE: 0.0912, MAE: 0.2165, RMSE: 0.2773, R2: 0.8211\n",
      "DL - MAPE: 0.0371, MAE: 0.0950, RMSE: 0.1444, R2: 0.9515\n",
      "\n",
      "Repeat 5/10\n"
     ]
    },
    {
     "name": "stderr",
     "output_type": "stream",
     "text": [
      "c:\\Users\\rezab\\anaconda3\\Lib\\site-packages\\sklearn\\utils\\validation.py:2732: UserWarning: X has feature names, but StandardScaler was fitted without feature names\n",
      "  warnings.warn(\n"
     ]
    },
    {
     "name": "stdout",
     "output_type": "stream",
     "text": [
      "\u001b[1m64/64\u001b[0m \u001b[32m━━━━━━━━━━━━━━━━━━━━\u001b[0m\u001b[37m\u001b[0m \u001b[1m0s\u001b[0m 1ms/step\n",
      "LR - MAPE: 0.0905, MAE: 0.2170, RMSE: 0.2844, R2: 0.8158\n",
      "DL - MAPE: 0.0355, MAE: 0.0928, RMSE: 0.1501, R2: 0.9487\n",
      "\n",
      "Repeat 6/10\n"
     ]
    },
    {
     "name": "stderr",
     "output_type": "stream",
     "text": [
      "c:\\Users\\rezab\\anaconda3\\Lib\\site-packages\\sklearn\\utils\\validation.py:2732: UserWarning: X has feature names, but StandardScaler was fitted without feature names\n",
      "  warnings.warn(\n"
     ]
    },
    {
     "name": "stdout",
     "output_type": "stream",
     "text": [
      "\u001b[1m64/64\u001b[0m \u001b[32m━━━━━━━━━━━━━━━━━━━━\u001b[0m\u001b[37m\u001b[0m \u001b[1m0s\u001b[0m 1ms/step\n",
      "LR - MAPE: 0.0910, MAE: 0.2098, RMSE: 0.2648, R2: 0.8237\n",
      "DL - MAPE: 0.0364, MAE: 0.0889, RMSE: 0.1344, R2: 0.9546\n",
      "\n",
      "Repeat 7/10\n"
     ]
    },
    {
     "name": "stderr",
     "output_type": "stream",
     "text": [
      "c:\\Users\\rezab\\anaconda3\\Lib\\site-packages\\sklearn\\utils\\validation.py:2732: UserWarning: X has feature names, but StandardScaler was fitted without feature names\n",
      "  warnings.warn(\n"
     ]
    },
    {
     "name": "stdout",
     "output_type": "stream",
     "text": [
      "\u001b[1m64/64\u001b[0m \u001b[32m━━━━━━━━━━━━━━━━━━━━\u001b[0m\u001b[37m\u001b[0m \u001b[1m0s\u001b[0m 1ms/step\n",
      "LR - MAPE: 0.0940, MAE: 0.2211, RMSE: 0.2788, R2: 0.8160\n",
      "DL - MAPE: 0.0381, MAE: 0.0935, RMSE: 0.1414, R2: 0.9527\n",
      "\n",
      "Repeat 8/10\n"
     ]
    },
    {
     "name": "stderr",
     "output_type": "stream",
     "text": [
      "c:\\Users\\rezab\\anaconda3\\Lib\\site-packages\\sklearn\\utils\\validation.py:2732: UserWarning: X has feature names, but StandardScaler was fitted without feature names\n",
      "  warnings.warn(\n"
     ]
    },
    {
     "name": "stdout",
     "output_type": "stream",
     "text": [
      "\u001b[1m64/64\u001b[0m \u001b[32m━━━━━━━━━━━━━━━━━━━━\u001b[0m\u001b[37m\u001b[0m \u001b[1m0s\u001b[0m 1ms/step\n",
      "LR - MAPE: 0.0933, MAE: 0.2178, RMSE: 0.2745, R2: 0.8171\n",
      "DL - MAPE: 0.0390, MAE: 0.0974, RMSE: 0.1486, R2: 0.9464\n",
      "\n",
      "Repeat 9/10\n"
     ]
    },
    {
     "name": "stderr",
     "output_type": "stream",
     "text": [
      "c:\\Users\\rezab\\anaconda3\\Lib\\site-packages\\sklearn\\utils\\validation.py:2732: UserWarning: X has feature names, but StandardScaler was fitted without feature names\n",
      "  warnings.warn(\n"
     ]
    },
    {
     "name": "stdout",
     "output_type": "stream",
     "text": [
      "\u001b[1m64/64\u001b[0m \u001b[32m━━━━━━━━━━━━━━━━━━━━\u001b[0m\u001b[37m\u001b[0m \u001b[1m0s\u001b[0m 1ms/step\n",
      "LR - MAPE: 0.0903, MAE: 0.2153, RMSE: 0.2789, R2: 0.8210\n",
      "DL - MAPE: 0.0368, MAE: 0.0935, RMSE: 0.1437, R2: 0.9524\n",
      "\n",
      "Repeat 10/10\n"
     ]
    },
    {
     "name": "stderr",
     "output_type": "stream",
     "text": [
      "c:\\Users\\rezab\\anaconda3\\Lib\\site-packages\\sklearn\\utils\\validation.py:2732: UserWarning: X has feature names, but StandardScaler was fitted without feature names\n",
      "  warnings.warn(\n"
     ]
    },
    {
     "name": "stdout",
     "output_type": "stream",
     "text": [
      "\u001b[1m64/64\u001b[0m \u001b[32m━━━━━━━━━━━━━━━━━━━━\u001b[0m\u001b[37m\u001b[0m \u001b[1m0s\u001b[0m 1ms/step\n",
      "LR - MAPE: 0.0915, MAE: 0.2160, RMSE: 0.2774, R2: 0.8229\n",
      "DL - MAPE: 0.0401, MAE: 0.0997, RMSE: 0.1463, R2: 0.9507\n",
      "\n",
      "> System: dconvert, Dataset: png-medium.csv\n",
      "> Training data fraction: 0.7, Number of repeats: 10\n",
      "\n",
      "Repeat 1/10\n"
     ]
    },
    {
     "name": "stderr",
     "output_type": "stream",
     "text": [
      "c:\\Users\\rezab\\anaconda3\\Lib\\site-packages\\sklearn\\utils\\validation.py:2732: UserWarning: X has feature names, but StandardScaler was fitted without feature names\n",
      "  warnings.warn(\n"
     ]
    },
    {
     "name": "stdout",
     "output_type": "stream",
     "text": [
      "\u001b[1m64/64\u001b[0m \u001b[32m━━━━━━━━━━━━━━━━━━━━\u001b[0m\u001b[37m\u001b[0m \u001b[1m0s\u001b[0m 1ms/step\n",
      "LR - MAPE: 0.0353, MAE: 0.0230, RMSE: 0.0291, R2: 0.8761\n",
      "DL - MAPE: 0.0285, MAE: 0.0182, RMSE: 0.0236, R2: 0.9188\n",
      "\n",
      "Repeat 2/10\n"
     ]
    },
    {
     "name": "stderr",
     "output_type": "stream",
     "text": [
      "c:\\Users\\rezab\\anaconda3\\Lib\\site-packages\\sklearn\\utils\\validation.py:2732: UserWarning: X has feature names, but StandardScaler was fitted without feature names\n",
      "  warnings.warn(\n"
     ]
    },
    {
     "name": "stdout",
     "output_type": "stream",
     "text": [
      "\u001b[1m64/64\u001b[0m \u001b[32m━━━━━━━━━━━━━━━━━━━━\u001b[0m\u001b[37m\u001b[0m \u001b[1m0s\u001b[0m 1ms/step\n",
      "LR - MAPE: 0.0352, MAE: 0.0229, RMSE: 0.0290, R2: 0.8769\n",
      "DL - MAPE: 0.0339, MAE: 0.0213, RMSE: 0.0274, R2: 0.8901\n",
      "\n",
      "Repeat 3/10\n"
     ]
    },
    {
     "name": "stderr",
     "output_type": "stream",
     "text": [
      "c:\\Users\\rezab\\anaconda3\\Lib\\site-packages\\sklearn\\utils\\validation.py:2732: UserWarning: X has feature names, but StandardScaler was fitted without feature names\n",
      "  warnings.warn(\n"
     ]
    },
    {
     "name": "stdout",
     "output_type": "stream",
     "text": [
      "\u001b[1m64/64\u001b[0m \u001b[32m━━━━━━━━━━━━━━━━━━━━\u001b[0m\u001b[37m\u001b[0m \u001b[1m0s\u001b[0m 2ms/step\n",
      "LR - MAPE: 0.0361, MAE: 0.0236, RMSE: 0.0298, R2: 0.8762\n",
      "DL - MAPE: 0.0300, MAE: 0.0193, RMSE: 0.0245, R2: 0.9162\n",
      "\n",
      "Repeat 4/10\n"
     ]
    },
    {
     "name": "stderr",
     "output_type": "stream",
     "text": [
      "c:\\Users\\rezab\\anaconda3\\Lib\\site-packages\\sklearn\\utils\\validation.py:2732: UserWarning: X has feature names, but StandardScaler was fitted without feature names\n",
      "  warnings.warn(\n"
     ]
    },
    {
     "name": "stdout",
     "output_type": "stream",
     "text": [
      "\u001b[1m64/64\u001b[0m \u001b[32m━━━━━━━━━━━━━━━━━━━━\u001b[0m\u001b[37m\u001b[0m \u001b[1m0s\u001b[0m 1ms/step\n",
      "LR - MAPE: 0.0357, MAE: 0.0233, RMSE: 0.0291, R2: 0.8735\n",
      "DL - MAPE: 0.0297, MAE: 0.0190, RMSE: 0.0243, R2: 0.9116\n",
      "\n",
      "Repeat 5/10\n"
     ]
    },
    {
     "name": "stderr",
     "output_type": "stream",
     "text": [
      "c:\\Users\\rezab\\anaconda3\\Lib\\site-packages\\sklearn\\utils\\validation.py:2732: UserWarning: X has feature names, but StandardScaler was fitted without feature names\n",
      "  warnings.warn(\n"
     ]
    },
    {
     "name": "stdout",
     "output_type": "stream",
     "text": [
      "\u001b[1m64/64\u001b[0m \u001b[32m━━━━━━━━━━━━━━━━━━━━\u001b[0m\u001b[37m\u001b[0m \u001b[1m0s\u001b[0m 1ms/step\n",
      "LR - MAPE: 0.0363, MAE: 0.0236, RMSE: 0.0298, R2: 0.8700\n",
      "DL - MAPE: 0.0297, MAE: 0.0190, RMSE: 0.0244, R2: 0.9131\n",
      "\n",
      "Repeat 6/10\n"
     ]
    },
    {
     "name": "stderr",
     "output_type": "stream",
     "text": [
      "c:\\Users\\rezab\\anaconda3\\Lib\\site-packages\\sklearn\\utils\\validation.py:2732: UserWarning: X has feature names, but StandardScaler was fitted without feature names\n",
      "  warnings.warn(\n"
     ]
    },
    {
     "name": "stdout",
     "output_type": "stream",
     "text": [
      "\u001b[1m64/64\u001b[0m \u001b[32m━━━━━━━━━━━━━━━━━━━━\u001b[0m\u001b[37m\u001b[0m \u001b[1m0s\u001b[0m 1ms/step\n",
      "LR - MAPE: 0.0355, MAE: 0.0227, RMSE: 0.0286, R2: 0.8719\n",
      "DL - MAPE: 0.0293, MAE: 0.0185, RMSE: 0.0236, R2: 0.9126\n",
      "\n",
      "Repeat 7/10\n"
     ]
    },
    {
     "name": "stderr",
     "output_type": "stream",
     "text": [
      "c:\\Users\\rezab\\anaconda3\\Lib\\site-packages\\sklearn\\utils\\validation.py:2732: UserWarning: X has feature names, but StandardScaler was fitted without feature names\n",
      "  warnings.warn(\n"
     ]
    },
    {
     "name": "stdout",
     "output_type": "stream",
     "text": [
      "\u001b[1m64/64\u001b[0m \u001b[32m━━━━━━━━━━━━━━━━━━━━\u001b[0m\u001b[37m\u001b[0m \u001b[1m0s\u001b[0m 1ms/step\n",
      "LR - MAPE: 0.0362, MAE: 0.0236, RMSE: 0.0296, R2: 0.8685\n",
      "DL - MAPE: 0.0324, MAE: 0.0211, RMSE: 0.0267, R2: 0.8934\n",
      "\n",
      "Repeat 8/10\n"
     ]
    },
    {
     "name": "stderr",
     "output_type": "stream",
     "text": [
      "c:\\Users\\rezab\\anaconda3\\Lib\\site-packages\\sklearn\\utils\\validation.py:2732: UserWarning: X has feature names, but StandardScaler was fitted without feature names\n",
      "  warnings.warn(\n"
     ]
    },
    {
     "name": "stdout",
     "output_type": "stream",
     "text": [
      "\u001b[1m64/64\u001b[0m \u001b[32m━━━━━━━━━━━━━━━━━━━━\u001b[0m\u001b[37m\u001b[0m \u001b[1m0s\u001b[0m 1ms/step\n",
      "LR - MAPE: 0.0353, MAE: 0.0229, RMSE: 0.0287, R2: 0.8717\n",
      "DL - MAPE: 0.0282, MAE: 0.0182, RMSE: 0.0237, R2: 0.9126\n",
      "\n",
      "Repeat 9/10\n"
     ]
    },
    {
     "name": "stderr",
     "output_type": "stream",
     "text": [
      "c:\\Users\\rezab\\anaconda3\\Lib\\site-packages\\sklearn\\utils\\validation.py:2732: UserWarning: X has feature names, but StandardScaler was fitted without feature names\n",
      "  warnings.warn(\n"
     ]
    },
    {
     "name": "stdout",
     "output_type": "stream",
     "text": [
      "\u001b[1m64/64\u001b[0m \u001b[32m━━━━━━━━━━━━━━━━━━━━\u001b[0m\u001b[37m\u001b[0m \u001b[1m0s\u001b[0m 1ms/step\n",
      "LR - MAPE: 0.0356, MAE: 0.0232, RMSE: 0.0294, R2: 0.8711\n",
      "DL - MAPE: 0.0320, MAE: 0.0207, RMSE: 0.0265, R2: 0.8959\n",
      "\n",
      "Repeat 10/10\n"
     ]
    },
    {
     "name": "stderr",
     "output_type": "stream",
     "text": [
      "c:\\Users\\rezab\\anaconda3\\Lib\\site-packages\\sklearn\\utils\\validation.py:2732: UserWarning: X has feature names, but StandardScaler was fitted without feature names\n",
      "  warnings.warn(\n"
     ]
    },
    {
     "name": "stdout",
     "output_type": "stream",
     "text": [
      "\u001b[1m64/64\u001b[0m \u001b[32m━━━━━━━━━━━━━━━━━━━━\u001b[0m\u001b[37m\u001b[0m \u001b[1m0s\u001b[0m 2ms/step\n",
      "LR - MAPE: 0.0353, MAE: 0.0230, RMSE: 0.0290, R2: 0.8756\n",
      "DL - MAPE: 0.0316, MAE: 0.0206, RMSE: 0.0262, R2: 0.8986\n",
      "\n",
      "> System: dconvert, Dataset: png-small.csv\n",
      "> Training data fraction: 0.7, Number of repeats: 10\n",
      "\n",
      "Repeat 1/10\n"
     ]
    },
    {
     "name": "stderr",
     "output_type": "stream",
     "text": [
      "c:\\Users\\rezab\\anaconda3\\Lib\\site-packages\\sklearn\\utils\\validation.py:2732: UserWarning: X has feature names, but StandardScaler was fitted without feature names\n",
      "  warnings.warn(\n"
     ]
    },
    {
     "name": "stdout",
     "output_type": "stream",
     "text": [
      "\u001b[1m64/64\u001b[0m \u001b[32m━━━━━━━━━━━━━━━━━━━━\u001b[0m\u001b[37m\u001b[0m \u001b[1m0s\u001b[0m 1ms/step\n",
      "LR - MAPE: 0.0335, MAE: 0.0150, RMSE: 0.0198, R2: 0.6234\n",
      "DL - MAPE: 0.0327, MAE: 0.0146, RMSE: 0.0193, R2: 0.6424\n",
      "\n",
      "Repeat 2/10\n"
     ]
    },
    {
     "name": "stderr",
     "output_type": "stream",
     "text": [
      "c:\\Users\\rezab\\anaconda3\\Lib\\site-packages\\sklearn\\utils\\validation.py:2732: UserWarning: X has feature names, but StandardScaler was fitted without feature names\n",
      "  warnings.warn(\n"
     ]
    },
    {
     "name": "stdout",
     "output_type": "stream",
     "text": [
      "\u001b[1m64/64\u001b[0m \u001b[32m━━━━━━━━━━━━━━━━━━━━\u001b[0m\u001b[37m\u001b[0m \u001b[1m0s\u001b[0m 1ms/step\n",
      "LR - MAPE: 0.0337, MAE: 0.0152, RMSE: 0.0202, R2: 0.6328\n",
      "DL - MAPE: 0.0323, MAE: 0.0145, RMSE: 0.0196, R2: 0.6519\n",
      "\n",
      "Repeat 3/10\n"
     ]
    },
    {
     "name": "stderr",
     "output_type": "stream",
     "text": [
      "c:\\Users\\rezab\\anaconda3\\Lib\\site-packages\\sklearn\\utils\\validation.py:2732: UserWarning: X has feature names, but StandardScaler was fitted without feature names\n",
      "  warnings.warn(\n"
     ]
    },
    {
     "name": "stdout",
     "output_type": "stream",
     "text": [
      "\u001b[1m64/64\u001b[0m \u001b[32m━━━━━━━━━━━━━━━━━━━━\u001b[0m\u001b[37m\u001b[0m \u001b[1m0s\u001b[0m 1ms/step\n",
      "LR - MAPE: 0.0337, MAE: 0.0152, RMSE: 0.0203, R2: 0.6409\n",
      "DL - MAPE: 0.0334, MAE: 0.0150, RMSE: 0.0201, R2: 0.6478\n",
      "\n",
      "Repeat 4/10\n"
     ]
    },
    {
     "name": "stderr",
     "output_type": "stream",
     "text": [
      "c:\\Users\\rezab\\anaconda3\\Lib\\site-packages\\sklearn\\utils\\validation.py:2732: UserWarning: X has feature names, but StandardScaler was fitted without feature names\n",
      "  warnings.warn(\n"
     ]
    },
    {
     "name": "stdout",
     "output_type": "stream",
     "text": [
      "\u001b[1m64/64\u001b[0m \u001b[32m━━━━━━━━━━━━━━━━━━━━\u001b[0m\u001b[37m\u001b[0m \u001b[1m0s\u001b[0m 1ms/step\n",
      "LR - MAPE: 0.0334, MAE: 0.0150, RMSE: 0.0197, R2: 0.6449\n",
      "DL - MAPE: 0.0329, MAE: 0.0147, RMSE: 0.0196, R2: 0.6487\n",
      "\n",
      "Repeat 5/10\n"
     ]
    },
    {
     "name": "stderr",
     "output_type": "stream",
     "text": [
      "c:\\Users\\rezab\\anaconda3\\Lib\\site-packages\\sklearn\\utils\\validation.py:2732: UserWarning: X has feature names, but StandardScaler was fitted without feature names\n",
      "  warnings.warn(\n"
     ]
    },
    {
     "name": "stdout",
     "output_type": "stream",
     "text": [
      "\u001b[1m64/64\u001b[0m \u001b[32m━━━━━━━━━━━━━━━━━━━━\u001b[0m\u001b[37m\u001b[0m \u001b[1m0s\u001b[0m 1ms/step\n",
      "LR - MAPE: 0.0333, MAE: 0.0149, RMSE: 0.0195, R2: 0.6427\n",
      "DL - MAPE: 0.0322, MAE: 0.0144, RMSE: 0.0190, R2: 0.6584\n",
      "\n",
      "Repeat 6/10\n"
     ]
    },
    {
     "name": "stderr",
     "output_type": "stream",
     "text": [
      "c:\\Users\\rezab\\anaconda3\\Lib\\site-packages\\sklearn\\utils\\validation.py:2732: UserWarning: X has feature names, but StandardScaler was fitted without feature names\n",
      "  warnings.warn(\n"
     ]
    },
    {
     "name": "stdout",
     "output_type": "stream",
     "text": [
      "\u001b[1m64/64\u001b[0m \u001b[32m━━━━━━━━━━━━━━━━━━━━\u001b[0m\u001b[37m\u001b[0m \u001b[1m0s\u001b[0m 1ms/step\n",
      "LR - MAPE: 0.0338, MAE: 0.0151, RMSE: 0.0199, R2: 0.6234\n",
      "DL - MAPE: 0.0324, MAE: 0.0145, RMSE: 0.0195, R2: 0.6382\n",
      "\n",
      "Repeat 7/10\n"
     ]
    },
    {
     "name": "stderr",
     "output_type": "stream",
     "text": [
      "c:\\Users\\rezab\\anaconda3\\Lib\\site-packages\\sklearn\\utils\\validation.py:2732: UserWarning: X has feature names, but StandardScaler was fitted without feature names\n",
      "  warnings.warn(\n"
     ]
    },
    {
     "name": "stdout",
     "output_type": "stream",
     "text": [
      "\u001b[1m64/64\u001b[0m \u001b[32m━━━━━━━━━━━━━━━━━━━━\u001b[0m\u001b[37m\u001b[0m \u001b[1m0s\u001b[0m 1ms/step\n",
      "LR - MAPE: 0.0333, MAE: 0.0149, RMSE: 0.0197, R2: 0.6393\n",
      "DL - MAPE: 0.0333, MAE: 0.0150, RMSE: 0.0203, R2: 0.6176\n",
      "\n",
      "Repeat 8/10\n"
     ]
    },
    {
     "name": "stderr",
     "output_type": "stream",
     "text": [
      "c:\\Users\\rezab\\anaconda3\\Lib\\site-packages\\sklearn\\utils\\validation.py:2732: UserWarning: X has feature names, but StandardScaler was fitted without feature names\n",
      "  warnings.warn(\n"
     ]
    },
    {
     "name": "stdout",
     "output_type": "stream",
     "text": [
      "\u001b[1m64/64\u001b[0m \u001b[32m━━━━━━━━━━━━━━━━━━━━\u001b[0m\u001b[37m\u001b[0m \u001b[1m0s\u001b[0m 2ms/step\n",
      "LR - MAPE: 0.0328, MAE: 0.0147, RMSE: 0.0195, R2: 0.6488\n",
      "DL - MAPE: 0.0332, MAE: 0.0150, RMSE: 0.0205, R2: 0.6130\n",
      "\n",
      "Repeat 9/10\n"
     ]
    },
    {
     "name": "stderr",
     "output_type": "stream",
     "text": [
      "c:\\Users\\rezab\\anaconda3\\Lib\\site-packages\\sklearn\\utils\\validation.py:2732: UserWarning: X has feature names, but StandardScaler was fitted without feature names\n",
      "  warnings.warn(\n"
     ]
    },
    {
     "name": "stdout",
     "output_type": "stream",
     "text": [
      "\u001b[1m64/64\u001b[0m \u001b[32m━━━━━━━━━━━━━━━━━━━━\u001b[0m\u001b[37m\u001b[0m \u001b[1m0s\u001b[0m 2ms/step\n",
      "LR - MAPE: 0.0329, MAE: 0.0148, RMSE: 0.0194, R2: 0.6498\n",
      "DL - MAPE: 0.0327, MAE: 0.0148, RMSE: 0.0198, R2: 0.6350\n",
      "\n",
      "Repeat 10/10\n"
     ]
    },
    {
     "name": "stderr",
     "output_type": "stream",
     "text": [
      "c:\\Users\\rezab\\anaconda3\\Lib\\site-packages\\sklearn\\utils\\validation.py:2732: UserWarning: X has feature names, but StandardScaler was fitted without feature names\n",
      "  warnings.warn(\n"
     ]
    },
    {
     "name": "stdout",
     "output_type": "stream",
     "text": [
      "\u001b[1m64/64\u001b[0m \u001b[32m━━━━━━━━━━━━━━━━━━━━\u001b[0m\u001b[37m\u001b[0m \u001b[1m0s\u001b[0m 2ms/step  \n",
      "LR - MAPE: 0.0326, MAE: 0.0147, RMSE: 0.0199, R2: 0.6226\n",
      "DL - MAPE: 0.0326, MAE: 0.0148, RMSE: 0.0204, R2: 0.6031\n",
      "\n",
      "> System: dconvert, Dataset: psd-large.csv\n",
      "> Training data fraction: 0.7, Number of repeats: 10\n",
      "\n",
      "Repeat 1/10\n"
     ]
    },
    {
     "name": "stderr",
     "output_type": "stream",
     "text": [
      "c:\\Users\\rezab\\anaconda3\\Lib\\site-packages\\sklearn\\utils\\validation.py:2732: UserWarning: X has feature names, but StandardScaler was fitted without feature names\n",
      "  warnings.warn(\n"
     ]
    },
    {
     "name": "stdout",
     "output_type": "stream",
     "text": [
      "\u001b[1m64/64\u001b[0m \u001b[32m━━━━━━━━━━━━━━━━━━━━\u001b[0m\u001b[37m\u001b[0m \u001b[1m0s\u001b[0m 2ms/step\n",
      "LR - MAPE: 0.0140, MAE: 0.5233, RMSE: 0.8288, R2: 0.9961\n",
      "DL - MAPE: 0.0173, MAE: 0.5748, RMSE: 0.9509, R2: 0.9949\n",
      "\n",
      "Repeat 2/10\n"
     ]
    },
    {
     "name": "stderr",
     "output_type": "stream",
     "text": [
      "c:\\Users\\rezab\\anaconda3\\Lib\\site-packages\\sklearn\\utils\\validation.py:2732: UserWarning: X has feature names, but StandardScaler was fitted without feature names\n",
      "  warnings.warn(\n"
     ]
    },
    {
     "name": "stdout",
     "output_type": "stream",
     "text": [
      "\u001b[1m64/64\u001b[0m \u001b[32m━━━━━━━━━━━━━━━━━━━━\u001b[0m\u001b[37m\u001b[0m \u001b[1m0s\u001b[0m 1ms/step\n",
      "LR - MAPE: 0.0141, MAE: 0.5319, RMSE: 0.8755, R2: 0.9957\n",
      "DL - MAPE: 0.0257, MAE: 0.9467, RMSE: 1.3320, R2: 0.9901\n",
      "\n",
      "Repeat 3/10\n"
     ]
    },
    {
     "name": "stderr",
     "output_type": "stream",
     "text": [
      "c:\\Users\\rezab\\anaconda3\\Lib\\site-packages\\sklearn\\utils\\validation.py:2732: UserWarning: X has feature names, but StandardScaler was fitted without feature names\n",
      "  warnings.warn(\n"
     ]
    },
    {
     "name": "stdout",
     "output_type": "stream",
     "text": [
      "\u001b[1m64/64\u001b[0m \u001b[32m━━━━━━━━━━━━━━━━━━━━\u001b[0m\u001b[37m\u001b[0m \u001b[1m0s\u001b[0m 1ms/step\n",
      "LR - MAPE: 0.0143, MAE: 0.5379, RMSE: 0.8723, R2: 0.9959\n",
      "DL - MAPE: 0.0173, MAE: 0.6061, RMSE: 0.9259, R2: 0.9954\n",
      "\n",
      "Repeat 4/10\n"
     ]
    },
    {
     "name": "stderr",
     "output_type": "stream",
     "text": [
      "c:\\Users\\rezab\\anaconda3\\Lib\\site-packages\\sklearn\\utils\\validation.py:2732: UserWarning: X has feature names, but StandardScaler was fitted without feature names\n",
      "  warnings.warn(\n"
     ]
    },
    {
     "name": "stdout",
     "output_type": "stream",
     "text": [
      "\u001b[1m64/64\u001b[0m \u001b[32m━━━━━━━━━━━━━━━━━━━━\u001b[0m\u001b[37m\u001b[0m \u001b[1m0s\u001b[0m 1ms/step\n",
      "LR - MAPE: 0.0144, MAE: 0.5459, RMSE: 0.8807, R2: 0.9957\n",
      "DL - MAPE: 0.0177, MAE: 0.6048, RMSE: 1.0414, R2: 0.9940\n",
      "\n",
      "Repeat 5/10\n"
     ]
    },
    {
     "name": "stderr",
     "output_type": "stream",
     "text": [
      "c:\\Users\\rezab\\anaconda3\\Lib\\site-packages\\sklearn\\utils\\validation.py:2732: UserWarning: X has feature names, but StandardScaler was fitted without feature names\n",
      "  warnings.warn(\n"
     ]
    },
    {
     "name": "stdout",
     "output_type": "stream",
     "text": [
      "\u001b[1m64/64\u001b[0m \u001b[32m━━━━━━━━━━━━━━━━━━━━\u001b[0m\u001b[37m\u001b[0m \u001b[1m0s\u001b[0m 1ms/step\n",
      "LR - MAPE: 0.0145, MAE: 0.5463, RMSE: 0.9041, R2: 0.9954\n",
      "DL - MAPE: 0.0279, MAE: 0.9379, RMSE: 1.2339, R2: 0.9914\n",
      "\n",
      "Repeat 6/10\n"
     ]
    },
    {
     "name": "stderr",
     "output_type": "stream",
     "text": [
      "c:\\Users\\rezab\\anaconda3\\Lib\\site-packages\\sklearn\\utils\\validation.py:2732: UserWarning: X has feature names, but StandardScaler was fitted without feature names\n",
      "  warnings.warn(\n"
     ]
    },
    {
     "name": "stdout",
     "output_type": "stream",
     "text": [
      "\u001b[1m64/64\u001b[0m \u001b[32m━━━━━━━━━━━━━━━━━━━━\u001b[0m\u001b[37m\u001b[0m \u001b[1m0s\u001b[0m 1ms/step\n",
      "LR - MAPE: 0.0138, MAE: 0.5150, RMSE: 0.8372, R2: 0.9960\n",
      "DL - MAPE: 0.0202, MAE: 0.6937, RMSE: 1.0083, R2: 0.9942\n",
      "\n",
      "Repeat 7/10\n"
     ]
    },
    {
     "name": "stderr",
     "output_type": "stream",
     "text": [
      "c:\\Users\\rezab\\anaconda3\\Lib\\site-packages\\sklearn\\utils\\validation.py:2732: UserWarning: X has feature names, but StandardScaler was fitted without feature names\n",
      "  warnings.warn(\n"
     ]
    },
    {
     "name": "stdout",
     "output_type": "stream",
     "text": [
      "\u001b[1m64/64\u001b[0m \u001b[32m━━━━━━━━━━━━━━━━━━━━\u001b[0m\u001b[37m\u001b[0m \u001b[1m0s\u001b[0m 1ms/step\n",
      "LR - MAPE: 0.0142, MAE: 0.5245, RMSE: 0.8415, R2: 0.9960\n",
      "DL - MAPE: 0.0187, MAE: 0.6511, RMSE: 0.9693, R2: 0.9947\n",
      "\n",
      "Repeat 8/10\n"
     ]
    },
    {
     "name": "stderr",
     "output_type": "stream",
     "text": [
      "c:\\Users\\rezab\\anaconda3\\Lib\\site-packages\\sklearn\\utils\\validation.py:2732: UserWarning: X has feature names, but StandardScaler was fitted without feature names\n",
      "  warnings.warn(\n"
     ]
    },
    {
     "name": "stdout",
     "output_type": "stream",
     "text": [
      "\u001b[1m64/64\u001b[0m \u001b[32m━━━━━━━━━━━━━━━━━━━━\u001b[0m\u001b[37m\u001b[0m \u001b[1m0s\u001b[0m 1ms/step\n",
      "LR - MAPE: 0.0143, MAE: 0.5373, RMSE: 0.8883, R2: 0.9957\n",
      "DL - MAPE: 0.0219, MAE: 0.8266, RMSE: 1.1243, R2: 0.9932\n",
      "\n",
      "Repeat 9/10\n"
     ]
    },
    {
     "name": "stderr",
     "output_type": "stream",
     "text": [
      "c:\\Users\\rezab\\anaconda3\\Lib\\site-packages\\sklearn\\utils\\validation.py:2732: UserWarning: X has feature names, but StandardScaler was fitted without feature names\n",
      "  warnings.warn(\n"
     ]
    },
    {
     "name": "stdout",
     "output_type": "stream",
     "text": [
      "\u001b[1m64/64\u001b[0m \u001b[32m━━━━━━━━━━━━━━━━━━━━\u001b[0m\u001b[37m\u001b[0m \u001b[1m0s\u001b[0m 1ms/step\n",
      "LR - MAPE: 0.0143, MAE: 0.5377, RMSE: 0.8886, R2: 0.9957\n",
      "DL - MAPE: 0.0256, MAE: 0.9394, RMSE: 1.2916, R2: 0.9908\n",
      "\n",
      "Repeat 10/10\n"
     ]
    },
    {
     "name": "stderr",
     "output_type": "stream",
     "text": [
      "c:\\Users\\rezab\\anaconda3\\Lib\\site-packages\\sklearn\\utils\\validation.py:2732: UserWarning: X has feature names, but StandardScaler was fitted without feature names\n",
      "  warnings.warn(\n"
     ]
    },
    {
     "name": "stdout",
     "output_type": "stream",
     "text": [
      "\u001b[1m64/64\u001b[0m \u001b[32m━━━━━━━━━━━━━━━━━━━━\u001b[0m\u001b[37m\u001b[0m \u001b[1m0s\u001b[0m 1ms/step\n",
      "LR - MAPE: 0.0145, MAE: 0.5363, RMSE: 0.8773, R2: 0.9956\n",
      "DL - MAPE: 0.0160, MAE: 0.5488, RMSE: 0.9201, R2: 0.9952\n",
      "\n",
      "> System: dconvert, Dataset: psd-medium.csv\n",
      "> Training data fraction: 0.7, Number of repeats: 10\n",
      "\n",
      "Repeat 1/10\n"
     ]
    },
    {
     "name": "stderr",
     "output_type": "stream",
     "text": [
      "c:\\Users\\rezab\\anaconda3\\Lib\\site-packages\\sklearn\\utils\\validation.py:2732: UserWarning: X has feature names, but StandardScaler was fitted without feature names\n",
      "  warnings.warn(\n"
     ]
    },
    {
     "name": "stdout",
     "output_type": "stream",
     "text": [
      "\u001b[1m64/64\u001b[0m \u001b[32m━━━━━━━━━━━━━━━━━━━━\u001b[0m\u001b[37m\u001b[0m \u001b[1m0s\u001b[0m 1ms/step\n",
      "LR - MAPE: 0.0518, MAE: 0.0681, RMSE: 0.0930, R2: 0.7599\n",
      "DL - MAPE: 0.0288, MAE: 0.0374, RMSE: 0.0508, R2: 0.9285\n",
      "\n",
      "Repeat 2/10\n"
     ]
    },
    {
     "name": "stderr",
     "output_type": "stream",
     "text": [
      "c:\\Users\\rezab\\anaconda3\\Lib\\site-packages\\sklearn\\utils\\validation.py:2732: UserWarning: X has feature names, but StandardScaler was fitted without feature names\n",
      "  warnings.warn(\n"
     ]
    },
    {
     "name": "stdout",
     "output_type": "stream",
     "text": [
      "\u001b[1m64/64\u001b[0m \u001b[32m━━━━━━━━━━━━━━━━━━━━\u001b[0m\u001b[37m\u001b[0m \u001b[1m0s\u001b[0m 1ms/step\n",
      "LR - MAPE: 0.0517, MAE: 0.0669, RMSE: 0.0895, R2: 0.7697\n",
      "DL - MAPE: 0.0265, MAE: 0.0344, RMSE: 0.0461, R2: 0.9390\n",
      "\n",
      "Repeat 3/10\n"
     ]
    },
    {
     "name": "stderr",
     "output_type": "stream",
     "text": [
      "c:\\Users\\rezab\\anaconda3\\Lib\\site-packages\\sklearn\\utils\\validation.py:2732: UserWarning: X has feature names, but StandardScaler was fitted without feature names\n",
      "  warnings.warn(\n"
     ]
    },
    {
     "name": "stdout",
     "output_type": "stream",
     "text": [
      "\u001b[1m64/64\u001b[0m \u001b[32m━━━━━━━━━━━━━━━━━━━━\u001b[0m\u001b[37m\u001b[0m \u001b[1m0s\u001b[0m 1ms/step\n",
      "LR - MAPE: 0.0514, MAE: 0.0673, RMSE: 0.0904, R2: 0.7788\n",
      "DL - MAPE: 0.0284, MAE: 0.0382, RMSE: 0.0559, R2: 0.9154\n",
      "\n",
      "Repeat 4/10\n"
     ]
    },
    {
     "name": "stderr",
     "output_type": "stream",
     "text": [
      "c:\\Users\\rezab\\anaconda3\\Lib\\site-packages\\sklearn\\utils\\validation.py:2732: UserWarning: X has feature names, but StandardScaler was fitted without feature names\n",
      "  warnings.warn(\n"
     ]
    },
    {
     "name": "stdout",
     "output_type": "stream",
     "text": [
      "\u001b[1m64/64\u001b[0m \u001b[32m━━━━━━━━━━━━━━━━━━━━\u001b[0m\u001b[37m\u001b[0m \u001b[1m0s\u001b[0m 1ms/step\n",
      "LR - MAPE: 0.0510, MAE: 0.0663, RMSE: 0.0882, R2: 0.7763\n",
      "DL - MAPE: 0.0271, MAE: 0.0352, RMSE: 0.0462, R2: 0.9386\n",
      "\n",
      "Repeat 5/10\n"
     ]
    },
    {
     "name": "stderr",
     "output_type": "stream",
     "text": [
      "c:\\Users\\rezab\\anaconda3\\Lib\\site-packages\\sklearn\\utils\\validation.py:2732: UserWarning: X has feature names, but StandardScaler was fitted without feature names\n",
      "  warnings.warn(\n"
     ]
    },
    {
     "name": "stdout",
     "output_type": "stream",
     "text": [
      "\u001b[1m64/64\u001b[0m \u001b[32m━━━━━━━━━━━━━━━━━━━━\u001b[0m\u001b[37m\u001b[0m \u001b[1m0s\u001b[0m 1ms/step\n",
      "LR - MAPE: 0.0516, MAE: 0.0677, RMSE: 0.0913, R2: 0.7677\n",
      "DL - MAPE: 0.0279, MAE: 0.0365, RMSE: 0.0494, R2: 0.9320\n",
      "\n",
      "Repeat 6/10\n"
     ]
    },
    {
     "name": "stderr",
     "output_type": "stream",
     "text": [
      "c:\\Users\\rezab\\anaconda3\\Lib\\site-packages\\sklearn\\utils\\validation.py:2732: UserWarning: X has feature names, but StandardScaler was fitted without feature names\n",
      "  warnings.warn(\n"
     ]
    },
    {
     "name": "stdout",
     "output_type": "stream",
     "text": [
      "\u001b[1m64/64\u001b[0m \u001b[32m━━━━━━━━━━━━━━━━━━━━\u001b[0m\u001b[37m\u001b[0m \u001b[1m0s\u001b[0m 1ms/step\n",
      "LR - MAPE: 0.0512, MAE: 0.0653, RMSE: 0.0844, R2: 0.7707\n",
      "DL - MAPE: 0.0260, MAE: 0.0340, RMSE: 0.0465, R2: 0.9303\n",
      "\n",
      "Repeat 7/10\n"
     ]
    },
    {
     "name": "stderr",
     "output_type": "stream",
     "text": [
      "c:\\Users\\rezab\\anaconda3\\Lib\\site-packages\\sklearn\\utils\\validation.py:2732: UserWarning: X has feature names, but StandardScaler was fitted without feature names\n",
      "  warnings.warn(\n"
     ]
    },
    {
     "name": "stdout",
     "output_type": "stream",
     "text": [
      "\u001b[1m64/64\u001b[0m \u001b[32m━━━━━━━━━━━━━━━━━━━━\u001b[0m\u001b[37m\u001b[0m \u001b[1m0s\u001b[0m 1ms/step\n",
      "LR - MAPE: 0.0525, MAE: 0.0677, RMSE: 0.0890, R2: 0.7653\n",
      "DL - MAPE: 0.0256, MAE: 0.0334, RMSE: 0.0456, R2: 0.9384\n",
      "\n",
      "Repeat 8/10\n"
     ]
    },
    {
     "name": "stderr",
     "output_type": "stream",
     "text": [
      "c:\\Users\\rezab\\anaconda3\\Lib\\site-packages\\sklearn\\utils\\validation.py:2732: UserWarning: X has feature names, but StandardScaler was fitted without feature names\n",
      "  warnings.warn(\n"
     ]
    },
    {
     "name": "stdout",
     "output_type": "stream",
     "text": [
      "\u001b[1m64/64\u001b[0m \u001b[32m━━━━━━━━━━━━━━━━━━━━\u001b[0m\u001b[37m\u001b[0m \u001b[1m0s\u001b[0m 1ms/step\n",
      "LR - MAPE: 0.0528, MAE: 0.0679, RMSE: 0.0887, R2: 0.7670\n",
      "DL - MAPE: 0.0263, MAE: 0.0348, RMSE: 0.0482, R2: 0.9311\n",
      "\n",
      "Repeat 9/10\n"
     ]
    },
    {
     "name": "stderr",
     "output_type": "stream",
     "text": [
      "c:\\Users\\rezab\\anaconda3\\Lib\\site-packages\\sklearn\\utils\\validation.py:2732: UserWarning: X has feature names, but StandardScaler was fitted without feature names\n",
      "  warnings.warn(\n"
     ]
    },
    {
     "name": "stdout",
     "output_type": "stream",
     "text": [
      "\u001b[1m64/64\u001b[0m \u001b[32m━━━━━━━━━━━━━━━━━━━━\u001b[0m\u001b[37m\u001b[0m \u001b[1m0s\u001b[0m 1ms/step\n",
      "LR - MAPE: 0.0514, MAE: 0.0672, RMSE: 0.0901, R2: 0.7731\n",
      "DL - MAPE: 0.0263, MAE: 0.0344, RMSE: 0.0459, R2: 0.9411\n",
      "\n",
      "Repeat 10/10\n"
     ]
    },
    {
     "name": "stderr",
     "output_type": "stream",
     "text": [
      "c:\\Users\\rezab\\anaconda3\\Lib\\site-packages\\sklearn\\utils\\validation.py:2732: UserWarning: X has feature names, but StandardScaler was fitted without feature names\n",
      "  warnings.warn(\n"
     ]
    },
    {
     "name": "stdout",
     "output_type": "stream",
     "text": [
      "\u001b[1m64/64\u001b[0m \u001b[32m━━━━━━━━━━━━━━━━━━━━\u001b[0m\u001b[37m\u001b[0m \u001b[1m0s\u001b[0m 1ms/step\n",
      "LR - MAPE: 0.0514, MAE: 0.0666, RMSE: 0.0886, R2: 0.7731\n",
      "DL - MAPE: 0.0259, MAE: 0.0341, RMSE: 0.0464, R2: 0.9379\n",
      "\n",
      "> System: dconvert, Dataset: psd-small.csv\n",
      "> Training data fraction: 0.7, Number of repeats: 10\n",
      "\n",
      "Repeat 1/10\n"
     ]
    },
    {
     "name": "stderr",
     "output_type": "stream",
     "text": [
      "c:\\Users\\rezab\\anaconda3\\Lib\\site-packages\\sklearn\\utils\\validation.py:2732: UserWarning: X has feature names, but StandardScaler was fitted without feature names\n",
      "  warnings.warn(\n"
     ]
    },
    {
     "name": "stdout",
     "output_type": "stream",
     "text": [
      "\u001b[1m64/64\u001b[0m \u001b[32m━━━━━━━━━━━━━━━━━━━━\u001b[0m\u001b[37m\u001b[0m \u001b[1m0s\u001b[0m 1ms/step\n",
      "LR - MAPE: 0.0363, MAE: 0.0203, RMSE: 0.0252, R2: 0.6322\n",
      "DL - MAPE: 0.0360, MAE: 0.0201, RMSE: 0.0254, R2: 0.6251\n",
      "\n",
      "Repeat 2/10\n"
     ]
    },
    {
     "name": "stderr",
     "output_type": "stream",
     "text": [
      "c:\\Users\\rezab\\anaconda3\\Lib\\site-packages\\sklearn\\utils\\validation.py:2732: UserWarning: X has feature names, but StandardScaler was fitted without feature names\n",
      "  warnings.warn(\n"
     ]
    },
    {
     "name": "stdout",
     "output_type": "stream",
     "text": [
      "\u001b[1m64/64\u001b[0m \u001b[32m━━━━━━━━━━━━━━━━━━━━\u001b[0m\u001b[37m\u001b[0m \u001b[1m0s\u001b[0m 1ms/step\n",
      "LR - MAPE: 0.0354, MAE: 0.0198, RMSE: 0.0246, R2: 0.6483\n",
      "DL - MAPE: 0.0345, MAE: 0.0192, RMSE: 0.0244, R2: 0.6543\n",
      "\n",
      "Repeat 3/10\n"
     ]
    },
    {
     "name": "stderr",
     "output_type": "stream",
     "text": [
      "c:\\Users\\rezab\\anaconda3\\Lib\\site-packages\\sklearn\\utils\\validation.py:2732: UserWarning: X has feature names, but StandardScaler was fitted without feature names\n",
      "  warnings.warn(\n"
     ]
    },
    {
     "name": "stdout",
     "output_type": "stream",
     "text": [
      "\u001b[1m64/64\u001b[0m \u001b[32m━━━━━━━━━━━━━━━━━━━━\u001b[0m\u001b[37m\u001b[0m \u001b[1m0s\u001b[0m 1ms/step\n",
      "LR - MAPE: 0.0363, MAE: 0.0204, RMSE: 0.0251, R2: 0.6461\n",
      "DL - MAPE: 0.0373, MAE: 0.0207, RMSE: 0.0256, R2: 0.6332\n",
      "\n",
      "Repeat 4/10\n"
     ]
    },
    {
     "name": "stderr",
     "output_type": "stream",
     "text": [
      "c:\\Users\\rezab\\anaconda3\\Lib\\site-packages\\sklearn\\utils\\validation.py:2732: UserWarning: X has feature names, but StandardScaler was fitted without feature names\n",
      "  warnings.warn(\n"
     ]
    },
    {
     "name": "stdout",
     "output_type": "stream",
     "text": [
      "\u001b[1m64/64\u001b[0m \u001b[32m━━━━━━━━━━━━━━━━━━━━\u001b[0m\u001b[37m\u001b[0m \u001b[1m0s\u001b[0m 1ms/step\n",
      "LR - MAPE: 0.0351, MAE: 0.0196, RMSE: 0.0244, R2: 0.6539\n",
      "DL - MAPE: 0.0354, MAE: 0.0199, RMSE: 0.0251, R2: 0.6342\n",
      "\n",
      "Repeat 5/10\n"
     ]
    },
    {
     "name": "stderr",
     "output_type": "stream",
     "text": [
      "c:\\Users\\rezab\\anaconda3\\Lib\\site-packages\\sklearn\\utils\\validation.py:2732: UserWarning: X has feature names, but StandardScaler was fitted without feature names\n",
      "  warnings.warn(\n"
     ]
    },
    {
     "name": "stdout",
     "output_type": "stream",
     "text": [
      "\u001b[1m64/64\u001b[0m \u001b[32m━━━━━━━━━━━━━━━━━━━━\u001b[0m\u001b[37m\u001b[0m \u001b[1m0s\u001b[0m 1ms/step\n",
      "LR - MAPE: 0.0360, MAE: 0.0202, RMSE: 0.0250, R2: 0.6393\n",
      "DL - MAPE: 0.0362, MAE: 0.0204, RMSE: 0.0256, R2: 0.6226\n",
      "\n",
      "Repeat 6/10\n"
     ]
    },
    {
     "name": "stderr",
     "output_type": "stream",
     "text": [
      "c:\\Users\\rezab\\anaconda3\\Lib\\site-packages\\sklearn\\utils\\validation.py:2732: UserWarning: X has feature names, but StandardScaler was fitted without feature names\n",
      "  warnings.warn(\n"
     ]
    },
    {
     "name": "stdout",
     "output_type": "stream",
     "text": [
      "\u001b[1m64/64\u001b[0m \u001b[32m━━━━━━━━━━━━━━━━━━━━\u001b[0m\u001b[37m\u001b[0m \u001b[1m0s\u001b[0m 1ms/step\n",
      "LR - MAPE: 0.0358, MAE: 0.0199, RMSE: 0.0247, R2: 0.6339\n",
      "DL - MAPE: 0.0354, MAE: 0.0196, RMSE: 0.0246, R2: 0.6363\n",
      "\n",
      "Repeat 7/10\n"
     ]
    },
    {
     "name": "stderr",
     "output_type": "stream",
     "text": [
      "c:\\Users\\rezab\\anaconda3\\Lib\\site-packages\\sklearn\\utils\\validation.py:2732: UserWarning: X has feature names, but StandardScaler was fitted without feature names\n",
      "  warnings.warn(\n"
     ]
    },
    {
     "name": "stdout",
     "output_type": "stream",
     "text": [
      "\u001b[1m64/64\u001b[0m \u001b[32m━━━━━━━━━━━━━━━━━━━━\u001b[0m\u001b[37m\u001b[0m \u001b[1m0s\u001b[0m 1ms/step\n",
      "LR - MAPE: 0.0345, MAE: 0.0193, RMSE: 0.0242, R2: 0.6458\n",
      "DL - MAPE: 0.0357, MAE: 0.0199, RMSE: 0.0258, R2: 0.5987\n",
      "\n",
      "Repeat 8/10\n"
     ]
    },
    {
     "name": "stderr",
     "output_type": "stream",
     "text": [
      "c:\\Users\\rezab\\anaconda3\\Lib\\site-packages\\sklearn\\utils\\validation.py:2732: UserWarning: X has feature names, but StandardScaler was fitted without feature names\n",
      "  warnings.warn(\n"
     ]
    },
    {
     "name": "stdout",
     "output_type": "stream",
     "text": [
      "\u001b[1m64/64\u001b[0m \u001b[32m━━━━━━━━━━━━━━━━━━━━\u001b[0m\u001b[37m\u001b[0m \u001b[1m0s\u001b[0m 2ms/step\n",
      "LR - MAPE: 0.0356, MAE: 0.0199, RMSE: 0.0247, R2: 0.6349\n",
      "DL - MAPE: 0.0347, MAE: 0.0195, RMSE: 0.0244, R2: 0.6427\n",
      "\n",
      "Repeat 9/10\n"
     ]
    },
    {
     "name": "stderr",
     "output_type": "stream",
     "text": [
      "c:\\Users\\rezab\\anaconda3\\Lib\\site-packages\\sklearn\\utils\\validation.py:2732: UserWarning: X has feature names, but StandardScaler was fitted without feature names\n",
      "  warnings.warn(\n"
     ]
    },
    {
     "name": "stdout",
     "output_type": "stream",
     "text": [
      "\u001b[1m64/64\u001b[0m \u001b[32m━━━━━━━━━━━━━━━━━━━━\u001b[0m\u001b[37m\u001b[0m \u001b[1m0s\u001b[0m 1ms/step\n",
      "LR - MAPE: 0.0357, MAE: 0.0200, RMSE: 0.0250, R2: 0.6371\n",
      "DL - MAPE: 0.0348, MAE: 0.0195, RMSE: 0.0248, R2: 0.6409\n",
      "\n",
      "Repeat 10/10\n"
     ]
    },
    {
     "name": "stderr",
     "output_type": "stream",
     "text": [
      "c:\\Users\\rezab\\anaconda3\\Lib\\site-packages\\sklearn\\utils\\validation.py:2732: UserWarning: X has feature names, but StandardScaler was fitted without feature names\n",
      "  warnings.warn(\n"
     ]
    },
    {
     "name": "stdout",
     "output_type": "stream",
     "text": [
      "\u001b[1m64/64\u001b[0m \u001b[32m━━━━━━━━━━━━━━━━━━━━\u001b[0m\u001b[37m\u001b[0m \u001b[1m0s\u001b[0m 1ms/step\n",
      "LR - MAPE: 0.0348, MAE: 0.0195, RMSE: 0.0243, R2: 0.6540\n",
      "DL - MAPE: 0.0333, MAE: 0.0186, RMSE: 0.0237, R2: 0.6717\n",
      "\n",
      "> System: dconvert, Dataset: svg-large.csv\n",
      "> Training data fraction: 0.7, Number of repeats: 10\n",
      "\n",
      "Repeat 1/10\n"
     ]
    },
    {
     "name": "stderr",
     "output_type": "stream",
     "text": [
      "c:\\Users\\rezab\\anaconda3\\Lib\\site-packages\\sklearn\\utils\\validation.py:2732: UserWarning: X has feature names, but StandardScaler was fitted without feature names\n",
      "  warnings.warn(\n"
     ]
    },
    {
     "name": "stdout",
     "output_type": "stream",
     "text": [
      "\u001b[1m64/64\u001b[0m \u001b[32m━━━━━━━━━━━━━━━━━━━━\u001b[0m\u001b[37m\u001b[0m \u001b[1m0s\u001b[0m 1ms/step\n",
      "LR - MAPE: 0.0202, MAE: 0.0304, RMSE: 0.0395, R2: -0.0016\n",
      "DL - MAPE: 0.0194, MAE: 0.0294, RMSE: 0.0398, R2: -0.0197\n",
      "\n",
      "Repeat 2/10\n"
     ]
    },
    {
     "name": "stderr",
     "output_type": "stream",
     "text": [
      "c:\\Users\\rezab\\anaconda3\\Lib\\site-packages\\sklearn\\utils\\validation.py:2732: UserWarning: X has feature names, but StandardScaler was fitted without feature names\n",
      "  warnings.warn(\n"
     ]
    },
    {
     "name": "stdout",
     "output_type": "stream",
     "text": [
      "\u001b[1m64/64\u001b[0m \u001b[32m━━━━━━━━━━━━━━━━━━━━\u001b[0m\u001b[37m\u001b[0m \u001b[1m0s\u001b[0m 1ms/step\n",
      "LR - MAPE: 0.0203, MAE: 0.0305, RMSE: 0.0388, R2: -0.0081\n",
      "DL - MAPE: 0.0195, MAE: 0.0295, RMSE: 0.0389, R2: -0.0137\n",
      "\n",
      "Repeat 3/10\n"
     ]
    },
    {
     "name": "stderr",
     "output_type": "stream",
     "text": [
      "c:\\Users\\rezab\\anaconda3\\Lib\\site-packages\\sklearn\\utils\\validation.py:2732: UserWarning: X has feature names, but StandardScaler was fitted without feature names\n",
      "  warnings.warn(\n"
     ]
    },
    {
     "name": "stdout",
     "output_type": "stream",
     "text": [
      "\u001b[1m64/64\u001b[0m \u001b[32m━━━━━━━━━━━━━━━━━━━━\u001b[0m\u001b[37m\u001b[0m \u001b[1m0s\u001b[0m 2ms/step\n",
      "LR - MAPE: 0.0205, MAE: 0.0309, RMSE: 0.0391, R2: -0.0024\n",
      "DL - MAPE: 0.0198, MAE: 0.0299, RMSE: 0.0394, R2: -0.0167\n",
      "\n",
      "Repeat 4/10\n"
     ]
    },
    {
     "name": "stderr",
     "output_type": "stream",
     "text": [
      "c:\\Users\\rezab\\anaconda3\\Lib\\site-packages\\sklearn\\utils\\validation.py:2732: UserWarning: X has feature names, but StandardScaler was fitted without feature names\n",
      "  warnings.warn(\n"
     ]
    },
    {
     "name": "stdout",
     "output_type": "stream",
     "text": [
      "\u001b[1m64/64\u001b[0m \u001b[32m━━━━━━━━━━━━━━━━━━━━\u001b[0m\u001b[37m\u001b[0m \u001b[1m0s\u001b[0m 2ms/step\n",
      "LR - MAPE: 0.0202, MAE: 0.0304, RMSE: 0.0386, R2: -0.0008\n",
      "DL - MAPE: 0.0197, MAE: 0.0300, RMSE: 0.0409, R2: -0.1243\n",
      "\n",
      "Repeat 5/10\n"
     ]
    },
    {
     "name": "stderr",
     "output_type": "stream",
     "text": [
      "c:\\Users\\rezab\\anaconda3\\Lib\\site-packages\\sklearn\\utils\\validation.py:2732: UserWarning: X has feature names, but StandardScaler was fitted without feature names\n",
      "  warnings.warn(\n"
     ]
    },
    {
     "name": "stdout",
     "output_type": "stream",
     "text": [
      "\u001b[1m64/64\u001b[0m \u001b[32m━━━━━━━━━━━━━━━━━━━━\u001b[0m\u001b[37m\u001b[0m \u001b[1m0s\u001b[0m 2ms/step\n",
      "LR - MAPE: 0.0206, MAE: 0.0310, RMSE: 0.0390, R2: -0.0057\n",
      "DL - MAPE: 0.0199, MAE: 0.0301, RMSE: 0.0393, R2: -0.0227\n",
      "\n",
      "Repeat 6/10\n"
     ]
    },
    {
     "name": "stderr",
     "output_type": "stream",
     "text": [
      "c:\\Users\\rezab\\anaconda3\\Lib\\site-packages\\sklearn\\utils\\validation.py:2732: UserWarning: X has feature names, but StandardScaler was fitted without feature names\n",
      "  warnings.warn(\n"
     ]
    },
    {
     "name": "stdout",
     "output_type": "stream",
     "text": [
      "\u001b[1m64/64\u001b[0m \u001b[32m━━━━━━━━━━━━━━━━━━━━\u001b[0m\u001b[37m\u001b[0m \u001b[1m0s\u001b[0m 2ms/step\n",
      "LR - MAPE: 0.0205, MAE: 0.0309, RMSE: 0.0391, R2: -0.0007\n",
      "DL - MAPE: 0.0197, MAE: 0.0298, RMSE: 0.0394, R2: -0.0132\n",
      "\n",
      "Repeat 7/10\n"
     ]
    },
    {
     "name": "stderr",
     "output_type": "stream",
     "text": [
      "c:\\Users\\rezab\\anaconda3\\Lib\\site-packages\\sklearn\\utils\\validation.py:2732: UserWarning: X has feature names, but StandardScaler was fitted without feature names\n",
      "  warnings.warn(\n"
     ]
    },
    {
     "name": "stdout",
     "output_type": "stream",
     "text": [
      "\u001b[1m64/64\u001b[0m \u001b[32m━━━━━━━━━━━━━━━━━━━━\u001b[0m\u001b[37m\u001b[0m \u001b[1m0s\u001b[0m 2ms/step\n",
      "LR - MAPE: 0.0202, MAE: 0.0304, RMSE: 0.0392, R2: -0.0001\n",
      "DL - MAPE: 0.0194, MAE: 0.0294, RMSE: 0.0394, R2: -0.0103\n",
      "\n",
      "Repeat 8/10\n"
     ]
    },
    {
     "name": "stderr",
     "output_type": "stream",
     "text": [
      "c:\\Users\\rezab\\anaconda3\\Lib\\site-packages\\sklearn\\utils\\validation.py:2732: UserWarning: X has feature names, but StandardScaler was fitted without feature names\n",
      "  warnings.warn(\n"
     ]
    },
    {
     "name": "stdout",
     "output_type": "stream",
     "text": [
      "\u001b[1m64/64\u001b[0m \u001b[32m━━━━━━━━━━━━━━━━━━━━\u001b[0m\u001b[37m\u001b[0m \u001b[1m0s\u001b[0m 2ms/step\n",
      "LR - MAPE: 0.0201, MAE: 0.0303, RMSE: 0.0388, R2: 0.0054\n",
      "DL - MAPE: 0.0195, MAE: 0.0295, RMSE: 0.0393, R2: -0.0194\n",
      "\n",
      "Repeat 9/10\n"
     ]
    },
    {
     "name": "stderr",
     "output_type": "stream",
     "text": [
      "c:\\Users\\rezab\\anaconda3\\Lib\\site-packages\\sklearn\\utils\\validation.py:2732: UserWarning: X has feature names, but StandardScaler was fitted without feature names\n",
      "  warnings.warn(\n"
     ]
    },
    {
     "name": "stdout",
     "output_type": "stream",
     "text": [
      "\u001b[1m64/64\u001b[0m \u001b[32m━━━━━━━━━━━━━━━━━━━━\u001b[0m\u001b[37m\u001b[0m \u001b[1m0s\u001b[0m 2ms/step\n",
      "LR - MAPE: 0.0202, MAE: 0.0304, RMSE: 0.0389, R2: 0.0006\n",
      "DL - MAPE: 0.0196, MAE: 0.0297, RMSE: 0.0394, R2: -0.0232\n",
      "\n",
      "Repeat 10/10\n"
     ]
    },
    {
     "name": "stderr",
     "output_type": "stream",
     "text": [
      "c:\\Users\\rezab\\anaconda3\\Lib\\site-packages\\sklearn\\utils\\validation.py:2732: UserWarning: X has feature names, but StandardScaler was fitted without feature names\n",
      "  warnings.warn(\n"
     ]
    },
    {
     "name": "stdout",
     "output_type": "stream",
     "text": [
      "\u001b[1m64/64\u001b[0m \u001b[32m━━━━━━━━━━━━━━━━━━━━\u001b[0m\u001b[37m\u001b[0m \u001b[1m0s\u001b[0m 1ms/step\n",
      "LR - MAPE: 0.0210, MAE: 0.0317, RMSE: 0.0401, R2: 0.0010\n",
      "DL - MAPE: 0.0205, MAE: 0.0309, RMSE: 0.0405, R2: -0.0194\n",
      "\n",
      "> System: dconvert, Dataset: svg-medium.csv\n",
      "> Training data fraction: 0.7, Number of repeats: 10\n",
      "\n",
      "Repeat 1/10\n"
     ]
    },
    {
     "name": "stderr",
     "output_type": "stream",
     "text": [
      "c:\\Users\\rezab\\anaconda3\\Lib\\site-packages\\sklearn\\utils\\validation.py:2732: UserWarning: X has feature names, but StandardScaler was fitted without feature names\n",
      "  warnings.warn(\n"
     ]
    },
    {
     "name": "stdout",
     "output_type": "stream",
     "text": [
      "\u001b[1m64/64\u001b[0m \u001b[32m━━━━━━━━━━━━━━━━━━━━\u001b[0m\u001b[37m\u001b[0m \u001b[1m0s\u001b[0m 1ms/step\n",
      "LR - MAPE: 0.0168, MAE: 0.0258, RMSE: 0.0324, R2: 0.3825\n",
      "DL - MAPE: 0.0165, MAE: 0.0255, RMSE: 0.0323, R2: 0.3854\n",
      "\n",
      "Repeat 2/10\n"
     ]
    },
    {
     "name": "stderr",
     "output_type": "stream",
     "text": [
      "c:\\Users\\rezab\\anaconda3\\Lib\\site-packages\\sklearn\\utils\\validation.py:2732: UserWarning: X has feature names, but StandardScaler was fitted without feature names\n",
      "  warnings.warn(\n"
     ]
    },
    {
     "name": "stdout",
     "output_type": "stream",
     "text": [
      "\u001b[1m64/64\u001b[0m \u001b[32m━━━━━━━━━━━━━━━━━━━━\u001b[0m\u001b[37m\u001b[0m \u001b[1m0s\u001b[0m 2ms/step\n",
      "LR - MAPE: 0.0172, MAE: 0.0265, RMSE: 0.0332, R2: 0.3752\n",
      "DL - MAPE: 0.0172, MAE: 0.0265, RMSE: 0.0337, R2: 0.3563\n",
      "\n",
      "Repeat 3/10\n"
     ]
    },
    {
     "name": "stderr",
     "output_type": "stream",
     "text": [
      "c:\\Users\\rezab\\anaconda3\\Lib\\site-packages\\sklearn\\utils\\validation.py:2732: UserWarning: X has feature names, but StandardScaler was fitted without feature names\n",
      "  warnings.warn(\n"
     ]
    },
    {
     "name": "stdout",
     "output_type": "stream",
     "text": [
      "\u001b[1m64/64\u001b[0m \u001b[32m━━━━━━━━━━━━━━━━━━━━\u001b[0m\u001b[37m\u001b[0m \u001b[1m0s\u001b[0m 1ms/step\n",
      "LR - MAPE: 0.0169, MAE: 0.0260, RMSE: 0.0327, R2: 0.3884\n",
      "DL - MAPE: 0.0169, MAE: 0.0260, RMSE: 0.0329, R2: 0.3797\n",
      "\n",
      "Repeat 4/10\n"
     ]
    },
    {
     "name": "stderr",
     "output_type": "stream",
     "text": [
      "c:\\Users\\rezab\\anaconda3\\Lib\\site-packages\\sklearn\\utils\\validation.py:2732: UserWarning: X has feature names, but StandardScaler was fitted without feature names\n",
      "  warnings.warn(\n"
     ]
    },
    {
     "name": "stdout",
     "output_type": "stream",
     "text": [
      "\u001b[1m64/64\u001b[0m \u001b[32m━━━━━━━━━━━━━━━━━━━━\u001b[0m\u001b[37m\u001b[0m \u001b[1m0s\u001b[0m 2ms/step\n",
      "LR - MAPE: 0.0172, MAE: 0.0264, RMSE: 0.0332, R2: 0.3548\n",
      "DL - MAPE: 0.0170, MAE: 0.0262, RMSE: 0.0332, R2: 0.3519\n",
      "\n",
      "Repeat 5/10\n"
     ]
    },
    {
     "name": "stderr",
     "output_type": "stream",
     "text": [
      "c:\\Users\\rezab\\anaconda3\\Lib\\site-packages\\sklearn\\utils\\validation.py:2732: UserWarning: X has feature names, but StandardScaler was fitted without feature names\n",
      "  warnings.warn(\n"
     ]
    },
    {
     "name": "stdout",
     "output_type": "stream",
     "text": [
      "\u001b[1m64/64\u001b[0m \u001b[32m━━━━━━━━━━━━━━━━━━━━\u001b[0m\u001b[37m\u001b[0m \u001b[1m0s\u001b[0m 1ms/step\n",
      "LR - MAPE: 0.0177, MAE: 0.0272, RMSE: 0.0339, R2: 0.3718\n",
      "DL - MAPE: 0.0176, MAE: 0.0271, RMSE: 0.0342, R2: 0.3617\n",
      "\n",
      "Repeat 6/10\n"
     ]
    },
    {
     "name": "stderr",
     "output_type": "stream",
     "text": [
      "c:\\Users\\rezab\\anaconda3\\Lib\\site-packages\\sklearn\\utils\\validation.py:2732: UserWarning: X has feature names, but StandardScaler was fitted without feature names\n",
      "  warnings.warn(\n"
     ]
    },
    {
     "name": "stdout",
     "output_type": "stream",
     "text": [
      "\u001b[1m64/64\u001b[0m \u001b[32m━━━━━━━━━━━━━━━━━━━━\u001b[0m\u001b[37m\u001b[0m \u001b[1m0s\u001b[0m 2ms/step\n",
      "LR - MAPE: 0.0170, MAE: 0.0262, RMSE: 0.0330, R2: 0.3524\n",
      "DL - MAPE: 0.0169, MAE: 0.0260, RMSE: 0.0330, R2: 0.3541\n",
      "\n",
      "Repeat 7/10\n"
     ]
    },
    {
     "name": "stderr",
     "output_type": "stream",
     "text": [
      "c:\\Users\\rezab\\anaconda3\\Lib\\site-packages\\sklearn\\utils\\validation.py:2732: UserWarning: X has feature names, but StandardScaler was fitted without feature names\n",
      "  warnings.warn(\n"
     ]
    },
    {
     "name": "stdout",
     "output_type": "stream",
     "text": [
      "\u001b[1m64/64\u001b[0m \u001b[32m━━━━━━━━━━━━━━━━━━━━\u001b[0m\u001b[37m\u001b[0m \u001b[1m0s\u001b[0m 2ms/step\n",
      "LR - MAPE: 0.0171, MAE: 0.0263, RMSE: 0.0331, R2: 0.3593\n",
      "DL - MAPE: 0.0170, MAE: 0.0262, RMSE: 0.0332, R2: 0.3551\n",
      "\n",
      "Repeat 8/10\n"
     ]
    },
    {
     "name": "stderr",
     "output_type": "stream",
     "text": [
      "c:\\Users\\rezab\\anaconda3\\Lib\\site-packages\\sklearn\\utils\\validation.py:2732: UserWarning: X has feature names, but StandardScaler was fitted without feature names\n",
      "  warnings.warn(\n"
     ]
    },
    {
     "name": "stdout",
     "output_type": "stream",
     "text": [
      "\u001b[1m64/64\u001b[0m \u001b[32m━━━━━━━━━━━━━━━━━━━━\u001b[0m\u001b[37m\u001b[0m \u001b[1m0s\u001b[0m 2ms/step\n",
      "LR - MAPE: 0.0174, MAE: 0.0268, RMSE: 0.0331, R2: 0.3848\n",
      "DL - MAPE: 0.0175, MAE: 0.0269, RMSE: 0.0335, R2: 0.3713\n",
      "\n",
      "Repeat 9/10\n"
     ]
    },
    {
     "name": "stderr",
     "output_type": "stream",
     "text": [
      "c:\\Users\\rezab\\anaconda3\\Lib\\site-packages\\sklearn\\utils\\validation.py:2732: UserWarning: X has feature names, but StandardScaler was fitted without feature names\n",
      "  warnings.warn(\n"
     ]
    },
    {
     "name": "stdout",
     "output_type": "stream",
     "text": [
      "\u001b[1m64/64\u001b[0m \u001b[32m━━━━━━━━━━━━━━━━━━━━\u001b[0m\u001b[37m\u001b[0m \u001b[1m0s\u001b[0m 1ms/step\n",
      "LR - MAPE: 0.0173, MAE: 0.0266, RMSE: 0.0332, R2: 0.3657\n",
      "DL - MAPE: 0.0173, MAE: 0.0266, RMSE: 0.0336, R2: 0.3519\n",
      "\n",
      "Repeat 10/10\n"
     ]
    },
    {
     "name": "stderr",
     "output_type": "stream",
     "text": [
      "c:\\Users\\rezab\\anaconda3\\Lib\\site-packages\\sklearn\\utils\\validation.py:2732: UserWarning: X has feature names, but StandardScaler was fitted without feature names\n",
      "  warnings.warn(\n"
     ]
    },
    {
     "name": "stdout",
     "output_type": "stream",
     "text": [
      "\u001b[1m64/64\u001b[0m \u001b[32m━━━━━━━━━━━━━━━━━━━━\u001b[0m\u001b[37m\u001b[0m \u001b[1m0s\u001b[0m 1ms/step\n",
      "LR - MAPE: 0.0172, MAE: 0.0266, RMSE: 0.0334, R2: 0.3581\n",
      "DL - MAPE: 0.0173, MAE: 0.0267, RMSE: 0.0338, R2: 0.3429\n",
      "\n",
      "> System: dconvert, Dataset: svg-small.csv\n",
      "> Training data fraction: 0.7, Number of repeats: 10\n",
      "\n",
      "Repeat 1/10\n"
     ]
    },
    {
     "name": "stderr",
     "output_type": "stream",
     "text": [
      "c:\\Users\\rezab\\anaconda3\\Lib\\site-packages\\sklearn\\utils\\validation.py:2732: UserWarning: X has feature names, but StandardScaler was fitted without feature names\n",
      "  warnings.warn(\n"
     ]
    },
    {
     "name": "stdout",
     "output_type": "stream",
     "text": [
      "\u001b[1m64/64\u001b[0m \u001b[32m━━━━━━━━━━━━━━━━━━━━\u001b[0m\u001b[37m\u001b[0m \u001b[1m0s\u001b[0m 2ms/step\n",
      "LR - MAPE: 0.0362, MAE: 0.0204, RMSE: 0.0255, R2: 0.7369\n",
      "DL - MAPE: 0.0223, MAE: 0.0125, RMSE: 0.0161, R2: 0.8953\n",
      "\n",
      "Repeat 2/10\n"
     ]
    },
    {
     "name": "stderr",
     "output_type": "stream",
     "text": [
      "c:\\Users\\rezab\\anaconda3\\Lib\\site-packages\\sklearn\\utils\\validation.py:2732: UserWarning: X has feature names, but StandardScaler was fitted without feature names\n",
      "  warnings.warn(\n"
     ]
    },
    {
     "name": "stdout",
     "output_type": "stream",
     "text": [
      "\u001b[1m64/64\u001b[0m \u001b[32m━━━━━━━━━━━━━━━━━━━━\u001b[0m\u001b[37m\u001b[0m \u001b[1m0s\u001b[0m 2ms/step\n",
      "LR - MAPE: 0.0366, MAE: 0.0205, RMSE: 0.0255, R2: 0.7290\n",
      "DL - MAPE: 0.0257, MAE: 0.0143, RMSE: 0.0179, R2: 0.8667\n",
      "\n",
      "Repeat 3/10\n"
     ]
    },
    {
     "name": "stderr",
     "output_type": "stream",
     "text": [
      "c:\\Users\\rezab\\anaconda3\\Lib\\site-packages\\sklearn\\utils\\validation.py:2732: UserWarning: X has feature names, but StandardScaler was fitted without feature names\n",
      "  warnings.warn(\n"
     ]
    },
    {
     "name": "stdout",
     "output_type": "stream",
     "text": [
      "\u001b[1m64/64\u001b[0m \u001b[32m━━━━━━━━━━━━━━━━━━━━\u001b[0m\u001b[37m\u001b[0m \u001b[1m0s\u001b[0m 1ms/step\n",
      "LR - MAPE: 0.0354, MAE: 0.0201, RMSE: 0.0251, R2: 0.7408\n",
      "DL - MAPE: 0.0224, MAE: 0.0126, RMSE: 0.0159, R2: 0.8958\n",
      "\n",
      "Repeat 4/10\n"
     ]
    },
    {
     "name": "stderr",
     "output_type": "stream",
     "text": [
      "c:\\Users\\rezab\\anaconda3\\Lib\\site-packages\\sklearn\\utils\\validation.py:2732: UserWarning: X has feature names, but StandardScaler was fitted without feature names\n",
      "  warnings.warn(\n"
     ]
    },
    {
     "name": "stdout",
     "output_type": "stream",
     "text": [
      "\u001b[1m64/64\u001b[0m \u001b[32m━━━━━━━━━━━━━━━━━━━━\u001b[0m\u001b[37m\u001b[0m \u001b[1m0s\u001b[0m 1ms/step\n",
      "LR - MAPE: 0.0353, MAE: 0.0199, RMSE: 0.0250, R2: 0.7494\n",
      "DL - MAPE: 0.0233, MAE: 0.0131, RMSE: 0.0164, R2: 0.8919\n",
      "\n",
      "Repeat 5/10\n"
     ]
    },
    {
     "name": "stderr",
     "output_type": "stream",
     "text": [
      "c:\\Users\\rezab\\anaconda3\\Lib\\site-packages\\sklearn\\utils\\validation.py:2732: UserWarning: X has feature names, but StandardScaler was fitted without feature names\n",
      "  warnings.warn(\n"
     ]
    },
    {
     "name": "stdout",
     "output_type": "stream",
     "text": [
      "\u001b[1m64/64\u001b[0m \u001b[32m━━━━━━━━━━━━━━━━━━━━\u001b[0m\u001b[37m\u001b[0m \u001b[1m0s\u001b[0m 1ms/step\n",
      "LR - MAPE: 0.0350, MAE: 0.0198, RMSE: 0.0250, R2: 0.7417\n",
      "DL - MAPE: 0.0236, MAE: 0.0132, RMSE: 0.0165, R2: 0.8867\n",
      "\n",
      "Repeat 6/10\n"
     ]
    },
    {
     "name": "stderr",
     "output_type": "stream",
     "text": [
      "c:\\Users\\rezab\\anaconda3\\Lib\\site-packages\\sklearn\\utils\\validation.py:2732: UserWarning: X has feature names, but StandardScaler was fitted without feature names\n",
      "  warnings.warn(\n"
     ]
    },
    {
     "name": "stdout",
     "output_type": "stream",
     "text": [
      "\u001b[1m64/64\u001b[0m \u001b[32m━━━━━━━━━━━━━━━━━━━━\u001b[0m\u001b[37m\u001b[0m \u001b[1m0s\u001b[0m 1ms/step\n",
      "LR - MAPE: 0.0358, MAE: 0.0201, RMSE: 0.0252, R2: 0.7336\n",
      "DL - MAPE: 0.0223, MAE: 0.0125, RMSE: 0.0160, R2: 0.8931\n",
      "\n",
      "Repeat 7/10\n"
     ]
    },
    {
     "name": "stderr",
     "output_type": "stream",
     "text": [
      "c:\\Users\\rezab\\anaconda3\\Lib\\site-packages\\sklearn\\utils\\validation.py:2732: UserWarning: X has feature names, but StandardScaler was fitted without feature names\n",
      "  warnings.warn(\n"
     ]
    },
    {
     "name": "stdout",
     "output_type": "stream",
     "text": [
      "\u001b[1m64/64\u001b[0m \u001b[32m━━━━━━━━━━━━━━━━━━━━\u001b[0m\u001b[37m\u001b[0m \u001b[1m0s\u001b[0m 2ms/step\n",
      "LR - MAPE: 0.0365, MAE: 0.0206, RMSE: 0.0257, R2: 0.7258\n",
      "DL - MAPE: 0.0229, MAE: 0.0129, RMSE: 0.0166, R2: 0.8860\n",
      "\n",
      "Repeat 8/10\n"
     ]
    },
    {
     "name": "stderr",
     "output_type": "stream",
     "text": [
      "c:\\Users\\rezab\\anaconda3\\Lib\\site-packages\\sklearn\\utils\\validation.py:2732: UserWarning: X has feature names, but StandardScaler was fitted without feature names\n",
      "  warnings.warn(\n"
     ]
    },
    {
     "name": "stdout",
     "output_type": "stream",
     "text": [
      "\u001b[1m64/64\u001b[0m \u001b[32m━━━━━━━━━━━━━━━━━━━━\u001b[0m\u001b[37m\u001b[0m \u001b[1m0s\u001b[0m 1ms/step\n",
      "LR - MAPE: 0.0354, MAE: 0.0200, RMSE: 0.0250, R2: 0.7393\n",
      "DL - MAPE: 0.0240, MAE: 0.0136, RMSE: 0.0171, R2: 0.8782\n",
      "\n",
      "Repeat 9/10\n"
     ]
    },
    {
     "name": "stderr",
     "output_type": "stream",
     "text": [
      "c:\\Users\\rezab\\anaconda3\\Lib\\site-packages\\sklearn\\utils\\validation.py:2732: UserWarning: X has feature names, but StandardScaler was fitted without feature names\n",
      "  warnings.warn(\n"
     ]
    },
    {
     "name": "stdout",
     "output_type": "stream",
     "text": [
      "\u001b[1m64/64\u001b[0m \u001b[32m━━━━━━━━━━━━━━━━━━━━\u001b[0m\u001b[37m\u001b[0m \u001b[1m0s\u001b[0m 1ms/step\n",
      "LR - MAPE: 0.0358, MAE: 0.0202, RMSE: 0.0255, R2: 0.7307\n",
      "DL - MAPE: 0.0221, MAE: 0.0125, RMSE: 0.0162, R2: 0.8908\n",
      "\n",
      "Repeat 10/10\n"
     ]
    },
    {
     "name": "stderr",
     "output_type": "stream",
     "text": [
      "c:\\Users\\rezab\\anaconda3\\Lib\\site-packages\\sklearn\\utils\\validation.py:2732: UserWarning: X has feature names, but StandardScaler was fitted without feature names\n",
      "  warnings.warn(\n"
     ]
    },
    {
     "name": "stdout",
     "output_type": "stream",
     "text": [
      "\u001b[1m64/64\u001b[0m \u001b[32m━━━━━━━━━━━━━━━━━━━━\u001b[0m\u001b[37m\u001b[0m \u001b[1m0s\u001b[0m 1ms/step\n",
      "LR - MAPE: 0.0352, MAE: 0.0199, RMSE: 0.0249, R2: 0.7443\n",
      "DL - MAPE: 0.0231, MAE: 0.0130, RMSE: 0.0164, R2: 0.8895\n",
      "\n",
      "==================================================\n",
      "Processing system: h2\n",
      "==================================================\n",
      "\n",
      "> System: h2, Dataset: smallbank-1.csv\n",
      "> Training data fraction: 0.7, Number of repeats: 10\n",
      "\n",
      "Repeat 1/10\n"
     ]
    },
    {
     "name": "stderr",
     "output_type": "stream",
     "text": [
      "c:\\Users\\rezab\\anaconda3\\Lib\\site-packages\\sklearn\\utils\\validation.py:2732: UserWarning: X has feature names, but StandardScaler was fitted without feature names\n",
      "  warnings.warn(\n"
     ]
    },
    {
     "name": "stdout",
     "output_type": "stream",
     "text": [
      "\u001b[1m19/19\u001b[0m \u001b[32m━━━━━━━━━━━━━━━━━━━━\u001b[0m\u001b[37m\u001b[0m \u001b[1m0s\u001b[0m 4ms/step\n",
      "LR - MAPE: 0.0577, MAE: 1123.2985, RMSE: 1354.0432, R2: 0.8033\n",
      "DL - MAPE: 0.0537, MAE: 1052.0047, RMSE: 1325.5484, R2: 0.8115\n",
      "\n",
      "Repeat 2/10\n"
     ]
    },
    {
     "name": "stderr",
     "output_type": "stream",
     "text": [
      "c:\\Users\\rezab\\anaconda3\\Lib\\site-packages\\sklearn\\utils\\validation.py:2732: UserWarning: X has feature names, but StandardScaler was fitted without feature names\n",
      "  warnings.warn(\n"
     ]
    },
    {
     "name": "stdout",
     "output_type": "stream",
     "text": [
      "\u001b[1m19/19\u001b[0m \u001b[32m━━━━━━━━━━━━━━━━━━━━\u001b[0m\u001b[37m\u001b[0m \u001b[1m0s\u001b[0m 3ms/step \n",
      "LR - MAPE: 0.0558, MAE: 1100.4552, RMSE: 1329.6765, R2: 0.8331\n",
      "DL - MAPE: 0.0528, MAE: 1068.4818, RMSE: 1368.4468, R2: 0.8233\n",
      "\n",
      "Repeat 3/10\n"
     ]
    },
    {
     "name": "stderr",
     "output_type": "stream",
     "text": [
      "c:\\Users\\rezab\\anaconda3\\Lib\\site-packages\\sklearn\\utils\\validation.py:2732: UserWarning: X has feature names, but StandardScaler was fitted without feature names\n",
      "  warnings.warn(\n"
     ]
    },
    {
     "name": "stdout",
     "output_type": "stream",
     "text": [
      "\u001b[1m19/19\u001b[0m \u001b[32m━━━━━━━━━━━━━━━━━━━━\u001b[0m\u001b[37m\u001b[0m \u001b[1m0s\u001b[0m 3ms/step \n",
      "LR - MAPE: 0.0568, MAE: 1118.7110, RMSE: 1353.4860, R2: 0.8203\n",
      "DL - MAPE: 0.0727, MAE: 1397.2001, RMSE: 1765.9137, R2: 0.6940\n",
      "\n",
      "Repeat 4/10\n"
     ]
    },
    {
     "name": "stderr",
     "output_type": "stream",
     "text": [
      "c:\\Users\\rezab\\anaconda3\\Lib\\site-packages\\sklearn\\utils\\validation.py:2732: UserWarning: X has feature names, but StandardScaler was fitted without feature names\n",
      "  warnings.warn(\n"
     ]
    },
    {
     "name": "stdout",
     "output_type": "stream",
     "text": [
      "\u001b[1m19/19\u001b[0m \u001b[32m━━━━━━━━━━━━━━━━━━━━\u001b[0m\u001b[37m\u001b[0m \u001b[1m0s\u001b[0m 3ms/step \n",
      "LR - MAPE: 0.0566, MAE: 1103.5867, RMSE: 1334.6351, R2: 0.8128\n",
      "DL - MAPE: 0.0717, MAE: 1416.6156, RMSE: 1727.0187, R2: 0.6865\n",
      "\n",
      "Repeat 5/10\n"
     ]
    },
    {
     "name": "stderr",
     "output_type": "stream",
     "text": [
      "c:\\Users\\rezab\\anaconda3\\Lib\\site-packages\\sklearn\\utils\\validation.py:2732: UserWarning: X has feature names, but StandardScaler was fitted without feature names\n",
      "  warnings.warn(\n"
     ]
    },
    {
     "name": "stdout",
     "output_type": "stream",
     "text": [
      "\u001b[1m19/19\u001b[0m \u001b[32m━━━━━━━━━━━━━━━━━━━━\u001b[0m\u001b[37m\u001b[0m \u001b[1m0s\u001b[0m 3ms/step \n",
      "LR - MAPE: 0.0580, MAE: 1135.6078, RMSE: 1352.9668, R2: 0.8150\n",
      "DL - MAPE: 0.0473, MAE: 921.9805, RMSE: 1183.5732, R2: 0.8584\n",
      "\n",
      "Repeat 6/10\n"
     ]
    },
    {
     "name": "stderr",
     "output_type": "stream",
     "text": [
      "c:\\Users\\rezab\\anaconda3\\Lib\\site-packages\\sklearn\\utils\\validation.py:2732: UserWarning: X has feature names, but StandardScaler was fitted without feature names\n",
      "  warnings.warn(\n"
     ]
    },
    {
     "name": "stdout",
     "output_type": "stream",
     "text": [
      "\u001b[1m19/19\u001b[0m \u001b[32m━━━━━━━━━━━━━━━━━━━━\u001b[0m\u001b[37m\u001b[0m \u001b[1m0s\u001b[0m 3ms/step \n",
      "LR - MAPE: 0.0568, MAE: 1116.9364, RMSE: 1336.8641, R2: 0.8212\n",
      "DL - MAPE: 0.0487, MAE: 940.7987, RMSE: 1223.9127, R2: 0.8501\n",
      "\n",
      "Repeat 7/10\n"
     ]
    },
    {
     "name": "stderr",
     "output_type": "stream",
     "text": [
      "c:\\Users\\rezab\\anaconda3\\Lib\\site-packages\\sklearn\\utils\\validation.py:2732: UserWarning: X has feature names, but StandardScaler was fitted without feature names\n",
      "  warnings.warn(\n"
     ]
    },
    {
     "name": "stdout",
     "output_type": "stream",
     "text": [
      "\u001b[1m19/19\u001b[0m \u001b[32m━━━━━━━━━━━━━━━━━━━━\u001b[0m\u001b[37m\u001b[0m \u001b[1m0s\u001b[0m 3ms/step \n",
      "LR - MAPE: 0.0573, MAE: 1119.5763, RMSE: 1358.7032, R2: 0.8115\n",
      "DL - MAPE: 0.0480, MAE: 947.5805, RMSE: 1167.5482, R2: 0.8608\n",
      "\n",
      "Repeat 8/10\n"
     ]
    },
    {
     "name": "stderr",
     "output_type": "stream",
     "text": [
      "c:\\Users\\rezab\\anaconda3\\Lib\\site-packages\\sklearn\\utils\\validation.py:2732: UserWarning: X has feature names, but StandardScaler was fitted without feature names\n",
      "  warnings.warn(\n"
     ]
    },
    {
     "name": "stdout",
     "output_type": "stream",
     "text": [
      "\u001b[1m19/19\u001b[0m \u001b[32m━━━━━━━━━━━━━━━━━━━━\u001b[0m\u001b[37m\u001b[0m \u001b[1m0s\u001b[0m 4ms/step \n",
      "LR - MAPE: 0.0587, MAE: 1150.9865, RMSE: 1393.4619, R2: 0.8032\n",
      "DL - MAPE: 0.0588, MAE: 1119.3827, RMSE: 1428.3815, R2: 0.7932\n",
      "\n",
      "Repeat 9/10\n"
     ]
    },
    {
     "name": "stderr",
     "output_type": "stream",
     "text": [
      "c:\\Users\\rezab\\anaconda3\\Lib\\site-packages\\sklearn\\utils\\validation.py:2732: UserWarning: X has feature names, but StandardScaler was fitted without feature names\n",
      "  warnings.warn(\n"
     ]
    },
    {
     "name": "stdout",
     "output_type": "stream",
     "text": [
      "\u001b[1m19/19\u001b[0m \u001b[32m━━━━━━━━━━━━━━━━━━━━\u001b[0m\u001b[37m\u001b[0m \u001b[1m0s\u001b[0m 3ms/step \n",
      "LR - MAPE: 0.0572, MAE: 1109.1514, RMSE: 1330.0137, R2: 0.8024\n",
      "DL - MAPE: 0.0514, MAE: 1009.1096, RMSE: 1269.3277, R2: 0.8200\n",
      "\n",
      "Repeat 10/10\n"
     ]
    },
    {
     "name": "stderr",
     "output_type": "stream",
     "text": [
      "c:\\Users\\rezab\\anaconda3\\Lib\\site-packages\\sklearn\\utils\\validation.py:2732: UserWarning: X has feature names, but StandardScaler was fitted without feature names\n",
      "  warnings.warn(\n"
     ]
    },
    {
     "name": "stdout",
     "output_type": "stream",
     "text": [
      "\u001b[1m19/19\u001b[0m \u001b[32m━━━━━━━━━━━━━━━━━━━━\u001b[0m\u001b[37m\u001b[0m \u001b[1m0s\u001b[0m 3ms/step \n",
      "LR - MAPE: 0.0606, MAE: 1170.7098, RMSE: 1397.2366, R2: 0.7630\n",
      "DL - MAPE: 0.0690, MAE: 1358.0038, RMSE: 1658.8170, R2: 0.6659\n",
      "\n",
      "> System: h2, Dataset: smallbank-10.csv\n",
      "> Training data fraction: 0.7, Number of repeats: 10\n",
      "\n",
      "Repeat 1/10\n"
     ]
    },
    {
     "name": "stderr",
     "output_type": "stream",
     "text": [
      "c:\\Users\\rezab\\anaconda3\\Lib\\site-packages\\sklearn\\utils\\validation.py:2732: UserWarning: X has feature names, but StandardScaler was fitted without feature names\n",
      "  warnings.warn(\n"
     ]
    },
    {
     "name": "stdout",
     "output_type": "stream",
     "text": [
      "\u001b[1m19/19\u001b[0m \u001b[32m━━━━━━━━━━━━━━━━━━━━\u001b[0m\u001b[37m\u001b[0m \u001b[1m0s\u001b[0m 3ms/step \n",
      "LR - MAPE: 0.0458, MAE: 622.1981, RMSE: 746.4521, R2: 0.8964\n",
      "DL - MAPE: 0.0383, MAE: 504.4322, RMSE: 639.9769, R2: 0.9239\n",
      "\n",
      "Repeat 2/10\n"
     ]
    },
    {
     "name": "stderr",
     "output_type": "stream",
     "text": [
      "c:\\Users\\rezab\\anaconda3\\Lib\\site-packages\\sklearn\\utils\\validation.py:2732: UserWarning: X has feature names, but StandardScaler was fitted without feature names\n",
      "  warnings.warn(\n"
     ]
    },
    {
     "name": "stdout",
     "output_type": "stream",
     "text": [
      "\u001b[1m19/19\u001b[0m \u001b[32m━━━━━━━━━━━━━━━━━━━━\u001b[0m\u001b[37m\u001b[0m \u001b[1m0s\u001b[0m 3ms/step \n",
      "LR - MAPE: 0.0473, MAE: 644.0154, RMSE: 779.0384, R2: 0.9011\n",
      "DL - MAPE: 0.0508, MAE: 672.5858, RMSE: 852.9250, R2: 0.8814\n",
      "\n",
      "Repeat 3/10\n"
     ]
    },
    {
     "name": "stderr",
     "output_type": "stream",
     "text": [
      "c:\\Users\\rezab\\anaconda3\\Lib\\site-packages\\sklearn\\utils\\validation.py:2732: UserWarning: X has feature names, but StandardScaler was fitted without feature names\n",
      "  warnings.warn(\n"
     ]
    },
    {
     "name": "stdout",
     "output_type": "stream",
     "text": [
      "\u001b[1m19/19\u001b[0m \u001b[32m━━━━━━━━━━━━━━━━━━━━\u001b[0m\u001b[37m\u001b[0m \u001b[1m0s\u001b[0m 3ms/step \n",
      "LR - MAPE: 0.0462, MAE: 634.2153, RMSE: 755.7946, R2: 0.9023\n",
      "DL - MAPE: 0.0350, MAE: 471.7683, RMSE: 627.1040, R2: 0.9327\n",
      "\n",
      "Repeat 4/10\n"
     ]
    },
    {
     "name": "stderr",
     "output_type": "stream",
     "text": [
      "c:\\Users\\rezab\\anaconda3\\Lib\\site-packages\\sklearn\\utils\\validation.py:2732: UserWarning: X has feature names, but StandardScaler was fitted without feature names\n",
      "  warnings.warn(\n"
     ]
    },
    {
     "name": "stdout",
     "output_type": "stream",
     "text": [
      "\u001b[1m19/19\u001b[0m \u001b[32m━━━━━━━━━━━━━━━━━━━━\u001b[0m\u001b[37m\u001b[0m \u001b[1m0s\u001b[0m 3ms/step \n",
      "LR - MAPE: 0.0454, MAE: 611.0947, RMSE: 732.6351, R2: 0.9007\n",
      "DL - MAPE: 0.0360, MAE: 481.9487, RMSE: 625.1788, R2: 0.9277\n",
      "\n",
      "Repeat 5/10\n"
     ]
    },
    {
     "name": "stderr",
     "output_type": "stream",
     "text": [
      "c:\\Users\\rezab\\anaconda3\\Lib\\site-packages\\sklearn\\utils\\validation.py:2732: UserWarning: X has feature names, but StandardScaler was fitted without feature names\n",
      "  warnings.warn(\n"
     ]
    },
    {
     "name": "stdout",
     "output_type": "stream",
     "text": [
      "\u001b[1m19/19\u001b[0m \u001b[32m━━━━━━━━━━━━━━━━━━━━\u001b[0m\u001b[37m\u001b[0m \u001b[1m0s\u001b[0m 3ms/step \n",
      "LR - MAPE: 0.0477, MAE: 648.3997, RMSE: 784.8179, R2: 0.8914\n",
      "DL - MAPE: 0.0510, MAE: 672.6716, RMSE: 845.3444, R2: 0.8740\n",
      "\n",
      "Repeat 6/10\n"
     ]
    },
    {
     "name": "stderr",
     "output_type": "stream",
     "text": [
      "c:\\Users\\rezab\\anaconda3\\Lib\\site-packages\\sklearn\\utils\\validation.py:2732: UserWarning: X has feature names, but StandardScaler was fitted without feature names\n",
      "  warnings.warn(\n"
     ]
    },
    {
     "name": "stdout",
     "output_type": "stream",
     "text": [
      "\u001b[1m19/19\u001b[0m \u001b[32m━━━━━━━━━━━━━━━━━━━━\u001b[0m\u001b[37m\u001b[0m \u001b[1m0s\u001b[0m 3ms/step \n",
      "LR - MAPE: 0.0453, MAE: 622.1427, RMSE: 759.3458, R2: 0.9016\n",
      "DL - MAPE: 0.0473, MAE: 630.6594, RMSE: 809.7253, R2: 0.8881\n",
      "\n",
      "Repeat 7/10\n"
     ]
    },
    {
     "name": "stderr",
     "output_type": "stream",
     "text": [
      "c:\\Users\\rezab\\anaconda3\\Lib\\site-packages\\sklearn\\utils\\validation.py:2732: UserWarning: X has feature names, but StandardScaler was fitted without feature names\n",
      "  warnings.warn(\n"
     ]
    },
    {
     "name": "stdout",
     "output_type": "stream",
     "text": [
      "\u001b[1m19/19\u001b[0m \u001b[32m━━━━━━━━━━━━━━━━━━━━\u001b[0m\u001b[37m\u001b[0m \u001b[1m0s\u001b[0m 3ms/step \n",
      "LR - MAPE: 0.0466, MAE: 633.5896, RMSE: 766.4464, R2: 0.8983\n",
      "DL - MAPE: 0.0339, MAE: 453.5712, RMSE: 570.3315, R2: 0.9437\n",
      "\n",
      "Repeat 8/10\n"
     ]
    },
    {
     "name": "stderr",
     "output_type": "stream",
     "text": [
      "c:\\Users\\rezab\\anaconda3\\Lib\\site-packages\\sklearn\\utils\\validation.py:2732: UserWarning: X has feature names, but StandardScaler was fitted without feature names\n",
      "  warnings.warn(\n"
     ]
    },
    {
     "name": "stdout",
     "output_type": "stream",
     "text": [
      "\u001b[1m19/19\u001b[0m \u001b[32m━━━━━━━━━━━━━━━━━━━━\u001b[0m\u001b[37m\u001b[0m \u001b[1m0s\u001b[0m 3ms/step \n",
      "LR - MAPE: 0.0464, MAE: 625.0622, RMSE: 761.7751, R2: 0.8992\n",
      "DL - MAPE: 0.0521, MAE: 682.3190, RMSE: 859.8587, R2: 0.8716\n",
      "\n",
      "Repeat 9/10\n"
     ]
    },
    {
     "name": "stderr",
     "output_type": "stream",
     "text": [
      "c:\\Users\\rezab\\anaconda3\\Lib\\site-packages\\sklearn\\utils\\validation.py:2732: UserWarning: X has feature names, but StandardScaler was fitted without feature names\n",
      "  warnings.warn(\n"
     ]
    },
    {
     "name": "stdout",
     "output_type": "stream",
     "text": [
      "\u001b[1m19/19\u001b[0m \u001b[32m━━━━━━━━━━━━━━━━━━━━\u001b[0m\u001b[37m\u001b[0m \u001b[1m0s\u001b[0m 3ms/step \n",
      "LR - MAPE: 0.0463, MAE: 621.5697, RMSE: 749.1805, R2: 0.8955\n",
      "DL - MAPE: 0.0350, MAE: 463.3704, RMSE: 597.7487, R2: 0.9335\n",
      "\n",
      "Repeat 10/10\n"
     ]
    },
    {
     "name": "stderr",
     "output_type": "stream",
     "text": [
      "c:\\Users\\rezab\\anaconda3\\Lib\\site-packages\\sklearn\\utils\\validation.py:2732: UserWarning: X has feature names, but StandardScaler was fitted without feature names\n",
      "  warnings.warn(\n"
     ]
    },
    {
     "name": "stdout",
     "output_type": "stream",
     "text": [
      "\u001b[1m19/19\u001b[0m \u001b[32m━━━━━━━━━━━━━━━━━━━━\u001b[0m\u001b[37m\u001b[0m \u001b[1m0s\u001b[0m 3ms/step \n",
      "LR - MAPE: 0.0478, MAE: 639.5374, RMSE: 761.7830, R2: 0.8837\n",
      "DL - MAPE: 0.0459, MAE: 606.2889, RMSE: 733.7729, R2: 0.8921\n",
      "\n",
      "> System: h2, Dataset: tpcc-2.csv\n",
      "> Training data fraction: 0.7, Number of repeats: 10\n",
      "\n",
      "Repeat 1/10\n"
     ]
    },
    {
     "name": "stderr",
     "output_type": "stream",
     "text": [
      "c:\\Users\\rezab\\anaconda3\\Lib\\site-packages\\sklearn\\utils\\validation.py:2732: UserWarning: X has feature names, but StandardScaler was fitted without feature names\n",
      "  warnings.warn(\n"
     ]
    },
    {
     "name": "stdout",
     "output_type": "stream",
     "text": [
      "\u001b[1m19/19\u001b[0m \u001b[32m━━━━━━━━━━━━━━━━━━━━\u001b[0m\u001b[37m\u001b[0m \u001b[1m0s\u001b[0m 3ms/step \n",
      "LR - MAPE: 0.0417, MAE: 30.5186, RMSE: 37.8912, R2: 0.7889\n",
      "DL - MAPE: 0.0392, MAE: 28.8319, RMSE: 37.0101, R2: 0.7986\n",
      "\n",
      "Repeat 2/10\n"
     ]
    },
    {
     "name": "stderr",
     "output_type": "stream",
     "text": [
      "c:\\Users\\rezab\\anaconda3\\Lib\\site-packages\\sklearn\\utils\\validation.py:2732: UserWarning: X has feature names, but StandardScaler was fitted without feature names\n",
      "  warnings.warn(\n"
     ]
    },
    {
     "name": "stdout",
     "output_type": "stream",
     "text": [
      "\u001b[1m19/19\u001b[0m \u001b[32m━━━━━━━━━━━━━━━━━━━━\u001b[0m\u001b[37m\u001b[0m \u001b[1m0s\u001b[0m 3ms/step \n",
      "LR - MAPE: 0.0406, MAE: 30.0663, RMSE: 37.1889, R2: 0.8172\n",
      "DL - MAPE: 0.0400, MAE: 29.6516, RMSE: 38.3498, R2: 0.8056\n",
      "\n",
      "Repeat 3/10\n"
     ]
    },
    {
     "name": "stderr",
     "output_type": "stream",
     "text": [
      "c:\\Users\\rezab\\anaconda3\\Lib\\site-packages\\sklearn\\utils\\validation.py:2732: UserWarning: X has feature names, but StandardScaler was fitted without feature names\n",
      "  warnings.warn(\n"
     ]
    },
    {
     "name": "stdout",
     "output_type": "stream",
     "text": [
      "\u001b[1m19/19\u001b[0m \u001b[32m━━━━━━━━━━━━━━━━━━━━\u001b[0m\u001b[37m\u001b[0m \u001b[1m0s\u001b[0m 3ms/step \n",
      "LR - MAPE: 0.0423, MAE: 30.9722, RMSE: 38.0751, R2: 0.7978\n",
      "DL - MAPE: 0.0442, MAE: 32.5644, RMSE: 41.4001, R2: 0.7610\n",
      "\n",
      "Repeat 4/10\n"
     ]
    },
    {
     "name": "stderr",
     "output_type": "stream",
     "text": [
      "c:\\Users\\rezab\\anaconda3\\Lib\\site-packages\\sklearn\\utils\\validation.py:2732: UserWarning: X has feature names, but StandardScaler was fitted without feature names\n",
      "  warnings.warn(\n"
     ]
    },
    {
     "name": "stdout",
     "output_type": "stream",
     "text": [
      "\u001b[1m19/19\u001b[0m \u001b[32m━━━━━━━━━━━━━━━━━━━━\u001b[0m\u001b[37m\u001b[0m \u001b[1m0s\u001b[0m 3ms/step \n",
      "LR - MAPE: 0.0397, MAE: 28.8736, RMSE: 35.9656, R2: 0.8101\n",
      "DL - MAPE: 0.0469, MAE: 34.0736, RMSE: 43.4936, R2: 0.7223\n",
      "\n",
      "Repeat 5/10\n"
     ]
    },
    {
     "name": "stderr",
     "output_type": "stream",
     "text": [
      "c:\\Users\\rezab\\anaconda3\\Lib\\site-packages\\sklearn\\utils\\validation.py:2732: UserWarning: X has feature names, but StandardScaler was fitted without feature names\n",
      "  warnings.warn(\n"
     ]
    },
    {
     "name": "stdout",
     "output_type": "stream",
     "text": [
      "\u001b[1m19/19\u001b[0m \u001b[32m━━━━━━━━━━━━━━━━━━━━\u001b[0m\u001b[37m\u001b[0m \u001b[1m0s\u001b[0m 3ms/step \n",
      "LR - MAPE: 0.0430, MAE: 31.5801, RMSE: 39.1325, R2: 0.7837\n",
      "DL - MAPE: 0.0337, MAE: 24.7504, RMSE: 31.6988, R2: 0.8581\n",
      "\n",
      "Repeat 6/10\n"
     ]
    },
    {
     "name": "stderr",
     "output_type": "stream",
     "text": [
      "c:\\Users\\rezab\\anaconda3\\Lib\\site-packages\\sklearn\\utils\\validation.py:2732: UserWarning: X has feature names, but StandardScaler was fitted without feature names\n",
      "  warnings.warn(\n"
     ]
    },
    {
     "name": "stdout",
     "output_type": "stream",
     "text": [
      "\u001b[1m19/19\u001b[0m \u001b[32m━━━━━━━━━━━━━━━━━━━━\u001b[0m\u001b[37m\u001b[0m \u001b[1m0s\u001b[0m 4ms/step\n",
      "LR - MAPE: 0.0407, MAE: 29.7440, RMSE: 36.8070, R2: 0.8060\n",
      "DL - MAPE: 0.0357, MAE: 26.2893, RMSE: 33.8290, R2: 0.8361\n",
      "\n",
      "Repeat 7/10\n"
     ]
    },
    {
     "name": "stderr",
     "output_type": "stream",
     "text": [
      "c:\\Users\\rezab\\anaconda3\\Lib\\site-packages\\sklearn\\utils\\validation.py:2732: UserWarning: X has feature names, but StandardScaler was fitted without feature names\n",
      "  warnings.warn(\n"
     ]
    },
    {
     "name": "stdout",
     "output_type": "stream",
     "text": [
      "\u001b[1m19/19\u001b[0m \u001b[32m━━━━━━━━━━━━━━━━━━━━\u001b[0m\u001b[37m\u001b[0m \u001b[1m0s\u001b[0m 3ms/step \n",
      "LR - MAPE: 0.0415, MAE: 30.4114, RMSE: 37.0945, R2: 0.8086\n",
      "DL - MAPE: 0.0362, MAE: 26.4975, RMSE: 33.9475, R2: 0.8397\n",
      "\n",
      "Repeat 8/10\n"
     ]
    },
    {
     "name": "stderr",
     "output_type": "stream",
     "text": [
      "c:\\Users\\rezab\\anaconda3\\Lib\\site-packages\\sklearn\\utils\\validation.py:2732: UserWarning: X has feature names, but StandardScaler was fitted without feature names\n",
      "  warnings.warn(\n"
     ]
    },
    {
     "name": "stdout",
     "output_type": "stream",
     "text": [
      "\u001b[1m19/19\u001b[0m \u001b[32m━━━━━━━━━━━━━━━━━━━━\u001b[0m\u001b[37m\u001b[0m \u001b[1m0s\u001b[0m 3ms/step \n",
      "LR - MAPE: 0.0427, MAE: 31.0984, RMSE: 38.4836, R2: 0.7844\n",
      "DL - MAPE: 0.0444, MAE: 32.1464, RMSE: 40.5200, R2: 0.7610\n",
      "\n",
      "Repeat 9/10\n"
     ]
    },
    {
     "name": "stderr",
     "output_type": "stream",
     "text": [
      "c:\\Users\\rezab\\anaconda3\\Lib\\site-packages\\sklearn\\utils\\validation.py:2732: UserWarning: X has feature names, but StandardScaler was fitted without feature names\n",
      "  warnings.warn(\n"
     ]
    },
    {
     "name": "stdout",
     "output_type": "stream",
     "text": [
      "\u001b[1m19/19\u001b[0m \u001b[32m━━━━━━━━━━━━━━━━━━━━\u001b[0m\u001b[37m\u001b[0m \u001b[1m0s\u001b[0m 3ms/step \n",
      "LR - MAPE: 0.0418, MAE: 30.3751, RMSE: 37.5113, R2: 0.7762\n",
      "DL - MAPE: 0.0470, MAE: 34.0356, RMSE: 43.1738, R2: 0.7035\n",
      "\n",
      "Repeat 10/10\n"
     ]
    },
    {
     "name": "stderr",
     "output_type": "stream",
     "text": [
      "c:\\Users\\rezab\\anaconda3\\Lib\\site-packages\\sklearn\\utils\\validation.py:2732: UserWarning: X has feature names, but StandardScaler was fitted without feature names\n",
      "  warnings.warn(\n"
     ]
    },
    {
     "name": "stdout",
     "output_type": "stream",
     "text": [
      "\u001b[1m19/19\u001b[0m \u001b[32m━━━━━━━━━━━━━━━━━━━━\u001b[0m\u001b[37m\u001b[0m \u001b[1m0s\u001b[0m 3ms/step \n",
      "LR - MAPE: 0.0435, MAE: 31.3707, RMSE: 38.5364, R2: 0.7594\n",
      "DL - MAPE: 0.0398, MAE: 28.9942, RMSE: 37.0263, R2: 0.7779\n",
      "\n",
      "> System: h2, Dataset: tpcc-8.csv\n",
      "> Training data fraction: 0.7, Number of repeats: 10\n",
      "\n",
      "Repeat 1/10\n"
     ]
    },
    {
     "name": "stderr",
     "output_type": "stream",
     "text": [
      "c:\\Users\\rezab\\anaconda3\\Lib\\site-packages\\sklearn\\utils\\validation.py:2732: UserWarning: X has feature names, but StandardScaler was fitted without feature names\n",
      "  warnings.warn(\n"
     ]
    },
    {
     "name": "stdout",
     "output_type": "stream",
     "text": [
      "\u001b[1m19/19\u001b[0m \u001b[32m━━━━━━━━━━━━━━━━━━━━\u001b[0m\u001b[37m\u001b[0m \u001b[1m0s\u001b[0m 3ms/step \n",
      "LR - MAPE: 0.2069, MAE: 107.7158, RMSE: 164.3876, R2: 0.1425\n",
      "DL - MAPE: 0.2219, MAE: 107.7906, RMSE: 171.2369, R2: 0.0695\n",
      "\n",
      "Repeat 2/10\n"
     ]
    },
    {
     "name": "stderr",
     "output_type": "stream",
     "text": [
      "c:\\Users\\rezab\\anaconda3\\Lib\\site-packages\\sklearn\\utils\\validation.py:2732: UserWarning: X has feature names, but StandardScaler was fitted without feature names\n",
      "  warnings.warn(\n"
     ]
    },
    {
     "name": "stdout",
     "output_type": "stream",
     "text": [
      "\u001b[1m19/19\u001b[0m \u001b[32m━━━━━━━━━━━━━━━━━━━━\u001b[0m\u001b[37m\u001b[0m \u001b[1m0s\u001b[0m 3ms/step \n",
      "LR - MAPE: 0.1994, MAE: 109.5985, RMSE: 163.5255, R2: 0.1634\n",
      "DL - MAPE: 0.2120, MAE: 112.8557, RMSE: 167.1176, R2: 0.1263\n",
      "\n",
      "Repeat 3/10\n"
     ]
    },
    {
     "name": "stderr",
     "output_type": "stream",
     "text": [
      "c:\\Users\\rezab\\anaconda3\\Lib\\site-packages\\sklearn\\utils\\validation.py:2732: UserWarning: X has feature names, but StandardScaler was fitted without feature names\n",
      "  warnings.warn(\n"
     ]
    },
    {
     "name": "stdout",
     "output_type": "stream",
     "text": [
      "\u001b[1m19/19\u001b[0m \u001b[32m━━━━━━━━━━━━━━━━━━━━\u001b[0m\u001b[37m\u001b[0m \u001b[1m0s\u001b[0m 3ms/step \n",
      "LR - MAPE: 0.1999, MAE: 107.2784, RMSE: 160.6936, R2: 0.1447\n",
      "DL - MAPE: 0.2042, MAE: 110.1889, RMSE: 162.5978, R2: 0.1243\n",
      "\n",
      "Repeat 4/10\n"
     ]
    },
    {
     "name": "stderr",
     "output_type": "stream",
     "text": [
      "c:\\Users\\rezab\\anaconda3\\Lib\\site-packages\\sklearn\\utils\\validation.py:2732: UserWarning: X has feature names, but StandardScaler was fitted without feature names\n",
      "  warnings.warn(\n"
     ]
    },
    {
     "name": "stdout",
     "output_type": "stream",
     "text": [
      "\u001b[1m19/19\u001b[0m \u001b[32m━━━━━━━━━━━━━━━━━━━━\u001b[0m\u001b[37m\u001b[0m \u001b[1m0s\u001b[0m 3ms/step \n",
      "LR - MAPE: 0.1897, MAE: 103.4780, RMSE: 157.0090, R2: 0.1606\n",
      "DL - MAPE: 0.1972, MAE: 103.6370, RMSE: 162.3894, R2: 0.1021\n",
      "\n",
      "Repeat 5/10\n"
     ]
    },
    {
     "name": "stderr",
     "output_type": "stream",
     "text": [
      "c:\\Users\\rezab\\anaconda3\\Lib\\site-packages\\sklearn\\utils\\validation.py:2732: UserWarning: X has feature names, but StandardScaler was fitted without feature names\n",
      "  warnings.warn(\n"
     ]
    },
    {
     "name": "stdout",
     "output_type": "stream",
     "text": [
      "\u001b[1m19/19\u001b[0m \u001b[32m━━━━━━━━━━━━━━━━━━━━\u001b[0m\u001b[37m\u001b[0m \u001b[1m0s\u001b[0m 3ms/step \n",
      "LR - MAPE: 0.2046, MAE: 106.8261, RMSE: 162.1008, R2: 0.1392\n",
      "DL - MAPE: 0.2098, MAE: 104.9900, RMSE: 163.9554, R2: 0.1194\n",
      "\n",
      "Repeat 6/10\n"
     ]
    },
    {
     "name": "stderr",
     "output_type": "stream",
     "text": [
      "c:\\Users\\rezab\\anaconda3\\Lib\\site-packages\\sklearn\\utils\\validation.py:2732: UserWarning: X has feature names, but StandardScaler was fitted without feature names\n",
      "  warnings.warn(\n"
     ]
    },
    {
     "name": "stdout",
     "output_type": "stream",
     "text": [
      "\u001b[1m19/19\u001b[0m \u001b[32m━━━━━━━━━━━━━━━━━━━━\u001b[0m\u001b[37m\u001b[0m \u001b[1m0s\u001b[0m 3ms/step \n",
      "LR - MAPE: 0.2181, MAE: 111.2648, RMSE: 169.4335, R2: 0.1149\n",
      "DL - MAPE: 0.2412, MAE: 119.2777, RMSE: 178.0085, R2: 0.0231\n",
      "\n",
      "Repeat 7/10\n"
     ]
    },
    {
     "name": "stderr",
     "output_type": "stream",
     "text": [
      "c:\\Users\\rezab\\anaconda3\\Lib\\site-packages\\sklearn\\utils\\validation.py:2732: UserWarning: X has feature names, but StandardScaler was fitted without feature names\n",
      "  warnings.warn(\n"
     ]
    },
    {
     "name": "stdout",
     "output_type": "stream",
     "text": [
      "\u001b[1m19/19\u001b[0m \u001b[32m━━━━━━━━━━━━━━━━━━━━\u001b[0m\u001b[37m\u001b[0m \u001b[1m0s\u001b[0m 3ms/step \n",
      "LR - MAPE: 0.2055, MAE: 105.9973, RMSE: 161.4791, R2: 0.1344\n",
      "DL - MAPE: 0.2070, MAE: 106.1258, RMSE: 162.1201, R2: 0.1275\n",
      "\n",
      "Repeat 8/10\n"
     ]
    },
    {
     "name": "stderr",
     "output_type": "stream",
     "text": [
      "c:\\Users\\rezab\\anaconda3\\Lib\\site-packages\\sklearn\\utils\\validation.py:2732: UserWarning: X has feature names, but StandardScaler was fitted without feature names\n",
      "  warnings.warn(\n"
     ]
    },
    {
     "name": "stdout",
     "output_type": "stream",
     "text": [
      "\u001b[1m19/19\u001b[0m \u001b[32m━━━━━━━━━━━━━━━━━━━━\u001b[0m\u001b[37m\u001b[0m \u001b[1m0s\u001b[0m 3ms/step \n",
      "LR - MAPE: 0.1971, MAE: 108.6687, RMSE: 163.5017, R2: 0.1774\n",
      "DL - MAPE: 0.2036, MAE: 107.7756, RMSE: 164.5013, R2: 0.1673\n",
      "\n",
      "Repeat 9/10\n"
     ]
    },
    {
     "name": "stderr",
     "output_type": "stream",
     "text": [
      "c:\\Users\\rezab\\anaconda3\\Lib\\site-packages\\sklearn\\utils\\validation.py:2732: UserWarning: X has feature names, but StandardScaler was fitted without feature names\n",
      "  warnings.warn(\n"
     ]
    },
    {
     "name": "stdout",
     "output_type": "stream",
     "text": [
      "\u001b[1m19/19\u001b[0m \u001b[32m━━━━━━━━━━━━━━━━━━━━\u001b[0m\u001b[37m\u001b[0m \u001b[1m0s\u001b[0m 4ms/step\n",
      "LR - MAPE: 0.1890, MAE: 99.1288, RMSE: 153.3283, R2: 0.1532\n",
      "DL - MAPE: 0.2067, MAE: 104.3203, RMSE: 159.6868, R2: 0.0816\n",
      "\n",
      "Repeat 10/10\n"
     ]
    },
    {
     "name": "stderr",
     "output_type": "stream",
     "text": [
      "c:\\Users\\rezab\\anaconda3\\Lib\\site-packages\\sklearn\\utils\\validation.py:2732: UserWarning: X has feature names, but StandardScaler was fitted without feature names\n",
      "  warnings.warn(\n"
     ]
    },
    {
     "name": "stdout",
     "output_type": "stream",
     "text": [
      "\u001b[1m19/19\u001b[0m \u001b[32m━━━━━━━━━━━━━━━━━━━━\u001b[0m\u001b[37m\u001b[0m \u001b[1m0s\u001b[0m 3ms/step \n",
      "LR - MAPE: 0.1756, MAE: 99.0748, RMSE: 149.8247, R2: 0.1966\n",
      "DL - MAPE: 0.1813, MAE: 101.8731, RMSE: 151.2429, R2: 0.1813\n",
      "\n",
      "> System: h2, Dataset: voter-16.csv\n",
      "> Training data fraction: 0.7, Number of repeats: 10\n",
      "\n",
      "Repeat 1/10\n"
     ]
    },
    {
     "name": "stderr",
     "output_type": "stream",
     "text": [
      "c:\\Users\\rezab\\anaconda3\\Lib\\site-packages\\sklearn\\utils\\validation.py:2732: UserWarning: X has feature names, but StandardScaler was fitted without feature names\n",
      "  warnings.warn(\n"
     ]
    },
    {
     "name": "stdout",
     "output_type": "stream",
     "text": [
      "\u001b[1m19/19\u001b[0m \u001b[32m━━━━━━━━━━━━━━━━━━━━\u001b[0m\u001b[37m\u001b[0m \u001b[1m0s\u001b[0m 3ms/step \n",
      "LR - MAPE: 0.0770, MAE: 2416.3264, RMSE: 2728.1407, R2: 0.8842\n",
      "DL - MAPE: 0.0423, MAE: 1364.1800, RMSE: 1686.2194, R2: 0.9558\n",
      "\n",
      "Repeat 2/10\n"
     ]
    },
    {
     "name": "stderr",
     "output_type": "stream",
     "text": [
      "c:\\Users\\rezab\\anaconda3\\Lib\\site-packages\\sklearn\\utils\\validation.py:2732: UserWarning: X has feature names, but StandardScaler was fitted without feature names\n",
      "  warnings.warn(\n"
     ]
    },
    {
     "name": "stdout",
     "output_type": "stream",
     "text": [
      "\u001b[1m19/19\u001b[0m \u001b[32m━━━━━━━━━━━━━━━━━━━━\u001b[0m\u001b[37m\u001b[0m \u001b[1m0s\u001b[0m 3ms/step \n",
      "LR - MAPE: 0.0760, MAE: 2414.2919, RMSE: 2660.3693, R2: 0.9013\n",
      "DL - MAPE: 0.0445, MAE: 1434.3303, RMSE: 1782.4135, R2: 0.9557\n",
      "\n",
      "Repeat 3/10\n"
     ]
    },
    {
     "name": "stderr",
     "output_type": "stream",
     "text": [
      "c:\\Users\\rezab\\anaconda3\\Lib\\site-packages\\sklearn\\utils\\validation.py:2732: UserWarning: X has feature names, but StandardScaler was fitted without feature names\n",
      "  warnings.warn(\n"
     ]
    },
    {
     "name": "stdout",
     "output_type": "stream",
     "text": [
      "\u001b[1m19/19\u001b[0m \u001b[32m━━━━━━━━━━━━━━━━━━━━\u001b[0m\u001b[37m\u001b[0m \u001b[1m0s\u001b[0m 3ms/step \n",
      "LR - MAPE: 0.0762, MAE: 2401.7488, RMSE: 2661.4514, R2: 0.8964\n",
      "DL - MAPE: 0.0365, MAE: 1182.6617, RMSE: 1508.1308, R2: 0.9667\n",
      "\n",
      "Repeat 4/10\n"
     ]
    },
    {
     "name": "stderr",
     "output_type": "stream",
     "text": [
      "c:\\Users\\rezab\\anaconda3\\Lib\\site-packages\\sklearn\\utils\\validation.py:2732: UserWarning: X has feature names, but StandardScaler was fitted without feature names\n",
      "  warnings.warn(\n"
     ]
    },
    {
     "name": "stdout",
     "output_type": "stream",
     "text": [
      "\u001b[1m19/19\u001b[0m \u001b[32m━━━━━━━━━━━━━━━━━━━━\u001b[0m\u001b[37m\u001b[0m \u001b[1m0s\u001b[0m 3ms/step \n",
      "LR - MAPE: 0.0750, MAE: 2354.5533, RMSE: 2627.4954, R2: 0.8922\n",
      "DL - MAPE: 0.0399, MAE: 1266.2183, RMSE: 1566.9795, R2: 0.9616\n",
      "\n",
      "Repeat 5/10\n"
     ]
    },
    {
     "name": "stderr",
     "output_type": "stream",
     "text": [
      "c:\\Users\\rezab\\anaconda3\\Lib\\site-packages\\sklearn\\utils\\validation.py:2732: UserWarning: X has feature names, but StandardScaler was fitted without feature names\n",
      "  warnings.warn(\n"
     ]
    },
    {
     "name": "stdout",
     "output_type": "stream",
     "text": [
      "\u001b[1m19/19\u001b[0m \u001b[32m━━━━━━━━━━━━━━━━━━━━\u001b[0m\u001b[37m\u001b[0m \u001b[1m0s\u001b[0m 3ms/step \n",
      "LR - MAPE: 0.0767, MAE: 2397.9187, RMSE: 2669.4625, R2: 0.8903\n",
      "DL - MAPE: 0.0320, MAE: 993.8022, RMSE: 1220.4869, R2: 0.9771\n",
      "\n",
      "Repeat 6/10\n"
     ]
    },
    {
     "name": "stderr",
     "output_type": "stream",
     "text": [
      "c:\\Users\\rezab\\anaconda3\\Lib\\site-packages\\sklearn\\utils\\validation.py:2732: UserWarning: X has feature names, but StandardScaler was fitted without feature names\n",
      "  warnings.warn(\n"
     ]
    },
    {
     "name": "stdout",
     "output_type": "stream",
     "text": [
      "\u001b[1m19/19\u001b[0m \u001b[32m━━━━━━━━━━━━━━━━━━━━\u001b[0m\u001b[37m\u001b[0m \u001b[1m0s\u001b[0m 3ms/step \n",
      "LR - MAPE: 0.0756, MAE: 2395.2877, RMSE: 2667.2754, R2: 0.8938\n",
      "DL - MAPE: 0.0578, MAE: 1854.9817, RMSE: 2261.2659, R2: 0.9237\n",
      "\n",
      "Repeat 7/10\n"
     ]
    },
    {
     "name": "stderr",
     "output_type": "stream",
     "text": [
      "c:\\Users\\rezab\\anaconda3\\Lib\\site-packages\\sklearn\\utils\\validation.py:2732: UserWarning: X has feature names, but StandardScaler was fitted without feature names\n",
      "  warnings.warn(\n"
     ]
    },
    {
     "name": "stdout",
     "output_type": "stream",
     "text": [
      "\u001b[1m19/19\u001b[0m \u001b[32m━━━━━━━━━━━━━━━━━━━━\u001b[0m\u001b[37m\u001b[0m \u001b[1m0s\u001b[0m 3ms/step \n",
      "LR - MAPE: 0.0761, MAE: 2397.2426, RMSE: 2647.9441, R2: 0.8930\n",
      "DL - MAPE: 0.0362, MAE: 1131.8015, RMSE: 1393.9879, R2: 0.9703\n",
      "\n",
      "Repeat 8/10\n"
     ]
    },
    {
     "name": "stderr",
     "output_type": "stream",
     "text": [
      "c:\\Users\\rezab\\anaconda3\\Lib\\site-packages\\sklearn\\utils\\validation.py:2732: UserWarning: X has feature names, but StandardScaler was fitted without feature names\n",
      "  warnings.warn(\n"
     ]
    },
    {
     "name": "stdout",
     "output_type": "stream",
     "text": [
      "\u001b[1m19/19\u001b[0m \u001b[32m━━━━━━━━━━━━━━━━━━━━\u001b[0m\u001b[37m\u001b[0m \u001b[1m0s\u001b[0m 3ms/step \n",
      "LR - MAPE: 0.0762, MAE: 2406.8123, RMSE: 2689.1420, R2: 0.8924\n",
      "DL - MAPE: 0.0427, MAE: 1366.8261, RMSE: 1728.2841, R2: 0.9556\n",
      "\n",
      "Repeat 9/10\n"
     ]
    },
    {
     "name": "stderr",
     "output_type": "stream",
     "text": [
      "c:\\Users\\rezab\\anaconda3\\Lib\\site-packages\\sklearn\\utils\\validation.py:2732: UserWarning: X has feature names, but StandardScaler was fitted without feature names\n",
      "  warnings.warn(\n"
     ]
    },
    {
     "name": "stdout",
     "output_type": "stream",
     "text": [
      "\u001b[1m19/19\u001b[0m \u001b[32m━━━━━━━━━━━━━━━━━━━━\u001b[0m\u001b[37m\u001b[0m \u001b[1m0s\u001b[0m 3ms/step \n",
      "LR - MAPE: 0.0750, MAE: 2342.2293, RMSE: 2576.8593, R2: 0.8930\n",
      "DL - MAPE: 0.0430, MAE: 1349.9170, RMSE: 1654.6151, R2: 0.9559\n",
      "\n",
      "Repeat 10/10\n"
     ]
    },
    {
     "name": "stderr",
     "output_type": "stream",
     "text": [
      "c:\\Users\\rezab\\anaconda3\\Lib\\site-packages\\sklearn\\utils\\validation.py:2732: UserWarning: X has feature names, but StandardScaler was fitted without feature names\n",
      "  warnings.warn(\n"
     ]
    },
    {
     "name": "stdout",
     "output_type": "stream",
     "text": [
      "\u001b[1m19/19\u001b[0m \u001b[32m━━━━━━━━━━━━━━━━━━━━\u001b[0m\u001b[37m\u001b[0m \u001b[1m0s\u001b[0m 3ms/step \n",
      "LR - MAPE: 0.0801, MAE: 2471.7778, RMSE: 2761.4219, R2: 0.8676\n",
      "DL - MAPE: 0.0406, MAE: 1289.8535, RMSE: 1584.3762, R2: 0.9564\n",
      "\n",
      "> System: h2, Dataset: voter-2.csv\n",
      "> Training data fraction: 0.7, Number of repeats: 10\n",
      "\n",
      "Repeat 1/10\n"
     ]
    },
    {
     "name": "stderr",
     "output_type": "stream",
     "text": [
      "c:\\Users\\rezab\\anaconda3\\Lib\\site-packages\\sklearn\\utils\\validation.py:2732: UserWarning: X has feature names, but StandardScaler was fitted without feature names\n",
      "  warnings.warn(\n"
     ]
    },
    {
     "name": "stdout",
     "output_type": "stream",
     "text": [
      "\u001b[1m19/19\u001b[0m \u001b[32m━━━━━━━━━━━━━━━━━━━━\u001b[0m\u001b[37m\u001b[0m \u001b[1m0s\u001b[0m 3ms/step \n",
      "LR - MAPE: 0.0807, MAE: 2519.8144, RMSE: 2824.1431, R2: 0.8779\n",
      "DL - MAPE: 0.0331, MAE: 1002.7111, RMSE: 1308.8985, R2: 0.9738\n",
      "\n",
      "Repeat 2/10\n"
     ]
    },
    {
     "name": "stderr",
     "output_type": "stream",
     "text": [
      "c:\\Users\\rezab\\anaconda3\\Lib\\site-packages\\sklearn\\utils\\validation.py:2732: UserWarning: X has feature names, but StandardScaler was fitted without feature names\n",
      "  warnings.warn(\n"
     ]
    },
    {
     "name": "stdout",
     "output_type": "stream",
     "text": [
      "\u001b[1m19/19\u001b[0m \u001b[32m━━━━━━━━━━━━━━━━━━━━\u001b[0m\u001b[37m\u001b[0m \u001b[1m0s\u001b[0m 3ms/step \n",
      "LR - MAPE: 0.0795, MAE: 2509.0354, RMSE: 2745.0191, R2: 0.8970\n",
      "DL - MAPE: 0.0441, MAE: 1372.9981, RMSE: 1712.0767, R2: 0.9599\n",
      "\n",
      "Repeat 3/10\n"
     ]
    },
    {
     "name": "stderr",
     "output_type": "stream",
     "text": [
      "c:\\Users\\rezab\\anaconda3\\Lib\\site-packages\\sklearn\\utils\\validation.py:2732: UserWarning: X has feature names, but StandardScaler was fitted without feature names\n",
      "  warnings.warn(\n"
     ]
    },
    {
     "name": "stdout",
     "output_type": "stream",
     "text": [
      "\u001b[1m19/19\u001b[0m \u001b[32m━━━━━━━━━━━━━━━━━━━━\u001b[0m\u001b[37m\u001b[0m \u001b[1m0s\u001b[0m 3ms/step \n",
      "LR - MAPE: 0.0802, MAE: 2502.9093, RMSE: 2766.2304, R2: 0.8888\n",
      "DL - MAPE: 0.0461, MAE: 1424.4311, RMSE: 1761.6375, R2: 0.9549\n",
      "\n",
      "Repeat 4/10\n"
     ]
    },
    {
     "name": "stderr",
     "output_type": "stream",
     "text": [
      "c:\\Users\\rezab\\anaconda3\\Lib\\site-packages\\sklearn\\utils\\validation.py:2732: UserWarning: X has feature names, but StandardScaler was fitted without feature names\n",
      "  warnings.warn(\n"
     ]
    },
    {
     "name": "stdout",
     "output_type": "stream",
     "text": [
      "\u001b[1m19/19\u001b[0m \u001b[32m━━━━━━━━━━━━━━━━━━━━\u001b[0m\u001b[37m\u001b[0m \u001b[1m0s\u001b[0m 3ms/step \n",
      "LR - MAPE: 0.0782, MAE: 2435.2332, RMSE: 2723.9210, R2: 0.8859\n",
      "DL - MAPE: 0.0443, MAE: 1370.2956, RMSE: 1719.7247, R2: 0.9545\n",
      "\n",
      "Repeat 5/10\n"
     ]
    },
    {
     "name": "stderr",
     "output_type": "stream",
     "text": [
      "c:\\Users\\rezab\\anaconda3\\Lib\\site-packages\\sklearn\\utils\\validation.py:2732: UserWarning: X has feature names, but StandardScaler was fitted without feature names\n",
      "  warnings.warn(\n"
     ]
    },
    {
     "name": "stdout",
     "output_type": "stream",
     "text": [
      "\u001b[1m19/19\u001b[0m \u001b[32m━━━━━━━━━━━━━━━━━━━━\u001b[0m\u001b[37m\u001b[0m \u001b[1m0s\u001b[0m 3ms/step \n",
      "LR - MAPE: 0.0810, MAE: 2512.4643, RMSE: 2792.4354, R2: 0.8823\n",
      "DL - MAPE: 0.0372, MAE: 1164.9272, RMSE: 1495.2468, R2: 0.9663\n",
      "\n",
      "Repeat 6/10\n"
     ]
    },
    {
     "name": "stderr",
     "output_type": "stream",
     "text": [
      "c:\\Users\\rezab\\anaconda3\\Lib\\site-packages\\sklearn\\utils\\validation.py:2732: UserWarning: X has feature names, but StandardScaler was fitted without feature names\n",
      "  warnings.warn(\n"
     ]
    },
    {
     "name": "stdout",
     "output_type": "stream",
     "text": [
      "\u001b[1m19/19\u001b[0m \u001b[32m━━━━━━━━━━━━━━━━━━━━\u001b[0m\u001b[37m\u001b[0m \u001b[1m0s\u001b[0m 3ms/step \n",
      "LR - MAPE: 0.0804, MAE: 2540.3897, RMSE: 2807.6044, R2: 0.8859\n",
      "DL - MAPE: 0.0473, MAE: 1464.7379, RMSE: 1838.5079, R2: 0.9511\n",
      "\n",
      "Repeat 7/10\n"
     ]
    },
    {
     "name": "stderr",
     "output_type": "stream",
     "text": [
      "c:\\Users\\rezab\\anaconda3\\Lib\\site-packages\\sklearn\\utils\\validation.py:2732: UserWarning: X has feature names, but StandardScaler was fitted without feature names\n",
      "  warnings.warn(\n"
     ]
    },
    {
     "name": "stdout",
     "output_type": "stream",
     "text": [
      "\u001b[1m19/19\u001b[0m \u001b[32m━━━━━━━━━━━━━━━━━━━━\u001b[0m\u001b[37m\u001b[0m \u001b[1m0s\u001b[0m 3ms/step \n",
      "LR - MAPE: 0.0812, MAE: 2556.0958, RMSE: 2823.7927, R2: 0.8826\n",
      "DL - MAPE: 0.0502, MAE: 1556.1707, RMSE: 1905.3569, R2: 0.9466\n",
      "\n",
      "Repeat 8/10\n"
     ]
    },
    {
     "name": "stderr",
     "output_type": "stream",
     "text": [
      "c:\\Users\\rezab\\anaconda3\\Lib\\site-packages\\sklearn\\utils\\validation.py:2732: UserWarning: X has feature names, but StandardScaler was fitted without feature names\n",
      "  warnings.warn(\n"
     ]
    },
    {
     "name": "stdout",
     "output_type": "stream",
     "text": [
      "\u001b[1m19/19\u001b[0m \u001b[32m━━━━━━━━━━━━━━━━━━━━\u001b[0m\u001b[37m\u001b[0m \u001b[1m0s\u001b[0m 3ms/step \n",
      "LR - MAPE: 0.0805, MAE: 2529.9717, RMSE: 2808.7853, R2: 0.8850\n",
      "DL - MAPE: 0.0352, MAE: 1136.1590, RMSE: 1437.6588, R2: 0.9699\n",
      "\n",
      "Repeat 9/10\n"
     ]
    },
    {
     "name": "stderr",
     "output_type": "stream",
     "text": [
      "c:\\Users\\rezab\\anaconda3\\Lib\\site-packages\\sklearn\\utils\\validation.py:2732: UserWarning: X has feature names, but StandardScaler was fitted without feature names\n",
      "  warnings.warn(\n"
     ]
    },
    {
     "name": "stdout",
     "output_type": "stream",
     "text": [
      "\u001b[1m19/19\u001b[0m \u001b[32m━━━━━━━━━━━━━━━━━━━━\u001b[0m\u001b[37m\u001b[0m \u001b[1m0s\u001b[0m 3ms/step \n",
      "LR - MAPE: 0.0794, MAE: 2449.7521, RMSE: 2757.9303, R2: 0.8794\n",
      "DL - MAPE: 0.0479, MAE: 1475.0059, RMSE: 1826.8297, R2: 0.9471\n",
      "\n",
      "Repeat 10/10\n"
     ]
    },
    {
     "name": "stderr",
     "output_type": "stream",
     "text": [
      "c:\\Users\\rezab\\anaconda3\\Lib\\site-packages\\sklearn\\utils\\validation.py:2732: UserWarning: X has feature names, but StandardScaler was fitted without feature names\n",
      "  warnings.warn(\n"
     ]
    },
    {
     "name": "stdout",
     "output_type": "stream",
     "text": [
      "\u001b[1m19/19\u001b[0m \u001b[32m━━━━━━━━━━━━━━━━━━━━\u001b[0m\u001b[37m\u001b[0m \u001b[1m0s\u001b[0m 3ms/step \n",
      "LR - MAPE: 0.0833, MAE: 2558.7195, RMSE: 2819.4295, R2: 0.8643\n",
      "DL - MAPE: 0.0376, MAE: 1162.0773, RMSE: 1445.6900, R2: 0.9643\n",
      "\n",
      "> System: h2, Dataset: ycsb-2400.csv\n",
      "> Training data fraction: 0.7, Number of repeats: 10\n",
      "\n",
      "Repeat 1/10\n"
     ]
    },
    {
     "name": "stderr",
     "output_type": "stream",
     "text": [
      "c:\\Users\\rezab\\anaconda3\\Lib\\site-packages\\sklearn\\utils\\validation.py:2732: UserWarning: X has feature names, but StandardScaler was fitted without feature names\n",
      "  warnings.warn(\n"
     ]
    },
    {
     "name": "stdout",
     "output_type": "stream",
     "text": [
      "\u001b[1m19/19\u001b[0m \u001b[32m━━━━━━━━━━━━━━━━━━━━\u001b[0m\u001b[37m\u001b[0m \u001b[1m0s\u001b[0m 3ms/step \n",
      "LR - MAPE: 0.0910, MAE: 1277.1985, RMSE: 1554.2811, R2: 0.4207\n",
      "DL - MAPE: 0.0485, MAE: 700.7198, RMSE: 924.7928, R2: 0.7949\n",
      "\n",
      "Repeat 2/10\n"
     ]
    },
    {
     "name": "stderr",
     "output_type": "stream",
     "text": [
      "c:\\Users\\rezab\\anaconda3\\Lib\\site-packages\\sklearn\\utils\\validation.py:2732: UserWarning: X has feature names, but StandardScaler was fitted without feature names\n",
      "  warnings.warn(\n"
     ]
    },
    {
     "name": "stdout",
     "output_type": "stream",
     "text": [
      "\u001b[1m19/19\u001b[0m \u001b[32m━━━━━━━━━━━━━━━━━━━━\u001b[0m\u001b[37m\u001b[0m \u001b[1m0s\u001b[0m 3ms/step \n",
      "LR - MAPE: 0.0882, MAE: 1256.3107, RMSE: 1557.8484, R2: 0.4432\n",
      "DL - MAPE: 0.0662, MAE: 939.0611, RMSE: 1187.5580, R2: 0.6764\n",
      "\n",
      "Repeat 3/10\n"
     ]
    },
    {
     "name": "stderr",
     "output_type": "stream",
     "text": [
      "c:\\Users\\rezab\\anaconda3\\Lib\\site-packages\\sklearn\\utils\\validation.py:2732: UserWarning: X has feature names, but StandardScaler was fitted without feature names\n",
      "  warnings.warn(\n"
     ]
    },
    {
     "name": "stdout",
     "output_type": "stream",
     "text": [
      "\u001b[1m19/19\u001b[0m \u001b[32m━━━━━━━━━━━━━━━━━━━━\u001b[0m\u001b[37m\u001b[0m \u001b[1m0s\u001b[0m 3ms/step \n",
      "LR - MAPE: 0.0925, MAE: 1316.7476, RMSE: 1625.3524, R2: 0.4667\n",
      "DL - MAPE: 0.0565, MAE: 820.7486, RMSE: 1060.0201, R2: 0.7732\n",
      "\n",
      "Repeat 4/10\n"
     ]
    },
    {
     "name": "stderr",
     "output_type": "stream",
     "text": [
      "c:\\Users\\rezab\\anaconda3\\Lib\\site-packages\\sklearn\\utils\\validation.py:2732: UserWarning: X has feature names, but StandardScaler was fitted without feature names\n",
      "  warnings.warn(\n"
     ]
    },
    {
     "name": "stdout",
     "output_type": "stream",
     "text": [
      "\u001b[1m19/19\u001b[0m \u001b[32m━━━━━━━━━━━━━━━━━━━━\u001b[0m\u001b[37m\u001b[0m \u001b[1m0s\u001b[0m 3ms/step \n",
      "LR - MAPE: 0.0929, MAE: 1281.6164, RMSE: 1552.1660, R2: 0.4193\n",
      "DL - MAPE: 0.0536, MAE: 768.4562, RMSE: 1024.4288, R2: 0.7470\n",
      "\n",
      "Repeat 5/10\n"
     ]
    },
    {
     "name": "stderr",
     "output_type": "stream",
     "text": [
      "c:\\Users\\rezab\\anaconda3\\Lib\\site-packages\\sklearn\\utils\\validation.py:2732: UserWarning: X has feature names, but StandardScaler was fitted without feature names\n",
      "  warnings.warn(\n"
     ]
    },
    {
     "name": "stdout",
     "output_type": "stream",
     "text": [
      "\u001b[1m19/19\u001b[0m \u001b[32m━━━━━━━━━━━━━━━━━━━━\u001b[0m\u001b[37m\u001b[0m \u001b[1m0s\u001b[0m 3ms/step \n",
      "LR - MAPE: 0.0928, MAE: 1321.7171, RMSE: 1632.8190, R2: 0.4519\n",
      "DL - MAPE: 0.0675, MAE: 989.6130, RMSE: 1286.0854, R2: 0.6600\n",
      "\n",
      "Repeat 6/10\n"
     ]
    },
    {
     "name": "stderr",
     "output_type": "stream",
     "text": [
      "c:\\Users\\rezab\\anaconda3\\Lib\\site-packages\\sklearn\\utils\\validation.py:2732: UserWarning: X has feature names, but StandardScaler was fitted without feature names\n",
      "  warnings.warn(\n"
     ]
    },
    {
     "name": "stdout",
     "output_type": "stream",
     "text": [
      "\u001b[1m19/19\u001b[0m \u001b[32m━━━━━━━━━━━━━━━━━━━━\u001b[0m\u001b[37m\u001b[0m \u001b[1m0s\u001b[0m 3ms/step \n",
      "LR - MAPE: 0.0882, MAE: 1280.1435, RMSE: 1610.9247, R2: 0.4534\n",
      "DL - MAPE: 0.0635, MAE: 919.5200, RMSE: 1182.0008, R2: 0.7057\n",
      "\n",
      "Repeat 7/10\n"
     ]
    },
    {
     "name": "stderr",
     "output_type": "stream",
     "text": [
      "c:\\Users\\rezab\\anaconda3\\Lib\\site-packages\\sklearn\\utils\\validation.py:2732: UserWarning: X has feature names, but StandardScaler was fitted without feature names\n",
      "  warnings.warn(\n"
     ]
    },
    {
     "name": "stdout",
     "output_type": "stream",
     "text": [
      "\u001b[1m19/19\u001b[0m \u001b[32m━━━━━━━━━━━━━━━━━━━━\u001b[0m\u001b[37m\u001b[0m \u001b[1m0s\u001b[0m 3ms/step \n",
      "LR - MAPE: 0.0879, MAE: 1248.0255, RMSE: 1542.4370, R2: 0.4582\n",
      "DL - MAPE: 0.0447, MAE: 639.5035, RMSE: 846.2739, R2: 0.8369\n",
      "\n",
      "Repeat 8/10\n"
     ]
    },
    {
     "name": "stderr",
     "output_type": "stream",
     "text": [
      "c:\\Users\\rezab\\anaconda3\\Lib\\site-packages\\sklearn\\utils\\validation.py:2732: UserWarning: X has feature names, but StandardScaler was fitted without feature names\n",
      "  warnings.warn(\n"
     ]
    },
    {
     "name": "stdout",
     "output_type": "stream",
     "text": [
      "\u001b[1m19/19\u001b[0m \u001b[32m━━━━━━━━━━━━━━━━━━━━\u001b[0m\u001b[37m\u001b[0m \u001b[1m0s\u001b[0m 3ms/step \n",
      "LR - MAPE: 0.0955, MAE: 1338.8154, RMSE: 1630.0167, R2: 0.3825\n",
      "DL - MAPE: 0.0522, MAE: 742.8586, RMSE: 968.0401, R2: 0.7822\n",
      "\n",
      "Repeat 9/10\n"
     ]
    },
    {
     "name": "stderr",
     "output_type": "stream",
     "text": [
      "c:\\Users\\rezab\\anaconda3\\Lib\\site-packages\\sklearn\\utils\\validation.py:2732: UserWarning: X has feature names, but StandardScaler was fitted without feature names\n",
      "  warnings.warn(\n"
     ]
    },
    {
     "name": "stdout",
     "output_type": "stream",
     "text": [
      "\u001b[1m19/19\u001b[0m \u001b[32m━━━━━━━━━━━━━━━━━━━━\u001b[0m\u001b[37m\u001b[0m \u001b[1m0s\u001b[0m 3ms/step \n",
      "LR - MAPE: 0.0904, MAE: 1248.2744, RMSE: 1529.8311, R2: 0.4425\n",
      "DL - MAPE: 0.0594, MAE: 838.3509, RMSE: 1079.9334, R2: 0.7222\n",
      "\n",
      "Repeat 10/10\n"
     ]
    },
    {
     "name": "stderr",
     "output_type": "stream",
     "text": [
      "c:\\Users\\rezab\\anaconda3\\Lib\\site-packages\\sklearn\\utils\\validation.py:2732: UserWarning: X has feature names, but StandardScaler was fitted without feature names\n",
      "  warnings.warn(\n"
     ]
    },
    {
     "name": "stdout",
     "output_type": "stream",
     "text": [
      "\u001b[1m19/19\u001b[0m \u001b[32m━━━━━━━━━━━━━━━━━━━━\u001b[0m\u001b[37m\u001b[0m \u001b[1m0s\u001b[0m 3ms/step\n",
      "LR - MAPE: 0.0926, MAE: 1270.6222, RMSE: 1520.3610, R2: 0.4020\n",
      "DL - MAPE: 0.0497, MAE: 696.4434, RMSE: 885.8452, R2: 0.7970\n",
      "\n",
      "> System: h2, Dataset: ycsb-600.csv\n",
      "> Training data fraction: 0.7, Number of repeats: 10\n",
      "\n",
      "Repeat 1/10\n"
     ]
    },
    {
     "name": "stderr",
     "output_type": "stream",
     "text": [
      "c:\\Users\\rezab\\anaconda3\\Lib\\site-packages\\sklearn\\utils\\validation.py:2732: UserWarning: X has feature names, but StandardScaler was fitted without feature names\n",
      "  warnings.warn(\n"
     ]
    },
    {
     "name": "stdout",
     "output_type": "stream",
     "text": [
      "\u001b[1m19/19\u001b[0m \u001b[32m━━━━━━━━━━━━━━━━━━━━\u001b[0m\u001b[37m\u001b[0m \u001b[1m0s\u001b[0m 3ms/step \n",
      "LR - MAPE: 0.0851, MAE: 1707.4092, RMSE: 2133.0832, R2: 0.5635\n",
      "DL - MAPE: 0.0577, MAE: 1183.4601, RMSE: 1512.7863, R2: 0.7805\n",
      "\n",
      "Repeat 2/10\n"
     ]
    },
    {
     "name": "stderr",
     "output_type": "stream",
     "text": [
      "c:\\Users\\rezab\\anaconda3\\Lib\\site-packages\\sklearn\\utils\\validation.py:2732: UserWarning: X has feature names, but StandardScaler was fitted without feature names\n",
      "  warnings.warn(\n"
     ]
    },
    {
     "name": "stdout",
     "output_type": "stream",
     "text": [
      "\u001b[1m19/19\u001b[0m \u001b[32m━━━━━━━━━━━━━━━━━━━━\u001b[0m\u001b[37m\u001b[0m \u001b[1m0s\u001b[0m 3ms/step \n",
      "LR - MAPE: 0.0821, MAE: 1688.1083, RMSE: 2116.3567, R2: 0.5297\n",
      "DL - MAPE: 0.0485, MAE: 1001.8822, RMSE: 1282.6324, R2: 0.8273\n",
      "\n",
      "Repeat 3/10\n"
     ]
    },
    {
     "name": "stderr",
     "output_type": "stream",
     "text": [
      "c:\\Users\\rezab\\anaconda3\\Lib\\site-packages\\sklearn\\utils\\validation.py:2732: UserWarning: X has feature names, but StandardScaler was fitted without feature names\n",
      "  warnings.warn(\n"
     ]
    },
    {
     "name": "stdout",
     "output_type": "stream",
     "text": [
      "\u001b[1m19/19\u001b[0m \u001b[32m━━━━━━━━━━━━━━━━━━━━\u001b[0m\u001b[37m\u001b[0m \u001b[1m0s\u001b[0m 3ms/step \n",
      "LR - MAPE: 0.0865, MAE: 1751.6520, RMSE: 2162.9036, R2: 0.5746\n",
      "DL - MAPE: 0.0532, MAE: 1108.6730, RMSE: 1431.9546, R2: 0.8136\n",
      "\n",
      "Repeat 4/10\n"
     ]
    },
    {
     "name": "stderr",
     "output_type": "stream",
     "text": [
      "c:\\Users\\rezab\\anaconda3\\Lib\\site-packages\\sklearn\\utils\\validation.py:2732: UserWarning: X has feature names, but StandardScaler was fitted without feature names\n",
      "  warnings.warn(\n"
     ]
    },
    {
     "name": "stdout",
     "output_type": "stream",
     "text": [
      "\u001b[1m19/19\u001b[0m \u001b[32m━━━━━━━━━━━━━━━━━━━━\u001b[0m\u001b[37m\u001b[0m \u001b[1m0s\u001b[0m 3ms/step \n",
      "LR - MAPE: 0.0855, MAE: 1689.5460, RMSE: 2051.9399, R2: 0.5821\n",
      "DL - MAPE: 0.0502, MAE: 1022.1546, RMSE: 1299.9790, R2: 0.8323\n",
      "\n",
      "Repeat 5/10\n"
     ]
    },
    {
     "name": "stderr",
     "output_type": "stream",
     "text": [
      "c:\\Users\\rezab\\anaconda3\\Lib\\site-packages\\sklearn\\utils\\validation.py:2732: UserWarning: X has feature names, but StandardScaler was fitted without feature names\n",
      "  warnings.warn(\n"
     ]
    },
    {
     "name": "stdout",
     "output_type": "stream",
     "text": [
      "\u001b[1m19/19\u001b[0m \u001b[32m━━━━━━━━━━━━━━━━━━━━\u001b[0m\u001b[37m\u001b[0m \u001b[1m0s\u001b[0m 3ms/step \n",
      "LR - MAPE: 0.0850, MAE: 1720.7093, RMSE: 2117.4411, R2: 0.5836\n",
      "DL - MAPE: 0.0581, MAE: 1209.1542, RMSE: 1527.1302, R2: 0.7834\n",
      "\n",
      "Repeat 6/10\n"
     ]
    },
    {
     "name": "stderr",
     "output_type": "stream",
     "text": [
      "c:\\Users\\rezab\\anaconda3\\Lib\\site-packages\\sklearn\\utils\\validation.py:2732: UserWarning: X has feature names, but StandardScaler was fitted without feature names\n",
      "  warnings.warn(\n"
     ]
    },
    {
     "name": "stdout",
     "output_type": "stream",
     "text": [
      "\u001b[1m19/19\u001b[0m \u001b[32m━━━━━━━━━━━━━━━━━━━━\u001b[0m\u001b[37m\u001b[0m \u001b[1m0s\u001b[0m 3ms/step \n",
      "LR - MAPE: 0.0786, MAE: 1614.6207, RMSE: 1988.6713, R2: 0.5824\n",
      "DL - MAPE: 0.0494, MAE: 1028.2839, RMSE: 1335.9139, R2: 0.8116\n",
      "\n",
      "Repeat 7/10\n"
     ]
    },
    {
     "name": "stderr",
     "output_type": "stream",
     "text": [
      "c:\\Users\\rezab\\anaconda3\\Lib\\site-packages\\sklearn\\utils\\validation.py:2732: UserWarning: X has feature names, but StandardScaler was fitted without feature names\n",
      "  warnings.warn(\n"
     ]
    },
    {
     "name": "stdout",
     "output_type": "stream",
     "text": [
      "\u001b[1m19/19\u001b[0m \u001b[32m━━━━━━━━━━━━━━━━━━━━\u001b[0m\u001b[37m\u001b[0m \u001b[1m0s\u001b[0m 3ms/step \n",
      "LR - MAPE: 0.0825, MAE: 1693.5173, RMSE: 2092.2409, R2: 0.5794\n",
      "DL - MAPE: 0.0512, MAE: 1097.6512, RMSE: 1456.9205, R2: 0.7960\n",
      "\n",
      "Repeat 8/10\n"
     ]
    },
    {
     "name": "stderr",
     "output_type": "stream",
     "text": [
      "c:\\Users\\rezab\\anaconda3\\Lib\\site-packages\\sklearn\\utils\\validation.py:2732: UserWarning: X has feature names, but StandardScaler was fitted without feature names\n",
      "  warnings.warn(\n"
     ]
    },
    {
     "name": "stdout",
     "output_type": "stream",
     "text": [
      "\u001b[1m19/19\u001b[0m \u001b[32m━━━━━━━━━━━━━━━━━━━━\u001b[0m\u001b[37m\u001b[0m \u001b[1m0s\u001b[0m 3ms/step \n",
      "LR - MAPE: 0.0875, MAE: 1748.1119, RMSE: 2140.8746, R2: 0.5194\n",
      "DL - MAPE: 0.0518, MAE: 1055.6158, RMSE: 1343.8653, R2: 0.8106\n",
      "\n",
      "Repeat 9/10\n"
     ]
    },
    {
     "name": "stderr",
     "output_type": "stream",
     "text": [
      "c:\\Users\\rezab\\anaconda3\\Lib\\site-packages\\sklearn\\utils\\validation.py:2732: UserWarning: X has feature names, but StandardScaler was fitted without feature names\n",
      "  warnings.warn(\n"
     ]
    },
    {
     "name": "stdout",
     "output_type": "stream",
     "text": [
      "\u001b[1m19/19\u001b[0m \u001b[32m━━━━━━━━━━━━━━━━━━━━\u001b[0m\u001b[37m\u001b[0m \u001b[1m0s\u001b[0m 3ms/step \n",
      "LR - MAPE: 0.0844, MAE: 1655.8497, RMSE: 2027.5839, R2: 0.5951\n",
      "DL - MAPE: 0.0463, MAE: 937.7064, RMSE: 1214.2968, R2: 0.8548\n",
      "\n",
      "Repeat 10/10\n"
     ]
    },
    {
     "name": "stderr",
     "output_type": "stream",
     "text": [
      "c:\\Users\\rezab\\anaconda3\\Lib\\site-packages\\sklearn\\utils\\validation.py:2732: UserWarning: X has feature names, but StandardScaler was fitted without feature names\n",
      "  warnings.warn(\n"
     ]
    },
    {
     "name": "stdout",
     "output_type": "stream",
     "text": [
      "\u001b[1m19/19\u001b[0m \u001b[32m━━━━━━━━━━━━━━━━━━━━\u001b[0m\u001b[37m\u001b[0m \u001b[1m0s\u001b[0m 3ms/step \n",
      "LR - MAPE: 0.0828, MAE: 1640.5936, RMSE: 1991.3163, R2: 0.6026\n",
      "DL - MAPE: 0.0523, MAE: 1042.9798, RMSE: 1293.8511, R2: 0.8322\n",
      "\n",
      "==================================================\n",
      "Processing system: jump3r\n",
      "==================================================\n",
      "\n",
      "> System: jump3r, Dataset: beethoven.wav.csv\n",
      "> Training data fraction: 0.7, Number of repeats: 10\n",
      "\n",
      "Repeat 1/10\n"
     ]
    },
    {
     "name": "stderr",
     "output_type": "stream",
     "text": [
      "c:\\Users\\rezab\\anaconda3\\Lib\\site-packages\\sklearn\\utils\\validation.py:2732: UserWarning: X has feature names, but StandardScaler was fitted without feature names\n",
      "  warnings.warn(\n"
     ]
    },
    {
     "name": "stdout",
     "output_type": "stream",
     "text": [
      "\u001b[1m40/40\u001b[0m \u001b[32m━━━━━━━━━━━━━━━━━━━━\u001b[0m\u001b[37m\u001b[0m \u001b[1m0s\u001b[0m 2ms/step\n",
      "LR - MAPE: 0.2658, MAE: 2.2512, RMSE: 2.8867, R2: 0.7528\n",
      "DL - MAPE: 0.1756, MAE: 1.6745, RMSE: 2.4113, R2: 0.8275\n",
      "\n",
      "Repeat 2/10\n"
     ]
    },
    {
     "name": "stderr",
     "output_type": "stream",
     "text": [
      "c:\\Users\\rezab\\anaconda3\\Lib\\site-packages\\sklearn\\utils\\validation.py:2732: UserWarning: X has feature names, but StandardScaler was fitted without feature names\n",
      "  warnings.warn(\n"
     ]
    },
    {
     "name": "stdout",
     "output_type": "stream",
     "text": [
      "\u001b[1m40/40\u001b[0m \u001b[32m━━━━━━━━━━━━━━━━━━━━\u001b[0m\u001b[37m\u001b[0m \u001b[1m0s\u001b[0m 2ms/step\n",
      "LR - MAPE: 0.2413, MAE: 2.1780, RMSE: 2.8272, R2: 0.7475\n",
      "DL - MAPE: 0.1649, MAE: 1.6158, RMSE: 2.3047, R2: 0.8322\n",
      "\n",
      "Repeat 3/10\n"
     ]
    },
    {
     "name": "stderr",
     "output_type": "stream",
     "text": [
      "c:\\Users\\rezab\\anaconda3\\Lib\\site-packages\\sklearn\\utils\\validation.py:2732: UserWarning: X has feature names, but StandardScaler was fitted without feature names\n",
      "  warnings.warn(\n"
     ]
    },
    {
     "name": "stdout",
     "output_type": "stream",
     "text": [
      "\u001b[1m40/40\u001b[0m \u001b[32m━━━━━━━━━━━━━━━━━━━━\u001b[0m\u001b[37m\u001b[0m \u001b[1m0s\u001b[0m 2ms/step\n",
      "LR - MAPE: 0.2531, MAE: 2.2600, RMSE: 2.9177, R2: 0.7425\n",
      "DL - MAPE: 0.1799, MAE: 1.7436, RMSE: 2.4593, R2: 0.8171\n",
      "\n",
      "Repeat 4/10\n"
     ]
    },
    {
     "name": "stderr",
     "output_type": "stream",
     "text": [
      "c:\\Users\\rezab\\anaconda3\\Lib\\site-packages\\sklearn\\utils\\validation.py:2732: UserWarning: X has feature names, but StandardScaler was fitted without feature names\n",
      "  warnings.warn(\n"
     ]
    },
    {
     "name": "stdout",
     "output_type": "stream",
     "text": [
      "\u001b[1m40/40\u001b[0m \u001b[32m━━━━━━━━━━━━━━━━━━━━\u001b[0m\u001b[37m\u001b[0m \u001b[1m0s\u001b[0m 2ms/step\n",
      "LR - MAPE: 0.2549, MAE: 2.2719, RMSE: 2.8827, R2: 0.7484\n",
      "DL - MAPE: 0.1777, MAE: 1.7507, RMSE: 2.4559, R2: 0.8174\n",
      "\n",
      "Repeat 5/10\n"
     ]
    },
    {
     "name": "stderr",
     "output_type": "stream",
     "text": [
      "c:\\Users\\rezab\\anaconda3\\Lib\\site-packages\\sklearn\\utils\\validation.py:2732: UserWarning: X has feature names, but StandardScaler was fitted without feature names\n",
      "  warnings.warn(\n"
     ]
    },
    {
     "name": "stdout",
     "output_type": "stream",
     "text": [
      "\u001b[1m40/40\u001b[0m \u001b[32m━━━━━━━━━━━━━━━━━━━━\u001b[0m\u001b[37m\u001b[0m \u001b[1m0s\u001b[0m 2ms/step\n",
      "LR - MAPE: 0.2636, MAE: 2.2594, RMSE: 2.9066, R2: 0.7314\n",
      "DL - MAPE: 0.1701, MAE: 1.6617, RMSE: 2.3737, R2: 0.8209\n",
      "\n",
      "Repeat 6/10\n"
     ]
    },
    {
     "name": "stderr",
     "output_type": "stream",
     "text": [
      "c:\\Users\\rezab\\anaconda3\\Lib\\site-packages\\sklearn\\utils\\validation.py:2732: UserWarning: X has feature names, but StandardScaler was fitted without feature names\n",
      "  warnings.warn(\n"
     ]
    },
    {
     "name": "stdout",
     "output_type": "stream",
     "text": [
      "\u001b[1m40/40\u001b[0m \u001b[32m━━━━━━━━━━━━━━━━━━━━\u001b[0m\u001b[37m\u001b[0m \u001b[1m0s\u001b[0m 2ms/step\n",
      "LR - MAPE: 0.2505, MAE: 2.2414, RMSE: 2.8949, R2: 0.7355\n",
      "DL - MAPE: 0.1739, MAE: 1.7358, RMSE: 2.4290, R2: 0.8138\n",
      "\n",
      "Repeat 7/10\n"
     ]
    },
    {
     "name": "stderr",
     "output_type": "stream",
     "text": [
      "c:\\Users\\rezab\\anaconda3\\Lib\\site-packages\\sklearn\\utils\\validation.py:2732: UserWarning: X has feature names, but StandardScaler was fitted without feature names\n",
      "  warnings.warn(\n"
     ]
    },
    {
     "name": "stdout",
     "output_type": "stream",
     "text": [
      "\u001b[1m40/40\u001b[0m \u001b[32m━━━━━━━━━━━━━━━━━━━━\u001b[0m\u001b[37m\u001b[0m \u001b[1m0s\u001b[0m 2ms/step\n",
      "LR - MAPE: 0.2540, MAE: 2.3041, RMSE: 2.9282, R2: 0.7375\n",
      "DL - MAPE: 0.1749, MAE: 1.7775, RMSE: 2.5086, R2: 0.8073\n",
      "\n",
      "Repeat 8/10\n"
     ]
    },
    {
     "name": "stderr",
     "output_type": "stream",
     "text": [
      "c:\\Users\\rezab\\anaconda3\\Lib\\site-packages\\sklearn\\utils\\validation.py:2732: UserWarning: X has feature names, but StandardScaler was fitted without feature names\n",
      "  warnings.warn(\n"
     ]
    },
    {
     "name": "stdout",
     "output_type": "stream",
     "text": [
      "\u001b[1m40/40\u001b[0m \u001b[32m━━━━━━━━━━━━━━━━━━━━\u001b[0m\u001b[37m\u001b[0m \u001b[1m0s\u001b[0m 2ms/step\n",
      "LR - MAPE: 0.2592, MAE: 2.2884, RMSE: 2.9304, R2: 0.7379\n",
      "DL - MAPE: 0.1962, MAE: 1.9334, RMSE: 2.7235, R2: 0.7736\n",
      "\n",
      "Repeat 9/10\n"
     ]
    },
    {
     "name": "stderr",
     "output_type": "stream",
     "text": [
      "c:\\Users\\rezab\\anaconda3\\Lib\\site-packages\\sklearn\\utils\\validation.py:2732: UserWarning: X has feature names, but StandardScaler was fitted without feature names\n",
      "  warnings.warn(\n"
     ]
    },
    {
     "name": "stdout",
     "output_type": "stream",
     "text": [
      "\u001b[1m40/40\u001b[0m \u001b[32m━━━━━━━━━━━━━━━━━━━━\u001b[0m\u001b[37m\u001b[0m \u001b[1m0s\u001b[0m 2ms/step\n",
      "LR - MAPE: 0.2536, MAE: 2.1828, RMSE: 2.8286, R2: 0.7498\n",
      "DL - MAPE: 0.1665, MAE: 1.6026, RMSE: 2.3221, R2: 0.8314\n",
      "\n",
      "Repeat 10/10\n"
     ]
    },
    {
     "name": "stderr",
     "output_type": "stream",
     "text": [
      "c:\\Users\\rezab\\anaconda3\\Lib\\site-packages\\sklearn\\utils\\validation.py:2732: UserWarning: X has feature names, but StandardScaler was fitted without feature names\n",
      "  warnings.warn(\n"
     ]
    },
    {
     "name": "stdout",
     "output_type": "stream",
     "text": [
      "\u001b[1m40/40\u001b[0m \u001b[32m━━━━━━━━━━━━━━━━━━━━\u001b[0m\u001b[37m\u001b[0m \u001b[1m0s\u001b[0m 2ms/step\n",
      "LR - MAPE: 0.2619, MAE: 2.2327, RMSE: 2.8709, R2: 0.7575\n",
      "DL - MAPE: 0.1657, MAE: 1.6378, RMSE: 2.3794, R2: 0.8334\n",
      "\n",
      "> System: jump3r, Dataset: dual-channel.wav.csv\n",
      "> Training data fraction: 0.7, Number of repeats: 10\n",
      "\n",
      "Repeat 1/10\n"
     ]
    },
    {
     "name": "stderr",
     "output_type": "stream",
     "text": [
      "c:\\Users\\rezab\\anaconda3\\Lib\\site-packages\\sklearn\\utils\\validation.py:2732: UserWarning: X has feature names, but StandardScaler was fitted without feature names\n",
      "  warnings.warn(\n"
     ]
    },
    {
     "name": "stdout",
     "output_type": "stream",
     "text": [
      "\u001b[1m40/40\u001b[0m \u001b[32m━━━━━━━━━━━━━━━━━━━━\u001b[0m\u001b[37m\u001b[0m \u001b[1m0s\u001b[0m 2ms/step\n",
      "LR - MAPE: 0.2269, MAE: 0.6015, RMSE: 0.8471, R2: 0.7446\n",
      "DL - MAPE: 0.1708, MAE: 0.5130, RMSE: 0.7499, R2: 0.7999\n",
      "\n",
      "Repeat 2/10\n"
     ]
    },
    {
     "name": "stderr",
     "output_type": "stream",
     "text": [
      "c:\\Users\\rezab\\anaconda3\\Lib\\site-packages\\sklearn\\utils\\validation.py:2732: UserWarning: X has feature names, but StandardScaler was fitted without feature names\n",
      "  warnings.warn(\n"
     ]
    },
    {
     "name": "stdout",
     "output_type": "stream",
     "text": [
      "\u001b[1m40/40\u001b[0m \u001b[32m━━━━━━━━━━━━━━━━━━━━\u001b[0m\u001b[37m\u001b[0m \u001b[1m0s\u001b[0m 2ms/step\n",
      "LR - MAPE: 0.2234, MAE: 0.6086, RMSE: 0.8502, R2: 0.7304\n",
      "DL - MAPE: 0.1707, MAE: 0.5032, RMSE: 0.7209, R2: 0.8062\n",
      "\n",
      "Repeat 3/10\n"
     ]
    },
    {
     "name": "stderr",
     "output_type": "stream",
     "text": [
      "c:\\Users\\rezab\\anaconda3\\Lib\\site-packages\\sklearn\\utils\\validation.py:2732: UserWarning: X has feature names, but StandardScaler was fitted without feature names\n",
      "  warnings.warn(\n"
     ]
    },
    {
     "name": "stdout",
     "output_type": "stream",
     "text": [
      "\u001b[1m40/40\u001b[0m \u001b[32m━━━━━━━━━━━━━━━━━━━━\u001b[0m\u001b[37m\u001b[0m \u001b[1m0s\u001b[0m 2ms/step\n",
      "LR - MAPE: 0.2362, MAE: 0.6312, RMSE: 0.8731, R2: 0.7183\n",
      "DL - MAPE: 0.1729, MAE: 0.4912, RMSE: 0.6846, R2: 0.8268\n",
      "\n",
      "Repeat 4/10\n"
     ]
    },
    {
     "name": "stderr",
     "output_type": "stream",
     "text": [
      "c:\\Users\\rezab\\anaconda3\\Lib\\site-packages\\sklearn\\utils\\validation.py:2732: UserWarning: X has feature names, but StandardScaler was fitted without feature names\n",
      "  warnings.warn(\n"
     ]
    },
    {
     "name": "stdout",
     "output_type": "stream",
     "text": [
      "\u001b[1m40/40\u001b[0m \u001b[32m━━━━━━━━━━━━━━━━━━━━\u001b[0m\u001b[37m\u001b[0m \u001b[1m0s\u001b[0m 2ms/step\n",
      "LR - MAPE: 0.2423, MAE: 0.6383, RMSE: 0.8747, R2: 0.7137\n",
      "DL - MAPE: 0.1817, MAE: 0.5248, RMSE: 0.7299, R2: 0.8006\n",
      "\n",
      "Repeat 5/10\n"
     ]
    },
    {
     "name": "stderr",
     "output_type": "stream",
     "text": [
      "c:\\Users\\rezab\\anaconda3\\Lib\\site-packages\\sklearn\\utils\\validation.py:2732: UserWarning: X has feature names, but StandardScaler was fitted without feature names\n",
      "  warnings.warn(\n"
     ]
    },
    {
     "name": "stdout",
     "output_type": "stream",
     "text": [
      "\u001b[1m40/40\u001b[0m \u001b[32m━━━━━━━━━━━━━━━━━━━━\u001b[0m\u001b[37m\u001b[0m \u001b[1m0s\u001b[0m 2ms/step\n",
      "LR - MAPE: 0.2346, MAE: 0.5991, RMSE: 0.8142, R2: 0.7284\n",
      "DL - MAPE: 0.1716, MAE: 0.4763, RMSE: 0.6758, R2: 0.8129\n",
      "\n",
      "Repeat 6/10\n"
     ]
    },
    {
     "name": "stderr",
     "output_type": "stream",
     "text": [
      "c:\\Users\\rezab\\anaconda3\\Lib\\site-packages\\sklearn\\utils\\validation.py:2732: UserWarning: X has feature names, but StandardScaler was fitted without feature names\n",
      "  warnings.warn(\n"
     ]
    },
    {
     "name": "stdout",
     "output_type": "stream",
     "text": [
      "\u001b[1m40/40\u001b[0m \u001b[32m━━━━━━━━━━━━━━━━━━━━\u001b[0m\u001b[37m\u001b[0m \u001b[1m0s\u001b[0m 2ms/step\n",
      "LR - MAPE: 0.2301, MAE: 0.6133, RMSE: 0.8492, R2: 0.7265\n",
      "DL - MAPE: 0.1795, MAE: 0.5267, RMSE: 0.7420, R2: 0.7912\n",
      "\n",
      "Repeat 7/10\n"
     ]
    },
    {
     "name": "stderr",
     "output_type": "stream",
     "text": [
      "c:\\Users\\rezab\\anaconda3\\Lib\\site-packages\\sklearn\\utils\\validation.py:2732: UserWarning: X has feature names, but StandardScaler was fitted without feature names\n",
      "  warnings.warn(\n"
     ]
    },
    {
     "name": "stdout",
     "output_type": "stream",
     "text": [
      "\u001b[1m40/40\u001b[0m \u001b[32m━━━━━━━━━━━━━━━━━━━━\u001b[0m\u001b[37m\u001b[0m \u001b[1m0s\u001b[0m 2ms/step\n",
      "LR - MAPE: 0.2360, MAE: 0.6354, RMSE: 0.8848, R2: 0.7218\n",
      "DL - MAPE: 0.1682, MAE: 0.4869, RMSE: 0.6964, R2: 0.8277\n",
      "\n",
      "Repeat 8/10\n"
     ]
    },
    {
     "name": "stderr",
     "output_type": "stream",
     "text": [
      "c:\\Users\\rezab\\anaconda3\\Lib\\site-packages\\sklearn\\utils\\validation.py:2732: UserWarning: X has feature names, but StandardScaler was fitted without feature names\n",
      "  warnings.warn(\n"
     ]
    },
    {
     "name": "stdout",
     "output_type": "stream",
     "text": [
      "\u001b[1m40/40\u001b[0m \u001b[32m━━━━━━━━━━━━━━━━━━━━\u001b[0m\u001b[37m\u001b[0m \u001b[1m0s\u001b[0m 2ms/step\n",
      "LR - MAPE: 0.2320, MAE: 0.6113, RMSE: 0.8469, R2: 0.7287\n",
      "DL - MAPE: 0.1688, MAE: 0.4829, RMSE: 0.6945, R2: 0.8175\n",
      "\n",
      "Repeat 9/10\n"
     ]
    },
    {
     "name": "stderr",
     "output_type": "stream",
     "text": [
      "c:\\Users\\rezab\\anaconda3\\Lib\\site-packages\\sklearn\\utils\\validation.py:2732: UserWarning: X has feature names, but StandardScaler was fitted without feature names\n",
      "  warnings.warn(\n"
     ]
    },
    {
     "name": "stdout",
     "output_type": "stream",
     "text": [
      "\u001b[1m40/40\u001b[0m \u001b[32m━━━━━━━━━━━━━━━━━━━━\u001b[0m\u001b[37m\u001b[0m \u001b[1m0s\u001b[0m 2ms/step\n",
      "LR - MAPE: 0.2227, MAE: 0.5886, RMSE: 0.8134, R2: 0.7476\n",
      "DL - MAPE: 0.1621, MAE: 0.4664, RMSE: 0.6713, R2: 0.8281\n",
      "\n",
      "Repeat 10/10\n"
     ]
    },
    {
     "name": "stderr",
     "output_type": "stream",
     "text": [
      "c:\\Users\\rezab\\anaconda3\\Lib\\site-packages\\sklearn\\utils\\validation.py:2732: UserWarning: X has feature names, but StandardScaler was fitted without feature names\n",
      "  warnings.warn(\n"
     ]
    },
    {
     "name": "stdout",
     "output_type": "stream",
     "text": [
      "\u001b[1m40/40\u001b[0m \u001b[32m━━━━━━━━━━━━━━━━━━━━\u001b[0m\u001b[37m\u001b[0m \u001b[1m0s\u001b[0m 2ms/step\n",
      "LR - MAPE: 0.2391, MAE: 0.6285, RMSE: 0.8661, R2: 0.7401\n",
      "DL - MAPE: 0.1741, MAE: 0.4996, RMSE: 0.7188, R2: 0.8210\n",
      "\n",
      "> System: jump3r, Dataset: helix.wav.csv\n",
      "> Training data fraction: 0.7, Number of repeats: 10\n",
      "\n",
      "Repeat 1/10\n"
     ]
    },
    {
     "name": "stderr",
     "output_type": "stream",
     "text": [
      "c:\\Users\\rezab\\anaconda3\\Lib\\site-packages\\sklearn\\utils\\validation.py:2732: UserWarning: X has feature names, but StandardScaler was fitted without feature names\n",
      "  warnings.warn(\n"
     ]
    },
    {
     "name": "stdout",
     "output_type": "stream",
     "text": [
      "\u001b[1m40/40\u001b[0m \u001b[32m━━━━━━━━━━━━━━━━━━━━\u001b[0m\u001b[37m\u001b[0m \u001b[1m0s\u001b[0m 2ms/step\n",
      "LR - MAPE: 0.2474, MAE: 1.0577, RMSE: 1.4625, R2: 0.7657\n",
      "DL - MAPE: 0.1820, MAE: 0.8723, RMSE: 1.2749, R2: 0.8220\n",
      "\n",
      "Repeat 2/10\n"
     ]
    },
    {
     "name": "stderr",
     "output_type": "stream",
     "text": [
      "c:\\Users\\rezab\\anaconda3\\Lib\\site-packages\\sklearn\\utils\\validation.py:2732: UserWarning: X has feature names, but StandardScaler was fitted without feature names\n",
      "  warnings.warn(\n"
     ]
    },
    {
     "name": "stdout",
     "output_type": "stream",
     "text": [
      "\u001b[1m40/40\u001b[0m \u001b[32m━━━━━━━━━━━━━━━━━━━━\u001b[0m\u001b[37m\u001b[0m \u001b[1m0s\u001b[0m 2ms/step\n",
      "LR - MAPE: 0.2408, MAE: 1.0768, RMSE: 1.4690, R2: 0.7549\n",
      "DL - MAPE: 0.1653, MAE: 0.8711, RMSE: 1.2690, R2: 0.8171\n",
      "\n",
      "Repeat 3/10\n"
     ]
    },
    {
     "name": "stderr",
     "output_type": "stream",
     "text": [
      "c:\\Users\\rezab\\anaconda3\\Lib\\site-packages\\sklearn\\utils\\validation.py:2732: UserWarning: X has feature names, but StandardScaler was fitted without feature names\n",
      "  warnings.warn(\n"
     ]
    },
    {
     "name": "stdout",
     "output_type": "stream",
     "text": [
      "\u001b[1m40/40\u001b[0m \u001b[32m━━━━━━━━━━━━━━━━━━━━\u001b[0m\u001b[37m\u001b[0m \u001b[1m0s\u001b[0m 2ms/step\n",
      "LR - MAPE: 0.2530, MAE: 1.1207, RMSE: 1.5325, R2: 0.7384\n",
      "DL - MAPE: 0.1809, MAE: 0.8946, RMSE: 1.2981, R2: 0.8123\n",
      "\n",
      "Repeat 4/10\n"
     ]
    },
    {
     "name": "stderr",
     "output_type": "stream",
     "text": [
      "c:\\Users\\rezab\\anaconda3\\Lib\\site-packages\\sklearn\\utils\\validation.py:2732: UserWarning: X has feature names, but StandardScaler was fitted without feature names\n",
      "  warnings.warn(\n"
     ]
    },
    {
     "name": "stdout",
     "output_type": "stream",
     "text": [
      "\u001b[1m40/40\u001b[0m \u001b[32m━━━━━━━━━━━━━━━━━━━━\u001b[0m\u001b[37m\u001b[0m \u001b[1m0s\u001b[0m 2ms/step\n",
      "LR - MAPE: 0.2636, MAE: 1.1387, RMSE: 1.5520, R2: 0.7319\n",
      "DL - MAPE: 0.1915, MAE: 0.9328, RMSE: 1.3201, R2: 0.8060\n",
      "\n",
      "Repeat 5/10\n"
     ]
    },
    {
     "name": "stderr",
     "output_type": "stream",
     "text": [
      "c:\\Users\\rezab\\anaconda3\\Lib\\site-packages\\sklearn\\utils\\validation.py:2732: UserWarning: X has feature names, but StandardScaler was fitted without feature names\n",
      "  warnings.warn(\n"
     ]
    },
    {
     "name": "stdout",
     "output_type": "stream",
     "text": [
      "\u001b[1m40/40\u001b[0m \u001b[32m━━━━━━━━━━━━━━━━━━━━\u001b[0m\u001b[37m\u001b[0m \u001b[1m0s\u001b[0m 2ms/step\n",
      "LR - MAPE: 0.2558, MAE: 1.0934, RMSE: 1.4708, R2: 0.7435\n",
      "DL - MAPE: 0.1799, MAE: 0.8987, RMSE: 1.2890, R2: 0.8030\n",
      "\n",
      "Repeat 6/10\n"
     ]
    },
    {
     "name": "stderr",
     "output_type": "stream",
     "text": [
      "c:\\Users\\rezab\\anaconda3\\Lib\\site-packages\\sklearn\\utils\\validation.py:2732: UserWarning: X has feature names, but StandardScaler was fitted without feature names\n",
      "  warnings.warn(\n"
     ]
    },
    {
     "name": "stdout",
     "output_type": "stream",
     "text": [
      "\u001b[1m40/40\u001b[0m \u001b[32m━━━━━━━━━━━━━━━━━━━━\u001b[0m\u001b[37m\u001b[0m \u001b[1m0s\u001b[0m 2ms/step\n",
      "LR - MAPE: 0.2510, MAE: 1.1133, RMSE: 1.7062, R2: 0.6906\n",
      "DL - MAPE: 0.1770, MAE: 0.9185, RMSE: 1.5770, R2: 0.7357\n",
      "\n",
      "Repeat 7/10\n"
     ]
    },
    {
     "name": "stderr",
     "output_type": "stream",
     "text": [
      "c:\\Users\\rezab\\anaconda3\\Lib\\site-packages\\sklearn\\utils\\validation.py:2732: UserWarning: X has feature names, but StandardScaler was fitted without feature names\n",
      "  warnings.warn(\n"
     ]
    },
    {
     "name": "stdout",
     "output_type": "stream",
     "text": [
      "\u001b[1m40/40\u001b[0m \u001b[32m━━━━━━━━━━━━━━━━━━━━\u001b[0m\u001b[37m\u001b[0m \u001b[1m0s\u001b[0m 2ms/step\n",
      "LR - MAPE: 0.2566, MAE: 1.1356, RMSE: 1.6568, R2: 0.7166\n",
      "DL - MAPE: 0.1871, MAE: 0.9417, RMSE: 1.4642, R2: 0.7787\n",
      "\n",
      "Repeat 8/10\n"
     ]
    },
    {
     "name": "stderr",
     "output_type": "stream",
     "text": [
      "c:\\Users\\rezab\\anaconda3\\Lib\\site-packages\\sklearn\\utils\\validation.py:2732: UserWarning: X has feature names, but StandardScaler was fitted without feature names\n",
      "  warnings.warn(\n"
     ]
    },
    {
     "name": "stdout",
     "output_type": "stream",
     "text": [
      "\u001b[1m40/40\u001b[0m \u001b[32m━━━━━━━━━━━━━━━━━━━━\u001b[0m\u001b[37m\u001b[0m \u001b[1m0s\u001b[0m 2ms/step\n",
      "LR - MAPE: 0.2516, MAE: 1.1157, RMSE: 1.7166, R2: 0.6951\n",
      "DL - MAPE: 0.1854, MAE: 0.9962, RMSE: 1.6457, R2: 0.7198\n",
      "\n",
      "Repeat 9/10\n"
     ]
    },
    {
     "name": "stderr",
     "output_type": "stream",
     "text": [
      "c:\\Users\\rezab\\anaconda3\\Lib\\site-packages\\sklearn\\utils\\validation.py:2732: UserWarning: X has feature names, but StandardScaler was fitted without feature names\n",
      "  warnings.warn(\n"
     ]
    },
    {
     "name": "stdout",
     "output_type": "stream",
     "text": [
      "\u001b[1m40/40\u001b[0m \u001b[32m━━━━━━━━━━━━━━━━━━━━\u001b[0m\u001b[37m\u001b[0m \u001b[1m0s\u001b[0m 2ms/step\n",
      "LR - MAPE: 0.2437, MAE: 1.0591, RMSE: 1.4350, R2: 0.7659\n",
      "DL - MAPE: 0.1739, MAE: 0.8959, RMSE: 1.2895, R2: 0.8110\n",
      "\n",
      "Repeat 10/10\n"
     ]
    },
    {
     "name": "stderr",
     "output_type": "stream",
     "text": [
      "c:\\Users\\rezab\\anaconda3\\Lib\\site-packages\\sklearn\\utils\\validation.py:2732: UserWarning: X has feature names, but StandardScaler was fitted without feature names\n",
      "  warnings.warn(\n"
     ]
    },
    {
     "name": "stdout",
     "output_type": "stream",
     "text": [
      "\u001b[1m40/40\u001b[0m \u001b[32m━━━━━━━━━━━━━━━━━━━━\u001b[0m\u001b[37m\u001b[0m \u001b[1m0s\u001b[0m 2ms/step\n",
      "LR - MAPE: 0.2619, MAE: 1.1485, RMSE: 1.7617, R2: 0.7057\n",
      "DL - MAPE: 0.1828, MAE: 0.9265, RMSE: 1.5874, R2: 0.7610\n",
      "\n",
      "> System: jump3r, Dataset: single-channel.wav.csv\n",
      "> Training data fraction: 0.7, Number of repeats: 10\n",
      "\n",
      "Repeat 1/10\n"
     ]
    },
    {
     "name": "stderr",
     "output_type": "stream",
     "text": [
      "c:\\Users\\rezab\\anaconda3\\Lib\\site-packages\\sklearn\\utils\\validation.py:2732: UserWarning: X has feature names, but StandardScaler was fitted without feature names\n",
      "  warnings.warn(\n"
     ]
    },
    {
     "name": "stdout",
     "output_type": "stream",
     "text": [
      "\u001b[1m40/40\u001b[0m \u001b[32m━━━━━━━━━━━━━━━━━━━━\u001b[0m\u001b[37m\u001b[0m \u001b[1m0s\u001b[0m 2ms/step\n",
      "LR - MAPE: 0.1907, MAE: 0.3235, RMSE: 0.4314, R2: 0.7636\n",
      "DL - MAPE: 0.1574, MAE: 0.2740, RMSE: 0.3763, R2: 0.8202\n",
      "\n",
      "Repeat 2/10\n"
     ]
    },
    {
     "name": "stderr",
     "output_type": "stream",
     "text": [
      "c:\\Users\\rezab\\anaconda3\\Lib\\site-packages\\sklearn\\utils\\validation.py:2732: UserWarning: X has feature names, but StandardScaler was fitted without feature names\n",
      "  warnings.warn(\n"
     ]
    },
    {
     "name": "stdout",
     "output_type": "stream",
     "text": [
      "\u001b[1m40/40\u001b[0m \u001b[32m━━━━━━━━━━━━━━━━━━━━\u001b[0m\u001b[37m\u001b[0m \u001b[1m0s\u001b[0m 2ms/step\n",
      "LR - MAPE: 0.1813, MAE: 0.3180, RMSE: 0.4211, R2: 0.7545\n",
      "DL - MAPE: 0.1529, MAE: 0.2654, RMSE: 0.3657, R2: 0.8149\n",
      "\n",
      "Repeat 3/10\n"
     ]
    },
    {
     "name": "stderr",
     "output_type": "stream",
     "text": [
      "c:\\Users\\rezab\\anaconda3\\Lib\\site-packages\\sklearn\\utils\\validation.py:2732: UserWarning: X has feature names, but StandardScaler was fitted without feature names\n",
      "  warnings.warn(\n"
     ]
    },
    {
     "name": "stdout",
     "output_type": "stream",
     "text": [
      "\u001b[1m40/40\u001b[0m \u001b[32m━━━━━━━━━━━━━━━━━━━━\u001b[0m\u001b[37m\u001b[0m \u001b[1m0s\u001b[0m 2ms/step\n",
      "LR - MAPE: 0.1941, MAE: 0.3330, RMSE: 0.4383, R2: 0.7403\n",
      "DL - MAPE: 0.1719, MAE: 0.2867, RMSE: 0.3842, R2: 0.8004\n",
      "\n",
      "Repeat 4/10\n"
     ]
    },
    {
     "name": "stderr",
     "output_type": "stream",
     "text": [
      "c:\\Users\\rezab\\anaconda3\\Lib\\site-packages\\sklearn\\utils\\validation.py:2732: UserWarning: X has feature names, but StandardScaler was fitted without feature names\n",
      "  warnings.warn(\n"
     ]
    },
    {
     "name": "stdout",
     "output_type": "stream",
     "text": [
      "\u001b[1m40/40\u001b[0m \u001b[32m━━━━━━━━━━━━━━━━━━━━\u001b[0m\u001b[37m\u001b[0m \u001b[1m0s\u001b[0m 2ms/step\n",
      "LR - MAPE: 0.1932, MAE: 0.3387, RMSE: 0.4476, R2: 0.7391\n",
      "DL - MAPE: 0.1640, MAE: 0.2961, RMSE: 0.3951, R2: 0.7967\n",
      "\n",
      "Repeat 5/10\n"
     ]
    },
    {
     "name": "stderr",
     "output_type": "stream",
     "text": [
      "c:\\Users\\rezab\\anaconda3\\Lib\\site-packages\\sklearn\\utils\\validation.py:2732: UserWarning: X has feature names, but StandardScaler was fitted without feature names\n",
      "  warnings.warn(\n"
     ]
    },
    {
     "name": "stdout",
     "output_type": "stream",
     "text": [
      "\u001b[1m40/40\u001b[0m \u001b[32m━━━━━━━━━━━━━━━━━━━━\u001b[0m\u001b[37m\u001b[0m \u001b[1m0s\u001b[0m 2ms/step\n",
      "LR - MAPE: 0.1938, MAE: 0.3263, RMSE: 0.4247, R2: 0.7461\n",
      "DL - MAPE: 0.1564, MAE: 0.2779, RMSE: 0.3756, R2: 0.8014\n",
      "\n",
      "Repeat 6/10\n"
     ]
    },
    {
     "name": "stderr",
     "output_type": "stream",
     "text": [
      "c:\\Users\\rezab\\anaconda3\\Lib\\site-packages\\sklearn\\utils\\validation.py:2732: UserWarning: X has feature names, but StandardScaler was fitted without feature names\n",
      "  warnings.warn(\n"
     ]
    },
    {
     "name": "stdout",
     "output_type": "stream",
     "text": [
      "\u001b[1m40/40\u001b[0m \u001b[32m━━━━━━━━━━━━━━━━━━━━\u001b[0m\u001b[37m\u001b[0m \u001b[1m0s\u001b[0m 2ms/step\n",
      "LR - MAPE: 0.1898, MAE: 0.3241, RMSE: 0.4207, R2: 0.7485\n",
      "DL - MAPE: 0.1557, MAE: 0.2717, RMSE: 0.3721, R2: 0.8032\n",
      "\n",
      "Repeat 7/10\n"
     ]
    },
    {
     "name": "stderr",
     "output_type": "stream",
     "text": [
      "c:\\Users\\rezab\\anaconda3\\Lib\\site-packages\\sklearn\\utils\\validation.py:2732: UserWarning: X has feature names, but StandardScaler was fitted without feature names\n",
      "  warnings.warn(\n"
     ]
    },
    {
     "name": "stdout",
     "output_type": "stream",
     "text": [
      "\u001b[1m40/40\u001b[0m \u001b[32m━━━━━━━━━━━━━━━━━━━━\u001b[0m\u001b[37m\u001b[0m \u001b[1m0s\u001b[0m 2ms/step\n",
      "LR - MAPE: 0.1884, MAE: 0.3337, RMSE: 0.4370, R2: 0.7501\n",
      "DL - MAPE: 0.1563, MAE: 0.2879, RMSE: 0.3904, R2: 0.8007\n",
      "\n",
      "Repeat 8/10\n"
     ]
    },
    {
     "name": "stderr",
     "output_type": "stream",
     "text": [
      "c:\\Users\\rezab\\anaconda3\\Lib\\site-packages\\sklearn\\utils\\validation.py:2732: UserWarning: X has feature names, but StandardScaler was fitted without feature names\n",
      "  warnings.warn(\n"
     ]
    },
    {
     "name": "stdout",
     "output_type": "stream",
     "text": [
      "\u001b[1m40/40\u001b[0m \u001b[32m━━━━━━━━━━━━━━━━━━━━\u001b[0m\u001b[37m\u001b[0m \u001b[1m0s\u001b[0m 2ms/step\n",
      "LR - MAPE: 0.1880, MAE: 0.3230, RMSE: 0.4200, R2: 0.7603\n",
      "DL - MAPE: 0.1494, MAE: 0.2737, RMSE: 0.3777, R2: 0.8062\n",
      "\n",
      "Repeat 9/10\n"
     ]
    },
    {
     "name": "stderr",
     "output_type": "stream",
     "text": [
      "c:\\Users\\rezab\\anaconda3\\Lib\\site-packages\\sklearn\\utils\\validation.py:2732: UserWarning: X has feature names, but StandardScaler was fitted without feature names\n",
      "  warnings.warn(\n"
     ]
    },
    {
     "name": "stdout",
     "output_type": "stream",
     "text": [
      "\u001b[1m40/40\u001b[0m \u001b[32m━━━━━━━━━━━━━━━━━━━━\u001b[0m\u001b[37m\u001b[0m \u001b[1m0s\u001b[0m 2ms/step\n",
      "LR - MAPE: 0.1836, MAE: 0.3123, RMSE: 0.4121, R2: 0.7715\n",
      "DL - MAPE: 0.1583, MAE: 0.2733, RMSE: 0.3740, R2: 0.8117\n",
      "\n",
      "Repeat 10/10\n"
     ]
    },
    {
     "name": "stderr",
     "output_type": "stream",
     "text": [
      "c:\\Users\\rezab\\anaconda3\\Lib\\site-packages\\sklearn\\utils\\validation.py:2732: UserWarning: X has feature names, but StandardScaler was fitted without feature names\n",
      "  warnings.warn(\n"
     ]
    },
    {
     "name": "stdout",
     "output_type": "stream",
     "text": [
      "\u001b[1m40/40\u001b[0m \u001b[32m━━━━━━━━━━━━━━━━━━━━\u001b[0m\u001b[37m\u001b[0m \u001b[1m0s\u001b[0m 2ms/step\n",
      "LR - MAPE: 0.1915, MAE: 0.3322, RMSE: 0.4389, R2: 0.7670\n",
      "DL - MAPE: 0.1505, MAE: 0.2701, RMSE: 0.3776, R2: 0.8276\n",
      "\n",
      "> System: jump3r, Dataset: speech.wav.csv\n",
      "> Training data fraction: 0.7, Number of repeats: 10\n",
      "\n",
      "Repeat 1/10\n"
     ]
    },
    {
     "name": "stderr",
     "output_type": "stream",
     "text": [
      "c:\\Users\\rezab\\anaconda3\\Lib\\site-packages\\sklearn\\utils\\validation.py:2732: UserWarning: X has feature names, but StandardScaler was fitted without feature names\n",
      "  warnings.warn(\n"
     ]
    },
    {
     "name": "stdout",
     "output_type": "stream",
     "text": [
      "\u001b[1m40/40\u001b[0m \u001b[32m━━━━━━━━━━━━━━━━━━━━\u001b[0m\u001b[37m\u001b[0m \u001b[1m0s\u001b[0m 2ms/step\n",
      "LR - MAPE: 0.2018, MAE: 0.7996, RMSE: 1.0057, R2: 0.8678\n",
      "DL - MAPE: 0.1796, MAE: 0.6965, RMSE: 0.9278, R2: 0.8875\n",
      "\n",
      "Repeat 2/10\n"
     ]
    },
    {
     "name": "stderr",
     "output_type": "stream",
     "text": [
      "c:\\Users\\rezab\\anaconda3\\Lib\\site-packages\\sklearn\\utils\\validation.py:2732: UserWarning: X has feature names, but StandardScaler was fitted without feature names\n",
      "  warnings.warn(\n"
     ]
    },
    {
     "name": "stdout",
     "output_type": "stream",
     "text": [
      "\u001b[1m40/40\u001b[0m \u001b[32m━━━━━━━━━━━━━━━━━━━━\u001b[0m\u001b[37m\u001b[0m \u001b[1m0s\u001b[0m 2ms/step\n",
      "LR - MAPE: 0.1876, MAE: 0.7897, RMSE: 1.0018, R2: 0.8618\n",
      "DL - MAPE: 0.1622, MAE: 0.6884, RMSE: 0.9168, R2: 0.8842\n",
      "\n",
      "Repeat 3/10\n"
     ]
    },
    {
     "name": "stderr",
     "output_type": "stream",
     "text": [
      "c:\\Users\\rezab\\anaconda3\\Lib\\site-packages\\sklearn\\utils\\validation.py:2732: UserWarning: X has feature names, but StandardScaler was fitted without feature names\n",
      "  warnings.warn(\n"
     ]
    },
    {
     "name": "stdout",
     "output_type": "stream",
     "text": [
      "\u001b[1m40/40\u001b[0m \u001b[32m━━━━━━━━━━━━━━━━━━━━\u001b[0m\u001b[37m\u001b[0m \u001b[1m0s\u001b[0m 2ms/step\n",
      "LR - MAPE: 0.2004, MAE: 0.8168, RMSE: 1.0312, R2: 0.8584\n",
      "DL - MAPE: 0.1690, MAE: 0.7059, RMSE: 0.9463, R2: 0.8808\n",
      "\n",
      "Repeat 4/10\n"
     ]
    },
    {
     "name": "stderr",
     "output_type": "stream",
     "text": [
      "c:\\Users\\rezab\\anaconda3\\Lib\\site-packages\\sklearn\\utils\\validation.py:2732: UserWarning: X has feature names, but StandardScaler was fitted without feature names\n",
      "  warnings.warn(\n"
     ]
    },
    {
     "name": "stdout",
     "output_type": "stream",
     "text": [
      "\u001b[1m40/40\u001b[0m \u001b[32m━━━━━━━━━━━━━━━━━━━━\u001b[0m\u001b[37m\u001b[0m \u001b[1m0s\u001b[0m 3ms/step\n",
      "LR - MAPE: 0.1984, MAE: 0.8231, RMSE: 1.0387, R2: 0.8567\n",
      "DL - MAPE: 0.1605, MAE: 0.7053, RMSE: 0.9620, R2: 0.8770\n",
      "\n",
      "Repeat 5/10\n"
     ]
    },
    {
     "name": "stderr",
     "output_type": "stream",
     "text": [
      "c:\\Users\\rezab\\anaconda3\\Lib\\site-packages\\sklearn\\utils\\validation.py:2732: UserWarning: X has feature names, but StandardScaler was fitted without feature names\n",
      "  warnings.warn(\n"
     ]
    },
    {
     "name": "stdout",
     "output_type": "stream",
     "text": [
      "\u001b[1m40/40\u001b[0m \u001b[32m━━━━━━━━━━━━━━━━━━━━\u001b[0m\u001b[37m\u001b[0m \u001b[1m0s\u001b[0m 2ms/step\n",
      "LR - MAPE: 0.2053, MAE: 0.8294, RMSE: 1.0429, R2: 0.8505\n",
      "DL - MAPE: 0.1689, MAE: 0.6965, RMSE: 0.9304, R2: 0.8810\n",
      "\n",
      "Repeat 6/10\n"
     ]
    },
    {
     "name": "stderr",
     "output_type": "stream",
     "text": [
      "c:\\Users\\rezab\\anaconda3\\Lib\\site-packages\\sklearn\\utils\\validation.py:2732: UserWarning: X has feature names, but StandardScaler was fitted without feature names\n",
      "  warnings.warn(\n"
     ]
    },
    {
     "name": "stdout",
     "output_type": "stream",
     "text": [
      "\u001b[1m40/40\u001b[0m \u001b[32m━━━━━━━━━━━━━━━━━━━━\u001b[0m\u001b[37m\u001b[0m \u001b[1m0s\u001b[0m 2ms/step\n",
      "LR - MAPE: 0.1978, MAE: 0.8192, RMSE: 1.0322, R2: 0.8536\n",
      "DL - MAPE: 0.1555, MAE: 0.6763, RMSE: 0.9435, R2: 0.8776\n",
      "\n",
      "Repeat 7/10\n"
     ]
    },
    {
     "name": "stderr",
     "output_type": "stream",
     "text": [
      "c:\\Users\\rezab\\anaconda3\\Lib\\site-packages\\sklearn\\utils\\validation.py:2732: UserWarning: X has feature names, but StandardScaler was fitted without feature names\n",
      "  warnings.warn(\n"
     ]
    },
    {
     "name": "stdout",
     "output_type": "stream",
     "text": [
      "\u001b[1m40/40\u001b[0m \u001b[32m━━━━━━━━━━━━━━━━━━━━\u001b[0m\u001b[37m\u001b[0m \u001b[1m0s\u001b[0m 2ms/step\n",
      "LR - MAPE: 0.2010, MAE: 0.8360, RMSE: 1.0439, R2: 0.8534\n",
      "DL - MAPE: 0.1679, MAE: 0.7314, RMSE: 0.9615, R2: 0.8756\n",
      "\n",
      "Repeat 8/10\n"
     ]
    },
    {
     "name": "stderr",
     "output_type": "stream",
     "text": [
      "c:\\Users\\rezab\\anaconda3\\Lib\\site-packages\\sklearn\\utils\\validation.py:2732: UserWarning: X has feature names, but StandardScaler was fitted without feature names\n",
      "  warnings.warn(\n"
     ]
    },
    {
     "name": "stdout",
     "output_type": "stream",
     "text": [
      "\u001b[1m40/40\u001b[0m \u001b[32m━━━━━━━━━━━━━━━━━━━━\u001b[0m\u001b[37m\u001b[0m \u001b[1m0s\u001b[0m 2ms/step\n",
      "LR - MAPE: 0.1989, MAE: 0.8117, RMSE: 1.0180, R2: 0.8618\n",
      "DL - MAPE: 0.1743, MAE: 0.6846, RMSE: 0.9157, R2: 0.8882\n",
      "\n",
      "Repeat 9/10\n"
     ]
    },
    {
     "name": "stderr",
     "output_type": "stream",
     "text": [
      "c:\\Users\\rezab\\anaconda3\\Lib\\site-packages\\sklearn\\utils\\validation.py:2732: UserWarning: X has feature names, but StandardScaler was fitted without feature names\n",
      "  warnings.warn(\n"
     ]
    },
    {
     "name": "stdout",
     "output_type": "stream",
     "text": [
      "\u001b[1m40/40\u001b[0m \u001b[32m━━━━━━━━━━━━━━━━━━━━\u001b[0m\u001b[37m\u001b[0m \u001b[1m0s\u001b[0m 2ms/step\n",
      "LR - MAPE: 0.1957, MAE: 0.7846, RMSE: 0.9918, R2: 0.8685\n",
      "DL - MAPE: 0.1576, MAE: 0.6721, RMSE: 0.9139, R2: 0.8884\n",
      "\n",
      "Repeat 10/10\n"
     ]
    },
    {
     "name": "stderr",
     "output_type": "stream",
     "text": [
      "c:\\Users\\rezab\\anaconda3\\Lib\\site-packages\\sklearn\\utils\\validation.py:2732: UserWarning: X has feature names, but StandardScaler was fitted without feature names\n",
      "  warnings.warn(\n"
     ]
    },
    {
     "name": "stdout",
     "output_type": "stream",
     "text": [
      "\u001b[1m40/40\u001b[0m \u001b[32m━━━━━━━━━━━━━━━━━━━━\u001b[0m\u001b[37m\u001b[0m \u001b[1m0s\u001b[0m 2ms/step\n",
      "LR - MAPE: 0.2038, MAE: 0.8046, RMSE: 1.0110, R2: 0.8723\n",
      "DL - MAPE: 0.1647, MAE: 0.7037, RMSE: 0.9285, R2: 0.8923\n",
      "\n",
      "> System: jump3r, Dataset: sweep.wav.csv\n",
      "> Training data fraction: 0.7, Number of repeats: 10\n",
      "\n",
      "Repeat 1/10\n"
     ]
    },
    {
     "name": "stderr",
     "output_type": "stream",
     "text": [
      "c:\\Users\\rezab\\anaconda3\\Lib\\site-packages\\sklearn\\utils\\validation.py:2732: UserWarning: X has feature names, but StandardScaler was fitted without feature names\n",
      "  warnings.warn(\n"
     ]
    },
    {
     "name": "stdout",
     "output_type": "stream",
     "text": [
      "\u001b[1m40/40\u001b[0m \u001b[32m━━━━━━━━━━━━━━━━━━━━\u001b[0m\u001b[37m\u001b[0m \u001b[1m0s\u001b[0m 2ms/step\n",
      "LR - MAPE: 0.1177, MAE: 0.0686, RMSE: 0.0880, R2: 0.8318\n",
      "DL - MAPE: 0.1077, MAE: 0.0650, RMSE: 0.0871, R2: 0.8351\n",
      "\n",
      "Repeat 2/10\n"
     ]
    },
    {
     "name": "stderr",
     "output_type": "stream",
     "text": [
      "c:\\Users\\rezab\\anaconda3\\Lib\\site-packages\\sklearn\\utils\\validation.py:2732: UserWarning: X has feature names, but StandardScaler was fitted without feature names\n",
      "  warnings.warn(\n"
     ]
    },
    {
     "name": "stdout",
     "output_type": "stream",
     "text": [
      "\u001b[1m40/40\u001b[0m \u001b[32m━━━━━━━━━━━━━━━━━━━━\u001b[0m\u001b[37m\u001b[0m \u001b[1m0s\u001b[0m 2ms/step\n",
      "LR - MAPE: 0.1159, MAE: 0.0686, RMSE: 0.0872, R2: 0.8271\n",
      "DL - MAPE: 0.1027, MAE: 0.0653, RMSE: 0.0899, R2: 0.8161\n",
      "\n",
      "Repeat 3/10\n"
     ]
    },
    {
     "name": "stderr",
     "output_type": "stream",
     "text": [
      "c:\\Users\\rezab\\anaconda3\\Lib\\site-packages\\sklearn\\utils\\validation.py:2732: UserWarning: X has feature names, but StandardScaler was fitted without feature names\n",
      "  warnings.warn(\n"
     ]
    },
    {
     "name": "stdout",
     "output_type": "stream",
     "text": [
      "\u001b[1m40/40\u001b[0m \u001b[32m━━━━━━━━━━━━━━━━━━━━\u001b[0m\u001b[37m\u001b[0m \u001b[1m0s\u001b[0m 2ms/step\n",
      "LR - MAPE: 0.1221, MAE: 0.0713, RMSE: 0.0906, R2: 0.8180\n",
      "DL - MAPE: 0.1044, MAE: 0.0658, RMSE: 0.0910, R2: 0.8162\n",
      "\n",
      "Repeat 4/10\n"
     ]
    },
    {
     "name": "stderr",
     "output_type": "stream",
     "text": [
      "c:\\Users\\rezab\\anaconda3\\Lib\\site-packages\\sklearn\\utils\\validation.py:2732: UserWarning: X has feature names, but StandardScaler was fitted without feature names\n",
      "  warnings.warn(\n"
     ]
    },
    {
     "name": "stdout",
     "output_type": "stream",
     "text": [
      "\u001b[1m40/40\u001b[0m \u001b[32m━━━━━━━━━━━━━━━━━━━━\u001b[0m\u001b[37m\u001b[0m \u001b[1m0s\u001b[0m 2ms/step\n",
      "LR - MAPE: 0.1188, MAE: 0.0705, RMSE: 0.0895, R2: 0.8217\n",
      "DL - MAPE: 0.1143, MAE: 0.0686, RMSE: 0.0910, R2: 0.8156\n",
      "\n",
      "Repeat 5/10\n"
     ]
    },
    {
     "name": "stderr",
     "output_type": "stream",
     "text": [
      "c:\\Users\\rezab\\anaconda3\\Lib\\site-packages\\sklearn\\utils\\validation.py:2732: UserWarning: X has feature names, but StandardScaler was fitted without feature names\n",
      "  warnings.warn(\n"
     ]
    },
    {
     "name": "stdout",
     "output_type": "stream",
     "text": [
      "\u001b[1m40/40\u001b[0m \u001b[32m━━━━━━━━━━━━━━━━━━━━\u001b[0m\u001b[37m\u001b[0m \u001b[1m0s\u001b[0m 2ms/step\n",
      "LR - MAPE: 0.1224, MAE: 0.0704, RMSE: 0.0887, R2: 0.8161\n",
      "DL - MAPE: 0.1051, MAE: 0.0629, RMSE: 0.0851, R2: 0.8309\n",
      "\n",
      "Repeat 6/10\n"
     ]
    },
    {
     "name": "stderr",
     "output_type": "stream",
     "text": [
      "c:\\Users\\rezab\\anaconda3\\Lib\\site-packages\\sklearn\\utils\\validation.py:2732: UserWarning: X has feature names, but StandardScaler was fitted without feature names\n",
      "  warnings.warn(\n"
     ]
    },
    {
     "name": "stdout",
     "output_type": "stream",
     "text": [
      "\u001b[1m40/40\u001b[0m \u001b[32m━━━━━━━━━━━━━━━━━━━━\u001b[0m\u001b[37m\u001b[0m \u001b[1m0s\u001b[0m 2ms/step\n",
      "LR - MAPE: 0.1212, MAE: 0.0701, RMSE: 0.0871, R2: 0.8230\n",
      "DL - MAPE: 0.1088, MAE: 0.0658, RMSE: 0.0880, R2: 0.8196\n",
      "\n",
      "Repeat 7/10\n"
     ]
    },
    {
     "name": "stderr",
     "output_type": "stream",
     "text": [
      "c:\\Users\\rezab\\anaconda3\\Lib\\site-packages\\sklearn\\utils\\validation.py:2732: UserWarning: X has feature names, but StandardScaler was fitted without feature names\n",
      "  warnings.warn(\n"
     ]
    },
    {
     "name": "stdout",
     "output_type": "stream",
     "text": [
      "\u001b[1m40/40\u001b[0m \u001b[32m━━━━━━━━━━━━━━━━━━━━\u001b[0m\u001b[37m\u001b[0m \u001b[1m0s\u001b[0m 2ms/step\n",
      "LR - MAPE: 0.1205, MAE: 0.0713, RMSE: 0.0905, R2: 0.8174\n",
      "DL - MAPE: 0.1078, MAE: 0.0674, RMSE: 0.0907, R2: 0.8167\n",
      "\n",
      "Repeat 8/10\n"
     ]
    },
    {
     "name": "stderr",
     "output_type": "stream",
     "text": [
      "c:\\Users\\rezab\\anaconda3\\Lib\\site-packages\\sklearn\\utils\\validation.py:2732: UserWarning: X has feature names, but StandardScaler was fitted without feature names\n",
      "  warnings.warn(\n"
     ]
    },
    {
     "name": "stdout",
     "output_type": "stream",
     "text": [
      "\u001b[1m40/40\u001b[0m \u001b[32m━━━━━━━━━━━━━━━━━━━━\u001b[0m\u001b[37m\u001b[0m \u001b[1m0s\u001b[0m 2ms/step\n",
      "LR - MAPE: 0.1202, MAE: 0.0701, RMSE: 0.0884, R2: 0.8272\n",
      "DL - MAPE: 0.1031, MAE: 0.0635, RMSE: 0.0876, R2: 0.8304\n",
      "\n",
      "Repeat 9/10\n"
     ]
    },
    {
     "name": "stderr",
     "output_type": "stream",
     "text": [
      "c:\\Users\\rezab\\anaconda3\\Lib\\site-packages\\sklearn\\utils\\validation.py:2732: UserWarning: X has feature names, but StandardScaler was fitted without feature names\n",
      "  warnings.warn(\n"
     ]
    },
    {
     "name": "stdout",
     "output_type": "stream",
     "text": [
      "\u001b[1m40/40\u001b[0m \u001b[32m━━━━━━━━━━━━━━━━━━━━\u001b[0m\u001b[37m\u001b[0m \u001b[1m0s\u001b[0m 2ms/step\n",
      "LR - MAPE: 0.1171, MAE: 0.0679, RMSE: 0.0869, R2: 0.8290\n",
      "DL - MAPE: 0.1090, MAE: 0.0642, RMSE: 0.0851, R2: 0.8359\n",
      "\n",
      "Repeat 10/10\n"
     ]
    },
    {
     "name": "stderr",
     "output_type": "stream",
     "text": [
      "c:\\Users\\rezab\\anaconda3\\Lib\\site-packages\\sklearn\\utils\\validation.py:2732: UserWarning: X has feature names, but StandardScaler was fitted without feature names\n",
      "  warnings.warn(\n"
     ]
    },
    {
     "name": "stdout",
     "output_type": "stream",
     "text": [
      "\u001b[1m40/40\u001b[0m \u001b[32m━━━━━━━━━━━━━━━━━━━━\u001b[0m\u001b[37m\u001b[0m \u001b[1m0s\u001b[0m 2ms/step\n",
      "LR - MAPE: 0.1190, MAE: 0.0695, RMSE: 0.0873, R2: 0.8390\n",
      "DL - MAPE: 0.1097, MAE: 0.0663, RMSE: 0.0910, R2: 0.8247\n",
      "\n",
      "==================================================\n",
      "Processing system: kanzi\n",
      "==================================================\n",
      "\n",
      "> System: kanzi, Dataset: ambivert.csv\n",
      "> Training data fraction: 0.7, Number of repeats: 10\n",
      "\n",
      "Repeat 1/10\n"
     ]
    },
    {
     "name": "stderr",
     "output_type": "stream",
     "text": [
      "c:\\Users\\rezab\\anaconda3\\Lib\\site-packages\\sklearn\\utils\\validation.py:2732: UserWarning: X has feature names, but StandardScaler was fitted without feature names\n",
      "  warnings.warn(\n"
     ]
    },
    {
     "name": "stdout",
     "output_type": "stream",
     "text": [
      "\u001b[1m39/39\u001b[0m \u001b[32m━━━━━━━━━━━━━━━━━━━━\u001b[0m\u001b[37m\u001b[0m \u001b[1m0s\u001b[0m 2ms/step\n",
      "LR - MAPE: 1.4248, MAE: 16.6679, RMSE: 26.7946, R2: 0.4888\n",
      "DL - MAPE: 0.1643, MAE: 3.4440, RMSE: 9.3977, R2: 0.9371\n",
      "\n",
      "Repeat 2/10\n"
     ]
    },
    {
     "name": "stderr",
     "output_type": "stream",
     "text": [
      "c:\\Users\\rezab\\anaconda3\\Lib\\site-packages\\sklearn\\utils\\validation.py:2732: UserWarning: X has feature names, but StandardScaler was fitted without feature names\n",
      "  warnings.warn(\n"
     ]
    },
    {
     "name": "stdout",
     "output_type": "stream",
     "text": [
      "\u001b[1m39/39\u001b[0m \u001b[32m━━━━━━━━━━━━━━━━━━━━\u001b[0m\u001b[37m\u001b[0m \u001b[1m0s\u001b[0m 2ms/step\n",
      "LR - MAPE: 1.3382, MAE: 17.2540, RMSE: 28.9386, R2: 0.4912\n",
      "DL - MAPE: 0.1553, MAE: 3.3180, RMSE: 9.7522, R2: 0.9422\n",
      "\n",
      "Repeat 3/10\n"
     ]
    },
    {
     "name": "stderr",
     "output_type": "stream",
     "text": [
      "c:\\Users\\rezab\\anaconda3\\Lib\\site-packages\\sklearn\\utils\\validation.py:2732: UserWarning: X has feature names, but StandardScaler was fitted without feature names\n",
      "  warnings.warn(\n"
     ]
    },
    {
     "name": "stdout",
     "output_type": "stream",
     "text": [
      "\u001b[1m39/39\u001b[0m \u001b[32m━━━━━━━━━━━━━━━━━━━━\u001b[0m\u001b[37m\u001b[0m \u001b[1m0s\u001b[0m 2ms/step\n",
      "LR - MAPE: 1.5011, MAE: 16.8010, RMSE: 26.3561, R2: 0.4233\n",
      "DL - MAPE: 0.1611, MAE: 2.7878, RMSE: 6.7448, R2: 0.9622\n",
      "\n",
      "Repeat 4/10\n"
     ]
    },
    {
     "name": "stderr",
     "output_type": "stream",
     "text": [
      "c:\\Users\\rezab\\anaconda3\\Lib\\site-packages\\sklearn\\utils\\validation.py:2732: UserWarning: X has feature names, but StandardScaler was fitted without feature names\n",
      "  warnings.warn(\n"
     ]
    },
    {
     "name": "stdout",
     "output_type": "stream",
     "text": [
      "\u001b[1m39/39\u001b[0m \u001b[32m━━━━━━━━━━━━━━━━━━━━\u001b[0m\u001b[37m\u001b[0m \u001b[1m0s\u001b[0m 2ms/step\n",
      "LR - MAPE: 1.5434, MAE: 16.6649, RMSE: 26.7038, R2: 0.4500\n",
      "DL - MAPE: 0.1483, MAE: 2.6925, RMSE: 7.3782, R2: 0.9580\n",
      "\n",
      "Repeat 5/10\n"
     ]
    },
    {
     "name": "stderr",
     "output_type": "stream",
     "text": [
      "c:\\Users\\rezab\\anaconda3\\Lib\\site-packages\\sklearn\\utils\\validation.py:2732: UserWarning: X has feature names, but StandardScaler was fitted without feature names\n",
      "  warnings.warn(\n"
     ]
    },
    {
     "name": "stdout",
     "output_type": "stream",
     "text": [
      "\u001b[1m39/39\u001b[0m \u001b[32m━━━━━━━━━━━━━━━━━━━━\u001b[0m\u001b[37m\u001b[0m \u001b[1m0s\u001b[0m 2ms/step\n",
      "LR - MAPE: 1.4811, MAE: 16.8082, RMSE: 27.6609, R2: 0.4717\n",
      "DL - MAPE: 0.1909, MAE: 2.7431, RMSE: 8.0021, R2: 0.9558\n",
      "\n",
      "Repeat 6/10\n"
     ]
    },
    {
     "name": "stderr",
     "output_type": "stream",
     "text": [
      "c:\\Users\\rezab\\anaconda3\\Lib\\site-packages\\sklearn\\utils\\validation.py:2732: UserWarning: X has feature names, but StandardScaler was fitted without feature names\n",
      "  warnings.warn(\n"
     ]
    },
    {
     "name": "stdout",
     "output_type": "stream",
     "text": [
      "\u001b[1m39/39\u001b[0m \u001b[32m━━━━━━━━━━━━━━━━━━━━\u001b[0m\u001b[37m\u001b[0m \u001b[1m0s\u001b[0m 2ms/step\n",
      "LR - MAPE: 1.5680, MAE: 17.4380, RMSE: 27.7827, R2: 0.4769\n",
      "DL - MAPE: 0.1511, MAE: 2.8075, RMSE: 7.6380, R2: 0.9605\n",
      "\n",
      "Repeat 7/10\n"
     ]
    },
    {
     "name": "stderr",
     "output_type": "stream",
     "text": [
      "c:\\Users\\rezab\\anaconda3\\Lib\\site-packages\\sklearn\\utils\\validation.py:2732: UserWarning: X has feature names, but StandardScaler was fitted without feature names\n",
      "  warnings.warn(\n"
     ]
    },
    {
     "name": "stdout",
     "output_type": "stream",
     "text": [
      "\u001b[1m39/39\u001b[0m \u001b[32m━━━━━━━━━━━━━━━━━━━━\u001b[0m\u001b[37m\u001b[0m \u001b[1m0s\u001b[0m 2ms/step\n",
      "LR - MAPE: 1.5212, MAE: 17.0536, RMSE: 28.3550, R2: 0.4724\n",
      "DL - MAPE: 0.1580, MAE: 2.8049, RMSE: 7.3633, R2: 0.9644\n",
      "\n",
      "Repeat 8/10\n"
     ]
    },
    {
     "name": "stderr",
     "output_type": "stream",
     "text": [
      "c:\\Users\\rezab\\anaconda3\\Lib\\site-packages\\sklearn\\utils\\validation.py:2732: UserWarning: X has feature names, but StandardScaler was fitted without feature names\n",
      "  warnings.warn(\n"
     ]
    },
    {
     "name": "stdout",
     "output_type": "stream",
     "text": [
      "\u001b[1m39/39\u001b[0m \u001b[32m━━━━━━━━━━━━━━━━━━━━\u001b[0m\u001b[37m\u001b[0m \u001b[1m0s\u001b[0m 2ms/step\n",
      "LR - MAPE: 1.4481, MAE: 16.5941, RMSE: 26.3904, R2: 0.4429\n",
      "DL - MAPE: 0.1604, MAE: 2.6178, RMSE: 6.3377, R2: 0.9679\n",
      "\n",
      "Repeat 9/10\n"
     ]
    },
    {
     "name": "stderr",
     "output_type": "stream",
     "text": [
      "c:\\Users\\rezab\\anaconda3\\Lib\\site-packages\\sklearn\\utils\\validation.py:2732: UserWarning: X has feature names, but StandardScaler was fitted without feature names\n",
      "  warnings.warn(\n"
     ]
    },
    {
     "name": "stdout",
     "output_type": "stream",
     "text": [
      "\u001b[1m39/39\u001b[0m \u001b[32m━━━━━━━━━━━━━━━━━━━━\u001b[0m\u001b[37m\u001b[0m \u001b[1m0s\u001b[0m 2ms/step\n",
      "LR - MAPE: 1.7119, MAE: 17.7852, RMSE: 27.7055, R2: 0.4348\n",
      "DL - MAPE: 0.1502, MAE: 2.5420, RMSE: 7.2240, R2: 0.9616\n",
      "\n",
      "Repeat 10/10\n"
     ]
    },
    {
     "name": "stderr",
     "output_type": "stream",
     "text": [
      "c:\\Users\\rezab\\anaconda3\\Lib\\site-packages\\sklearn\\utils\\validation.py:2732: UserWarning: X has feature names, but StandardScaler was fitted without feature names\n",
      "  warnings.warn(\n"
     ]
    },
    {
     "name": "stdout",
     "output_type": "stream",
     "text": [
      "\u001b[1m39/39\u001b[0m \u001b[32m━━━━━━━━━━━━━━━━━━━━\u001b[0m\u001b[37m\u001b[0m \u001b[1m0s\u001b[0m 2ms/step\n",
      "LR - MAPE: 1.4732, MAE: 17.8647, RMSE: 29.2019, R2: 0.4858\n",
      "DL - MAPE: 0.1460, MAE: 2.9858, RMSE: 8.1617, R2: 0.9598\n",
      "\n",
      "> System: kanzi, Dataset: artificl.csv\n",
      "> Training data fraction: 0.7, Number of repeats: 10\n",
      "\n",
      "Repeat 1/10\n"
     ]
    },
    {
     "name": "stderr",
     "output_type": "stream",
     "text": [
      "c:\\Users\\rezab\\anaconda3\\Lib\\site-packages\\sklearn\\utils\\validation.py:2732: UserWarning: X has feature names, but StandardScaler was fitted without feature names\n",
      "  warnings.warn(\n"
     ]
    },
    {
     "name": "stdout",
     "output_type": "stream",
     "text": [
      "\u001b[1m39/39\u001b[0m \u001b[32m━━━━━━━━━━━━━━━━━━━━\u001b[0m\u001b[37m\u001b[0m \u001b[1m0s\u001b[0m 2ms/step\n",
      "LR - MAPE: 0.4631, MAE: 0.1919, RMSE: 0.2835, R2: 0.3475\n",
      "DL - MAPE: 0.0930, MAE: 0.0445, RMSE: 0.0895, R2: 0.9350\n",
      "\n",
      "Repeat 2/10\n"
     ]
    },
    {
     "name": "stderr",
     "output_type": "stream",
     "text": [
      "c:\\Users\\rezab\\anaconda3\\Lib\\site-packages\\sklearn\\utils\\validation.py:2732: UserWarning: X has feature names, but StandardScaler was fitted without feature names\n",
      "  warnings.warn(\n"
     ]
    },
    {
     "name": "stdout",
     "output_type": "stream",
     "text": [
      "\u001b[1m39/39\u001b[0m \u001b[32m━━━━━━━━━━━━━━━━━━━━\u001b[0m\u001b[37m\u001b[0m \u001b[1m0s\u001b[0m 2ms/step\n",
      "LR - MAPE: 0.4626, MAE: 0.2024, RMSE: 0.3045, R2: 0.3594\n",
      "DL - MAPE: 0.0953, MAE: 0.0490, RMSE: 0.0990, R2: 0.9323\n",
      "\n",
      "Repeat 3/10\n"
     ]
    },
    {
     "name": "stderr",
     "output_type": "stream",
     "text": [
      "c:\\Users\\rezab\\anaconda3\\Lib\\site-packages\\sklearn\\utils\\validation.py:2732: UserWarning: X has feature names, but StandardScaler was fitted without feature names\n",
      "  warnings.warn(\n"
     ]
    },
    {
     "name": "stdout",
     "output_type": "stream",
     "text": [
      "\u001b[1m39/39\u001b[0m \u001b[32m━━━━━━━━━━━━━━━━━━━━\u001b[0m\u001b[37m\u001b[0m \u001b[1m0s\u001b[0m 2ms/step\n",
      "LR - MAPE: 0.4810, MAE: 0.1969, RMSE: 0.2873, R2: 0.2766\n",
      "DL - MAPE: 0.0988, MAE: 0.0440, RMSE: 0.0884, R2: 0.9316\n",
      "\n",
      "Repeat 4/10\n"
     ]
    },
    {
     "name": "stderr",
     "output_type": "stream",
     "text": [
      "c:\\Users\\rezab\\anaconda3\\Lib\\site-packages\\sklearn\\utils\\validation.py:2732: UserWarning: X has feature names, but StandardScaler was fitted without feature names\n",
      "  warnings.warn(\n"
     ]
    },
    {
     "name": "stdout",
     "output_type": "stream",
     "text": [
      "\u001b[1m39/39\u001b[0m \u001b[32m━━━━━━━━━━━━━━━━━━━━\u001b[0m\u001b[37m\u001b[0m \u001b[1m0s\u001b[0m 2ms/step\n",
      "LR - MAPE: 0.4867, MAE: 0.1963, RMSE: 0.2859, R2: 0.3027\n",
      "DL - MAPE: 0.1099, MAE: 0.0557, RMSE: 0.1102, R2: 0.8963\n",
      "\n",
      "Repeat 5/10\n"
     ]
    },
    {
     "name": "stderr",
     "output_type": "stream",
     "text": [
      "c:\\Users\\rezab\\anaconda3\\Lib\\site-packages\\sklearn\\utils\\validation.py:2732: UserWarning: X has feature names, but StandardScaler was fitted without feature names\n",
      "  warnings.warn(\n"
     ]
    },
    {
     "name": "stdout",
     "output_type": "stream",
     "text": [
      "\u001b[1m39/39\u001b[0m \u001b[32m━━━━━━━━━━━━━━━━━━━━\u001b[0m\u001b[37m\u001b[0m \u001b[1m0s\u001b[0m 2ms/step\n",
      "LR - MAPE: 0.4714, MAE: 0.1949, RMSE: 0.2890, R2: 0.3479\n",
      "DL - MAPE: 0.1002, MAE: 0.0518, RMSE: 0.1106, R2: 0.9045\n",
      "\n",
      "Repeat 6/10\n"
     ]
    },
    {
     "name": "stderr",
     "output_type": "stream",
     "text": [
      "c:\\Users\\rezab\\anaconda3\\Lib\\site-packages\\sklearn\\utils\\validation.py:2732: UserWarning: X has feature names, but StandardScaler was fitted without feature names\n",
      "  warnings.warn(\n"
     ]
    },
    {
     "name": "stdout",
     "output_type": "stream",
     "text": [
      "\u001b[1m39/39\u001b[0m \u001b[32m━━━━━━━━━━━━━━━━━━━━\u001b[0m\u001b[37m\u001b[0m \u001b[1m0s\u001b[0m 2ms/step\n",
      "LR - MAPE: 0.4941, MAE: 0.2018, RMSE: 0.2935, R2: 0.3254\n",
      "DL - MAPE: 0.0914, MAE: 0.0440, RMSE: 0.0825, R2: 0.9467\n",
      "\n",
      "Repeat 7/10\n"
     ]
    },
    {
     "name": "stderr",
     "output_type": "stream",
     "text": [
      "c:\\Users\\rezab\\anaconda3\\Lib\\site-packages\\sklearn\\utils\\validation.py:2732: UserWarning: X has feature names, but StandardScaler was fitted without feature names\n",
      "  warnings.warn(\n"
     ]
    },
    {
     "name": "stdout",
     "output_type": "stream",
     "text": [
      "\u001b[1m39/39\u001b[0m \u001b[32m━━━━━━━━━━━━━━━━━━━━\u001b[0m\u001b[37m\u001b[0m \u001b[1m0s\u001b[0m 2ms/step\n",
      "LR - MAPE: 0.4763, MAE: 0.1953, RMSE: 0.2885, R2: 0.3447\n",
      "DL - MAPE: 0.0895, MAE: 0.0407, RMSE: 0.0802, R2: 0.9494\n",
      "\n",
      "Repeat 8/10\n"
     ]
    },
    {
     "name": "stderr",
     "output_type": "stream",
     "text": [
      "c:\\Users\\rezab\\anaconda3\\Lib\\site-packages\\sklearn\\utils\\validation.py:2732: UserWarning: X has feature names, but StandardScaler was fitted without feature names\n",
      "  warnings.warn(\n"
     ]
    },
    {
     "name": "stdout",
     "output_type": "stream",
     "text": [
      "\u001b[1m39/39\u001b[0m \u001b[32m━━━━━━━━━━━━━━━━━━━━\u001b[0m\u001b[37m\u001b[0m \u001b[1m0s\u001b[0m 2ms/step\n",
      "LR - MAPE: 0.4740, MAE: 0.1942, RMSE: 0.2838, R2: 0.2900\n",
      "DL - MAPE: 0.0971, MAE: 0.0483, RMSE: 0.0992, R2: 0.9133\n",
      "\n",
      "Repeat 9/10\n"
     ]
    },
    {
     "name": "stderr",
     "output_type": "stream",
     "text": [
      "c:\\Users\\rezab\\anaconda3\\Lib\\site-packages\\sklearn\\utils\\validation.py:2732: UserWarning: X has feature names, but StandardScaler was fitted without feature names\n",
      "  warnings.warn(\n"
     ]
    },
    {
     "name": "stdout",
     "output_type": "stream",
     "text": [
      "\u001b[1m39/39\u001b[0m \u001b[32m━━━━━━━━━━━━━━━━━━━━\u001b[0m\u001b[37m\u001b[0m \u001b[1m0s\u001b[0m 2ms/step\n",
      "LR - MAPE: 0.5264, MAE: 0.2037, RMSE: 0.2923, R2: 0.2867\n",
      "DL - MAPE: 0.1093, MAE: 0.0465, RMSE: 0.0917, R2: 0.9299\n",
      "\n",
      "Repeat 10/10\n"
     ]
    },
    {
     "name": "stderr",
     "output_type": "stream",
     "text": [
      "c:\\Users\\rezab\\anaconda3\\Lib\\site-packages\\sklearn\\utils\\validation.py:2732: UserWarning: X has feature names, but StandardScaler was fitted without feature names\n",
      "  warnings.warn(\n"
     ]
    },
    {
     "name": "stdout",
     "output_type": "stream",
     "text": [
      "\u001b[1m39/39\u001b[0m \u001b[32m━━━━━━━━━━━━━━━━━━━━\u001b[0m\u001b[37m\u001b[0m \u001b[1m0s\u001b[0m 2ms/step\n",
      "LR - MAPE: 0.4816, MAE: 0.2027, RMSE: 0.2998, R2: 0.3533\n",
      "DL - MAPE: 0.1028, MAE: 0.0508, RMSE: 0.0997, R2: 0.9285\n",
      "\n",
      "> System: kanzi, Dataset: deepfield.csv\n",
      "> Training data fraction: 0.7, Number of repeats: 10\n",
      "\n",
      "Repeat 1/10\n"
     ]
    },
    {
     "name": "stderr",
     "output_type": "stream",
     "text": [
      "c:\\Users\\rezab\\anaconda3\\Lib\\site-packages\\sklearn\\utils\\validation.py:2732: UserWarning: X has feature names, but StandardScaler was fitted without feature names\n",
      "  warnings.warn(\n"
     ]
    },
    {
     "name": "stdout",
     "output_type": "stream",
     "text": [
      "\u001b[1m39/39\u001b[0m \u001b[32m━━━━━━━━━━━━━━━━━━━━\u001b[0m\u001b[37m\u001b[0m \u001b[1m0s\u001b[0m 2ms/step\n",
      "LR - MAPE: 18.2122, MAE: 18.3428, RMSE: 28.1942, R2: 0.4406\n",
      "DL - MAPE: 0.1997, MAE: 2.6975, RMSE: 7.8010, R2: 0.9572\n",
      "\n",
      "Repeat 2/10\n"
     ]
    },
    {
     "name": "stderr",
     "output_type": "stream",
     "text": [
      "c:\\Users\\rezab\\anaconda3\\Lib\\site-packages\\sklearn\\utils\\validation.py:2732: UserWarning: X has feature names, but StandardScaler was fitted without feature names\n",
      "  warnings.warn(\n"
     ]
    },
    {
     "name": "stdout",
     "output_type": "stream",
     "text": [
      "\u001b[1m39/39\u001b[0m \u001b[32m━━━━━━━━━━━━━━━━━━━━\u001b[0m\u001b[37m\u001b[0m \u001b[1m0s\u001b[0m 2ms/step\n",
      "LR - MAPE: 17.4848, MAE: 19.3084, RMSE: 30.4703, R2: 0.4433\n",
      "DL - MAPE: 0.1678, MAE: 3.0567, RMSE: 10.7550, R2: 0.9306\n",
      "\n",
      "Repeat 3/10\n"
     ]
    },
    {
     "name": "stderr",
     "output_type": "stream",
     "text": [
      "c:\\Users\\rezab\\anaconda3\\Lib\\site-packages\\sklearn\\utils\\validation.py:2732: UserWarning: X has feature names, but StandardScaler was fitted without feature names\n",
      "  warnings.warn(\n"
     ]
    },
    {
     "name": "stdout",
     "output_type": "stream",
     "text": [
      "\u001b[1m39/39\u001b[0m \u001b[32m━━━━━━━━━━━━━━━━━━━━\u001b[0m\u001b[37m\u001b[0m \u001b[1m0s\u001b[0m 2ms/step\n",
      "LR - MAPE: 16.9354, MAE: 18.6594, RMSE: 27.9368, R2: 0.3613\n",
      "DL - MAPE: 0.1607, MAE: 2.0004, RMSE: 6.4290, R2: 0.9662\n",
      "\n",
      "Repeat 4/10\n"
     ]
    },
    {
     "name": "stderr",
     "output_type": "stream",
     "text": [
      "c:\\Users\\rezab\\anaconda3\\Lib\\site-packages\\sklearn\\utils\\validation.py:2732: UserWarning: X has feature names, but StandardScaler was fitted without feature names\n",
      "  warnings.warn(\n"
     ]
    },
    {
     "name": "stdout",
     "output_type": "stream",
     "text": [
      "\u001b[1m39/39\u001b[0m \u001b[32m━━━━━━━━━━━━━━━━━━━━\u001b[0m\u001b[37m\u001b[0m \u001b[1m0s\u001b[0m 2ms/step\n",
      "LR - MAPE: 17.0409, MAE: 18.0995, RMSE: 27.4780, R2: 0.4228\n",
      "DL - MAPE: 0.1795, MAE: 2.6267, RMSE: 7.6126, R2: 0.9557\n",
      "\n",
      "Repeat 5/10\n"
     ]
    },
    {
     "name": "stderr",
     "output_type": "stream",
     "text": [
      "c:\\Users\\rezab\\anaconda3\\Lib\\site-packages\\sklearn\\utils\\validation.py:2732: UserWarning: X has feature names, but StandardScaler was fitted without feature names\n",
      "  warnings.warn(\n"
     ]
    },
    {
     "name": "stdout",
     "output_type": "stream",
     "text": [
      "\u001b[1m39/39\u001b[0m \u001b[32m━━━━━━━━━━━━━━━━━━━━\u001b[0m\u001b[37m\u001b[0m \u001b[1m0s\u001b[0m 2ms/step\n",
      "LR - MAPE: 16.1164, MAE: 18.5378, RMSE: 28.6875, R2: 0.4382\n",
      "DL - MAPE: 0.1889, MAE: 2.6897, RMSE: 9.5800, R2: 0.9374\n",
      "\n",
      "Repeat 6/10\n"
     ]
    },
    {
     "name": "stderr",
     "output_type": "stream",
     "text": [
      "c:\\Users\\rezab\\anaconda3\\Lib\\site-packages\\sklearn\\utils\\validation.py:2732: UserWarning: X has feature names, but StandardScaler was fitted without feature names\n",
      "  warnings.warn(\n"
     ]
    },
    {
     "name": "stdout",
     "output_type": "stream",
     "text": [
      "\u001b[1m39/39\u001b[0m \u001b[32m━━━━━━━━━━━━━━━━━━━━\u001b[0m\u001b[37m\u001b[0m \u001b[1m0s\u001b[0m 2ms/step\n",
      "LR - MAPE: 17.8724, MAE: 19.2565, RMSE: 29.1534, R2: 0.4288\n",
      "DL - MAPE: 0.2002, MAE: 2.7450, RMSE: 8.4078, R2: 0.9525\n",
      "\n",
      "Repeat 7/10\n"
     ]
    },
    {
     "name": "stderr",
     "output_type": "stream",
     "text": [
      "c:\\Users\\rezab\\anaconda3\\Lib\\site-packages\\sklearn\\utils\\validation.py:2732: UserWarning: X has feature names, but StandardScaler was fitted without feature names\n",
      "  warnings.warn(\n"
     ]
    },
    {
     "name": "stdout",
     "output_type": "stream",
     "text": [
      "\u001b[1m39/39\u001b[0m \u001b[32m━━━━━━━━━━━━━━━━━━━━\u001b[0m\u001b[37m\u001b[0m \u001b[1m0s\u001b[0m 2ms/step\n",
      "LR - MAPE: 16.7171, MAE: 18.7776, RMSE: 29.5061, R2: 0.4299\n",
      "DL - MAPE: 0.1783, MAE: 2.3942, RMSE: 7.8270, R2: 0.9599\n",
      "\n",
      "Repeat 8/10\n"
     ]
    },
    {
     "name": "stderr",
     "output_type": "stream",
     "text": [
      "c:\\Users\\rezab\\anaconda3\\Lib\\site-packages\\sklearn\\utils\\validation.py:2732: UserWarning: X has feature names, but StandardScaler was fitted without feature names\n",
      "  warnings.warn(\n"
     ]
    },
    {
     "name": "stdout",
     "output_type": "stream",
     "text": [
      "\u001b[1m39/39\u001b[0m \u001b[32m━━━━━━━━━━━━━━━━━━━━\u001b[0m\u001b[37m\u001b[0m \u001b[1m0s\u001b[0m 2ms/step\n",
      "LR - MAPE: 16.1771, MAE: 18.5140, RMSE: 27.8161, R2: 0.3925\n",
      "DL - MAPE: 0.1845, MAE: 2.5270, RMSE: 7.3667, R2: 0.9574\n",
      "\n",
      "Repeat 9/10\n"
     ]
    },
    {
     "name": "stderr",
     "output_type": "stream",
     "text": [
      "c:\\Users\\rezab\\anaconda3\\Lib\\site-packages\\sklearn\\utils\\validation.py:2732: UserWarning: X has feature names, but StandardScaler was fitted without feature names\n",
      "  warnings.warn(\n"
     ]
    },
    {
     "name": "stdout",
     "output_type": "stream",
     "text": [
      "\u001b[1m39/39\u001b[0m \u001b[32m━━━━━━━━━━━━━━━━━━━━\u001b[0m\u001b[37m\u001b[0m \u001b[1m0s\u001b[0m 2ms/step\n",
      "LR - MAPE: 20.9544, MAE: 19.3689, RMSE: 28.7412, R2: 0.3991\n",
      "DL - MAPE: 0.1791, MAE: 2.1620, RMSE: 7.4415, R2: 0.9597\n",
      "\n",
      "Repeat 10/10\n"
     ]
    },
    {
     "name": "stderr",
     "output_type": "stream",
     "text": [
      "c:\\Users\\rezab\\anaconda3\\Lib\\site-packages\\sklearn\\utils\\validation.py:2732: UserWarning: X has feature names, but StandardScaler was fitted without feature names\n",
      "  warnings.warn(\n"
     ]
    },
    {
     "name": "stdout",
     "output_type": "stream",
     "text": [
      "\u001b[1m39/39\u001b[0m \u001b[32m━━━━━━━━━━━━━━━━━━━━\u001b[0m\u001b[37m\u001b[0m \u001b[1m0s\u001b[0m 2ms/step\n",
      "LR - MAPE: 16.7756, MAE: 19.6307, RMSE: 30.5997, R2: 0.4334\n",
      "DL - MAPE: 0.1587, MAE: 2.7122, RMSE: 9.2243, R2: 0.9485\n",
      "\n",
      "> System: kanzi, Dataset: enwik8.csv\n",
      "> Training data fraction: 0.7, Number of repeats: 10\n",
      "\n",
      "Repeat 1/10\n"
     ]
    },
    {
     "name": "stderr",
     "output_type": "stream",
     "text": [
      "c:\\Users\\rezab\\anaconda3\\Lib\\site-packages\\sklearn\\utils\\validation.py:2732: UserWarning: X has feature names, but StandardScaler was fitted without feature names\n",
      "  warnings.warn(\n"
     ]
    },
    {
     "name": "stdout",
     "output_type": "stream",
     "text": [
      "\u001b[1m39/39\u001b[0m \u001b[32m━━━━━━━━━━━━━━━━━━━━\u001b[0m\u001b[37m\u001b[0m \u001b[1m0s\u001b[0m 2ms/step\n",
      "LR - MAPE: 2.5290, MAE: 38.7223, RMSE: 60.3789, R2: 0.3744\n",
      "DL - MAPE: 0.1647, MAE: 5.0415, RMSE: 16.1255, R2: 0.9554\n",
      "\n",
      "Repeat 2/10\n"
     ]
    },
    {
     "name": "stderr",
     "output_type": "stream",
     "text": [
      "c:\\Users\\rezab\\anaconda3\\Lib\\site-packages\\sklearn\\utils\\validation.py:2732: UserWarning: X has feature names, but StandardScaler was fitted without feature names\n",
      "  warnings.warn(\n"
     ]
    },
    {
     "name": "stdout",
     "output_type": "stream",
     "text": [
      "\u001b[1m39/39\u001b[0m \u001b[32m━━━━━━━━━━━━━━━━━━━━\u001b[0m\u001b[37m\u001b[0m \u001b[1m0s\u001b[0m 2ms/step\n",
      "LR - MAPE: 2.5843, MAE: 40.4248, RMSE: 65.3050, R2: 0.3875\n",
      "DL - MAPE: 0.1447, MAE: 7.3239, RMSE: 26.0746, R2: 0.9023\n",
      "\n",
      "Repeat 3/10\n"
     ]
    },
    {
     "name": "stderr",
     "output_type": "stream",
     "text": [
      "c:\\Users\\rezab\\anaconda3\\Lib\\site-packages\\sklearn\\utils\\validation.py:2732: UserWarning: X has feature names, but StandardScaler was fitted without feature names\n",
      "  warnings.warn(\n"
     ]
    },
    {
     "name": "stdout",
     "output_type": "stream",
     "text": [
      "\u001b[1m39/39\u001b[0m \u001b[32m━━━━━━━━━━━━━━━━━━━━\u001b[0m\u001b[37m\u001b[0m \u001b[1m0s\u001b[0m 2ms/step\n",
      "LR - MAPE: 2.8721, MAE: 39.2669, RMSE: 59.5087, R2: 0.2861\n",
      "DL - MAPE: 0.1576, MAE: 4.4455, RMSE: 13.4171, R2: 0.9637\n",
      "\n",
      "Repeat 4/10\n"
     ]
    },
    {
     "name": "stderr",
     "output_type": "stream",
     "text": [
      "c:\\Users\\rezab\\anaconda3\\Lib\\site-packages\\sklearn\\utils\\validation.py:2732: UserWarning: X has feature names, but StandardScaler was fitted without feature names\n",
      "  warnings.warn(\n"
     ]
    },
    {
     "name": "stdout",
     "output_type": "stream",
     "text": [
      "\u001b[1m39/39\u001b[0m \u001b[32m━━━━━━━━━━━━━━━━━━━━\u001b[0m\u001b[37m\u001b[0m \u001b[1m0s\u001b[0m 2ms/step\n",
      "LR - MAPE: 2.8001, MAE: 38.6225, RMSE: 59.8036, R2: 0.3243\n",
      "DL - MAPE: 0.2083, MAE: 5.5701, RMSE: 18.6560, R2: 0.9342\n",
      "\n",
      "Repeat 5/10\n"
     ]
    },
    {
     "name": "stderr",
     "output_type": "stream",
     "text": [
      "c:\\Users\\rezab\\anaconda3\\Lib\\site-packages\\sklearn\\utils\\validation.py:2732: UserWarning: X has feature names, but StandardScaler was fitted without feature names\n",
      "  warnings.warn(\n"
     ]
    },
    {
     "name": "stdout",
     "output_type": "stream",
     "text": [
      "\u001b[1m39/39\u001b[0m \u001b[32m━━━━━━━━━━━━━━━━━━━━\u001b[0m\u001b[37m\u001b[0m \u001b[1m0s\u001b[0m 2ms/step\n",
      "LR - MAPE: 2.7611, MAE: 38.9087, RMSE: 62.1005, R2: 0.3669\n",
      "DL - MAPE: 0.1580, MAE: 5.1125, RMSE: 18.2189, R2: 0.9455\n",
      "\n",
      "Repeat 6/10\n"
     ]
    },
    {
     "name": "stderr",
     "output_type": "stream",
     "text": [
      "c:\\Users\\rezab\\anaconda3\\Lib\\site-packages\\sklearn\\utils\\validation.py:2732: UserWarning: X has feature names, but StandardScaler was fitted without feature names\n",
      "  warnings.warn(\n"
     ]
    },
    {
     "name": "stdout",
     "output_type": "stream",
     "text": [
      "\u001b[1m39/39\u001b[0m \u001b[32m━━━━━━━━━━━━━━━━━━━━\u001b[0m\u001b[37m\u001b[0m \u001b[1m0s\u001b[0m 2ms/step\n",
      "LR - MAPE: 2.8600, MAE: 40.4117, RMSE: 62.6343, R2: 0.3650\n",
      "DL - MAPE: 0.1880, MAE: 6.0386, RMSE: 19.6865, R2: 0.9373\n",
      "\n",
      "Repeat 7/10\n"
     ]
    },
    {
     "name": "stderr",
     "output_type": "stream",
     "text": [
      "c:\\Users\\rezab\\anaconda3\\Lib\\site-packages\\sklearn\\utils\\validation.py:2732: UserWarning: X has feature names, but StandardScaler was fitted without feature names\n",
      "  warnings.warn(\n"
     ]
    },
    {
     "name": "stdout",
     "output_type": "stream",
     "text": [
      "\u001b[1m39/39\u001b[0m \u001b[32m━━━━━━━━━━━━━━━━━━━━\u001b[0m\u001b[37m\u001b[0m \u001b[1m0s\u001b[0m 2ms/step\n",
      "LR - MAPE: 2.7508, MAE: 39.0861, RMSE: 63.6987, R2: 0.3696\n",
      "DL - MAPE: 0.1957, MAE: 6.8315, RMSE: 24.7233, R2: 0.9050\n",
      "\n",
      "Repeat 8/10\n"
     ]
    },
    {
     "name": "stderr",
     "output_type": "stream",
     "text": [
      "c:\\Users\\rezab\\anaconda3\\Lib\\site-packages\\sklearn\\utils\\validation.py:2732: UserWarning: X has feature names, but StandardScaler was fitted without feature names\n",
      "  warnings.warn(\n"
     ]
    },
    {
     "name": "stdout",
     "output_type": "stream",
     "text": [
      "\u001b[1m39/39\u001b[0m \u001b[32m━━━━━━━━━━━━━━━━━━━━\u001b[0m\u001b[37m\u001b[0m \u001b[1m0s\u001b[0m 2ms/step\n",
      "LR - MAPE: 2.6519, MAE: 38.4489, RMSE: 59.4396, R2: 0.3199\n",
      "DL - MAPE: 0.1495, MAE: 5.0410, RMSE: 18.1096, R2: 0.9369\n",
      "\n",
      "Repeat 9/10\n"
     ]
    },
    {
     "name": "stderr",
     "output_type": "stream",
     "text": [
      "c:\\Users\\rezab\\anaconda3\\Lib\\site-packages\\sklearn\\utils\\validation.py:2732: UserWarning: X has feature names, but StandardScaler was fitted without feature names\n",
      "  warnings.warn(\n"
     ]
    },
    {
     "name": "stdout",
     "output_type": "stream",
     "text": [
      "\u001b[1m39/39\u001b[0m \u001b[32m━━━━━━━━━━━━━━━━━━━━\u001b[0m\u001b[37m\u001b[0m \u001b[1m0s\u001b[0m 2ms/step\n",
      "LR - MAPE: 3.0757, MAE: 40.7822, RMSE: 61.8570, R2: 0.3240\n",
      "DL - MAPE: 0.1448, MAE: 5.0804, RMSE: 18.3616, R2: 0.9404\n",
      "\n",
      "Repeat 10/10\n"
     ]
    },
    {
     "name": "stderr",
     "output_type": "stream",
     "text": [
      "c:\\Users\\rezab\\anaconda3\\Lib\\site-packages\\sklearn\\utils\\validation.py:2732: UserWarning: X has feature names, but StandardScaler was fitted without feature names\n",
      "  warnings.warn(\n"
     ]
    },
    {
     "name": "stdout",
     "output_type": "stream",
     "text": [
      "\u001b[1m39/39\u001b[0m \u001b[32m━━━━━━━━━━━━━━━━━━━━\u001b[0m\u001b[37m\u001b[0m \u001b[1m0s\u001b[0m 2ms/step\n",
      "LR - MAPE: 2.6723, MAE: 41.1879, RMSE: 66.0634, R2: 0.3746\n",
      "DL - MAPE: 0.1720, MAE: 6.3580, RMSE: 21.9200, R2: 0.9311\n",
      "\n",
      "> System: kanzi, Dataset: fannie_mae_500k.csv\n",
      "> Training data fraction: 0.7, Number of repeats: 10\n",
      "\n",
      "Repeat 1/10\n"
     ]
    },
    {
     "name": "stderr",
     "output_type": "stream",
     "text": [
      "c:\\Users\\rezab\\anaconda3\\Lib\\site-packages\\sklearn\\utils\\validation.py:2732: UserWarning: X has feature names, but StandardScaler was fitted without feature names\n",
      "  warnings.warn(\n"
     ]
    },
    {
     "name": "stdout",
     "output_type": "stream",
     "text": [
      "\u001b[1m39/39\u001b[0m \u001b[32m━━━━━━━━━━━━━━━━━━━━\u001b[0m\u001b[37m\u001b[0m \u001b[1m0s\u001b[0m 2ms/step\n",
      "LR - MAPE: 3.9887, MAE: 34.0516, RMSE: 52.2531, R2: 0.3191\n",
      "DL - MAPE: 0.1503, MAE: 3.3908, RMSE: 12.4553, R2: 0.9613\n",
      "\n",
      "Repeat 2/10\n"
     ]
    },
    {
     "name": "stderr",
     "output_type": "stream",
     "text": [
      "c:\\Users\\rezab\\anaconda3\\Lib\\site-packages\\sklearn\\utils\\validation.py:2732: UserWarning: X has feature names, but StandardScaler was fitted without feature names\n",
      "  warnings.warn(\n"
     ]
    },
    {
     "name": "stdout",
     "output_type": "stream",
     "text": [
      "\u001b[1m39/39\u001b[0m \u001b[32m━━━━━━━━━━━━━━━━━━━━\u001b[0m\u001b[37m\u001b[0m \u001b[1m0s\u001b[0m 2ms/step\n",
      "LR - MAPE: 4.0244, MAE: 35.6419, RMSE: 56.4822, R2: 0.3334\n",
      "DL - MAPE: 0.1875, MAE: 6.5806, RMSE: 24.8640, R2: 0.8708\n",
      "\n",
      "Repeat 3/10\n"
     ]
    },
    {
     "name": "stderr",
     "output_type": "stream",
     "text": [
      "c:\\Users\\rezab\\anaconda3\\Lib\\site-packages\\sklearn\\utils\\validation.py:2732: UserWarning: X has feature names, but StandardScaler was fitted without feature names\n",
      "  warnings.warn(\n"
     ]
    },
    {
     "name": "stdout",
     "output_type": "stream",
     "text": [
      "\u001b[1m39/39\u001b[0m \u001b[32m━━━━━━━━━━━━━━━━━━━━\u001b[0m\u001b[37m\u001b[0m \u001b[1m0s\u001b[0m 2ms/step\n",
      "LR - MAPE: 4.5175, MAE: 34.4379, RMSE: 51.3125, R2: 0.2246\n",
      "DL - MAPE: 0.1501, MAE: 3.3052, RMSE: 11.8915, R2: 0.9584\n",
      "\n",
      "Repeat 4/10\n"
     ]
    },
    {
     "name": "stderr",
     "output_type": "stream",
     "text": [
      "c:\\Users\\rezab\\anaconda3\\Lib\\site-packages\\sklearn\\utils\\validation.py:2732: UserWarning: X has feature names, but StandardScaler was fitted without feature names\n",
      "  warnings.warn(\n"
     ]
    },
    {
     "name": "stdout",
     "output_type": "stream",
     "text": [
      "\u001b[1m39/39\u001b[0m \u001b[32m━━━━━━━━━━━━━━━━━━━━\u001b[0m\u001b[37m\u001b[0m \u001b[1m0s\u001b[0m 2ms/step\n",
      "LR - MAPE: 4.3770, MAE: 33.7863, RMSE: 51.4749, R2: 0.2685\n",
      "DL - MAPE: 0.1914, MAE: 4.4460, RMSE: 16.7388, R2: 0.9226\n",
      "\n",
      "Repeat 5/10\n"
     ]
    },
    {
     "name": "stderr",
     "output_type": "stream",
     "text": [
      "c:\\Users\\rezab\\anaconda3\\Lib\\site-packages\\sklearn\\utils\\validation.py:2732: UserWarning: X has feature names, but StandardScaler was fitted without feature names\n",
      "  warnings.warn(\n"
     ]
    },
    {
     "name": "stdout",
     "output_type": "stream",
     "text": [
      "\u001b[1m39/39\u001b[0m \u001b[32m━━━━━━━━━━━━━━━━━━━━\u001b[0m\u001b[37m\u001b[0m \u001b[1m0s\u001b[0m 2ms/step\n",
      "LR - MAPE: 4.2702, MAE: 34.1485, RMSE: 53.4659, R2: 0.3158\n",
      "DL - MAPE: 0.1858, MAE: 4.6577, RMSE: 16.3822, R2: 0.9358\n",
      "\n",
      "Repeat 6/10\n"
     ]
    },
    {
     "name": "stderr",
     "output_type": "stream",
     "text": [
      "c:\\Users\\rezab\\anaconda3\\Lib\\site-packages\\sklearn\\utils\\validation.py:2732: UserWarning: X has feature names, but StandardScaler was fitted without feature names\n",
      "  warnings.warn(\n"
     ]
    },
    {
     "name": "stdout",
     "output_type": "stream",
     "text": [
      "\u001b[1m39/39\u001b[0m \u001b[32m━━━━━━━━━━━━━━━━━━━━\u001b[0m\u001b[37m\u001b[0m \u001b[1m0s\u001b[0m 2ms/step\n",
      "LR - MAPE: 4.4395, MAE: 35.4216, RMSE: 54.1373, R2: 0.3100\n",
      "DL - MAPE: 0.1634, MAE: 4.5802, RMSE: 16.6560, R2: 0.9347\n",
      "\n",
      "Repeat 7/10\n"
     ]
    },
    {
     "name": "stderr",
     "output_type": "stream",
     "text": [
      "c:\\Users\\rezab\\anaconda3\\Lib\\site-packages\\sklearn\\utils\\validation.py:2732: UserWarning: X has feature names, but StandardScaler was fitted without feature names\n",
      "  warnings.warn(\n"
     ]
    },
    {
     "name": "stdout",
     "output_type": "stream",
     "text": [
      "\u001b[1m39/39\u001b[0m \u001b[32m━━━━━━━━━━━━━━━━━━━━\u001b[0m\u001b[37m\u001b[0m \u001b[1m0s\u001b[0m 2ms/step\n",
      "LR - MAPE: 4.2299, MAE: 34.2200, RMSE: 54.6460, R2: 0.3167\n",
      "DL - MAPE: 0.1598, MAE: 5.2379, RMSE: 22.2586, R2: 0.8866\n",
      "\n",
      "Repeat 8/10\n"
     ]
    },
    {
     "name": "stderr",
     "output_type": "stream",
     "text": [
      "c:\\Users\\rezab\\anaconda3\\Lib\\site-packages\\sklearn\\utils\\validation.py:2732: UserWarning: X has feature names, but StandardScaler was fitted without feature names\n",
      "  warnings.warn(\n"
     ]
    },
    {
     "name": "stdout",
     "output_type": "stream",
     "text": [
      "\u001b[1m39/39\u001b[0m \u001b[32m━━━━━━━━━━━━━━━━━━━━\u001b[0m\u001b[37m\u001b[0m \u001b[1m0s\u001b[0m 2ms/step\n",
      "LR - MAPE: 4.1571, MAE: 33.7081, RMSE: 51.2223, R2: 0.2613\n",
      "DL - MAPE: 0.1434, MAE: 3.8650, RMSE: 14.9233, R2: 0.9373\n",
      "\n",
      "Repeat 9/10\n"
     ]
    },
    {
     "name": "stderr",
     "output_type": "stream",
     "text": [
      "c:\\Users\\rezab\\anaconda3\\Lib\\site-packages\\sklearn\\utils\\validation.py:2732: UserWarning: X has feature names, but StandardScaler was fitted without feature names\n",
      "  warnings.warn(\n"
     ]
    },
    {
     "name": "stdout",
     "output_type": "stream",
     "text": [
      "\u001b[1m39/39\u001b[0m \u001b[32m━━━━━━━━━━━━━━━━━━━━\u001b[0m\u001b[37m\u001b[0m \u001b[1m0s\u001b[0m 2ms/step\n",
      "LR - MAPE: 4.8060, MAE: 35.8193, RMSE: 53.4424, R2: 0.2626\n",
      "DL - MAPE: 0.1645, MAE: 4.1300, RMSE: 16.4348, R2: 0.9303\n",
      "\n",
      "Repeat 10/10\n"
     ]
    },
    {
     "name": "stderr",
     "output_type": "stream",
     "text": [
      "c:\\Users\\rezab\\anaconda3\\Lib\\site-packages\\sklearn\\utils\\validation.py:2732: UserWarning: X has feature names, but StandardScaler was fitted without feature names\n",
      "  warnings.warn(\n"
     ]
    },
    {
     "name": "stdout",
     "output_type": "stream",
     "text": [
      "\u001b[1m39/39\u001b[0m \u001b[32m━━━━━━━━━━━━━━━━━━━━\u001b[0m\u001b[37m\u001b[0m \u001b[1m0s\u001b[0m 2ms/step\n",
      "LR - MAPE: 4.2130, MAE: 36.0878, RMSE: 56.8572, R2: 0.3229\n",
      "DL - MAPE: 0.2000, MAE: 6.3711, RMSE: 23.3682, R2: 0.8856\n",
      "\n",
      "> System: kanzi, Dataset: large.csv\n",
      "> Training data fraction: 0.7, Number of repeats: 10\n",
      "\n",
      "Repeat 1/10\n"
     ]
    },
    {
     "name": "stderr",
     "output_type": "stream",
     "text": [
      "c:\\Users\\rezab\\anaconda3\\Lib\\site-packages\\sklearn\\utils\\validation.py:2732: UserWarning: X has feature names, but StandardScaler was fitted without feature names\n",
      "  warnings.warn(\n"
     ]
    },
    {
     "name": "stdout",
     "output_type": "stream",
     "text": [
      "\u001b[1m39/39\u001b[0m \u001b[32m━━━━━━━━━━━━━━━━━━━━\u001b[0m\u001b[37m\u001b[0m \u001b[1m0s\u001b[0m 2ms/step\n",
      "LR - MAPE: 1.4113, MAE: 4.2957, RMSE: 6.6812, R2: 0.3775\n",
      "DL - MAPE: 0.1774, MAE: 0.6802, RMSE: 1.7078, R2: 0.9593\n",
      "\n",
      "Repeat 2/10\n"
     ]
    },
    {
     "name": "stderr",
     "output_type": "stream",
     "text": [
      "c:\\Users\\rezab\\anaconda3\\Lib\\site-packages\\sklearn\\utils\\validation.py:2732: UserWarning: X has feature names, but StandardScaler was fitted without feature names\n",
      "  warnings.warn(\n"
     ]
    },
    {
     "name": "stdout",
     "output_type": "stream",
     "text": [
      "\u001b[1m39/39\u001b[0m \u001b[32m━━━━━━━━━━━━━━━━━━━━\u001b[0m\u001b[37m\u001b[0m \u001b[1m0s\u001b[0m 2ms/step\n",
      "LR - MAPE: 1.3597, MAE: 4.4717, RMSE: 7.2125, R2: 0.3902\n",
      "DL - MAPE: 0.1738, MAE: 1.0300, RMSE: 3.2407, R2: 0.8769\n",
      "\n",
      "Repeat 3/10\n"
     ]
    },
    {
     "name": "stderr",
     "output_type": "stream",
     "text": [
      "c:\\Users\\rezab\\anaconda3\\Lib\\site-packages\\sklearn\\utils\\validation.py:2732: UserWarning: X has feature names, but StandardScaler was fitted without feature names\n",
      "  warnings.warn(\n"
     ]
    },
    {
     "name": "stdout",
     "output_type": "stream",
     "text": [
      "\u001b[1m39/39\u001b[0m \u001b[32m━━━━━━━━━━━━━━━━━━━━\u001b[0m\u001b[37m\u001b[0m \u001b[1m0s\u001b[0m 2ms/step\n",
      "LR - MAPE: 1.5267, MAE: 4.3380, RMSE: 6.5498, R2: 0.2926\n",
      "DL - MAPE: 0.1724, MAE: 0.6773, RMSE: 1.9360, R2: 0.9382\n",
      "\n",
      "Repeat 4/10\n"
     ]
    },
    {
     "name": "stderr",
     "output_type": "stream",
     "text": [
      "c:\\Users\\rezab\\anaconda3\\Lib\\site-packages\\sklearn\\utils\\validation.py:2732: UserWarning: X has feature names, but StandardScaler was fitted without feature names\n",
      "  warnings.warn(\n"
     ]
    },
    {
     "name": "stdout",
     "output_type": "stream",
     "text": [
      "\u001b[1m39/39\u001b[0m \u001b[32m━━━━━━━━━━━━━━━━━━━━\u001b[0m\u001b[37m\u001b[0m \u001b[1m0s\u001b[0m 2ms/step\n",
      "LR - MAPE: 1.4846, MAE: 4.2820, RMSE: 6.6080, R2: 0.3268\n",
      "DL - MAPE: 0.2057, MAE: 0.8334, RMSE: 2.2514, R2: 0.9218\n",
      "\n",
      "Repeat 5/10\n"
     ]
    },
    {
     "name": "stderr",
     "output_type": "stream",
     "text": [
      "c:\\Users\\rezab\\anaconda3\\Lib\\site-packages\\sklearn\\utils\\validation.py:2732: UserWarning: X has feature names, but StandardScaler was fitted without feature names\n",
      "  warnings.warn(\n"
     ]
    },
    {
     "name": "stdout",
     "output_type": "stream",
     "text": [
      "\u001b[1m39/39\u001b[0m \u001b[32m━━━━━━━━━━━━━━━━━━━━\u001b[0m\u001b[37m\u001b[0m \u001b[1m0s\u001b[0m 2ms/step\n",
      "LR - MAPE: 1.4665, MAE: 4.3202, RMSE: 6.8444, R2: 0.3705\n",
      "DL - MAPE: 0.1651, MAE: 0.9078, RMSE: 2.7559, R2: 0.8979\n",
      "\n",
      "Repeat 6/10\n"
     ]
    },
    {
     "name": "stderr",
     "output_type": "stream",
     "text": [
      "c:\\Users\\rezab\\anaconda3\\Lib\\site-packages\\sklearn\\utils\\validation.py:2732: UserWarning: X has feature names, but StandardScaler was fitted without feature names\n",
      "  warnings.warn(\n"
     ]
    },
    {
     "name": "stdout",
     "output_type": "stream",
     "text": [
      "\u001b[1m39/39\u001b[0m \u001b[32m━━━━━━━━━━━━━━━━━━━━\u001b[0m\u001b[37m\u001b[0m \u001b[1m0s\u001b[0m 2ms/step\n",
      "LR - MAPE: 1.4896, MAE: 4.4883, RMSE: 6.9424, R2: 0.3657\n",
      "DL - MAPE: 0.1864, MAE: 0.7794, RMSE: 2.2421, R2: 0.9338\n",
      "\n",
      "Repeat 7/10\n"
     ]
    },
    {
     "name": "stderr",
     "output_type": "stream",
     "text": [
      "c:\\Users\\rezab\\anaconda3\\Lib\\site-packages\\sklearn\\utils\\validation.py:2732: UserWarning: X has feature names, but StandardScaler was fitted without feature names\n",
      "  warnings.warn(\n"
     ]
    },
    {
     "name": "stdout",
     "output_type": "stream",
     "text": [
      "\u001b[1m39/39\u001b[0m \u001b[32m━━━━━━━━━━━━━━━━━━━━\u001b[0m\u001b[37m\u001b[0m \u001b[1m0s\u001b[0m 2ms/step\n",
      "LR - MAPE: 1.4236, MAE: 4.3241, RMSE: 7.0166, R2: 0.3730\n",
      "DL - MAPE: 0.2168, MAE: 0.9978, RMSE: 2.9814, R2: 0.8868\n",
      "\n",
      "Repeat 8/10\n"
     ]
    },
    {
     "name": "stderr",
     "output_type": "stream",
     "text": [
      "c:\\Users\\rezab\\anaconda3\\Lib\\site-packages\\sklearn\\utils\\validation.py:2732: UserWarning: X has feature names, but StandardScaler was fitted without feature names\n",
      "  warnings.warn(\n"
     ]
    },
    {
     "name": "stdout",
     "output_type": "stream",
     "text": [
      "\u001b[1m39/39\u001b[0m \u001b[32m━━━━━━━━━━━━━━━━━━━━\u001b[0m\u001b[37m\u001b[0m \u001b[1m0s\u001b[0m 2ms/step\n",
      "LR - MAPE: 1.4614, MAE: 4.2607, RMSE: 6.5603, R2: 0.3218\n",
      "DL - MAPE: 0.1530, MAE: 0.7326, RMSE: 2.1984, R2: 0.9238\n",
      "\n",
      "Repeat 9/10\n"
     ]
    },
    {
     "name": "stderr",
     "output_type": "stream",
     "text": [
      "c:\\Users\\rezab\\anaconda3\\Lib\\site-packages\\sklearn\\utils\\validation.py:2732: UserWarning: X has feature names, but StandardScaler was fitted without feature names\n",
      "  warnings.warn(\n"
     ]
    },
    {
     "name": "stdout",
     "output_type": "stream",
     "text": [
      "\u001b[1m39/39\u001b[0m \u001b[32m━━━━━━━━━━━━━━━━━━━━\u001b[0m\u001b[37m\u001b[0m \u001b[1m0s\u001b[0m 2ms/step\n",
      "LR - MAPE: 1.6254, MAE: 4.5262, RMSE: 6.8367, R2: 0.3253\n",
      "DL - MAPE: 0.1672, MAE: 0.7438, RMSE: 2.2342, R2: 0.9280\n",
      "\n",
      "Repeat 10/10\n"
     ]
    },
    {
     "name": "stderr",
     "output_type": "stream",
     "text": [
      "c:\\Users\\rezab\\anaconda3\\Lib\\site-packages\\sklearn\\utils\\validation.py:2732: UserWarning: X has feature names, but StandardScaler was fitted without feature names\n",
      "  warnings.warn(\n"
     ]
    },
    {
     "name": "stdout",
     "output_type": "stream",
     "text": [
      "\u001b[1m39/39\u001b[0m \u001b[32m━━━━━━━━━━━━━━━━━━━━\u001b[0m\u001b[37m\u001b[0m \u001b[1m0s\u001b[0m 2ms/step\n",
      "LR - MAPE: 1.4364, MAE: 4.5640, RMSE: 7.2945, R2: 0.3788\n",
      "DL - MAPE: 0.1516, MAE: 0.9749, RMSE: 3.1609, R2: 0.8834\n",
      "\n",
      "> System: kanzi, Dataset: misc.csv\n",
      "> Training data fraction: 0.7, Number of repeats: 10\n",
      "\n",
      "Repeat 1/10\n"
     ]
    },
    {
     "name": "stderr",
     "output_type": "stream",
     "text": [
      "c:\\Users\\rezab\\anaconda3\\Lib\\site-packages\\sklearn\\utils\\validation.py:2732: UserWarning: X has feature names, but StandardScaler was fitted without feature names\n",
      "  warnings.warn(\n"
     ]
    },
    {
     "name": "stdout",
     "output_type": "stream",
     "text": [
      "\u001b[1m39/39\u001b[0m \u001b[32m━━━━━━━━━━━━━━━━━━━━\u001b[0m\u001b[37m\u001b[0m \u001b[1m0s\u001b[0m 2ms/step\n",
      "LR - MAPE: 0.4585, MAE: 0.3961, RMSE: 0.6006, R2: 0.4860\n",
      "DL - MAPE: 0.1104, MAE: 0.0954, RMSE: 0.2229, R2: 0.9292\n",
      "\n",
      "Repeat 2/10\n"
     ]
    },
    {
     "name": "stderr",
     "output_type": "stream",
     "text": [
      "c:\\Users\\rezab\\anaconda3\\Lib\\site-packages\\sklearn\\utils\\validation.py:2732: UserWarning: X has feature names, but StandardScaler was fitted without feature names\n",
      "  warnings.warn(\n"
     ]
    },
    {
     "name": "stdout",
     "output_type": "stream",
     "text": [
      "\u001b[1m39/39\u001b[0m \u001b[32m━━━━━━━━━━━━━━━━━━━━\u001b[0m\u001b[37m\u001b[0m \u001b[1m0s\u001b[0m 2ms/step\n",
      "LR - MAPE: 0.4503, MAE: 0.4100, RMSE: 0.6348, R2: 0.4977\n",
      "DL - MAPE: 0.1067, MAE: 0.1166, RMSE: 0.2823, R2: 0.9006\n",
      "\n",
      "Repeat 3/10\n"
     ]
    },
    {
     "name": "stderr",
     "output_type": "stream",
     "text": [
      "c:\\Users\\rezab\\anaconda3\\Lib\\site-packages\\sklearn\\utils\\validation.py:2732: UserWarning: X has feature names, but StandardScaler was fitted without feature names\n",
      "  warnings.warn(\n"
     ]
    },
    {
     "name": "stdout",
     "output_type": "stream",
     "text": [
      "\u001b[1m39/39\u001b[0m \u001b[32m━━━━━━━━━━━━━━━━━━━━\u001b[0m\u001b[37m\u001b[0m \u001b[1m0s\u001b[0m 2ms/step\n",
      "LR - MAPE: 0.4916, MAE: 0.4022, RMSE: 0.5899, R2: 0.4235\n",
      "DL - MAPE: 0.1121, MAE: 0.0829, RMSE: 0.1869, R2: 0.9421\n",
      "\n",
      "Repeat 4/10\n"
     ]
    },
    {
     "name": "stderr",
     "output_type": "stream",
     "text": [
      "c:\\Users\\rezab\\anaconda3\\Lib\\site-packages\\sklearn\\utils\\validation.py:2732: UserWarning: X has feature names, but StandardScaler was fitted without feature names\n",
      "  warnings.warn(\n"
     ]
    },
    {
     "name": "stdout",
     "output_type": "stream",
     "text": [
      "\u001b[1m39/39\u001b[0m \u001b[32m━━━━━━━━━━━━━━━━━━━━\u001b[0m\u001b[37m\u001b[0m \u001b[1m0s\u001b[0m 3ms/step\n",
      "LR - MAPE: 0.4812, MAE: 0.3972, RMSE: 0.5907, R2: 0.4500\n",
      "DL - MAPE: 0.1229, MAE: 0.0922, RMSE: 0.2049, R2: 0.9338\n",
      "\n",
      "Repeat 5/10\n"
     ]
    },
    {
     "name": "stderr",
     "output_type": "stream",
     "text": [
      "c:\\Users\\rezab\\anaconda3\\Lib\\site-packages\\sklearn\\utils\\validation.py:2732: UserWarning: X has feature names, but StandardScaler was fitted without feature names\n",
      "  warnings.warn(\n"
     ]
    },
    {
     "name": "stdout",
     "output_type": "stream",
     "text": [
      "\u001b[1m39/39\u001b[0m \u001b[32m━━━━━━━━━━━━━━━━━━━━\u001b[0m\u001b[37m\u001b[0m \u001b[1m0s\u001b[0m 2ms/step\n",
      "LR - MAPE: 0.4730, MAE: 0.4008, RMSE: 0.6072, R2: 0.4816\n",
      "DL - MAPE: 0.0954, MAE: 0.0882, RMSE: 0.2242, R2: 0.9293\n",
      "\n",
      "Repeat 6/10\n"
     ]
    },
    {
     "name": "stderr",
     "output_type": "stream",
     "text": [
      "c:\\Users\\rezab\\anaconda3\\Lib\\site-packages\\sklearn\\utils\\validation.py:2732: UserWarning: X has feature names, but StandardScaler was fitted without feature names\n",
      "  warnings.warn(\n"
     ]
    },
    {
     "name": "stdout",
     "output_type": "stream",
     "text": [
      "\u001b[1m39/39\u001b[0m \u001b[32m━━━━━━━━━━━━━━━━━━━━\u001b[0m\u001b[37m\u001b[0m \u001b[1m0s\u001b[0m 2ms/step\n",
      "LR - MAPE: 0.4853, MAE: 0.4141, RMSE: 0.6174, R2: 0.4734\n",
      "DL - MAPE: 0.1031, MAE: 0.0852, RMSE: 0.1856, R2: 0.9524\n",
      "\n",
      "Repeat 7/10\n"
     ]
    },
    {
     "name": "stderr",
     "output_type": "stream",
     "text": [
      "c:\\Users\\rezab\\anaconda3\\Lib\\site-packages\\sklearn\\utils\\validation.py:2732: UserWarning: X has feature names, but StandardScaler was fitted without feature names\n",
      "  warnings.warn(\n"
     ]
    },
    {
     "name": "stdout",
     "output_type": "stream",
     "text": [
      "\u001b[1m39/39\u001b[0m \u001b[32m━━━━━━━━━━━━━━━━━━━━\u001b[0m\u001b[37m\u001b[0m \u001b[1m0s\u001b[0m 2ms/step\n",
      "LR - MAPE: 0.4702, MAE: 0.4017, RMSE: 0.6217, R2: 0.4805\n",
      "DL - MAPE: 0.1006, MAE: 0.0792, RMSE: 0.1928, R2: 0.9500\n",
      "\n",
      "Repeat 8/10\n"
     ]
    },
    {
     "name": "stderr",
     "output_type": "stream",
     "text": [
      "c:\\Users\\rezab\\anaconda3\\Lib\\site-packages\\sklearn\\utils\\validation.py:2732: UserWarning: X has feature names, but StandardScaler was fitted without feature names\n",
      "  warnings.warn(\n"
     ]
    },
    {
     "name": "stdout",
     "output_type": "stream",
     "text": [
      "\u001b[1m39/39\u001b[0m \u001b[32m━━━━━━━━━━━━━━━━━━━━\u001b[0m\u001b[37m\u001b[0m \u001b[1m0s\u001b[0m 2ms/step\n",
      "LR - MAPE: 0.4715, MAE: 0.3977, RMSE: 0.5937, R2: 0.4369\n",
      "DL - MAPE: 0.1036, MAE: 0.0746, RMSE: 0.1604, R2: 0.9589\n",
      "\n",
      "Repeat 9/10\n"
     ]
    },
    {
     "name": "stderr",
     "output_type": "stream",
     "text": [
      "c:\\Users\\rezab\\anaconda3\\Lib\\site-packages\\sklearn\\utils\\validation.py:2732: UserWarning: X has feature names, but StandardScaler was fitted without feature names\n",
      "  warnings.warn(\n"
     ]
    },
    {
     "name": "stdout",
     "output_type": "stream",
     "text": [
      "\u001b[1m39/39\u001b[0m \u001b[32m━━━━━━━━━━━━━━━━━━━━\u001b[0m\u001b[37m\u001b[0m \u001b[1m0s\u001b[0m 2ms/step\n",
      "LR - MAPE: 0.5234, MAE: 0.4195, RMSE: 0.6097, R2: 0.4404\n",
      "DL - MAPE: 0.0974, MAE: 0.0792, RMSE: 0.1916, R2: 0.9447\n",
      "\n",
      "Repeat 10/10\n"
     ]
    },
    {
     "name": "stderr",
     "output_type": "stream",
     "text": [
      "c:\\Users\\rezab\\anaconda3\\Lib\\site-packages\\sklearn\\utils\\validation.py:2732: UserWarning: X has feature names, but StandardScaler was fitted without feature names\n",
      "  warnings.warn(\n"
     ]
    },
    {
     "name": "stdout",
     "output_type": "stream",
     "text": [
      "\u001b[1m39/39\u001b[0m \u001b[32m━━━━━━━━━━━━━━━━━━━━\u001b[0m\u001b[37m\u001b[0m \u001b[1m0s\u001b[0m 2ms/step\n",
      "LR - MAPE: 0.4741, MAE: 0.4192, RMSE: 0.6417, R2: 0.4899\n",
      "DL - MAPE: 0.1046, MAE: 0.1084, RMSE: 0.2890, R2: 0.8965\n",
      "\n",
      "> System: kanzi, Dataset: silesia.csv\n",
      "> Training data fraction: 0.7, Number of repeats: 10\n",
      "\n",
      "Repeat 1/10\n"
     ]
    },
    {
     "name": "stderr",
     "output_type": "stream",
     "text": [
      "c:\\Users\\rezab\\anaconda3\\Lib\\site-packages\\sklearn\\utils\\validation.py:2732: UserWarning: X has feature names, but StandardScaler was fitted without feature names\n",
      "  warnings.warn(\n"
     ]
    },
    {
     "name": "stdout",
     "output_type": "stream",
     "text": [
      "\u001b[1m39/39\u001b[0m \u001b[32m━━━━━━━━━━━━━━━━━━━━\u001b[0m\u001b[37m\u001b[0m \u001b[1m0s\u001b[0m 2ms/step\n",
      "LR - MAPE: 2.8010, MAE: 80.5535, RMSE: 125.7470, R2: 0.3700\n",
      "DL - MAPE: 0.1686, MAE: 11.9585, RMSE: 41.5753, R2: 0.9311\n",
      "\n",
      "Repeat 2/10\n"
     ]
    },
    {
     "name": "stderr",
     "output_type": "stream",
     "text": [
      "c:\\Users\\rezab\\anaconda3\\Lib\\site-packages\\sklearn\\utils\\validation.py:2732: UserWarning: X has feature names, but StandardScaler was fitted without feature names\n",
      "  warnings.warn(\n"
     ]
    },
    {
     "name": "stdout",
     "output_type": "stream",
     "text": [
      "\u001b[1m39/39\u001b[0m \u001b[32m━━━━━━━━━━━━━━━━━━━━\u001b[0m\u001b[37m\u001b[0m \u001b[1m0s\u001b[0m 2ms/step\n",
      "LR - MAPE: 2.8568, MAE: 84.2062, RMSE: 135.5256, R2: 0.3837\n",
      "DL - MAPE: 0.1488, MAE: 14.8242, RMSE: 56.4190, R2: 0.8932\n",
      "\n",
      "Repeat 3/10\n"
     ]
    },
    {
     "name": "stderr",
     "output_type": "stream",
     "text": [
      "c:\\Users\\rezab\\anaconda3\\Lib\\site-packages\\sklearn\\utils\\validation.py:2732: UserWarning: X has feature names, but StandardScaler was fitted without feature names\n",
      "  warnings.warn(\n"
     ]
    },
    {
     "name": "stdout",
     "output_type": "stream",
     "text": [
      "\u001b[1m39/39\u001b[0m \u001b[32m━━━━━━━━━━━━━━━━━━━━\u001b[0m\u001b[37m\u001b[0m \u001b[1m0s\u001b[0m 2ms/step\n",
      "LR - MAPE: 3.2242, MAE: 81.7297, RMSE: 123.6415, R2: 0.2793\n",
      "DL - MAPE: 0.1879, MAE: 9.3307, RMSE: 25.7916, R2: 0.9686\n",
      "\n",
      "Repeat 4/10\n"
     ]
    },
    {
     "name": "stderr",
     "output_type": "stream",
     "text": [
      "c:\\Users\\rezab\\anaconda3\\Lib\\site-packages\\sklearn\\utils\\validation.py:2732: UserWarning: X has feature names, but StandardScaler was fitted without feature names\n",
      "  warnings.warn(\n"
     ]
    },
    {
     "name": "stdout",
     "output_type": "stream",
     "text": [
      "\u001b[1m39/39\u001b[0m \u001b[32m━━━━━━━━━━━━━━━━━━━━\u001b[0m\u001b[37m\u001b[0m \u001b[1m0s\u001b[0m 2ms/step\n",
      "LR - MAPE: 3.1549, MAE: 80.4381, RMSE: 124.5234, R2: 0.3196\n",
      "DL - MAPE: 0.2175, MAE: 9.9155, RMSE: 30.4154, R2: 0.9594\n",
      "\n",
      "Repeat 5/10\n"
     ]
    },
    {
     "name": "stderr",
     "output_type": "stream",
     "text": [
      "c:\\Users\\rezab\\anaconda3\\Lib\\site-packages\\sklearn\\utils\\validation.py:2732: UserWarning: X has feature names, but StandardScaler was fitted without feature names\n",
      "  warnings.warn(\n"
     ]
    },
    {
     "name": "stdout",
     "output_type": "stream",
     "text": [
      "\u001b[1m39/39\u001b[0m \u001b[32m━━━━━━━━━━━━━━━━━━━━\u001b[0m\u001b[37m\u001b[0m \u001b[1m0s\u001b[0m 2ms/step\n",
      "LR - MAPE: 3.0678, MAE: 81.1299, RMSE: 129.0595, R2: 0.3619\n",
      "DL - MAPE: 0.1803, MAE: 12.9618, RMSE: 48.8453, R2: 0.9086\n",
      "\n",
      "Repeat 6/10\n"
     ]
    },
    {
     "name": "stderr",
     "output_type": "stream",
     "text": [
      "c:\\Users\\rezab\\anaconda3\\Lib\\site-packages\\sklearn\\utils\\validation.py:2732: UserWarning: X has feature names, but StandardScaler was fitted without feature names\n",
      "  warnings.warn(\n"
     ]
    },
    {
     "name": "stdout",
     "output_type": "stream",
     "text": [
      "\u001b[1m39/39\u001b[0m \u001b[32m━━━━━━━━━━━━━━━━━━━━\u001b[0m\u001b[37m\u001b[0m \u001b[1m0s\u001b[0m 2ms/step\n",
      "LR - MAPE: 3.2500, MAE: 84.3006, RMSE: 130.4294, R2: 0.3595\n",
      "DL - MAPE: 0.1825, MAE: 12.7434, RMSE: 43.6584, R2: 0.9282\n",
      "\n",
      "Repeat 7/10\n"
     ]
    },
    {
     "name": "stderr",
     "output_type": "stream",
     "text": [
      "c:\\Users\\rezab\\anaconda3\\Lib\\site-packages\\sklearn\\utils\\validation.py:2732: UserWarning: X has feature names, but StandardScaler was fitted without feature names\n",
      "  warnings.warn(\n"
     ]
    },
    {
     "name": "stdout",
     "output_type": "stream",
     "text": [
      "\u001b[1m39/39\u001b[0m \u001b[32m━━━━━━━━━━━━━━━━━━━━\u001b[0m\u001b[37m\u001b[0m \u001b[1m0s\u001b[0m 2ms/step\n",
      "LR - MAPE: 3.1198, MAE: 81.3348, RMSE: 131.7422, R2: 0.3652\n",
      "DL - MAPE: 0.1833, MAE: 14.0366, RMSE: 48.7919, R2: 0.9129\n",
      "\n",
      "Repeat 8/10\n"
     ]
    },
    {
     "name": "stderr",
     "output_type": "stream",
     "text": [
      "c:\\Users\\rezab\\anaconda3\\Lib\\site-packages\\sklearn\\utils\\validation.py:2732: UserWarning: X has feature names, but StandardScaler was fitted without feature names\n",
      "  warnings.warn(\n"
     ]
    },
    {
     "name": "stdout",
     "output_type": "stream",
     "text": [
      "\u001b[1m39/39\u001b[0m \u001b[32m━━━━━━━━━━━━━━━━━━━━\u001b[0m\u001b[37m\u001b[0m \u001b[1m0s\u001b[0m 2ms/step\n",
      "LR - MAPE: 2.9626, MAE: 79.8949, RMSE: 123.0831, R2: 0.3132\n",
      "DL - MAPE: 0.1450, MAE: 8.9002, RMSE: 31.0505, R2: 0.9563\n",
      "\n",
      "Repeat 9/10\n"
     ]
    },
    {
     "name": "stderr",
     "output_type": "stream",
     "text": [
      "c:\\Users\\rezab\\anaconda3\\Lib\\site-packages\\sklearn\\utils\\validation.py:2732: UserWarning: X has feature names, but StandardScaler was fitted without feature names\n",
      "  warnings.warn(\n"
     ]
    },
    {
     "name": "stdout",
     "output_type": "stream",
     "text": [
      "\u001b[1m39/39\u001b[0m \u001b[32m━━━━━━━━━━━━━━━━━━━━\u001b[0m\u001b[37m\u001b[0m \u001b[1m0s\u001b[0m 2ms/step\n",
      "LR - MAPE: 3.4422, MAE: 85.0229, RMSE: 128.7548, R2: 0.3164\n",
      "DL - MAPE: 0.1611, MAE: 9.8032, RMSE: 36.5336, R2: 0.9450\n",
      "\n",
      "Repeat 10/10\n"
     ]
    },
    {
     "name": "stderr",
     "output_type": "stream",
     "text": [
      "c:\\Users\\rezab\\anaconda3\\Lib\\site-packages\\sklearn\\utils\\validation.py:2732: UserWarning: X has feature names, but StandardScaler was fitted without feature names\n",
      "  warnings.warn(\n"
     ]
    },
    {
     "name": "stdout",
     "output_type": "stream",
     "text": [
      "\u001b[1m39/39\u001b[0m \u001b[32m━━━━━━━━━━━━━━━━━━━━\u001b[0m\u001b[37m\u001b[0m \u001b[1m0s\u001b[0m 2ms/step\n",
      "LR - MAPE: 2.9679, MAE: 85.7272, RMSE: 137.0904, R2: 0.3703\n",
      "DL - MAPE: 0.1801, MAE: 14.8477, RMSE: 52.7417, R2: 0.9068\n",
      "\n",
      "> System: kanzi, Dataset: vmlinux.csv\n",
      "> Training data fraction: 0.7, Number of repeats: 10\n",
      "\n",
      "Repeat 1/10\n"
     ]
    },
    {
     "name": "stderr",
     "output_type": "stream",
     "text": [
      "c:\\Users\\rezab\\anaconda3\\Lib\\site-packages\\sklearn\\utils\\validation.py:2732: UserWarning: X has feature names, but StandardScaler was fitted without feature names\n",
      "  warnings.warn(\n"
     ]
    },
    {
     "name": "stdout",
     "output_type": "stream",
     "text": [
      "\u001b[1m39/39\u001b[0m \u001b[32m━━━━━━━━━━━━━━━━━━━━\u001b[0m\u001b[37m\u001b[0m \u001b[1m0s\u001b[0m 2ms/step\n",
      "LR - MAPE: 30.0353, MAE: 156.2455, RMSE: 212.6858, R2: 0.3902\n",
      "DL - MAPE: 0.2639, MAE: 9.4026, RMSE: 27.0658, R2: 0.9901\n",
      "\n",
      "Repeat 2/10\n"
     ]
    },
    {
     "name": "stderr",
     "output_type": "stream",
     "text": [
      "c:\\Users\\rezab\\anaconda3\\Lib\\site-packages\\sklearn\\utils\\validation.py:2732: UserWarning: X has feature names, but StandardScaler was fitted without feature names\n",
      "  warnings.warn(\n"
     ]
    },
    {
     "name": "stdout",
     "output_type": "stream",
     "text": [
      "\u001b[1m39/39\u001b[0m \u001b[32m━━━━━━━━━━━━━━━━━━━━\u001b[0m\u001b[37m\u001b[0m \u001b[1m0s\u001b[0m 2ms/step\n",
      "LR - MAPE: 26.9224, MAE: 164.6816, RMSE: 226.0079, R2: 0.4081\n",
      "DL - MAPE: 0.2337, MAE: 10.0380, RMSE: 28.3318, R2: 0.9907\n",
      "\n",
      "Repeat 3/10\n"
     ]
    },
    {
     "name": "stderr",
     "output_type": "stream",
     "text": [
      "c:\\Users\\rezab\\anaconda3\\Lib\\site-packages\\sklearn\\utils\\validation.py:2732: UserWarning: X has feature names, but StandardScaler was fitted without feature names\n",
      "  warnings.warn(\n"
     ]
    },
    {
     "name": "stdout",
     "output_type": "stream",
     "text": [
      "\u001b[1m39/39\u001b[0m \u001b[32m━━━━━━━━━━━━━━━━━━━━\u001b[0m\u001b[37m\u001b[0m \u001b[1m0s\u001b[0m 2ms/step\n",
      "LR - MAPE: 30.0613, MAE: 165.9703, RMSE: 225.9078, R2: 0.4125\n",
      "DL - MAPE: 0.2761, MAE: 9.5725, RMSE: 26.5850, R2: 0.9919\n",
      "\n",
      "Repeat 4/10\n"
     ]
    },
    {
     "name": "stderr",
     "output_type": "stream",
     "text": [
      "c:\\Users\\rezab\\anaconda3\\Lib\\site-packages\\sklearn\\utils\\validation.py:2732: UserWarning: X has feature names, but StandardScaler was fitted without feature names\n",
      "  warnings.warn(\n"
     ]
    },
    {
     "name": "stdout",
     "output_type": "stream",
     "text": [
      "\u001b[1m39/39\u001b[0m \u001b[32m━━━━━━━━━━━━━━━━━━━━\u001b[0m\u001b[37m\u001b[0m \u001b[1m0s\u001b[0m 2ms/step\n",
      "LR - MAPE: 28.9129, MAE: 160.6421, RMSE: 221.1674, R2: 0.4211\n",
      "DL - MAPE: 0.3060, MAE: 9.6059, RMSE: 28.1532, R2: 0.9906\n",
      "\n",
      "Repeat 5/10\n"
     ]
    },
    {
     "name": "stderr",
     "output_type": "stream",
     "text": [
      "c:\\Users\\rezab\\anaconda3\\Lib\\site-packages\\sklearn\\utils\\validation.py:2732: UserWarning: X has feature names, but StandardScaler was fitted without feature names\n",
      "  warnings.warn(\n"
     ]
    },
    {
     "name": "stdout",
     "output_type": "stream",
     "text": [
      "\u001b[1m39/39\u001b[0m \u001b[32m━━━━━━━━━━━━━━━━━━━━\u001b[0m\u001b[37m\u001b[0m \u001b[1m0s\u001b[0m 2ms/step\n",
      "LR - MAPE: 27.7519, MAE: 165.2306, RMSE: 226.4557, R2: 0.4033\n",
      "DL - MAPE: 0.3053, MAE: 11.6977, RMSE: 35.7866, R2: 0.9851\n",
      "\n",
      "Repeat 6/10\n"
     ]
    },
    {
     "name": "stderr",
     "output_type": "stream",
     "text": [
      "c:\\Users\\rezab\\anaconda3\\Lib\\site-packages\\sklearn\\utils\\validation.py:2732: UserWarning: X has feature names, but StandardScaler was fitted without feature names\n",
      "  warnings.warn(\n"
     ]
    },
    {
     "name": "stdout",
     "output_type": "stream",
     "text": [
      "\u001b[1m39/39\u001b[0m \u001b[32m━━━━━━━━━━━━━━━━━━━━\u001b[0m\u001b[37m\u001b[0m \u001b[1m0s\u001b[0m 2ms/step\n",
      "LR - MAPE: 29.2723, MAE: 167.5174, RMSE: 225.2563, R2: 0.4034\n",
      "DL - MAPE: 0.2511, MAE: 9.7262, RMSE: 28.5844, R2: 0.9904\n",
      "\n",
      "Repeat 7/10\n"
     ]
    },
    {
     "name": "stderr",
     "output_type": "stream",
     "text": [
      "c:\\Users\\rezab\\anaconda3\\Lib\\site-packages\\sklearn\\utils\\validation.py:2732: UserWarning: X has feature names, but StandardScaler was fitted without feature names\n",
      "  warnings.warn(\n"
     ]
    },
    {
     "name": "stdout",
     "output_type": "stream",
     "text": [
      "\u001b[1m39/39\u001b[0m \u001b[32m━━━━━━━━━━━━━━━━━━━━\u001b[0m\u001b[37m\u001b[0m \u001b[1m0s\u001b[0m 2ms/step\n",
      "LR - MAPE: 30.7056, MAE: 165.8572, RMSE: 225.1719, R2: 0.3810\n",
      "DL - MAPE: 0.2781, MAE: 9.6458, RMSE: 29.0405, R2: 0.9897\n",
      "\n",
      "Repeat 8/10\n"
     ]
    },
    {
     "name": "stderr",
     "output_type": "stream",
     "text": [
      "c:\\Users\\rezab\\anaconda3\\Lib\\site-packages\\sklearn\\utils\\validation.py:2732: UserWarning: X has feature names, but StandardScaler was fitted without feature names\n",
      "  warnings.warn(\n"
     ]
    },
    {
     "name": "stdout",
     "output_type": "stream",
     "text": [
      "\u001b[1m39/39\u001b[0m \u001b[32m━━━━━━━━━━━━━━━━━━━━\u001b[0m\u001b[37m\u001b[0m \u001b[1m0s\u001b[0m 2ms/step\n",
      "LR - MAPE: 29.0026, MAE: 166.7724, RMSE: 227.3622, R2: 0.4029\n",
      "DL - MAPE: 0.2497, MAE: 10.8377, RMSE: 32.7672, R2: 0.9876\n",
      "\n",
      "Repeat 9/10\n"
     ]
    },
    {
     "name": "stderr",
     "output_type": "stream",
     "text": [
      "c:\\Users\\rezab\\anaconda3\\Lib\\site-packages\\sklearn\\utils\\validation.py:2732: UserWarning: X has feature names, but StandardScaler was fitted without feature names\n",
      "  warnings.warn(\n"
     ]
    },
    {
     "name": "stdout",
     "output_type": "stream",
     "text": [
      "\u001b[1m39/39\u001b[0m \u001b[32m━━━━━━━━━━━━━━━━━━━━\u001b[0m\u001b[37m\u001b[0m \u001b[1m0s\u001b[0m 2ms/step\n",
      "LR - MAPE: 26.9071, MAE: 164.7959, RMSE: 230.5150, R2: 0.4344\n",
      "DL - MAPE: 0.2591, MAE: 10.7272, RMSE: 31.3676, R2: 0.9895\n",
      "\n",
      "Repeat 10/10\n"
     ]
    },
    {
     "name": "stderr",
     "output_type": "stream",
     "text": [
      "c:\\Users\\rezab\\anaconda3\\Lib\\site-packages\\sklearn\\utils\\validation.py:2732: UserWarning: X has feature names, but StandardScaler was fitted without feature names\n",
      "  warnings.warn(\n"
     ]
    },
    {
     "name": "stdout",
     "output_type": "stream",
     "text": [
      "\u001b[1m39/39\u001b[0m \u001b[32m━━━━━━━━━━━━━━━━━━━━\u001b[0m\u001b[37m\u001b[0m \u001b[1m0s\u001b[0m 2ms/step\n",
      "LR - MAPE: 27.6914, MAE: 169.0560, RMSE: 231.3371, R2: 0.3923\n",
      "DL - MAPE: 0.2052, MAE: 9.9973, RMSE: 29.2726, R2: 0.9903\n",
      "\n",
      "==================================================\n",
      "Processing system: lrzip\n",
      "==================================================\n",
      "\n",
      "> System: lrzip, Dataset: ambivert.wav.tar.csv\n",
      "> Training data fraction: 0.7, Number of repeats: 10\n",
      "\n",
      "Repeat 1/10\n"
     ]
    },
    {
     "name": "stderr",
     "output_type": "stream",
     "text": [
      "c:\\Users\\rezab\\anaconda3\\Lib\\site-packages\\sklearn\\utils\\validation.py:2732: UserWarning: X has feature names, but StandardScaler was fitted without feature names\n",
      "  warnings.warn(\n"
     ]
    },
    {
     "name": "stdout",
     "output_type": "stream",
     "text": [
      "\u001b[1m2/2\u001b[0m \u001b[32m━━━━━━━━━━━━━━━━━━━━\u001b[0m\u001b[37m\u001b[0m \u001b[1m0s\u001b[0m 50ms/step\n",
      "LR - MAPE: 1.6360, MAE: 15.4194, RMSE: 25.0288, R2: -0.1478\n",
      "DL - MAPE: 0.4697, MAE: 10.6537, RMSE: 24.9616, R2: -0.1417\n",
      "\n",
      "Repeat 2/10\n"
     ]
    },
    {
     "name": "stderr",
     "output_type": "stream",
     "text": [
      "c:\\Users\\rezab\\anaconda3\\Lib\\site-packages\\sklearn\\utils\\validation.py:2732: UserWarning: X has feature names, but StandardScaler was fitted without feature names\n",
      "  warnings.warn(\n"
     ]
    },
    {
     "name": "stdout",
     "output_type": "stream",
     "text": [
      "WARNING:tensorflow:5 out of the last 42 calls to <function TensorFlowTrainer.make_predict_function.<locals>.one_step_on_data_distributed at 0x000002219598D940> triggered tf.function retracing. Tracing is expensive and the excessive number of tracings could be due to (1) creating @tf.function repeatedly in a loop, (2) passing tensors with different shapes, (3) passing Python objects instead of tensors. For (1), please define your @tf.function outside of the loop. For (2), @tf.function has reduce_retracing=True option that can avoid unnecessary retracing. For (3), please refer to https://www.tensorflow.org/guide/function#controlling_retracing and https://www.tensorflow.org/api_docs/python/tf/function for  more details.\n",
      "\u001b[1m1/2\u001b[0m \u001b[32m━━━━━━━━━━\u001b[0m\u001b[37m━━━━━━━━━━\u001b[0m \u001b[1m0s\u001b[0m 50ms/stepWARNING:tensorflow:6 out of the last 43 calls to <function TensorFlowTrainer.make_predict_function.<locals>.one_step_on_data_distributed at 0x000002219598D940> triggered tf.function retracing. Tracing is expensive and the excessive number of tracings could be due to (1) creating @tf.function repeatedly in a loop, (2) passing tensors with different shapes, (3) passing Python objects instead of tensors. For (1), please define your @tf.function outside of the loop. For (2), @tf.function has reduce_retracing=True option that can avoid unnecessary retracing. For (3), please refer to https://www.tensorflow.org/guide/function#controlling_retracing and https://www.tensorflow.org/api_docs/python/tf/function for  more details.\n",
      "\u001b[1m2/2\u001b[0m \u001b[32m━━━━━━━━━━━━━━━━━━━━\u001b[0m\u001b[37m\u001b[0m \u001b[1m0s\u001b[0m 49ms/step\n",
      "LR - MAPE: 1.6718, MAE: 15.4179, RMSE: 25.8101, R2: -0.0629\n",
      "DL - MAPE: 0.4583, MAE: 11.3660, RMSE: 26.9118, R2: -0.1556\n",
      "\n",
      "Repeat 3/10\n"
     ]
    },
    {
     "name": "stderr",
     "output_type": "stream",
     "text": [
      "c:\\Users\\rezab\\anaconda3\\Lib\\site-packages\\sklearn\\utils\\validation.py:2732: UserWarning: X has feature names, but StandardScaler was fitted without feature names\n",
      "  warnings.warn(\n"
     ]
    },
    {
     "name": "stdout",
     "output_type": "stream",
     "text": [
      "\u001b[1m2/2\u001b[0m \u001b[32m━━━━━━━━━━━━━━━━━━━━\u001b[0m\u001b[37m\u001b[0m \u001b[1m0s\u001b[0m 49ms/step\n",
      "LR - MAPE: 1.7708, MAE: 14.5408, RMSE: 22.8800, R2: -0.0052\n",
      "DL - MAPE: 0.4796, MAE: 9.2050, RMSE: 23.6756, R2: -0.0764\n",
      "\n",
      "Repeat 4/10\n"
     ]
    },
    {
     "name": "stderr",
     "output_type": "stream",
     "text": [
      "c:\\Users\\rezab\\anaconda3\\Lib\\site-packages\\sklearn\\utils\\validation.py:2732: UserWarning: X has feature names, but StandardScaler was fitted without feature names\n",
      "  warnings.warn(\n"
     ]
    },
    {
     "name": "stdout",
     "output_type": "stream",
     "text": [
      "\u001b[1m2/2\u001b[0m \u001b[32m━━━━━━━━━━━━━━━━━━━━\u001b[0m\u001b[37m\u001b[0m \u001b[1m0s\u001b[0m 50ms/step\n",
      "LR - MAPE: 1.9548, MAE: 10.7892, RMSE: 15.1644, R2: -0.4573\n",
      "DL - MAPE: 0.4007, MAE: 4.8719, RMSE: 12.7537, R2: -0.0308\n",
      "\n",
      "Repeat 5/10\n"
     ]
    },
    {
     "name": "stderr",
     "output_type": "stream",
     "text": [
      "c:\\Users\\rezab\\anaconda3\\Lib\\site-packages\\sklearn\\utils\\validation.py:2732: UserWarning: X has feature names, but StandardScaler was fitted without feature names\n",
      "  warnings.warn(\n"
     ]
    },
    {
     "name": "stdout",
     "output_type": "stream",
     "text": [
      "\u001b[1m2/2\u001b[0m \u001b[32m━━━━━━━━━━━━━━━━━━━━\u001b[0m\u001b[37m\u001b[0m \u001b[1m0s\u001b[0m 50ms/step\n",
      "LR - MAPE: 1.9705, MAE: 13.1531, RMSE: 19.0724, R2: -0.1072\n",
      "DL - MAPE: 0.4548, MAE: 6.8207, RMSE: 18.8248, R2: -0.0786\n",
      "\n",
      "Repeat 6/10\n"
     ]
    },
    {
     "name": "stderr",
     "output_type": "stream",
     "text": [
      "c:\\Users\\rezab\\anaconda3\\Lib\\site-packages\\sklearn\\utils\\validation.py:2732: UserWarning: X has feature names, but StandardScaler was fitted without feature names\n",
      "  warnings.warn(\n"
     ]
    },
    {
     "name": "stdout",
     "output_type": "stream",
     "text": [
      "\u001b[1m2/2\u001b[0m \u001b[32m━━━━━━━━━━━━━━━━━━━━\u001b[0m\u001b[37m\u001b[0m \u001b[1m0s\u001b[0m 48ms/step\n",
      "LR - MAPE: 1.3504, MAE: 11.0243, RMSE: 16.7235, R2: -0.0453\n",
      "DL - MAPE: 0.4489, MAE: 6.9896, RMSE: 16.9749, R2: -0.0769\n",
      "\n",
      "Repeat 7/10\n"
     ]
    },
    {
     "name": "stderr",
     "output_type": "stream",
     "text": [
      "c:\\Users\\rezab\\anaconda3\\Lib\\site-packages\\sklearn\\utils\\validation.py:2732: UserWarning: X has feature names, but StandardScaler was fitted without feature names\n",
      "  warnings.warn(\n"
     ]
    },
    {
     "name": "stdout",
     "output_type": "stream",
     "text": [
      "\u001b[1m2/2\u001b[0m \u001b[32m━━━━━━━━━━━━━━━━━━━━\u001b[0m\u001b[37m\u001b[0m \u001b[1m0s\u001b[0m 49ms/step\n",
      "LR - MAPE: 1.4071, MAE: 15.5795, RMSE: 25.1686, R2: -0.1036\n",
      "DL - MAPE: 0.4636, MAE: 11.6216, RMSE: 25.6501, R2: -0.1463\n",
      "\n",
      "Repeat 8/10\n"
     ]
    },
    {
     "name": "stderr",
     "output_type": "stream",
     "text": [
      "c:\\Users\\rezab\\anaconda3\\Lib\\site-packages\\sklearn\\utils\\validation.py:2732: UserWarning: X has feature names, but StandardScaler was fitted without feature names\n",
      "  warnings.warn(\n"
     ]
    },
    {
     "name": "stdout",
     "output_type": "stream",
     "text": [
      "\u001b[1m2/2\u001b[0m \u001b[32m━━━━━━━━━━━━━━━━━━━━\u001b[0m\u001b[37m\u001b[0m \u001b[1m0s\u001b[0m 49ms/step\n",
      "LR - MAPE: 1.6163, MAE: 13.2570, RMSE: 22.0299, R2: -0.1756\n",
      "DL - MAPE: 0.5206, MAE: 8.4233, RMSE: 21.0311, R2: -0.0714\n",
      "\n",
      "Repeat 9/10\n"
     ]
    },
    {
     "name": "stderr",
     "output_type": "stream",
     "text": [
      "c:\\Users\\rezab\\anaconda3\\Lib\\site-packages\\sklearn\\utils\\validation.py:2732: UserWarning: X has feature names, but StandardScaler was fitted without feature names\n",
      "  warnings.warn(\n"
     ]
    },
    {
     "name": "stdout",
     "output_type": "stream",
     "text": [
      "\u001b[1m2/2\u001b[0m \u001b[32m━━━━━━━━━━━━━━━━━━━━\u001b[0m\u001b[37m\u001b[0m \u001b[1m0s\u001b[0m 48ms/step\n",
      "LR - MAPE: 1.8451, MAE: 13.2048, RMSE: 19.8232, R2: -0.0847\n",
      "DL - MAPE: 0.5418, MAE: 8.7203, RMSE: 20.0083, R2: -0.1051\n",
      "\n",
      "Repeat 10/10\n"
     ]
    },
    {
     "name": "stderr",
     "output_type": "stream",
     "text": [
      "c:\\Users\\rezab\\anaconda3\\Lib\\site-packages\\sklearn\\utils\\validation.py:2732: UserWarning: X has feature names, but StandardScaler was fitted without feature names\n",
      "  warnings.warn(\n"
     ]
    },
    {
     "name": "stdout",
     "output_type": "stream",
     "text": [
      "\u001b[1m2/2\u001b[0m \u001b[32m━━━━━━━━━━━━━━━━━━━━\u001b[0m\u001b[37m\u001b[0m \u001b[1m0s\u001b[0m 50ms/step\n",
      "LR - MAPE: 1.1149, MAE: 12.4940, RMSE: 21.6538, R2: -0.1028\n",
      "DL - MAPE: 0.4632, MAE: 9.6044, RMSE: 21.9680, R2: -0.1350\n",
      "\n",
      "> System: lrzip, Dataset: artificl.tar.csv\n",
      "> Training data fraction: 0.7, Number of repeats: 10\n",
      "\n",
      "Repeat 1/10\n"
     ]
    },
    {
     "name": "stderr",
     "output_type": "stream",
     "text": [
      "c:\\Users\\rezab\\anaconda3\\Lib\\site-packages\\sklearn\\utils\\validation.py:2732: UserWarning: X has feature names, but StandardScaler was fitted without feature names\n",
      "  warnings.warn(\n"
     ]
    },
    {
     "name": "stdout",
     "output_type": "stream",
     "text": [
      "\u001b[1m2/2\u001b[0m \u001b[32m━━━━━━━━━━━━━━━━━━━━\u001b[0m\u001b[37m\u001b[0m \u001b[1m0s\u001b[0m 46ms/step\n",
      "LR - MAPE: 14.5946, MAE: 1.3545, RMSE: 1.5050, R2: -0.0783\n",
      "DL - MAPE: 9.1778, MAE: 1.2132, RMSE: 1.6604, R2: -0.3125\n",
      "\n",
      "Repeat 2/10\n"
     ]
    },
    {
     "name": "stderr",
     "output_type": "stream",
     "text": [
      "c:\\Users\\rezab\\anaconda3\\Lib\\site-packages\\sklearn\\utils\\validation.py:2732: UserWarning: X has feature names, but StandardScaler was fitted without feature names\n",
      "  warnings.warn(\n"
     ]
    },
    {
     "name": "stdout",
     "output_type": "stream",
     "text": [
      "\u001b[1m2/2\u001b[0m \u001b[32m━━━━━━━━━━━━━━━━━━━━\u001b[0m\u001b[37m\u001b[0m \u001b[1m0s\u001b[0m 50ms/step\n",
      "LR - MAPE: 20.1514, MAE: 1.2882, RMSE: 1.4587, R2: -0.0435\n",
      "DL - MAPE: 17.6075, MAE: 1.1074, RMSE: 1.4721, R2: -0.0628\n",
      "\n",
      "Repeat 3/10\n"
     ]
    },
    {
     "name": "stderr",
     "output_type": "stream",
     "text": [
      "c:\\Users\\rezab\\anaconda3\\Lib\\site-packages\\sklearn\\utils\\validation.py:2732: UserWarning: X has feature names, but StandardScaler was fitted without feature names\n",
      "  warnings.warn(\n"
     ]
    },
    {
     "name": "stdout",
     "output_type": "stream",
     "text": [
      "\u001b[1m2/2\u001b[0m \u001b[32m━━━━━━━━━━━━━━━━━━━━\u001b[0m\u001b[37m\u001b[0m \u001b[1m0s\u001b[0m 46ms/step\n",
      "LR - MAPE: 14.7592, MAE: 1.2523, RMSE: 1.3761, R2: 0.1161\n",
      "DL - MAPE: 9.4218, MAE: 0.9693, RMSE: 1.4736, R2: -0.0137\n",
      "\n",
      "Repeat 4/10\n"
     ]
    },
    {
     "name": "stderr",
     "output_type": "stream",
     "text": [
      "c:\\Users\\rezab\\anaconda3\\Lib\\site-packages\\sklearn\\utils\\validation.py:2732: UserWarning: X has feature names, but StandardScaler was fitted without feature names\n",
      "  warnings.warn(\n"
     ]
    },
    {
     "name": "stdout",
     "output_type": "stream",
     "text": [
      "\u001b[1m2/2\u001b[0m \u001b[32m━━━━━━━━━━━━━━━━━━━━\u001b[0m\u001b[37m\u001b[0m \u001b[1m0s\u001b[0m 45ms/step\n",
      "LR - MAPE: 15.2882, MAE: 1.2945, RMSE: 1.4105, R2: 0.0562\n",
      "DL - MAPE: 13.1255, MAE: 1.0652, RMSE: 1.4403, R2: 0.0159\n",
      "\n",
      "Repeat 5/10\n"
     ]
    },
    {
     "name": "stderr",
     "output_type": "stream",
     "text": [
      "c:\\Users\\rezab\\anaconda3\\Lib\\site-packages\\sklearn\\utils\\validation.py:2732: UserWarning: X has feature names, but StandardScaler was fitted without feature names\n",
      "  warnings.warn(\n"
     ]
    },
    {
     "name": "stdout",
     "output_type": "stream",
     "text": [
      "\u001b[1m2/2\u001b[0m \u001b[32m━━━━━━━━━━━━━━━━━━━━\u001b[0m\u001b[37m\u001b[0m \u001b[1m0s\u001b[0m 46ms/step\n",
      "LR - MAPE: 15.3388, MAE: 1.3137, RMSE: 1.4889, R2: -0.0466\n",
      "DL - MAPE: 11.5983, MAE: 1.1785, RMSE: 1.6003, R2: -0.2090\n",
      "\n",
      "Repeat 6/10\n"
     ]
    },
    {
     "name": "stderr",
     "output_type": "stream",
     "text": [
      "c:\\Users\\rezab\\anaconda3\\Lib\\site-packages\\sklearn\\utils\\validation.py:2732: UserWarning: X has feature names, but StandardScaler was fitted without feature names\n",
      "  warnings.warn(\n"
     ]
    },
    {
     "name": "stdout",
     "output_type": "stream",
     "text": [
      "\u001b[1m2/2\u001b[0m \u001b[32m━━━━━━━━━━━━━━━━━━━━\u001b[0m\u001b[37m\u001b[0m \u001b[1m0s\u001b[0m 46ms/step\n",
      "LR - MAPE: 9.6701, MAE: 1.2162, RMSE: 1.3791, R2: 0.0868\n",
      "DL - MAPE: 1.9470, MAE: 1.6148, RMSE: 2.0399, R2: -0.9981\n",
      "\n",
      "Repeat 7/10\n"
     ]
    },
    {
     "name": "stderr",
     "output_type": "stream",
     "text": [
      "c:\\Users\\rezab\\anaconda3\\Lib\\site-packages\\sklearn\\utils\\validation.py:2732: UserWarning: X has feature names, but StandardScaler was fitted without feature names\n",
      "  warnings.warn(\n"
     ]
    },
    {
     "name": "stdout",
     "output_type": "stream",
     "text": [
      "\u001b[1m2/2\u001b[0m \u001b[32m━━━━━━━━━━━━━━━━━━━━\u001b[0m\u001b[37m\u001b[0m \u001b[1m0s\u001b[0m 53ms/step\n",
      "LR - MAPE: 10.4038, MAE: 1.2670, RMSE: 1.4440, R2: 0.0128\n",
      "DL - MAPE: 7.2081, MAE: 1.1511, RMSE: 1.6369, R2: -0.2686\n",
      "\n",
      "Repeat 8/10\n"
     ]
    },
    {
     "name": "stderr",
     "output_type": "stream",
     "text": [
      "c:\\Users\\rezab\\anaconda3\\Lib\\site-packages\\sklearn\\utils\\validation.py:2732: UserWarning: X has feature names, but StandardScaler was fitted without feature names\n",
      "  warnings.warn(\n"
     ]
    },
    {
     "name": "stdout",
     "output_type": "stream",
     "text": [
      "\u001b[1m2/2\u001b[0m \u001b[32m━━━━━━━━━━━━━━━━━━━━\u001b[0m\u001b[37m\u001b[0m \u001b[1m0s\u001b[0m 46ms/step\n",
      "LR - MAPE: 18.3162, MAE: 1.2229, RMSE: 1.4251, R2: 0.0517\n",
      "DL - MAPE: 10.3363, MAE: 0.9331, RMSE: 1.3798, R2: 0.1110\n",
      "\n",
      "Repeat 9/10\n"
     ]
    },
    {
     "name": "stderr",
     "output_type": "stream",
     "text": [
      "c:\\Users\\rezab\\anaconda3\\Lib\\site-packages\\sklearn\\utils\\validation.py:2732: UserWarning: X has feature names, but StandardScaler was fitted without feature names\n",
      "  warnings.warn(\n"
     ]
    },
    {
     "name": "stdout",
     "output_type": "stream",
     "text": [
      "\u001b[1m2/2\u001b[0m \u001b[32m━━━━━━━━━━━━━━━━━━━━\u001b[0m\u001b[37m\u001b[0m \u001b[1m0s\u001b[0m 49ms/step\n",
      "LR - MAPE: 13.7272, MAE: 1.3296, RMSE: 1.4864, R2: -0.0419\n",
      "DL - MAPE: 9.9877, MAE: 1.2045, RMSE: 1.6487, R2: -0.2817\n",
      "\n",
      "Repeat 10/10\n"
     ]
    },
    {
     "name": "stderr",
     "output_type": "stream",
     "text": [
      "c:\\Users\\rezab\\anaconda3\\Lib\\site-packages\\sklearn\\utils\\validation.py:2732: UserWarning: X has feature names, but StandardScaler was fitted without feature names\n",
      "  warnings.warn(\n"
     ]
    },
    {
     "name": "stdout",
     "output_type": "stream",
     "text": [
      "\u001b[1m2/2\u001b[0m \u001b[32m━━━━━━━━━━━━━━━━━━━━\u001b[0m\u001b[37m\u001b[0m \u001b[1m0s\u001b[0m 49ms/step\n",
      "LR - MAPE: 10.1857, MAE: 1.2687, RMSE: 1.4167, R2: 0.0357\n",
      "DL - MAPE: 8.4785, MAE: 1.2488, RMSE: 1.6433, R2: -0.2973\n",
      "\n",
      "> System: lrzip, Dataset: deepfield.tar.csv\n",
      "> Training data fraction: 0.7, Number of repeats: 10\n",
      "\n",
      "Repeat 1/10\n"
     ]
    },
    {
     "name": "stderr",
     "output_type": "stream",
     "text": [
      "c:\\Users\\rezab\\anaconda3\\Lib\\site-packages\\sklearn\\utils\\validation.py:2732: UserWarning: X has feature names, but StandardScaler was fitted without feature names\n",
      "  warnings.warn(\n"
     ]
    },
    {
     "name": "stdout",
     "output_type": "stream",
     "text": [
      "\u001b[1m2/2\u001b[0m \u001b[32m━━━━━━━━━━━━━━━━━━━━\u001b[0m\u001b[37m\u001b[0m \u001b[1m0s\u001b[0m 47ms/step\n",
      "LR - MAPE: 1.6318, MAE: 14.9494, RMSE: 23.9330, R2: -0.1473\n",
      "DL - MAPE: 0.4135, MAE: 10.3496, RMSE: 24.0857, R2: -0.1620\n",
      "\n",
      "Repeat 2/10\n"
     ]
    },
    {
     "name": "stderr",
     "output_type": "stream",
     "text": [
      "c:\\Users\\rezab\\anaconda3\\Lib\\site-packages\\sklearn\\utils\\validation.py:2732: UserWarning: X has feature names, but StandardScaler was fitted without feature names\n",
      "  warnings.warn(\n"
     ]
    },
    {
     "name": "stdout",
     "output_type": "stream",
     "text": [
      "\u001b[1m2/2\u001b[0m \u001b[32m━━━━━━━━━━━━━━━━━━━━\u001b[0m\u001b[37m\u001b[0m \u001b[1m0s\u001b[0m 46ms/step\n",
      "LR - MAPE: 1.6468, MAE: 14.8844, RMSE: 24.9507, R2: -0.0531\n",
      "DL - MAPE: 0.5235, MAE: 11.2491, RMSE: 25.9162, R2: -0.1361\n",
      "\n",
      "Repeat 3/10\n"
     ]
    },
    {
     "name": "stderr",
     "output_type": "stream",
     "text": [
      "c:\\Users\\rezab\\anaconda3\\Lib\\site-packages\\sklearn\\utils\\validation.py:2732: UserWarning: X has feature names, but StandardScaler was fitted without feature names\n",
      "  warnings.warn(\n"
     ]
    },
    {
     "name": "stdout",
     "output_type": "stream",
     "text": [
      "\u001b[1m2/2\u001b[0m \u001b[32m━━━━━━━━━━━━━━━━━━━━\u001b[0m\u001b[37m\u001b[0m \u001b[1m0s\u001b[0m 49ms/step\n",
      "LR - MAPE: 1.7425, MAE: 14.2133, RMSE: 22.0621, R2: -0.0007\n",
      "DL - MAPE: 0.4808, MAE: 9.0137, RMSE: 22.9117, R2: -0.0793\n",
      "\n",
      "Repeat 4/10\n"
     ]
    },
    {
     "name": "stderr",
     "output_type": "stream",
     "text": [
      "c:\\Users\\rezab\\anaconda3\\Lib\\site-packages\\sklearn\\utils\\validation.py:2732: UserWarning: X has feature names, but StandardScaler was fitted without feature names\n",
      "  warnings.warn(\n"
     ]
    },
    {
     "name": "stdout",
     "output_type": "stream",
     "text": [
      "\u001b[1m2/2\u001b[0m \u001b[32m━━━━━━━━━━━━━━━━━━━━\u001b[0m\u001b[37m\u001b[0m \u001b[1m0s\u001b[0m 53ms/step\n",
      "LR - MAPE: 1.9369, MAE: 10.4121, RMSE: 14.7287, R2: -0.4038\n",
      "DL - MAPE: 0.5617, MAE: 5.2623, RMSE: 12.5187, R2: -0.0142\n",
      "\n",
      "Repeat 5/10\n"
     ]
    },
    {
     "name": "stderr",
     "output_type": "stream",
     "text": [
      "c:\\Users\\rezab\\anaconda3\\Lib\\site-packages\\sklearn\\utils\\validation.py:2732: UserWarning: X has feature names, but StandardScaler was fitted without feature names\n",
      "  warnings.warn(\n"
     ]
    },
    {
     "name": "stdout",
     "output_type": "stream",
     "text": [
      "\u001b[1m2/2\u001b[0m \u001b[32m━━━━━━━━━━━━━━━━━━━━\u001b[0m\u001b[37m\u001b[0m \u001b[1m0s\u001b[0m 46ms/step\n",
      "LR - MAPE: 1.9252, MAE: 12.7720, RMSE: 18.4540, R2: -0.0935\n",
      "DL - MAPE: 0.4191, MAE: 6.6243, RMSE: 18.2927, R2: -0.0745\n",
      "\n",
      "Repeat 6/10\n"
     ]
    },
    {
     "name": "stderr",
     "output_type": "stream",
     "text": [
      "c:\\Users\\rezab\\anaconda3\\Lib\\site-packages\\sklearn\\utils\\validation.py:2732: UserWarning: X has feature names, but StandardScaler was fitted without feature names\n",
      "  warnings.warn(\n"
     ]
    },
    {
     "name": "stdout",
     "output_type": "stream",
     "text": [
      "\u001b[1m2/2\u001b[0m \u001b[32m━━━━━━━━━━━━━━━━━━━━\u001b[0m\u001b[37m\u001b[0m \u001b[1m0s\u001b[0m 45ms/step\n",
      "LR - MAPE: 1.3163, MAE: 10.9365, RMSE: 16.8396, R2: -0.0430\n",
      "DL - MAPE: 0.3706, MAE: 6.9115, RMSE: 17.3717, R2: -0.1099\n",
      "\n",
      "Repeat 7/10\n"
     ]
    },
    {
     "name": "stderr",
     "output_type": "stream",
     "text": [
      "c:\\Users\\rezab\\anaconda3\\Lib\\site-packages\\sklearn\\utils\\validation.py:2732: UserWarning: X has feature names, but StandardScaler was fitted without feature names\n",
      "  warnings.warn(\n"
     ]
    },
    {
     "name": "stdout",
     "output_type": "stream",
     "text": [
      "\u001b[1m2/2\u001b[0m \u001b[32m━━━━━━━━━━━━━━━━━━━━\u001b[0m\u001b[37m\u001b[0m \u001b[1m0s\u001b[0m 47ms/step\n",
      "LR - MAPE: 1.3757, MAE: 15.5092, RMSE: 25.1515, R2: -0.0934\n",
      "DL - MAPE: 0.5221, MAE: 12.0666, RMSE: 25.6662, R2: -0.1386\n",
      "\n",
      "Repeat 8/10\n"
     ]
    },
    {
     "name": "stderr",
     "output_type": "stream",
     "text": [
      "c:\\Users\\rezab\\anaconda3\\Lib\\site-packages\\sklearn\\utils\\validation.py:2732: UserWarning: X has feature names, but StandardScaler was fitted without feature names\n",
      "  warnings.warn(\n"
     ]
    },
    {
     "name": "stdout",
     "output_type": "stream",
     "text": [
      "\u001b[1m2/2\u001b[0m \u001b[32m━━━━━━━━━━━━━━━━━━━━\u001b[0m\u001b[37m\u001b[0m \u001b[1m0s\u001b[0m 46ms/step\n",
      "LR - MAPE: 1.5947, MAE: 12.9283, RMSE: 21.5707, R2: -0.1782\n",
      "DL - MAPE: 0.4220, MAE: 7.9543, RMSE: 20.8367, R2: -0.0993\n",
      "\n",
      "Repeat 9/10\n"
     ]
    },
    {
     "name": "stderr",
     "output_type": "stream",
     "text": [
      "c:\\Users\\rezab\\anaconda3\\Lib\\site-packages\\sklearn\\utils\\validation.py:2732: UserWarning: X has feature names, but StandardScaler was fitted without feature names\n",
      "  warnings.warn(\n"
     ]
    },
    {
     "name": "stdout",
     "output_type": "stream",
     "text": [
      "\u001b[1m2/2\u001b[0m \u001b[32m━━━━━━━━━━━━━━━━━━━━\u001b[0m\u001b[37m\u001b[0m \u001b[1m0s\u001b[0m 52ms/step\n",
      "LR - MAPE: 1.8442, MAE: 12.7920, RMSE: 18.5082, R2: -0.1030\n",
      "DL - MAPE: 0.5325, MAE: 8.5250, RMSE: 18.5916, R2: -0.1130\n",
      "\n",
      "Repeat 10/10\n"
     ]
    },
    {
     "name": "stderr",
     "output_type": "stream",
     "text": [
      "c:\\Users\\rezab\\anaconda3\\Lib\\site-packages\\sklearn\\utils\\validation.py:2732: UserWarning: X has feature names, but StandardScaler was fitted without feature names\n",
      "  warnings.warn(\n"
     ]
    },
    {
     "name": "stdout",
     "output_type": "stream",
     "text": [
      "\u001b[1m2/2\u001b[0m \u001b[32m━━━━━━━━━━━━━━━━━━━━\u001b[0m\u001b[37m\u001b[0m \u001b[1m0s\u001b[0m 48ms/step\n",
      "LR - MAPE: 1.1289, MAE: 12.5329, RMSE: 22.2381, R2: -0.0945\n",
      "DL - MAPE: 0.4426, MAE: 10.0362, RMSE: 22.9069, R2: -0.1614\n",
      "\n",
      "> System: lrzip, Dataset: enwik8.tar.csv\n",
      "> Training data fraction: 0.7, Number of repeats: 10\n",
      "\n",
      "Repeat 1/10\n"
     ]
    },
    {
     "name": "stderr",
     "output_type": "stream",
     "text": [
      "c:\\Users\\rezab\\anaconda3\\Lib\\site-packages\\sklearn\\utils\\validation.py:2732: UserWarning: X has feature names, but StandardScaler was fitted without feature names\n",
      "  warnings.warn(\n"
     ]
    },
    {
     "name": "stdout",
     "output_type": "stream",
     "text": [
      "\u001b[1m2/2\u001b[0m \u001b[32m━━━━━━━━━━━━━━━━━━━━\u001b[0m\u001b[37m\u001b[0m \u001b[1m0s\u001b[0m 46ms/step\n",
      "LR - MAPE: 1.1351, MAE: 20.1364, RMSE: 28.5370, R2: -0.1474\n",
      "DL - MAPE: 0.3727, MAE: 14.7087, RMSE: 29.8222, R2: -0.2531\n",
      "\n",
      "Repeat 2/10\n"
     ]
    },
    {
     "name": "stderr",
     "output_type": "stream",
     "text": [
      "c:\\Users\\rezab\\anaconda3\\Lib\\site-packages\\sklearn\\utils\\validation.py:2732: UserWarning: X has feature names, but StandardScaler was fitted without feature names\n",
      "  warnings.warn(\n"
     ]
    },
    {
     "name": "stdout",
     "output_type": "stream",
     "text": [
      "\u001b[1m2/2\u001b[0m \u001b[32m━━━━━━━━━━━━━━━━━━━━\u001b[0m\u001b[37m\u001b[0m \u001b[1m0s\u001b[0m 45ms/step\n",
      "LR - MAPE: 1.1341, MAE: 19.0547, RMSE: 28.5163, R2: -0.0813\n",
      "DL - MAPE: 0.4021, MAE: 13.9760, RMSE: 29.2529, R2: -0.1379\n",
      "\n",
      "Repeat 3/10\n"
     ]
    },
    {
     "name": "stderr",
     "output_type": "stream",
     "text": [
      "c:\\Users\\rezab\\anaconda3\\Lib\\site-packages\\sklearn\\utils\\validation.py:2732: UserWarning: X has feature names, but StandardScaler was fitted without feature names\n",
      "  warnings.warn(\n"
     ]
    },
    {
     "name": "stdout",
     "output_type": "stream",
     "text": [
      "\u001b[1m2/2\u001b[0m \u001b[32m━━━━━━━━━━━━━━━━━━━━\u001b[0m\u001b[37m\u001b[0m \u001b[1m0s\u001b[0m 50ms/step\n",
      "LR - MAPE: 1.2513, MAE: 18.8609, RMSE: 26.3597, R2: 0.0175\n",
      "DL - MAPE: 0.3430, MAE: 11.4730, RMSE: 27.3121, R2: -0.0548\n",
      "\n",
      "Repeat 4/10\n"
     ]
    },
    {
     "name": "stderr",
     "output_type": "stream",
     "text": [
      "c:\\Users\\rezab\\anaconda3\\Lib\\site-packages\\sklearn\\utils\\validation.py:2732: UserWarning: X has feature names, but StandardScaler was fitted without feature names\n",
      "  warnings.warn(\n"
     ]
    },
    {
     "name": "stdout",
     "output_type": "stream",
     "text": [
      "\u001b[1m2/2\u001b[0m \u001b[32m━━━━━━━━━━━━━━━━━━━━\u001b[0m\u001b[37m\u001b[0m \u001b[1m0s\u001b[0m 49ms/step\n",
      "LR - MAPE: 1.2919, MAE: 15.4053, RMSE: 18.8353, R2: -0.1572\n",
      "DL - MAPE: 0.3320, MAE: 7.9299, RMSE: 17.7731, R2: -0.0304\n",
      "\n",
      "Repeat 5/10\n"
     ]
    },
    {
     "name": "stderr",
     "output_type": "stream",
     "text": [
      "c:\\Users\\rezab\\anaconda3\\Lib\\site-packages\\sklearn\\utils\\validation.py:2732: UserWarning: X has feature names, but StandardScaler was fitted without feature names\n",
      "  warnings.warn(\n"
     ]
    },
    {
     "name": "stdout",
     "output_type": "stream",
     "text": [
      "\u001b[1m2/2\u001b[0m \u001b[32m━━━━━━━━━━━━━━━━━━━━\u001b[0m\u001b[37m\u001b[0m \u001b[1m0s\u001b[0m 45ms/step\n",
      "LR - MAPE: 1.2873, MAE: 16.4673, RMSE: 21.8842, R2: -0.1239\n",
      "DL - MAPE: 0.3304, MAE: 8.3265, RMSE: 20.8571, R2: -0.0209\n",
      "\n",
      "Repeat 6/10\n"
     ]
    },
    {
     "name": "stderr",
     "output_type": "stream",
     "text": [
      "c:\\Users\\rezab\\anaconda3\\Lib\\site-packages\\sklearn\\utils\\validation.py:2732: UserWarning: X has feature names, but StandardScaler was fitted without feature names\n",
      "  warnings.warn(\n"
     ]
    },
    {
     "name": "stdout",
     "output_type": "stream",
     "text": [
      "\u001b[1m2/2\u001b[0m \u001b[32m━━━━━━━━━━━━━━━━━━━━\u001b[0m\u001b[37m\u001b[0m \u001b[1m0s\u001b[0m 45ms/step\n",
      "LR - MAPE: 0.9077, MAE: 15.8328, RMSE: 22.9172, R2: 0.0431\n",
      "DL - MAPE: 0.2950, MAE: 10.9920, RMSE: 24.5709, R2: -0.1000\n",
      "\n",
      "Repeat 7/10\n"
     ]
    },
    {
     "name": "stderr",
     "output_type": "stream",
     "text": [
      "c:\\Users\\rezab\\anaconda3\\Lib\\site-packages\\sklearn\\utils\\validation.py:2732: UserWarning: X has feature names, but StandardScaler was fitted without feature names\n",
      "  warnings.warn(\n"
     ]
    },
    {
     "name": "stdout",
     "output_type": "stream",
     "text": [
      "\u001b[1m2/2\u001b[0m \u001b[32m━━━━━━━━━━━━━━━━━━━━\u001b[0m\u001b[37m\u001b[0m \u001b[1m0s\u001b[0m 46ms/step\n",
      "LR - MAPE: 1.0060, MAE: 21.1197, RMSE: 31.4204, R2: -0.0862\n",
      "DL - MAPE: 0.3868, MAE: 16.6904, RMSE: 32.9029, R2: -0.1911\n",
      "\n",
      "Repeat 8/10\n"
     ]
    },
    {
     "name": "stderr",
     "output_type": "stream",
     "text": [
      "c:\\Users\\rezab\\anaconda3\\Lib\\site-packages\\sklearn\\utils\\validation.py:2732: UserWarning: X has feature names, but StandardScaler was fitted without feature names\n",
      "  warnings.warn(\n"
     ]
    },
    {
     "name": "stdout",
     "output_type": "stream",
     "text": [
      "\u001b[1m2/2\u001b[0m \u001b[32m━━━━━━━━━━━━━━━━━━━━\u001b[0m\u001b[37m\u001b[0m \u001b[1m0s\u001b[0m 50ms/step\n",
      "LR - MAPE: 1.1862, MAE: 17.9452, RMSE: 25.9993, R2: -0.1320\n",
      "DL - MAPE: 0.3104, MAE: 10.8112, RMSE: 25.9564, R2: -0.1282\n",
      "\n",
      "Repeat 9/10\n"
     ]
    },
    {
     "name": "stderr",
     "output_type": "stream",
     "text": [
      "c:\\Users\\rezab\\anaconda3\\Lib\\site-packages\\sklearn\\utils\\validation.py:2732: UserWarning: X has feature names, but StandardScaler was fitted without feature names\n",
      "  warnings.warn(\n"
     ]
    },
    {
     "name": "stdout",
     "output_type": "stream",
     "text": [
      "\u001b[1m2/2\u001b[0m \u001b[32m━━━━━━━━━━━━━━━━━━━━\u001b[0m\u001b[37m\u001b[0m \u001b[1m0s\u001b[0m 51ms/step\n",
      "LR - MAPE: 1.1805, MAE: 18.5053, RMSE: 25.5994, R2: -0.0655\n",
      "DL - MAPE: 0.4092, MAE: 13.2112, RMSE: 26.5677, R2: -0.1476\n",
      "\n",
      "Repeat 10/10\n"
     ]
    },
    {
     "name": "stderr",
     "output_type": "stream",
     "text": [
      "c:\\Users\\rezab\\anaconda3\\Lib\\site-packages\\sklearn\\utils\\validation.py:2732: UserWarning: X has feature names, but StandardScaler was fitted without feature names\n",
      "  warnings.warn(\n"
     ]
    },
    {
     "name": "stdout",
     "output_type": "stream",
     "text": [
      "\u001b[1m2/2\u001b[0m \u001b[32m━━━━━━━━━━━━━━━━━━━━\u001b[0m\u001b[37m\u001b[0m \u001b[1m0s\u001b[0m 49ms/step\n",
      "LR - MAPE: 0.8575, MAE: 17.6660, RMSE: 27.7927, R2: -0.0836\n",
      "DL - MAPE: 0.3240, MAE: 14.2497, RMSE: 29.6198, R2: -0.2307\n",
      "\n",
      "> System: lrzip, Dataset: fannie_mae_500k.tar.csv\n",
      "> Training data fraction: 0.7, Number of repeats: 10\n",
      "\n",
      "Repeat 1/10\n"
     ]
    },
    {
     "name": "stderr",
     "output_type": "stream",
     "text": [
      "c:\\Users\\rezab\\anaconda3\\Lib\\site-packages\\sklearn\\utils\\validation.py:2732: UserWarning: X has feature names, but StandardScaler was fitted without feature names\n",
      "  warnings.warn(\n"
     ]
    },
    {
     "name": "stdout",
     "output_type": "stream",
     "text": [
      "\u001b[1m2/2\u001b[0m \u001b[32m━━━━━━━━━━━━━━━━━━━━\u001b[0m\u001b[37m\u001b[0m \u001b[1m0s\u001b[0m 46ms/step\n",
      "LR - MAPE: 0.1273, MAE: 5.5498, RMSE: 7.9751, R2: -0.1868\n",
      "DL - MAPE: 0.1326, MAE: 5.9186, RMSE: 8.7093, R2: -0.4154\n",
      "\n",
      "Repeat 2/10\n"
     ]
    },
    {
     "name": "stderr",
     "output_type": "stream",
     "text": [
      "c:\\Users\\rezab\\anaconda3\\Lib\\site-packages\\sklearn\\utils\\validation.py:2732: UserWarning: X has feature names, but StandardScaler was fitted without feature names\n",
      "  warnings.warn(\n"
     ]
    },
    {
     "name": "stdout",
     "output_type": "stream",
     "text": [
      "\u001b[1m2/2\u001b[0m \u001b[32m━━━━━━━━━━━━━━━━━━━━\u001b[0m\u001b[37m\u001b[0m \u001b[1m0s\u001b[0m 45ms/step\n",
      "LR - MAPE: 0.1293, MAE: 5.6214, RMSE: 8.2273, R2: -0.0940\n",
      "DL - MAPE: 0.1228, MAE: 5.6281, RMSE: 8.8766, R2: -0.2735\n",
      "\n",
      "Repeat 3/10\n"
     ]
    },
    {
     "name": "stderr",
     "output_type": "stream",
     "text": [
      "c:\\Users\\rezab\\anaconda3\\Lib\\site-packages\\sklearn\\utils\\validation.py:2732: UserWarning: X has feature names, but StandardScaler was fitted without feature names\n",
      "  warnings.warn(\n"
     ]
    },
    {
     "name": "stdout",
     "output_type": "stream",
     "text": [
      "\u001b[1m2/2\u001b[0m \u001b[32m━━━━━━━━━━━━━━━━━━━━\u001b[0m\u001b[37m\u001b[0m \u001b[1m0s\u001b[0m 48ms/step\n",
      "LR - MAPE: 0.1228, MAE: 5.2248, RMSE: 7.4604, R2: -0.0057\n",
      "DL - MAPE: 0.1107, MAE: 4.8244, RMSE: 7.3607, R2: 0.0210\n",
      "\n",
      "Repeat 4/10\n"
     ]
    },
    {
     "name": "stderr",
     "output_type": "stream",
     "text": [
      "c:\\Users\\rezab\\anaconda3\\Lib\\site-packages\\sklearn\\utils\\validation.py:2732: UserWarning: X has feature names, but StandardScaler was fitted without feature names\n",
      "  warnings.warn(\n"
     ]
    },
    {
     "name": "stdout",
     "output_type": "stream",
     "text": [
      "\u001b[1m2/2\u001b[0m \u001b[32m━━━━━━━━━━━━━━━━━━━━\u001b[0m\u001b[37m\u001b[0m \u001b[1m0s\u001b[0m 48ms/step\n",
      "LR - MAPE: 0.1092, MAE: 4.1756, RMSE: 5.4710, R2: -0.1988\n",
      "DL - MAPE: 0.0779, MAE: 3.1781, RMSE: 4.8778, R2: 0.0471\n",
      "\n",
      "Repeat 5/10\n"
     ]
    },
    {
     "name": "stderr",
     "output_type": "stream",
     "text": [
      "c:\\Users\\rezab\\anaconda3\\Lib\\site-packages\\sklearn\\utils\\validation.py:2732: UserWarning: X has feature names, but StandardScaler was fitted without feature names\n",
      "  warnings.warn(\n"
     ]
    },
    {
     "name": "stdout",
     "output_type": "stream",
     "text": [
      "\u001b[1m2/2\u001b[0m \u001b[32m━━━━━━━━━━━━━━━━━━━━\u001b[0m\u001b[37m\u001b[0m \u001b[1m0s\u001b[0m 46ms/step\n",
      "LR - MAPE: 0.1154, MAE: 4.5856, RMSE: 6.2886, R2: -0.1241\n",
      "DL - MAPE: 0.0972, MAE: 4.2045, RMSE: 7.0288, R2: -0.4043\n",
      "\n",
      "Repeat 6/10\n"
     ]
    },
    {
     "name": "stderr",
     "output_type": "stream",
     "text": [
      "c:\\Users\\rezab\\anaconda3\\Lib\\site-packages\\sklearn\\utils\\validation.py:2732: UserWarning: X has feature names, but StandardScaler was fitted without feature names\n",
      "  warnings.warn(\n"
     ]
    },
    {
     "name": "stdout",
     "output_type": "stream",
     "text": [
      "\u001b[1m2/2\u001b[0m \u001b[32m━━━━━━━━━━━━━━━━━━━━\u001b[0m\u001b[37m\u001b[0m \u001b[1m0s\u001b[0m 46ms/step\n",
      "LR - MAPE: 0.0971, MAE: 4.1576, RMSE: 6.1598, R2: -0.0073\n",
      "DL - MAPE: 0.0950, MAE: 4.3371, RMSE: 7.5207, R2: -0.5016\n",
      "\n",
      "Repeat 7/10\n"
     ]
    },
    {
     "name": "stderr",
     "output_type": "stream",
     "text": [
      "c:\\Users\\rezab\\anaconda3\\Lib\\site-packages\\sklearn\\utils\\validation.py:2732: UserWarning: X has feature names, but StandardScaler was fitted without feature names\n",
      "  warnings.warn(\n"
     ]
    },
    {
     "name": "stdout",
     "output_type": "stream",
     "text": [
      "\u001b[1m2/2\u001b[0m \u001b[32m━━━━━━━━━━━━━━━━━━━━\u001b[0m\u001b[37m\u001b[0m \u001b[1m0s\u001b[0m 50ms/step\n",
      "LR - MAPE: 0.1265, MAE: 5.7634, RMSE: 8.5574, R2: -0.1035\n",
      "DL - MAPE: 0.1690, MAE: 7.1456, RMSE: 9.4322, R2: -0.3407\n",
      "\n",
      "Repeat 8/10\n"
     ]
    },
    {
     "name": "stderr",
     "output_type": "stream",
     "text": [
      "c:\\Users\\rezab\\anaconda3\\Lib\\site-packages\\sklearn\\utils\\validation.py:2732: UserWarning: X has feature names, but StandardScaler was fitted without feature names\n",
      "  warnings.warn(\n"
     ]
    },
    {
     "name": "stdout",
     "output_type": "stream",
     "text": [
      "\u001b[1m2/2\u001b[0m \u001b[32m━━━━━━━━━━━━━━━━━━━━\u001b[0m\u001b[37m\u001b[0m \u001b[1m0s\u001b[0m 48ms/step\n",
      "LR - MAPE: 0.1201, MAE: 5.0247, RMSE: 7.2524, R2: -0.1065\n",
      "DL - MAPE: 0.1022, MAE: 4.5144, RMSE: 7.4512, R2: -0.1680\n",
      "\n",
      "Repeat 9/10\n"
     ]
    },
    {
     "name": "stderr",
     "output_type": "stream",
     "text": [
      "c:\\Users\\rezab\\anaconda3\\Lib\\site-packages\\sklearn\\utils\\validation.py:2732: UserWarning: X has feature names, but StandardScaler was fitted without feature names\n",
      "  warnings.warn(\n"
     ]
    },
    {
     "name": "stdout",
     "output_type": "stream",
     "text": [
      "\u001b[1m2/2\u001b[0m \u001b[32m━━━━━━━━━━━━━━━━━━━━\u001b[0m\u001b[37m\u001b[0m \u001b[1m0s\u001b[0m 44ms/step\n",
      "LR - MAPE: 0.1237, MAE: 5.1210, RMSE: 6.8176, R2: -0.0613\n",
      "DL - MAPE: 0.1151, MAE: 4.9761, RMSE: 7.3715, R2: -0.2408\n",
      "\n",
      "Repeat 10/10\n"
     ]
    },
    {
     "name": "stderr",
     "output_type": "stream",
     "text": [
      "c:\\Users\\rezab\\anaconda3\\Lib\\site-packages\\sklearn\\utils\\validation.py:2732: UserWarning: X has feature names, but StandardScaler was fitted without feature names\n",
      "  warnings.warn(\n"
     ]
    },
    {
     "name": "stdout",
     "output_type": "stream",
     "text": [
      "\u001b[1m2/2\u001b[0m \u001b[32m━━━━━━━━━━━━━━━━━━━━\u001b[0m\u001b[37m\u001b[0m \u001b[1m0s\u001b[0m 46ms/step\n",
      "LR - MAPE: 0.1099, MAE: 4.9973, RMSE: 7.9064, R2: -0.1213\n",
      "DL - MAPE: 0.1654, MAE: 7.0437, RMSE: 9.2015, R2: -0.5187\n",
      "\n",
      "> System: lrzip, Dataset: large.tar.csv\n",
      "> Training data fraction: 0.7, Number of repeats: 10\n",
      "\n",
      "Repeat 1/10\n"
     ]
    },
    {
     "name": "stderr",
     "output_type": "stream",
     "text": [
      "c:\\Users\\rezab\\anaconda3\\Lib\\site-packages\\sklearn\\utils\\validation.py:2732: UserWarning: X has feature names, but StandardScaler was fitted without feature names\n",
      "  warnings.warn(\n"
     ]
    },
    {
     "name": "stdout",
     "output_type": "stream",
     "text": [
      "\u001b[1m2/2\u001b[0m \u001b[32m━━━━━━━━━━━━━━━━━━━━\u001b[0m\u001b[37m\u001b[0m \u001b[1m0s\u001b[0m 47ms/step\n",
      "LR - MAPE: 0.9976, MAE: 2.4181, RMSE: 3.1363, R2: -0.2518\n",
      "DL - MAPE: 0.6968, MAE: 2.0377, RMSE: 2.7860, R2: 0.0123\n",
      "\n",
      "Repeat 2/10\n"
     ]
    },
    {
     "name": "stderr",
     "output_type": "stream",
     "text": [
      "c:\\Users\\rezab\\anaconda3\\Lib\\site-packages\\sklearn\\utils\\validation.py:2732: UserWarning: X has feature names, but StandardScaler was fitted without feature names\n",
      "  warnings.warn(\n"
     ]
    },
    {
     "name": "stdout",
     "output_type": "stream",
     "text": [
      "\u001b[1m2/2\u001b[0m \u001b[32m━━━━━━━━━━━━━━━━━━━━\u001b[0m\u001b[37m\u001b[0m \u001b[1m0s\u001b[0m 47ms/step\n",
      "LR - MAPE: 1.2518, MAE: 2.4838, RMSE: 3.1513, R2: -0.0850\n",
      "DL - MAPE: 0.9379, MAE: 2.2392, RMSE: 3.0878, R2: -0.0417\n",
      "\n",
      "Repeat 3/10\n"
     ]
    },
    {
     "name": "stderr",
     "output_type": "stream",
     "text": [
      "c:\\Users\\rezab\\anaconda3\\Lib\\site-packages\\sklearn\\utils\\validation.py:2732: UserWarning: X has feature names, but StandardScaler was fitted without feature names\n",
      "  warnings.warn(\n"
     ]
    },
    {
     "name": "stdout",
     "output_type": "stream",
     "text": [
      "\u001b[1m2/2\u001b[0m \u001b[32m━━━━━━━━━━━━━━━━━━━━\u001b[0m\u001b[37m\u001b[0m \u001b[1m0s\u001b[0m 46ms/step\n",
      "LR - MAPE: 1.1820, MAE: 2.2500, RMSE: 2.9397, R2: -0.0650\n",
      "DL - MAPE: 0.9381, MAE: 2.0587, RMSE: 2.8406, R2: 0.0056\n",
      "\n",
      "Repeat 4/10\n"
     ]
    },
    {
     "name": "stderr",
     "output_type": "stream",
     "text": [
      "c:\\Users\\rezab\\anaconda3\\Lib\\site-packages\\sklearn\\utils\\validation.py:2732: UserWarning: X has feature names, but StandardScaler was fitted without feature names\n",
      "  warnings.warn(\n"
     ]
    },
    {
     "name": "stdout",
     "output_type": "stream",
     "text": [
      "\u001b[1m2/2\u001b[0m \u001b[32m━━━━━━━━━━━━━━━━━━━━\u001b[0m\u001b[37m\u001b[0m \u001b[1m0s\u001b[0m 106ms/step\n",
      "LR - MAPE: 1.1445, MAE: 1.9078, RMSE: 2.5052, R2: 0.0149\n",
      "DL - MAPE: 0.8943, MAE: 1.8482, RMSE: 2.5722, R2: -0.0385\n",
      "\n",
      "Repeat 5/10\n"
     ]
    },
    {
     "name": "stderr",
     "output_type": "stream",
     "text": [
      "c:\\Users\\rezab\\anaconda3\\Lib\\site-packages\\sklearn\\utils\\validation.py:2732: UserWarning: X has feature names, but StandardScaler was fitted without feature names\n",
      "  warnings.warn(\n"
     ]
    },
    {
     "name": "stdout",
     "output_type": "stream",
     "text": [
      "\u001b[1m2/2\u001b[0m \u001b[32m━━━━━━━━━━━━━━━━━━━━\u001b[0m\u001b[37m\u001b[0m \u001b[1m0s\u001b[0m 61ms/step\n",
      "LR - MAPE: 1.1116, MAE: 1.8947, RMSE: 2.5563, R2: -0.1095\n",
      "DL - MAPE: 0.7626, MAE: 1.8668, RMSE: 2.6353, R2: -0.1792\n",
      "\n",
      "Repeat 6/10\n"
     ]
    },
    {
     "name": "stderr",
     "output_type": "stream",
     "text": [
      "c:\\Users\\rezab\\anaconda3\\Lib\\site-packages\\sklearn\\utils\\validation.py:2732: UserWarning: X has feature names, but StandardScaler was fitted without feature names\n",
      "  warnings.warn(\n"
     ]
    },
    {
     "name": "stdout",
     "output_type": "stream",
     "text": [
      "\u001b[1m2/2\u001b[0m \u001b[32m━━━━━━━━━━━━━━━━━━━━\u001b[0m\u001b[37m\u001b[0m \u001b[1m0s\u001b[0m 50ms/step\n",
      "LR - MAPE: 0.7145, MAE: 2.0195, RMSE: 2.9180, R2: -0.0167\n",
      "DL - MAPE: 0.6251, MAE: 2.0958, RMSE: 3.1130, R2: -0.1571\n",
      "\n",
      "Repeat 7/10\n"
     ]
    },
    {
     "name": "stderr",
     "output_type": "stream",
     "text": [
      "c:\\Users\\rezab\\anaconda3\\Lib\\site-packages\\sklearn\\utils\\validation.py:2732: UserWarning: X has feature names, but StandardScaler was fitted without feature names\n",
      "  warnings.warn(\n"
     ]
    },
    {
     "name": "stdout",
     "output_type": "stream",
     "text": [
      "\u001b[1m2/2\u001b[0m \u001b[32m━━━━━━━━━━━━━━━━━━━━\u001b[0m\u001b[37m\u001b[0m \u001b[1m0s\u001b[0m 49ms/step\n",
      "LR - MAPE: 0.7637, MAE: 2.3515, RMSE: 3.3602, R2: -0.1179\n",
      "DL - MAPE: 0.9503, MAE: 2.4795, RMSE: 3.3448, R2: -0.1077\n",
      "\n",
      "Repeat 8/10\n"
     ]
    },
    {
     "name": "stderr",
     "output_type": "stream",
     "text": [
      "c:\\Users\\rezab\\anaconda3\\Lib\\site-packages\\sklearn\\utils\\validation.py:2732: UserWarning: X has feature names, but StandardScaler was fitted without feature names\n",
      "  warnings.warn(\n"
     ]
    },
    {
     "name": "stdout",
     "output_type": "stream",
     "text": [
      "\u001b[1m2/2\u001b[0m \u001b[32m━━━━━━━━━━━━━━━━━━━━\u001b[0m\u001b[37m\u001b[0m \u001b[1m0s\u001b[0m 45ms/step\n",
      "LR - MAPE: 1.1854, MAE: 2.2752, RMSE: 2.9139, R2: -0.0372\n",
      "DL - MAPE: 0.7645, MAE: 1.9008, RMSE: 2.8100, R2: 0.0354\n",
      "\n",
      "Repeat 9/10\n"
     ]
    },
    {
     "name": "stderr",
     "output_type": "stream",
     "text": [
      "c:\\Users\\rezab\\anaconda3\\Lib\\site-packages\\sklearn\\utils\\validation.py:2732: UserWarning: X has feature names, but StandardScaler was fitted without feature names\n",
      "  warnings.warn(\n"
     ]
    },
    {
     "name": "stdout",
     "output_type": "stream",
     "text": [
      "\u001b[1m2/2\u001b[0m \u001b[32m━━━━━━━━━━━━━━━━━━━━\u001b[0m\u001b[37m\u001b[0m \u001b[1m0s\u001b[0m 57ms/step\n",
      "LR - MAPE: 1.1987, MAE: 2.4064, RMSE: 3.1150, R2: -0.0440\n",
      "DL - MAPE: 1.0967, MAE: 2.4789, RMSE: 3.0437, R2: 0.0032\n",
      "\n",
      "Repeat 10/10\n"
     ]
    },
    {
     "name": "stderr",
     "output_type": "stream",
     "text": [
      "c:\\Users\\rezab\\anaconda3\\Lib\\site-packages\\sklearn\\utils\\validation.py:2732: UserWarning: X has feature names, but StandardScaler was fitted without feature names\n",
      "  warnings.warn(\n"
     ]
    },
    {
     "name": "stdout",
     "output_type": "stream",
     "text": [
      "\u001b[1m2/2\u001b[0m \u001b[32m━━━━━━━━━━━━━━━━━━━━\u001b[0m\u001b[37m\u001b[0m \u001b[1m0s\u001b[0m 45ms/step\n",
      "LR - MAPE: 0.8133, MAE: 2.4085, RMSE: 3.4966, R2: -0.1249\n",
      "DL - MAPE: 0.7840, MAE: 2.3759, RMSE: 3.4484, R2: -0.0941\n",
      "\n",
      "> System: lrzip, Dataset: misc.tar.csv\n",
      "> Training data fraction: 0.7, Number of repeats: 10\n",
      "\n",
      "Repeat 1/10\n"
     ]
    },
    {
     "name": "stderr",
     "output_type": "stream",
     "text": [
      "c:\\Users\\rezab\\anaconda3\\Lib\\site-packages\\sklearn\\utils\\validation.py:2732: UserWarning: X has feature names, but StandardScaler was fitted without feature names\n",
      "  warnings.warn(\n"
     ]
    },
    {
     "name": "stdout",
     "output_type": "stream",
     "text": [
      "\u001b[1m2/2\u001b[0m \u001b[32m━━━━━━━━━━━━━━━━━━━━\u001b[0m\u001b[37m\u001b[0m \u001b[1m0s\u001b[0m 51ms/step\n",
      "LR - MAPE: 2.7982, MAE: 1.3443, RMSE: 1.5323, R2: -0.1279\n",
      "DL - MAPE: 3.1813, MAE: 1.5830, RMSE: 1.9156, R2: -0.7627\n",
      "\n",
      "Repeat 2/10\n"
     ]
    },
    {
     "name": "stderr",
     "output_type": "stream",
     "text": [
      "c:\\Users\\rezab\\anaconda3\\Lib\\site-packages\\sklearn\\utils\\validation.py:2732: UserWarning: X has feature names, but StandardScaler was fitted without feature names\n",
      "  warnings.warn(\n"
     ]
    },
    {
     "name": "stdout",
     "output_type": "stream",
     "text": [
      "\u001b[1m2/2\u001b[0m \u001b[32m━━━━━━━━━━━━━━━━━━━━\u001b[0m\u001b[37m\u001b[0m \u001b[1m0s\u001b[0m 55ms/step\n",
      "LR - MAPE: 3.8140, MAE: 1.3254, RMSE: 1.5191, R2: -0.0572\n",
      "DL - MAPE: 4.2737, MAE: 1.5429, RMSE: 1.6916, R2: -0.3110\n",
      "\n",
      "Repeat 3/10\n"
     ]
    },
    {
     "name": "stderr",
     "output_type": "stream",
     "text": [
      "c:\\Users\\rezab\\anaconda3\\Lib\\site-packages\\sklearn\\utils\\validation.py:2732: UserWarning: X has feature names, but StandardScaler was fitted without feature names\n",
      "  warnings.warn(\n"
     ]
    },
    {
     "name": "stdout",
     "output_type": "stream",
     "text": [
      "\u001b[1m2/2\u001b[0m \u001b[32m━━━━━━━━━━━━━━━━━━━━\u001b[0m\u001b[37m\u001b[0m \u001b[1m0s\u001b[0m 54ms/step\n",
      "LR - MAPE: 3.0503, MAE: 1.2759, RMSE: 1.4427, R2: 0.0823\n",
      "DL - MAPE: 3.1923, MAE: 1.5431, RMSE: 1.7608, R2: -0.3670\n",
      "\n",
      "Repeat 4/10\n"
     ]
    },
    {
     "name": "stderr",
     "output_type": "stream",
     "text": [
      "c:\\Users\\rezab\\anaconda3\\Lib\\site-packages\\sklearn\\utils\\validation.py:2732: UserWarning: X has feature names, but StandardScaler was fitted without feature names\n",
      "  warnings.warn(\n"
     ]
    },
    {
     "name": "stdout",
     "output_type": "stream",
     "text": [
      "\u001b[1m2/2\u001b[0m \u001b[32m━━━━━━━━━━━━━━━━━━━━\u001b[0m\u001b[37m\u001b[0m \u001b[1m0s\u001b[0m 59ms/step\n",
      "LR - MAPE: 3.0901, MAE: 1.2964, RMSE: 1.4290, R2: 0.0465\n",
      "DL - MAPE: 3.8319, MAE: 1.5825, RMSE: 1.7019, R2: -0.3523\n",
      "\n",
      "Repeat 5/10\n"
     ]
    },
    {
     "name": "stderr",
     "output_type": "stream",
     "text": [
      "c:\\Users\\rezab\\anaconda3\\Lib\\site-packages\\sklearn\\utils\\validation.py:2732: UserWarning: X has feature names, but StandardScaler was fitted without feature names\n",
      "  warnings.warn(\n"
     ]
    },
    {
     "name": "stdout",
     "output_type": "stream",
     "text": [
      "\u001b[1m2/2\u001b[0m \u001b[32m━━━━━━━━━━━━━━━━━━━━\u001b[0m\u001b[37m\u001b[0m \u001b[1m0s\u001b[0m 48ms/step\n",
      "LR - MAPE: 2.9233, MAE: 1.3120, RMSE: 1.5097, R2: -0.0657\n",
      "DL - MAPE: 3.1375, MAE: 1.4866, RMSE: 1.6361, R2: -0.2515\n",
      "\n",
      "Repeat 6/10\n"
     ]
    },
    {
     "name": "stderr",
     "output_type": "stream",
     "text": [
      "c:\\Users\\rezab\\anaconda3\\Lib\\site-packages\\sklearn\\utils\\validation.py:2732: UserWarning: X has feature names, but StandardScaler was fitted without feature names\n",
      "  warnings.warn(\n"
     ]
    },
    {
     "name": "stdout",
     "output_type": "stream",
     "text": [
      "\u001b[1m2/2\u001b[0m \u001b[32m━━━━━━━━━━━━━━━━━━━━\u001b[0m\u001b[37m\u001b[0m \u001b[1m0s\u001b[0m 50ms/step\n",
      "LR - MAPE: 1.9736, MAE: 1.2051, RMSE: 1.4278, R2: 0.0575\n",
      "DL - MAPE: 1.3036, MAE: 1.6273, RMSE: 1.8987, R2: -0.6668\n",
      "\n",
      "Repeat 7/10\n"
     ]
    },
    {
     "name": "stderr",
     "output_type": "stream",
     "text": [
      "c:\\Users\\rezab\\anaconda3\\Lib\\site-packages\\sklearn\\utils\\validation.py:2732: UserWarning: X has feature names, but StandardScaler was fitted without feature names\n",
      "  warnings.warn(\n"
     ]
    },
    {
     "name": "stdout",
     "output_type": "stream",
     "text": [
      "\u001b[1m2/2\u001b[0m \u001b[32m━━━━━━━━━━━━━━━━━━━━\u001b[0m\u001b[37m\u001b[0m \u001b[1m0s\u001b[0m 57ms/step\n",
      "LR - MAPE: 2.0044, MAE: 1.2687, RMSE: 1.4904, R2: -0.0091\n",
      "DL - MAPE: 2.3845, MAE: 1.7301, RMSE: 1.9874, R2: -0.7944\n",
      "\n",
      "Repeat 8/10\n"
     ]
    },
    {
     "name": "stderr",
     "output_type": "stream",
     "text": [
      "c:\\Users\\rezab\\anaconda3\\Lib\\site-packages\\sklearn\\utils\\validation.py:2732: UserWarning: X has feature names, but StandardScaler was fitted without feature names\n",
      "  warnings.warn(\n"
     ]
    },
    {
     "name": "stdout",
     "output_type": "stream",
     "text": [
      "\u001b[1m2/2\u001b[0m \u001b[32m━━━━━━━━━━━━━━━━━━━━\u001b[0m\u001b[37m\u001b[0m \u001b[1m0s\u001b[0m 48ms/step\n",
      "LR - MAPE: 3.4375, MAE: 1.2606, RMSE: 1.4826, R2: 0.0380\n",
      "DL - MAPE: 3.3851, MAE: 1.4678, RMSE: 1.7577, R2: -0.3521\n",
      "\n",
      "Repeat 9/10\n"
     ]
    },
    {
     "name": "stderr",
     "output_type": "stream",
     "text": [
      "c:\\Users\\rezab\\anaconda3\\Lib\\site-packages\\sklearn\\utils\\validation.py:2732: UserWarning: X has feature names, but StandardScaler was fitted without feature names\n",
      "  warnings.warn(\n"
     ]
    },
    {
     "name": "stdout",
     "output_type": "stream",
     "text": [
      "\u001b[1m2/2\u001b[0m \u001b[32m━━━━━━━━━━━━━━━━━━━━\u001b[0m\u001b[37m\u001b[0m \u001b[1m0s\u001b[0m 44ms/step\n",
      "LR - MAPE: 2.8393, MAE: 1.3391, RMSE: 1.5173, R2: -0.0437\n",
      "DL - MAPE: 2.5993, MAE: 1.4986, RMSE: 1.7399, R2: -0.3724\n",
      "\n",
      "Repeat 10/10\n"
     ]
    },
    {
     "name": "stderr",
     "output_type": "stream",
     "text": [
      "c:\\Users\\rezab\\anaconda3\\Lib\\site-packages\\sklearn\\utils\\validation.py:2732: UserWarning: X has feature names, but StandardScaler was fitted without feature names\n",
      "  warnings.warn(\n"
     ]
    },
    {
     "name": "stdout",
     "output_type": "stream",
     "text": [
      "\u001b[1m2/2\u001b[0m \u001b[32m━━━━━━━━━━━━━━━━━━━━\u001b[0m\u001b[37m\u001b[0m \u001b[1m0s\u001b[0m 48ms/step\n",
      "LR - MAPE: 2.1220, MAE: 1.3406, RMSE: 1.5213, R2: -0.0053\n",
      "DL - MAPE: 2.3684, MAE: 1.6691, RMSE: 1.8720, R2: -0.5222\n",
      "\n",
      "> System: lrzip, Dataset: silesia.tar.csv\n",
      "> Training data fraction: 0.7, Number of repeats: 10\n",
      "\n",
      "Repeat 1/10\n"
     ]
    },
    {
     "name": "stderr",
     "output_type": "stream",
     "text": [
      "c:\\Users\\rezab\\anaconda3\\Lib\\site-packages\\sklearn\\utils\\validation.py:2732: UserWarning: X has feature names, but StandardScaler was fitted without feature names\n",
      "  warnings.warn(\n"
     ]
    },
    {
     "name": "stdout",
     "output_type": "stream",
     "text": [
      "\u001b[1m2/2\u001b[0m \u001b[32m━━━━━━━━━━━━━━━━━━━━\u001b[0m\u001b[37m\u001b[0m \u001b[1m0s\u001b[0m 56ms/step\n",
      "LR - MAPE: 1.2974, MAE: 34.0620, RMSE: 49.2410, R2: -0.1318\n",
      "DL - MAPE: 0.3780, MAE: 24.4893, RMSE: 51.3643, R2: -0.2315\n",
      "\n",
      "Repeat 2/10\n"
     ]
    },
    {
     "name": "stderr",
     "output_type": "stream",
     "text": [
      "c:\\Users\\rezab\\anaconda3\\Lib\\site-packages\\sklearn\\utils\\validation.py:2732: UserWarning: X has feature names, but StandardScaler was fitted without feature names\n",
      "  warnings.warn(\n"
     ]
    },
    {
     "name": "stdout",
     "output_type": "stream",
     "text": [
      "\u001b[1m2/2\u001b[0m \u001b[32m━━━━━━━━━━━━━━━━━━━━\u001b[0m\u001b[37m\u001b[0m \u001b[1m0s\u001b[0m 53ms/step\n",
      "LR - MAPE: 1.2419, MAE: 32.3543, RMSE: 49.9118, R2: -0.0756\n",
      "DL - MAPE: 0.4094, MAE: 24.1208, RMSE: 51.9947, R2: -0.1672\n",
      "\n",
      "Repeat 3/10\n"
     ]
    },
    {
     "name": "stderr",
     "output_type": "stream",
     "text": [
      "c:\\Users\\rezab\\anaconda3\\Lib\\site-packages\\sklearn\\utils\\validation.py:2732: UserWarning: X has feature names, but StandardScaler was fitted without feature names\n",
      "  warnings.warn(\n"
     ]
    },
    {
     "name": "stdout",
     "output_type": "stream",
     "text": [
      "\u001b[1m2/2\u001b[0m \u001b[32m━━━━━━━━━━━━━━━━━━━━\u001b[0m\u001b[37m\u001b[0m \u001b[1m0s\u001b[0m 48ms/step\n",
      "LR - MAPE: 1.4562, MAE: 31.8291, RMSE: 44.5132, R2: 0.0068\n",
      "DL - MAPE: 0.3415, MAE: 19.1863, RMSE: 46.6084, R2: -0.0889\n",
      "\n",
      "Repeat 4/10\n"
     ]
    },
    {
     "name": "stderr",
     "output_type": "stream",
     "text": [
      "c:\\Users\\rezab\\anaconda3\\Lib\\site-packages\\sklearn\\utils\\validation.py:2732: UserWarning: X has feature names, but StandardScaler was fitted without feature names\n",
      "  warnings.warn(\n"
     ]
    },
    {
     "name": "stdout",
     "output_type": "stream",
     "text": [
      "\u001b[1m2/2\u001b[0m \u001b[32m━━━━━━━━━━━━━━━━━━━━\u001b[0m\u001b[37m\u001b[0m \u001b[1m0s\u001b[0m 50ms/step\n",
      "LR - MAPE: 1.5105, MAE: 26.1277, RMSE: 32.6875, R2: -0.1292\n",
      "DL - MAPE: 0.3354, MAE: 13.1778, RMSE: 31.3519, R2: -0.0389\n",
      "\n",
      "Repeat 5/10\n"
     ]
    },
    {
     "name": "stderr",
     "output_type": "stream",
     "text": [
      "c:\\Users\\rezab\\anaconda3\\Lib\\site-packages\\sklearn\\utils\\validation.py:2732: UserWarning: X has feature names, but StandardScaler was fitted without feature names\n",
      "  warnings.warn(\n"
     ]
    },
    {
     "name": "stdout",
     "output_type": "stream",
     "text": [
      "\u001b[1m2/2\u001b[0m \u001b[32m━━━━━━━━━━━━━━━━━━━━\u001b[0m\u001b[37m\u001b[0m \u001b[1m0s\u001b[0m 56ms/step\n",
      "LR - MAPE: 1.5099, MAE: 28.2857, RMSE: 37.8831, R2: -0.0822\n",
      "DL - MAPE: 0.3392, MAE: 14.0665, RMSE: 37.3079, R2: -0.0496\n",
      "\n",
      "Repeat 6/10\n"
     ]
    },
    {
     "name": "stderr",
     "output_type": "stream",
     "text": [
      "c:\\Users\\rezab\\anaconda3\\Lib\\site-packages\\sklearn\\utils\\validation.py:2732: UserWarning: X has feature names, but StandardScaler was fitted without feature names\n",
      "  warnings.warn(\n"
     ]
    },
    {
     "name": "stdout",
     "output_type": "stream",
     "text": [
      "\u001b[1m2/2\u001b[0m \u001b[32m━━━━━━━━━━━━━━━━━━━━\u001b[0m\u001b[37m\u001b[0m \u001b[1m0s\u001b[0m 48ms/step\n",
      "LR - MAPE: 1.0697, MAE: 26.3727, RMSE: 37.1541, R2: 0.0311\n",
      "DL - MAPE: 0.4159, MAE: 19.3907, RMSE: 40.4260, R2: -0.1471\n",
      "\n",
      "Repeat 7/10\n"
     ]
    },
    {
     "name": "stderr",
     "output_type": "stream",
     "text": [
      "c:\\Users\\rezab\\anaconda3\\Lib\\site-packages\\sklearn\\utils\\validation.py:2732: UserWarning: X has feature names, but StandardScaler was fitted without feature names\n",
      "  warnings.warn(\n"
     ]
    },
    {
     "name": "stdout",
     "output_type": "stream",
     "text": [
      "\u001b[1m2/2\u001b[0m \u001b[32m━━━━━━━━━━━━━━━━━━━━\u001b[0m\u001b[37m\u001b[0m \u001b[1m0s\u001b[0m 46ms/step\n",
      "LR - MAPE: 1.1956, MAE: 35.7099, RMSE: 52.8128, R2: -0.0966\n",
      "DL - MAPE: 0.3808, MAE: 27.3913, RMSE: 55.4712, R2: -0.2097\n",
      "\n",
      "Repeat 8/10\n"
     ]
    },
    {
     "name": "stderr",
     "output_type": "stream",
     "text": [
      "c:\\Users\\rezab\\anaconda3\\Lib\\site-packages\\sklearn\\utils\\validation.py:2732: UserWarning: X has feature names, but StandardScaler was fitted without feature names\n",
      "  warnings.warn(\n"
     ]
    },
    {
     "name": "stdout",
     "output_type": "stream",
     "text": [
      "\u001b[1m2/2\u001b[0m \u001b[32m━━━━━━━━━━━━━━━━━━━━\u001b[0m\u001b[37m\u001b[0m \u001b[1m0s\u001b[0m 64ms/step\n",
      "LR - MAPE: 1.3820, MAE: 30.2118, RMSE: 44.4231, R2: -0.1356\n",
      "DL - MAPE: 0.4065, MAE: 18.9368, RMSE: 44.0403, R2: -0.1161\n",
      "\n",
      "Repeat 9/10\n"
     ]
    },
    {
     "name": "stderr",
     "output_type": "stream",
     "text": [
      "c:\\Users\\rezab\\anaconda3\\Lib\\site-packages\\sklearn\\utils\\validation.py:2732: UserWarning: X has feature names, but StandardScaler was fitted without feature names\n",
      "  warnings.warn(\n"
     ]
    },
    {
     "name": "stdout",
     "output_type": "stream",
     "text": [
      "\u001b[1m2/2\u001b[0m \u001b[32m━━━━━━━━━━━━━━━━━━━━\u001b[0m\u001b[37m\u001b[0m \u001b[1m0s\u001b[0m 46ms/step\n",
      "LR - MAPE: 1.3824, MAE: 30.9461, RMSE: 42.6276, R2: -0.0585\n",
      "DL - MAPE: 0.4044, MAE: 22.4418, RMSE: 46.0692, R2: -0.2364\n",
      "\n",
      "Repeat 10/10\n"
     ]
    },
    {
     "name": "stderr",
     "output_type": "stream",
     "text": [
      "c:\\Users\\rezab\\anaconda3\\Lib\\site-packages\\sklearn\\utils\\validation.py:2732: UserWarning: X has feature names, but StandardScaler was fitted without feature names\n",
      "  warnings.warn(\n"
     ]
    },
    {
     "name": "stdout",
     "output_type": "stream",
     "text": [
      "\u001b[1m2/2\u001b[0m \u001b[32m━━━━━━━━━━━━━━━━━━━━\u001b[0m\u001b[37m\u001b[0m \u001b[1m0s\u001b[0m 47ms/step\n",
      "LR - MAPE: 1.0121, MAE: 29.8491, RMSE: 46.8690, R2: -0.0781\n",
      "DL - MAPE: 0.3709, MAE: 23.7818, RMSE: 49.6345, R2: -0.2091\n",
      "\n",
      "> System: lrzip, Dataset: uiq-32.bin.csv\n",
      "> Training data fraction: 0.7, Number of repeats: 10\n",
      "\n",
      "Repeat 1/10\n"
     ]
    },
    {
     "name": "stderr",
     "output_type": "stream",
     "text": [
      "c:\\Users\\rezab\\anaconda3\\Lib\\site-packages\\sklearn\\utils\\validation.py:2732: UserWarning: X has feature names, but StandardScaler was fitted without feature names\n",
      "  warnings.warn(\n"
     ]
    },
    {
     "name": "stdout",
     "output_type": "stream",
     "text": [
      "\u001b[1m2/2\u001b[0m \u001b[32m━━━━━━━━━━━━━━━━━━━━\u001b[0m\u001b[37m\u001b[0m \u001b[1m0s\u001b[0m 56ms/step\n",
      "LR - MAPE: 2.0582, MAE: 58.3373, RMSE: 85.1474, R2: -0.0782\n",
      "DL - MAPE: 0.4060, MAE: 41.4689, RMSE: 91.1377, R2: -0.2353\n",
      "\n",
      "Repeat 2/10\n"
     ]
    },
    {
     "name": "stderr",
     "output_type": "stream",
     "text": [
      "c:\\Users\\rezab\\anaconda3\\Lib\\site-packages\\sklearn\\utils\\validation.py:2732: UserWarning: X has feature names, but StandardScaler was fitted without feature names\n",
      "  warnings.warn(\n"
     ]
    },
    {
     "name": "stdout",
     "output_type": "stream",
     "text": [
      "\u001b[1m2/2\u001b[0m \u001b[32m━━━━━━━━━━━━━━━━━━━━\u001b[0m\u001b[37m\u001b[0m \u001b[1m0s\u001b[0m 46ms/step\n",
      "LR - MAPE: 2.0178, MAE: 54.1728, RMSE: 83.5662, R2: -0.0474\n",
      "DL - MAPE: 0.4299, MAE: 39.4069, RMSE: 89.8313, R2: -0.2103\n",
      "\n",
      "Repeat 3/10\n"
     ]
    },
    {
     "name": "stderr",
     "output_type": "stream",
     "text": [
      "c:\\Users\\rezab\\anaconda3\\Lib\\site-packages\\sklearn\\utils\\validation.py:2732: UserWarning: X has feature names, but StandardScaler was fitted without feature names\n",
      "  warnings.warn(\n"
     ]
    },
    {
     "name": "stdout",
     "output_type": "stream",
     "text": [
      "\u001b[1m2/2\u001b[0m \u001b[32m━━━━━━━━━━━━━━━━━━━━\u001b[0m\u001b[37m\u001b[0m \u001b[1m0s\u001b[0m 46ms/step\n",
      "LR - MAPE: 2.4292, MAE: 51.8817, RMSE: 71.0543, R2: 0.0318\n",
      "DL - MAPE: 0.4058, MAE: 30.0829, RMSE: 76.3665, R2: -0.1184\n",
      "\n",
      "Repeat 4/10\n"
     ]
    },
    {
     "name": "stderr",
     "output_type": "stream",
     "text": [
      "c:\\Users\\rezab\\anaconda3\\Lib\\site-packages\\sklearn\\utils\\validation.py:2732: UserWarning: X has feature names, but StandardScaler was fitted without feature names\n",
      "  warnings.warn(\n"
     ]
    },
    {
     "name": "stdout",
     "output_type": "stream",
     "text": [
      "\u001b[1m2/2\u001b[0m \u001b[32m━━━━━━━━━━━━━━━━━━━━\u001b[0m\u001b[37m\u001b[0m \u001b[1m0s\u001b[0m 47ms/step\n",
      "LR - MAPE: 2.5451, MAE: 43.5239, RMSE: 53.1836, R2: -0.0953\n",
      "DL - MAPE: 0.4069, MAE: 23.1482, RMSE: 55.2926, R2: -0.1839\n",
      "\n",
      "Repeat 5/10\n"
     ]
    },
    {
     "name": "stderr",
     "output_type": "stream",
     "text": [
      "c:\\Users\\rezab\\anaconda3\\Lib\\site-packages\\sklearn\\utils\\validation.py:2732: UserWarning: X has feature names, but StandardScaler was fitted without feature names\n",
      "  warnings.warn(\n"
     ]
    },
    {
     "name": "stdout",
     "output_type": "stream",
     "text": [
      "\u001b[1m2/2\u001b[0m \u001b[32m━━━━━━━━━━━━━━━━━━━━\u001b[0m\u001b[37m\u001b[0m \u001b[1m0s\u001b[0m 47ms/step\n",
      "LR - MAPE: 2.5141, MAE: 46.2332, RMSE: 61.6668, R2: -0.0420\n",
      "DL - MAPE: 0.3364, MAE: 21.8985, RMSE: 63.3109, R2: -0.0983\n",
      "\n",
      "Repeat 6/10\n"
     ]
    },
    {
     "name": "stderr",
     "output_type": "stream",
     "text": [
      "c:\\Users\\rezab\\anaconda3\\Lib\\site-packages\\sklearn\\utils\\validation.py:2732: UserWarning: X has feature names, but StandardScaler was fitted without feature names\n",
      "  warnings.warn(\n"
     ]
    },
    {
     "name": "stdout",
     "output_type": "stream",
     "text": [
      "\u001b[1m2/2\u001b[0m \u001b[32m━━━━━━━━━━━━━━━━━━━━\u001b[0m\u001b[37m\u001b[0m \u001b[1m0s\u001b[0m 47ms/step\n",
      "LR - MAPE: 1.6817, MAE: 44.2133, RMSE: 62.1568, R2: 0.0582\n",
      "DL - MAPE: 0.4358, MAE: 31.7459, RMSE: 69.8705, R2: -0.1901\n",
      "\n",
      "Repeat 7/10\n"
     ]
    },
    {
     "name": "stderr",
     "output_type": "stream",
     "text": [
      "c:\\Users\\rezab\\anaconda3\\Lib\\site-packages\\sklearn\\utils\\validation.py:2732: UserWarning: X has feature names, but StandardScaler was fitted without feature names\n",
      "  warnings.warn(\n"
     ]
    },
    {
     "name": "stdout",
     "output_type": "stream",
     "text": [
      "\u001b[1m2/2\u001b[0m \u001b[32m━━━━━━━━━━━━━━━━━━━━\u001b[0m\u001b[37m\u001b[0m \u001b[1m0s\u001b[0m 45ms/step\n",
      "LR - MAPE: 2.0131, MAE: 58.8662, RMSE: 84.7286, R2: -0.0958\n",
      "DL - MAPE: 0.4580, MAE: 43.8085, RMSE: 89.6976, R2: -0.2281\n",
      "\n",
      "Repeat 8/10\n"
     ]
    },
    {
     "name": "stderr",
     "output_type": "stream",
     "text": [
      "c:\\Users\\rezab\\anaconda3\\Lib\\site-packages\\sklearn\\utils\\validation.py:2732: UserWarning: X has feature names, but StandardScaler was fitted without feature names\n",
      "  warnings.warn(\n"
     ]
    },
    {
     "name": "stdout",
     "output_type": "stream",
     "text": [
      "\u001b[1m2/2\u001b[0m \u001b[32m━━━━━━━━━━━━━━━━━━━━\u001b[0m\u001b[37m\u001b[0m \u001b[1m0s\u001b[0m 52ms/step\n",
      "LR - MAPE: 2.2704, MAE: 50.6062, RMSE: 73.6455, R2: -0.1392\n",
      "DL - MAPE: 0.4529, MAE: 29.5691, RMSE: 72.7000, R2: -0.1102\n",
      "\n",
      "Repeat 9/10\n"
     ]
    },
    {
     "name": "stderr",
     "output_type": "stream",
     "text": [
      "c:\\Users\\rezab\\anaconda3\\Lib\\site-packages\\sklearn\\utils\\validation.py:2732: UserWarning: X has feature names, but StandardScaler was fitted without feature names\n",
      "  warnings.warn(\n"
     ]
    },
    {
     "name": "stdout",
     "output_type": "stream",
     "text": [
      "\u001b[1m2/2\u001b[0m \u001b[32m━━━━━━━━━━━━━━━━━━━━\u001b[0m\u001b[37m\u001b[0m \u001b[1m0s\u001b[0m 45ms/step\n",
      "LR - MAPE: 2.3073, MAE: 52.1292, RMSE: 73.1678, R2: -0.0614\n",
      "DL - MAPE: 0.5246, MAE: 36.7122, RMSE: 77.6565, R2: -0.1956\n",
      "\n",
      "Repeat 10/10\n"
     ]
    },
    {
     "name": "stderr",
     "output_type": "stream",
     "text": [
      "c:\\Users\\rezab\\anaconda3\\Lib\\site-packages\\sklearn\\utils\\validation.py:2732: UserWarning: X has feature names, but StandardScaler was fitted without feature names\n",
      "  warnings.warn(\n"
     ]
    },
    {
     "name": "stdout",
     "output_type": "stream",
     "text": [
      "\u001b[1m2/2\u001b[0m \u001b[32m━━━━━━━━━━━━━━━━━━━━\u001b[0m\u001b[37m\u001b[0m \u001b[1m0s\u001b[0m 45ms/step\n",
      "LR - MAPE: 1.6501, MAE: 50.0916, RMSE: 76.7736, R2: -0.0806\n",
      "DL - MAPE: 0.4129, MAE: 38.6811, RMSE: 81.6978, R2: -0.2237\n",
      "\n",
      "> System: lrzip, Dataset: uiq2-16.bin.csv\n",
      "> Training data fraction: 0.7, Number of repeats: 10\n",
      "\n",
      "Repeat 1/10\n"
     ]
    },
    {
     "name": "stderr",
     "output_type": "stream",
     "text": [
      "c:\\Users\\rezab\\anaconda3\\Lib\\site-packages\\sklearn\\utils\\validation.py:2732: UserWarning: X has feature names, but StandardScaler was fitted without feature names\n",
      "  warnings.warn(\n"
     ]
    },
    {
     "name": "stdout",
     "output_type": "stream",
     "text": [
      "\u001b[1m2/2\u001b[0m \u001b[32m━━━━━━━━━━━━━━━━━━━━\u001b[0m\u001b[37m\u001b[0m \u001b[1m0s\u001b[0m 45ms/step\n",
      "LR - MAPE: 1.8843, MAE: 31.6842, RMSE: 46.2672, R2: -0.1498\n",
      "DL - MAPE: 0.3954, MAE: 21.2540, RMSE: 47.2711, R2: -0.2002\n",
      "\n",
      "Repeat 2/10\n"
     ]
    },
    {
     "name": "stderr",
     "output_type": "stream",
     "text": [
      "c:\\Users\\rezab\\anaconda3\\Lib\\site-packages\\sklearn\\utils\\validation.py:2732: UserWarning: X has feature names, but StandardScaler was fitted without feature names\n",
      "  warnings.warn(\n"
     ]
    },
    {
     "name": "stdout",
     "output_type": "stream",
     "text": [
      "\u001b[1m2/2\u001b[0m \u001b[32m━━━━━━━━━━━━━━━━━━━━\u001b[0m\u001b[37m\u001b[0m \u001b[1m0s\u001b[0m 56ms/step\n",
      "LR - MAPE: 1.8550, MAE: 30.2033, RMSE: 46.6144, R2: -0.0562\n",
      "DL - MAPE: 0.4733, MAE: 22.1160, RMSE: 49.6047, R2: -0.1960\n",
      "\n",
      "Repeat 3/10\n"
     ]
    },
    {
     "name": "stderr",
     "output_type": "stream",
     "text": [
      "c:\\Users\\rezab\\anaconda3\\Lib\\site-packages\\sklearn\\utils\\validation.py:2732: UserWarning: X has feature names, but StandardScaler was fitted without feature names\n",
      "  warnings.warn(\n"
     ]
    },
    {
     "name": "stdout",
     "output_type": "stream",
     "text": [
      "\u001b[1m2/2\u001b[0m \u001b[32m━━━━━━━━━━━━━━━━━━━━\u001b[0m\u001b[37m\u001b[0m \u001b[1m0s\u001b[0m 47ms/step\n",
      "LR - MAPE: 2.1687, MAE: 29.6989, RMSE: 42.7679, R2: -0.0110\n",
      "DL - MAPE: 0.3739, MAE: 17.3484, RMSE: 44.8598, R2: -0.1123\n",
      "\n",
      "Repeat 4/10\n"
     ]
    },
    {
     "name": "stderr",
     "output_type": "stream",
     "text": [
      "c:\\Users\\rezab\\anaconda3\\Lib\\site-packages\\sklearn\\utils\\validation.py:2732: UserWarning: X has feature names, but StandardScaler was fitted without feature names\n",
      "  warnings.warn(\n"
     ]
    },
    {
     "name": "stdout",
     "output_type": "stream",
     "text": [
      "\u001b[1m2/2\u001b[0m \u001b[32m━━━━━━━━━━━━━━━━━━━━\u001b[0m\u001b[37m\u001b[0m \u001b[1m0s\u001b[0m 45ms/step\n",
      "LR - MAPE: 2.2872, MAE: 23.7342, RMSE: 28.8201, R2: -0.1388\n",
      "DL - MAPE: 0.3775, MAE: 11.3276, RMSE: 27.7534, R2: -0.0561\n",
      "\n",
      "Repeat 5/10\n"
     ]
    },
    {
     "name": "stderr",
     "output_type": "stream",
     "text": [
      "c:\\Users\\rezab\\anaconda3\\Lib\\site-packages\\sklearn\\utils\\validation.py:2732: UserWarning: X has feature names, but StandardScaler was fitted without feature names\n",
      "  warnings.warn(\n"
     ]
    },
    {
     "name": "stdout",
     "output_type": "stream",
     "text": [
      "\u001b[1m2/2\u001b[0m \u001b[32m━━━━━━━━━━━━━━━━━━━━\u001b[0m\u001b[37m\u001b[0m \u001b[1m0s\u001b[0m 45ms/step\n",
      "LR - MAPE: 2.2885, MAE: 26.0199, RMSE: 34.8017, R2: -0.0533\n",
      "DL - MAPE: 0.3734, MAE: 12.1306, RMSE: 34.7345, R2: -0.0492\n",
      "\n",
      "Repeat 6/10\n"
     ]
    },
    {
     "name": "stderr",
     "output_type": "stream",
     "text": [
      "c:\\Users\\rezab\\anaconda3\\Lib\\site-packages\\sklearn\\utils\\validation.py:2732: UserWarning: X has feature names, but StandardScaler was fitted without feature names\n",
      "  warnings.warn(\n"
     ]
    },
    {
     "name": "stdout",
     "output_type": "stream",
     "text": [
      "\u001b[1m2/2\u001b[0m \u001b[32m━━━━━━━━━━━━━━━━━━━━\u001b[0m\u001b[37m\u001b[0m \u001b[1m0s\u001b[0m 46ms/step\n",
      "LR - MAPE: 1.5496, MAE: 24.6421, RMSE: 35.3431, R2: 0.0241\n",
      "DL - MAPE: 0.4031, MAE: 17.1777, RMSE: 38.9760, R2: -0.1868\n",
      "\n",
      "Repeat 7/10\n"
     ]
    },
    {
     "name": "stderr",
     "output_type": "stream",
     "text": [
      "c:\\Users\\rezab\\anaconda3\\Lib\\site-packages\\sklearn\\utils\\validation.py:2732: UserWarning: X has feature names, but StandardScaler was fitted without feature names\n",
      "  warnings.warn(\n"
     ]
    },
    {
     "name": "stdout",
     "output_type": "stream",
     "text": [
      "\u001b[1m2/2\u001b[0m \u001b[32m━━━━━━━━━━━━━━━━━━━━\u001b[0m\u001b[37m\u001b[0m \u001b[1m0s\u001b[0m 45ms/step\n",
      "LR - MAPE: 1.7133, MAE: 31.5679, RMSE: 46.2609, R2: -0.1457\n",
      "DL - MAPE: 0.4703, MAE: 23.6612, RMSE: 47.8376, R2: -0.2251\n",
      "\n",
      "Repeat 8/10\n"
     ]
    },
    {
     "name": "stderr",
     "output_type": "stream",
     "text": [
      "c:\\Users\\rezab\\anaconda3\\Lib\\site-packages\\sklearn\\utils\\validation.py:2732: UserWarning: X has feature names, but StandardScaler was fitted without feature names\n",
      "  warnings.warn(\n"
     ]
    },
    {
     "name": "stdout",
     "output_type": "stream",
     "text": [
      "\u001b[1m2/2\u001b[0m \u001b[32m━━━━━━━━━━━━━━━━━━━━\u001b[0m\u001b[37m\u001b[0m \u001b[1m0s\u001b[0m 47ms/step\n",
      "LR - MAPE: 2.0581, MAE: 27.8923, RMSE: 41.1705, R2: -0.1344\n",
      "DL - MAPE: 0.4076, MAE: 16.0116, RMSE: 40.7240, R2: -0.1099\n",
      "\n",
      "Repeat 9/10\n"
     ]
    },
    {
     "name": "stderr",
     "output_type": "stream",
     "text": [
      "c:\\Users\\rezab\\anaconda3\\Lib\\site-packages\\sklearn\\utils\\validation.py:2732: UserWarning: X has feature names, but StandardScaler was fitted without feature names\n",
      "  warnings.warn(\n"
     ]
    },
    {
     "name": "stdout",
     "output_type": "stream",
     "text": [
      "\u001b[1m2/2\u001b[0m \u001b[32m━━━━━━━━━━━━━━━━━━━━\u001b[0m\u001b[37m\u001b[0m \u001b[1m0s\u001b[0m 46ms/step\n",
      "LR - MAPE: 2.0918, MAE: 28.1845, RMSE: 37.7210, R2: -0.0827\n",
      "DL - MAPE: 0.4620, MAE: 18.9599, RMSE: 39.4956, R2: -0.1869\n",
      "\n",
      "Repeat 10/10\n"
     ]
    },
    {
     "name": "stderr",
     "output_type": "stream",
     "text": [
      "c:\\Users\\rezab\\anaconda3\\Lib\\site-packages\\sklearn\\utils\\validation.py:2732: UserWarning: X has feature names, but StandardScaler was fitted without feature names\n",
      "  warnings.warn(\n"
     ]
    },
    {
     "name": "stdout",
     "output_type": "stream",
     "text": [
      "\u001b[1m2/2\u001b[0m \u001b[32m━━━━━━━━━━━━━━━━━━━━\u001b[0m\u001b[37m\u001b[0m \u001b[1m0s\u001b[0m 47ms/step\n",
      "LR - MAPE: 1.4432, MAE: 27.0504, RMSE: 41.9973, R2: -0.0787\n",
      "DL - MAPE: 0.4618, MAE: 20.9146, RMSE: 44.1020, R2: -0.1896\n",
      "\n",
      "> System: lrzip, Dataset: uiq2-4.bin.csv\n",
      "> Training data fraction: 0.7, Number of repeats: 10\n",
      "\n",
      "Repeat 1/10\n"
     ]
    },
    {
     "name": "stderr",
     "output_type": "stream",
     "text": [
      "c:\\Users\\rezab\\anaconda3\\Lib\\site-packages\\sklearn\\utils\\validation.py:2732: UserWarning: X has feature names, but StandardScaler was fitted without feature names\n",
      "  warnings.warn(\n"
     ]
    },
    {
     "name": "stdout",
     "output_type": "stream",
     "text": [
      "\u001b[1m2/2\u001b[0m \u001b[32m━━━━━━━━━━━━━━━━━━━━\u001b[0m\u001b[37m\u001b[0m \u001b[1m0s\u001b[0m 51ms/step\n",
      "LR - MAPE: 1.2900, MAE: 7.7639, RMSE: 11.9234, R2: -0.1604\n",
      "DL - MAPE: 0.4660, MAE: 5.7877, RMSE: 12.1557, R2: -0.2060\n",
      "\n",
      "Repeat 2/10\n"
     ]
    },
    {
     "name": "stderr",
     "output_type": "stream",
     "text": [
      "c:\\Users\\rezab\\anaconda3\\Lib\\site-packages\\sklearn\\utils\\validation.py:2732: UserWarning: X has feature names, but StandardScaler was fitted without feature names\n",
      "  warnings.warn(\n"
     ]
    },
    {
     "name": "stdout",
     "output_type": "stream",
     "text": [
      "\u001b[1m2/2\u001b[0m \u001b[32m━━━━━━━━━━━━━━━━━━━━\u001b[0m\u001b[37m\u001b[0m \u001b[1m0s\u001b[0m 45ms/step\n",
      "LR - MAPE: 1.4065, MAE: 7.4459, RMSE: 11.3808, R2: -0.0504\n",
      "DL - MAPE: 0.4576, MAE: 5.4107, RMSE: 11.8667, R2: -0.1420\n",
      "\n",
      "Repeat 3/10\n"
     ]
    },
    {
     "name": "stderr",
     "output_type": "stream",
     "text": [
      "c:\\Users\\rezab\\anaconda3\\Lib\\site-packages\\sklearn\\utils\\validation.py:2732: UserWarning: X has feature names, but StandardScaler was fitted without feature names\n",
      "  warnings.warn(\n"
     ]
    },
    {
     "name": "stdout",
     "output_type": "stream",
     "text": [
      "\u001b[1m2/2\u001b[0m \u001b[32m━━━━━━━━━━━━━━━━━━━━\u001b[0m\u001b[37m\u001b[0m \u001b[1m0s\u001b[0m 47ms/step\n",
      "LR - MAPE: 1.4403, MAE: 7.1672, RMSE: 10.7084, R2: -0.0142\n",
      "DL - MAPE: 0.5825, MAE: 5.0873, RMSE: 11.2365, R2: -0.1167\n",
      "\n",
      "Repeat 4/10\n"
     ]
    },
    {
     "name": "stderr",
     "output_type": "stream",
     "text": [
      "c:\\Users\\rezab\\anaconda3\\Lib\\site-packages\\sklearn\\utils\\validation.py:2732: UserWarning: X has feature names, but StandardScaler was fitted without feature names\n",
      "  warnings.warn(\n"
     ]
    },
    {
     "name": "stdout",
     "output_type": "stream",
     "text": [
      "\u001b[1m2/2\u001b[0m \u001b[32m━━━━━━━━━━━━━━━━━━━━\u001b[0m\u001b[37m\u001b[0m \u001b[1m0s\u001b[0m 47ms/step\n",
      "LR - MAPE: 1.5195, MAE: 5.4324, RMSE: 7.5092, R2: -0.2343\n",
      "DL - MAPE: 0.4503, MAE: 3.4701, RMSE: 7.2521, R2: -0.1512\n",
      "\n",
      "Repeat 5/10\n"
     ]
    },
    {
     "name": "stderr",
     "output_type": "stream",
     "text": [
      "c:\\Users\\rezab\\anaconda3\\Lib\\site-packages\\sklearn\\utils\\validation.py:2732: UserWarning: X has feature names, but StandardScaler was fitted without feature names\n",
      "  warnings.warn(\n"
     ]
    },
    {
     "name": "stdout",
     "output_type": "stream",
     "text": [
      "\u001b[1m2/2\u001b[0m \u001b[32m━━━━━━━━━━━━━━━━━━━━\u001b[0m\u001b[37m\u001b[0m \u001b[1m0s\u001b[0m 48ms/step\n",
      "LR - MAPE: 1.4209, MAE: 6.1408, RMSE: 8.9152, R2: -0.0826\n",
      "DL - MAPE: 0.6334, MAE: 4.0778, RMSE: 8.8968, R2: -0.0781\n",
      "\n",
      "Repeat 6/10\n"
     ]
    },
    {
     "name": "stderr",
     "output_type": "stream",
     "text": [
      "c:\\Users\\rezab\\anaconda3\\Lib\\site-packages\\sklearn\\utils\\validation.py:2732: UserWarning: X has feature names, but StandardScaler was fitted without feature names\n",
      "  warnings.warn(\n"
     ]
    },
    {
     "name": "stdout",
     "output_type": "stream",
     "text": [
      "\u001b[1m2/2\u001b[0m \u001b[32m━━━━━━━━━━━━━━━━━━━━\u001b[0m\u001b[37m\u001b[0m \u001b[1m0s\u001b[0m 46ms/step\n",
      "LR - MAPE: 0.9611, MAE: 5.6269, RMSE: 8.7830, R2: -0.0020\n",
      "DL - MAPE: 0.4227, MAE: 4.3892, RMSE: 9.4822, R2: -0.1679\n",
      "\n",
      "Repeat 7/10\n"
     ]
    },
    {
     "name": "stderr",
     "output_type": "stream",
     "text": [
      "c:\\Users\\rezab\\anaconda3\\Lib\\site-packages\\sklearn\\utils\\validation.py:2732: UserWarning: X has feature names, but StandardScaler was fitted without feature names\n",
      "  warnings.warn(\n"
     ]
    },
    {
     "name": "stdout",
     "output_type": "stream",
     "text": [
      "\u001b[1m2/2\u001b[0m \u001b[32m━━━━━━━━━━━━━━━━━━━━\u001b[0m\u001b[37m\u001b[0m \u001b[1m0s\u001b[0m 47ms/step\n",
      "LR - MAPE: 1.0631, MAE: 7.8270, RMSE: 12.3840, R2: -0.0997\n",
      "DL - MAPE: 0.4663, MAE: 6.5683, RMSE: 13.1493, R2: -0.2399\n",
      "\n",
      "Repeat 8/10\n"
     ]
    },
    {
     "name": "stderr",
     "output_type": "stream",
     "text": [
      "c:\\Users\\rezab\\anaconda3\\Lib\\site-packages\\sklearn\\utils\\validation.py:2732: UserWarning: X has feature names, but StandardScaler was fitted without feature names\n",
      "  warnings.warn(\n"
     ]
    },
    {
     "name": "stdout",
     "output_type": "stream",
     "text": [
      "\u001b[1m2/2\u001b[0m \u001b[32m━━━━━━━━━━━━━━━━━━━━\u001b[0m\u001b[37m\u001b[0m \u001b[1m0s\u001b[0m 46ms/step\n",
      "LR - MAPE: 1.3699, MAE: 6.6913, RMSE: 10.2805, R2: -0.1746\n",
      "DL - MAPE: 0.5072, MAE: 4.4361, RMSE: 9.8027, R2: -0.0679\n",
      "\n",
      "Repeat 9/10\n"
     ]
    },
    {
     "name": "stderr",
     "output_type": "stream",
     "text": [
      "c:\\Users\\rezab\\anaconda3\\Lib\\site-packages\\sklearn\\utils\\validation.py:2732: UserWarning: X has feature names, but StandardScaler was fitted without feature names\n",
      "  warnings.warn(\n"
     ]
    },
    {
     "name": "stdout",
     "output_type": "stream",
     "text": [
      "\u001b[1m2/2\u001b[0m \u001b[32m━━━━━━━━━━━━━━━━━━━━\u001b[0m\u001b[37m\u001b[0m \u001b[1m0s\u001b[0m 45ms/step\n",
      "LR - MAPE: 1.4272, MAE: 6.6874, RMSE: 9.4241, R2: -0.0808\n",
      "DL - MAPE: 0.5897, MAE: 5.0381, RMSE: 9.6916, R2: -0.1430\n",
      "\n",
      "Repeat 10/10\n"
     ]
    },
    {
     "name": "stderr",
     "output_type": "stream",
     "text": [
      "c:\\Users\\rezab\\anaconda3\\Lib\\site-packages\\sklearn\\utils\\validation.py:2732: UserWarning: X has feature names, but StandardScaler was fitted without feature names\n",
      "  warnings.warn(\n"
     ]
    },
    {
     "name": "stdout",
     "output_type": "stream",
     "text": [
      "\u001b[1m2/2\u001b[0m \u001b[32m━━━━━━━━━━━━━━━━━━━━\u001b[0m\u001b[37m\u001b[0m \u001b[1m0s\u001b[0m 47ms/step\n",
      "LR - MAPE: 0.8958, MAE: 6.5484, RMSE: 11.2200, R2: -0.1145\n",
      "DL - MAPE: 0.5740, MAE: 5.7595, RMSE: 11.3396, R2: -0.1384\n",
      "\n",
      "> System: lrzip, Dataset: uiq2-8.bin.csv\n",
      "> Training data fraction: 0.7, Number of repeats: 10\n",
      "\n",
      "Repeat 1/10\n"
     ]
    },
    {
     "name": "stderr",
     "output_type": "stream",
     "text": [
      "c:\\Users\\rezab\\anaconda3\\Lib\\site-packages\\sklearn\\utils\\validation.py:2732: UserWarning: X has feature names, but StandardScaler was fitted without feature names\n",
      "  warnings.warn(\n"
     ]
    },
    {
     "name": "stdout",
     "output_type": "stream",
     "text": [
      "\u001b[1m2/2\u001b[0m \u001b[32m━━━━━━━━━━━━━━━━━━━━\u001b[0m\u001b[37m\u001b[0m \u001b[1m0s\u001b[0m 53ms/step\n",
      "LR - MAPE: 1.5639, MAE: 15.8499, RMSE: 23.1560, R2: -0.1583\n",
      "DL - MAPE: 0.4350, MAE: 11.0489, RMSE: 23.6023, R2: -0.2034\n",
      "\n",
      "Repeat 2/10\n"
     ]
    },
    {
     "name": "stderr",
     "output_type": "stream",
     "text": [
      "c:\\Users\\rezab\\anaconda3\\Lib\\site-packages\\sklearn\\utils\\validation.py:2732: UserWarning: X has feature names, but StandardScaler was fitted without feature names\n",
      "  warnings.warn(\n"
     ]
    },
    {
     "name": "stdout",
     "output_type": "stream",
     "text": [
      "\u001b[1m2/2\u001b[0m \u001b[32m━━━━━━━━━━━━━━━━━━━━\u001b[0m\u001b[37m\u001b[0m \u001b[1m0s\u001b[0m 45ms/step\n",
      "LR - MAPE: 1.5599, MAE: 14.9614, RMSE: 22.9257, R2: -0.0493\n",
      "DL - MAPE: 0.4593, MAE: 10.9199, RMSE: 24.1684, R2: -0.1661\n",
      "\n",
      "Repeat 3/10\n"
     ]
    },
    {
     "name": "stderr",
     "output_type": "stream",
     "text": [
      "c:\\Users\\rezab\\anaconda3\\Lib\\site-packages\\sklearn\\utils\\validation.py:2732: UserWarning: X has feature names, but StandardScaler was fitted without feature names\n",
      "  warnings.warn(\n"
     ]
    },
    {
     "name": "stdout",
     "output_type": "stream",
     "text": [
      "\u001b[1m2/2\u001b[0m \u001b[32m━━━━━━━━━━━━━━━━━━━━\u001b[0m\u001b[37m\u001b[0m \u001b[1m0s\u001b[0m 46ms/step\n",
      "LR - MAPE: 1.7291, MAE: 14.8863, RMSE: 21.5204, R2: -0.0060\n",
      "DL - MAPE: 0.5083, MAE: 9.7367, RMSE: 22.7544, R2: -0.1247\n",
      "\n",
      "Repeat 4/10\n"
     ]
    },
    {
     "name": "stderr",
     "output_type": "stream",
     "text": [
      "c:\\Users\\rezab\\anaconda3\\Lib\\site-packages\\sklearn\\utils\\validation.py:2732: UserWarning: X has feature names, but StandardScaler was fitted without feature names\n",
      "  warnings.warn(\n"
     ]
    },
    {
     "name": "stdout",
     "output_type": "stream",
     "text": [
      "\u001b[1m2/2\u001b[0m \u001b[32m━━━━━━━━━━━━━━━━━━━━\u001b[0m\u001b[37m\u001b[0m \u001b[1m0s\u001b[0m 46ms/step\n",
      "LR - MAPE: 1.8160, MAE: 11.8738, RMSE: 15.6315, R2: -0.1068\n",
      "DL - MAPE: 0.4497, MAE: 6.3555, RMSE: 15.3656, R2: -0.0694\n",
      "\n",
      "Repeat 5/10\n"
     ]
    },
    {
     "name": "stderr",
     "output_type": "stream",
     "text": [
      "c:\\Users\\rezab\\anaconda3\\Lib\\site-packages\\sklearn\\utils\\validation.py:2732: UserWarning: X has feature names, but StandardScaler was fitted without feature names\n",
      "  warnings.warn(\n"
     ]
    },
    {
     "name": "stdout",
     "output_type": "stream",
     "text": [
      "\u001b[1m2/2\u001b[0m \u001b[32m━━━━━━━━━━━━━━━━━━━━\u001b[0m\u001b[37m\u001b[0m \u001b[1m0s\u001b[0m 46ms/step\n",
      "LR - MAPE: 1.7531, MAE: 12.9855, RMSE: 18.4616, R2: -0.0309\n",
      "DL - MAPE: 0.4244, MAE: 7.1392, RMSE: 18.9798, R2: -0.0896\n",
      "\n",
      "Repeat 6/10\n"
     ]
    },
    {
     "name": "stderr",
     "output_type": "stream",
     "text": [
      "c:\\Users\\rezab\\anaconda3\\Lib\\site-packages\\sklearn\\utils\\validation.py:2732: UserWarning: X has feature names, but StandardScaler was fitted without feature names\n",
      "  warnings.warn(\n"
     ]
    },
    {
     "name": "stdout",
     "output_type": "stream",
     "text": [
      "\u001b[1m2/2\u001b[0m \u001b[32m━━━━━━━━━━━━━━━━━━━━\u001b[0m\u001b[37m\u001b[0m \u001b[1m0s\u001b[0m 44ms/step\n",
      "LR - MAPE: 1.1924, MAE: 12.1679, RMSE: 17.8130, R2: 0.0088\n",
      "DL - MAPE: 0.4036, MAE: 8.8456, RMSE: 19.3177, R2: -0.1658\n",
      "\n",
      "Repeat 7/10\n"
     ]
    },
    {
     "name": "stderr",
     "output_type": "stream",
     "text": [
      "c:\\Users\\rezab\\anaconda3\\Lib\\site-packages\\sklearn\\utils\\validation.py:2732: UserWarning: X has feature names, but StandardScaler was fitted without feature names\n",
      "  warnings.warn(\n"
     ]
    },
    {
     "name": "stdout",
     "output_type": "stream",
     "text": [
      "\u001b[1m2/2\u001b[0m \u001b[32m━━━━━━━━━━━━━━━━━━━━\u001b[0m\u001b[37m\u001b[0m \u001b[1m0s\u001b[0m 49ms/step\n",
      "LR - MAPE: 1.3079, MAE: 16.2157, RMSE: 25.0361, R2: -0.1163\n",
      "DL - MAPE: 0.4889, MAE: 12.7237, RMSE: 25.7250, R2: -0.1786\n",
      "\n",
      "Repeat 8/10\n"
     ]
    },
    {
     "name": "stderr",
     "output_type": "stream",
     "text": [
      "c:\\Users\\rezab\\anaconda3\\Lib\\site-packages\\sklearn\\utils\\validation.py:2732: UserWarning: X has feature names, but StandardScaler was fitted without feature names\n",
      "  warnings.warn(\n"
     ]
    },
    {
     "name": "stdout",
     "output_type": "stream",
     "text": [
      "\u001b[1m2/2\u001b[0m \u001b[32m━━━━━━━━━━━━━━━━━━━━\u001b[0m\u001b[37m\u001b[0m \u001b[1m0s\u001b[0m 47ms/step\n",
      "LR - MAPE: 1.6614, MAE: 13.7921, RMSE: 20.0774, R2: -0.1503\n",
      "DL - MAPE: 0.4416, MAE: 8.1884, RMSE: 19.4487, R2: -0.0794\n",
      "\n",
      "Repeat 9/10\n"
     ]
    },
    {
     "name": "stderr",
     "output_type": "stream",
     "text": [
      "c:\\Users\\rezab\\anaconda3\\Lib\\site-packages\\sklearn\\utils\\validation.py:2732: UserWarning: X has feature names, but StandardScaler was fitted without feature names\n",
      "  warnings.warn(\n"
     ]
    },
    {
     "name": "stdout",
     "output_type": "stream",
     "text": [
      "\u001b[1m2/2\u001b[0m \u001b[32m━━━━━━━━━━━━━━━━━━━━\u001b[0m\u001b[37m\u001b[0m \u001b[1m0s\u001b[0m 47ms/step\n",
      "LR - MAPE: 1.7066, MAE: 13.7166, RMSE: 18.6133, R2: -0.1073\n",
      "DL - MAPE: 0.5094, MAE: 9.5047, RMSE: 19.0395, R2: -0.1586\n",
      "\n",
      "Repeat 10/10\n"
     ]
    },
    {
     "name": "stderr",
     "output_type": "stream",
     "text": [
      "c:\\Users\\rezab\\anaconda3\\Lib\\site-packages\\sklearn\\utils\\validation.py:2732: UserWarning: X has feature names, but StandardScaler was fitted without feature names\n",
      "  warnings.warn(\n"
     ]
    },
    {
     "name": "stdout",
     "output_type": "stream",
     "text": [
      "\u001b[1m2/2\u001b[0m \u001b[32m━━━━━━━━━━━━━━━━━━━━\u001b[0m\u001b[37m\u001b[0m \u001b[1m0s\u001b[0m 46ms/step\n",
      "LR - MAPE: 1.1495, MAE: 14.0536, RMSE: 22.9893, R2: -0.1048\n",
      "DL - MAPE: 0.4864, MAE: 11.5723, RMSE: 23.8303, R2: -0.1871\n",
      "\n",
      "> System: lrzip, Dataset: vmlinux-5.10.tar.csv\n",
      "> Training data fraction: 0.7, Number of repeats: 10\n",
      "\n",
      "Repeat 1/10\n"
     ]
    },
    {
     "name": "stderr",
     "output_type": "stream",
     "text": [
      "c:\\Users\\rezab\\anaconda3\\Lib\\site-packages\\sklearn\\utils\\validation.py:2732: UserWarning: X has feature names, but StandardScaler was fitted without feature names\n",
      "  warnings.warn(\n"
     ]
    },
    {
     "name": "stdout",
     "output_type": "stream",
     "text": [
      "\u001b[1m2/2\u001b[0m \u001b[32m━━━━━━━━━━━━━━━━━━━━\u001b[0m\u001b[37m\u001b[0m \u001b[1m0s\u001b[0m 47ms/step\n",
      "LR - MAPE: 0.8330, MAE: 4.9204, RMSE: 7.2058, R2: -0.1771\n",
      "DL - MAPE: 0.3954, MAE: 3.8023, RMSE: 7.0901, R2: -0.1396\n",
      "\n",
      "Repeat 2/10\n"
     ]
    },
    {
     "name": "stderr",
     "output_type": "stream",
     "text": [
      "c:\\Users\\rezab\\anaconda3\\Lib\\site-packages\\sklearn\\utils\\validation.py:2732: UserWarning: X has feature names, but StandardScaler was fitted without feature names\n",
      "  warnings.warn(\n"
     ]
    },
    {
     "name": "stdout",
     "output_type": "stream",
     "text": [
      "\u001b[1m2/2\u001b[0m \u001b[32m━━━━━━━━━━━━━━━━━━━━\u001b[0m\u001b[37m\u001b[0m \u001b[1m0s\u001b[0m 50ms/step\n",
      "LR - MAPE: 0.9337, MAE: 5.0500, RMSE: 7.4717, R2: -0.0779\n",
      "DL - MAPE: 0.4187, MAE: 3.9551, RMSE: 7.6047, R2: -0.1166\n",
      "\n",
      "Repeat 3/10\n"
     ]
    },
    {
     "name": "stderr",
     "output_type": "stream",
     "text": [
      "c:\\Users\\rezab\\anaconda3\\Lib\\site-packages\\sklearn\\utils\\validation.py:2732: UserWarning: X has feature names, but StandardScaler was fitted without feature names\n",
      "  warnings.warn(\n"
     ]
    },
    {
     "name": "stdout",
     "output_type": "stream",
     "text": [
      "\u001b[1m2/2\u001b[0m \u001b[32m━━━━━━━━━━━━━━━━━━━━\u001b[0m\u001b[37m\u001b[0m \u001b[1m0s\u001b[0m 47ms/step\n",
      "LR - MAPE: 0.8813, MAE: 4.6357, RMSE: 6.8434, R2: -0.0120\n",
      "DL - MAPE: 0.4899, MAE: 3.5627, RMSE: 6.8445, R2: -0.0124\n",
      "\n",
      "Repeat 4/10\n"
     ]
    },
    {
     "name": "stderr",
     "output_type": "stream",
     "text": [
      "c:\\Users\\rezab\\anaconda3\\Lib\\site-packages\\sklearn\\utils\\validation.py:2732: UserWarning: X has feature names, but StandardScaler was fitted without feature names\n",
      "  warnings.warn(\n"
     ]
    },
    {
     "name": "stdout",
     "output_type": "stream",
     "text": [
      "\u001b[1m2/2\u001b[0m \u001b[32m━━━━━━━━━━━━━━━━━━━━\u001b[0m\u001b[37m\u001b[0m \u001b[1m0s\u001b[0m 47ms/step\n",
      "LR - MAPE: 0.9283, MAE: 3.5935, RMSE: 4.8455, R2: -0.2215\n",
      "DL - MAPE: 0.4534, MAE: 2.5325, RMSE: 4.2925, R2: 0.0414\n",
      "\n",
      "Repeat 5/10\n"
     ]
    },
    {
     "name": "stderr",
     "output_type": "stream",
     "text": [
      "c:\\Users\\rezab\\anaconda3\\Lib\\site-packages\\sklearn\\utils\\validation.py:2732: UserWarning: X has feature names, but StandardScaler was fitted without feature names\n",
      "  warnings.warn(\n"
     ]
    },
    {
     "name": "stdout",
     "output_type": "stream",
     "text": [
      "\u001b[1m2/2\u001b[0m \u001b[32m━━━━━━━━━━━━━━━━━━━━\u001b[0m\u001b[37m\u001b[0m \u001b[1m0s\u001b[0m 45ms/step\n",
      "LR - MAPE: 0.8857, MAE: 3.9739, RMSE: 5.5984, R2: -0.1056\n",
      "DL - MAPE: 0.4672, MAE: 3.0122, RMSE: 5.5380, R2: -0.0819\n",
      "\n",
      "Repeat 6/10\n"
     ]
    },
    {
     "name": "stderr",
     "output_type": "stream",
     "text": [
      "c:\\Users\\rezab\\anaconda3\\Lib\\site-packages\\sklearn\\utils\\validation.py:2732: UserWarning: X has feature names, but StandardScaler was fitted without feature names\n",
      "  warnings.warn(\n"
     ]
    },
    {
     "name": "stdout",
     "output_type": "stream",
     "text": [
      "\u001b[1m2/2\u001b[0m \u001b[32m━━━━━━━━━━━━━━━━━━━━\u001b[0m\u001b[37m\u001b[0m \u001b[1m0s\u001b[0m 48ms/step\n",
      "LR - MAPE: 0.6047, MAE: 3.6039, RMSE: 5.4194, R2: -0.0063\n",
      "DL - MAPE: 0.3836, MAE: 3.2606, RMSE: 5.8865, R2: -0.1873\n",
      "\n",
      "Repeat 7/10\n"
     ]
    },
    {
     "name": "stderr",
     "output_type": "stream",
     "text": [
      "c:\\Users\\rezab\\anaconda3\\Lib\\site-packages\\sklearn\\utils\\validation.py:2732: UserWarning: X has feature names, but StandardScaler was fitted without feature names\n",
      "  warnings.warn(\n"
     ]
    },
    {
     "name": "stdout",
     "output_type": "stream",
     "text": [
      "\u001b[1m2/2\u001b[0m \u001b[32m━━━━━━━━━━━━━━━━━━━━\u001b[0m\u001b[37m\u001b[0m \u001b[1m0s\u001b[0m 46ms/step\n",
      "LR - MAPE: 0.6782, MAE: 4.9753, RMSE: 7.6860, R2: -0.1028\n",
      "DL - MAPE: 0.5600, MAE: 4.5179, RMSE: 7.7815, R2: -0.1304\n",
      "\n",
      "Repeat 8/10\n"
     ]
    },
    {
     "name": "stderr",
     "output_type": "stream",
     "text": [
      "c:\\Users\\rezab\\anaconda3\\Lib\\site-packages\\sklearn\\utils\\validation.py:2732: UserWarning: X has feature names, but StandardScaler was fitted without feature names\n",
      "  warnings.warn(\n"
     ]
    },
    {
     "name": "stdout",
     "output_type": "stream",
     "text": [
      "\u001b[1m2/2\u001b[0m \u001b[32m━━━━━━━━━━━━━━━━━━━━\u001b[0m\u001b[37m\u001b[0m \u001b[1m0s\u001b[0m 46ms/step\n",
      "LR - MAPE: 0.8745, MAE: 4.4100, RMSE: 6.6140, R2: -0.1288\n",
      "DL - MAPE: 0.5192, MAE: 3.4894, RMSE: 6.4086, R2: -0.0598\n",
      "\n",
      "Repeat 9/10\n"
     ]
    },
    {
     "name": "stderr",
     "output_type": "stream",
     "text": [
      "c:\\Users\\rezab\\anaconda3\\Lib\\site-packages\\sklearn\\utils\\validation.py:2732: UserWarning: X has feature names, but StandardScaler was fitted without feature names\n",
      "  warnings.warn(\n"
     ]
    },
    {
     "name": "stdout",
     "output_type": "stream",
     "text": [
      "\u001b[1m2/2\u001b[0m \u001b[32m━━━━━━━━━━━━━━━━━━━━\u001b[0m\u001b[37m\u001b[0m \u001b[1m0s\u001b[0m 48ms/step\n",
      "LR - MAPE: 0.9012, MAE: 4.4543, RMSE: 5.9852, R2: -0.0611\n",
      "DL - MAPE: 0.6116, MAE: 3.7253, RMSE: 5.7841, R2: 0.0090\n",
      "\n",
      "Repeat 10/10\n"
     ]
    },
    {
     "name": "stderr",
     "output_type": "stream",
     "text": [
      "c:\\Users\\rezab\\anaconda3\\Lib\\site-packages\\sklearn\\utils\\validation.py:2732: UserWarning: X has feature names, but StandardScaler was fitted without feature names\n",
      "  warnings.warn(\n"
     ]
    },
    {
     "name": "stdout",
     "output_type": "stream",
     "text": [
      "\u001b[1m2/2\u001b[0m \u001b[32m━━━━━━━━━━━━━━━━━━━━\u001b[0m\u001b[37m\u001b[0m \u001b[1m0s\u001b[0m 53ms/step\n",
      "LR - MAPE: 0.5893, MAE: 4.2306, RMSE: 6.9952, R2: -0.1028\n",
      "DL - MAPE: 0.4501, MAE: 4.0405, RMSE: 7.2118, R2: -0.1722\n",
      "\n",
      "==================================================\n",
      "Processing system: x264\n",
      "==================================================\n",
      "\n",
      "> System: x264, Dataset: blue_sky_1080p25_short.y4m.csv\n",
      "> Training data fraction: 0.7, Number of repeats: 10\n",
      "\n",
      "Repeat 1/10\n"
     ]
    },
    {
     "name": "stderr",
     "output_type": "stream",
     "text": [
      "c:\\Users\\rezab\\anaconda3\\Lib\\site-packages\\sklearn\\utils\\validation.py:2732: UserWarning: X has feature names, but StandardScaler was fitted without feature names\n",
      "  warnings.warn(\n"
     ]
    },
    {
     "name": "stdout",
     "output_type": "stream",
     "text": [
      "\u001b[1m30/30\u001b[0m \u001b[32m━━━━━━━━━━━━━━━━━━━━\u001b[0m\u001b[37m\u001b[0m \u001b[1m0s\u001b[0m 2ms/step \n",
      "LR - MAPE: 0.8198, MAE: 3.2323, RMSE: 4.1419, R2: 0.8358\n",
      "DL - MAPE: 0.1675, MAE: 1.5073, RMSE: 2.8690, R2: 0.9212\n",
      "\n",
      "Repeat 2/10\n"
     ]
    },
    {
     "name": "stderr",
     "output_type": "stream",
     "text": [
      "c:\\Users\\rezab\\anaconda3\\Lib\\site-packages\\sklearn\\utils\\validation.py:2732: UserWarning: X has feature names, but StandardScaler was fitted without feature names\n",
      "  warnings.warn(\n"
     ]
    },
    {
     "name": "stdout",
     "output_type": "stream",
     "text": [
      "\u001b[1m30/30\u001b[0m \u001b[32m━━━━━━━━━━━━━━━━━━━━\u001b[0m\u001b[37m\u001b[0m \u001b[1m0s\u001b[0m 2ms/step\n",
      "LR - MAPE: 0.7678, MAE: 3.0870, RMSE: 4.0328, R2: 0.8301\n",
      "DL - MAPE: 0.1600, MAE: 1.3697, RMSE: 2.6985, R2: 0.9239\n",
      "\n",
      "Repeat 3/10\n"
     ]
    },
    {
     "name": "stderr",
     "output_type": "stream",
     "text": [
      "c:\\Users\\rezab\\anaconda3\\Lib\\site-packages\\sklearn\\utils\\validation.py:2732: UserWarning: X has feature names, but StandardScaler was fitted without feature names\n",
      "  warnings.warn(\n"
     ]
    },
    {
     "name": "stdout",
     "output_type": "stream",
     "text": [
      "\u001b[1m30/30\u001b[0m \u001b[32m━━━━━━━━━━━━━━━━━━━━\u001b[0m\u001b[37m\u001b[0m \u001b[1m0s\u001b[0m 2ms/step\n",
      "LR - MAPE: 0.8094, MAE: 3.0411, RMSE: 3.8833, R2: 0.8470\n",
      "DL - MAPE: 0.1547, MAE: 1.2538, RMSE: 2.5554, R2: 0.9337\n",
      "\n",
      "Repeat 4/10\n"
     ]
    },
    {
     "name": "stderr",
     "output_type": "stream",
     "text": [
      "c:\\Users\\rezab\\anaconda3\\Lib\\site-packages\\sklearn\\utils\\validation.py:2732: UserWarning: X has feature names, but StandardScaler was fitted without feature names\n",
      "  warnings.warn(\n"
     ]
    },
    {
     "name": "stdout",
     "output_type": "stream",
     "text": [
      "\u001b[1m30/30\u001b[0m \u001b[32m━━━━━━━━━━━━━━━━━━━━\u001b[0m\u001b[37m\u001b[0m \u001b[1m0s\u001b[0m 2ms/step\n",
      "LR - MAPE: 0.7930, MAE: 3.2014, RMSE: 4.1947, R2: 0.8305\n",
      "DL - MAPE: 0.1548, MAE: 1.4426, RMSE: 2.7760, R2: 0.9258\n",
      "\n",
      "Repeat 5/10\n"
     ]
    },
    {
     "name": "stderr",
     "output_type": "stream",
     "text": [
      "c:\\Users\\rezab\\anaconda3\\Lib\\site-packages\\sklearn\\utils\\validation.py:2732: UserWarning: X has feature names, but StandardScaler was fitted without feature names\n",
      "  warnings.warn(\n"
     ]
    },
    {
     "name": "stdout",
     "output_type": "stream",
     "text": [
      "\u001b[1m30/30\u001b[0m \u001b[32m━━━━━━━━━━━━━━━━━━━━\u001b[0m\u001b[37m\u001b[0m \u001b[1m0s\u001b[0m 2ms/step\n",
      "LR - MAPE: 0.6903, MAE: 3.0477, RMSE: 3.9488, R2: 0.8430\n",
      "DL - MAPE: 0.1479, MAE: 1.4333, RMSE: 2.8596, R2: 0.9177\n",
      "\n",
      "Repeat 6/10\n"
     ]
    },
    {
     "name": "stderr",
     "output_type": "stream",
     "text": [
      "c:\\Users\\rezab\\anaconda3\\Lib\\site-packages\\sklearn\\utils\\validation.py:2732: UserWarning: X has feature names, but StandardScaler was fitted without feature names\n",
      "  warnings.warn(\n"
     ]
    },
    {
     "name": "stdout",
     "output_type": "stream",
     "text": [
      "\u001b[1m30/30\u001b[0m \u001b[32m━━━━━━━━━━━━━━━━━━━━\u001b[0m\u001b[37m\u001b[0m \u001b[1m0s\u001b[0m 2ms/step \n",
      "LR - MAPE: 0.7561, MAE: 3.1102, RMSE: 4.0211, R2: 0.8389\n",
      "DL - MAPE: 0.1472, MAE: 1.3467, RMSE: 2.6599, R2: 0.9295\n",
      "\n",
      "Repeat 7/10\n"
     ]
    },
    {
     "name": "stderr",
     "output_type": "stream",
     "text": [
      "c:\\Users\\rezab\\anaconda3\\Lib\\site-packages\\sklearn\\utils\\validation.py:2732: UserWarning: X has feature names, but StandardScaler was fitted without feature names\n",
      "  warnings.warn(\n"
     ]
    },
    {
     "name": "stdout",
     "output_type": "stream",
     "text": [
      "\u001b[1m30/30\u001b[0m \u001b[32m━━━━━━━━━━━━━━━━━━━━\u001b[0m\u001b[37m\u001b[0m \u001b[1m0s\u001b[0m 2ms/step\n",
      "LR - MAPE: 0.7672, MAE: 3.1707, RMSE: 4.1615, R2: 0.8333\n",
      "DL - MAPE: 0.1513, MAE: 1.5542, RMSE: 2.8650, R2: 0.9210\n",
      "\n",
      "Repeat 8/10\n"
     ]
    },
    {
     "name": "stderr",
     "output_type": "stream",
     "text": [
      "c:\\Users\\rezab\\anaconda3\\Lib\\site-packages\\sklearn\\utils\\validation.py:2732: UserWarning: X has feature names, but StandardScaler was fitted without feature names\n",
      "  warnings.warn(\n"
     ]
    },
    {
     "name": "stdout",
     "output_type": "stream",
     "text": [
      "\u001b[1m30/30\u001b[0m \u001b[32m━━━━━━━━━━━━━━━━━━━━\u001b[0m\u001b[37m\u001b[0m \u001b[1m0s\u001b[0m 2ms/step \n",
      "LR - MAPE: 0.7686, MAE: 3.1460, RMSE: 4.0528, R2: 0.8397\n",
      "DL - MAPE: 0.1488, MAE: 1.4078, RMSE: 2.7587, R2: 0.9257\n",
      "\n",
      "Repeat 9/10\n"
     ]
    },
    {
     "name": "stderr",
     "output_type": "stream",
     "text": [
      "c:\\Users\\rezab\\anaconda3\\Lib\\site-packages\\sklearn\\utils\\validation.py:2732: UserWarning: X has feature names, but StandardScaler was fitted without feature names\n",
      "  warnings.warn(\n"
     ]
    },
    {
     "name": "stdout",
     "output_type": "stream",
     "text": [
      "\u001b[1m30/30\u001b[0m \u001b[32m━━━━━━━━━━━━━━━━━━━━\u001b[0m\u001b[37m\u001b[0m \u001b[1m0s\u001b[0m 2ms/step \n",
      "LR - MAPE: 0.8026, MAE: 3.1229, RMSE: 3.9424, R2: 0.8281\n",
      "DL - MAPE: 0.1543, MAE: 1.3845, RMSE: 2.7603, R2: 0.9157\n",
      "\n",
      "Repeat 10/10\n"
     ]
    },
    {
     "name": "stderr",
     "output_type": "stream",
     "text": [
      "c:\\Users\\rezab\\anaconda3\\Lib\\site-packages\\sklearn\\utils\\validation.py:2732: UserWarning: X has feature names, but StandardScaler was fitted without feature names\n",
      "  warnings.warn(\n"
     ]
    },
    {
     "name": "stdout",
     "output_type": "stream",
     "text": [
      "\u001b[1m30/30\u001b[0m \u001b[32m━━━━━━━━━━━━━━━━━━━━\u001b[0m\u001b[37m\u001b[0m \u001b[1m0s\u001b[0m 2ms/step\n",
      "LR - MAPE: 0.7739, MAE: 3.1465, RMSE: 4.0877, R2: 0.8359\n",
      "DL - MAPE: 0.1481, MAE: 1.3728, RMSE: 2.7947, R2: 0.9233\n",
      "\n",
      "> System: x264, Dataset: Johnny_1280x720_60_short.y4m.csv\n",
      "> Training data fraction: 0.7, Number of repeats: 10\n",
      "\n",
      "Repeat 1/10\n"
     ]
    },
    {
     "name": "stderr",
     "output_type": "stream",
     "text": [
      "c:\\Users\\rezab\\anaconda3\\Lib\\site-packages\\sklearn\\utils\\validation.py:2732: UserWarning: X has feature names, but StandardScaler was fitted without feature names\n",
      "  warnings.warn(\n"
     ]
    },
    {
     "name": "stdout",
     "output_type": "stream",
     "text": [
      "\u001b[1m30/30\u001b[0m \u001b[32m━━━━━━━━━━━━━━━━━━━━\u001b[0m\u001b[37m\u001b[0m \u001b[1m0s\u001b[0m 2ms/step \n",
      "LR - MAPE: 0.9305, MAE: 2.6436, RMSE: 3.4191, R2: 0.8215\n",
      "DL - MAPE: 0.1692, MAE: 1.2250, RMSE: 2.3762, R2: 0.9138\n",
      "\n",
      "Repeat 2/10\n"
     ]
    },
    {
     "name": "stderr",
     "output_type": "stream",
     "text": [
      "c:\\Users\\rezab\\anaconda3\\Lib\\site-packages\\sklearn\\utils\\validation.py:2732: UserWarning: X has feature names, but StandardScaler was fitted without feature names\n",
      "  warnings.warn(\n"
     ]
    },
    {
     "name": "stdout",
     "output_type": "stream",
     "text": [
      "\u001b[1m30/30\u001b[0m \u001b[32m━━━━━━━━━━━━━━━━━━━━\u001b[0m\u001b[37m\u001b[0m \u001b[1m0s\u001b[0m 2ms/step\n",
      "LR - MAPE: 0.8794, MAE: 2.5238, RMSE: 3.3207, R2: 0.8152\n",
      "DL - MAPE: 0.1749, MAE: 1.2003, RMSE: 2.3218, R2: 0.9097\n",
      "\n",
      "Repeat 3/10\n"
     ]
    },
    {
     "name": "stderr",
     "output_type": "stream",
     "text": [
      "c:\\Users\\rezab\\anaconda3\\Lib\\site-packages\\sklearn\\utils\\validation.py:2732: UserWarning: X has feature names, but StandardScaler was fitted without feature names\n",
      "  warnings.warn(\n"
     ]
    },
    {
     "name": "stdout",
     "output_type": "stream",
     "text": [
      "\u001b[1m30/30\u001b[0m \u001b[32m━━━━━━━━━━━━━━━━━━━━\u001b[0m\u001b[37m\u001b[0m \u001b[1m0s\u001b[0m 2ms/step \n",
      "LR - MAPE: 0.9303, MAE: 2.4693, RMSE: 3.1787, R2: 0.8331\n",
      "DL - MAPE: 0.1688, MAE: 1.1088, RMSE: 2.1556, R2: 0.9233\n",
      "\n",
      "Repeat 4/10\n"
     ]
    },
    {
     "name": "stderr",
     "output_type": "stream",
     "text": [
      "c:\\Users\\rezab\\anaconda3\\Lib\\site-packages\\sklearn\\utils\\validation.py:2732: UserWarning: X has feature names, but StandardScaler was fitted without feature names\n",
      "  warnings.warn(\n"
     ]
    },
    {
     "name": "stdout",
     "output_type": "stream",
     "text": [
      "\u001b[1m30/30\u001b[0m \u001b[32m━━━━━━━━━━━━━━━━━━━━\u001b[0m\u001b[37m\u001b[0m \u001b[1m0s\u001b[0m 2ms/step \n",
      "LR - MAPE: 0.9015, MAE: 2.6131, RMSE: 3.4654, R2: 0.8154\n",
      "DL - MAPE: 0.1699, MAE: 1.3130, RMSE: 2.4109, R2: 0.9107\n",
      "\n",
      "Repeat 5/10\n"
     ]
    },
    {
     "name": "stderr",
     "output_type": "stream",
     "text": [
      "c:\\Users\\rezab\\anaconda3\\Lib\\site-packages\\sklearn\\utils\\validation.py:2732: UserWarning: X has feature names, but StandardScaler was fitted without feature names\n",
      "  warnings.warn(\n"
     ]
    },
    {
     "name": "stdout",
     "output_type": "stream",
     "text": [
      "\u001b[1m30/30\u001b[0m \u001b[32m━━━━━━━━━━━━━━━━━━━━\u001b[0m\u001b[37m\u001b[0m \u001b[1m0s\u001b[0m 2ms/step \n",
      "LR - MAPE: 0.7833, MAE: 2.5041, RMSE: 3.2830, R2: 0.8270\n",
      "DL - MAPE: 0.1571, MAE: 1.1554, RMSE: 2.2985, R2: 0.9152\n",
      "\n",
      "Repeat 6/10\n"
     ]
    },
    {
     "name": "stderr",
     "output_type": "stream",
     "text": [
      "c:\\Users\\rezab\\anaconda3\\Lib\\site-packages\\sklearn\\utils\\validation.py:2732: UserWarning: X has feature names, but StandardScaler was fitted without feature names\n",
      "  warnings.warn(\n"
     ]
    },
    {
     "name": "stdout",
     "output_type": "stream",
     "text": [
      "\u001b[1m30/30\u001b[0m \u001b[32m━━━━━━━━━━━━━━━━━━━━\u001b[0m\u001b[37m\u001b[0m \u001b[1m0s\u001b[0m 2ms/step\n",
      "LR - MAPE: 0.8641, MAE: 2.5335, RMSE: 3.3033, R2: 0.8247\n",
      "DL - MAPE: 0.1644, MAE: 1.2130, RMSE: 2.3288, R2: 0.9129\n",
      "\n",
      "Repeat 7/10\n"
     ]
    },
    {
     "name": "stderr",
     "output_type": "stream",
     "text": [
      "c:\\Users\\rezab\\anaconda3\\Lib\\site-packages\\sklearn\\utils\\validation.py:2732: UserWarning: X has feature names, but StandardScaler was fitted without feature names\n",
      "  warnings.warn(\n"
     ]
    },
    {
     "name": "stdout",
     "output_type": "stream",
     "text": [
      "\u001b[1m30/30\u001b[0m \u001b[32m━━━━━━━━━━━━━━━━━━━━\u001b[0m\u001b[37m\u001b[0m \u001b[1m0s\u001b[0m 2ms/step \n",
      "LR - MAPE: 0.8606, MAE: 2.5962, RMSE: 3.4730, R2: 0.8162\n",
      "DL - MAPE: 0.1660, MAE: 1.2493, RMSE: 2.3355, R2: 0.9169\n",
      "\n",
      "Repeat 8/10\n"
     ]
    },
    {
     "name": "stderr",
     "output_type": "stream",
     "text": [
      "c:\\Users\\rezab\\anaconda3\\Lib\\site-packages\\sklearn\\utils\\validation.py:2732: UserWarning: X has feature names, but StandardScaler was fitted without feature names\n",
      "  warnings.warn(\n"
     ]
    },
    {
     "name": "stdout",
     "output_type": "stream",
     "text": [
      "\u001b[1m30/30\u001b[0m \u001b[32m━━━━━━━━━━━━━━━━━━━━\u001b[0m\u001b[37m\u001b[0m \u001b[1m0s\u001b[0m 2ms/step \n",
      "LR - MAPE: 0.8763, MAE: 2.5828, RMSE: 3.3482, R2: 0.8247\n",
      "DL - MAPE: 0.1578, MAE: 1.2400, RMSE: 2.3766, R2: 0.9117\n",
      "\n",
      "Repeat 9/10\n"
     ]
    },
    {
     "name": "stderr",
     "output_type": "stream",
     "text": [
      "c:\\Users\\rezab\\anaconda3\\Lib\\site-packages\\sklearn\\utils\\validation.py:2732: UserWarning: X has feature names, but StandardScaler was fitted without feature names\n",
      "  warnings.warn(\n"
     ]
    },
    {
     "name": "stdout",
     "output_type": "stream",
     "text": [
      "\u001b[1m30/30\u001b[0m \u001b[32m━━━━━━━━━━━━━━━━━━━━\u001b[0m\u001b[37m\u001b[0m \u001b[1m0s\u001b[0m 2ms/step \n",
      "LR - MAPE: 0.9239, MAE: 2.5580, RMSE: 3.2490, R2: 0.8108\n",
      "DL - MAPE: 0.1691, MAE: 1.2068, RMSE: 2.3898, R2: 0.8976\n",
      "\n",
      "Repeat 10/10\n"
     ]
    },
    {
     "name": "stderr",
     "output_type": "stream",
     "text": [
      "c:\\Users\\rezab\\anaconda3\\Lib\\site-packages\\sklearn\\utils\\validation.py:2732: UserWarning: X has feature names, but StandardScaler was fitted without feature names\n",
      "  warnings.warn(\n"
     ]
    },
    {
     "name": "stdout",
     "output_type": "stream",
     "text": [
      "\u001b[1m30/30\u001b[0m \u001b[32m━━━━━━━━━━━━━━━━━━━━\u001b[0m\u001b[37m\u001b[0m \u001b[1m0s\u001b[0m 2ms/step \n",
      "LR - MAPE: 0.8802, MAE: 2.5663, RMSE: 3.3679, R2: 0.8219\n",
      "DL - MAPE: 0.1666, MAE: 1.2790, RMSE: 2.4041, R2: 0.9093\n",
      "\n",
      "> System: x264, Dataset: Netflix_Crosswalk_4096x2160_60fps_10bit_420_short.y4m.csv\n",
      "> Training data fraction: 0.7, Number of repeats: 10\n",
      "\n",
      "Repeat 1/10\n"
     ]
    },
    {
     "name": "stderr",
     "output_type": "stream",
     "text": [
      "c:\\Users\\rezab\\anaconda3\\Lib\\site-packages\\sklearn\\utils\\validation.py:2732: UserWarning: X has feature names, but StandardScaler was fitted without feature names\n",
      "  warnings.warn(\n"
     ]
    },
    {
     "name": "stdout",
     "output_type": "stream",
     "text": [
      "\u001b[1m30/30\u001b[0m \u001b[32m━━━━━━━━━━━━━━━━━━━━\u001b[0m\u001b[37m\u001b[0m \u001b[1m0s\u001b[0m 3ms/step\n",
      "LR - MAPE: 0.8184, MAE: 8.9566, RMSE: 11.5037, R2: 0.8386\n",
      "DL - MAPE: 0.1627, MAE: 4.1114, RMSE: 7.7897, R2: 0.9260\n",
      "\n",
      "Repeat 2/10\n"
     ]
    },
    {
     "name": "stderr",
     "output_type": "stream",
     "text": [
      "c:\\Users\\rezab\\anaconda3\\Lib\\site-packages\\sklearn\\utils\\validation.py:2732: UserWarning: X has feature names, but StandardScaler was fitted without feature names\n",
      "  warnings.warn(\n"
     ]
    },
    {
     "name": "stdout",
     "output_type": "stream",
     "text": [
      "\u001b[1m30/30\u001b[0m \u001b[32m━━━━━━━━━━━━━━━━━━━━\u001b[0m\u001b[37m\u001b[0m \u001b[1m0s\u001b[0m 2ms/step \n",
      "LR - MAPE: 0.7686, MAE: 8.5844, RMSE: 11.1806, R2: 0.8338\n",
      "DL - MAPE: 0.1560, MAE: 3.8503, RMSE: 7.5666, R2: 0.9239\n",
      "\n",
      "Repeat 3/10\n"
     ]
    },
    {
     "name": "stderr",
     "output_type": "stream",
     "text": [
      "c:\\Users\\rezab\\anaconda3\\Lib\\site-packages\\sklearn\\utils\\validation.py:2732: UserWarning: X has feature names, but StandardScaler was fitted without feature names\n",
      "  warnings.warn(\n"
     ]
    },
    {
     "name": "stdout",
     "output_type": "stream",
     "text": [
      "\u001b[1m30/30\u001b[0m \u001b[32m━━━━━━━━━━━━━━━━━━━━\u001b[0m\u001b[37m\u001b[0m \u001b[1m0s\u001b[0m 2ms/step\n",
      "LR - MAPE: 0.8052, MAE: 8.4223, RMSE: 10.7786, R2: 0.8495\n",
      "DL - MAPE: 0.1450, MAE: 3.4498, RMSE: 6.9318, R2: 0.9378\n",
      "\n",
      "Repeat 4/10\n"
     ]
    },
    {
     "name": "stderr",
     "output_type": "stream",
     "text": [
      "c:\\Users\\rezab\\anaconda3\\Lib\\site-packages\\sklearn\\utils\\validation.py:2732: UserWarning: X has feature names, but StandardScaler was fitted without feature names\n",
      "  warnings.warn(\n"
     ]
    },
    {
     "name": "stdout",
     "output_type": "stream",
     "text": [
      "\u001b[1m30/30\u001b[0m \u001b[32m━━━━━━━━━━━━━━━━━━━━\u001b[0m\u001b[37m\u001b[0m \u001b[1m0s\u001b[0m 2ms/step \n",
      "LR - MAPE: 0.7950, MAE: 8.8501, RMSE: 11.5747, R2: 0.8349\n",
      "DL - MAPE: 0.1624, MAE: 4.6313, RMSE: 8.1840, R2: 0.9175\n",
      "\n",
      "Repeat 5/10\n"
     ]
    },
    {
     "name": "stderr",
     "output_type": "stream",
     "text": [
      "c:\\Users\\rezab\\anaconda3\\Lib\\site-packages\\sklearn\\utils\\validation.py:2732: UserWarning: X has feature names, but StandardScaler was fitted without feature names\n",
      "  warnings.warn(\n"
     ]
    },
    {
     "name": "stdout",
     "output_type": "stream",
     "text": [
      "\u001b[1m30/30\u001b[0m \u001b[32m━━━━━━━━━━━━━━━━━━━━\u001b[0m\u001b[37m\u001b[0m \u001b[1m0s\u001b[0m 2ms/step\n",
      "LR - MAPE: 0.6896, MAE: 8.4834, RMSE: 11.0111, R2: 0.8448\n",
      "DL - MAPE: 0.1500, MAE: 4.2534, RMSE: 7.7671, R2: 0.9228\n",
      "\n",
      "Repeat 6/10\n"
     ]
    },
    {
     "name": "stderr",
     "output_type": "stream",
     "text": [
      "c:\\Users\\rezab\\anaconda3\\Lib\\site-packages\\sklearn\\utils\\validation.py:2732: UserWarning: X has feature names, but StandardScaler was fitted without feature names\n",
      "  warnings.warn(\n"
     ]
    },
    {
     "name": "stdout",
     "output_type": "stream",
     "text": [
      "\u001b[1m30/30\u001b[0m \u001b[32m━━━━━━━━━━━━━━━━━━━━\u001b[0m\u001b[37m\u001b[0m \u001b[1m0s\u001b[0m 2ms/step \n",
      "LR - MAPE: 0.7574, MAE: 8.6261, RMSE: 11.1792, R2: 0.8415\n",
      "DL - MAPE: 0.1540, MAE: 4.0293, RMSE: 7.4440, R2: 0.9297\n",
      "\n",
      "Repeat 7/10\n"
     ]
    },
    {
     "name": "stderr",
     "output_type": "stream",
     "text": [
      "c:\\Users\\rezab\\anaconda3\\Lib\\site-packages\\sklearn\\utils\\validation.py:2732: UserWarning: X has feature names, but StandardScaler was fitted without feature names\n",
      "  warnings.warn(\n"
     ]
    },
    {
     "name": "stdout",
     "output_type": "stream",
     "text": [
      "\u001b[1m30/30\u001b[0m \u001b[32m━━━━━━━━━━━━━━━━━━━━\u001b[0m\u001b[37m\u001b[0m \u001b[1m0s\u001b[0m 2ms/step\n",
      "LR - MAPE: 0.7669, MAE: 8.8624, RMSE: 11.6571, R2: 0.8337\n",
      "DL - MAPE: 0.1605, MAE: 4.1823, RMSE: 8.1888, R2: 0.9180\n",
      "\n",
      "Repeat 8/10\n"
     ]
    },
    {
     "name": "stderr",
     "output_type": "stream",
     "text": [
      "c:\\Users\\rezab\\anaconda3\\Lib\\site-packages\\sklearn\\utils\\validation.py:2732: UserWarning: X has feature names, but StandardScaler was fitted without feature names\n",
      "  warnings.warn(\n"
     ]
    },
    {
     "name": "stdout",
     "output_type": "stream",
     "text": [
      "\u001b[1m30/30\u001b[0m \u001b[32m━━━━━━━━━━━━━━━━━━━━\u001b[0m\u001b[37m\u001b[0m \u001b[1m0s\u001b[0m 2ms/step\n",
      "LR - MAPE: 0.7702, MAE: 8.7469, RMSE: 11.2690, R2: 0.8421\n",
      "DL - MAPE: 0.1619, MAE: 4.3171, RMSE: 7.8256, R2: 0.9238\n",
      "\n",
      "Repeat 9/10\n"
     ]
    },
    {
     "name": "stderr",
     "output_type": "stream",
     "text": [
      "c:\\Users\\rezab\\anaconda3\\Lib\\site-packages\\sklearn\\utils\\validation.py:2732: UserWarning: X has feature names, but StandardScaler was fitted without feature names\n",
      "  warnings.warn(\n"
     ]
    },
    {
     "name": "stdout",
     "output_type": "stream",
     "text": [
      "\u001b[1m30/30\u001b[0m \u001b[32m━━━━━━━━━━━━━━━━━━━━\u001b[0m\u001b[37m\u001b[0m \u001b[1m0s\u001b[0m 2ms/step\n",
      "LR - MAPE: 0.8064, MAE: 8.6372, RMSE: 10.9254, R2: 0.8322\n",
      "DL - MAPE: 0.1644, MAE: 4.1441, RMSE: 7.8729, R2: 0.9129\n",
      "\n",
      "Repeat 10/10\n"
     ]
    },
    {
     "name": "stderr",
     "output_type": "stream",
     "text": [
      "c:\\Users\\rezab\\anaconda3\\Lib\\site-packages\\sklearn\\utils\\validation.py:2732: UserWarning: X has feature names, but StandardScaler was fitted without feature names\n",
      "  warnings.warn(\n"
     ]
    },
    {
     "name": "stdout",
     "output_type": "stream",
     "text": [
      "\u001b[1m30/30\u001b[0m \u001b[32m━━━━━━━━━━━━━━━━━━━━\u001b[0m\u001b[37m\u001b[0m \u001b[1m0s\u001b[0m 2ms/step \n",
      "LR - MAPE: 0.7778, MAE: 8.6897, RMSE: 11.2885, R2: 0.8402\n",
      "DL - MAPE: 0.1418, MAE: 3.7532, RMSE: 7.5819, R2: 0.9279\n",
      "\n",
      "> System: x264, Dataset: pedestrian_area_1080p25_short.y4m.csv\n",
      "> Training data fraction: 0.7, Number of repeats: 10\n",
      "\n",
      "Repeat 1/10\n"
     ]
    },
    {
     "name": "stderr",
     "output_type": "stream",
     "text": [
      "c:\\Users\\rezab\\anaconda3\\Lib\\site-packages\\sklearn\\utils\\validation.py:2732: UserWarning: X has feature names, but StandardScaler was fitted without feature names\n",
      "  warnings.warn(\n"
     ]
    },
    {
     "name": "stdout",
     "output_type": "stream",
     "text": [
      "\u001b[1m30/30\u001b[0m \u001b[32m━━━━━━━━━━━━━━━━━━━━\u001b[0m\u001b[37m\u001b[0m \u001b[1m0s\u001b[0m 2ms/step \n",
      "LR - MAPE: 0.7444, MAE: 3.6643, RMSE: 4.7228, R2: 0.8427\n",
      "DL - MAPE: 0.1544, MAE: 1.7695, RMSE: 3.2856, R2: 0.9239\n",
      "\n",
      "Repeat 2/10\n"
     ]
    },
    {
     "name": "stderr",
     "output_type": "stream",
     "text": [
      "c:\\Users\\rezab\\anaconda3\\Lib\\site-packages\\sklearn\\utils\\validation.py:2732: UserWarning: X has feature names, but StandardScaler was fitted without feature names\n",
      "  warnings.warn(\n"
     ]
    },
    {
     "name": "stdout",
     "output_type": "stream",
     "text": [
      "\u001b[1m30/30\u001b[0m \u001b[32m━━━━━━━━━━━━━━━━━━━━\u001b[0m\u001b[37m\u001b[0m \u001b[1m0s\u001b[0m 2ms/step\n",
      "LR - MAPE: 0.7015, MAE: 3.5122, RMSE: 4.5768, R2: 0.8389\n",
      "DL - MAPE: 0.1484, MAE: 1.5557, RMSE: 3.1566, R2: 0.9234\n",
      "\n",
      "Repeat 3/10\n"
     ]
    },
    {
     "name": "stderr",
     "output_type": "stream",
     "text": [
      "c:\\Users\\rezab\\anaconda3\\Lib\\site-packages\\sklearn\\utils\\validation.py:2732: UserWarning: X has feature names, but StandardScaler was fitted without feature names\n",
      "  warnings.warn(\n"
     ]
    },
    {
     "name": "stdout",
     "output_type": "stream",
     "text": [
      "\u001b[1m30/30\u001b[0m \u001b[32m━━━━━━━━━━━━━━━━━━━━\u001b[0m\u001b[37m\u001b[0m \u001b[1m0s\u001b[0m 2ms/step \n",
      "LR - MAPE: 0.7299, MAE: 3.4741, RMSE: 4.5188, R2: 0.8514\n",
      "DL - MAPE: 0.1420, MAE: 1.5313, RMSE: 3.0379, R2: 0.9328\n",
      "\n",
      "Repeat 4/10\n"
     ]
    },
    {
     "name": "stderr",
     "output_type": "stream",
     "text": [
      "c:\\Users\\rezab\\anaconda3\\Lib\\site-packages\\sklearn\\utils\\validation.py:2732: UserWarning: X has feature names, but StandardScaler was fitted without feature names\n",
      "  warnings.warn(\n"
     ]
    },
    {
     "name": "stdout",
     "output_type": "stream",
     "text": [
      "\u001b[1m30/30\u001b[0m \u001b[32m━━━━━━━━━━━━━━━━━━━━\u001b[0m\u001b[37m\u001b[0m \u001b[1m0s\u001b[0m 2ms/step \n",
      "LR - MAPE: 0.7312, MAE: 3.6267, RMSE: 4.7033, R2: 0.8420\n",
      "DL - MAPE: 0.1606, MAE: 1.7785, RMSE: 3.2531, R2: 0.9244\n",
      "\n",
      "Repeat 5/10\n"
     ]
    },
    {
     "name": "stderr",
     "output_type": "stream",
     "text": [
      "c:\\Users\\rezab\\anaconda3\\Lib\\site-packages\\sklearn\\utils\\validation.py:2732: UserWarning: X has feature names, but StandardScaler was fitted without feature names\n",
      "  warnings.warn(\n"
     ]
    },
    {
     "name": "stdout",
     "output_type": "stream",
     "text": [
      "\u001b[1m30/30\u001b[0m \u001b[32m━━━━━━━━━━━━━━━━━━━━\u001b[0m\u001b[37m\u001b[0m \u001b[1m0s\u001b[0m 2ms/step\n",
      "LR - MAPE: 0.6290, MAE: 3.4631, RMSE: 4.4971, R2: 0.8502\n",
      "DL - MAPE: 0.1387, MAE: 1.6279, RMSE: 3.2615, R2: 0.9212\n",
      "\n",
      "Repeat 6/10\n"
     ]
    },
    {
     "name": "stderr",
     "output_type": "stream",
     "text": [
      "c:\\Users\\rezab\\anaconda3\\Lib\\site-packages\\sklearn\\utils\\validation.py:2732: UserWarning: X has feature names, but StandardScaler was fitted without feature names\n",
      "  warnings.warn(\n"
     ]
    },
    {
     "name": "stdout",
     "output_type": "stream",
     "text": [
      "\u001b[1m30/30\u001b[0m \u001b[32m━━━━━━━━━━━━━━━━━━━━\u001b[0m\u001b[37m\u001b[0m \u001b[1m0s\u001b[0m 2ms/step \n",
      "LR - MAPE: 0.6860, MAE: 3.5528, RMSE: 4.6300, R2: 0.8451\n",
      "DL - MAPE: 0.1640, MAE: 1.8704, RMSE: 3.2712, R2: 0.9227\n",
      "\n",
      "Repeat 7/10\n"
     ]
    },
    {
     "name": "stderr",
     "output_type": "stream",
     "text": [
      "c:\\Users\\rezab\\anaconda3\\Lib\\site-packages\\sklearn\\utils\\validation.py:2732: UserWarning: X has feature names, but StandardScaler was fitted without feature names\n",
      "  warnings.warn(\n"
     ]
    },
    {
     "name": "stdout",
     "output_type": "stream",
     "text": [
      "\u001b[1m30/30\u001b[0m \u001b[32m━━━━━━━━━━━━━━━━━━━━\u001b[0m\u001b[37m\u001b[0m \u001b[1m0s\u001b[0m 2ms/step\n",
      "LR - MAPE: 0.7122, MAE: 3.6426, RMSE: 4.7429, R2: 0.8398\n",
      "DL - MAPE: 0.1590, MAE: 1.8036, RMSE: 3.2566, R2: 0.9245\n",
      "\n",
      "Repeat 8/10\n"
     ]
    },
    {
     "name": "stderr",
     "output_type": "stream",
     "text": [
      "c:\\Users\\rezab\\anaconda3\\Lib\\site-packages\\sklearn\\utils\\validation.py:2732: UserWarning: X has feature names, but StandardScaler was fitted without feature names\n",
      "  warnings.warn(\n"
     ]
    },
    {
     "name": "stdout",
     "output_type": "stream",
     "text": [
      "\u001b[1m30/30\u001b[0m \u001b[32m━━━━━━━━━━━━━━━━━━━━\u001b[0m\u001b[37m\u001b[0m \u001b[1m0s\u001b[0m 2ms/step\n",
      "LR - MAPE: 0.7028, MAE: 3.5623, RMSE: 4.6249, R2: 0.8469\n",
      "DL - MAPE: 0.1580, MAE: 1.6169, RMSE: 3.2547, R2: 0.9242\n",
      "\n",
      "Repeat 9/10\n"
     ]
    },
    {
     "name": "stderr",
     "output_type": "stream",
     "text": [
      "c:\\Users\\rezab\\anaconda3\\Lib\\site-packages\\sklearn\\utils\\validation.py:2732: UserWarning: X has feature names, but StandardScaler was fitted without feature names\n",
      "  warnings.warn(\n"
     ]
    },
    {
     "name": "stdout",
     "output_type": "stream",
     "text": [
      "\u001b[1m30/30\u001b[0m \u001b[32m━━━━━━━━━━━━━━━━━━━━\u001b[0m\u001b[37m\u001b[0m \u001b[1m0s\u001b[0m 2ms/step\n",
      "LR - MAPE: 0.7281, MAE: 3.5617, RMSE: 4.5316, R2: 0.8349\n",
      "DL - MAPE: 0.1422, MAE: 1.6031, RMSE: 3.3304, R2: 0.9108\n",
      "\n",
      "Repeat 10/10\n"
     ]
    },
    {
     "name": "stderr",
     "output_type": "stream",
     "text": [
      "c:\\Users\\rezab\\anaconda3\\Lib\\site-packages\\sklearn\\utils\\validation.py:2732: UserWarning: X has feature names, but StandardScaler was fitted without feature names\n",
      "  warnings.warn(\n"
     ]
    },
    {
     "name": "stdout",
     "output_type": "stream",
     "text": [
      "\u001b[1m30/30\u001b[0m \u001b[32m━━━━━━━━━━━━━━━━━━━━\u001b[0m\u001b[37m\u001b[0m \u001b[1m0s\u001b[0m 2ms/step\n",
      "LR - MAPE: 0.7030, MAE: 3.5555, RMSE: 4.6337, R2: 0.8451\n",
      "DL - MAPE: 0.1536, MAE: 1.7189, RMSE: 3.3104, R2: 0.9209\n",
      "\n",
      "> System: x264, Dataset: riverbed_1080p25_short.y4m.csv\n",
      "> Training data fraction: 0.7, Number of repeats: 10\n",
      "\n",
      "Repeat 1/10\n"
     ]
    },
    {
     "name": "stderr",
     "output_type": "stream",
     "text": [
      "c:\\Users\\rezab\\anaconda3\\Lib\\site-packages\\sklearn\\utils\\validation.py:2732: UserWarning: X has feature names, but StandardScaler was fitted without feature names\n",
      "  warnings.warn(\n"
     ]
    },
    {
     "name": "stdout",
     "output_type": "stream",
     "text": [
      "\u001b[1m30/30\u001b[0m \u001b[32m━━━━━━━━━━━━━━━━━━━━\u001b[0m\u001b[37m\u001b[0m \u001b[1m0s\u001b[0m 2ms/step \n",
      "LR - MAPE: 0.6818, MAE: 6.8207, RMSE: 9.0156, R2: 0.8342\n",
      "DL - MAPE: 0.1536, MAE: 3.2598, RMSE: 6.3433, R2: 0.9179\n",
      "\n",
      "Repeat 2/10\n"
     ]
    },
    {
     "name": "stderr",
     "output_type": "stream",
     "text": [
      "c:\\Users\\rezab\\anaconda3\\Lib\\site-packages\\sklearn\\utils\\validation.py:2732: UserWarning: X has feature names, but StandardScaler was fitted without feature names\n",
      "  warnings.warn(\n"
     ]
    },
    {
     "name": "stdout",
     "output_type": "stream",
     "text": [
      "\u001b[1m30/30\u001b[0m \u001b[32m━━━━━━━━━━━━━━━━━━━━\u001b[0m\u001b[37m\u001b[0m \u001b[1m0s\u001b[0m 2ms/step\n",
      "LR - MAPE: 0.6494, MAE: 6.5856, RMSE: 8.7505, R2: 0.8287\n",
      "DL - MAPE: 0.1602, MAE: 3.2397, RMSE: 6.3874, R2: 0.9087\n",
      "\n",
      "Repeat 3/10\n"
     ]
    },
    {
     "name": "stderr",
     "output_type": "stream",
     "text": [
      "c:\\Users\\rezab\\anaconda3\\Lib\\site-packages\\sklearn\\utils\\validation.py:2732: UserWarning: X has feature names, but StandardScaler was fitted without feature names\n",
      "  warnings.warn(\n"
     ]
    },
    {
     "name": "stdout",
     "output_type": "stream",
     "text": [
      "\u001b[1m30/30\u001b[0m \u001b[32m━━━━━━━━━━━━━━━━━━━━\u001b[0m\u001b[37m\u001b[0m \u001b[1m0s\u001b[0m 2ms/step\n",
      "LR - MAPE: 0.6703, MAE: 6.5328, RMSE: 8.7638, R2: 0.8409\n",
      "DL - MAPE: 0.1526, MAE: 2.9709, RMSE: 5.6619, R2: 0.9336\n",
      "\n",
      "Repeat 4/10\n"
     ]
    },
    {
     "name": "stderr",
     "output_type": "stream",
     "text": [
      "c:\\Users\\rezab\\anaconda3\\Lib\\site-packages\\sklearn\\utils\\validation.py:2732: UserWarning: X has feature names, but StandardScaler was fitted without feature names\n",
      "  warnings.warn(\n"
     ]
    },
    {
     "name": "stdout",
     "output_type": "stream",
     "text": [
      "\u001b[1m30/30\u001b[0m \u001b[32m━━━━━━━━━━━━━━━━━━━━\u001b[0m\u001b[37m\u001b[0m \u001b[1m0s\u001b[0m 2ms/step \n",
      "LR - MAPE: 0.6732, MAE: 6.7863, RMSE: 8.9266, R2: 0.8350\n",
      "DL - MAPE: 0.1411, MAE: 2.9645, RMSE: 6.0153, R2: 0.9251\n",
      "\n",
      "Repeat 5/10\n"
     ]
    },
    {
     "name": "stderr",
     "output_type": "stream",
     "text": [
      "c:\\Users\\rezab\\anaconda3\\Lib\\site-packages\\sklearn\\utils\\validation.py:2732: UserWarning: X has feature names, but StandardScaler was fitted without feature names\n",
      "  warnings.warn(\n"
     ]
    },
    {
     "name": "stdout",
     "output_type": "stream",
     "text": [
      "\u001b[1m30/30\u001b[0m \u001b[32m━━━━━━━━━━━━━━━━━━━━\u001b[0m\u001b[37m\u001b[0m \u001b[1m0s\u001b[0m 2ms/step \n",
      "LR - MAPE: 0.5793, MAE: 6.4421, RMSE: 8.5519, R2: 0.8426\n",
      "DL - MAPE: 0.1515, MAE: 3.3246, RMSE: 6.4279, R2: 0.9110\n",
      "\n",
      "Repeat 6/10\n"
     ]
    },
    {
     "name": "stderr",
     "output_type": "stream",
     "text": [
      "c:\\Users\\rezab\\anaconda3\\Lib\\site-packages\\sklearn\\utils\\validation.py:2732: UserWarning: X has feature names, but StandardScaler was fitted without feature names\n",
      "  warnings.warn(\n"
     ]
    },
    {
     "name": "stdout",
     "output_type": "stream",
     "text": [
      "\u001b[1m30/30\u001b[0m \u001b[32m━━━━━━━━━━━━━━━━━━━━\u001b[0m\u001b[37m\u001b[0m \u001b[1m0s\u001b[0m 2ms/step \n",
      "LR - MAPE: 0.6286, MAE: 6.6720, RMSE: 8.9120, R2: 0.8354\n",
      "DL - MAPE: 0.1473, MAE: 3.3509, RMSE: 6.1359, R2: 0.9220\n",
      "\n",
      "Repeat 7/10\n"
     ]
    },
    {
     "name": "stderr",
     "output_type": "stream",
     "text": [
      "c:\\Users\\rezab\\anaconda3\\Lib\\site-packages\\sklearn\\utils\\validation.py:2732: UserWarning: X has feature names, but StandardScaler was fitted without feature names\n",
      "  warnings.warn(\n"
     ]
    },
    {
     "name": "stdout",
     "output_type": "stream",
     "text": [
      "\u001b[1m30/30\u001b[0m \u001b[32m━━━━━━━━━━━━━━━━━━━━\u001b[0m\u001b[37m\u001b[0m \u001b[1m0s\u001b[0m 2ms/step \n",
      "LR - MAPE: 0.6661, MAE: 6.8613, RMSE: 9.0519, R2: 0.8302\n",
      "DL - MAPE: 0.1535, MAE: 3.4264, RMSE: 6.3636, R2: 0.9161\n",
      "\n",
      "Repeat 8/10\n"
     ]
    },
    {
     "name": "stderr",
     "output_type": "stream",
     "text": [
      "c:\\Users\\rezab\\anaconda3\\Lib\\site-packages\\sklearn\\utils\\validation.py:2732: UserWarning: X has feature names, but StandardScaler was fitted without feature names\n",
      "  warnings.warn(\n"
     ]
    },
    {
     "name": "stdout",
     "output_type": "stream",
     "text": [
      "\u001b[1m30/30\u001b[0m \u001b[32m━━━━━━━━━━━━━━━━━━━━\u001b[0m\u001b[37m\u001b[0m \u001b[1m0s\u001b[0m 2ms/step \n",
      "LR - MAPE: 0.6466, MAE: 6.6285, RMSE: 8.8487, R2: 0.8382\n",
      "DL - MAPE: 0.1475, MAE: 3.1388, RMSE: 6.3276, R2: 0.9173\n",
      "\n",
      "Repeat 9/10\n"
     ]
    },
    {
     "name": "stderr",
     "output_type": "stream",
     "text": [
      "c:\\Users\\rezab\\anaconda3\\Lib\\site-packages\\sklearn\\utils\\validation.py:2732: UserWarning: X has feature names, but StandardScaler was fitted without feature names\n",
      "  warnings.warn(\n"
     ]
    },
    {
     "name": "stdout",
     "output_type": "stream",
     "text": [
      "\u001b[1m30/30\u001b[0m \u001b[32m━━━━━━━━━━━━━━━━━━━━\u001b[0m\u001b[37m\u001b[0m \u001b[1m0s\u001b[0m 2ms/step \n",
      "LR - MAPE: 0.6604, MAE: 6.7015, RMSE: 8.7148, R2: 0.8236\n",
      "DL - MAPE: 0.1635, MAE: 3.3614, RMSE: 6.4247, R2: 0.9041\n",
      "\n",
      "Repeat 10/10\n"
     ]
    },
    {
     "name": "stderr",
     "output_type": "stream",
     "text": [
      "c:\\Users\\rezab\\anaconda3\\Lib\\site-packages\\sklearn\\utils\\validation.py:2732: UserWarning: X has feature names, but StandardScaler was fitted without feature names\n",
      "  warnings.warn(\n"
     ]
    },
    {
     "name": "stdout",
     "output_type": "stream",
     "text": [
      "\u001b[1m30/30\u001b[0m \u001b[32m━━━━━━━━━━━━━━━━━━━━\u001b[0m\u001b[37m\u001b[0m \u001b[1m0s\u001b[0m 2ms/step \n",
      "LR - MAPE: 0.6481, MAE: 6.6499, RMSE: 8.9151, R2: 0.8351\n",
      "DL - MAPE: 0.1555, MAE: 3.0873, RMSE: 6.4257, R2: 0.9143\n",
      "\n",
      "> System: x264, Dataset: sd_bridge_close_cif_short.y4m.csv\n",
      "> Training data fraction: 0.7, Number of repeats: 10\n",
      "\n",
      "Repeat 1/10\n"
     ]
    },
    {
     "name": "stderr",
     "output_type": "stream",
     "text": [
      "c:\\Users\\rezab\\anaconda3\\Lib\\site-packages\\sklearn\\utils\\validation.py:2732: UserWarning: X has feature names, but StandardScaler was fitted without feature names\n",
      "  warnings.warn(\n"
     ]
    },
    {
     "name": "stdout",
     "output_type": "stream",
     "text": [
      "\u001b[1m30/30\u001b[0m \u001b[32m━━━━━━━━━━━━━━━━━━━━\u001b[0m\u001b[37m\u001b[0m \u001b[1m0s\u001b[0m 2ms/step \n",
      "LR - MAPE: 0.5325, MAE: 0.1441, RMSE: 0.1854, R2: 0.8610\n",
      "DL - MAPE: 0.1126, MAE: 0.0635, RMSE: 0.1216, R2: 0.9402\n",
      "\n",
      "Repeat 2/10\n"
     ]
    },
    {
     "name": "stderr",
     "output_type": "stream",
     "text": [
      "c:\\Users\\rezab\\anaconda3\\Lib\\site-packages\\sklearn\\utils\\validation.py:2732: UserWarning: X has feature names, but StandardScaler was fitted without feature names\n",
      "  warnings.warn(\n"
     ]
    },
    {
     "name": "stdout",
     "output_type": "stream",
     "text": [
      "\u001b[1m30/30\u001b[0m \u001b[32m━━━━━━━━━━━━━━━━━━━━\u001b[0m\u001b[37m\u001b[0m \u001b[1m0s\u001b[0m 2ms/step \n",
      "LR - MAPE: 0.5085, MAE: 0.1403, RMSE: 0.1803, R2: 0.8601\n",
      "DL - MAPE: 0.1291, MAE: 0.0633, RMSE: 0.1228, R2: 0.9352\n",
      "\n",
      "Repeat 3/10\n"
     ]
    },
    {
     "name": "stderr",
     "output_type": "stream",
     "text": [
      "c:\\Users\\rezab\\anaconda3\\Lib\\site-packages\\sklearn\\utils\\validation.py:2732: UserWarning: X has feature names, but StandardScaler was fitted without feature names\n",
      "  warnings.warn(\n"
     ]
    },
    {
     "name": "stdout",
     "output_type": "stream",
     "text": [
      "\u001b[1m30/30\u001b[0m \u001b[32m━━━━━━━━━━━━━━━━━━━━\u001b[0m\u001b[37m\u001b[0m \u001b[1m0s\u001b[0m 2ms/step \n",
      "LR - MAPE: 0.5262, MAE: 0.1373, RMSE: 0.1775, R2: 0.8694\n",
      "DL - MAPE: 0.1182, MAE: 0.0578, RMSE: 0.1086, R2: 0.9511\n",
      "\n",
      "Repeat 4/10\n"
     ]
    },
    {
     "name": "stderr",
     "output_type": "stream",
     "text": [
      "c:\\Users\\rezab\\anaconda3\\Lib\\site-packages\\sklearn\\utils\\validation.py:2732: UserWarning: X has feature names, but StandardScaler was fitted without feature names\n",
      "  warnings.warn(\n"
     ]
    },
    {
     "name": "stdout",
     "output_type": "stream",
     "text": [
      "\u001b[1m30/30\u001b[0m \u001b[32m━━━━━━━━━━━━━━━━━━━━\u001b[0m\u001b[37m\u001b[0m \u001b[1m0s\u001b[0m 2ms/step\n",
      "LR - MAPE: 0.5274, MAE: 0.1432, RMSE: 0.1845, R2: 0.8617\n",
      "DL - MAPE: 0.1106, MAE: 0.0593, RMSE: 0.1154, R2: 0.9459\n",
      "\n",
      "Repeat 5/10\n"
     ]
    },
    {
     "name": "stderr",
     "output_type": "stream",
     "text": [
      "c:\\Users\\rezab\\anaconda3\\Lib\\site-packages\\sklearn\\utils\\validation.py:2732: UserWarning: X has feature names, but StandardScaler was fitted without feature names\n",
      "  warnings.warn(\n"
     ]
    },
    {
     "name": "stdout",
     "output_type": "stream",
     "text": [
      "\u001b[1m30/30\u001b[0m \u001b[32m━━━━━━━━━━━━━━━━━━━━\u001b[0m\u001b[37m\u001b[0m \u001b[1m0s\u001b[0m 2ms/step \n",
      "LR - MAPE: 0.4657, MAE: 0.1378, RMSE: 0.1766, R2: 0.8689\n",
      "DL - MAPE: 0.1078, MAE: 0.0635, RMSE: 0.1185, R2: 0.9410\n",
      "\n",
      "Repeat 6/10\n"
     ]
    },
    {
     "name": "stderr",
     "output_type": "stream",
     "text": [
      "c:\\Users\\rezab\\anaconda3\\Lib\\site-packages\\sklearn\\utils\\validation.py:2732: UserWarning: X has feature names, but StandardScaler was fitted without feature names\n",
      "  warnings.warn(\n"
     ]
    },
    {
     "name": "stdout",
     "output_type": "stream",
     "text": [
      "\u001b[1m30/30\u001b[0m \u001b[32m━━━━━━━━━━━━━━━━━━━━\u001b[0m\u001b[37m\u001b[0m \u001b[1m0s\u001b[0m 2ms/step \n",
      "LR - MAPE: 0.5054, MAE: 0.1402, RMSE: 0.1801, R2: 0.8662\n",
      "DL - MAPE: 0.1483, MAE: 0.0668, RMSE: 0.1231, R2: 0.9375\n",
      "\n",
      "Repeat 7/10\n"
     ]
    },
    {
     "name": "stderr",
     "output_type": "stream",
     "text": [
      "c:\\Users\\rezab\\anaconda3\\Lib\\site-packages\\sklearn\\utils\\validation.py:2732: UserWarning: X has feature names, but StandardScaler was fitted without feature names\n",
      "  warnings.warn(\n"
     ]
    },
    {
     "name": "stdout",
     "output_type": "stream",
     "text": [
      "\u001b[1m30/30\u001b[0m \u001b[32m━━━━━━━━━━━━━━━━━━━━\u001b[0m\u001b[37m\u001b[0m \u001b[1m0s\u001b[0m 2ms/step \n",
      "LR - MAPE: 0.5163, MAE: 0.1437, RMSE: 0.1858, R2: 0.8588\n",
      "DL - MAPE: 0.1114, MAE: 0.0630, RMSE: 0.1205, R2: 0.9406\n",
      "\n",
      "Repeat 8/10\n"
     ]
    },
    {
     "name": "stderr",
     "output_type": "stream",
     "text": [
      "c:\\Users\\rezab\\anaconda3\\Lib\\site-packages\\sklearn\\utils\\validation.py:2732: UserWarning: X has feature names, but StandardScaler was fitted without feature names\n",
      "  warnings.warn(\n"
     ]
    },
    {
     "name": "stdout",
     "output_type": "stream",
     "text": [
      "\u001b[1m30/30\u001b[0m \u001b[32m━━━━━━━━━━━━━━━━━━━━\u001b[0m\u001b[37m\u001b[0m \u001b[1m0s\u001b[0m 3ms/step\n",
      "LR - MAPE: 0.5100, MAE: 0.1407, RMSE: 0.1813, R2: 0.8655\n",
      "DL - MAPE: 0.1154, MAE: 0.0660, RMSE: 0.1218, R2: 0.9392\n",
      "\n",
      "Repeat 9/10\n"
     ]
    },
    {
     "name": "stderr",
     "output_type": "stream",
     "text": [
      "c:\\Users\\rezab\\anaconda3\\Lib\\site-packages\\sklearn\\utils\\validation.py:2732: UserWarning: X has feature names, but StandardScaler was fitted without feature names\n",
      "  warnings.warn(\n"
     ]
    },
    {
     "name": "stdout",
     "output_type": "stream",
     "text": [
      "\u001b[1m30/30\u001b[0m \u001b[32m━━━━━━━━━━━━━━━━━━━━\u001b[0m\u001b[37m\u001b[0m \u001b[1m0s\u001b[0m 2ms/step \n",
      "LR - MAPE: 0.5232, MAE: 0.1411, RMSE: 0.1788, R2: 0.8552\n",
      "DL - MAPE: 0.1225, MAE: 0.0672, RMSE: 0.1295, R2: 0.9241\n",
      "\n",
      "Repeat 10/10\n"
     ]
    },
    {
     "name": "stderr",
     "output_type": "stream",
     "text": [
      "c:\\Users\\rezab\\anaconda3\\Lib\\site-packages\\sklearn\\utils\\validation.py:2732: UserWarning: X has feature names, but StandardScaler was fitted without feature names\n",
      "  warnings.warn(\n"
     ]
    },
    {
     "name": "stdout",
     "output_type": "stream",
     "text": [
      "\u001b[1m30/30\u001b[0m \u001b[32m━━━━━━━━━━━━━━━━━━━━\u001b[0m\u001b[37m\u001b[0m \u001b[1m0s\u001b[0m 2ms/step \n",
      "LR - MAPE: 0.5060, MAE: 0.1401, RMSE: 0.1823, R2: 0.8641\n",
      "DL - MAPE: 0.1118, MAE: 0.0619, RMSE: 0.1263, R2: 0.9348\n",
      "\n",
      "> System: x264, Dataset: sd_city_4cif_short.y4m.csv\n",
      "> Training data fraction: 0.7, Number of repeats: 10\n",
      "\n",
      "Repeat 1/10\n"
     ]
    },
    {
     "name": "stderr",
     "output_type": "stream",
     "text": [
      "c:\\Users\\rezab\\anaconda3\\Lib\\site-packages\\sklearn\\utils\\validation.py:2732: UserWarning: X has feature names, but StandardScaler was fitted without feature names\n",
      "  warnings.warn(\n"
     ]
    },
    {
     "name": "stdout",
     "output_type": "stream",
     "text": [
      "\u001b[1m30/30\u001b[0m \u001b[32m━━━━━━━━━━━━━━━━━━━━\u001b[0m\u001b[37m\u001b[0m \u001b[1m0s\u001b[0m 2ms/step \n",
      "LR - MAPE: 0.8579, MAE: 1.5213, RMSE: 1.9483, R2: 0.8221\n",
      "DL - MAPE: 0.1598, MAE: 0.6596, RMSE: 1.3550, R2: 0.9139\n",
      "\n",
      "Repeat 2/10\n"
     ]
    },
    {
     "name": "stderr",
     "output_type": "stream",
     "text": [
      "c:\\Users\\rezab\\anaconda3\\Lib\\site-packages\\sklearn\\utils\\validation.py:2732: UserWarning: X has feature names, but StandardScaler was fitted without feature names\n",
      "  warnings.warn(\n"
     ]
    },
    {
     "name": "stdout",
     "output_type": "stream",
     "text": [
      "\u001b[1m30/30\u001b[0m \u001b[32m━━━━━━━━━━━━━━━━━━━━\u001b[0m\u001b[37m\u001b[0m \u001b[1m0s\u001b[0m 2ms/step\n",
      "LR - MAPE: 0.8111, MAE: 1.4539, RMSE: 1.8791, R2: 0.8192\n",
      "DL - MAPE: 0.1687, MAE: 0.6129, RMSE: 1.3285, R2: 0.9096\n",
      "\n",
      "Repeat 3/10\n"
     ]
    },
    {
     "name": "stderr",
     "output_type": "stream",
     "text": [
      "c:\\Users\\rezab\\anaconda3\\Lib\\site-packages\\sklearn\\utils\\validation.py:2732: UserWarning: X has feature names, but StandardScaler was fitted without feature names\n",
      "  warnings.warn(\n"
     ]
    },
    {
     "name": "stdout",
     "output_type": "stream",
     "text": [
      "\u001b[1m30/30\u001b[0m \u001b[32m━━━━━━━━━━━━━━━━━━━━\u001b[0m\u001b[37m\u001b[0m \u001b[1m0s\u001b[0m 2ms/step \n",
      "LR - MAPE: 0.8502, MAE: 1.4459, RMSE: 1.8751, R2: 0.8306\n",
      "DL - MAPE: 0.1583, MAE: 0.6254, RMSE: 1.2274, R2: 0.9274\n",
      "\n",
      "Repeat 4/10\n"
     ]
    },
    {
     "name": "stderr",
     "output_type": "stream",
     "text": [
      "c:\\Users\\rezab\\anaconda3\\Lib\\site-packages\\sklearn\\utils\\validation.py:2732: UserWarning: X has feature names, but StandardScaler was fitted without feature names\n",
      "  warnings.warn(\n"
     ]
    },
    {
     "name": "stdout",
     "output_type": "stream",
     "text": [
      "\u001b[1m30/30\u001b[0m \u001b[32m━━━━━━━━━━━━━━━━━━━━\u001b[0m\u001b[37m\u001b[0m \u001b[1m0s\u001b[0m 2ms/step\n",
      "LR - MAPE: 0.8526, MAE: 1.5056, RMSE: 1.9349, R2: 0.8218\n",
      "DL - MAPE: 0.1588, MAE: 0.6179, RMSE: 1.2885, R2: 0.9210\n",
      "\n",
      "Repeat 5/10\n"
     ]
    },
    {
     "name": "stderr",
     "output_type": "stream",
     "text": [
      "c:\\Users\\rezab\\anaconda3\\Lib\\site-packages\\sklearn\\utils\\validation.py:2732: UserWarning: X has feature names, but StandardScaler was fitted without feature names\n",
      "  warnings.warn(\n"
     ]
    },
    {
     "name": "stdout",
     "output_type": "stream",
     "text": [
      "\u001b[1m30/30\u001b[0m \u001b[32m━━━━━━━━━━━━━━━━━━━━\u001b[0m\u001b[37m\u001b[0m \u001b[1m0s\u001b[0m 2ms/step\n",
      "LR - MAPE: 0.7303, MAE: 1.4450, RMSE: 1.8584, R2: 0.8300\n",
      "DL - MAPE: 0.1691, MAE: 0.6626, RMSE: 1.4040, R2: 0.9030\n",
      "\n",
      "Repeat 6/10\n"
     ]
    },
    {
     "name": "stderr",
     "output_type": "stream",
     "text": [
      "c:\\Users\\rezab\\anaconda3\\Lib\\site-packages\\sklearn\\utils\\validation.py:2732: UserWarning: X has feature names, but StandardScaler was fitted without feature names\n",
      "  warnings.warn(\n"
     ]
    },
    {
     "name": "stdout",
     "output_type": "stream",
     "text": [
      "\u001b[1m30/30\u001b[0m \u001b[32m━━━━━━━━━━━━━━━━━━━━\u001b[0m\u001b[37m\u001b[0m \u001b[1m0s\u001b[0m 2ms/step \n",
      "LR - MAPE: 0.7947, MAE: 1.4659, RMSE: 1.8982, R2: 0.8262\n",
      "DL - MAPE: 0.1715, MAE: 0.6894, RMSE: 1.3491, R2: 0.9122\n",
      "\n",
      "Repeat 7/10\n"
     ]
    },
    {
     "name": "stderr",
     "output_type": "stream",
     "text": [
      "c:\\Users\\rezab\\anaconda3\\Lib\\site-packages\\sklearn\\utils\\validation.py:2732: UserWarning: X has feature names, but StandardScaler was fitted without feature names\n",
      "  warnings.warn(\n"
     ]
    },
    {
     "name": "stdout",
     "output_type": "stream",
     "text": [
      "\u001b[1m30/30\u001b[0m \u001b[32m━━━━━━━━━━━━━━━━━━━━\u001b[0m\u001b[37m\u001b[0m \u001b[1m0s\u001b[0m 2ms/step\n",
      "LR - MAPE: 0.8243, MAE: 1.5045, RMSE: 1.9502, R2: 0.8201\n",
      "DL - MAPE: 0.1580, MAE: 0.6773, RMSE: 1.2916, R2: 0.9211\n",
      "\n",
      "Repeat 8/10\n"
     ]
    },
    {
     "name": "stderr",
     "output_type": "stream",
     "text": [
      "c:\\Users\\rezab\\anaconda3\\Lib\\site-packages\\sklearn\\utils\\validation.py:2732: UserWarning: X has feature names, but StandardScaler was fitted without feature names\n",
      "  warnings.warn(\n"
     ]
    },
    {
     "name": "stdout",
     "output_type": "stream",
     "text": [
      "\u001b[1m30/30\u001b[0m \u001b[32m━━━━━━━━━━━━━━━━━━━━\u001b[0m\u001b[37m\u001b[0m \u001b[1m0s\u001b[0m 2ms/step\n",
      "LR - MAPE: 0.8244, MAE: 1.4872, RMSE: 1.9135, R2: 0.8256\n",
      "DL - MAPE: 0.1573, MAE: 0.6845, RMSE: 1.3409, R2: 0.9143\n",
      "\n",
      "Repeat 9/10\n"
     ]
    },
    {
     "name": "stderr",
     "output_type": "stream",
     "text": [
      "c:\\Users\\rezab\\anaconda3\\Lib\\site-packages\\sklearn\\utils\\validation.py:2732: UserWarning: X has feature names, but StandardScaler was fitted without feature names\n",
      "  warnings.warn(\n"
     ]
    },
    {
     "name": "stdout",
     "output_type": "stream",
     "text": [
      "\u001b[1m30/30\u001b[0m \u001b[32m━━━━━━━━━━━━━━━━━━━━\u001b[0m\u001b[37m\u001b[0m \u001b[1m0s\u001b[0m 2ms/step \n",
      "LR - MAPE: 0.8413, MAE: 1.4798, RMSE: 1.8761, R2: 0.8123\n",
      "DL - MAPE: 0.1779, MAE: 0.6928, RMSE: 1.4745, R2: 0.8840\n",
      "\n",
      "Repeat 10/10\n"
     ]
    },
    {
     "name": "stderr",
     "output_type": "stream",
     "text": [
      "c:\\Users\\rezab\\anaconda3\\Lib\\site-packages\\sklearn\\utils\\validation.py:2732: UserWarning: X has feature names, but StandardScaler was fitted without feature names\n",
      "  warnings.warn(\n"
     ]
    },
    {
     "name": "stdout",
     "output_type": "stream",
     "text": [
      "\u001b[1m30/30\u001b[0m \u001b[32m━━━━━━━━━━━━━━━━━━━━\u001b[0m\u001b[37m\u001b[0m \u001b[1m0s\u001b[0m 2ms/step \n",
      "LR - MAPE: 0.8083, MAE: 1.4734, RMSE: 1.9106, R2: 0.8259\n",
      "DL - MAPE: 0.1742, MAE: 0.6647, RMSE: 1.3671, R2: 0.9108\n",
      "\n",
      "> System: x264, Dataset: sd_crew_cif_short.y4m.csv\n",
      "> Training data fraction: 0.7, Number of repeats: 10\n",
      "\n",
      "Repeat 1/10\n"
     ]
    },
    {
     "name": "stderr",
     "output_type": "stream",
     "text": [
      "c:\\Users\\rezab\\anaconda3\\Lib\\site-packages\\sklearn\\utils\\validation.py:2732: UserWarning: X has feature names, but StandardScaler was fitted without feature names\n",
      "  warnings.warn(\n"
     ]
    },
    {
     "name": "stdout",
     "output_type": "stream",
     "text": [
      "\u001b[1m30/30\u001b[0m \u001b[32m━━━━━━━━━━━━━━━━━━━━\u001b[0m\u001b[37m\u001b[0m \u001b[1m0s\u001b[0m 2ms/step \n",
      "LR - MAPE: 0.6417, MAE: 0.2513, RMSE: 0.3250, R2: 0.8476\n",
      "DL - MAPE: 0.1373, MAE: 0.1137, RMSE: 0.2234, R2: 0.9280\n",
      "\n",
      "Repeat 2/10\n"
     ]
    },
    {
     "name": "stderr",
     "output_type": "stream",
     "text": [
      "c:\\Users\\rezab\\anaconda3\\Lib\\site-packages\\sklearn\\utils\\validation.py:2732: UserWarning: X has feature names, but StandardScaler was fitted without feature names\n",
      "  warnings.warn(\n"
     ]
    },
    {
     "name": "stdout",
     "output_type": "stream",
     "text": [
      "\u001b[1m30/30\u001b[0m \u001b[32m━━━━━━━━━━━━━━━━━━━━\u001b[0m\u001b[37m\u001b[0m \u001b[1m0s\u001b[0m 2ms/step\n",
      "LR - MAPE: 0.6107, MAE: 0.2416, RMSE: 0.3139, R2: 0.8461\n",
      "DL - MAPE: 0.1593, MAE: 0.1059, RMSE: 0.2147, R2: 0.9280\n",
      "\n",
      "Repeat 3/10\n"
     ]
    },
    {
     "name": "stderr",
     "output_type": "stream",
     "text": [
      "c:\\Users\\rezab\\anaconda3\\Lib\\site-packages\\sklearn\\utils\\validation.py:2732: UserWarning: X has feature names, but StandardScaler was fitted without feature names\n",
      "  warnings.warn(\n"
     ]
    },
    {
     "name": "stdout",
     "output_type": "stream",
     "text": [
      "\u001b[1m30/30\u001b[0m \u001b[32m━━━━━━━━━━━━━━━━━━━━\u001b[0m\u001b[37m\u001b[0m \u001b[1m0s\u001b[0m 2ms/step \n",
      "LR - MAPE: 0.6299, MAE: 0.2399, RMSE: 0.3137, R2: 0.8558\n",
      "DL - MAPE: 0.1416, MAE: 0.1002, RMSE: 0.2018, R2: 0.9403\n",
      "\n",
      "Repeat 4/10\n"
     ]
    },
    {
     "name": "stderr",
     "output_type": "stream",
     "text": [
      "c:\\Users\\rezab\\anaconda3\\Lib\\site-packages\\sklearn\\utils\\validation.py:2732: UserWarning: X has feature names, but StandardScaler was fitted without feature names\n",
      "  warnings.warn(\n"
     ]
    },
    {
     "name": "stdout",
     "output_type": "stream",
     "text": [
      "\u001b[1m30/30\u001b[0m \u001b[32m━━━━━━━━━━━━━━━━━━━━\u001b[0m\u001b[37m\u001b[0m \u001b[1m0s\u001b[0m 2ms/step\n",
      "LR - MAPE: 0.6425, MAE: 0.2496, RMSE: 0.3210, R2: 0.8498\n",
      "DL - MAPE: 0.1336, MAE: 0.1052, RMSE: 0.2220, R2: 0.9282\n",
      "\n",
      "Repeat 5/10\n"
     ]
    },
    {
     "name": "stderr",
     "output_type": "stream",
     "text": [
      "c:\\Users\\rezab\\anaconda3\\Lib\\site-packages\\sklearn\\utils\\validation.py:2732: UserWarning: X has feature names, but StandardScaler was fitted without feature names\n",
      "  warnings.warn(\n"
     ]
    },
    {
     "name": "stdout",
     "output_type": "stream",
     "text": [
      "\u001b[1m30/30\u001b[0m \u001b[32m━━━━━━━━━━━━━━━━━━━━\u001b[0m\u001b[37m\u001b[0m \u001b[1m0s\u001b[0m 2ms/step\n",
      "LR - MAPE: 0.5546, MAE: 0.2394, RMSE: 0.3098, R2: 0.8556\n",
      "DL - MAPE: 0.1245, MAE: 0.1074, RMSE: 0.2260, R2: 0.9231\n",
      "\n",
      "Repeat 6/10\n"
     ]
    },
    {
     "name": "stderr",
     "output_type": "stream",
     "text": [
      "c:\\Users\\rezab\\anaconda3\\Lib\\site-packages\\sklearn\\utils\\validation.py:2732: UserWarning: X has feature names, but StandardScaler was fitted without feature names\n",
      "  warnings.warn(\n"
     ]
    },
    {
     "name": "stdout",
     "output_type": "stream",
     "text": [
      "\u001b[1m30/30\u001b[0m \u001b[32m━━━━━━━━━━━━━━━━━━━━\u001b[0m\u001b[37m\u001b[0m \u001b[1m0s\u001b[0m 2ms/step \n",
      "LR - MAPE: 0.5942, MAE: 0.2448, RMSE: 0.3196, R2: 0.8505\n",
      "DL - MAPE: 0.1257, MAE: 0.1117, RMSE: 0.2165, R2: 0.9314\n",
      "\n",
      "Repeat 7/10\n"
     ]
    },
    {
     "name": "stderr",
     "output_type": "stream",
     "text": [
      "c:\\Users\\rezab\\anaconda3\\Lib\\site-packages\\sklearn\\utils\\validation.py:2732: UserWarning: X has feature names, but StandardScaler was fitted without feature names\n",
      "  warnings.warn(\n"
     ]
    },
    {
     "name": "stdout",
     "output_type": "stream",
     "text": [
      "\u001b[1m30/30\u001b[0m \u001b[32m━━━━━━━━━━━━━━━━━━━━\u001b[0m\u001b[37m\u001b[0m \u001b[1m0s\u001b[0m 2ms/step \n",
      "LR - MAPE: 0.6220, MAE: 0.2516, RMSE: 0.3268, R2: 0.8447\n",
      "DL - MAPE: 0.1382, MAE: 0.1129, RMSE: 0.2215, R2: 0.9287\n",
      "\n",
      "Repeat 8/10\n"
     ]
    },
    {
     "name": "stderr",
     "output_type": "stream",
     "text": [
      "c:\\Users\\rezab\\anaconda3\\Lib\\site-packages\\sklearn\\utils\\validation.py:2732: UserWarning: X has feature names, but StandardScaler was fitted without feature names\n",
      "  warnings.warn(\n"
     ]
    },
    {
     "name": "stdout",
     "output_type": "stream",
     "text": [
      "\u001b[1m30/30\u001b[0m \u001b[32m━━━━━━━━━━━━━━━━━━━━\u001b[0m\u001b[37m\u001b[0m \u001b[1m0s\u001b[0m 2ms/step\n",
      "LR - MAPE: 0.6201, MAE: 0.2452, RMSE: 0.3181, R2: 0.8523\n",
      "DL - MAPE: 0.1427, MAE: 0.1111, RMSE: 0.2277, R2: 0.9243\n",
      "\n",
      "Repeat 9/10\n"
     ]
    },
    {
     "name": "stderr",
     "output_type": "stream",
     "text": [
      "c:\\Users\\rezab\\anaconda3\\Lib\\site-packages\\sklearn\\utils\\validation.py:2732: UserWarning: X has feature names, but StandardScaler was fitted without feature names\n",
      "  warnings.warn(\n"
     ]
    },
    {
     "name": "stdout",
     "output_type": "stream",
     "text": [
      "\u001b[1m30/30\u001b[0m \u001b[32m━━━━━━━━━━━━━━━━━━━━\u001b[0m\u001b[37m\u001b[0m \u001b[1m0s\u001b[0m 2ms/step \n",
      "LR - MAPE: 0.6284, MAE: 0.2449, RMSE: 0.3117, R2: 0.8422\n",
      "DL - MAPE: 0.1434, MAE: 0.1174, RMSE: 0.2243, R2: 0.9183\n",
      "\n",
      "Repeat 10/10\n"
     ]
    },
    {
     "name": "stderr",
     "output_type": "stream",
     "text": [
      "c:\\Users\\rezab\\anaconda3\\Lib\\site-packages\\sklearn\\utils\\validation.py:2732: UserWarning: X has feature names, but StandardScaler was fitted without feature names\n",
      "  warnings.warn(\n"
     ]
    },
    {
     "name": "stdout",
     "output_type": "stream",
     "text": [
      "\u001b[1m30/30\u001b[0m \u001b[32m━━━━━━━━━━━━━━━━━━━━\u001b[0m\u001b[37m\u001b[0m \u001b[1m0s\u001b[0m 2ms/step\n",
      "LR - MAPE: 0.6057, MAE: 0.2447, RMSE: 0.3192, R2: 0.8507\n",
      "DL - MAPE: 0.1257, MAE: 0.1125, RMSE: 0.2264, R2: 0.9249\n",
      "\n",
      "> System: x264, Dataset: sintel_trailer_2k_720p24_short.y4m.csv\n",
      "> Training data fraction: 0.7, Number of repeats: 10\n",
      "\n",
      "Repeat 1/10\n"
     ]
    },
    {
     "name": "stderr",
     "output_type": "stream",
     "text": [
      "c:\\Users\\rezab\\anaconda3\\Lib\\site-packages\\sklearn\\utils\\validation.py:2732: UserWarning: X has feature names, but StandardScaler was fitted without feature names\n",
      "  warnings.warn(\n"
     ]
    },
    {
     "name": "stdout",
     "output_type": "stream",
     "text": [
      "\u001b[1m30/30\u001b[0m \u001b[32m━━━━━━━━━━━━━━━━━━━━\u001b[0m\u001b[37m\u001b[0m \u001b[1m0s\u001b[0m 2ms/step \n",
      "LR - MAPE: 0.5380, MAE: 0.3817, RMSE: 0.4804, R2: 0.8819\n",
      "DL - MAPE: 0.1245, MAE: 0.1828, RMSE: 0.3643, R2: 0.9321\n",
      "\n",
      "Repeat 2/10\n"
     ]
    },
    {
     "name": "stderr",
     "output_type": "stream",
     "text": [
      "c:\\Users\\rezab\\anaconda3\\Lib\\site-packages\\sklearn\\utils\\validation.py:2732: UserWarning: X has feature names, but StandardScaler was fitted without feature names\n",
      "  warnings.warn(\n"
     ]
    },
    {
     "name": "stdout",
     "output_type": "stream",
     "text": [
      "\u001b[1m30/30\u001b[0m \u001b[32m━━━━━━━━━━━━━━━━━━━━\u001b[0m\u001b[37m\u001b[0m \u001b[1m0s\u001b[0m 2ms/step\n",
      "LR - MAPE: 0.5066, MAE: 0.3650, RMSE: 0.4594, R2: 0.8839\n",
      "DL - MAPE: 0.1402, MAE: 0.1881, RMSE: 0.3579, R2: 0.9295\n",
      "\n",
      "Repeat 3/10\n"
     ]
    },
    {
     "name": "stderr",
     "output_type": "stream",
     "text": [
      "c:\\Users\\rezab\\anaconda3\\Lib\\site-packages\\sklearn\\utils\\validation.py:2732: UserWarning: X has feature names, but StandardScaler was fitted without feature names\n",
      "  warnings.warn(\n"
     ]
    },
    {
     "name": "stdout",
     "output_type": "stream",
     "text": [
      "\u001b[1m30/30\u001b[0m \u001b[32m━━━━━━━━━━━━━━━━━━━━\u001b[0m\u001b[37m\u001b[0m \u001b[1m0s\u001b[0m 2ms/step \n",
      "LR - MAPE: 0.5367, MAE: 0.3561, RMSE: 0.4434, R2: 0.8942\n",
      "DL - MAPE: 0.1215, MAE: 0.1607, RMSE: 0.3093, R2: 0.9485\n",
      "\n",
      "Repeat 4/10\n"
     ]
    },
    {
     "name": "stderr",
     "output_type": "stream",
     "text": [
      "c:\\Users\\rezab\\anaconda3\\Lib\\site-packages\\sklearn\\utils\\validation.py:2732: UserWarning: X has feature names, but StandardScaler was fitted without feature names\n",
      "  warnings.warn(\n"
     ]
    },
    {
     "name": "stdout",
     "output_type": "stream",
     "text": [
      "\u001b[1m30/30\u001b[0m \u001b[32m━━━━━━━━━━━━━━━━━━━━\u001b[0m\u001b[37m\u001b[0m \u001b[1m0s\u001b[0m 2ms/step \n",
      "LR - MAPE: 0.5244, MAE: 0.3759, RMSE: 0.4767, R2: 0.8821\n",
      "DL - MAPE: 0.1213, MAE: 0.1743, RMSE: 0.3349, R2: 0.9418\n",
      "\n",
      "Repeat 5/10\n"
     ]
    },
    {
     "name": "stderr",
     "output_type": "stream",
     "text": [
      "c:\\Users\\rezab\\anaconda3\\Lib\\site-packages\\sklearn\\utils\\validation.py:2732: UserWarning: X has feature names, but StandardScaler was fitted without feature names\n",
      "  warnings.warn(\n"
     ]
    },
    {
     "name": "stdout",
     "output_type": "stream",
     "text": [
      "\u001b[1m30/30\u001b[0m \u001b[32m━━━━━━━━━━━━━━━━━━━━\u001b[0m\u001b[37m\u001b[0m \u001b[1m0s\u001b[0m 2ms/step \n",
      "LR - MAPE: 0.4651, MAE: 0.3620, RMSE: 0.4622, R2: 0.8871\n",
      "DL - MAPE: 0.1191, MAE: 0.1789, RMSE: 0.3420, R2: 0.9382\n",
      "\n",
      "Repeat 6/10\n"
     ]
    },
    {
     "name": "stderr",
     "output_type": "stream",
     "text": [
      "c:\\Users\\rezab\\anaconda3\\Lib\\site-packages\\sklearn\\utils\\validation.py:2732: UserWarning: X has feature names, but StandardScaler was fitted without feature names\n",
      "  warnings.warn(\n"
     ]
    },
    {
     "name": "stdout",
     "output_type": "stream",
     "text": [
      "\u001b[1m30/30\u001b[0m \u001b[32m━━━━━━━━━━━━━━━━━━━━\u001b[0m\u001b[37m\u001b[0m \u001b[1m0s\u001b[0m 2ms/step\n",
      "LR - MAPE: 0.5027, MAE: 0.3700, RMSE: 0.4651, R2: 0.8865\n",
      "DL - MAPE: 0.1227, MAE: 0.1751, RMSE: 0.3425, R2: 0.9384\n",
      "\n",
      "Repeat 7/10\n"
     ]
    },
    {
     "name": "stderr",
     "output_type": "stream",
     "text": [
      "c:\\Users\\rezab\\anaconda3\\Lib\\site-packages\\sklearn\\utils\\validation.py:2732: UserWarning: X has feature names, but StandardScaler was fitted without feature names\n",
      "  warnings.warn(\n"
     ]
    },
    {
     "name": "stdout",
     "output_type": "stream",
     "text": [
      "\u001b[1m30/30\u001b[0m \u001b[32m━━━━━━━━━━━━━━━━━━━━\u001b[0m\u001b[37m\u001b[0m \u001b[1m0s\u001b[0m 2ms/step \n",
      "LR - MAPE: 0.5141, MAE: 0.3770, RMSE: 0.4767, R2: 0.8808\n",
      "DL - MAPE: 0.1261, MAE: 0.1763, RMSE: 0.3359, R2: 0.9408\n",
      "\n",
      "Repeat 8/10\n"
     ]
    },
    {
     "name": "stderr",
     "output_type": "stream",
     "text": [
      "c:\\Users\\rezab\\anaconda3\\Lib\\site-packages\\sklearn\\utils\\validation.py:2732: UserWarning: X has feature names, but StandardScaler was fitted without feature names\n",
      "  warnings.warn(\n"
     ]
    },
    {
     "name": "stdout",
     "output_type": "stream",
     "text": [
      "\u001b[1m30/30\u001b[0m \u001b[32m━━━━━━━━━━━━━━━━━━━━\u001b[0m\u001b[37m\u001b[0m \u001b[1m0s\u001b[0m 3ms/step\n",
      "LR - MAPE: 0.5108, MAE: 0.3716, RMSE: 0.4695, R2: 0.8855\n",
      "DL - MAPE: 0.1201, MAE: 0.1792, RMSE: 0.3335, R2: 0.9422\n",
      "\n",
      "Repeat 9/10\n"
     ]
    },
    {
     "name": "stderr",
     "output_type": "stream",
     "text": [
      "c:\\Users\\rezab\\anaconda3\\Lib\\site-packages\\sklearn\\utils\\validation.py:2732: UserWarning: X has feature names, but StandardScaler was fitted without feature names\n",
      "  warnings.warn(\n"
     ]
    },
    {
     "name": "stdout",
     "output_type": "stream",
     "text": [
      "\u001b[1m30/30\u001b[0m \u001b[32m━━━━━━━━━━━━━━━━━━━━\u001b[0m\u001b[37m\u001b[0m \u001b[1m0s\u001b[0m 2ms/step \n",
      "LR - MAPE: 0.5143, MAE: 0.3604, RMSE: 0.4462, R2: 0.8854\n",
      "DL - MAPE: 0.1255, MAE: 0.1765, RMSE: 0.3272, R2: 0.9384\n",
      "\n",
      "Repeat 10/10\n"
     ]
    },
    {
     "name": "stderr",
     "output_type": "stream",
     "text": [
      "c:\\Users\\rezab\\anaconda3\\Lib\\site-packages\\sklearn\\utils\\validation.py:2732: UserWarning: X has feature names, but StandardScaler was fitted without feature names\n",
      "  warnings.warn(\n"
     ]
    },
    {
     "name": "stdout",
     "output_type": "stream",
     "text": [
      "\u001b[1m30/30\u001b[0m \u001b[32m━━━━━━━━━━━━━━━━━━━━\u001b[0m\u001b[37m\u001b[0m \u001b[1m0s\u001b[0m 2ms/step\n",
      "LR - MAPE: 0.5096, MAE: 0.3669, RMSE: 0.4620, R2: 0.8868\n",
      "DL - MAPE: 0.1225, MAE: 0.1738, RMSE: 0.3472, R2: 0.9361\n",
      "\n",
      "==================================================\n",
      "Processing system: xz\n",
      "==================================================\n",
      "\n",
      "> System: xz, Dataset: ambivert.wav.tar.csv\n",
      "> Training data fraction: 0.7, Number of repeats: 10\n",
      "\n",
      "Repeat 1/10\n"
     ]
    },
    {
     "name": "stderr",
     "output_type": "stream",
     "text": [
      "c:\\Users\\rezab\\anaconda3\\Lib\\site-packages\\sklearn\\utils\\validation.py:2732: UserWarning: X has feature names, but StandardScaler was fitted without feature names\n",
      "  warnings.warn(\n"
     ]
    },
    {
     "name": "stdout",
     "output_type": "stream",
     "text": [
      "\u001b[1m19/19\u001b[0m \u001b[32m━━━━━━━━━━━━━━━━━━━━\u001b[0m\u001b[37m\u001b[0m \u001b[1m0s\u001b[0m 3ms/step \n",
      "LR - MAPE: 1.3448, MAE: 12.7268, RMSE: 16.6260, R2: 0.6762\n",
      "DL - MAPE: 0.0979, MAE: 1.6514, RMSE: 3.0863, R2: 0.9888\n",
      "\n",
      "Repeat 2/10\n"
     ]
    },
    {
     "name": "stderr",
     "output_type": "stream",
     "text": [
      "c:\\Users\\rezab\\anaconda3\\Lib\\site-packages\\sklearn\\utils\\validation.py:2732: UserWarning: X has feature names, but StandardScaler was fitted without feature names\n",
      "  warnings.warn(\n"
     ]
    },
    {
     "name": "stdout",
     "output_type": "stream",
     "text": [
      "\u001b[1m19/19\u001b[0m \u001b[32m━━━━━━━━━━━━━━━━━━━━\u001b[0m\u001b[37m\u001b[0m \u001b[1m0s\u001b[0m 3ms/step \n",
      "LR - MAPE: 1.3880, MAE: 12.9823, RMSE: 17.1567, R2: 0.6464\n",
      "DL - MAPE: 0.0670, MAE: 0.9510, RMSE: 1.8810, R2: 0.9957\n",
      "\n",
      "Repeat 3/10\n"
     ]
    },
    {
     "name": "stderr",
     "output_type": "stream",
     "text": [
      "c:\\Users\\rezab\\anaconda3\\Lib\\site-packages\\sklearn\\utils\\validation.py:2732: UserWarning: X has feature names, but StandardScaler was fitted without feature names\n",
      "  warnings.warn(\n"
     ]
    },
    {
     "name": "stdout",
     "output_type": "stream",
     "text": [
      "\u001b[1m19/19\u001b[0m \u001b[32m━━━━━━━━━━━━━━━━━━━━\u001b[0m\u001b[37m\u001b[0m \u001b[1m0s\u001b[0m 3ms/step \n",
      "LR - MAPE: 1.2191, MAE: 13.4824, RMSE: 17.5723, R2: 0.7121\n",
      "DL - MAPE: 0.0592, MAE: 1.3681, RMSE: 2.4863, R2: 0.9942\n",
      "\n",
      "Repeat 4/10\n"
     ]
    },
    {
     "name": "stderr",
     "output_type": "stream",
     "text": [
      "c:\\Users\\rezab\\anaconda3\\Lib\\site-packages\\sklearn\\utils\\validation.py:2732: UserWarning: X has feature names, but StandardScaler was fitted without feature names\n",
      "  warnings.warn(\n"
     ]
    },
    {
     "name": "stdout",
     "output_type": "stream",
     "text": [
      "\u001b[1m19/19\u001b[0m \u001b[32m━━━━━━━━━━━━━━━━━━━━\u001b[0m\u001b[37m\u001b[0m \u001b[1m0s\u001b[0m 3ms/step \n",
      "LR - MAPE: 1.2692, MAE: 13.1317, RMSE: 17.2803, R2: 0.7003\n",
      "DL - MAPE: 0.0692, MAE: 1.1239, RMSE: 2.1397, R2: 0.9954\n",
      "\n",
      "Repeat 5/10\n"
     ]
    },
    {
     "name": "stderr",
     "output_type": "stream",
     "text": [
      "c:\\Users\\rezab\\anaconda3\\Lib\\site-packages\\sklearn\\utils\\validation.py:2732: UserWarning: X has feature names, but StandardScaler was fitted without feature names\n",
      "  warnings.warn(\n"
     ]
    },
    {
     "name": "stdout",
     "output_type": "stream",
     "text": [
      "\u001b[1m19/19\u001b[0m \u001b[32m━━━━━━━━━━━━━━━━━━━━\u001b[0m\u001b[37m\u001b[0m \u001b[1m0s\u001b[0m 3ms/step \n",
      "LR - MAPE: 1.4192, MAE: 14.0306, RMSE: 17.9605, R2: 0.6731\n",
      "DL - MAPE: 0.0706, MAE: 1.1475, RMSE: 2.0641, R2: 0.9957\n",
      "\n",
      "Repeat 6/10\n"
     ]
    },
    {
     "name": "stderr",
     "output_type": "stream",
     "text": [
      "c:\\Users\\rezab\\anaconda3\\Lib\\site-packages\\sklearn\\utils\\validation.py:2732: UserWarning: X has feature names, but StandardScaler was fitted without feature names\n",
      "  warnings.warn(\n"
     ]
    },
    {
     "name": "stdout",
     "output_type": "stream",
     "text": [
      "\u001b[1m19/19\u001b[0m \u001b[32m━━━━━━━━━━━━━━━━━━━━\u001b[0m\u001b[37m\u001b[0m \u001b[1m0s\u001b[0m 3ms/step \n",
      "LR - MAPE: 1.3439, MAE: 12.8160, RMSE: 16.3037, R2: 0.6450\n",
      "DL - MAPE: 0.0684, MAE: 1.0961, RMSE: 2.0660, R2: 0.9943\n",
      "\n",
      "Repeat 7/10\n"
     ]
    },
    {
     "name": "stderr",
     "output_type": "stream",
     "text": [
      "c:\\Users\\rezab\\anaconda3\\Lib\\site-packages\\sklearn\\utils\\validation.py:2732: UserWarning: X has feature names, but StandardScaler was fitted without feature names\n",
      "  warnings.warn(\n"
     ]
    },
    {
     "name": "stdout",
     "output_type": "stream",
     "text": [
      "\u001b[1m19/19\u001b[0m \u001b[32m━━━━━━━━━━━━━━━━━━━━\u001b[0m\u001b[37m\u001b[0m \u001b[1m0s\u001b[0m 3ms/step \n",
      "LR - MAPE: 1.5042, MAE: 13.8412, RMSE: 17.7682, R2: 0.6395\n",
      "DL - MAPE: 0.0749, MAE: 0.9849, RMSE: 1.7566, R2: 0.9965\n",
      "\n",
      "Repeat 8/10\n"
     ]
    },
    {
     "name": "stderr",
     "output_type": "stream",
     "text": [
      "c:\\Users\\rezab\\anaconda3\\Lib\\site-packages\\sklearn\\utils\\validation.py:2732: UserWarning: X has feature names, but StandardScaler was fitted without feature names\n",
      "  warnings.warn(\n"
     ]
    },
    {
     "name": "stdout",
     "output_type": "stream",
     "text": [
      "\u001b[1m19/19\u001b[0m \u001b[32m━━━━━━━━━━━━━━━━━━━━\u001b[0m\u001b[37m\u001b[0m \u001b[1m0s\u001b[0m 3ms/step \n",
      "LR - MAPE: 1.3337, MAE: 13.1726, RMSE: 16.8043, R2: 0.6900\n",
      "DL - MAPE: 0.0656, MAE: 1.1471, RMSE: 2.3906, R2: 0.9937\n",
      "\n",
      "Repeat 9/10\n"
     ]
    },
    {
     "name": "stderr",
     "output_type": "stream",
     "text": [
      "c:\\Users\\rezab\\anaconda3\\Lib\\site-packages\\sklearn\\utils\\validation.py:2732: UserWarning: X has feature names, but StandardScaler was fitted without feature names\n",
      "  warnings.warn(\n"
     ]
    },
    {
     "name": "stdout",
     "output_type": "stream",
     "text": [
      "\u001b[1m19/19\u001b[0m \u001b[32m━━━━━━━━━━━━━━━━━━━━\u001b[0m\u001b[37m\u001b[0m \u001b[1m0s\u001b[0m 3ms/step \n",
      "LR - MAPE: 1.4226, MAE: 13.2089, RMSE: 16.8800, R2: 0.6454\n",
      "DL - MAPE: 0.0869, MAE: 1.2561, RMSE: 2.0526, R2: 0.9948\n",
      "\n",
      "Repeat 10/10\n"
     ]
    },
    {
     "name": "stderr",
     "output_type": "stream",
     "text": [
      "c:\\Users\\rezab\\anaconda3\\Lib\\site-packages\\sklearn\\utils\\validation.py:2732: UserWarning: X has feature names, but StandardScaler was fitted without feature names\n",
      "  warnings.warn(\n"
     ]
    },
    {
     "name": "stdout",
     "output_type": "stream",
     "text": [
      "\u001b[1m19/19\u001b[0m \u001b[32m━━━━━━━━━━━━━━━━━━━━\u001b[0m\u001b[37m\u001b[0m \u001b[1m0s\u001b[0m 3ms/step \n",
      "LR - MAPE: 1.2806, MAE: 12.8621, RMSE: 16.5674, R2: 0.6896\n",
      "DL - MAPE: 0.0637, MAE: 1.0118, RMSE: 1.9854, R2: 0.9955\n",
      "\n",
      "> System: xz, Dataset: artificl.tar.csv\n",
      "> Training data fraction: 0.7, Number of repeats: 10\n",
      "\n",
      "Repeat 1/10\n"
     ]
    },
    {
     "name": "stderr",
     "output_type": "stream",
     "text": [
      "c:\\Users\\rezab\\anaconda3\\Lib\\site-packages\\sklearn\\utils\\validation.py:2732: UserWarning: X has feature names, but StandardScaler was fitted without feature names\n",
      "  warnings.warn(\n"
     ]
    },
    {
     "name": "stdout",
     "output_type": "stream",
     "text": [
      "\u001b[1m19/19\u001b[0m \u001b[32m━━━━━━━━━━━━━━━━━━━━\u001b[0m\u001b[37m\u001b[0m \u001b[1m0s\u001b[0m 3ms/step \n",
      "LR - MAPE: 0.2862, MAE: 0.0065, RMSE: 0.0077, R2: 0.1638\n",
      "DL - MAPE: 0.3223, MAE: 0.0059, RMSE: 0.0088, R2: -0.0804\n",
      "\n",
      "Repeat 2/10\n"
     ]
    },
    {
     "name": "stderr",
     "output_type": "stream",
     "text": [
      "c:\\Users\\rezab\\anaconda3\\Lib\\site-packages\\sklearn\\utils\\validation.py:2732: UserWarning: X has feature names, but StandardScaler was fitted without feature names\n",
      "  warnings.warn(\n"
     ]
    },
    {
     "name": "stdout",
     "output_type": "stream",
     "text": [
      "\u001b[1m19/19\u001b[0m \u001b[32m━━━━━━━━━━━━━━━━━━━━\u001b[0m\u001b[37m\u001b[0m \u001b[1m0s\u001b[0m 3ms/step \n",
      "LR - MAPE: 0.2988, MAE: 0.0062, RMSE: 0.0075, R2: 0.2351\n",
      "DL - MAPE: 0.3537, MAE: 0.0062, RMSE: 0.0090, R2: -0.1201\n",
      "\n",
      "Repeat 3/10\n"
     ]
    },
    {
     "name": "stderr",
     "output_type": "stream",
     "text": [
      "c:\\Users\\rezab\\anaconda3\\Lib\\site-packages\\sklearn\\utils\\validation.py:2732: UserWarning: X has feature names, but StandardScaler was fitted without feature names\n",
      "  warnings.warn(\n"
     ]
    },
    {
     "name": "stdout",
     "output_type": "stream",
     "text": [
      "\u001b[1m19/19\u001b[0m \u001b[32m━━━━━━━━━━━━━━━━━━━━\u001b[0m\u001b[37m\u001b[0m \u001b[1m0s\u001b[0m 3ms/step \n",
      "LR - MAPE: 0.2958, MAE: 0.0064, RMSE: 0.0076, R2: 0.1812\n",
      "DL - MAPE: 0.3386, MAE: 0.0061, RMSE: 0.0088, R2: -0.1177\n",
      "\n",
      "Repeat 4/10\n"
     ]
    },
    {
     "name": "stderr",
     "output_type": "stream",
     "text": [
      "c:\\Users\\rezab\\anaconda3\\Lib\\site-packages\\sklearn\\utils\\validation.py:2732: UserWarning: X has feature names, but StandardScaler was fitted without feature names\n",
      "  warnings.warn(\n"
     ]
    },
    {
     "name": "stdout",
     "output_type": "stream",
     "text": [
      "\u001b[1m19/19\u001b[0m \u001b[32m━━━━━━━━━━━━━━━━━━━━\u001b[0m\u001b[37m\u001b[0m \u001b[1m0s\u001b[0m 3ms/step \n",
      "LR - MAPE: 0.2883, MAE: 0.0062, RMSE: 0.0076, R2: 0.2003\n",
      "DL - MAPE: 0.3337, MAE: 0.0060, RMSE: 0.0088, R2: -0.0959\n",
      "\n",
      "Repeat 5/10\n"
     ]
    },
    {
     "name": "stderr",
     "output_type": "stream",
     "text": [
      "c:\\Users\\rezab\\anaconda3\\Lib\\site-packages\\sklearn\\utils\\validation.py:2732: UserWarning: X has feature names, but StandardScaler was fitted without feature names\n",
      "  warnings.warn(\n"
     ]
    },
    {
     "name": "stdout",
     "output_type": "stream",
     "text": [
      "\u001b[1m19/19\u001b[0m \u001b[32m━━━━━━━━━━━━━━━━━━━━\u001b[0m\u001b[37m\u001b[0m \u001b[1m0s\u001b[0m 3ms/step \n",
      "LR - MAPE: 0.3047, MAE: 0.0066, RMSE: 0.0079, R2: 0.1939\n",
      "DL - MAPE: 0.3546, MAE: 0.0064, RMSE: 0.0092, R2: -0.0962\n",
      "\n",
      "Repeat 6/10\n"
     ]
    },
    {
     "name": "stderr",
     "output_type": "stream",
     "text": [
      "c:\\Users\\rezab\\anaconda3\\Lib\\site-packages\\sklearn\\utils\\validation.py:2732: UserWarning: X has feature names, but StandardScaler was fitted without feature names\n",
      "  warnings.warn(\n"
     ]
    },
    {
     "name": "stdout",
     "output_type": "stream",
     "text": [
      "\u001b[1m19/19\u001b[0m \u001b[32m━━━━━━━━━━━━━━━━━━━━\u001b[0m\u001b[37m\u001b[0m \u001b[1m0s\u001b[0m 3ms/step \n",
      "LR - MAPE: 0.2805, MAE: 0.0061, RMSE: 0.0074, R2: 0.2031\n",
      "DL - MAPE: 0.3194, MAE: 0.0060, RMSE: 0.0087, R2: -0.1002\n",
      "\n",
      "Repeat 7/10\n"
     ]
    },
    {
     "name": "stderr",
     "output_type": "stream",
     "text": [
      "c:\\Users\\rezab\\anaconda3\\Lib\\site-packages\\sklearn\\utils\\validation.py:2732: UserWarning: X has feature names, but StandardScaler was fitted without feature names\n",
      "  warnings.warn(\n"
     ]
    },
    {
     "name": "stdout",
     "output_type": "stream",
     "text": [
      "\u001b[1m19/19\u001b[0m \u001b[32m━━━━━━━━━━━━━━━━━━━━\u001b[0m\u001b[37m\u001b[0m \u001b[1m0s\u001b[0m 3ms/step \n",
      "LR - MAPE: 0.3110, MAE: 0.0066, RMSE: 0.0078, R2: 0.2075\n",
      "DL - MAPE: 0.3620, MAE: 0.0064, RMSE: 0.0092, R2: -0.0929\n",
      "\n",
      "Repeat 8/10\n"
     ]
    },
    {
     "name": "stderr",
     "output_type": "stream",
     "text": [
      "c:\\Users\\rezab\\anaconda3\\Lib\\site-packages\\sklearn\\utils\\validation.py:2732: UserWarning: X has feature names, but StandardScaler was fitted without feature names\n",
      "  warnings.warn(\n"
     ]
    },
    {
     "name": "stdout",
     "output_type": "stream",
     "text": [
      "\u001b[1m19/19\u001b[0m \u001b[32m━━━━━━━━━━━━━━━━━━━━\u001b[0m\u001b[37m\u001b[0m \u001b[1m0s\u001b[0m 3ms/step \n",
      "LR - MAPE: 0.2819, MAE: 0.0064, RMSE: 0.0076, R2: 0.1494\n",
      "DL - MAPE: 0.3100, MAE: 0.0058, RMSE: 0.0085, R2: -0.0724\n",
      "\n",
      "Repeat 9/10\n"
     ]
    },
    {
     "name": "stderr",
     "output_type": "stream",
     "text": [
      "c:\\Users\\rezab\\anaconda3\\Lib\\site-packages\\sklearn\\utils\\validation.py:2732: UserWarning: X has feature names, but StandardScaler was fitted without feature names\n",
      "  warnings.warn(\n"
     ]
    },
    {
     "name": "stdout",
     "output_type": "stream",
     "text": [
      "\u001b[1m19/19\u001b[0m \u001b[32m━━━━━━━━━━━━━━━━━━━━\u001b[0m\u001b[37m\u001b[0m \u001b[1m0s\u001b[0m 4ms/step\n",
      "LR - MAPE: 0.2947, MAE: 0.0064, RMSE: 0.0076, R2: 0.1809\n",
      "DL - MAPE: 0.3356, MAE: 0.0061, RMSE: 0.0089, R2: -0.1155\n",
      "\n",
      "Repeat 10/10\n"
     ]
    },
    {
     "name": "stderr",
     "output_type": "stream",
     "text": [
      "c:\\Users\\rezab\\anaconda3\\Lib\\site-packages\\sklearn\\utils\\validation.py:2732: UserWarning: X has feature names, but StandardScaler was fitted without feature names\n",
      "  warnings.warn(\n"
     ]
    },
    {
     "name": "stdout",
     "output_type": "stream",
     "text": [
      "\u001b[1m19/19\u001b[0m \u001b[32m━━━━━━━━━━━━━━━━━━━━\u001b[0m\u001b[37m\u001b[0m \u001b[1m0s\u001b[0m 3ms/step \n",
      "LR - MAPE: 0.2958, MAE: 0.0064, RMSE: 0.0077, R2: 0.2119\n",
      "DL - MAPE: 0.3440, MAE: 0.0063, RMSE: 0.0090, R2: -0.0965\n",
      "\n",
      "> System: xz, Dataset: deepfield.tar.csv\n",
      "> Training data fraction: 0.7, Number of repeats: 10\n",
      "\n",
      "Repeat 1/10\n"
     ]
    },
    {
     "name": "stderr",
     "output_type": "stream",
     "text": [
      "c:\\Users\\rezab\\anaconda3\\Lib\\site-packages\\sklearn\\utils\\validation.py:2732: UserWarning: X has feature names, but StandardScaler was fitted without feature names\n",
      "  warnings.warn(\n"
     ]
    },
    {
     "name": "stdout",
     "output_type": "stream",
     "text": [
      "\u001b[1m19/19\u001b[0m \u001b[32m━━━━━━━━━━━━━━━━━━━━\u001b[0m\u001b[37m\u001b[0m \u001b[1m0s\u001b[0m 3ms/step \n",
      "LR - MAPE: 0.5935, MAE: 5.4078, RMSE: 7.4711, R2: 0.7006\n",
      "DL - MAPE: 0.0487, MAE: 0.9802, RMSE: 4.3784, R2: 0.8972\n",
      "\n",
      "Repeat 2/10\n"
     ]
    },
    {
     "name": "stderr",
     "output_type": "stream",
     "text": [
      "c:\\Users\\rezab\\anaconda3\\Lib\\site-packages\\sklearn\\utils\\validation.py:2732: UserWarning: X has feature names, but StandardScaler was fitted without feature names\n",
      "  warnings.warn(\n"
     ]
    },
    {
     "name": "stdout",
     "output_type": "stream",
     "text": [
      "\u001b[1m19/19\u001b[0m \u001b[32m━━━━━━━━━━━━━━━━━━━━\u001b[0m\u001b[37m\u001b[0m \u001b[1m0s\u001b[0m 3ms/step \n",
      "LR - MAPE: 0.6074, MAE: 5.7867, RMSE: 8.2073, R2: 0.6745\n",
      "DL - MAPE: 0.0690, MAE: 1.2626, RMSE: 5.0288, R2: 0.8778\n",
      "\n",
      "Repeat 3/10\n"
     ]
    },
    {
     "name": "stderr",
     "output_type": "stream",
     "text": [
      "c:\\Users\\rezab\\anaconda3\\Lib\\site-packages\\sklearn\\utils\\validation.py:2732: UserWarning: X has feature names, but StandardScaler was fitted without feature names\n",
      "  warnings.warn(\n"
     ]
    },
    {
     "name": "stdout",
     "output_type": "stream",
     "text": [
      "\u001b[1m19/19\u001b[0m \u001b[32m━━━━━━━━━━━━━━━━━━━━\u001b[0m\u001b[37m\u001b[0m \u001b[1m0s\u001b[0m 3ms/step \n",
      "LR - MAPE: 0.5887, MAE: 5.6526, RMSE: 7.9522, R2: 0.6900\n",
      "DL - MAPE: 0.0429, MAE: 0.9834, RMSE: 4.9182, R2: 0.8814\n",
      "\n",
      "Repeat 4/10\n"
     ]
    },
    {
     "name": "stderr",
     "output_type": "stream",
     "text": [
      "c:\\Users\\rezab\\anaconda3\\Lib\\site-packages\\sklearn\\utils\\validation.py:2732: UserWarning: X has feature names, but StandardScaler was fitted without feature names\n",
      "  warnings.warn(\n"
     ]
    },
    {
     "name": "stdout",
     "output_type": "stream",
     "text": [
      "\u001b[1m19/19\u001b[0m \u001b[32m━━━━━━━━━━━━━━━━━━━━\u001b[0m\u001b[37m\u001b[0m \u001b[1m0s\u001b[0m 3ms/step \n",
      "LR - MAPE: 0.5713, MAE: 5.6722, RMSE: 8.4510, R2: 0.6720\n",
      "DL - MAPE: 0.0556, MAE: 1.2340, RMSE: 5.3574, R2: 0.8682\n",
      "\n",
      "Repeat 5/10\n"
     ]
    },
    {
     "name": "stderr",
     "output_type": "stream",
     "text": [
      "c:\\Users\\rezab\\anaconda3\\Lib\\site-packages\\sklearn\\utils\\validation.py:2732: UserWarning: X has feature names, but StandardScaler was fitted without feature names\n",
      "  warnings.warn(\n"
     ]
    },
    {
     "name": "stdout",
     "output_type": "stream",
     "text": [
      "\u001b[1m19/19\u001b[0m \u001b[32m━━━━━━━━━━━━━━━━━━━━\u001b[0m\u001b[37m\u001b[0m \u001b[1m0s\u001b[0m 4ms/step\n",
      "LR - MAPE: 0.6365, MAE: 5.8789, RMSE: 8.3523, R2: 0.6504\n",
      "DL - MAPE: 0.0722, MAE: 1.4343, RMSE: 5.5348, R2: 0.8465\n",
      "\n",
      "Repeat 6/10\n"
     ]
    },
    {
     "name": "stderr",
     "output_type": "stream",
     "text": [
      "c:\\Users\\rezab\\anaconda3\\Lib\\site-packages\\sklearn\\utils\\validation.py:2732: UserWarning: X has feature names, but StandardScaler was fitted without feature names\n",
      "  warnings.warn(\n"
     ]
    },
    {
     "name": "stdout",
     "output_type": "stream",
     "text": [
      "\u001b[1m19/19\u001b[0m \u001b[32m━━━━━━━━━━━━━━━━━━━━\u001b[0m\u001b[37m\u001b[0m \u001b[1m0s\u001b[0m 3ms/step \n",
      "LR - MAPE: 0.6262, MAE: 5.9289, RMSE: 8.0715, R2: 0.6462\n",
      "DL - MAPE: 0.0621, MAE: 1.0951, RMSE: 4.7044, R2: 0.8798\n",
      "\n",
      "Repeat 7/10\n"
     ]
    },
    {
     "name": "stderr",
     "output_type": "stream",
     "text": [
      "c:\\Users\\rezab\\anaconda3\\Lib\\site-packages\\sklearn\\utils\\validation.py:2732: UserWarning: X has feature names, but StandardScaler was fitted without feature names\n",
      "  warnings.warn(\n"
     ]
    },
    {
     "name": "stdout",
     "output_type": "stream",
     "text": [
      "\u001b[1m19/19\u001b[0m \u001b[32m━━━━━━━━━━━━━━━━━━━━\u001b[0m\u001b[37m\u001b[0m \u001b[1m0s\u001b[0m 3ms/step \n",
      "LR - MAPE: 0.6631, MAE: 6.0902, RMSE: 8.8649, R2: 0.6210\n",
      "DL - MAPE: 0.0688, MAE: 1.3979, RMSE: 5.9715, R2: 0.8280\n",
      "\n",
      "Repeat 8/10\n"
     ]
    },
    {
     "name": "stderr",
     "output_type": "stream",
     "text": [
      "c:\\Users\\rezab\\anaconda3\\Lib\\site-packages\\sklearn\\utils\\validation.py:2732: UserWarning: X has feature names, but StandardScaler was fitted without feature names\n",
      "  warnings.warn(\n"
     ]
    },
    {
     "name": "stdout",
     "output_type": "stream",
     "text": [
      "\u001b[1m19/19\u001b[0m \u001b[32m━━━━━━━━━━━━━━━━━━━━\u001b[0m\u001b[37m\u001b[0m \u001b[1m0s\u001b[0m 3ms/step \n",
      "LR - MAPE: 0.6174, MAE: 5.7464, RMSE: 8.0832, R2: 0.6611\n",
      "DL - MAPE: 0.0507, MAE: 1.0309, RMSE: 4.8466, R2: 0.8782\n",
      "\n",
      "Repeat 9/10\n"
     ]
    },
    {
     "name": "stderr",
     "output_type": "stream",
     "text": [
      "c:\\Users\\rezab\\anaconda3\\Lib\\site-packages\\sklearn\\utils\\validation.py:2732: UserWarning: X has feature names, but StandardScaler was fitted without feature names\n",
      "  warnings.warn(\n"
     ]
    },
    {
     "name": "stdout",
     "output_type": "stream",
     "text": [
      "\u001b[1m19/19\u001b[0m \u001b[32m━━━━━━━━━━━━━━━━━━━━\u001b[0m\u001b[37m\u001b[0m \u001b[1m0s\u001b[0m 3ms/step \n",
      "LR - MAPE: 0.6452, MAE: 5.8694, RMSE: 8.0781, R2: 0.6570\n",
      "DL - MAPE: 0.0590, MAE: 1.1362, RMSE: 5.0119, R2: 0.8680\n",
      "\n",
      "Repeat 10/10\n"
     ]
    },
    {
     "name": "stderr",
     "output_type": "stream",
     "text": [
      "c:\\Users\\rezab\\anaconda3\\Lib\\site-packages\\sklearn\\utils\\validation.py:2732: UserWarning: X has feature names, but StandardScaler was fitted without feature names\n",
      "  warnings.warn(\n"
     ]
    },
    {
     "name": "stdout",
     "output_type": "stream",
     "text": [
      "\u001b[1m19/19\u001b[0m \u001b[32m━━━━━━━━━━━━━━━━━━━━\u001b[0m\u001b[37m\u001b[0m \u001b[1m0s\u001b[0m 3ms/step \n",
      "LR - MAPE: 0.5949, MAE: 5.7029, RMSE: 7.8668, R2: 0.6831\n",
      "DL - MAPE: 0.0525, MAE: 1.0065, RMSE: 4.4814, R2: 0.8972\n",
      "\n",
      "> System: xz, Dataset: enwik8.tar.csv\n",
      "> Training data fraction: 0.7, Number of repeats: 10\n",
      "\n",
      "Repeat 1/10\n"
     ]
    },
    {
     "name": "stderr",
     "output_type": "stream",
     "text": [
      "c:\\Users\\rezab\\anaconda3\\Lib\\site-packages\\sklearn\\utils\\validation.py:2732: UserWarning: X has feature names, but StandardScaler was fitted without feature names\n",
      "  warnings.warn(\n"
     ]
    },
    {
     "name": "stdout",
     "output_type": "stream",
     "text": [
      "\u001b[1m19/19\u001b[0m \u001b[32m━━━━━━━━━━━━━━━━━━━━\u001b[0m\u001b[37m\u001b[0m \u001b[1m0s\u001b[0m 3ms/step \n",
      "LR - MAPE: 1.9948, MAE: 68.3306, RMSE: 87.9767, R2: 0.6042\n",
      "DL - MAPE: 0.1030, MAE: 8.9029, RMSE: 23.4381, R2: 0.9719\n",
      "\n",
      "Repeat 2/10\n"
     ]
    },
    {
     "name": "stderr",
     "output_type": "stream",
     "text": [
      "c:\\Users\\rezab\\anaconda3\\Lib\\site-packages\\sklearn\\utils\\validation.py:2732: UserWarning: X has feature names, but StandardScaler was fitted without feature names\n",
      "  warnings.warn(\n"
     ]
    },
    {
     "name": "stdout",
     "output_type": "stream",
     "text": [
      "\u001b[1m19/19\u001b[0m \u001b[32m━━━━━━━━━━━━━━━━━━━━\u001b[0m\u001b[37m\u001b[0m \u001b[1m0s\u001b[0m 3ms/step \n",
      "LR - MAPE: 2.1312, MAE: 72.8336, RMSE: 95.3731, R2: 0.5435\n",
      "DL - MAPE: 0.1006, MAE: 9.4899, RMSE: 31.0070, R2: 0.9517\n",
      "\n",
      "Repeat 3/10\n"
     ]
    },
    {
     "name": "stderr",
     "output_type": "stream",
     "text": [
      "c:\\Users\\rezab\\anaconda3\\Lib\\site-packages\\sklearn\\utils\\validation.py:2732: UserWarning: X has feature names, but StandardScaler was fitted without feature names\n",
      "  warnings.warn(\n"
     ]
    },
    {
     "name": "stdout",
     "output_type": "stream",
     "text": [
      "\u001b[1m19/19\u001b[0m \u001b[32m━━━━━━━━━━━━━━━━━━━━\u001b[0m\u001b[37m\u001b[0m \u001b[1m0s\u001b[0m 3ms/step \n",
      "LR - MAPE: 1.7840, MAE: 74.2894, RMSE: 103.1460, R2: 0.6210\n",
      "DL - MAPE: 0.0890, MAE: 17.5837, RMSE: 54.0881, R2: 0.8958\n",
      "\n",
      "Repeat 4/10\n"
     ]
    },
    {
     "name": "stderr",
     "output_type": "stream",
     "text": [
      "c:\\Users\\rezab\\anaconda3\\Lib\\site-packages\\sklearn\\utils\\validation.py:2732: UserWarning: X has feature names, but StandardScaler was fitted without feature names\n",
      "  warnings.warn(\n"
     ]
    },
    {
     "name": "stdout",
     "output_type": "stream",
     "text": [
      "\u001b[1m19/19\u001b[0m \u001b[32m━━━━━━━━━━━━━━━━━━━━\u001b[0m\u001b[37m\u001b[0m \u001b[1m0s\u001b[0m 3ms/step \n",
      "LR - MAPE: 1.8758, MAE: 72.5003, RMSE: 97.2247, R2: 0.6163\n",
      "DL - MAPE: 0.0968, MAE: 14.4832, RMSE: 41.1556, R2: 0.9312\n",
      "\n",
      "Repeat 5/10\n"
     ]
    },
    {
     "name": "stderr",
     "output_type": "stream",
     "text": [
      "c:\\Users\\rezab\\anaconda3\\Lib\\site-packages\\sklearn\\utils\\validation.py:2732: UserWarning: X has feature names, but StandardScaler was fitted without feature names\n",
      "  warnings.warn(\n"
     ]
    },
    {
     "name": "stdout",
     "output_type": "stream",
     "text": [
      "\u001b[1m19/19\u001b[0m \u001b[32m━━━━━━━━━━━━━━━━━━━━\u001b[0m\u001b[37m\u001b[0m \u001b[1m0s\u001b[0m 3ms/step \n",
      "LR - MAPE: 2.0194, MAE: 73.9554, RMSE: 95.7158, R2: 0.6101\n",
      "DL - MAPE: 0.0898, MAE: 9.9314, RMSE: 29.5581, R2: 0.9628\n",
      "\n",
      "Repeat 6/10\n"
     ]
    },
    {
     "name": "stderr",
     "output_type": "stream",
     "text": [
      "c:\\Users\\rezab\\anaconda3\\Lib\\site-packages\\sklearn\\utils\\validation.py:2732: UserWarning: X has feature names, but StandardScaler was fitted without feature names\n",
      "  warnings.warn(\n"
     ]
    },
    {
     "name": "stdout",
     "output_type": "stream",
     "text": [
      "\u001b[1m19/19\u001b[0m \u001b[32m━━━━━━━━━━━━━━━━━━━━\u001b[0m\u001b[37m\u001b[0m \u001b[1m0s\u001b[0m 4ms/step\n",
      "LR - MAPE: 1.9921, MAE: 69.1827, RMSE: 90.3172, R2: 0.5655\n",
      "DL - MAPE: 0.0969, MAE: 8.6013, RMSE: 29.7438, R2: 0.9529\n",
      "\n",
      "Repeat 7/10\n"
     ]
    },
    {
     "name": "stderr",
     "output_type": "stream",
     "text": [
      "c:\\Users\\rezab\\anaconda3\\Lib\\site-packages\\sklearn\\utils\\validation.py:2732: UserWarning: X has feature names, but StandardScaler was fitted without feature names\n",
      "  warnings.warn(\n"
     ]
    },
    {
     "name": "stdout",
     "output_type": "stream",
     "text": [
      "\u001b[1m19/19\u001b[0m \u001b[32m━━━━━━━━━━━━━━━━━━━━\u001b[0m\u001b[37m\u001b[0m \u001b[1m0s\u001b[0m 3ms/step \n",
      "LR - MAPE: 2.2638, MAE: 74.1706, RMSE: 96.8999, R2: 0.5607\n",
      "DL - MAPE: 0.1643, MAE: 12.4692, RMSE: 35.5210, R2: 0.9410\n",
      "\n",
      "Repeat 8/10\n"
     ]
    },
    {
     "name": "stderr",
     "output_type": "stream",
     "text": [
      "c:\\Users\\rezab\\anaconda3\\Lib\\site-packages\\sklearn\\utils\\validation.py:2732: UserWarning: X has feature names, but StandardScaler was fitted without feature names\n",
      "  warnings.warn(\n"
     ]
    },
    {
     "name": "stdout",
     "output_type": "stream",
     "text": [
      "\u001b[1m19/19\u001b[0m \u001b[32m━━━━━━━━━━━━━━━━━━━━\u001b[0m\u001b[37m\u001b[0m \u001b[1m0s\u001b[0m 3ms/step \n",
      "LR - MAPE: 1.9914, MAE: 70.8255, RMSE: 89.6945, R2: 0.6217\n",
      "DL - MAPE: 0.0789, MAE: 9.8164, RMSE: 27.1304, R2: 0.9654\n",
      "\n",
      "Repeat 9/10\n"
     ]
    },
    {
     "name": "stderr",
     "output_type": "stream",
     "text": [
      "c:\\Users\\rezab\\anaconda3\\Lib\\site-packages\\sklearn\\utils\\validation.py:2732: UserWarning: X has feature names, but StandardScaler was fitted without feature names\n",
      "  warnings.warn(\n"
     ]
    },
    {
     "name": "stdout",
     "output_type": "stream",
     "text": [
      "\u001b[1m19/19\u001b[0m \u001b[32m━━━━━━━━━━━━━━━━━━━━\u001b[0m\u001b[37m\u001b[0m \u001b[1m0s\u001b[0m 3ms/step \n",
      "LR - MAPE: 2.1146, MAE: 70.6447, RMSE: 91.0310, R2: 0.5701\n",
      "DL - MAPE: 0.1220, MAE: 8.4914, RMSE: 26.1621, R2: 0.9645\n",
      "\n",
      "Repeat 10/10\n"
     ]
    },
    {
     "name": "stderr",
     "output_type": "stream",
     "text": [
      "c:\\Users\\rezab\\anaconda3\\Lib\\site-packages\\sklearn\\utils\\validation.py:2732: UserWarning: X has feature names, but StandardScaler was fitted without feature names\n",
      "  warnings.warn(\n"
     ]
    },
    {
     "name": "stdout",
     "output_type": "stream",
     "text": [
      "\u001b[1m19/19\u001b[0m \u001b[32m━━━━━━━━━━━━━━━━━━━━\u001b[0m\u001b[37m\u001b[0m \u001b[1m0s\u001b[0m 3ms/step \n",
      "LR - MAPE: 1.8306, MAE: 68.7176, RMSE: 89.6575, R2: 0.6186\n",
      "DL - MAPE: 0.0920, MAE: 9.5849, RMSE: 27.8607, R2: 0.9632\n",
      "\n",
      "> System: xz, Dataset: fannie_mae_500k.tar.csv\n",
      "> Training data fraction: 0.7, Number of repeats: 10\n",
      "\n",
      "Repeat 1/10\n"
     ]
    },
    {
     "name": "stderr",
     "output_type": "stream",
     "text": [
      "c:\\Users\\rezab\\anaconda3\\Lib\\site-packages\\sklearn\\utils\\validation.py:2732: UserWarning: X has feature names, but StandardScaler was fitted without feature names\n",
      "  warnings.warn(\n"
     ]
    },
    {
     "name": "stdout",
     "output_type": "stream",
     "text": [
      "\u001b[1m19/19\u001b[0m \u001b[32m━━━━━━━━━━━━━━━━━━━━\u001b[0m\u001b[37m\u001b[0m \u001b[1m0s\u001b[0m 3ms/step \n",
      "LR - MAPE: 0.9162, MAE: 29.4644, RMSE: 35.3677, R2: 0.6254\n",
      "DL - MAPE: 0.1017, MAE: 4.4544, RMSE: 7.5057, R2: 0.9831\n",
      "\n",
      "Repeat 2/10\n"
     ]
    },
    {
     "name": "stderr",
     "output_type": "stream",
     "text": [
      "c:\\Users\\rezab\\anaconda3\\Lib\\site-packages\\sklearn\\utils\\validation.py:2732: UserWarning: X has feature names, but StandardScaler was fitted without feature names\n",
      "  warnings.warn(\n"
     ]
    },
    {
     "name": "stdout",
     "output_type": "stream",
     "text": [
      "\u001b[1m19/19\u001b[0m \u001b[32m━━━━━━━━━━━━━━━━━━━━\u001b[0m\u001b[37m\u001b[0m \u001b[1m0s\u001b[0m 3ms/step \n",
      "LR - MAPE: 0.9336, MAE: 30.0825, RMSE: 36.0141, R2: 0.5994\n",
      "DL - MAPE: 0.0723, MAE: 3.1597, RMSE: 5.4375, R2: 0.9909\n",
      "\n",
      "Repeat 3/10\n"
     ]
    },
    {
     "name": "stderr",
     "output_type": "stream",
     "text": [
      "c:\\Users\\rezab\\anaconda3\\Lib\\site-packages\\sklearn\\utils\\validation.py:2732: UserWarning: X has feature names, but StandardScaler was fitted without feature names\n",
      "  warnings.warn(\n"
     ]
    },
    {
     "name": "stdout",
     "output_type": "stream",
     "text": [
      "\u001b[1m19/19\u001b[0m \u001b[32m━━━━━━━━━━━━━━━━━━━━\u001b[0m\u001b[37m\u001b[0m \u001b[1m0s\u001b[0m 3ms/step \n",
      "LR - MAPE: 0.8822, MAE: 30.7611, RMSE: 37.1594, R2: 0.6706\n",
      "DL - MAPE: 0.0593, MAE: 2.8831, RMSE: 4.7683, R2: 0.9946\n",
      "\n",
      "Repeat 4/10\n"
     ]
    },
    {
     "name": "stderr",
     "output_type": "stream",
     "text": [
      "c:\\Users\\rezab\\anaconda3\\Lib\\site-packages\\sklearn\\utils\\validation.py:2732: UserWarning: X has feature names, but StandardScaler was fitted without feature names\n",
      "  warnings.warn(\n"
     ]
    },
    {
     "name": "stdout",
     "output_type": "stream",
     "text": [
      "\u001b[1m19/19\u001b[0m \u001b[32m━━━━━━━━━━━━━━━━━━━━\u001b[0m\u001b[37m\u001b[0m \u001b[1m0s\u001b[0m 6ms/step\n",
      "LR - MAPE: 0.8823, MAE: 30.6158, RMSE: 36.6382, R2: 0.6623\n",
      "DL - MAPE: 0.0894, MAE: 4.1792, RMSE: 6.9830, R2: 0.9877\n",
      "\n",
      "Repeat 5/10\n"
     ]
    },
    {
     "name": "stderr",
     "output_type": "stream",
     "text": [
      "c:\\Users\\rezab\\anaconda3\\Lib\\site-packages\\sklearn\\utils\\validation.py:2732: UserWarning: X has feature names, but StandardScaler was fitted without feature names\n",
      "  warnings.warn(\n"
     ]
    },
    {
     "name": "stdout",
     "output_type": "stream",
     "text": [
      "\u001b[1m19/19\u001b[0m \u001b[32m━━━━━━━━━━━━━━━━━━━━\u001b[0m\u001b[37m\u001b[0m \u001b[1m0s\u001b[0m 4ms/step\n",
      "LR - MAPE: 0.9167, MAE: 30.9859, RMSE: 37.3578, R2: 0.6477\n",
      "DL - MAPE: 0.0572, MAE: 2.8559, RMSE: 5.2122, R2: 0.9931\n",
      "\n",
      "Repeat 6/10\n"
     ]
    },
    {
     "name": "stderr",
     "output_type": "stream",
     "text": [
      "c:\\Users\\rezab\\anaconda3\\Lib\\site-packages\\sklearn\\utils\\validation.py:2732: UserWarning: X has feature names, but StandardScaler was fitted without feature names\n",
      "  warnings.warn(\n"
     ]
    },
    {
     "name": "stdout",
     "output_type": "stream",
     "text": [
      "\u001b[1m19/19\u001b[0m \u001b[32m━━━━━━━━━━━━━━━━━━━━\u001b[0m\u001b[37m\u001b[0m \u001b[1m0s\u001b[0m 3ms/step \n",
      "LR - MAPE: 0.9033, MAE: 29.5643, RMSE: 35.2890, R2: 0.6220\n",
      "DL - MAPE: 0.0490, MAE: 2.3066, RMSE: 3.5697, R2: 0.9961\n",
      "\n",
      "Repeat 7/10\n"
     ]
    },
    {
     "name": "stderr",
     "output_type": "stream",
     "text": [
      "c:\\Users\\rezab\\anaconda3\\Lib\\site-packages\\sklearn\\utils\\validation.py:2732: UserWarning: X has feature names, but StandardScaler was fitted without feature names\n",
      "  warnings.warn(\n"
     ]
    },
    {
     "name": "stdout",
     "output_type": "stream",
     "text": [
      "\u001b[1m19/19\u001b[0m \u001b[32m━━━━━━━━━━━━━━━━━━━━\u001b[0m\u001b[37m\u001b[0m \u001b[1m0s\u001b[0m 3ms/step \n",
      "LR - MAPE: 1.0062, MAE: 31.7548, RMSE: 37.1467, R2: 0.5823\n",
      "DL - MAPE: 0.0684, MAE: 3.1720, RMSE: 5.9142, R2: 0.9894\n",
      "\n",
      "Repeat 8/10\n"
     ]
    },
    {
     "name": "stderr",
     "output_type": "stream",
     "text": [
      "c:\\Users\\rezab\\anaconda3\\Lib\\site-packages\\sklearn\\utils\\validation.py:2732: UserWarning: X has feature names, but StandardScaler was fitted without feature names\n",
      "  warnings.warn(\n"
     ]
    },
    {
     "name": "stdout",
     "output_type": "stream",
     "text": [
      "\u001b[1m19/19\u001b[0m \u001b[32m━━━━━━━━━━━━━━━━━━━━\u001b[0m\u001b[37m\u001b[0m \u001b[1m0s\u001b[0m 3ms/step \n",
      "LR - MAPE: 0.9001, MAE: 30.1473, RMSE: 36.0237, R2: 0.6602\n",
      "DL - MAPE: 0.0658, MAE: 2.8630, RMSE: 4.7197, R2: 0.9942\n",
      "\n",
      "Repeat 9/10\n"
     ]
    },
    {
     "name": "stderr",
     "output_type": "stream",
     "text": [
      "c:\\Users\\rezab\\anaconda3\\Lib\\site-packages\\sklearn\\utils\\validation.py:2732: UserWarning: X has feature names, but StandardScaler was fitted without feature names\n",
      "  warnings.warn(\n"
     ]
    },
    {
     "name": "stdout",
     "output_type": "stream",
     "text": [
      "\u001b[1m19/19\u001b[0m \u001b[32m━━━━━━━━━━━━━━━━━━━━\u001b[0m\u001b[37m\u001b[0m \u001b[1m0s\u001b[0m 3ms/step \n",
      "LR - MAPE: 0.9344, MAE: 29.4750, RMSE: 35.2840, R2: 0.6310\n",
      "DL - MAPE: 0.0551, MAE: 2.1203, RMSE: 3.1929, R2: 0.9970\n",
      "\n",
      "Repeat 10/10\n"
     ]
    },
    {
     "name": "stderr",
     "output_type": "stream",
     "text": [
      "c:\\Users\\rezab\\anaconda3\\Lib\\site-packages\\sklearn\\utils\\validation.py:2732: UserWarning: X has feature names, but StandardScaler was fitted without feature names\n",
      "  warnings.warn(\n"
     ]
    },
    {
     "name": "stdout",
     "output_type": "stream",
     "text": [
      "\u001b[1m19/19\u001b[0m \u001b[32m━━━━━━━━━━━━━━━━━━━━\u001b[0m\u001b[37m\u001b[0m \u001b[1m0s\u001b[0m 3ms/step \n",
      "LR - MAPE: 0.8584, MAE: 29.4174, RMSE: 35.5888, R2: 0.6529\n",
      "DL - MAPE: 0.0611, MAE: 2.9756, RMSE: 4.8630, R2: 0.9935\n",
      "\n",
      "> System: xz, Dataset: large.tar.csv\n",
      "> Training data fraction: 0.7, Number of repeats: 10\n",
      "\n",
      "Repeat 1/10\n"
     ]
    },
    {
     "name": "stderr",
     "output_type": "stream",
     "text": [
      "c:\\Users\\rezab\\anaconda3\\Lib\\site-packages\\sklearn\\utils\\validation.py:2732: UserWarning: X has feature names, but StandardScaler was fitted without feature names\n",
      "  warnings.warn(\n"
     ]
    },
    {
     "name": "stdout",
     "output_type": "stream",
     "text": [
      "\u001b[1m19/19\u001b[0m \u001b[32m━━━━━━━━━━━━━━━━━━━━\u001b[0m\u001b[37m\u001b[0m \u001b[1m0s\u001b[0m 3ms/step \n",
      "LR - MAPE: 0.4334, MAE: 1.7773, RMSE: 2.2257, R2: 0.6767\n",
      "DL - MAPE: 0.0402, MAE: 0.1876, RMSE: 0.2672, R2: 0.9953\n",
      "\n",
      "Repeat 2/10\n"
     ]
    },
    {
     "name": "stderr",
     "output_type": "stream",
     "text": [
      "c:\\Users\\rezab\\anaconda3\\Lib\\site-packages\\sklearn\\utils\\validation.py:2732: UserWarning: X has feature names, but StandardScaler was fitted without feature names\n",
      "  warnings.warn(\n"
     ]
    },
    {
     "name": "stdout",
     "output_type": "stream",
     "text": [
      "\u001b[1m19/19\u001b[0m \u001b[32m━━━━━━━━━━━━━━━━━━━━\u001b[0m\u001b[37m\u001b[0m \u001b[1m0s\u001b[0m 3ms/step \n",
      "LR - MAPE: 0.4353, MAE: 1.8195, RMSE: 2.2574, R2: 0.6520\n",
      "DL - MAPE: 0.0454, MAE: 0.1676, RMSE: 0.2393, R2: 0.9961\n",
      "\n",
      "Repeat 3/10\n"
     ]
    },
    {
     "name": "stderr",
     "output_type": "stream",
     "text": [
      "c:\\Users\\rezab\\anaconda3\\Lib\\site-packages\\sklearn\\utils\\validation.py:2732: UserWarning: X has feature names, but StandardScaler was fitted without feature names\n",
      "  warnings.warn(\n"
     ]
    },
    {
     "name": "stdout",
     "output_type": "stream",
     "text": [
      "\u001b[1m19/19\u001b[0m \u001b[32m━━━━━━━━━━━━━━━━━━━━\u001b[0m\u001b[37m\u001b[0m \u001b[1m0s\u001b[0m 3ms/step \n",
      "LR - MAPE: 0.4184, MAE: 1.8665, RMSE: 2.2876, R2: 0.6995\n",
      "DL - MAPE: 0.0568, MAE: 0.2820, RMSE: 0.4259, R2: 0.9896\n",
      "\n",
      "Repeat 4/10\n"
     ]
    },
    {
     "name": "stderr",
     "output_type": "stream",
     "text": [
      "c:\\Users\\rezab\\anaconda3\\Lib\\site-packages\\sklearn\\utils\\validation.py:2732: UserWarning: X has feature names, but StandardScaler was fitted without feature names\n",
      "  warnings.warn(\n"
     ]
    },
    {
     "name": "stdout",
     "output_type": "stream",
     "text": [
      "\u001b[1m19/19\u001b[0m \u001b[32m━━━━━━━━━━━━━━━━━━━━\u001b[0m\u001b[37m\u001b[0m \u001b[1m0s\u001b[0m 3ms/step \n",
      "LR - MAPE: 0.4148, MAE: 1.8437, RMSE: 2.2956, R2: 0.6976\n",
      "DL - MAPE: 0.0505, MAE: 0.2519, RMSE: 0.3598, R2: 0.9926\n",
      "\n",
      "Repeat 5/10\n"
     ]
    },
    {
     "name": "stderr",
     "output_type": "stream",
     "text": [
      "c:\\Users\\rezab\\anaconda3\\Lib\\site-packages\\sklearn\\utils\\validation.py:2732: UserWarning: X has feature names, but StandardScaler was fitted without feature names\n",
      "  warnings.warn(\n"
     ]
    },
    {
     "name": "stdout",
     "output_type": "stream",
     "text": [
      "\u001b[1m19/19\u001b[0m \u001b[32m━━━━━━━━━━━━━━━━━━━━\u001b[0m\u001b[37m\u001b[0m \u001b[1m0s\u001b[0m 4ms/step\n",
      "LR - MAPE: 0.4204, MAE: 1.8944, RMSE: 2.3476, R2: 0.6829\n",
      "DL - MAPE: 0.0501, MAE: 0.2545, RMSE: 0.3626, R2: 0.9924\n",
      "\n",
      "Repeat 6/10\n"
     ]
    },
    {
     "name": "stderr",
     "output_type": "stream",
     "text": [
      "c:\\Users\\rezab\\anaconda3\\Lib\\site-packages\\sklearn\\utils\\validation.py:2732: UserWarning: X has feature names, but StandardScaler was fitted without feature names\n",
      "  warnings.warn(\n"
     ]
    },
    {
     "name": "stdout",
     "output_type": "stream",
     "text": [
      "\u001b[1m19/19\u001b[0m \u001b[32m━━━━━━━━━━━━━━━━━━━━\u001b[0m\u001b[37m\u001b[0m \u001b[1m0s\u001b[0m 3ms/step \n",
      "LR - MAPE: 0.4398, MAE: 1.9145, RMSE: 2.3577, R2: 0.6586\n",
      "DL - MAPE: 0.0485, MAE: 0.2340, RMSE: 0.3440, R2: 0.9927\n",
      "\n",
      "Repeat 7/10\n"
     ]
    },
    {
     "name": "stderr",
     "output_type": "stream",
     "text": [
      "c:\\Users\\rezab\\anaconda3\\Lib\\site-packages\\sklearn\\utils\\validation.py:2732: UserWarning: X has feature names, but StandardScaler was fitted without feature names\n",
      "  warnings.warn(\n"
     ]
    },
    {
     "name": "stdout",
     "output_type": "stream",
     "text": [
      "\u001b[1m19/19\u001b[0m \u001b[32m━━━━━━━━━━━━━━━━━━━━\u001b[0m\u001b[37m\u001b[0m \u001b[1m0s\u001b[0m 3ms/step \n",
      "LR - MAPE: 0.4947, MAE: 1.9809, RMSE: 2.3584, R2: 0.6244\n",
      "DL - MAPE: 0.0503, MAE: 0.2020, RMSE: 0.2728, R2: 0.9950\n",
      "\n",
      "Repeat 8/10\n"
     ]
    },
    {
     "name": "stderr",
     "output_type": "stream",
     "text": [
      "c:\\Users\\rezab\\anaconda3\\Lib\\site-packages\\sklearn\\utils\\validation.py:2732: UserWarning: X has feature names, but StandardScaler was fitted without feature names\n",
      "  warnings.warn(\n"
     ]
    },
    {
     "name": "stdout",
     "output_type": "stream",
     "text": [
      "\u001b[1m19/19\u001b[0m \u001b[32m━━━━━━━━━━━━━━━━━━━━\u001b[0m\u001b[37m\u001b[0m \u001b[1m0s\u001b[0m 3ms/step \n",
      "LR - MAPE: 0.4122, MAE: 1.8313, RMSE: 2.2690, R2: 0.7017\n",
      "DL - MAPE: 0.0495, MAE: 0.2414, RMSE: 0.3325, R2: 0.9936\n",
      "\n",
      "Repeat 9/10\n"
     ]
    },
    {
     "name": "stderr",
     "output_type": "stream",
     "text": [
      "c:\\Users\\rezab\\anaconda3\\Lib\\site-packages\\sklearn\\utils\\validation.py:2732: UserWarning: X has feature names, but StandardScaler was fitted without feature names\n",
      "  warnings.warn(\n"
     ]
    },
    {
     "name": "stdout",
     "output_type": "stream",
     "text": [
      "\u001b[1m19/19\u001b[0m \u001b[32m━━━━━━━━━━━━━━━━━━━━\u001b[0m\u001b[37m\u001b[0m \u001b[1m0s\u001b[0m 3ms/step \n",
      "LR - MAPE: 0.4431, MAE: 1.8586, RMSE: 2.2826, R2: 0.6734\n",
      "DL - MAPE: 0.0617, MAE: 0.3039, RMSE: 0.4429, R2: 0.9877\n",
      "\n",
      "Repeat 10/10\n"
     ]
    },
    {
     "name": "stderr",
     "output_type": "stream",
     "text": [
      "c:\\Users\\rezab\\anaconda3\\Lib\\site-packages\\sklearn\\utils\\validation.py:2732: UserWarning: X has feature names, but StandardScaler was fitted without feature names\n",
      "  warnings.warn(\n"
     ]
    },
    {
     "name": "stdout",
     "output_type": "stream",
     "text": [
      "\u001b[1m19/19\u001b[0m \u001b[32m━━━━━━━━━━━━━━━━━━━━\u001b[0m\u001b[37m\u001b[0m \u001b[1m0s\u001b[0m 3ms/step \n",
      "LR - MAPE: 0.4129, MAE: 1.8454, RMSE: 2.3137, R2: 0.6811\n",
      "DL - MAPE: 0.0438, MAE: 0.1997, RMSE: 0.2788, R2: 0.9954\n",
      "\n",
      "> System: xz, Dataset: misc.tar.csv\n",
      "> Training data fraction: 0.7, Number of repeats: 10\n",
      "\n",
      "Repeat 1/10\n"
     ]
    },
    {
     "name": "stderr",
     "output_type": "stream",
     "text": [
      "c:\\Users\\rezab\\anaconda3\\Lib\\site-packages\\sklearn\\utils\\validation.py:2732: UserWarning: X has feature names, but StandardScaler was fitted without feature names\n",
      "  warnings.warn(\n"
     ]
    },
    {
     "name": "stdout",
     "output_type": "stream",
     "text": [
      "\u001b[1m19/19\u001b[0m \u001b[32m━━━━━━━━━━━━━━━━━━━━\u001b[0m\u001b[37m\u001b[0m \u001b[1m0s\u001b[0m 3ms/step \n",
      "LR - MAPE: 0.2285, MAE: 0.0875, RMSE: 0.1161, R2: 0.7637\n",
      "DL - MAPE: 0.0553, MAE: 0.0223, RMSE: 0.0502, R2: 0.9558\n",
      "\n",
      "Repeat 2/10\n"
     ]
    },
    {
     "name": "stderr",
     "output_type": "stream",
     "text": [
      "c:\\Users\\rezab\\anaconda3\\Lib\\site-packages\\sklearn\\utils\\validation.py:2732: UserWarning: X has feature names, but StandardScaler was fitted without feature names\n",
      "  warnings.warn(\n"
     ]
    },
    {
     "name": "stdout",
     "output_type": "stream",
     "text": [
      "\u001b[1m19/19\u001b[0m \u001b[32m━━━━━━━━━━━━━━━━━━━━\u001b[0m\u001b[37m\u001b[0m \u001b[1m0s\u001b[0m 3ms/step \n",
      "LR - MAPE: 0.2333, MAE: 0.0910, RMSE: 0.1215, R2: 0.7375\n",
      "DL - MAPE: 0.0514, MAE: 0.0217, RMSE: 0.0527, R2: 0.9506\n",
      "\n",
      "Repeat 3/10\n"
     ]
    },
    {
     "name": "stderr",
     "output_type": "stream",
     "text": [
      "c:\\Users\\rezab\\anaconda3\\Lib\\site-packages\\sklearn\\utils\\validation.py:2732: UserWarning: X has feature names, but StandardScaler was fitted without feature names\n",
      "  warnings.warn(\n"
     ]
    },
    {
     "name": "stdout",
     "output_type": "stream",
     "text": [
      "\u001b[1m19/19\u001b[0m \u001b[32m━━━━━━━━━━━━━━━━━━━━\u001b[0m\u001b[37m\u001b[0m \u001b[1m0s\u001b[0m 3ms/step \n",
      "LR - MAPE: 0.2169, MAE: 0.0863, RMSE: 0.1133, R2: 0.8070\n",
      "DL - MAPE: 0.0457, MAE: 0.0192, RMSE: 0.0437, R2: 0.9713\n",
      "\n",
      "Repeat 4/10\n"
     ]
    },
    {
     "name": "stderr",
     "output_type": "stream",
     "text": [
      "c:\\Users\\rezab\\anaconda3\\Lib\\site-packages\\sklearn\\utils\\validation.py:2732: UserWarning: X has feature names, but StandardScaler was fitted without feature names\n",
      "  warnings.warn(\n"
     ]
    },
    {
     "name": "stdout",
     "output_type": "stream",
     "text": [
      "\u001b[1m19/19\u001b[0m \u001b[32m━━━━━━━━━━━━━━━━━━━━\u001b[0m\u001b[37m\u001b[0m \u001b[1m0s\u001b[0m 3ms/step \n",
      "LR - MAPE: 0.2182, MAE: 0.0867, RMSE: 0.1150, R2: 0.7942\n",
      "DL - MAPE: 0.0631, MAE: 0.0264, RMSE: 0.0502, R2: 0.9608\n",
      "\n",
      "Repeat 5/10\n"
     ]
    },
    {
     "name": "stderr",
     "output_type": "stream",
     "text": [
      "c:\\Users\\rezab\\anaconda3\\Lib\\site-packages\\sklearn\\utils\\validation.py:2732: UserWarning: X has feature names, but StandardScaler was fitted without feature names\n",
      "  warnings.warn(\n"
     ]
    },
    {
     "name": "stdout",
     "output_type": "stream",
     "text": [
      "\u001b[1m19/19\u001b[0m \u001b[32m━━━━━━━━━━━━━━━━━━━━\u001b[0m\u001b[37m\u001b[0m \u001b[1m0s\u001b[0m 3ms/step \n",
      "LR - MAPE: 0.2231, MAE: 0.0906, RMSE: 0.1231, R2: 0.7635\n",
      "DL - MAPE: 0.0631, MAE: 0.0267, RMSE: 0.0557, R2: 0.9516\n",
      "\n",
      "Repeat 6/10\n"
     ]
    },
    {
     "name": "stderr",
     "output_type": "stream",
     "text": [
      "c:\\Users\\rezab\\anaconda3\\Lib\\site-packages\\sklearn\\utils\\validation.py:2732: UserWarning: X has feature names, but StandardScaler was fitted without feature names\n",
      "  warnings.warn(\n"
     ]
    },
    {
     "name": "stdout",
     "output_type": "stream",
     "text": [
      "\u001b[1m19/19\u001b[0m \u001b[32m━━━━━━━━━━━━━━━━━━━━\u001b[0m\u001b[37m\u001b[0m \u001b[1m0s\u001b[0m 3ms/step \n",
      "LR - MAPE: 0.2280, MAE: 0.0854, RMSE: 0.1160, R2: 0.7396\n",
      "DL - MAPE: 0.0520, MAE: 0.0206, RMSE: 0.0518, R2: 0.9481\n",
      "\n",
      "Repeat 7/10\n"
     ]
    },
    {
     "name": "stderr",
     "output_type": "stream",
     "text": [
      "c:\\Users\\rezab\\anaconda3\\Lib\\site-packages\\sklearn\\utils\\validation.py:2732: UserWarning: X has feature names, but StandardScaler was fitted without feature names\n",
      "  warnings.warn(\n"
     ]
    },
    {
     "name": "stdout",
     "output_type": "stream",
     "text": [
      "\u001b[1m19/19\u001b[0m \u001b[32m━━━━━━━━━━━━━━━━━━━━\u001b[0m\u001b[37m\u001b[0m \u001b[1m0s\u001b[0m 3ms/step \n",
      "LR - MAPE: 0.2302, MAE: 0.0871, RMSE: 0.1152, R2: 0.7704\n",
      "DL - MAPE: 0.0786, MAE: 0.0312, RMSE: 0.0530, R2: 0.9513\n",
      "\n",
      "Repeat 8/10\n"
     ]
    },
    {
     "name": "stderr",
     "output_type": "stream",
     "text": [
      "c:\\Users\\rezab\\anaconda3\\Lib\\site-packages\\sklearn\\utils\\validation.py:2732: UserWarning: X has feature names, but StandardScaler was fitted without feature names\n",
      "  warnings.warn(\n"
     ]
    },
    {
     "name": "stdout",
     "output_type": "stream",
     "text": [
      "\u001b[1m19/19\u001b[0m \u001b[32m━━━━━━━━━━━━━━━━━━━━\u001b[0m\u001b[37m\u001b[0m \u001b[1m0s\u001b[0m 3ms/step \n",
      "LR - MAPE: 0.2319, MAE: 0.0878, RMSE: 0.1135, R2: 0.7842\n",
      "DL - MAPE: 0.0614, MAE: 0.0245, RMSE: 0.0478, R2: 0.9617\n",
      "\n",
      "Repeat 9/10\n"
     ]
    },
    {
     "name": "stderr",
     "output_type": "stream",
     "text": [
      "c:\\Users\\rezab\\anaconda3\\Lib\\site-packages\\sklearn\\utils\\validation.py:2732: UserWarning: X has feature names, but StandardScaler was fitted without feature names\n",
      "  warnings.warn(\n"
     ]
    },
    {
     "name": "stdout",
     "output_type": "stream",
     "text": [
      "\u001b[1m19/19\u001b[0m \u001b[32m━━━━━━━━━━━━━━━━━━━━\u001b[0m\u001b[37m\u001b[0m \u001b[1m0s\u001b[0m 3ms/step \n",
      "LR - MAPE: 0.2305, MAE: 0.0870, RMSE: 0.1185, R2: 0.7478\n",
      "DL - MAPE: 0.0547, MAE: 0.0227, RMSE: 0.0548, R2: 0.9461\n",
      "\n",
      "Repeat 10/10\n"
     ]
    },
    {
     "name": "stderr",
     "output_type": "stream",
     "text": [
      "c:\\Users\\rezab\\anaconda3\\Lib\\site-packages\\sklearn\\utils\\validation.py:2732: UserWarning: X has feature names, but StandardScaler was fitted without feature names\n",
      "  warnings.warn(\n"
     ]
    },
    {
     "name": "stdout",
     "output_type": "stream",
     "text": [
      "\u001b[1m19/19\u001b[0m \u001b[32m━━━━━━━━━━━━━━━━━━━━\u001b[0m\u001b[37m\u001b[0m \u001b[1m0s\u001b[0m 3ms/step \n",
      "LR - MAPE: 0.2294, MAE: 0.0878, RMSE: 0.1193, R2: 0.7550\n",
      "DL - MAPE: 0.0527, MAE: 0.0218, RMSE: 0.0525, R2: 0.9526\n",
      "\n",
      "> System: xz, Dataset: silesia.tar.csv\n",
      "> Training data fraction: 0.7, Number of repeats: 10\n",
      "\n",
      "Repeat 1/10\n"
     ]
    },
    {
     "name": "stderr",
     "output_type": "stream",
     "text": [
      "c:\\Users\\rezab\\anaconda3\\Lib\\site-packages\\sklearn\\utils\\validation.py:2732: UserWarning: X has feature names, but StandardScaler was fitted without feature names\n",
      "  warnings.warn(\n"
     ]
    },
    {
     "name": "stdout",
     "output_type": "stream",
     "text": [
      "\u001b[1m19/19\u001b[0m \u001b[32m━━━━━━━━━━━━━━━━━━━━\u001b[0m\u001b[37m\u001b[0m \u001b[1m0s\u001b[0m 3ms/step \n",
      "LR - MAPE: 0.9320, MAE: 59.8171, RMSE: 75.7628, R2: 0.6623\n",
      "DL - MAPE: 0.1091, MAE: 11.5071, RMSE: 27.5992, R2: 0.9552\n",
      "\n",
      "Repeat 2/10\n"
     ]
    },
    {
     "name": "stderr",
     "output_type": "stream",
     "text": [
      "c:\\Users\\rezab\\anaconda3\\Lib\\site-packages\\sklearn\\utils\\validation.py:2732: UserWarning: X has feature names, but StandardScaler was fitted without feature names\n",
      "  warnings.warn(\n"
     ]
    },
    {
     "name": "stdout",
     "output_type": "stream",
     "text": [
      "\u001b[1m19/19\u001b[0m \u001b[32m━━━━━━━━━━━━━━━━━━━━\u001b[0m\u001b[37m\u001b[0m \u001b[1m0s\u001b[0m 3ms/step \n",
      "LR - MAPE: 0.9800, MAE: 62.3132, RMSE: 78.9213, R2: 0.6199\n",
      "DL - MAPE: 0.0701, MAE: 6.9204, RMSE: 12.9117, R2: 0.9898\n",
      "\n",
      "Repeat 3/10\n"
     ]
    },
    {
     "name": "stderr",
     "output_type": "stream",
     "text": [
      "c:\\Users\\rezab\\anaconda3\\Lib\\site-packages\\sklearn\\utils\\validation.py:2732: UserWarning: X has feature names, but StandardScaler was fitted without feature names\n",
      "  warnings.warn(\n"
     ]
    },
    {
     "name": "stdout",
     "output_type": "stream",
     "text": [
      "\u001b[1m19/19\u001b[0m \u001b[32m━━━━━━━━━━━━━━━━━━━━\u001b[0m\u001b[37m\u001b[0m \u001b[1m0s\u001b[0m 3ms/step \n",
      "LR - MAPE: 0.8705, MAE: 63.3103, RMSE: 80.9213, R2: 0.6977\n",
      "DL - MAPE: 0.0880, MAE: 18.4964, RMSE: 39.6119, R2: 0.9276\n",
      "\n",
      "Repeat 4/10\n"
     ]
    },
    {
     "name": "stderr",
     "output_type": "stream",
     "text": [
      "c:\\Users\\rezab\\anaconda3\\Lib\\site-packages\\sklearn\\utils\\validation.py:2732: UserWarning: X has feature names, but StandardScaler was fitted without feature names\n",
      "  warnings.warn(\n"
     ]
    },
    {
     "name": "stdout",
     "output_type": "stream",
     "text": [
      "\u001b[1m19/19\u001b[0m \u001b[32m━━━━━━━━━━━━━━━━━━━━\u001b[0m\u001b[37m\u001b[0m \u001b[1m0s\u001b[0m 3ms/step \n",
      "LR - MAPE: 0.9029, MAE: 61.8120, RMSE: 78.9726, R2: 0.6853\n",
      "DL - MAPE: 0.0655, MAE: 7.4909, RMSE: 13.1792, R2: 0.9912\n",
      "\n",
      "Repeat 5/10\n"
     ]
    },
    {
     "name": "stderr",
     "output_type": "stream",
     "text": [
      "c:\\Users\\rezab\\anaconda3\\Lib\\site-packages\\sklearn\\utils\\validation.py:2732: UserWarning: X has feature names, but StandardScaler was fitted without feature names\n",
      "  warnings.warn(\n"
     ]
    },
    {
     "name": "stdout",
     "output_type": "stream",
     "text": [
      "\u001b[1m19/19\u001b[0m \u001b[32m━━━━━━━━━━━━━━━━━━━━\u001b[0m\u001b[37m\u001b[0m \u001b[1m0s\u001b[0m 3ms/step \n",
      "LR - MAPE: 0.9610, MAE: 64.4082, RMSE: 81.9483, R2: 0.6638\n",
      "DL - MAPE: 0.0794, MAE: 7.7899, RMSE: 15.3213, R2: 0.9882\n",
      "\n",
      "Repeat 6/10\n"
     ]
    },
    {
     "name": "stderr",
     "output_type": "stream",
     "text": [
      "c:\\Users\\rezab\\anaconda3\\Lib\\site-packages\\sklearn\\utils\\validation.py:2732: UserWarning: X has feature names, but StandardScaler was fitted without feature names\n",
      "  warnings.warn(\n"
     ]
    },
    {
     "name": "stdout",
     "output_type": "stream",
     "text": [
      "\u001b[1m19/19\u001b[0m \u001b[32m━━━━━━━━━━━━━━━━━━━━\u001b[0m\u001b[37m\u001b[0m \u001b[1m0s\u001b[0m 3ms/step \n",
      "LR - MAPE: 0.9489, MAE: 59.2708, RMSE: 73.4060, R2: 0.6387\n",
      "DL - MAPE: 0.0785, MAE: 7.1646, RMSE: 12.7040, R2: 0.9892\n",
      "\n",
      "Repeat 7/10\n"
     ]
    },
    {
     "name": "stderr",
     "output_type": "stream",
     "text": [
      "c:\\Users\\rezab\\anaconda3\\Lib\\site-packages\\sklearn\\utils\\validation.py:2732: UserWarning: X has feature names, but StandardScaler was fitted without feature names\n",
      "  warnings.warn(\n"
     ]
    },
    {
     "name": "stdout",
     "output_type": "stream",
     "text": [
      "\u001b[1m19/19\u001b[0m \u001b[32m━━━━━━━━━━━━━━━━━━━━\u001b[0m\u001b[37m\u001b[0m \u001b[1m0s\u001b[0m 3ms/step \n",
      "LR - MAPE: 1.0491, MAE: 65.1468, RMSE: 81.2421, R2: 0.6149\n",
      "DL - MAPE: 0.1042, MAE: 9.8701, RMSE: 27.2077, R2: 0.9568\n",
      "\n",
      "Repeat 8/10\n"
     ]
    },
    {
     "name": "stderr",
     "output_type": "stream",
     "text": [
      "c:\\Users\\rezab\\anaconda3\\Lib\\site-packages\\sklearn\\utils\\validation.py:2732: UserWarning: X has feature names, but StandardScaler was fitted without feature names\n",
      "  warnings.warn(\n"
     ]
    },
    {
     "name": "stdout",
     "output_type": "stream",
     "text": [
      "\u001b[1m19/19\u001b[0m \u001b[32m━━━━━━━━━━━━━━━━━━━━\u001b[0m\u001b[37m\u001b[0m \u001b[1m0s\u001b[0m 3ms/step \n",
      "LR - MAPE: 0.9388, MAE: 61.3275, RMSE: 76.7068, R2: 0.6781\n",
      "DL - MAPE: 0.0519, MAE: 5.6441, RMSE: 9.7302, R2: 0.9948\n",
      "\n",
      "Repeat 9/10\n"
     ]
    },
    {
     "name": "stderr",
     "output_type": "stream",
     "text": [
      "c:\\Users\\rezab\\anaconda3\\Lib\\site-packages\\sklearn\\utils\\validation.py:2732: UserWarning: X has feature names, but StandardScaler was fitted without feature names\n",
      "  warnings.warn(\n"
     ]
    },
    {
     "name": "stdout",
     "output_type": "stream",
     "text": [
      "\u001b[1m19/19\u001b[0m \u001b[32m━━━━━━━━━━━━━━━━━━━━\u001b[0m\u001b[37m\u001b[0m \u001b[1m0s\u001b[0m 4ms/step\n",
      "LR - MAPE: 0.9879, MAE: 60.5037, RMSE: 75.9369, R2: 0.6370\n",
      "DL - MAPE: 0.0876, MAE: 8.2439, RMSE: 16.5884, R2: 0.9827\n",
      "\n",
      "Repeat 10/10\n"
     ]
    },
    {
     "name": "stderr",
     "output_type": "stream",
     "text": [
      "c:\\Users\\rezab\\anaconda3\\Lib\\site-packages\\sklearn\\utils\\validation.py:2732: UserWarning: X has feature names, but StandardScaler was fitted without feature names\n",
      "  warnings.warn(\n"
     ]
    },
    {
     "name": "stdout",
     "output_type": "stream",
     "text": [
      "\u001b[1m19/19\u001b[0m \u001b[32m━━━━━━━━━━━━━━━━━━━━\u001b[0m\u001b[37m\u001b[0m \u001b[1m0s\u001b[0m 3ms/step \n",
      "LR - MAPE: 0.8855, MAE: 59.1721, RMSE: 75.4281, R2: 0.6746\n",
      "DL - MAPE: 0.1070, MAE: 11.3682, RMSE: 24.6708, R2: 0.9652\n",
      "\n",
      "> System: xz, Dataset: uiq-32.bin.csv\n",
      "> Training data fraction: 0.7, Number of repeats: 10\n",
      "\n",
      "Repeat 1/10\n"
     ]
    },
    {
     "name": "stderr",
     "output_type": "stream",
     "text": [
      "c:\\Users\\rezab\\anaconda3\\Lib\\site-packages\\sklearn\\utils\\validation.py:2732: UserWarning: X has feature names, but StandardScaler was fitted without feature names\n",
      "  warnings.warn(\n"
     ]
    },
    {
     "name": "stdout",
     "output_type": "stream",
     "text": [
      "\u001b[1m19/19\u001b[0m \u001b[32m━━━━━━━━━━━━━━━━━━━━\u001b[0m\u001b[37m\u001b[0m \u001b[1m0s\u001b[0m 3ms/step \n",
      "LR - MAPE: 1.1612, MAE: 68.4715, RMSE: 88.7715, R2: 0.6773\n",
      "DL - MAPE: 0.0983, MAE: 13.7316, RMSE: 33.4331, R2: 0.9542\n",
      "\n",
      "Repeat 2/10\n"
     ]
    },
    {
     "name": "stderr",
     "output_type": "stream",
     "text": [
      "c:\\Users\\rezab\\anaconda3\\Lib\\site-packages\\sklearn\\utils\\validation.py:2732: UserWarning: X has feature names, but StandardScaler was fitted without feature names\n",
      "  warnings.warn(\n"
     ]
    },
    {
     "name": "stdout",
     "output_type": "stream",
     "text": [
      "\u001b[1m19/19\u001b[0m \u001b[32m━━━━━━━━━━━━━━━━━━━━\u001b[0m\u001b[37m\u001b[0m \u001b[1m0s\u001b[0m 3ms/step \n",
      "LR - MAPE: 1.2514, MAE: 72.1100, RMSE: 91.2643, R2: 0.6444\n",
      "DL - MAPE: 0.0774, MAE: 10.7029, RMSE: 27.3242, R2: 0.9681\n",
      "\n",
      "Repeat 3/10\n"
     ]
    },
    {
     "name": "stderr",
     "output_type": "stream",
     "text": [
      "c:\\Users\\rezab\\anaconda3\\Lib\\site-packages\\sklearn\\utils\\validation.py:2732: UserWarning: X has feature names, but StandardScaler was fitted without feature names\n",
      "  warnings.warn(\n"
     ]
    },
    {
     "name": "stdout",
     "output_type": "stream",
     "text": [
      "\u001b[1m19/19\u001b[0m \u001b[32m━━━━━━━━━━━━━━━━━━━━\u001b[0m\u001b[37m\u001b[0m \u001b[1m0s\u001b[0m 3ms/step \n",
      "LR - MAPE: 1.0699, MAE: 73.7260, RMSE: 96.3661, R2: 0.6914\n",
      "DL - MAPE: 0.0774, MAE: 14.5573, RMSE: 38.7614, R2: 0.9501\n",
      "\n",
      "Repeat 4/10\n"
     ]
    },
    {
     "name": "stderr",
     "output_type": "stream",
     "text": [
      "c:\\Users\\rezab\\anaconda3\\Lib\\site-packages\\sklearn\\utils\\validation.py:2732: UserWarning: X has feature names, but StandardScaler was fitted without feature names\n",
      "  warnings.warn(\n"
     ]
    },
    {
     "name": "stdout",
     "output_type": "stream",
     "text": [
      "\u001b[1m19/19\u001b[0m \u001b[32m━━━━━━━━━━━━━━━━━━━━\u001b[0m\u001b[37m\u001b[0m \u001b[1m0s\u001b[0m 3ms/step \n",
      "LR - MAPE: 1.1280, MAE: 72.4645, RMSE: 94.1729, R2: 0.6845\n",
      "DL - MAPE: 0.1008, MAE: 16.0520, RMSE: 36.8690, R2: 0.9516\n",
      "\n",
      "Repeat 5/10\n"
     ]
    },
    {
     "name": "stderr",
     "output_type": "stream",
     "text": [
      "c:\\Users\\rezab\\anaconda3\\Lib\\site-packages\\sklearn\\utils\\validation.py:2732: UserWarning: X has feature names, but StandardScaler was fitted without feature names\n",
      "  warnings.warn(\n"
     ]
    },
    {
     "name": "stdout",
     "output_type": "stream",
     "text": [
      "\u001b[1m19/19\u001b[0m \u001b[32m━━━━━━━━━━━━━━━━━━━━\u001b[0m\u001b[37m\u001b[0m \u001b[1m0s\u001b[0m 3ms/step \n",
      "LR - MAPE: 1.1847, MAE: 75.6559, RMSE: 97.5856, R2: 0.6630\n",
      "DL - MAPE: 0.0862, MAE: 14.4802, RMSE: 37.3381, R2: 0.9507\n",
      "\n",
      "Repeat 6/10\n"
     ]
    },
    {
     "name": "stderr",
     "output_type": "stream",
     "text": [
      "c:\\Users\\rezab\\anaconda3\\Lib\\site-packages\\sklearn\\utils\\validation.py:2732: UserWarning: X has feature names, but StandardScaler was fitted without feature names\n",
      "  warnings.warn(\n"
     ]
    },
    {
     "name": "stdout",
     "output_type": "stream",
     "text": [
      "\u001b[1m19/19\u001b[0m \u001b[32m━━━━━━━━━━━━━━━━━━━━\u001b[0m\u001b[37m\u001b[0m \u001b[1m0s\u001b[0m 3ms/step \n",
      "LR - MAPE: 1.1817, MAE: 70.0391, RMSE: 87.1694, R2: 0.6544\n",
      "DL - MAPE: 0.0973, MAE: 13.6295, RMSE: 31.9731, R2: 0.9535\n",
      "\n",
      "Repeat 7/10\n"
     ]
    },
    {
     "name": "stderr",
     "output_type": "stream",
     "text": [
      "c:\\Users\\rezab\\anaconda3\\Lib\\site-packages\\sklearn\\utils\\validation.py:2732: UserWarning: X has feature names, but StandardScaler was fitted without feature names\n",
      "  warnings.warn(\n"
     ]
    },
    {
     "name": "stdout",
     "output_type": "stream",
     "text": [
      "\u001b[1m19/19\u001b[0m \u001b[32m━━━━━━━━━━━━━━━━━━━━\u001b[0m\u001b[37m\u001b[0m \u001b[1m0s\u001b[0m 3ms/step \n",
      "LR - MAPE: 1.3214, MAE: 77.6166, RMSE: 100.4338, R2: 0.6343\n",
      "DL - MAPE: 0.0942, MAE: 14.0222, RMSE: 38.8544, R2: 0.9453\n",
      "\n",
      "Repeat 8/10\n"
     ]
    },
    {
     "name": "stderr",
     "output_type": "stream",
     "text": [
      "c:\\Users\\rezab\\anaconda3\\Lib\\site-packages\\sklearn\\utils\\validation.py:2732: UserWarning: X has feature names, but StandardScaler was fitted without feature names\n",
      "  warnings.warn(\n"
     ]
    },
    {
     "name": "stdout",
     "output_type": "stream",
     "text": [
      "\u001b[1m19/19\u001b[0m \u001b[32m━━━━━━━━━━━━━━━━━━━━\u001b[0m\u001b[37m\u001b[0m \u001b[1m0s\u001b[0m 3ms/step \n",
      "LR - MAPE: 1.1738, MAE: 71.5390, RMSE: 89.6614, R2: 0.6848\n",
      "DL - MAPE: 0.0732, MAE: 10.4684, RMSE: 27.7165, R2: 0.9699\n",
      "\n",
      "Repeat 9/10\n"
     ]
    },
    {
     "name": "stderr",
     "output_type": "stream",
     "text": [
      "c:\\Users\\rezab\\anaconda3\\Lib\\site-packages\\sklearn\\utils\\validation.py:2732: UserWarning: X has feature names, but StandardScaler was fitted without feature names\n",
      "  warnings.warn(\n"
     ]
    },
    {
     "name": "stdout",
     "output_type": "stream",
     "text": [
      "\u001b[1m19/19\u001b[0m \u001b[32m━━━━━━━━━━━━━━━━━━━━\u001b[0m\u001b[37m\u001b[0m \u001b[1m0s\u001b[0m 3ms/step \n",
      "LR - MAPE: 1.2622, MAE: 70.0427, RMSE: 88.0072, R2: 0.6546\n",
      "DL - MAPE: 0.1060, MAE: 12.5444, RMSE: 29.5468, R2: 0.9611\n",
      "\n",
      "Repeat 10/10\n"
     ]
    },
    {
     "name": "stderr",
     "output_type": "stream",
     "text": [
      "c:\\Users\\rezab\\anaconda3\\Lib\\site-packages\\sklearn\\utils\\validation.py:2732: UserWarning: X has feature names, but StandardScaler was fitted without feature names\n",
      "  warnings.warn(\n"
     ]
    },
    {
     "name": "stdout",
     "output_type": "stream",
     "text": [
      "\u001b[1m19/19\u001b[0m \u001b[32m━━━━━━━━━━━━━━━━━━━━\u001b[0m\u001b[37m\u001b[0m \u001b[1m0s\u001b[0m 3ms/step \n",
      "LR - MAPE: 1.1422, MAE: 69.9230, RMSE: 88.5599, R2: 0.6769\n",
      "DL - MAPE: 0.0666, MAE: 10.9608, RMSE: 28.2143, R2: 0.9672\n",
      "\n",
      "> System: xz, Dataset: uiq2-16.bin.csv\n",
      "> Training data fraction: 0.7, Number of repeats: 10\n",
      "\n",
      "Repeat 1/10\n"
     ]
    },
    {
     "name": "stderr",
     "output_type": "stream",
     "text": [
      "c:\\Users\\rezab\\anaconda3\\Lib\\site-packages\\sklearn\\utils\\validation.py:2732: UserWarning: X has feature names, but StandardScaler was fitted without feature names\n",
      "  warnings.warn(\n"
     ]
    },
    {
     "name": "stdout",
     "output_type": "stream",
     "text": [
      "\u001b[1m19/19\u001b[0m \u001b[32m━━━━━━━━━━━━━━━━━━━━\u001b[0m\u001b[37m\u001b[0m \u001b[1m0s\u001b[0m 3ms/step \n",
      "LR - MAPE: 1.0439, MAE: 30.8011, RMSE: 41.6029, R2: 0.6524\n",
      "DL - MAPE: 0.0977, MAE: 5.9649, RMSE: 17.5523, R2: 0.9381\n",
      "\n",
      "Repeat 2/10\n"
     ]
    },
    {
     "name": "stderr",
     "output_type": "stream",
     "text": [
      "c:\\Users\\rezab\\anaconda3\\Lib\\site-packages\\sklearn\\utils\\validation.py:2732: UserWarning: X has feature names, but StandardScaler was fitted without feature names\n",
      "  warnings.warn(\n"
     ]
    },
    {
     "name": "stdout",
     "output_type": "stream",
     "text": [
      "\u001b[1m19/19\u001b[0m \u001b[32m━━━━━━━━━━━━━━━━━━━━\u001b[0m\u001b[37m\u001b[0m \u001b[1m0s\u001b[0m 3ms/step \n",
      "LR - MAPE: 1.0967, MAE: 32.1559, RMSE: 43.9919, R2: 0.6202\n",
      "DL - MAPE: 0.0826, MAE: 5.6839, RMSE: 19.0764, R2: 0.9286\n",
      "\n",
      "Repeat 3/10\n"
     ]
    },
    {
     "name": "stderr",
     "output_type": "stream",
     "text": [
      "c:\\Users\\rezab\\anaconda3\\Lib\\site-packages\\sklearn\\utils\\validation.py:2732: UserWarning: X has feature names, but StandardScaler was fitted without feature names\n",
      "  warnings.warn(\n"
     ]
    },
    {
     "name": "stdout",
     "output_type": "stream",
     "text": [
      "\u001b[1m19/19\u001b[0m \u001b[32m━━━━━━━━━━━━━━━━━━━━\u001b[0m\u001b[37m\u001b[0m \u001b[1m0s\u001b[0m 3ms/step \n",
      "LR - MAPE: 0.9583, MAE: 31.8051, RMSE: 42.7519, R2: 0.6842\n",
      "DL - MAPE: 0.0737, MAE: 5.4477, RMSE: 18.9955, R2: 0.9377\n",
      "\n",
      "Repeat 4/10\n"
     ]
    },
    {
     "name": "stderr",
     "output_type": "stream",
     "text": [
      "c:\\Users\\rezab\\anaconda3\\Lib\\site-packages\\sklearn\\utils\\validation.py:2732: UserWarning: X has feature names, but StandardScaler was fitted without feature names\n",
      "  warnings.warn(\n"
     ]
    },
    {
     "name": "stdout",
     "output_type": "stream",
     "text": [
      "\u001b[1m19/19\u001b[0m \u001b[32m━━━━━━━━━━━━━━━━━━━━\u001b[0m\u001b[37m\u001b[0m \u001b[1m0s\u001b[0m 3ms/step \n",
      "LR - MAPE: 0.9967, MAE: 32.4967, RMSE: 45.5109, R2: 0.6529\n",
      "DL - MAPE: 0.1004, MAE: 7.0011, RMSE: 21.2024, R2: 0.9247\n",
      "\n",
      "Repeat 5/10\n"
     ]
    },
    {
     "name": "stderr",
     "output_type": "stream",
     "text": [
      "c:\\Users\\rezab\\anaconda3\\Lib\\site-packages\\sklearn\\utils\\validation.py:2732: UserWarning: X has feature names, but StandardScaler was fitted without feature names\n",
      "  warnings.warn(\n"
     ]
    },
    {
     "name": "stdout",
     "output_type": "stream",
     "text": [
      "\u001b[1m19/19\u001b[0m \u001b[32m━━━━━━━━━━━━━━━━━━━━\u001b[0m\u001b[37m\u001b[0m \u001b[1m0s\u001b[0m 3ms/step \n",
      "LR - MAPE: 1.0766, MAE: 32.8569, RMSE: 42.2395, R2: 0.6611\n",
      "DL - MAPE: 0.0822, MAE: 5.5232, RMSE: 13.9491, R2: 0.9630\n",
      "\n",
      "Repeat 6/10\n"
     ]
    },
    {
     "name": "stderr",
     "output_type": "stream",
     "text": [
      "c:\\Users\\rezab\\anaconda3\\Lib\\site-packages\\sklearn\\utils\\validation.py:2732: UserWarning: X has feature names, but StandardScaler was fitted without feature names\n",
      "  warnings.warn(\n"
     ]
    },
    {
     "name": "stdout",
     "output_type": "stream",
     "text": [
      "\u001b[1m19/19\u001b[0m \u001b[32m━━━━━━━━━━━━━━━━━━━━\u001b[0m\u001b[37m\u001b[0m \u001b[1m0s\u001b[0m 3ms/step \n",
      "LR - MAPE: 1.0506, MAE: 31.5484, RMSE: 40.3123, R2: 0.6412\n",
      "DL - MAPE: 0.0810, MAE: 6.0046, RMSE: 16.5703, R2: 0.9394\n",
      "\n",
      "Repeat 7/10\n"
     ]
    },
    {
     "name": "stderr",
     "output_type": "stream",
     "text": [
      "c:\\Users\\rezab\\anaconda3\\Lib\\site-packages\\sklearn\\utils\\validation.py:2732: UserWarning: X has feature names, but StandardScaler was fitted without feature names\n",
      "  warnings.warn(\n"
     ]
    },
    {
     "name": "stdout",
     "output_type": "stream",
     "text": [
      "\u001b[1m19/19\u001b[0m \u001b[32m━━━━━━━━━━━━━━━━━━━━\u001b[0m\u001b[37m\u001b[0m \u001b[1m0s\u001b[0m 3ms/step \n",
      "LR - MAPE: 1.1864, MAE: 33.5588, RMSE: 44.0405, R2: 0.6312\n",
      "DL - MAPE: 0.0893, MAE: 5.6335, RMSE: 17.2802, R2: 0.9432\n",
      "\n",
      "Repeat 8/10\n"
     ]
    },
    {
     "name": "stderr",
     "output_type": "stream",
     "text": [
      "c:\\Users\\rezab\\anaconda3\\Lib\\site-packages\\sklearn\\utils\\validation.py:2732: UserWarning: X has feature names, but StandardScaler was fitted without feature names\n",
      "  warnings.warn(\n"
     ]
    },
    {
     "name": "stdout",
     "output_type": "stream",
     "text": [
      "\u001b[1m19/19\u001b[0m \u001b[32m━━━━━━━━━━━━━━━━━━━━\u001b[0m\u001b[37m\u001b[0m \u001b[1m0s\u001b[0m 3ms/step \n",
      "LR - MAPE: 1.0397, MAE: 31.8002, RMSE: 42.2756, R2: 0.6593\n",
      "DL - MAPE: 0.0832, MAE: 5.6539, RMSE: 17.9961, R2: 0.9383\n",
      "\n",
      "Repeat 9/10\n"
     ]
    },
    {
     "name": "stderr",
     "output_type": "stream",
     "text": [
      "c:\\Users\\rezab\\anaconda3\\Lib\\site-packages\\sklearn\\utils\\validation.py:2732: UserWarning: X has feature names, but StandardScaler was fitted without feature names\n",
      "  warnings.warn(\n"
     ]
    },
    {
     "name": "stdout",
     "output_type": "stream",
     "text": [
      "\u001b[1m19/19\u001b[0m \u001b[32m━━━━━━━━━━━━━━━━━━━━\u001b[0m\u001b[37m\u001b[0m \u001b[1m0s\u001b[0m 3ms/step \n",
      "LR - MAPE: 1.1317, MAE: 31.2152, RMSE: 40.5536, R2: 0.6384\n",
      "DL - MAPE: 0.1055, MAE: 5.8874, RMSE: 15.6221, R2: 0.9463\n",
      "\n",
      "Repeat 10/10\n"
     ]
    },
    {
     "name": "stderr",
     "output_type": "stream",
     "text": [
      "c:\\Users\\rezab\\anaconda3\\Lib\\site-packages\\sklearn\\utils\\validation.py:2732: UserWarning: X has feature names, but StandardScaler was fitted without feature names\n",
      "  warnings.warn(\n"
     ]
    },
    {
     "name": "stdout",
     "output_type": "stream",
     "text": [
      "\u001b[1m19/19\u001b[0m \u001b[32m━━━━━━━━━━━━━━━━━━━━\u001b[0m\u001b[37m\u001b[0m \u001b[1m0s\u001b[0m 3ms/step \n",
      "LR - MAPE: 1.0247, MAE: 31.9512, RMSE: 43.3209, R2: 0.6401\n",
      "DL - MAPE: 0.0993, MAE: 7.0480, RMSE: 20.6281, R2: 0.9184\n",
      "\n",
      "> System: xz, Dataset: uiq2-4.bin.csv\n",
      "> Training data fraction: 0.7, Number of repeats: 10\n",
      "\n",
      "Repeat 1/10\n"
     ]
    },
    {
     "name": "stderr",
     "output_type": "stream",
     "text": [
      "c:\\Users\\rezab\\anaconda3\\Lib\\site-packages\\sklearn\\utils\\validation.py:2732: UserWarning: X has feature names, but StandardScaler was fitted without feature names\n",
      "  warnings.warn(\n"
     ]
    },
    {
     "name": "stdout",
     "output_type": "stream",
     "text": [
      "\u001b[1m19/19\u001b[0m \u001b[32m━━━━━━━━━━━━━━━━━━━━\u001b[0m\u001b[37m\u001b[0m \u001b[1m0s\u001b[0m 3ms/step \n",
      "LR - MAPE: 0.5826, MAE: 4.0988, RMSE: 5.7758, R2: 0.6479\n",
      "DL - MAPE: 0.0681, MAE: 1.2038, RMSE: 4.4767, R2: 0.7885\n",
      "\n",
      "Repeat 2/10\n"
     ]
    },
    {
     "name": "stderr",
     "output_type": "stream",
     "text": [
      "c:\\Users\\rezab\\anaconda3\\Lib\\site-packages\\sklearn\\utils\\validation.py:2732: UserWarning: X has feature names, but StandardScaler was fitted without feature names\n",
      "  warnings.warn(\n"
     ]
    },
    {
     "name": "stdout",
     "output_type": "stream",
     "text": [
      "\u001b[1m19/19\u001b[0m \u001b[32m━━━━━━━━━━━━━━━━━━━━\u001b[0m\u001b[37m\u001b[0m \u001b[1m0s\u001b[0m 3ms/step \n",
      "LR - MAPE: 0.6117, MAE: 4.2783, RMSE: 5.9903, R2: 0.6286\n",
      "DL - MAPE: 0.0761, MAE: 1.2346, RMSE: 4.4029, R2: 0.7994\n",
      "\n",
      "Repeat 3/10\n"
     ]
    },
    {
     "name": "stderr",
     "output_type": "stream",
     "text": [
      "c:\\Users\\rezab\\anaconda3\\Lib\\site-packages\\sklearn\\utils\\validation.py:2732: UserWarning: X has feature names, but StandardScaler was fitted without feature names\n",
      "  warnings.warn(\n"
     ]
    },
    {
     "name": "stdout",
     "output_type": "stream",
     "text": [
      "\u001b[1m19/19\u001b[0m \u001b[32m━━━━━━━━━━━━━━━━━━━━\u001b[0m\u001b[37m\u001b[0m \u001b[1m0s\u001b[0m 4ms/step\n",
      "LR - MAPE: 0.5591, MAE: 4.2389, RMSE: 5.9855, R2: 0.6592\n",
      "DL - MAPE: 0.0550, MAE: 1.0955, RMSE: 4.4843, R2: 0.8087\n",
      "\n",
      "Repeat 4/10\n"
     ]
    },
    {
     "name": "stderr",
     "output_type": "stream",
     "text": [
      "c:\\Users\\rezab\\anaconda3\\Lib\\site-packages\\sklearn\\utils\\validation.py:2732: UserWarning: X has feature names, but StandardScaler was fitted without feature names\n",
      "  warnings.warn(\n"
     ]
    },
    {
     "name": "stdout",
     "output_type": "stream",
     "text": [
      "\u001b[1m19/19\u001b[0m \u001b[32m━━━━━━━━━━━━━━━━━━━━\u001b[0m\u001b[37m\u001b[0m \u001b[1m0s\u001b[0m 5ms/step\n",
      "LR - MAPE: 0.5859, MAE: 4.2227, RMSE: 5.9380, R2: 0.6489\n",
      "DL - MAPE: 0.0567, MAE: 1.0442, RMSE: 4.3142, R2: 0.8146\n",
      "\n",
      "Repeat 5/10\n"
     ]
    },
    {
     "name": "stderr",
     "output_type": "stream",
     "text": [
      "c:\\Users\\rezab\\anaconda3\\Lib\\site-packages\\sklearn\\utils\\validation.py:2732: UserWarning: X has feature names, but StandardScaler was fitted without feature names\n",
      "  warnings.warn(\n"
     ]
    },
    {
     "name": "stdout",
     "output_type": "stream",
     "text": [
      "\u001b[1m19/19\u001b[0m \u001b[32m━━━━━━━━━━━━━━━━━━━━\u001b[0m\u001b[37m\u001b[0m \u001b[1m0s\u001b[0m 3ms/step \n",
      "LR - MAPE: 0.6056, MAE: 4.3571, RMSE: 6.1353, R2: 0.6287\n",
      "DL - MAPE: 0.0741, MAE: 1.2565, RMSE: 4.4919, R2: 0.8010\n",
      "\n",
      "Repeat 6/10\n"
     ]
    },
    {
     "name": "stderr",
     "output_type": "stream",
     "text": [
      "c:\\Users\\rezab\\anaconda3\\Lib\\site-packages\\sklearn\\utils\\validation.py:2732: UserWarning: X has feature names, but StandardScaler was fitted without feature names\n",
      "  warnings.warn(\n"
     ]
    },
    {
     "name": "stdout",
     "output_type": "stream",
     "text": [
      "\u001b[1m19/19\u001b[0m \u001b[32m━━━━━━━━━━━━━━━━━━━━\u001b[0m\u001b[37m\u001b[0m \u001b[1m0s\u001b[0m 3ms/step \n",
      "LR - MAPE: 0.6044, MAE: 4.3107, RMSE: 5.9125, R2: 0.6192\n",
      "DL - MAPE: 0.0613, MAE: 1.1027, RMSE: 4.4486, R2: 0.7845\n",
      "\n",
      "Repeat 7/10\n"
     ]
    },
    {
     "name": "stderr",
     "output_type": "stream",
     "text": [
      "c:\\Users\\rezab\\anaconda3\\Lib\\site-packages\\sklearn\\utils\\validation.py:2732: UserWarning: X has feature names, but StandardScaler was fitted without feature names\n",
      "  warnings.warn(\n"
     ]
    },
    {
     "name": "stdout",
     "output_type": "stream",
     "text": [
      "\u001b[1m19/19\u001b[0m \u001b[32m━━━━━━━━━━━━━━━━━━━━\u001b[0m\u001b[37m\u001b[0m \u001b[1m0s\u001b[0m 3ms/step \n",
      "LR - MAPE: 0.6509, MAE: 4.5475, RMSE: 6.4433, R2: 0.6119\n",
      "DL - MAPE: 0.0703, MAE: 1.3326, RMSE: 5.0018, R2: 0.7661\n",
      "\n",
      "Repeat 8/10\n"
     ]
    },
    {
     "name": "stderr",
     "output_type": "stream",
     "text": [
      "c:\\Users\\rezab\\anaconda3\\Lib\\site-packages\\sklearn\\utils\\validation.py:2732: UserWarning: X has feature names, but StandardScaler was fitted without feature names\n",
      "  warnings.warn(\n"
     ]
    },
    {
     "name": "stdout",
     "output_type": "stream",
     "text": [
      "\u001b[1m19/19\u001b[0m \u001b[32m━━━━━━━━━━━━━━━━━━━━\u001b[0m\u001b[37m\u001b[0m \u001b[1m0s\u001b[0m 3ms/step \n",
      "LR - MAPE: 0.5980, MAE: 4.2604, RMSE: 5.9178, R2: 0.6394\n",
      "DL - MAPE: 0.0920, MAE: 1.3297, RMSE: 4.3783, R2: 0.8026\n",
      "\n",
      "Repeat 9/10\n"
     ]
    },
    {
     "name": "stderr",
     "output_type": "stream",
     "text": [
      "c:\\Users\\rezab\\anaconda3\\Lib\\site-packages\\sklearn\\utils\\validation.py:2732: UserWarning: X has feature names, but StandardScaler was fitted without feature names\n",
      "  warnings.warn(\n"
     ]
    },
    {
     "name": "stdout",
     "output_type": "stream",
     "text": [
      "\u001b[1m19/19\u001b[0m \u001b[32m━━━━━━━━━━━━━━━━━━━━\u001b[0m\u001b[37m\u001b[0m \u001b[1m0s\u001b[0m 3ms/step \n",
      "LR - MAPE: 0.6422, MAE: 4.2620, RMSE: 5.8765, R2: 0.6239\n",
      "DL - MAPE: 0.0597, MAE: 1.0640, RMSE: 4.2362, R2: 0.8045\n",
      "\n",
      "Repeat 10/10\n"
     ]
    },
    {
     "name": "stderr",
     "output_type": "stream",
     "text": [
      "c:\\Users\\rezab\\anaconda3\\Lib\\site-packages\\sklearn\\utils\\validation.py:2732: UserWarning: X has feature names, but StandardScaler was fitted without feature names\n",
      "  warnings.warn(\n"
     ]
    },
    {
     "name": "stdout",
     "output_type": "stream",
     "text": [
      "\u001b[1m19/19\u001b[0m \u001b[32m━━━━━━━━━━━━━━━━━━━━\u001b[0m\u001b[37m\u001b[0m \u001b[1m0s\u001b[0m 3ms/step \n",
      "LR - MAPE: 0.5971, MAE: 4.3422, RMSE: 5.9789, R2: 0.6280\n",
      "DL - MAPE: 0.0702, MAE: 1.1417, RMSE: 4.2551, R2: 0.8116\n",
      "\n",
      "> System: xz, Dataset: uiq2-8.bin.csv\n",
      "> Training data fraction: 0.7, Number of repeats: 10\n",
      "\n",
      "Repeat 1/10\n"
     ]
    },
    {
     "name": "stderr",
     "output_type": "stream",
     "text": [
      "c:\\Users\\rezab\\anaconda3\\Lib\\site-packages\\sklearn\\utils\\validation.py:2732: UserWarning: X has feature names, but StandardScaler was fitted without feature names\n",
      "  warnings.warn(\n"
     ]
    },
    {
     "name": "stdout",
     "output_type": "stream",
     "text": [
      "\u001b[1m19/19\u001b[0m \u001b[32m━━━━━━━━━━━━━━━━━━━━\u001b[0m\u001b[37m\u001b[0m \u001b[1m0s\u001b[0m 3ms/step \n",
      "LR - MAPE: 0.7876, MAE: 11.2697, RMSE: 15.5648, R2: 0.6473\n",
      "DL - MAPE: 0.0855, MAE: 2.6016, RMSE: 6.9682, R2: 0.9293\n",
      "\n",
      "Repeat 2/10\n"
     ]
    },
    {
     "name": "stderr",
     "output_type": "stream",
     "text": [
      "c:\\Users\\rezab\\anaconda3\\Lib\\site-packages\\sklearn\\utils\\validation.py:2732: UserWarning: X has feature names, but StandardScaler was fitted without feature names\n",
      "  warnings.warn(\n"
     ]
    },
    {
     "name": "stdout",
     "output_type": "stream",
     "text": [
      "\u001b[1m19/19\u001b[0m \u001b[32m━━━━━━━━━━━━━━━━━━━━\u001b[0m\u001b[37m\u001b[0m \u001b[1m0s\u001b[0m 3ms/step \n",
      "LR - MAPE: 0.8300, MAE: 11.8536, RMSE: 15.7971, R2: 0.6372\n",
      "DL - MAPE: 0.0875, MAE: 2.7047, RMSE: 7.0741, R2: 0.9272\n",
      "\n",
      "Repeat 3/10\n"
     ]
    },
    {
     "name": "stderr",
     "output_type": "stream",
     "text": [
      "c:\\Users\\rezab\\anaconda3\\Lib\\site-packages\\sklearn\\utils\\validation.py:2732: UserWarning: X has feature names, but StandardScaler was fitted without feature names\n",
      "  warnings.warn(\n"
     ]
    },
    {
     "name": "stdout",
     "output_type": "stream",
     "text": [
      "\u001b[1m19/19\u001b[0m \u001b[32m━━━━━━━━━━━━━━━━━━━━\u001b[0m\u001b[37m\u001b[0m \u001b[1m0s\u001b[0m 3ms/step \n",
      "LR - MAPE: 0.7460, MAE: 11.7325, RMSE: 15.6705, R2: 0.6823\n",
      "DL - MAPE: 0.0766, MAE: 2.8948, RMSE: 7.5271, R2: 0.9267\n",
      "\n",
      "Repeat 4/10\n"
     ]
    },
    {
     "name": "stderr",
     "output_type": "stream",
     "text": [
      "c:\\Users\\rezab\\anaconda3\\Lib\\site-packages\\sklearn\\utils\\validation.py:2732: UserWarning: X has feature names, but StandardScaler was fitted without feature names\n",
      "  warnings.warn(\n"
     ]
    },
    {
     "name": "stdout",
     "output_type": "stream",
     "text": [
      "\u001b[1m19/19\u001b[0m \u001b[32m━━━━━━━━━━━━━━━━━━━━\u001b[0m\u001b[37m\u001b[0m \u001b[1m0s\u001b[0m 3ms/step \n",
      "LR - MAPE: 0.7643, MAE: 11.9666, RMSE: 17.6551, R2: 0.6291\n",
      "DL - MAPE: 0.0892, MAE: 3.4338, RMSE: 11.1348, R2: 0.8525\n",
      "\n",
      "Repeat 5/10\n"
     ]
    },
    {
     "name": "stderr",
     "output_type": "stream",
     "text": [
      "c:\\Users\\rezab\\anaconda3\\Lib\\site-packages\\sklearn\\utils\\validation.py:2732: UserWarning: X has feature names, but StandardScaler was fitted without feature names\n",
      "  warnings.warn(\n"
     ]
    },
    {
     "name": "stdout",
     "output_type": "stream",
     "text": [
      "\u001b[1m19/19\u001b[0m \u001b[32m━━━━━━━━━━━━━━━━━━━━\u001b[0m\u001b[37m\u001b[0m \u001b[1m0s\u001b[0m 3ms/step \n",
      "LR - MAPE: 0.8084, MAE: 12.0453, RMSE: 17.1422, R2: 0.6230\n",
      "DL - MAPE: 0.0795, MAE: 2.7918, RMSE: 9.5106, R2: 0.8840\n",
      "\n",
      "Repeat 6/10\n"
     ]
    },
    {
     "name": "stderr",
     "output_type": "stream",
     "text": [
      "c:\\Users\\rezab\\anaconda3\\Lib\\site-packages\\sklearn\\utils\\validation.py:2732: UserWarning: X has feature names, but StandardScaler was fitted without feature names\n",
      "  warnings.warn(\n"
     ]
    },
    {
     "name": "stdout",
     "output_type": "stream",
     "text": [
      "\u001b[1m19/19\u001b[0m \u001b[32m━━━━━━━━━━━━━━━━━━━━\u001b[0m\u001b[37m\u001b[0m \u001b[1m0s\u001b[0m 4ms/step\n",
      "LR - MAPE: 0.7987, MAE: 11.7625, RMSE: 16.7550, R2: 0.6031\n",
      "DL - MAPE: 0.0748, MAE: 2.5499, RMSE: 9.3866, R2: 0.8754\n",
      "\n",
      "Repeat 7/10\n"
     ]
    },
    {
     "name": "stderr",
     "output_type": "stream",
     "text": [
      "c:\\Users\\rezab\\anaconda3\\Lib\\site-packages\\sklearn\\utils\\validation.py:2732: UserWarning: X has feature names, but StandardScaler was fitted without feature names\n",
      "  warnings.warn(\n"
     ]
    },
    {
     "name": "stdout",
     "output_type": "stream",
     "text": [
      "\u001b[1m19/19\u001b[0m \u001b[32m━━━━━━━━━━━━━━━━━━━━\u001b[0m\u001b[37m\u001b[0m \u001b[1m0s\u001b[0m 3ms/step \n",
      "LR - MAPE: 0.8716, MAE: 12.6145, RMSE: 17.8848, R2: 0.6043\n",
      "DL - MAPE: 0.0842, MAE: 2.8283, RMSE: 10.1104, R2: 0.8736\n",
      "\n",
      "Repeat 8/10\n"
     ]
    },
    {
     "name": "stderr",
     "output_type": "stream",
     "text": [
      "c:\\Users\\rezab\\anaconda3\\Lib\\site-packages\\sklearn\\utils\\validation.py:2732: UserWarning: X has feature names, but StandardScaler was fitted without feature names\n",
      "  warnings.warn(\n"
     ]
    },
    {
     "name": "stdout",
     "output_type": "stream",
     "text": [
      "\u001b[1m19/19\u001b[0m \u001b[32m━━━━━━━━━━━━━━━━━━━━\u001b[0m\u001b[37m\u001b[0m \u001b[1m0s\u001b[0m 3ms/step \n",
      "LR - MAPE: 0.7946, MAE: 11.6431, RMSE: 16.4673, R2: 0.6332\n",
      "DL - MAPE: 0.0685, MAE: 2.2396, RMSE: 8.6382, R2: 0.8991\n",
      "\n",
      "Repeat 9/10\n"
     ]
    },
    {
     "name": "stderr",
     "output_type": "stream",
     "text": [
      "c:\\Users\\rezab\\anaconda3\\Lib\\site-packages\\sklearn\\utils\\validation.py:2732: UserWarning: X has feature names, but StandardScaler was fitted without feature names\n",
      "  warnings.warn(\n"
     ]
    },
    {
     "name": "stdout",
     "output_type": "stream",
     "text": [
      "\u001b[1m19/19\u001b[0m \u001b[32m━━━━━━━━━━━━━━━━━━━━\u001b[0m\u001b[37m\u001b[0m \u001b[1m0s\u001b[0m 3ms/step \n",
      "LR - MAPE: 0.8456, MAE: 11.7783, RMSE: 16.0544, R2: 0.6252\n",
      "DL - MAPE: 0.0738, MAE: 2.3583, RMSE: 7.4153, R2: 0.9200\n",
      "\n",
      "Repeat 10/10\n"
     ]
    },
    {
     "name": "stderr",
     "output_type": "stream",
     "text": [
      "c:\\Users\\rezab\\anaconda3\\Lib\\site-packages\\sklearn\\utils\\validation.py:2732: UserWarning: X has feature names, but StandardScaler was fitted without feature names\n",
      "  warnings.warn(\n"
     ]
    },
    {
     "name": "stdout",
     "output_type": "stream",
     "text": [
      "\u001b[1m19/19\u001b[0m \u001b[32m━━━━━━━━━━━━━━━━━━━━\u001b[0m\u001b[37m\u001b[0m \u001b[1m0s\u001b[0m 3ms/step \n",
      "LR - MAPE: 0.7744, MAE: 11.8979, RMSE: 16.8757, R2: 0.6183\n",
      "DL - MAPE: 0.0826, MAE: 2.8540, RMSE: 8.9029, R2: 0.8938\n",
      "\n",
      "> System: xz, Dataset: vmlinux-5.10.tar.csv\n",
      "> Training data fraction: 0.7, Number of repeats: 10\n",
      "\n",
      "Repeat 1/10\n"
     ]
    },
    {
     "name": "stderr",
     "output_type": "stream",
     "text": [
      "c:\\Users\\rezab\\anaconda3\\Lib\\site-packages\\sklearn\\utils\\validation.py:2732: UserWarning: X has feature names, but StandardScaler was fitted without feature names\n",
      "  warnings.warn(\n"
     ]
    },
    {
     "name": "stdout",
     "output_type": "stream",
     "text": [
      "\u001b[1m19/19\u001b[0m \u001b[32m━━━━━━━━━━━━━━━━━━━━\u001b[0m\u001b[37m\u001b[0m \u001b[1m0s\u001b[0m 3ms/step \n",
      "LR - MAPE: 0.2677, MAE: 1.7641, RMSE: 2.1825, R2: 0.7650\n",
      "DL - MAPE: 0.0498, MAE: 0.3349, RMSE: 0.5076, R2: 0.9873\n",
      "\n",
      "Repeat 2/10\n"
     ]
    },
    {
     "name": "stderr",
     "output_type": "stream",
     "text": [
      "c:\\Users\\rezab\\anaconda3\\Lib\\site-packages\\sklearn\\utils\\validation.py:2732: UserWarning: X has feature names, but StandardScaler was fitted without feature names\n",
      "  warnings.warn(\n"
     ]
    },
    {
     "name": "stdout",
     "output_type": "stream",
     "text": [
      "\u001b[1m19/19\u001b[0m \u001b[32m━━━━━━━━━━━━━━━━━━━━\u001b[0m\u001b[37m\u001b[0m \u001b[1m0s\u001b[0m 3ms/step \n",
      "LR - MAPE: 0.2829, MAE: 1.8608, RMSE: 2.2824, R2: 0.7476\n",
      "DL - MAPE: 0.0518, MAE: 0.4525, RMSE: 0.8235, R2: 0.9671\n",
      "\n",
      "Repeat 3/10\n"
     ]
    },
    {
     "name": "stderr",
     "output_type": "stream",
     "text": [
      "c:\\Users\\rezab\\anaconda3\\Lib\\site-packages\\sklearn\\utils\\validation.py:2732: UserWarning: X has feature names, but StandardScaler was fitted without feature names\n",
      "  warnings.warn(\n"
     ]
    },
    {
     "name": "stdout",
     "output_type": "stream",
     "text": [
      "\u001b[1m19/19\u001b[0m \u001b[32m━━━━━━━━━━━━━━━━━━━━\u001b[0m\u001b[37m\u001b[0m \u001b[1m0s\u001b[0m 3ms/step \n",
      "LR - MAPE: 0.2654, MAE: 1.8417, RMSE: 2.2478, R2: 0.7810\n",
      "DL - MAPE: 0.0419, MAE: 0.3600, RMSE: 0.6549, R2: 0.9814\n",
      "\n",
      "Repeat 4/10\n"
     ]
    },
    {
     "name": "stderr",
     "output_type": "stream",
     "text": [
      "c:\\Users\\rezab\\anaconda3\\Lib\\site-packages\\sklearn\\utils\\validation.py:2732: UserWarning: X has feature names, but StandardScaler was fitted without feature names\n",
      "  warnings.warn(\n"
     ]
    },
    {
     "name": "stdout",
     "output_type": "stream",
     "text": [
      "\u001b[1m19/19\u001b[0m \u001b[32m━━━━━━━━━━━━━━━━━━━━\u001b[0m\u001b[37m\u001b[0m \u001b[1m0s\u001b[0m 3ms/step \n",
      "LR - MAPE: 0.2708, MAE: 1.8279, RMSE: 2.2381, R2: 0.7780\n",
      "DL - MAPE: 0.0521, MAE: 0.3755, RMSE: 0.6416, R2: 0.9818\n",
      "\n",
      "Repeat 5/10\n"
     ]
    },
    {
     "name": "stderr",
     "output_type": "stream",
     "text": [
      "c:\\Users\\rezab\\anaconda3\\Lib\\site-packages\\sklearn\\utils\\validation.py:2732: UserWarning: X has feature names, but StandardScaler was fitted without feature names\n",
      "  warnings.warn(\n"
     ]
    },
    {
     "name": "stdout",
     "output_type": "stream",
     "text": [
      "\u001b[1m19/19\u001b[0m \u001b[32m━━━━━━━━━━━━━━━━━━━━\u001b[0m\u001b[37m\u001b[0m \u001b[1m0s\u001b[0m 3ms/step \n",
      "LR - MAPE: 0.2918, MAE: 1.9242, RMSE: 2.3324, R2: 0.7511\n",
      "DL - MAPE: 0.0345, MAE: 0.2775, RMSE: 0.4684, R2: 0.9900\n",
      "\n",
      "Repeat 6/10\n"
     ]
    },
    {
     "name": "stderr",
     "output_type": "stream",
     "text": [
      "c:\\Users\\rezab\\anaconda3\\Lib\\site-packages\\sklearn\\utils\\validation.py:2732: UserWarning: X has feature names, but StandardScaler was fitted without feature names\n",
      "  warnings.warn(\n"
     ]
    },
    {
     "name": "stdout",
     "output_type": "stream",
     "text": [
      "\u001b[1m19/19\u001b[0m \u001b[32m━━━━━━━━━━━━━━━━━━━━\u001b[0m\u001b[37m\u001b[0m \u001b[1m0s\u001b[0m 3ms/step \n",
      "LR - MAPE: 0.2847, MAE: 1.8448, RMSE: 2.2301, R2: 0.7403\n",
      "DL - MAPE: 0.0499, MAE: 0.3904, RMSE: 0.6356, R2: 0.9789\n",
      "\n",
      "Repeat 7/10\n"
     ]
    },
    {
     "name": "stderr",
     "output_type": "stream",
     "text": [
      "c:\\Users\\rezab\\anaconda3\\Lib\\site-packages\\sklearn\\utils\\validation.py:2732: UserWarning: X has feature names, but StandardScaler was fitted without feature names\n",
      "  warnings.warn(\n"
     ]
    },
    {
     "name": "stdout",
     "output_type": "stream",
     "text": [
      "\u001b[1m19/19\u001b[0m \u001b[32m━━━━━━━━━━━━━━━━━━━━\u001b[0m\u001b[37m\u001b[0m \u001b[1m0s\u001b[0m 3ms/step \n",
      "LR - MAPE: 0.3056, MAE: 1.9864, RMSE: 2.4110, R2: 0.7249\n",
      "DL - MAPE: 0.0480, MAE: 0.3717, RMSE: 0.6977, R2: 0.9770\n",
      "\n",
      "Repeat 8/10\n"
     ]
    },
    {
     "name": "stderr",
     "output_type": "stream",
     "text": [
      "c:\\Users\\rezab\\anaconda3\\Lib\\site-packages\\sklearn\\utils\\validation.py:2732: UserWarning: X has feature names, but StandardScaler was fitted without feature names\n",
      "  warnings.warn(\n"
     ]
    },
    {
     "name": "stdout",
     "output_type": "stream",
     "text": [
      "\u001b[1m19/19\u001b[0m \u001b[32m━━━━━━━━━━━━━━━━━━━━\u001b[0m\u001b[37m\u001b[0m \u001b[1m0s\u001b[0m 3ms/step \n",
      "LR - MAPE: 0.2824, MAE: 1.8462, RMSE: 2.2472, R2: 0.7599\n",
      "DL - MAPE: 0.0634, MAE: 0.4908, RMSE: 0.7784, R2: 0.9712\n",
      "\n",
      "Repeat 9/10\n"
     ]
    },
    {
     "name": "stderr",
     "output_type": "stream",
     "text": [
      "c:\\Users\\rezab\\anaconda3\\Lib\\site-packages\\sklearn\\utils\\validation.py:2732: UserWarning: X has feature names, but StandardScaler was fitted without feature names\n",
      "  warnings.warn(\n"
     ]
    },
    {
     "name": "stdout",
     "output_type": "stream",
     "text": [
      "\u001b[1m19/19\u001b[0m \u001b[32m━━━━━━━━━━━━━━━━━━━━\u001b[0m\u001b[37m\u001b[0m \u001b[1m0s\u001b[0m 3ms/step \n",
      "LR - MAPE: 0.2943, MAE: 1.8400, RMSE: 2.2235, R2: 0.7468\n",
      "DL - MAPE: 0.0406, MAE: 0.3041, RMSE: 0.5187, R2: 0.9862\n",
      "\n",
      "Repeat 10/10\n"
     ]
    },
    {
     "name": "stderr",
     "output_type": "stream",
     "text": [
      "c:\\Users\\rezab\\anaconda3\\Lib\\site-packages\\sklearn\\utils\\validation.py:2732: UserWarning: X has feature names, but StandardScaler was fitted without feature names\n",
      "  warnings.warn(\n"
     ]
    },
    {
     "name": "stdout",
     "output_type": "stream",
     "text": [
      "\u001b[1m19/19\u001b[0m \u001b[32m━━━━━━━━━━━━━━━━━━━━\u001b[0m\u001b[37m\u001b[0m \u001b[1m0s\u001b[0m 3ms/step \n",
      "LR - MAPE: 0.2823, MAE: 1.8720, RMSE: 2.2661, R2: 0.7546\n",
      "DL - MAPE: 0.0384, MAE: 0.3153, RMSE: 0.5277, R2: 0.9867\n",
      "\n",
      "==================================================\n",
      "Processing system: z3\n",
      "==================================================\n",
      "\n",
      "> System: z3, Dataset: AUFNIRA_z3.637557.smt2.csv\n",
      "> Training data fraction: 0.7, Number of repeats: 10\n",
      "\n",
      "Repeat 1/10\n"
     ]
    },
    {
     "name": "stderr",
     "output_type": "stream",
     "text": [
      "c:\\Users\\rezab\\anaconda3\\Lib\\site-packages\\sklearn\\utils\\validation.py:2732: UserWarning: X has feature names, but StandardScaler was fitted without feature names\n",
      "  warnings.warn(\n"
     ]
    },
    {
     "name": "stdout",
     "output_type": "stream",
     "text": [
      "\u001b[1m10/10\u001b[0m \u001b[32m━━━━━━━━━━━━━━━━━━━━\u001b[0m\u001b[37m\u001b[0m \u001b[1m0s\u001b[0m 7ms/step \n",
      "LR - MAPE: 7.4586, MAE: 85.8897, RMSE: 97.4399, R2: 0.6730\n",
      "DL - MAPE: 0.0279, MAE: 1.4229, RMSE: 2.7687, R2: 0.9997\n",
      "\n",
      "Repeat 2/10\n"
     ]
    },
    {
     "name": "stderr",
     "output_type": "stream",
     "text": [
      "c:\\Users\\rezab\\anaconda3\\Lib\\site-packages\\sklearn\\utils\\validation.py:2732: UserWarning: X has feature names, but StandardScaler was fitted without feature names\n",
      "  warnings.warn(\n"
     ]
    },
    {
     "name": "stdout",
     "output_type": "stream",
     "text": [
      "\u001b[1m10/10\u001b[0m \u001b[32m━━━━━━━━━━━━━━━━━━━━\u001b[0m\u001b[37m\u001b[0m \u001b[1m0s\u001b[0m 6ms/step \n",
      "LR - MAPE: 8.0247, MAE: 85.5096, RMSE: 96.2710, R2: 0.6465\n",
      "DL - MAPE: 0.0456, MAE: 2.6345, RMSE: 5.1928, R2: 0.9990\n",
      "\n",
      "Repeat 3/10\n"
     ]
    },
    {
     "name": "stderr",
     "output_type": "stream",
     "text": [
      "c:\\Users\\rezab\\anaconda3\\Lib\\site-packages\\sklearn\\utils\\validation.py:2732: UserWarning: X has feature names, but StandardScaler was fitted without feature names\n",
      "  warnings.warn(\n"
     ]
    },
    {
     "name": "stdout",
     "output_type": "stream",
     "text": [
      "\u001b[1m10/10\u001b[0m \u001b[32m━━━━━━━━━━━━━━━━━━━━\u001b[0m\u001b[37m\u001b[0m \u001b[1m0s\u001b[0m 6ms/step \n",
      "LR - MAPE: 7.8795, MAE: 93.6918, RMSE: 104.3716, R2: 0.6572\n",
      "DL - MAPE: 0.0599, MAE: 3.6098, RMSE: 6.9310, R2: 0.9985\n",
      "\n",
      "Repeat 4/10\n"
     ]
    },
    {
     "name": "stderr",
     "output_type": "stream",
     "text": [
      "c:\\Users\\rezab\\anaconda3\\Lib\\site-packages\\sklearn\\utils\\validation.py:2732: UserWarning: X has feature names, but StandardScaler was fitted without feature names\n",
      "  warnings.warn(\n"
     ]
    },
    {
     "name": "stdout",
     "output_type": "stream",
     "text": [
      "\u001b[1m10/10\u001b[0m \u001b[32m━━━━━━━━━━━━━━━━━━━━\u001b[0m\u001b[37m\u001b[0m \u001b[1m0s\u001b[0m 6ms/step \n",
      "LR - MAPE: 7.7898, MAE: 89.7485, RMSE: 101.1343, R2: 0.6539\n",
      "DL - MAPE: 0.0348, MAE: 2.5161, RMSE: 5.3430, R2: 0.9990\n",
      "\n",
      "Repeat 5/10\n"
     ]
    },
    {
     "name": "stderr",
     "output_type": "stream",
     "text": [
      "c:\\Users\\rezab\\anaconda3\\Lib\\site-packages\\sklearn\\utils\\validation.py:2732: UserWarning: X has feature names, but StandardScaler was fitted without feature names\n",
      "  warnings.warn(\n"
     ]
    },
    {
     "name": "stdout",
     "output_type": "stream",
     "text": [
      "\u001b[1m10/10\u001b[0m \u001b[32m━━━━━━━━━━━━━━━━━━━━\u001b[0m\u001b[37m\u001b[0m \u001b[1m0s\u001b[0m 6ms/step \n",
      "LR - MAPE: 7.2041, MAE: 89.5551, RMSE: 101.0708, R2: 0.6858\n",
      "DL - MAPE: 0.0475, MAE: 2.5724, RMSE: 4.4004, R2: 0.9994\n",
      "\n",
      "Repeat 6/10\n"
     ]
    },
    {
     "name": "stderr",
     "output_type": "stream",
     "text": [
      "c:\\Users\\rezab\\anaconda3\\Lib\\site-packages\\sklearn\\utils\\validation.py:2732: UserWarning: X has feature names, but StandardScaler was fitted without feature names\n",
      "  warnings.warn(\n"
     ]
    },
    {
     "name": "stdout",
     "output_type": "stream",
     "text": [
      "\u001b[1m10/10\u001b[0m \u001b[32m━━━━━━━━━━━━━━━━━━━━\u001b[0m\u001b[37m\u001b[0m \u001b[1m0s\u001b[0m 6ms/step \n",
      "LR - MAPE: 7.5694, MAE: 85.5923, RMSE: 97.3608, R2: 0.6773\n",
      "DL - MAPE: 0.0626, MAE: 3.8606, RMSE: 6.6755, R2: 0.9985\n",
      "\n",
      "Repeat 7/10\n"
     ]
    },
    {
     "name": "stderr",
     "output_type": "stream",
     "text": [
      "c:\\Users\\rezab\\anaconda3\\Lib\\site-packages\\sklearn\\utils\\validation.py:2732: UserWarning: X has feature names, but StandardScaler was fitted without feature names\n",
      "  warnings.warn(\n"
     ]
    },
    {
     "name": "stdout",
     "output_type": "stream",
     "text": [
      "\u001b[1m10/10\u001b[0m \u001b[32m━━━━━━━━━━━━━━━━━━━━\u001b[0m\u001b[37m\u001b[0m \u001b[1m0s\u001b[0m 7ms/step \n",
      "LR - MAPE: 7.7858, MAE: 89.1964, RMSE: 100.6313, R2: 0.6641\n",
      "DL - MAPE: 0.0426, MAE: 1.5315, RMSE: 2.6309, R2: 0.9998\n",
      "\n",
      "Repeat 8/10\n"
     ]
    },
    {
     "name": "stderr",
     "output_type": "stream",
     "text": [
      "c:\\Users\\rezab\\anaconda3\\Lib\\site-packages\\sklearn\\utils\\validation.py:2732: UserWarning: X has feature names, but StandardScaler was fitted without feature names\n",
      "  warnings.warn(\n"
     ]
    },
    {
     "name": "stdout",
     "output_type": "stream",
     "text": [
      "\u001b[1m10/10\u001b[0m \u001b[32m━━━━━━━━━━━━━━━━━━━━\u001b[0m\u001b[37m\u001b[0m \u001b[1m0s\u001b[0m 6ms/step \n",
      "LR - MAPE: 6.7822, MAE: 90.9063, RMSE: 103.2759, R2: 0.6930\n",
      "DL - MAPE: 0.0629, MAE: 4.0722, RMSE: 6.5855, R2: 0.9988\n",
      "\n",
      "Repeat 9/10\n"
     ]
    },
    {
     "name": "stderr",
     "output_type": "stream",
     "text": [
      "c:\\Users\\rezab\\anaconda3\\Lib\\site-packages\\sklearn\\utils\\validation.py:2732: UserWarning: X has feature names, but StandardScaler was fitted without feature names\n",
      "  warnings.warn(\n"
     ]
    },
    {
     "name": "stdout",
     "output_type": "stream",
     "text": [
      "\u001b[1m10/10\u001b[0m \u001b[32m━━━━━━━━━━━━━━━━━━━━\u001b[0m\u001b[37m\u001b[0m \u001b[1m0s\u001b[0m 6ms/step \n",
      "LR - MAPE: 7.8484, MAE: 86.6740, RMSE: 97.9229, R2: 0.6707\n",
      "DL - MAPE: 0.0581, MAE: 2.3647, RMSE: 4.0539, R2: 0.9994\n",
      "\n",
      "Repeat 10/10\n"
     ]
    },
    {
     "name": "stderr",
     "output_type": "stream",
     "text": [
      "c:\\Users\\rezab\\anaconda3\\Lib\\site-packages\\sklearn\\utils\\validation.py:2732: UserWarning: X has feature names, but StandardScaler was fitted without feature names\n",
      "  warnings.warn(\n"
     ]
    },
    {
     "name": "stdout",
     "output_type": "stream",
     "text": [
      "\u001b[1m10/10\u001b[0m \u001b[32m━━━━━━━━━━━━━━━━━━━━\u001b[0m\u001b[37m\u001b[0m \u001b[1m0s\u001b[0m 6ms/step \n",
      "LR - MAPE: 7.3257, MAE: 86.3903, RMSE: 97.8925, R2: 0.6841\n",
      "DL - MAPE: 0.0656, MAE: 3.6671, RMSE: 6.2605, R2: 0.9987\n",
      "\n",
      "> System: z3, Dataset: LRA_formula_277.smt2.csv\n",
      "> Training data fraction: 0.7, Number of repeats: 10\n",
      "\n",
      "Repeat 1/10\n"
     ]
    },
    {
     "name": "stderr",
     "output_type": "stream",
     "text": [
      "c:\\Users\\rezab\\anaconda3\\Lib\\site-packages\\sklearn\\utils\\validation.py:2732: UserWarning: X has feature names, but StandardScaler was fitted without feature names\n",
      "  warnings.warn(\n"
     ]
    },
    {
     "name": "stdout",
     "output_type": "stream",
     "text": [
      "\u001b[1m10/10\u001b[0m \u001b[32m━━━━━━━━━━━━━━━━━━━━\u001b[0m\u001b[37m\u001b[0m \u001b[1m0s\u001b[0m 6ms/step \n",
      "LR - MAPE: 0.1105, MAE: 0.3173, RMSE: 0.3240, R2: 0.9161\n",
      "DL - MAPE: 0.0208, MAE: 0.0712, RMSE: 0.0897, R2: 0.9936\n",
      "\n",
      "Repeat 2/10\n"
     ]
    },
    {
     "name": "stderr",
     "output_type": "stream",
     "text": [
      "c:\\Users\\rezab\\anaconda3\\Lib\\site-packages\\sklearn\\utils\\validation.py:2732: UserWarning: X has feature names, but StandardScaler was fitted without feature names\n",
      "  warnings.warn(\n"
     ]
    },
    {
     "name": "stdout",
     "output_type": "stream",
     "text": [
      "\u001b[1m10/10\u001b[0m \u001b[32m━━━━━━━━━━━━━━━━━━━━\u001b[0m\u001b[37m\u001b[0m \u001b[1m0s\u001b[0m 6ms/step \n",
      "LR - MAPE: 0.1047, MAE: 0.3182, RMSE: 0.3235, R2: 0.9149\n",
      "DL - MAPE: 0.0184, MAE: 0.0658, RMSE: 0.0865, R2: 0.9939\n",
      "\n",
      "Repeat 3/10\n"
     ]
    },
    {
     "name": "stderr",
     "output_type": "stream",
     "text": [
      "c:\\Users\\rezab\\anaconda3\\Lib\\site-packages\\sklearn\\utils\\validation.py:2732: UserWarning: X has feature names, but StandardScaler was fitted without feature names\n",
      "  warnings.warn(\n"
     ]
    },
    {
     "name": "stdout",
     "output_type": "stream",
     "text": [
      "\u001b[1m10/10\u001b[0m \u001b[32m━━━━━━━━━━━━━━━━━━━━\u001b[0m\u001b[37m\u001b[0m \u001b[1m0s\u001b[0m 6ms/step \n",
      "LR - MAPE: 0.1098, MAE: 0.3187, RMSE: 0.3252, R2: 0.9167\n",
      "DL - MAPE: 0.0172, MAE: 0.0599, RMSE: 0.0816, R2: 0.9948\n",
      "\n",
      "Repeat 4/10\n"
     ]
    },
    {
     "name": "stderr",
     "output_type": "stream",
     "text": [
      "c:\\Users\\rezab\\anaconda3\\Lib\\site-packages\\sklearn\\utils\\validation.py:2732: UserWarning: X has feature names, but StandardScaler was fitted without feature names\n",
      "  warnings.warn(\n"
     ]
    },
    {
     "name": "stdout",
     "output_type": "stream",
     "text": [
      "\u001b[1m10/10\u001b[0m \u001b[32m━━━━━━━━━━━━━━━━━━━━\u001b[0m\u001b[37m\u001b[0m \u001b[1m0s\u001b[0m 6ms/step \n",
      "LR - MAPE: 0.1103, MAE: 0.3175, RMSE: 0.3251, R2: 0.9152\n",
      "DL - MAPE: 0.0178, MAE: 0.0623, RMSE: 0.0765, R2: 0.9953\n",
      "\n",
      "Repeat 5/10\n"
     ]
    },
    {
     "name": "stderr",
     "output_type": "stream",
     "text": [
      "c:\\Users\\rezab\\anaconda3\\Lib\\site-packages\\sklearn\\utils\\validation.py:2732: UserWarning: X has feature names, but StandardScaler was fitted without feature names\n",
      "  warnings.warn(\n"
     ]
    },
    {
     "name": "stdout",
     "output_type": "stream",
     "text": [
      "\u001b[1m10/10\u001b[0m \u001b[32m━━━━━━━━━━━━━━━━━━━━\u001b[0m\u001b[37m\u001b[0m \u001b[1m0s\u001b[0m 6ms/step \n",
      "LR - MAPE: 0.1081, MAE: 0.3126, RMSE: 0.3165, R2: 0.9243\n",
      "DL - MAPE: 0.0170, MAE: 0.0513, RMSE: 0.0697, R2: 0.9963\n",
      "\n",
      "Repeat 6/10\n"
     ]
    },
    {
     "name": "stderr",
     "output_type": "stream",
     "text": [
      "c:\\Users\\rezab\\anaconda3\\Lib\\site-packages\\sklearn\\utils\\validation.py:2732: UserWarning: X has feature names, but StandardScaler was fitted without feature names\n",
      "  warnings.warn(\n"
     ]
    },
    {
     "name": "stdout",
     "output_type": "stream",
     "text": [
      "\u001b[1m10/10\u001b[0m \u001b[32m━━━━━━━━━━━━━━━━━━━━\u001b[0m\u001b[37m\u001b[0m \u001b[1m0s\u001b[0m 6ms/step \n",
      "LR - MAPE: 0.1110, MAE: 0.3145, RMSE: 0.3189, R2: 0.9219\n",
      "DL - MAPE: 0.0145, MAE: 0.0467, RMSE: 0.0588, R2: 0.9973\n",
      "\n",
      "Repeat 7/10\n"
     ]
    },
    {
     "name": "stderr",
     "output_type": "stream",
     "text": [
      "c:\\Users\\rezab\\anaconda3\\Lib\\site-packages\\sklearn\\utils\\validation.py:2732: UserWarning: X has feature names, but StandardScaler was fitted without feature names\n",
      "  warnings.warn(\n"
     ]
    },
    {
     "name": "stdout",
     "output_type": "stream",
     "text": [
      "\u001b[1m10/10\u001b[0m \u001b[32m━━━━━━━━━━━━━━━━━━━━\u001b[0m\u001b[37m\u001b[0m \u001b[1m0s\u001b[0m 6ms/step \n",
      "LR - MAPE: 0.1094, MAE: 0.3159, RMSE: 0.3208, R2: 0.9193\n",
      "DL - MAPE: 0.0106, MAE: 0.0342, RMSE: 0.0455, R2: 0.9984\n",
      "\n",
      "Repeat 8/10\n"
     ]
    },
    {
     "name": "stderr",
     "output_type": "stream",
     "text": [
      "c:\\Users\\rezab\\anaconda3\\Lib\\site-packages\\sklearn\\utils\\validation.py:2732: UserWarning: X has feature names, but StandardScaler was fitted without feature names\n",
      "  warnings.warn(\n"
     ]
    },
    {
     "name": "stdout",
     "output_type": "stream",
     "text": [
      "\u001b[1m10/10\u001b[0m \u001b[32m━━━━━━━━━━━━━━━━━━━━\u001b[0m\u001b[37m\u001b[0m \u001b[1m0s\u001b[0m 6ms/step \n",
      "LR - MAPE: 0.1144, MAE: 0.3157, RMSE: 0.3193, R2: 0.9253\n",
      "DL - MAPE: 0.0179, MAE: 0.0582, RMSE: 0.0734, R2: 0.9960\n",
      "\n",
      "Repeat 9/10\n"
     ]
    },
    {
     "name": "stderr",
     "output_type": "stream",
     "text": [
      "c:\\Users\\rezab\\anaconda3\\Lib\\site-packages\\sklearn\\utils\\validation.py:2732: UserWarning: X has feature names, but StandardScaler was fitted without feature names\n",
      "  warnings.warn(\n"
     ]
    },
    {
     "name": "stdout",
     "output_type": "stream",
     "text": [
      "\u001b[1m10/10\u001b[0m \u001b[32m━━━━━━━━━━━━━━━━━━━━\u001b[0m\u001b[37m\u001b[0m \u001b[1m0s\u001b[0m 5ms/step \n",
      "LR - MAPE: 0.1101, MAE: 0.3157, RMSE: 0.3211, R2: 0.9176\n",
      "DL - MAPE: 0.0139, MAE: 0.0490, RMSE: 0.0648, R2: 0.9966\n",
      "\n",
      "Repeat 10/10\n"
     ]
    },
    {
     "name": "stderr",
     "output_type": "stream",
     "text": [
      "c:\\Users\\rezab\\anaconda3\\Lib\\site-packages\\sklearn\\utils\\validation.py:2732: UserWarning: X has feature names, but StandardScaler was fitted without feature names\n",
      "  warnings.warn(\n"
     ]
    },
    {
     "name": "stdout",
     "output_type": "stream",
     "text": [
      "\u001b[1m10/10\u001b[0m \u001b[32m━━━━━━━━━━━━━━━━━━━━\u001b[0m\u001b[37m\u001b[0m \u001b[1m0s\u001b[0m 6ms/step \n",
      "LR - MAPE: 0.1116, MAE: 0.3146, RMSE: 0.3208, R2: 0.9194\n",
      "DL - MAPE: 0.0202, MAE: 0.0543, RMSE: 0.0628, R2: 0.9969\n",
      "\n",
      "> System: z3, Dataset: QF_AUFBV_891_sqlite3.smt2.csv\n",
      "> Training data fraction: 0.7, Number of repeats: 10\n",
      "\n",
      "Repeat 1/10\n"
     ]
    },
    {
     "name": "stderr",
     "output_type": "stream",
     "text": [
      "c:\\Users\\rezab\\anaconda3\\Lib\\site-packages\\sklearn\\utils\\validation.py:2732: UserWarning: X has feature names, but StandardScaler was fitted without feature names\n",
      "  warnings.warn(\n"
     ]
    },
    {
     "name": "stdout",
     "output_type": "stream",
     "text": [
      "\u001b[1m10/10\u001b[0m \u001b[32m━━━━━━━━━━━━━━━━━━━━\u001b[0m\u001b[37m\u001b[0m \u001b[1m0s\u001b[0m 6ms/step \n",
      "LR - MAPE: 5.4163, MAE: 10.4486, RMSE: 14.2163, R2: 0.7195\n",
      "DL - MAPE: 0.7972, MAE: 3.9287, RMSE: 11.0952, R2: 0.8291\n",
      "\n",
      "Repeat 2/10\n"
     ]
    },
    {
     "name": "stderr",
     "output_type": "stream",
     "text": [
      "c:\\Users\\rezab\\anaconda3\\Lib\\site-packages\\sklearn\\utils\\validation.py:2732: UserWarning: X has feature names, but StandardScaler was fitted without feature names\n",
      "  warnings.warn(\n"
     ]
    },
    {
     "name": "stdout",
     "output_type": "stream",
     "text": [
      "\u001b[1m10/10\u001b[0m \u001b[32m━━━━━━━━━━━━━━━━━━━━\u001b[0m\u001b[37m\u001b[0m \u001b[1m0s\u001b[0m 6ms/step \n",
      "LR - MAPE: 4.5302, MAE: 9.9855, RMSE: 13.6207, R2: 0.7337\n",
      "DL - MAPE: 0.4763, MAE: 3.1561, RMSE: 8.8706, R2: 0.8870\n",
      "\n",
      "Repeat 3/10\n"
     ]
    },
    {
     "name": "stderr",
     "output_type": "stream",
     "text": [
      "c:\\Users\\rezab\\anaconda3\\Lib\\site-packages\\sklearn\\utils\\validation.py:2732: UserWarning: X has feature names, but StandardScaler was fitted without feature names\n",
      "  warnings.warn(\n"
     ]
    },
    {
     "name": "stdout",
     "output_type": "stream",
     "text": [
      "\u001b[1m10/10\u001b[0m \u001b[32m━━━━━━━━━━━━━━━━━━━━\u001b[0m\u001b[37m\u001b[0m \u001b[1m0s\u001b[0m 6ms/step \n",
      "LR - MAPE: 7.1973, MAE: 9.2921, RMSE: 11.7696, R2: 0.7346\n",
      "DL - MAPE: 0.6581, MAE: 1.8860, RMSE: 4.3210, R2: 0.9642\n",
      "\n",
      "Repeat 4/10\n"
     ]
    },
    {
     "name": "stderr",
     "output_type": "stream",
     "text": [
      "c:\\Users\\rezab\\anaconda3\\Lib\\site-packages\\sklearn\\utils\\validation.py:2732: UserWarning: X has feature names, but StandardScaler was fitted without feature names\n",
      "  warnings.warn(\n"
     ]
    },
    {
     "name": "stdout",
     "output_type": "stream",
     "text": [
      "\u001b[1m10/10\u001b[0m \u001b[32m━━━━━━━━━━━━━━━━━━━━\u001b[0m\u001b[37m\u001b[0m \u001b[1m0s\u001b[0m 6ms/step \n",
      "LR - MAPE: 4.4298, MAE: 9.7163, RMSE: 12.7429, R2: 0.7200\n",
      "DL - MAPE: 0.6568, MAE: 2.8484, RMSE: 6.3213, R2: 0.9311\n",
      "\n",
      "Repeat 5/10\n"
     ]
    },
    {
     "name": "stderr",
     "output_type": "stream",
     "text": [
      "c:\\Users\\rezab\\anaconda3\\Lib\\site-packages\\sklearn\\utils\\validation.py:2732: UserWarning: X has feature names, but StandardScaler was fitted without feature names\n",
      "  warnings.warn(\n"
     ]
    },
    {
     "name": "stdout",
     "output_type": "stream",
     "text": [
      "\u001b[1m10/10\u001b[0m \u001b[32m━━━━━━━━━━━━━━━━━━━━\u001b[0m\u001b[37m\u001b[0m \u001b[1m0s\u001b[0m 6ms/step \n",
      "LR - MAPE: 5.2712, MAE: 10.3170, RMSE: 12.7678, R2: 0.7174\n",
      "DL - MAPE: 0.1921, MAE: 2.4508, RMSE: 6.1267, R2: 0.9349\n",
      "\n",
      "Repeat 6/10\n"
     ]
    },
    {
     "name": "stderr",
     "output_type": "stream",
     "text": [
      "c:\\Users\\rezab\\anaconda3\\Lib\\site-packages\\sklearn\\utils\\validation.py:2732: UserWarning: X has feature names, but StandardScaler was fitted without feature names\n",
      "  warnings.warn(\n"
     ]
    },
    {
     "name": "stdout",
     "output_type": "stream",
     "text": [
      "\u001b[1m10/10\u001b[0m \u001b[32m━━━━━━━━━━━━━━━━━━━━\u001b[0m\u001b[37m\u001b[0m \u001b[1m0s\u001b[0m 6ms/step \n",
      "LR - MAPE: 6.2158, MAE: 10.1064, RMSE: 13.2190, R2: 0.7342\n",
      "DL - MAPE: 0.9374, MAE: 4.4032, RMSE: 10.4283, R2: 0.8346\n",
      "\n",
      "Repeat 7/10\n"
     ]
    },
    {
     "name": "stderr",
     "output_type": "stream",
     "text": [
      "c:\\Users\\rezab\\anaconda3\\Lib\\site-packages\\sklearn\\utils\\validation.py:2732: UserWarning: X has feature names, but StandardScaler was fitted without feature names\n",
      "  warnings.warn(\n"
     ]
    },
    {
     "name": "stdout",
     "output_type": "stream",
     "text": [
      "\u001b[1m10/10\u001b[0m \u001b[32m━━━━━━━━━━━━━━━━━━━━\u001b[0m\u001b[37m\u001b[0m \u001b[1m0s\u001b[0m 6ms/step \n",
      "LR - MAPE: 6.8004, MAE: 10.4449, RMSE: 14.1918, R2: 0.7025\n",
      "DL - MAPE: 1.2195, MAE: 3.7638, RMSE: 9.9620, R2: 0.8534\n",
      "\n",
      "Repeat 8/10\n"
     ]
    },
    {
     "name": "stderr",
     "output_type": "stream",
     "text": [
      "c:\\Users\\rezab\\anaconda3\\Lib\\site-packages\\sklearn\\utils\\validation.py:2732: UserWarning: X has feature names, but StandardScaler was fitted without feature names\n",
      "  warnings.warn(\n"
     ]
    },
    {
     "name": "stdout",
     "output_type": "stream",
     "text": [
      "\u001b[1m10/10\u001b[0m \u001b[32m━━━━━━━━━━━━━━━━━━━━\u001b[0m\u001b[37m\u001b[0m \u001b[1m0s\u001b[0m 6ms/step \n",
      "LR - MAPE: 4.4688, MAE: 9.6494, RMSE: 12.2010, R2: 0.7479\n",
      "DL - MAPE: 0.3049, MAE: 2.2276, RMSE: 5.6939, R2: 0.9451\n",
      "\n",
      "Repeat 9/10\n"
     ]
    },
    {
     "name": "stderr",
     "output_type": "stream",
     "text": [
      "c:\\Users\\rezab\\anaconda3\\Lib\\site-packages\\sklearn\\utils\\validation.py:2732: UserWarning: X has feature names, but StandardScaler was fitted without feature names\n",
      "  warnings.warn(\n"
     ]
    },
    {
     "name": "stdout",
     "output_type": "stream",
     "text": [
      "\u001b[1m10/10\u001b[0m \u001b[32m━━━━━━━━━━━━━━━━━━━━\u001b[0m\u001b[37m\u001b[0m \u001b[1m0s\u001b[0m 6ms/step \n",
      "LR - MAPE: 5.7302, MAE: 9.7749, RMSE: 12.1672, R2: 0.7290\n",
      "DL - MAPE: 0.2665, MAE: 1.7691, RMSE: 4.9069, R2: 0.9559\n",
      "\n",
      "Repeat 10/10\n"
     ]
    },
    {
     "name": "stderr",
     "output_type": "stream",
     "text": [
      "c:\\Users\\rezab\\anaconda3\\Lib\\site-packages\\sklearn\\utils\\validation.py:2732: UserWarning: X has feature names, but StandardScaler was fitted without feature names\n",
      "  warnings.warn(\n"
     ]
    },
    {
     "name": "stdout",
     "output_type": "stream",
     "text": [
      "\u001b[1m10/10\u001b[0m \u001b[32m━━━━━━━━━━━━━━━━━━━━\u001b[0m\u001b[37m\u001b[0m \u001b[1m0s\u001b[0m 6ms/step \n",
      "LR - MAPE: 4.5367, MAE: 9.8621, RMSE: 12.3488, R2: 0.7129\n",
      "DL - MAPE: 0.7245, MAE: 2.0449, RMSE: 4.6037, R2: 0.9601\n",
      "\n",
      "> System: z3, Dataset: QF_AUFLIA_swap_t1_pp_nf_ai_00010_002.cvc.smt2.csv\n",
      "> Training data fraction: 0.7, Number of repeats: 10\n",
      "\n",
      "Repeat 1/10\n"
     ]
    },
    {
     "name": "stderr",
     "output_type": "stream",
     "text": [
      "c:\\Users\\rezab\\anaconda3\\Lib\\site-packages\\sklearn\\utils\\validation.py:2732: UserWarning: X has feature names, but StandardScaler was fitted without feature names\n",
      "  warnings.warn(\n"
     ]
    },
    {
     "name": "stdout",
     "output_type": "stream",
     "text": [
      "\u001b[1m10/10\u001b[0m \u001b[32m━━━━━━━━━━━━━━━━━━━━\u001b[0m\u001b[37m\u001b[0m \u001b[1m0s\u001b[0m 6ms/step \n",
      "LR - MAPE: 0.1249, MAE: 0.9044, RMSE: 1.1242, R2: 0.9241\n",
      "DL - MAPE: 0.0210, MAE: 0.1575, RMSE: 0.2024, R2: 0.9975\n",
      "\n",
      "Repeat 2/10\n"
     ]
    },
    {
     "name": "stderr",
     "output_type": "stream",
     "text": [
      "c:\\Users\\rezab\\anaconda3\\Lib\\site-packages\\sklearn\\utils\\validation.py:2732: UserWarning: X has feature names, but StandardScaler was fitted without feature names\n",
      "  warnings.warn(\n"
     ]
    },
    {
     "name": "stdout",
     "output_type": "stream",
     "text": [
      "\u001b[1m10/10\u001b[0m \u001b[32m━━━━━━━━━━━━━━━━━━━━\u001b[0m\u001b[37m\u001b[0m \u001b[1m0s\u001b[0m 6ms/step \n",
      "LR - MAPE: 0.1286, MAE: 0.9357, RMSE: 1.1277, R2: 0.9225\n",
      "DL - MAPE: 0.0296, MAE: 0.2235, RMSE: 0.3206, R2: 0.9937\n",
      "\n",
      "Repeat 3/10\n"
     ]
    },
    {
     "name": "stderr",
     "output_type": "stream",
     "text": [
      "c:\\Users\\rezab\\anaconda3\\Lib\\site-packages\\sklearn\\utils\\validation.py:2732: UserWarning: X has feature names, but StandardScaler was fitted without feature names\n",
      "  warnings.warn(\n"
     ]
    },
    {
     "name": "stdout",
     "output_type": "stream",
     "text": [
      "\u001b[1m10/10\u001b[0m \u001b[32m━━━━━━━━━━━━━━━━━━━━\u001b[0m\u001b[37m\u001b[0m \u001b[1m0s\u001b[0m 5ms/step \n",
      "LR - MAPE: 0.1379, MAE: 0.9775, RMSE: 1.1701, R2: 0.9112\n",
      "DL - MAPE: 0.0285, MAE: 0.2123, RMSE: 0.2991, R2: 0.9942\n",
      "\n",
      "Repeat 4/10\n"
     ]
    },
    {
     "name": "stderr",
     "output_type": "stream",
     "text": [
      "c:\\Users\\rezab\\anaconda3\\Lib\\site-packages\\sklearn\\utils\\validation.py:2732: UserWarning: X has feature names, but StandardScaler was fitted without feature names\n",
      "  warnings.warn(\n"
     ]
    },
    {
     "name": "stdout",
     "output_type": "stream",
     "text": [
      "\u001b[1m10/10\u001b[0m \u001b[32m━━━━━━━━━━━━━━━━━━━━\u001b[0m\u001b[37m\u001b[0m \u001b[1m0s\u001b[0m 6ms/step \n",
      "LR - MAPE: 0.1282, MAE: 0.9390, RMSE: 1.1423, R2: 0.9205\n",
      "DL - MAPE: 0.0336, MAE: 0.2782, RMSE: 0.3824, R2: 0.9911\n",
      "\n",
      "Repeat 5/10\n"
     ]
    },
    {
     "name": "stderr",
     "output_type": "stream",
     "text": [
      "c:\\Users\\rezab\\anaconda3\\Lib\\site-packages\\sklearn\\utils\\validation.py:2732: UserWarning: X has feature names, but StandardScaler was fitted without feature names\n",
      "  warnings.warn(\n"
     ]
    },
    {
     "name": "stdout",
     "output_type": "stream",
     "text": [
      "\u001b[1m10/10\u001b[0m \u001b[32m━━━━━━━━━━━━━━━━━━━━\u001b[0m\u001b[37m\u001b[0m \u001b[1m0s\u001b[0m 7ms/step \n",
      "LR - MAPE: 0.1323, MAE: 0.9568, RMSE: 1.1705, R2: 0.9174\n",
      "DL - MAPE: 0.0408, MAE: 0.3369, RMSE: 0.4775, R2: 0.9862\n",
      "\n",
      "Repeat 6/10\n"
     ]
    },
    {
     "name": "stderr",
     "output_type": "stream",
     "text": [
      "c:\\Users\\rezab\\anaconda3\\Lib\\site-packages\\sklearn\\utils\\validation.py:2732: UserWarning: X has feature names, but StandardScaler was fitted without feature names\n",
      "  warnings.warn(\n"
     ]
    },
    {
     "name": "stdout",
     "output_type": "stream",
     "text": [
      "\u001b[1m10/10\u001b[0m \u001b[32m━━━━━━━━━━━━━━━━━━━━\u001b[0m\u001b[37m\u001b[0m \u001b[1m0s\u001b[0m 6ms/step \n",
      "LR - MAPE: 0.1314, MAE: 0.9902, RMSE: 1.2065, R2: 0.9128\n",
      "DL - MAPE: 0.0441, MAE: 0.2989, RMSE: 0.3731, R2: 0.9917\n",
      "\n",
      "Repeat 7/10\n"
     ]
    },
    {
     "name": "stderr",
     "output_type": "stream",
     "text": [
      "c:\\Users\\rezab\\anaconda3\\Lib\\site-packages\\sklearn\\utils\\validation.py:2732: UserWarning: X has feature names, but StandardScaler was fitted without feature names\n",
      "  warnings.warn(\n"
     ]
    },
    {
     "name": "stdout",
     "output_type": "stream",
     "text": [
      "\u001b[1m10/10\u001b[0m \u001b[32m━━━━━━━━━━━━━━━━━━━━\u001b[0m\u001b[37m\u001b[0m \u001b[1m0s\u001b[0m 6ms/step \n",
      "LR - MAPE: 0.1289, MAE: 0.9468, RMSE: 1.1794, R2: 0.9203\n",
      "DL - MAPE: 0.0329, MAE: 0.2589, RMSE: 0.3985, R2: 0.9909\n",
      "\n",
      "Repeat 8/10\n"
     ]
    },
    {
     "name": "stderr",
     "output_type": "stream",
     "text": [
      "c:\\Users\\rezab\\anaconda3\\Lib\\site-packages\\sklearn\\utils\\validation.py:2732: UserWarning: X has feature names, but StandardScaler was fitted without feature names\n",
      "  warnings.warn(\n"
     ]
    },
    {
     "name": "stdout",
     "output_type": "stream",
     "text": [
      "\u001b[1m10/10\u001b[0m \u001b[32m━━━━━━━━━━━━━━━━━━━━\u001b[0m\u001b[37m\u001b[0m \u001b[1m0s\u001b[0m 6ms/step \n",
      "LR - MAPE: 0.1287, MAE: 0.9823, RMSE: 1.2026, R2: 0.9020\n",
      "DL - MAPE: 0.0370, MAE: 0.2841, RMSE: 0.3367, R2: 0.9923\n",
      "\n",
      "Repeat 9/10\n"
     ]
    },
    {
     "name": "stderr",
     "output_type": "stream",
     "text": [
      "c:\\Users\\rezab\\anaconda3\\Lib\\site-packages\\sklearn\\utils\\validation.py:2732: UserWarning: X has feature names, but StandardScaler was fitted without feature names\n",
      "  warnings.warn(\n"
     ]
    },
    {
     "name": "stdout",
     "output_type": "stream",
     "text": [
      "\u001b[1m10/10\u001b[0m \u001b[32m━━━━━━━━━━━━━━━━━━━━\u001b[0m\u001b[37m\u001b[0m \u001b[1m0s\u001b[0m 6ms/step \n",
      "LR - MAPE: 0.1304, MAE: 0.9674, RMSE: 1.1761, R2: 0.9165\n",
      "DL - MAPE: 0.0309, MAE: 0.2386, RMSE: 0.3069, R2: 0.9943\n",
      "\n",
      "Repeat 10/10\n"
     ]
    },
    {
     "name": "stderr",
     "output_type": "stream",
     "text": [
      "c:\\Users\\rezab\\anaconda3\\Lib\\site-packages\\sklearn\\utils\\validation.py:2732: UserWarning: X has feature names, but StandardScaler was fitted without feature names\n",
      "  warnings.warn(\n"
     ]
    },
    {
     "name": "stdout",
     "output_type": "stream",
     "text": [
      "\u001b[1m10/10\u001b[0m \u001b[32m━━━━━━━━━━━━━━━━━━━━\u001b[0m\u001b[37m\u001b[0m \u001b[1m0s\u001b[0m 6ms/step \n",
      "LR - MAPE: 0.1329, MAE: 0.9981, RMSE: 1.2000, R2: 0.9143\n",
      "DL - MAPE: 0.0254, MAE: 0.2176, RMSE: 0.3022, R2: 0.9946\n",
      "\n",
      "> System: z3, Dataset: QF_BV_bench_3176.smt2.csv\n",
      "> Training data fraction: 0.7, Number of repeats: 10\n",
      "\n",
      "Repeat 1/10\n"
     ]
    },
    {
     "name": "stderr",
     "output_type": "stream",
     "text": [
      "c:\\Users\\rezab\\anaconda3\\Lib\\site-packages\\sklearn\\utils\\validation.py:2732: UserWarning: X has feature names, but StandardScaler was fitted without feature names\n",
      "  warnings.warn(\n"
     ]
    },
    {
     "name": "stdout",
     "output_type": "stream",
     "text": [
      "\u001b[1m10/10\u001b[0m \u001b[32m━━━━━━━━━━━━━━━━━━━━\u001b[0m\u001b[37m\u001b[0m \u001b[1m0s\u001b[0m 6ms/step \n",
      "LR - MAPE: 10.2909, MAE: 126.9677, RMSE: 144.6375, R2: 0.5974\n",
      "DL - MAPE: 0.0696, MAE: 3.3455, RMSE: 8.9146, R2: 0.9985\n",
      "\n",
      "Repeat 2/10\n"
     ]
    },
    {
     "name": "stderr",
     "output_type": "stream",
     "text": [
      "c:\\Users\\rezab\\anaconda3\\Lib\\site-packages\\sklearn\\utils\\validation.py:2732: UserWarning: X has feature names, but StandardScaler was fitted without feature names\n",
      "  warnings.warn(\n"
     ]
    },
    {
     "name": "stdout",
     "output_type": "stream",
     "text": [
      "\u001b[1m10/10\u001b[0m \u001b[32m━━━━━━━━━━━━━━━━━━━━\u001b[0m\u001b[37m\u001b[0m \u001b[1m0s\u001b[0m 6ms/step \n",
      "LR - MAPE: 11.2084, MAE: 135.8081, RMSE: 156.3864, R2: 0.6250\n",
      "DL - MAPE: 0.0751, MAE: 6.7430, RMSE: 15.2276, R2: 0.9964\n",
      "\n",
      "Repeat 3/10\n"
     ]
    },
    {
     "name": "stderr",
     "output_type": "stream",
     "text": [
      "c:\\Users\\rezab\\anaconda3\\Lib\\site-packages\\sklearn\\utils\\validation.py:2732: UserWarning: X has feature names, but StandardScaler was fitted without feature names\n",
      "  warnings.warn(\n"
     ]
    },
    {
     "name": "stdout",
     "output_type": "stream",
     "text": [
      "\u001b[1m10/10\u001b[0m \u001b[32m━━━━━━━━━━━━━━━━━━━━\u001b[0m\u001b[37m\u001b[0m \u001b[1m0s\u001b[0m 5ms/step \n",
      "LR - MAPE: 10.0028, MAE: 131.2500, RMSE: 152.9346, R2: 0.6169\n",
      "DL - MAPE: 0.0867, MAE: 7.7826, RMSE: 17.0360, R2: 0.9952\n",
      "\n",
      "Repeat 4/10\n"
     ]
    },
    {
     "name": "stderr",
     "output_type": "stream",
     "text": [
      "c:\\Users\\rezab\\anaconda3\\Lib\\site-packages\\sklearn\\utils\\validation.py:2732: UserWarning: X has feature names, but StandardScaler was fitted without feature names\n",
      "  warnings.warn(\n"
     ]
    },
    {
     "name": "stdout",
     "output_type": "stream",
     "text": [
      "\u001b[1m10/10\u001b[0m \u001b[32m━━━━━━━━━━━━━━━━━━━━\u001b[0m\u001b[37m\u001b[0m \u001b[1m0s\u001b[0m 5ms/step \n",
      "LR - MAPE: 11.2414, MAE: 132.4550, RMSE: 151.7251, R2: 0.5803\n",
      "DL - MAPE: 0.0829, MAE: 7.7437, RMSE: 23.2753, R2: 0.9901\n",
      "\n",
      "Repeat 5/10\n"
     ]
    },
    {
     "name": "stderr",
     "output_type": "stream",
     "text": [
      "c:\\Users\\rezab\\anaconda3\\Lib\\site-packages\\sklearn\\utils\\validation.py:2732: UserWarning: X has feature names, but StandardScaler was fitted without feature names\n",
      "  warnings.warn(\n"
     ]
    },
    {
     "name": "stdout",
     "output_type": "stream",
     "text": [
      "\u001b[1m10/10\u001b[0m \u001b[32m━━━━━━━━━━━━━━━━━━━━\u001b[0m\u001b[37m\u001b[0m \u001b[1m0s\u001b[0m 5ms/step \n",
      "LR - MAPE: 10.0720, MAE: 134.9278, RMSE: 154.1032, R2: 0.6295\n",
      "DL - MAPE: 0.0861, MAE: 6.6237, RMSE: 15.9333, R2: 0.9960\n",
      "\n",
      "Repeat 6/10\n"
     ]
    },
    {
     "name": "stderr",
     "output_type": "stream",
     "text": [
      "c:\\Users\\rezab\\anaconda3\\Lib\\site-packages\\sklearn\\utils\\validation.py:2732: UserWarning: X has feature names, but StandardScaler was fitted without feature names\n",
      "  warnings.warn(\n"
     ]
    },
    {
     "name": "stdout",
     "output_type": "stream",
     "text": [
      "\u001b[1m10/10\u001b[0m \u001b[32m━━━━━━━━━━━━━━━━━━━━\u001b[0m\u001b[37m\u001b[0m \u001b[1m0s\u001b[0m 6ms/step \n",
      "LR - MAPE: 9.9367, MAE: 132.4836, RMSE: 150.7843, R2: 0.6106\n",
      "DL - MAPE: 0.0950, MAE: 6.9926, RMSE: 15.2350, R2: 0.9960\n",
      "\n",
      "Repeat 7/10\n"
     ]
    },
    {
     "name": "stderr",
     "output_type": "stream",
     "text": [
      "c:\\Users\\rezab\\anaconda3\\Lib\\site-packages\\sklearn\\utils\\validation.py:2732: UserWarning: X has feature names, but StandardScaler was fitted without feature names\n",
      "  warnings.warn(\n"
     ]
    },
    {
     "name": "stdout",
     "output_type": "stream",
     "text": [
      "\u001b[1m10/10\u001b[0m \u001b[32m━━━━━━━━━━━━━━━━━━━━\u001b[0m\u001b[37m\u001b[0m \u001b[1m0s\u001b[0m 6ms/step \n",
      "LR - MAPE: 10.4628, MAE: 132.2214, RMSE: 153.7116, R2: 0.6052\n",
      "DL - MAPE: 0.0889, MAE: 10.6595, RMSE: 26.3453, R2: 0.9884\n",
      "\n",
      "Repeat 8/10\n"
     ]
    },
    {
     "name": "stderr",
     "output_type": "stream",
     "text": [
      "c:\\Users\\rezab\\anaconda3\\Lib\\site-packages\\sklearn\\utils\\validation.py:2732: UserWarning: X has feature names, but StandardScaler was fitted without feature names\n",
      "  warnings.warn(\n"
     ]
    },
    {
     "name": "stdout",
     "output_type": "stream",
     "text": [
      "\u001b[1m10/10\u001b[0m \u001b[32m━━━━━━━━━━━━━━━━━━━━\u001b[0m\u001b[37m\u001b[0m \u001b[1m0s\u001b[0m 6ms/step \n",
      "LR - MAPE: 9.2170, MAE: 138.3867, RMSE: 158.3589, R2: 0.6335\n",
      "DL - MAPE: 0.1083, MAE: 9.1074, RMSE: 17.2297, R2: 0.9957\n",
      "\n",
      "Repeat 9/10\n"
     ]
    },
    {
     "name": "stderr",
     "output_type": "stream",
     "text": [
      "c:\\Users\\rezab\\anaconda3\\Lib\\site-packages\\sklearn\\utils\\validation.py:2732: UserWarning: X has feature names, but StandardScaler was fitted without feature names\n",
      "  warnings.warn(\n"
     ]
    },
    {
     "name": "stdout",
     "output_type": "stream",
     "text": [
      "\u001b[1m10/10\u001b[0m \u001b[32m━━━━━━━━━━━━━━━━━━━━\u001b[0m\u001b[37m\u001b[0m \u001b[1m0s\u001b[0m 6ms/step \n",
      "LR - MAPE: 9.6299, MAE: 124.1804, RMSE: 145.0875, R2: 0.6107\n",
      "DL - MAPE: 0.0781, MAE: 7.0555, RMSE: 15.2925, R2: 0.9957\n",
      "\n",
      "Repeat 10/10\n"
     ]
    },
    {
     "name": "stderr",
     "output_type": "stream",
     "text": [
      "c:\\Users\\rezab\\anaconda3\\Lib\\site-packages\\sklearn\\utils\\validation.py:2732: UserWarning: X has feature names, but StandardScaler was fitted without feature names\n",
      "  warnings.warn(\n"
     ]
    },
    {
     "name": "stdout",
     "output_type": "stream",
     "text": [
      "\u001b[1m10/10\u001b[0m \u001b[32m━━━━━━━━━━━━━━━━━━━━\u001b[0m\u001b[37m\u001b[0m \u001b[1m0s\u001b[0m 6ms/step \n",
      "LR - MAPE: 9.9283, MAE: 129.8542, RMSE: 147.8332, R2: 0.5876\n",
      "DL - MAPE: 0.0783, MAE: 4.3451, RMSE: 9.6219, R2: 0.9983\n",
      "\n",
      "> System: z3, Dataset: QF_BV_bench_935.smt2.csv\n",
      "> Training data fraction: 0.7, Number of repeats: 10\n",
      "\n",
      "Repeat 1/10\n"
     ]
    },
    {
     "name": "stderr",
     "output_type": "stream",
     "text": [
      "c:\\Users\\rezab\\anaconda3\\Lib\\site-packages\\sklearn\\utils\\validation.py:2732: UserWarning: X has feature names, but StandardScaler was fitted without feature names\n",
      "  warnings.warn(\n"
     ]
    },
    {
     "name": "stdout",
     "output_type": "stream",
     "text": [
      "\u001b[1m10/10\u001b[0m \u001b[32m━━━━━━━━━━━━━━━━━━━━\u001b[0m\u001b[37m\u001b[0m \u001b[1m0s\u001b[0m 6ms/step \n",
      "LR - MAPE: 17.8877, MAE: 92.0280, RMSE: 95.3554, R2: 0.6385\n",
      "DL - MAPE: 0.0796, MAE: 3.1565, RMSE: 7.1155, R2: 0.9980\n",
      "\n",
      "Repeat 2/10\n"
     ]
    },
    {
     "name": "stderr",
     "output_type": "stream",
     "text": [
      "c:\\Users\\rezab\\anaconda3\\Lib\\site-packages\\sklearn\\utils\\validation.py:2732: UserWarning: X has feature names, but StandardScaler was fitted without feature names\n",
      "  warnings.warn(\n"
     ]
    },
    {
     "name": "stdout",
     "output_type": "stream",
     "text": [
      "\u001b[1m10/10\u001b[0m \u001b[32m━━━━━━━━━━━━━━━━━━━━\u001b[0m\u001b[37m\u001b[0m \u001b[1m0s\u001b[0m 6ms/step \n",
      "LR - MAPE: 19.8047, MAE: 93.3672, RMSE: 97.2938, R2: 0.6559\n",
      "DL - MAPE: 0.1994, MAE: 7.9783, RMSE: 16.4484, R2: 0.9902\n",
      "\n",
      "Repeat 3/10\n"
     ]
    },
    {
     "name": "stderr",
     "output_type": "stream",
     "text": [
      "c:\\Users\\rezab\\anaconda3\\Lib\\site-packages\\sklearn\\utils\\validation.py:2732: UserWarning: X has feature names, but StandardScaler was fitted without feature names\n",
      "  warnings.warn(\n"
     ]
    },
    {
     "name": "stdout",
     "output_type": "stream",
     "text": [
      "\u001b[1m10/10\u001b[0m \u001b[32m━━━━━━━━━━━━━━━━━━━━\u001b[0m\u001b[37m\u001b[0m \u001b[1m0s\u001b[0m 7ms/step \n",
      "LR - MAPE: 17.6213, MAE: 92.9469, RMSE: 97.5538, R2: 0.6533\n",
      "DL - MAPE: 0.1099, MAE: 4.9413, RMSE: 9.9190, R2: 0.9964\n",
      "\n",
      "Repeat 4/10\n"
     ]
    },
    {
     "name": "stderr",
     "output_type": "stream",
     "text": [
      "c:\\Users\\rezab\\anaconda3\\Lib\\site-packages\\sklearn\\utils\\validation.py:2732: UserWarning: X has feature names, but StandardScaler was fitted without feature names\n",
      "  warnings.warn(\n"
     ]
    },
    {
     "name": "stdout",
     "output_type": "stream",
     "text": [
      "\u001b[1m10/10\u001b[0m \u001b[32m━━━━━━━━━━━━━━━━━━━━\u001b[0m\u001b[37m\u001b[0m \u001b[1m0s\u001b[0m 6ms/step \n",
      "LR - MAPE: 18.8010, MAE: 92.7446, RMSE: 96.4267, R2: 0.6084\n",
      "DL - MAPE: 0.2156, MAE: 4.7009, RMSE: 9.5889, R2: 0.9961\n",
      "\n",
      "Repeat 5/10\n"
     ]
    },
    {
     "name": "stderr",
     "output_type": "stream",
     "text": [
      "c:\\Users\\rezab\\anaconda3\\Lib\\site-packages\\sklearn\\utils\\validation.py:2732: UserWarning: X has feature names, but StandardScaler was fitted without feature names\n",
      "  warnings.warn(\n"
     ]
    },
    {
     "name": "stdout",
     "output_type": "stream",
     "text": [
      "\u001b[1m10/10\u001b[0m \u001b[32m━━━━━━━━━━━━━━━━━━━━\u001b[0m\u001b[37m\u001b[0m \u001b[1m0s\u001b[0m 6ms/step \n",
      "LR - MAPE: 16.7050, MAE: 92.5883, RMSE: 96.4511, R2: 0.6603\n",
      "DL - MAPE: 0.0872, MAE: 3.5520, RMSE: 7.1611, R2: 0.9981\n",
      "\n",
      "Repeat 6/10\n"
     ]
    },
    {
     "name": "stderr",
     "output_type": "stream",
     "text": [
      "c:\\Users\\rezab\\anaconda3\\Lib\\site-packages\\sklearn\\utils\\validation.py:2732: UserWarning: X has feature names, but StandardScaler was fitted without feature names\n",
      "  warnings.warn(\n"
     ]
    },
    {
     "name": "stdout",
     "output_type": "stream",
     "text": [
      "\u001b[1m10/10\u001b[0m \u001b[32m━━━━━━━━━━━━━━━━━━━━\u001b[0m\u001b[37m\u001b[0m \u001b[1m0s\u001b[0m 6ms/step \n",
      "LR - MAPE: 16.9784, MAE: 93.2619, RMSE: 97.1569, R2: 0.6424\n",
      "DL - MAPE: 0.0820, MAE: 3.2386, RMSE: 7.3204, R2: 0.9980\n",
      "\n",
      "Repeat 7/10\n"
     ]
    },
    {
     "name": "stderr",
     "output_type": "stream",
     "text": [
      "c:\\Users\\rezab\\anaconda3\\Lib\\site-packages\\sklearn\\utils\\validation.py:2732: UserWarning: X has feature names, but StandardScaler was fitted without feature names\n",
      "  warnings.warn(\n"
     ]
    },
    {
     "name": "stdout",
     "output_type": "stream",
     "text": [
      "\u001b[1m10/10\u001b[0m \u001b[32m━━━━━━━━━━━━━━━━━━━━\u001b[0m\u001b[37m\u001b[0m \u001b[1m0s\u001b[0m 6ms/step \n",
      "LR - MAPE: 18.7285, MAE: 93.2849, RMSE: 97.1767, R2: 0.6425\n",
      "DL - MAPE: 0.0923, MAE: 3.2215, RMSE: 6.7622, R2: 0.9983\n",
      "\n",
      "Repeat 8/10\n"
     ]
    },
    {
     "name": "stderr",
     "output_type": "stream",
     "text": [
      "c:\\Users\\rezab\\anaconda3\\Lib\\site-packages\\sklearn\\utils\\validation.py:2732: UserWarning: X has feature names, but StandardScaler was fitted without feature names\n",
      "  warnings.warn(\n"
     ]
    },
    {
     "name": "stdout",
     "output_type": "stream",
     "text": [
      "\u001b[1m10/10\u001b[0m \u001b[32m━━━━━━━━━━━━━━━━━━━━\u001b[0m\u001b[37m\u001b[0m \u001b[1m0s\u001b[0m 6ms/step \n",
      "LR - MAPE: 15.9793, MAE: 95.5904, RMSE: 98.9386, R2: 0.6593\n",
      "DL - MAPE: 0.1333, MAE: 6.0824, RMSE: 11.7023, R2: 0.9952\n",
      "\n",
      "Repeat 9/10\n"
     ]
    },
    {
     "name": "stderr",
     "output_type": "stream",
     "text": [
      "c:\\Users\\rezab\\anaconda3\\Lib\\site-packages\\sklearn\\utils\\validation.py:2732: UserWarning: X has feature names, but StandardScaler was fitted without feature names\n",
      "  warnings.warn(\n"
     ]
    },
    {
     "name": "stdout",
     "output_type": "stream",
     "text": [
      "\u001b[1m10/10\u001b[0m \u001b[32m━━━━━━━━━━━━━━━━━━━━\u001b[0m\u001b[37m\u001b[0m \u001b[1m0s\u001b[0m 6ms/step \n",
      "LR - MAPE: 16.1717, MAE: 90.9602, RMSE: 95.0900, R2: 0.6513\n",
      "DL - MAPE: 0.1065, MAE: 4.6071, RMSE: 8.5185, R2: 0.9972\n",
      "\n",
      "Repeat 10/10\n"
     ]
    },
    {
     "name": "stderr",
     "output_type": "stream",
     "text": [
      "c:\\Users\\rezab\\anaconda3\\Lib\\site-packages\\sklearn\\utils\\validation.py:2732: UserWarning: X has feature names, but StandardScaler was fitted without feature names\n",
      "  warnings.warn(\n"
     ]
    },
    {
     "name": "stdout",
     "output_type": "stream",
     "text": [
      "\u001b[1m10/10\u001b[0m \u001b[32m━━━━━━━━━━━━━━━━━━━━\u001b[0m\u001b[37m\u001b[0m \u001b[1m0s\u001b[0m 6ms/step \n",
      "LR - MAPE: 16.7057, MAE: 91.6550, RMSE: 96.0281, R2: 0.6255\n",
      "DL - MAPE: 0.1445, MAE: 4.6176, RMSE: 8.3284, R2: 0.9972\n",
      "\n",
      "> System: z3, Dataset: QF_LIA_tightrhombus.csv\n",
      "> Training data fraction: 0.7, Number of repeats: 10\n",
      "\n",
      "Repeat 1/10\n"
     ]
    },
    {
     "name": "stderr",
     "output_type": "stream",
     "text": [
      "c:\\Users\\rezab\\anaconda3\\Lib\\site-packages\\sklearn\\utils\\validation.py:2732: UserWarning: X has feature names, but StandardScaler was fitted without feature names\n",
      "  warnings.warn(\n"
     ]
    },
    {
     "name": "stdout",
     "output_type": "stream",
     "text": [
      "\u001b[1m10/10\u001b[0m \u001b[32m━━━━━━━━━━━━━━━━━━━━\u001b[0m\u001b[37m\u001b[0m \u001b[1m0s\u001b[0m 7ms/step \n",
      "LR - MAPE: 0.6110, MAE: 0.5746, RMSE: 0.8015, R2: 0.9038\n",
      "DL - MAPE: 0.0572, MAE: 0.1470, RMSE: 0.2286, R2: 0.9922\n",
      "\n",
      "Repeat 2/10\n"
     ]
    },
    {
     "name": "stderr",
     "output_type": "stream",
     "text": [
      "c:\\Users\\rezab\\anaconda3\\Lib\\site-packages\\sklearn\\utils\\validation.py:2732: UserWarning: X has feature names, but StandardScaler was fitted without feature names\n",
      "  warnings.warn(\n"
     ]
    },
    {
     "name": "stdout",
     "output_type": "stream",
     "text": [
      "\u001b[1m10/10\u001b[0m \u001b[32m━━━━━━━━━━━━━━━━━━━━\u001b[0m\u001b[37m\u001b[0m \u001b[1m0s\u001b[0m 6ms/step \n",
      "LR - MAPE: 0.7701, MAE: 0.5758, RMSE: 0.7837, R2: 0.9082\n",
      "DL - MAPE: 0.0405, MAE: 0.0834, RMSE: 0.1154, R2: 0.9980\n",
      "\n",
      "Repeat 3/10\n"
     ]
    },
    {
     "name": "stderr",
     "output_type": "stream",
     "text": [
      "c:\\Users\\rezab\\anaconda3\\Lib\\site-packages\\sklearn\\utils\\validation.py:2732: UserWarning: X has feature names, but StandardScaler was fitted without feature names\n",
      "  warnings.warn(\n"
     ]
    },
    {
     "name": "stdout",
     "output_type": "stream",
     "text": [
      "\u001b[1m10/10\u001b[0m \u001b[32m━━━━━━━━━━━━━━━━━━━━\u001b[0m\u001b[37m\u001b[0m \u001b[1m0s\u001b[0m 6ms/step \n",
      "LR - MAPE: 0.6166, MAE: 0.5637, RMSE: 0.7743, R2: 0.9027\n",
      "DL - MAPE: 0.0403, MAE: 0.0640, RMSE: 0.1024, R2: 0.9983\n",
      "\n",
      "Repeat 4/10\n"
     ]
    },
    {
     "name": "stderr",
     "output_type": "stream",
     "text": [
      "c:\\Users\\rezab\\anaconda3\\Lib\\site-packages\\sklearn\\utils\\validation.py:2732: UserWarning: X has feature names, but StandardScaler was fitted without feature names\n",
      "  warnings.warn(\n"
     ]
    },
    {
     "name": "stdout",
     "output_type": "stream",
     "text": [
      "\u001b[1m10/10\u001b[0m \u001b[32m━━━━━━━━━━━━━━━━━━━━\u001b[0m\u001b[37m\u001b[0m \u001b[1m0s\u001b[0m 6ms/step \n",
      "LR - MAPE: 0.6006, MAE: 0.5558, RMSE: 0.7725, R2: 0.9060\n",
      "DL - MAPE: 0.0520, MAE: 0.0857, RMSE: 0.1181, R2: 0.9978\n",
      "\n",
      "Repeat 5/10\n"
     ]
    },
    {
     "name": "stderr",
     "output_type": "stream",
     "text": [
      "c:\\Users\\rezab\\anaconda3\\Lib\\site-packages\\sklearn\\utils\\validation.py:2732: UserWarning: X has feature names, but StandardScaler was fitted without feature names\n",
      "  warnings.warn(\n"
     ]
    },
    {
     "name": "stdout",
     "output_type": "stream",
     "text": [
      "\u001b[1m10/10\u001b[0m \u001b[32m━━━━━━━━━━━━━━━━━━━━\u001b[0m\u001b[37m\u001b[0m \u001b[1m0s\u001b[0m 6ms/step \n",
      "LR - MAPE: 0.7146, MAE: 0.5757, RMSE: 0.7843, R2: 0.9083\n",
      "DL - MAPE: 0.0568, MAE: 0.0928, RMSE: 0.1378, R2: 0.9972\n",
      "\n",
      "Repeat 6/10\n"
     ]
    },
    {
     "name": "stderr",
     "output_type": "stream",
     "text": [
      "c:\\Users\\rezab\\anaconda3\\Lib\\site-packages\\sklearn\\utils\\validation.py:2732: UserWarning: X has feature names, but StandardScaler was fitted without feature names\n",
      "  warnings.warn(\n"
     ]
    },
    {
     "name": "stdout",
     "output_type": "stream",
     "text": [
      "\u001b[1m10/10\u001b[0m \u001b[32m━━━━━━━━━━━━━━━━━━━━\u001b[0m\u001b[37m\u001b[0m \u001b[1m0s\u001b[0m 6ms/step \n",
      "LR - MAPE: 0.7451, MAE: 0.5870, RMSE: 0.7985, R2: 0.9025\n",
      "DL - MAPE: 0.0636, MAE: 0.1040, RMSE: 0.1565, R2: 0.9963\n",
      "\n",
      "Repeat 7/10\n"
     ]
    },
    {
     "name": "stderr",
     "output_type": "stream",
     "text": [
      "c:\\Users\\rezab\\anaconda3\\Lib\\site-packages\\sklearn\\utils\\validation.py:2732: UserWarning: X has feature names, but StandardScaler was fitted without feature names\n",
      "  warnings.warn(\n"
     ]
    },
    {
     "name": "stdout",
     "output_type": "stream",
     "text": [
      "\u001b[1m10/10\u001b[0m \u001b[32m━━━━━━━━━━━━━━━━━━━━\u001b[0m\u001b[37m\u001b[0m \u001b[1m0s\u001b[0m 6ms/step \n",
      "LR - MAPE: 0.6917, MAE: 0.5619, RMSE: 0.7830, R2: 0.9087\n",
      "DL - MAPE: 0.0356, MAE: 0.0819, RMSE: 0.1193, R2: 0.9979\n",
      "\n",
      "Repeat 8/10\n"
     ]
    },
    {
     "name": "stderr",
     "output_type": "stream",
     "text": [
      "c:\\Users\\rezab\\anaconda3\\Lib\\site-packages\\sklearn\\utils\\validation.py:2732: UserWarning: X has feature names, but StandardScaler was fitted without feature names\n",
      "  warnings.warn(\n"
     ]
    },
    {
     "name": "stdout",
     "output_type": "stream",
     "text": [
      "\u001b[1m10/10\u001b[0m \u001b[32m━━━━━━━━━━━━━━━━━━━━\u001b[0m\u001b[37m\u001b[0m \u001b[1m0s\u001b[0m 6ms/step \n",
      "LR - MAPE: 0.7477, MAE: 0.5960, RMSE: 0.7974, R2: 0.8979\n",
      "DL - MAPE: 0.0560, MAE: 0.1145, RMSE: 0.1628, R2: 0.9957\n",
      "\n",
      "Repeat 9/10\n"
     ]
    },
    {
     "name": "stderr",
     "output_type": "stream",
     "text": [
      "c:\\Users\\rezab\\anaconda3\\Lib\\site-packages\\sklearn\\utils\\validation.py:2732: UserWarning: X has feature names, but StandardScaler was fitted without feature names\n",
      "  warnings.warn(\n"
     ]
    },
    {
     "name": "stdout",
     "output_type": "stream",
     "text": [
      "\u001b[1m10/10\u001b[0m \u001b[32m━━━━━━━━━━━━━━━━━━━━\u001b[0m\u001b[37m\u001b[0m \u001b[1m0s\u001b[0m 6ms/step \n",
      "LR - MAPE: 0.7625, MAE: 0.5926, RMSE: 0.7938, R2: 0.9037\n",
      "DL - MAPE: 0.0699, MAE: 0.1845, RMSE: 0.2366, R2: 0.9914\n",
      "\n",
      "Repeat 10/10\n"
     ]
    },
    {
     "name": "stderr",
     "output_type": "stream",
     "text": [
      "c:\\Users\\rezab\\anaconda3\\Lib\\site-packages\\sklearn\\utils\\validation.py:2732: UserWarning: X has feature names, but StandardScaler was fitted without feature names\n",
      "  warnings.warn(\n"
     ]
    },
    {
     "name": "stdout",
     "output_type": "stream",
     "text": [
      "\u001b[1m10/10\u001b[0m \u001b[32m━━━━━━━━━━━━━━━━━━━━\u001b[0m\u001b[37m\u001b[0m \u001b[1m0s\u001b[0m 6ms/step \n",
      "LR - MAPE: 0.6596, MAE: 0.5682, RMSE: 0.7823, R2: 0.9042\n",
      "DL - MAPE: 0.0425, MAE: 0.0879, RMSE: 0.1266, R2: 0.9975\n",
      "\n",
      "> System: z3, Dataset: QF_LRA_clocksynchro_7clocks.worst_case_skew.induct.smt2.csv\n",
      "> Training data fraction: 0.7, Number of repeats: 10\n",
      "\n",
      "Repeat 1/10\n"
     ]
    },
    {
     "name": "stderr",
     "output_type": "stream",
     "text": [
      "c:\\Users\\rezab\\anaconda3\\Lib\\site-packages\\sklearn\\utils\\validation.py:2732: UserWarning: X has feature names, but StandardScaler was fitted without feature names\n",
      "  warnings.warn(\n"
     ]
    },
    {
     "name": "stdout",
     "output_type": "stream",
     "text": [
      "\u001b[1m10/10\u001b[0m \u001b[32m━━━━━━━━━━━━━━━━━━━━\u001b[0m\u001b[37m\u001b[0m \u001b[1m0s\u001b[0m 6ms/step \n",
      "LR - MAPE: 0.0548, MAE: 0.7380, RMSE: 0.8891, R2: 0.9448\n",
      "DL - MAPE: 0.0272, MAE: 0.3694, RMSE: 0.4777, R2: 0.9841\n",
      "\n",
      "Repeat 2/10\n"
     ]
    },
    {
     "name": "stderr",
     "output_type": "stream",
     "text": [
      "c:\\Users\\rezab\\anaconda3\\Lib\\site-packages\\sklearn\\utils\\validation.py:2732: UserWarning: X has feature names, but StandardScaler was fitted without feature names\n",
      "  warnings.warn(\n"
     ]
    },
    {
     "name": "stdout",
     "output_type": "stream",
     "text": [
      "\u001b[1m10/10\u001b[0m \u001b[32m━━━━━━━━━━━━━━━━━━━━\u001b[0m\u001b[37m\u001b[0m \u001b[1m0s\u001b[0m 6ms/step \n",
      "LR - MAPE: 0.0569, MAE: 0.7693, RMSE: 0.8948, R2: 0.9416\n",
      "DL - MAPE: 0.0197, MAE: 0.2700, RMSE: 0.3280, R2: 0.9922\n",
      "\n",
      "Repeat 3/10\n"
     ]
    },
    {
     "name": "stderr",
     "output_type": "stream",
     "text": [
      "c:\\Users\\rezab\\anaconda3\\Lib\\site-packages\\sklearn\\utils\\validation.py:2732: UserWarning: X has feature names, but StandardScaler was fitted without feature names\n",
      "  warnings.warn(\n"
     ]
    },
    {
     "name": "stdout",
     "output_type": "stream",
     "text": [
      "\u001b[1m10/10\u001b[0m \u001b[32m━━━━━━━━━━━━━━━━━━━━\u001b[0m\u001b[37m\u001b[0m \u001b[1m0s\u001b[0m 5ms/step \n",
      "LR - MAPE: 0.0581, MAE: 0.7786, RMSE: 0.9173, R2: 0.9418\n",
      "DL - MAPE: 0.0311, MAE: 0.4027, RMSE: 0.5549, R2: 0.9787\n",
      "\n",
      "Repeat 4/10\n"
     ]
    },
    {
     "name": "stderr",
     "output_type": "stream",
     "text": [
      "c:\\Users\\rezab\\anaconda3\\Lib\\site-packages\\sklearn\\utils\\validation.py:2732: UserWarning: X has feature names, but StandardScaler was fitted without feature names\n",
      "  warnings.warn(\n"
     ]
    },
    {
     "name": "stdout",
     "output_type": "stream",
     "text": [
      "\u001b[1m10/10\u001b[0m \u001b[32m━━━━━━━━━━━━━━━━━━━━\u001b[0m\u001b[37m\u001b[0m \u001b[1m0s\u001b[0m 5ms/step \n",
      "LR - MAPE: 0.0535, MAE: 0.7441, RMSE: 0.8814, R2: 0.9431\n",
      "DL - MAPE: 0.0109, MAE: 0.1567, RMSE: 0.2207, R2: 0.9964\n",
      "\n",
      "Repeat 5/10\n"
     ]
    },
    {
     "name": "stderr",
     "output_type": "stream",
     "text": [
      "c:\\Users\\rezab\\anaconda3\\Lib\\site-packages\\sklearn\\utils\\validation.py:2732: UserWarning: X has feature names, but StandardScaler was fitted without feature names\n",
      "  warnings.warn(\n"
     ]
    },
    {
     "name": "stdout",
     "output_type": "stream",
     "text": [
      "\u001b[1m10/10\u001b[0m \u001b[32m━━━━━━━━━━━━━━━━━━━━\u001b[0m\u001b[37m\u001b[0m \u001b[1m0s\u001b[0m 6ms/step \n",
      "LR - MAPE: 0.0548, MAE: 0.7344, RMSE: 0.8516, R2: 0.9503\n",
      "DL - MAPE: 0.0209, MAE: 0.2990, RMSE: 0.4219, R2: 0.9878\n",
      "\n",
      "Repeat 6/10\n"
     ]
    },
    {
     "name": "stderr",
     "output_type": "stream",
     "text": [
      "c:\\Users\\rezab\\anaconda3\\Lib\\site-packages\\sklearn\\utils\\validation.py:2732: UserWarning: X has feature names, but StandardScaler was fitted without feature names\n",
      "  warnings.warn(\n"
     ]
    },
    {
     "name": "stdout",
     "output_type": "stream",
     "text": [
      "\u001b[1m10/10\u001b[0m \u001b[32m━━━━━━━━━━━━━━━━━━━━\u001b[0m\u001b[37m\u001b[0m \u001b[1m0s\u001b[0m 6ms/step \n",
      "LR - MAPE: 0.0526, MAE: 0.7247, RMSE: 0.8547, R2: 0.9468\n",
      "DL - MAPE: 0.0162, MAE: 0.2342, RMSE: 0.2815, R2: 0.9942\n",
      "\n",
      "Repeat 7/10\n"
     ]
    },
    {
     "name": "stderr",
     "output_type": "stream",
     "text": [
      "c:\\Users\\rezab\\anaconda3\\Lib\\site-packages\\sklearn\\utils\\validation.py:2732: UserWarning: X has feature names, but StandardScaler was fitted without feature names\n",
      "  warnings.warn(\n"
     ]
    },
    {
     "name": "stdout",
     "output_type": "stream",
     "text": [
      "\u001b[1m10/10\u001b[0m \u001b[32m━━━━━━━━━━━━━━━━━━━━\u001b[0m\u001b[37m\u001b[0m \u001b[1m0s\u001b[0m 6ms/step \n",
      "LR - MAPE: 0.0549, MAE: 0.7518, RMSE: 0.8782, R2: 0.9475\n",
      "DL - MAPE: 0.0350, MAE: 0.4408, RMSE: 0.5698, R2: 0.9779\n",
      "\n",
      "Repeat 8/10\n"
     ]
    },
    {
     "name": "stderr",
     "output_type": "stream",
     "text": [
      "c:\\Users\\rezab\\anaconda3\\Lib\\site-packages\\sklearn\\utils\\validation.py:2732: UserWarning: X has feature names, but StandardScaler was fitted without feature names\n",
      "  warnings.warn(\n"
     ]
    },
    {
     "name": "stdout",
     "output_type": "stream",
     "text": [
      "\u001b[1m10/10\u001b[0m \u001b[32m━━━━━━━━━━━━━━━━━━━━\u001b[0m\u001b[37m\u001b[0m \u001b[1m0s\u001b[0m 6ms/step \n",
      "LR - MAPE: 0.0526, MAE: 0.7200, RMSE: 0.8724, R2: 0.9413\n",
      "DL - MAPE: 0.0257, MAE: 0.3578, RMSE: 0.4644, R2: 0.9834\n",
      "\n",
      "Repeat 9/10\n"
     ]
    },
    {
     "name": "stderr",
     "output_type": "stream",
     "text": [
      "c:\\Users\\rezab\\anaconda3\\Lib\\site-packages\\sklearn\\utils\\validation.py:2732: UserWarning: X has feature names, but StandardScaler was fitted without feature names\n",
      "  warnings.warn(\n"
     ]
    },
    {
     "name": "stdout",
     "output_type": "stream",
     "text": [
      "\u001b[1m10/10\u001b[0m \u001b[32m━━━━━━━━━━━━━━━━━━━━\u001b[0m\u001b[37m\u001b[0m \u001b[1m0s\u001b[0m 6ms/step \n",
      "LR - MAPE: 0.0530, MAE: 0.7250, RMSE: 0.8714, R2: 0.9442\n",
      "DL - MAPE: 0.0337, MAE: 0.4578, RMSE: 0.5159, R2: 0.9804\n",
      "\n",
      "Repeat 10/10\n"
     ]
    },
    {
     "name": "stderr",
     "output_type": "stream",
     "text": [
      "c:\\Users\\rezab\\anaconda3\\Lib\\site-packages\\sklearn\\utils\\validation.py:2732: UserWarning: X has feature names, but StandardScaler was fitted without feature names\n",
      "  warnings.warn(\n"
     ]
    },
    {
     "name": "stdout",
     "output_type": "stream",
     "text": [
      "\u001b[1m10/10\u001b[0m \u001b[32m━━━━━━━━━━━━━━━━━━━━\u001b[0m\u001b[37m\u001b[0m \u001b[1m0s\u001b[0m 6ms/step \n",
      "LR - MAPE: 0.0527, MAE: 0.7318, RMSE: 0.8588, R2: 0.9471\n",
      "DL - MAPE: 0.0273, MAE: 0.3923, RMSE: 0.4941, R2: 0.9825\n",
      "\n",
      "> System: z3, Dataset: QF_NRA_hong_9.smt2.csv\n",
      "> Training data fraction: 0.7, Number of repeats: 10\n",
      "\n",
      "Repeat 1/10\n"
     ]
    },
    {
     "name": "stderr",
     "output_type": "stream",
     "text": [
      "c:\\Users\\rezab\\anaconda3\\Lib\\site-packages\\sklearn\\utils\\validation.py:2732: UserWarning: X has feature names, but StandardScaler was fitted without feature names\n",
      "  warnings.warn(\n"
     ]
    },
    {
     "name": "stdout",
     "output_type": "stream",
     "text": [
      "\u001b[1m10/10\u001b[0m \u001b[32m━━━━━━━━━━━━━━━━━━━━\u001b[0m\u001b[37m\u001b[0m \u001b[1m0s\u001b[0m 6ms/step \n",
      "LR - MAPE: 0.0022, MAE: 0.0096, RMSE: 0.0160, R2: 0.9998\n",
      "DL - MAPE: 0.0195, MAE: 0.0881, RMSE: 0.1122, R2: 0.9919\n",
      "\n",
      "Repeat 2/10\n"
     ]
    },
    {
     "name": "stderr",
     "output_type": "stream",
     "text": [
      "c:\\Users\\rezab\\anaconda3\\Lib\\site-packages\\sklearn\\utils\\validation.py:2732: UserWarning: X has feature names, but StandardScaler was fitted without feature names\n",
      "  warnings.warn(\n"
     ]
    },
    {
     "name": "stdout",
     "output_type": "stream",
     "text": [
      "\u001b[1m10/10\u001b[0m \u001b[32m━━━━━━━━━━━━━━━━━━━━\u001b[0m\u001b[37m\u001b[0m \u001b[1m0s\u001b[0m 6ms/step \n",
      "LR - MAPE: 0.0022, MAE: 0.0093, RMSE: 0.0167, R2: 0.9998\n",
      "DL - MAPE: 0.0192, MAE: 0.0849, RMSE: 0.1129, R2: 0.9917\n",
      "\n",
      "Repeat 3/10\n"
     ]
    },
    {
     "name": "stderr",
     "output_type": "stream",
     "text": [
      "c:\\Users\\rezab\\anaconda3\\Lib\\site-packages\\sklearn\\utils\\validation.py:2732: UserWarning: X has feature names, but StandardScaler was fitted without feature names\n",
      "  warnings.warn(\n"
     ]
    },
    {
     "name": "stdout",
     "output_type": "stream",
     "text": [
      "\u001b[1m10/10\u001b[0m \u001b[32m━━━━━━━━━━━━━━━━━━━━\u001b[0m\u001b[37m\u001b[0m \u001b[1m0s\u001b[0m 6ms/step \n",
      "LR - MAPE: 0.0022, MAE: 0.0094, RMSE: 0.0149, R2: 0.9999\n",
      "DL - MAPE: 0.0275, MAE: 0.1186, RMSE: 0.1479, R2: 0.9859\n",
      "\n",
      "Repeat 4/10\n"
     ]
    },
    {
     "name": "stderr",
     "output_type": "stream",
     "text": [
      "c:\\Users\\rezab\\anaconda3\\Lib\\site-packages\\sklearn\\utils\\validation.py:2732: UserWarning: X has feature names, but StandardScaler was fitted without feature names\n",
      "  warnings.warn(\n"
     ]
    },
    {
     "name": "stdout",
     "output_type": "stream",
     "text": [
      "\u001b[1m10/10\u001b[0m \u001b[32m━━━━━━━━━━━━━━━━━━━━\u001b[0m\u001b[37m\u001b[0m \u001b[1m0s\u001b[0m 5ms/step \n",
      "LR - MAPE: 0.0023, MAE: 0.0094, RMSE: 0.0144, R2: 0.9999\n",
      "DL - MAPE: 0.0294, MAE: 0.1360, RMSE: 0.1858, R2: 0.9778\n",
      "\n",
      "Repeat 5/10\n"
     ]
    },
    {
     "name": "stderr",
     "output_type": "stream",
     "text": [
      "c:\\Users\\rezab\\anaconda3\\Lib\\site-packages\\sklearn\\utils\\validation.py:2732: UserWarning: X has feature names, but StandardScaler was fitted without feature names\n",
      "  warnings.warn(\n"
     ]
    },
    {
     "name": "stdout",
     "output_type": "stream",
     "text": [
      "\u001b[1m10/10\u001b[0m \u001b[32m━━━━━━━━━━━━━━━━━━━━\u001b[0m\u001b[37m\u001b[0m \u001b[1m0s\u001b[0m 6ms/step \n",
      "LR - MAPE: 0.0022, MAE: 0.0092, RMSE: 0.0161, R2: 0.9998\n",
      "DL - MAPE: 0.0210, MAE: 0.0820, RMSE: 0.1049, R2: 0.9929\n",
      "\n",
      "Repeat 6/10\n"
     ]
    },
    {
     "name": "stderr",
     "output_type": "stream",
     "text": [
      "c:\\Users\\rezab\\anaconda3\\Lib\\site-packages\\sklearn\\utils\\validation.py:2732: UserWarning: X has feature names, but StandardScaler was fitted without feature names\n",
      "  warnings.warn(\n"
     ]
    },
    {
     "name": "stdout",
     "output_type": "stream",
     "text": [
      "\u001b[1m10/10\u001b[0m \u001b[32m━━━━━━━━━━━━━━━━━━━━\u001b[0m\u001b[37m\u001b[0m \u001b[1m0s\u001b[0m 6ms/step \n",
      "LR - MAPE: 0.0022, MAE: 0.0097, RMSE: 0.0184, R2: 0.9998\n",
      "DL - MAPE: 0.0180, MAE: 0.0711, RMSE: 0.0849, R2: 0.9954\n",
      "\n",
      "Repeat 7/10\n"
     ]
    },
    {
     "name": "stderr",
     "output_type": "stream",
     "text": [
      "c:\\Users\\rezab\\anaconda3\\Lib\\site-packages\\sklearn\\utils\\validation.py:2732: UserWarning: X has feature names, but StandardScaler was fitted without feature names\n",
      "  warnings.warn(\n"
     ]
    },
    {
     "name": "stdout",
     "output_type": "stream",
     "text": [
      "\u001b[1m10/10\u001b[0m \u001b[32m━━━━━━━━━━━━━━━━━━━━\u001b[0m\u001b[37m\u001b[0m \u001b[1m0s\u001b[0m 6ms/step \n",
      "LR - MAPE: 0.0022, MAE: 0.0097, RMSE: 0.0191, R2: 0.9998\n",
      "DL - MAPE: 0.0153, MAE: 0.0671, RMSE: 0.0856, R2: 0.9953\n",
      "\n",
      "Repeat 8/10\n"
     ]
    },
    {
     "name": "stderr",
     "output_type": "stream",
     "text": [
      "c:\\Users\\rezab\\anaconda3\\Lib\\site-packages\\sklearn\\utils\\validation.py:2732: UserWarning: X has feature names, but StandardScaler was fitted without feature names\n",
      "  warnings.warn(\n"
     ]
    },
    {
     "name": "stdout",
     "output_type": "stream",
     "text": [
      "\u001b[1m10/10\u001b[0m \u001b[32m━━━━━━━━━━━━━━━━━━━━\u001b[0m\u001b[37m\u001b[0m \u001b[1m0s\u001b[0m 6ms/step \n",
      "LR - MAPE: 0.0019, MAE: 0.0083, RMSE: 0.0133, R2: 0.9999\n",
      "DL - MAPE: 0.0196, MAE: 0.0882, RMSE: 0.1064, R2: 0.9927\n",
      "\n",
      "Repeat 9/10\n"
     ]
    },
    {
     "name": "stderr",
     "output_type": "stream",
     "text": [
      "c:\\Users\\rezab\\anaconda3\\Lib\\site-packages\\sklearn\\utils\\validation.py:2732: UserWarning: X has feature names, but StandardScaler was fitted without feature names\n",
      "  warnings.warn(\n"
     ]
    },
    {
     "name": "stdout",
     "output_type": "stream",
     "text": [
      "\u001b[1m10/10\u001b[0m \u001b[32m━━━━━━━━━━━━━━━━━━━━\u001b[0m\u001b[37m\u001b[0m \u001b[1m0s\u001b[0m 6ms/step \n",
      "LR - MAPE: 0.0022, MAE: 0.0091, RMSE: 0.0152, R2: 0.9999\n",
      "DL - MAPE: 0.0131, MAE: 0.0589, RMSE: 0.0828, R2: 0.9956\n",
      "\n",
      "Repeat 10/10\n"
     ]
    },
    {
     "name": "stderr",
     "output_type": "stream",
     "text": [
      "c:\\Users\\rezab\\anaconda3\\Lib\\site-packages\\sklearn\\utils\\validation.py:2732: UserWarning: X has feature names, but StandardScaler was fitted without feature names\n",
      "  warnings.warn(\n"
     ]
    },
    {
     "name": "stdout",
     "output_type": "stream",
     "text": [
      "\u001b[1m10/10\u001b[0m \u001b[32m━━━━━━━━━━━━━━━━━━━━\u001b[0m\u001b[37m\u001b[0m \u001b[1m0s\u001b[0m 6ms/step \n",
      "LR - MAPE: 0.0023, MAE: 0.0100, RMSE: 0.0165, R2: 0.9998\n",
      "DL - MAPE: 0.0150, MAE: 0.0686, RMSE: 0.0879, R2: 0.9950\n",
      "\n",
      "> System: z3, Dataset: QF_RDL_orb08_888.smt2.csv\n",
      "> Training data fraction: 0.7, Number of repeats: 10\n",
      "\n",
      "Repeat 1/10\n"
     ]
    },
    {
     "name": "stderr",
     "output_type": "stream",
     "text": [
      "c:\\Users\\rezab\\anaconda3\\Lib\\site-packages\\sklearn\\utils\\validation.py:2732: UserWarning: X has feature names, but StandardScaler was fitted without feature names\n",
      "  warnings.warn(\n"
     ]
    },
    {
     "name": "stdout",
     "output_type": "stream",
     "text": [
      "\u001b[1m10/10\u001b[0m \u001b[32m━━━━━━━━━━━━━━━━━━━━\u001b[0m\u001b[37m\u001b[0m \u001b[1m0s\u001b[0m 6ms/step \n",
      "LR - MAPE: 0.0299, MAE: 0.2690, RMSE: 0.3437, R2: 0.9812\n",
      "DL - MAPE: 0.0153, MAE: 0.1448, RMSE: 0.1703, R2: 0.9954\n",
      "\n",
      "Repeat 2/10\n"
     ]
    },
    {
     "name": "stderr",
     "output_type": "stream",
     "text": [
      "c:\\Users\\rezab\\anaconda3\\Lib\\site-packages\\sklearn\\utils\\validation.py:2732: UserWarning: X has feature names, but StandardScaler was fitted without feature names\n",
      "  warnings.warn(\n"
     ]
    },
    {
     "name": "stdout",
     "output_type": "stream",
     "text": [
      "\u001b[1m10/10\u001b[0m \u001b[32m━━━━━━━━━━━━━━━━━━━━\u001b[0m\u001b[37m\u001b[0m \u001b[1m0s\u001b[0m 6ms/step \n",
      "LR - MAPE: 0.0293, MAE: 0.2694, RMSE: 0.3409, R2: 0.9808\n",
      "DL - MAPE: 0.0228, MAE: 0.2424, RMSE: 0.2886, R2: 0.9862\n",
      "\n",
      "Repeat 3/10\n"
     ]
    },
    {
     "name": "stderr",
     "output_type": "stream",
     "text": [
      "c:\\Users\\rezab\\anaconda3\\Lib\\site-packages\\sklearn\\utils\\validation.py:2732: UserWarning: X has feature names, but StandardScaler was fitted without feature names\n",
      "  warnings.warn(\n"
     ]
    },
    {
     "name": "stdout",
     "output_type": "stream",
     "text": [
      "\u001b[1m10/10\u001b[0m \u001b[32m━━━━━━━━━━━━━━━━━━━━\u001b[0m\u001b[37m\u001b[0m \u001b[1m0s\u001b[0m 5ms/step \n",
      "LR - MAPE: 0.0311, MAE: 0.2756, RMSE: 0.3469, R2: 0.9803\n",
      "DL - MAPE: 0.0213, MAE: 0.1955, RMSE: 0.2334, R2: 0.9911\n",
      "\n",
      "Repeat 4/10\n"
     ]
    },
    {
     "name": "stderr",
     "output_type": "stream",
     "text": [
      "c:\\Users\\rezab\\anaconda3\\Lib\\site-packages\\sklearn\\utils\\validation.py:2732: UserWarning: X has feature names, but StandardScaler was fitted without feature names\n",
      "  warnings.warn(\n"
     ]
    },
    {
     "name": "stdout",
     "output_type": "stream",
     "text": [
      "\u001b[1m10/10\u001b[0m \u001b[32m━━━━━━━━━━━━━━━━━━━━\u001b[0m\u001b[37m\u001b[0m \u001b[1m0s\u001b[0m 6ms/step \n",
      "LR - MAPE: 0.0286, MAE: 0.2641, RMSE: 0.3333, R2: 0.9826\n",
      "DL - MAPE: 0.0262, MAE: 0.2486, RMSE: 0.3105, R2: 0.9849\n",
      "\n",
      "Repeat 5/10\n"
     ]
    },
    {
     "name": "stderr",
     "output_type": "stream",
     "text": [
      "c:\\Users\\rezab\\anaconda3\\Lib\\site-packages\\sklearn\\utils\\validation.py:2732: UserWarning: X has feature names, but StandardScaler was fitted without feature names\n",
      "  warnings.warn(\n"
     ]
    },
    {
     "name": "stdout",
     "output_type": "stream",
     "text": [
      "\u001b[1m10/10\u001b[0m \u001b[32m━━━━━━━━━━━━━━━━━━━━\u001b[0m\u001b[37m\u001b[0m \u001b[1m0s\u001b[0m 6ms/step \n",
      "LR - MAPE: 0.0271, MAE: 0.2536, RMSE: 0.3176, R2: 0.9839\n",
      "DL - MAPE: 0.0183, MAE: 0.1884, RMSE: 0.2420, R2: 0.9906\n",
      "\n",
      "Repeat 6/10\n"
     ]
    },
    {
     "name": "stderr",
     "output_type": "stream",
     "text": [
      "c:\\Users\\rezab\\anaconda3\\Lib\\site-packages\\sklearn\\utils\\validation.py:2732: UserWarning: X has feature names, but StandardScaler was fitted without feature names\n",
      "  warnings.warn(\n"
     ]
    },
    {
     "name": "stdout",
     "output_type": "stream",
     "text": [
      "\u001b[1m10/10\u001b[0m \u001b[32m━━━━━━━━━━━━━━━━━━━━\u001b[0m\u001b[37m\u001b[0m \u001b[1m0s\u001b[0m 6ms/step \n",
      "LR - MAPE: 0.0276, MAE: 0.2568, RMSE: 0.3283, R2: 0.9823\n",
      "DL - MAPE: 0.0234, MAE: 0.2421, RMSE: 0.2968, R2: 0.9855\n",
      "\n",
      "Repeat 7/10\n"
     ]
    },
    {
     "name": "stderr",
     "output_type": "stream",
     "text": [
      "c:\\Users\\rezab\\anaconda3\\Lib\\site-packages\\sklearn\\utils\\validation.py:2732: UserWarning: X has feature names, but StandardScaler was fitted without feature names\n",
      "  warnings.warn(\n"
     ]
    },
    {
     "name": "stdout",
     "output_type": "stream",
     "text": [
      "\u001b[1m10/10\u001b[0m \u001b[32m━━━━━━━━━━━━━━━━━━━━\u001b[0m\u001b[37m\u001b[0m \u001b[1m0s\u001b[0m 6ms/step \n",
      "LR - MAPE: 0.0283, MAE: 0.2561, RMSE: 0.3283, R2: 0.9833\n",
      "DL - MAPE: 0.0303, MAE: 0.2881, RMSE: 0.3588, R2: 0.9801\n",
      "\n",
      "Repeat 8/10\n"
     ]
    },
    {
     "name": "stderr",
     "output_type": "stream",
     "text": [
      "c:\\Users\\rezab\\anaconda3\\Lib\\site-packages\\sklearn\\utils\\validation.py:2732: UserWarning: X has feature names, but StandardScaler was fitted without feature names\n",
      "  warnings.warn(\n"
     ]
    },
    {
     "name": "stdout",
     "output_type": "stream",
     "text": [
      "\u001b[1m10/10\u001b[0m \u001b[32m━━━━━━━━━━━━━━━━━━━━\u001b[0m\u001b[37m\u001b[0m \u001b[1m0s\u001b[0m 6ms/step \n",
      "LR - MAPE: 0.0285, MAE: 0.2552, RMSE: 0.3292, R2: 0.9812\n",
      "DL - MAPE: 0.0189, MAE: 0.1792, RMSE: 0.2155, R2: 0.9919\n",
      "\n",
      "Repeat 9/10\n"
     ]
    },
    {
     "name": "stderr",
     "output_type": "stream",
     "text": [
      "c:\\Users\\rezab\\anaconda3\\Lib\\site-packages\\sklearn\\utils\\validation.py:2732: UserWarning: X has feature names, but StandardScaler was fitted without feature names\n",
      "  warnings.warn(\n"
     ]
    },
    {
     "name": "stdout",
     "output_type": "stream",
     "text": [
      "\u001b[1m10/10\u001b[0m \u001b[32m━━━━━━━━━━━━━━━━━━━━\u001b[0m\u001b[37m\u001b[0m \u001b[1m0s\u001b[0m 6ms/step \n",
      "LR - MAPE: 0.0275, MAE: 0.2467, RMSE: 0.3271, R2: 0.9825\n",
      "DL - MAPE: 0.0153, MAE: 0.1620, RMSE: 0.2043, R2: 0.9932\n",
      "\n",
      "Repeat 10/10\n"
     ]
    },
    {
     "name": "stderr",
     "output_type": "stream",
     "text": [
      "c:\\Users\\rezab\\anaconda3\\Lib\\site-packages\\sklearn\\utils\\validation.py:2732: UserWarning: X has feature names, but StandardScaler was fitted without feature names\n",
      "  warnings.warn(\n"
     ]
    },
    {
     "name": "stdout",
     "output_type": "stream",
     "text": [
      "\u001b[1m10/10\u001b[0m \u001b[32m━━━━━━━━━━━━━━━━━━━━\u001b[0m\u001b[37m\u001b[0m \u001b[1m0s\u001b[0m 6ms/step \n",
      "LR - MAPE: 0.0268, MAE: 0.2575, RMSE: 0.3265, R2: 0.9829\n",
      "DL - MAPE: 0.0168, MAE: 0.1650, RMSE: 0.2023, R2: 0.9934\n",
      "\n",
      "> System: z3, Dataset: QF_UFLIA_xs_23_43.smt2.csv\n",
      "> Training data fraction: 0.7, Number of repeats: 10\n",
      "\n",
      "Repeat 1/10\n"
     ]
    },
    {
     "name": "stderr",
     "output_type": "stream",
     "text": [
      "c:\\Users\\rezab\\anaconda3\\Lib\\site-packages\\sklearn\\utils\\validation.py:2732: UserWarning: X has feature names, but StandardScaler was fitted without feature names\n",
      "  warnings.warn(\n"
     ]
    },
    {
     "name": "stdout",
     "output_type": "stream",
     "text": [
      "\u001b[1m10/10\u001b[0m \u001b[32m━━━━━━━━━━━━━━━━━━━━\u001b[0m\u001b[37m\u001b[0m \u001b[1m0s\u001b[0m 6ms/step \n",
      "LR - MAPE: 0.3876, MAE: 8.2090, RMSE: 9.8170, R2: 0.7339\n",
      "DL - MAPE: 0.0551, MAE: 1.9109, RMSE: 2.9959, R2: 0.9752\n",
      "\n",
      "Repeat 2/10\n"
     ]
    },
    {
     "name": "stderr",
     "output_type": "stream",
     "text": [
      "c:\\Users\\rezab\\anaconda3\\Lib\\site-packages\\sklearn\\utils\\validation.py:2732: UserWarning: X has feature names, but StandardScaler was fitted without feature names\n",
      "  warnings.warn(\n"
     ]
    },
    {
     "name": "stdout",
     "output_type": "stream",
     "text": [
      "\u001b[1m10/10\u001b[0m \u001b[32m━━━━━━━━━━━━━━━━━━━━\u001b[0m\u001b[37m\u001b[0m \u001b[1m0s\u001b[0m 6ms/step \n",
      "LR - MAPE: 0.3767, MAE: 8.0655, RMSE: 9.6645, R2: 0.7515\n",
      "DL - MAPE: 0.0577, MAE: 1.7200, RMSE: 2.4846, R2: 0.9836\n",
      "\n",
      "Repeat 3/10\n"
     ]
    },
    {
     "name": "stderr",
     "output_type": "stream",
     "text": [
      "c:\\Users\\rezab\\anaconda3\\Lib\\site-packages\\sklearn\\utils\\validation.py:2732: UserWarning: X has feature names, but StandardScaler was fitted without feature names\n",
      "  warnings.warn(\n"
     ]
    },
    {
     "name": "stdout",
     "output_type": "stream",
     "text": [
      "\u001b[1m10/10\u001b[0m \u001b[32m━━━━━━━━━━━━━━━━━━━━\u001b[0m\u001b[37m\u001b[0m \u001b[1m0s\u001b[0m 5ms/step \n",
      "LR - MAPE: 0.3865, MAE: 8.0309, RMSE: 9.5332, R2: 0.7267\n",
      "DL - MAPE: 0.0360, MAE: 1.1270, RMSE: 1.7457, R2: 0.9908\n",
      "\n",
      "Repeat 4/10\n"
     ]
    },
    {
     "name": "stderr",
     "output_type": "stream",
     "text": [
      "c:\\Users\\rezab\\anaconda3\\Lib\\site-packages\\sklearn\\utils\\validation.py:2732: UserWarning: X has feature names, but StandardScaler was fitted without feature names\n",
      "  warnings.warn(\n"
     ]
    },
    {
     "name": "stdout",
     "output_type": "stream",
     "text": [
      "\u001b[1m10/10\u001b[0m \u001b[32m━━━━━━━━━━━━━━━━━━━━\u001b[0m\u001b[37m\u001b[0m \u001b[1m0s\u001b[0m 6ms/step \n",
      "LR - MAPE: 0.3463, MAE: 7.8806, RMSE: 9.6854, R2: 0.7573\n",
      "DL - MAPE: 0.0351, MAE: 1.1066, RMSE: 1.6735, R2: 0.9928\n",
      "\n",
      "Repeat 5/10\n"
     ]
    },
    {
     "name": "stderr",
     "output_type": "stream",
     "text": [
      "c:\\Users\\rezab\\anaconda3\\Lib\\site-packages\\sklearn\\utils\\validation.py:2732: UserWarning: X has feature names, but StandardScaler was fitted without feature names\n",
      "  warnings.warn(\n"
     ]
    },
    {
     "name": "stdout",
     "output_type": "stream",
     "text": [
      "\u001b[1m10/10\u001b[0m \u001b[32m━━━━━━━━━━━━━━━━━━━━\u001b[0m\u001b[37m\u001b[0m \u001b[1m0s\u001b[0m 6ms/step \n",
      "LR - MAPE: 0.3632, MAE: 8.2074, RMSE: 9.9104, R2: 0.7587\n",
      "DL - MAPE: 0.0427, MAE: 1.2953, RMSE: 1.8797, R2: 0.9913\n",
      "\n",
      "Repeat 6/10\n"
     ]
    },
    {
     "name": "stderr",
     "output_type": "stream",
     "text": [
      "c:\\Users\\rezab\\anaconda3\\Lib\\site-packages\\sklearn\\utils\\validation.py:2732: UserWarning: X has feature names, but StandardScaler was fitted without feature names\n",
      "  warnings.warn(\n"
     ]
    },
    {
     "name": "stdout",
     "output_type": "stream",
     "text": [
      "\u001b[1m10/10\u001b[0m \u001b[32m━━━━━━━━━━━━━━━━━━━━\u001b[0m\u001b[37m\u001b[0m \u001b[1m0s\u001b[0m 5ms/step \n",
      "LR - MAPE: 0.3643, MAE: 8.3830, RMSE: 10.2636, R2: 0.7551\n",
      "DL - MAPE: 0.0533, MAE: 1.8758, RMSE: 3.1468, R2: 0.9770\n",
      "\n",
      "Repeat 7/10\n"
     ]
    },
    {
     "name": "stderr",
     "output_type": "stream",
     "text": [
      "c:\\Users\\rezab\\anaconda3\\Lib\\site-packages\\sklearn\\utils\\validation.py:2732: UserWarning: X has feature names, but StandardScaler was fitted without feature names\n",
      "  warnings.warn(\n"
     ]
    },
    {
     "name": "stdout",
     "output_type": "stream",
     "text": [
      "\u001b[1m10/10\u001b[0m \u001b[32m━━━━━━━━━━━━━━━━━━━━\u001b[0m\u001b[37m\u001b[0m \u001b[1m0s\u001b[0m 6ms/step \n",
      "LR - MAPE: 0.3710, MAE: 8.2053, RMSE: 10.1347, R2: 0.7653\n",
      "DL - MAPE: 0.0380, MAE: 1.2574, RMSE: 1.9546, R2: 0.9913\n",
      "\n",
      "Repeat 8/10\n"
     ]
    },
    {
     "name": "stderr",
     "output_type": "stream",
     "text": [
      "c:\\Users\\rezab\\anaconda3\\Lib\\site-packages\\sklearn\\utils\\validation.py:2732: UserWarning: X has feature names, but StandardScaler was fitted without feature names\n",
      "  warnings.warn(\n"
     ]
    },
    {
     "name": "stdout",
     "output_type": "stream",
     "text": [
      "\u001b[1m10/10\u001b[0m \u001b[32m━━━━━━━━━━━━━━━━━━━━\u001b[0m\u001b[37m\u001b[0m \u001b[1m0s\u001b[0m 6ms/step \n",
      "LR - MAPE: 0.3436, MAE: 7.8170, RMSE: 9.4167, R2: 0.7625\n",
      "DL - MAPE: 0.0335, MAE: 1.1554, RMSE: 1.8563, R2: 0.9908\n",
      "\n",
      "Repeat 9/10\n"
     ]
    },
    {
     "name": "stderr",
     "output_type": "stream",
     "text": [
      "c:\\Users\\rezab\\anaconda3\\Lib\\site-packages\\sklearn\\utils\\validation.py:2732: UserWarning: X has feature names, but StandardScaler was fitted without feature names\n",
      "  warnings.warn(\n"
     ]
    },
    {
     "name": "stdout",
     "output_type": "stream",
     "text": [
      "\u001b[1m10/10\u001b[0m \u001b[32m━━━━━━━━━━━━━━━━━━━━\u001b[0m\u001b[37m\u001b[0m \u001b[1m0s\u001b[0m 6ms/step \n",
      "LR - MAPE: 0.3508, MAE: 7.7984, RMSE: 9.4170, R2: 0.7567\n",
      "DL - MAPE: 0.0388, MAE: 1.0032, RMSE: 1.3275, R2: 0.9952\n",
      "\n",
      "Repeat 10/10\n"
     ]
    },
    {
     "name": "stderr",
     "output_type": "stream",
     "text": [
      "c:\\Users\\rezab\\anaconda3\\Lib\\site-packages\\sklearn\\utils\\validation.py:2732: UserWarning: X has feature names, but StandardScaler was fitted without feature names\n",
      "  warnings.warn(\n"
     ]
    },
    {
     "name": "stdout",
     "output_type": "stream",
     "text": [
      "\u001b[1m10/10\u001b[0m \u001b[32m━━━━━━━━━━━━━━━━━━━━\u001b[0m\u001b[37m\u001b[0m \u001b[1m0s\u001b[0m 5ms/step \n",
      "LR - MAPE: 0.3439, MAE: 8.1090, RMSE: 9.9240, R2: 0.7550\n",
      "DL - MAPE: 0.0502, MAE: 1.7847, RMSE: 2.9352, R2: 0.9786\n",
      "\n",
      "> System: z3, Dataset: QF_UF_PEQ018_size6.smt2.csv\n",
      "> Training data fraction: 0.7, Number of repeats: 10\n",
      "\n",
      "Repeat 1/10\n"
     ]
    },
    {
     "name": "stderr",
     "output_type": "stream",
     "text": [
      "c:\\Users\\rezab\\anaconda3\\Lib\\site-packages\\sklearn\\utils\\validation.py:2732: UserWarning: X has feature names, but StandardScaler was fitted without feature names\n",
      "  warnings.warn(\n"
     ]
    },
    {
     "name": "stdout",
     "output_type": "stream",
     "text": [
      "\u001b[1m10/10\u001b[0m \u001b[32m━━━━━━━━━━━━━━━━━━━━\u001b[0m\u001b[37m\u001b[0m \u001b[1m0s\u001b[0m 6ms/step \n",
      "LR - MAPE: 9.4265, MAE: 155.0451, RMSE: 192.7030, R2: 0.4645\n",
      "DL - MAPE: 0.1183, MAE: 5.1296, RMSE: 8.7007, R2: 0.9989\n",
      "\n",
      "Repeat 2/10\n"
     ]
    },
    {
     "name": "stderr",
     "output_type": "stream",
     "text": [
      "c:\\Users\\rezab\\anaconda3\\Lib\\site-packages\\sklearn\\utils\\validation.py:2732: UserWarning: X has feature names, but StandardScaler was fitted without feature names\n",
      "  warnings.warn(\n"
     ]
    },
    {
     "name": "stdout",
     "output_type": "stream",
     "text": [
      "\u001b[1m10/10\u001b[0m \u001b[32m━━━━━━━━━━━━━━━━━━━━\u001b[0m\u001b[37m\u001b[0m \u001b[1m0s\u001b[0m 6ms/step \n",
      "LR - MAPE: 10.6266, MAE: 156.2722, RMSE: 200.1251, R2: 0.5223\n",
      "DL - MAPE: 0.1464, MAE: 5.4571, RMSE: 9.1478, R2: 0.9990\n",
      "\n",
      "Repeat 3/10\n"
     ]
    },
    {
     "name": "stderr",
     "output_type": "stream",
     "text": [
      "c:\\Users\\rezab\\anaconda3\\Lib\\site-packages\\sklearn\\utils\\validation.py:2732: UserWarning: X has feature names, but StandardScaler was fitted without feature names\n",
      "  warnings.warn(\n"
     ]
    },
    {
     "name": "stdout",
     "output_type": "stream",
     "text": [
      "\u001b[1m10/10\u001b[0m \u001b[32m━━━━━━━━━━━━━━━━━━━━\u001b[0m\u001b[37m\u001b[0m \u001b[1m0s\u001b[0m 6ms/step \n",
      "LR - MAPE: 10.9485, MAE: 165.8877, RMSE: 205.0293, R2: 0.4897\n",
      "DL - MAPE: 0.0931, MAE: 3.6521, RMSE: 6.1356, R2: 0.9995\n",
      "\n",
      "Repeat 4/10\n"
     ]
    },
    {
     "name": "stderr",
     "output_type": "stream",
     "text": [
      "c:\\Users\\rezab\\anaconda3\\Lib\\site-packages\\sklearn\\utils\\validation.py:2732: UserWarning: X has feature names, but StandardScaler was fitted without feature names\n",
      "  warnings.warn(\n"
     ]
    },
    {
     "name": "stdout",
     "output_type": "stream",
     "text": [
      "\u001b[1m10/10\u001b[0m \u001b[32m━━━━━━━━━━━━━━━━━━━━\u001b[0m\u001b[37m\u001b[0m \u001b[1m0s\u001b[0m 6ms/step \n",
      "LR - MAPE: 9.4705, MAE: 161.4278, RMSE: 202.4174, R2: 0.5200\n",
      "DL - MAPE: 0.1009, MAE: 5.3017, RMSE: 8.6939, R2: 0.9991\n",
      "\n",
      "Repeat 5/10\n"
     ]
    },
    {
     "name": "stderr",
     "output_type": "stream",
     "text": [
      "c:\\Users\\rezab\\anaconda3\\Lib\\site-packages\\sklearn\\utils\\validation.py:2732: UserWarning: X has feature names, but StandardScaler was fitted without feature names\n",
      "  warnings.warn(\n"
     ]
    },
    {
     "name": "stdout",
     "output_type": "stream",
     "text": [
      "\u001b[1m10/10\u001b[0m \u001b[32m━━━━━━━━━━━━━━━━━━━━\u001b[0m\u001b[37m\u001b[0m \u001b[1m0s\u001b[0m 6ms/step \n",
      "LR - MAPE: 10.0519, MAE: 169.7316, RMSE: 213.5516, R2: 0.5357\n",
      "DL - MAPE: 0.0545, MAE: 3.2140, RMSE: 6.0778, R2: 0.9996\n",
      "\n",
      "Repeat 6/10\n"
     ]
    },
    {
     "name": "stderr",
     "output_type": "stream",
     "text": [
      "c:\\Users\\rezab\\anaconda3\\Lib\\site-packages\\sklearn\\utils\\validation.py:2732: UserWarning: X has feature names, but StandardScaler was fitted without feature names\n",
      "  warnings.warn(\n"
     ]
    },
    {
     "name": "stdout",
     "output_type": "stream",
     "text": [
      "\u001b[1m10/10\u001b[0m \u001b[32m━━━━━━━━━━━━━━━━━━━━\u001b[0m\u001b[37m\u001b[0m \u001b[1m0s\u001b[0m 6ms/step \n",
      "LR - MAPE: 9.3349, MAE: 163.7024, RMSE: 208.7069, R2: 0.5417\n",
      "DL - MAPE: 0.1058, MAE: 6.4420, RMSE: 11.2389, R2: 0.9987\n",
      "\n",
      "Repeat 7/10\n"
     ]
    },
    {
     "name": "stderr",
     "output_type": "stream",
     "text": [
      "c:\\Users\\rezab\\anaconda3\\Lib\\site-packages\\sklearn\\utils\\validation.py:2732: UserWarning: X has feature names, but StandardScaler was fitted without feature names\n",
      "  warnings.warn(\n"
     ]
    },
    {
     "name": "stdout",
     "output_type": "stream",
     "text": [
      "\u001b[1m10/10\u001b[0m \u001b[32m━━━━━━━━━━━━━━━━━━━━\u001b[0m\u001b[37m\u001b[0m \u001b[1m0s\u001b[0m 6ms/step \n",
      "LR - MAPE: 9.3767, MAE: 159.5251, RMSE: 210.9523, R2: 0.5667\n",
      "DL - MAPE: 0.1091, MAE: 4.6434, RMSE: 7.9752, R2: 0.9994\n",
      "\n",
      "Repeat 8/10\n"
     ]
    },
    {
     "name": "stderr",
     "output_type": "stream",
     "text": [
      "c:\\Users\\rezab\\anaconda3\\Lib\\site-packages\\sklearn\\utils\\validation.py:2732: UserWarning: X has feature names, but StandardScaler was fitted without feature names\n",
      "  warnings.warn(\n"
     ]
    },
    {
     "name": "stdout",
     "output_type": "stream",
     "text": [
      "\u001b[1m10/10\u001b[0m \u001b[32m━━━━━━━━━━━━━━━━━━━━\u001b[0m\u001b[37m\u001b[0m \u001b[1m0s\u001b[0m 6ms/step \n",
      "LR - MAPE: 9.1668, MAE: 167.1705, RMSE: 208.3044, R2: 0.5351\n",
      "DL - MAPE: 0.0740, MAE: 3.7418, RMSE: 7.2434, R2: 0.9994\n",
      "\n",
      "Repeat 9/10\n"
     ]
    },
    {
     "name": "stderr",
     "output_type": "stream",
     "text": [
      "c:\\Users\\rezab\\anaconda3\\Lib\\site-packages\\sklearn\\utils\\validation.py:2732: UserWarning: X has feature names, but StandardScaler was fitted without feature names\n",
      "  warnings.warn(\n"
     ]
    },
    {
     "name": "stdout",
     "output_type": "stream",
     "text": [
      "\u001b[1m10/10\u001b[0m \u001b[32m━━━━━━━━━━━━━━━━━━━━\u001b[0m\u001b[37m\u001b[0m \u001b[1m0s\u001b[0m 5ms/step \n",
      "LR - MAPE: 8.5721, MAE: 152.8485, RMSE: 194.4568, R2: 0.5335\n",
      "DL - MAPE: 0.0575, MAE: 2.9724, RMSE: 4.7510, R2: 0.9997\n",
      "\n",
      "Repeat 10/10\n"
     ]
    },
    {
     "name": "stderr",
     "output_type": "stream",
     "text": [
      "c:\\Users\\rezab\\anaconda3\\Lib\\site-packages\\sklearn\\utils\\validation.py:2732: UserWarning: X has feature names, but StandardScaler was fitted without feature names\n",
      "  warnings.warn(\n"
     ]
    },
    {
     "name": "stdout",
     "output_type": "stream",
     "text": [
      "\u001b[1m10/10\u001b[0m \u001b[32m━━━━━━━━━━━━━━━━━━━━\u001b[0m\u001b[37m\u001b[0m \u001b[1m0s\u001b[0m 6ms/step \n",
      "LR - MAPE: 9.5024, MAE: 171.1773, RMSE: 213.0149, R2: 0.5199\n",
      "DL - MAPE: 0.1606, MAE: 4.8224, RMSE: 6.9113, R2: 0.9995\n",
      "\n",
      "===== OVERALL AVERAGE METRICS =====\n",
      "\n",
      "Linear Regression (Overall Average):\n",
      "Average MAPE: 1.7680\n",
      "Average MAE: 120.1139\n",
      "Average RMSE: 142.5734\n",
      "Average R2: 0.5865\n",
      "\n",
      "Deep Learning (Overall Average):\n",
      "Average MAPE: 0.2712\n",
      "Average MAE: 70.9499\n",
      "Average RMSE: 93.0750\n",
      "Average R2: 0.7222\n",
      "\n",
      "Average Improvements Across All Systems:\n",
      "MAPE Improvement: 48.08%\n",
      "MAE Improvement: 38.58%\n",
      "RMSE Improvement: 28.49%\n",
      "R2 Improvement: 9.76%\n",
      "\n",
      "DL outperformed LR in:\n",
      "MAPE: 87/93 systems (93.5%)\n",
      "MAE: 88/93 systems (94.6%)\n",
      "RMSE: 72/93 systems (77.4%)\n",
      "R2: 72/93 systems (77.4%)\n",
      "\n",
      "DL significantly outperformed LR (p < 0.05) in:\n",
      "MAPE: 82/93 systems (88.2%)\n",
      "MAE: 80/93 systems (86.0%)\n",
      "RMSE: 67/93 systems (72.0%)\n",
      "R2: 67/93 systems (72.0%)\n"
     ]
    }
   ],
   "source": [
    "# Summary results across all systems\n",
    "summary_results = {\n",
    "    'System': [],\n",
    "    'Dataset': [],\n",
    "    'DL_MAPE': [], 'LR_MAPE': [], 'MAPE_Improv': [], 'MAPE_p_value': [],\n",
    "    'DL_MAE': [], 'LR_MAE': [], 'MAE_Improv': [], 'MAE_p_value': [],\n",
    "    'DL_RMSE': [], 'LR_RMSE': [], 'RMSE_Improv': [], 'RMSE_p_value': [],\n",
    "    'DL_R2': [], 'LR_R2': [], 'R2_Improv': [], 'R2_p_value': []\n",
    "}\n",
    "\n",
    "# Store raw metric values for each repeat\n",
    "all_metric_values = {}\n",
    "\n",
    "# Store training times\n",
    "training_times = {\n",
    "    'System': [],\n",
    "    'Dataset': [],\n",
    "    'LR_Time': [],\n",
    "    'DL_Time': []\n",
    "}\n",
    "\n",
    "for current_system in systems:\n",
    "    print(f\"\\n{'='*50}\")\n",
    "    print(f\"Processing system: {current_system}\")\n",
    "    print(f\"{'='*50}\")\n",
    "    \n",
    "    datasets_location = f'datasets/{current_system}'\n",
    "\n",
    "    csv_files = [f for f in os.listdir(datasets_location) if f.endswith('.csv')]\n",
    "\n",
    "    for csv_file in csv_files:\n",
    "        system_key = f\"{current_system}_{csv_file}\"\n",
    "        all_metric_values[system_key] = {\n",
    "            'DL_MAPE': [], 'LR_MAPE': [],\n",
    "            'DL_MAE': [], 'LR_MAE': [],\n",
    "            'DL_RMSE': [], 'LR_RMSE': [],\n",
    "            'DL_R2': [], 'LR_R2': []\n",
    "        }\n",
    "        \n",
    "        print(f\"\\n> System: {current_system}, Dataset: {csv_file}\")\n",
    "        print(f\"> Training data fraction: {train_frac}, Number of repeats: {num_repeats}\")\n",
    "\n",
    "        data = pd.read_csv(os.path.join(datasets_location, csv_file))\n",
    "    \n",
    "        # Precompute feature selection once for the entire dataset\n",
    "        selected_feature_indices = precompute_feature_selection(data)\n",
    "\n",
    "        # Initialize dictionaries to store results for repeated evaluations\n",
    "        dl_metrics = {'MAPE': [], 'MAE': [], 'RMSE': [], 'R2': []}\n",
    "        lr_metrics = {'MAPE': [], 'MAE': [], 'RMSE': [], 'R2': []}\n",
    "        \n",
    "        # Training times\n",
    "        lr_times = []\n",
    "        dl_times = []\n",
    "\n",
    "        for current_repeat in range(num_repeats):\n",
    "            print(f\"\\nRepeat {current_repeat + 1}/{num_repeats}\")\n",
    "            \n",
    "            # Use different random seed for each repeat\n",
    "            current_seed = random_seed * (current_repeat + 1)\n",
    "            \n",
    "            # Randomly split data into training and testing sets\n",
    "            train_data = data.sample(frac=train_frac, random_state=current_seed)\n",
    "            test_data = data.drop(train_data.index)\n",
    "\n",
    "            # Split features (X) and target (Y)\n",
    "            X_train = train_data.iloc[:, :-1]\n",
    "            y_train = train_data.iloc[:, -1]\n",
    "            X_test = test_data.iloc[:, :-1]\n",
    "            y_test = test_data.iloc[:, -1]\n",
    "            \n",
    "            # Linear Regression\n",
    "            lr_start_time = time.time()\n",
    "            \n",
    "            lr_model = LinearRegression()\n",
    "            lr_model.fit(X_train, y_train)\n",
    "            lr_predictions = lr_model.predict(X_test)\n",
    "            \n",
    "            lr_end_time = time.time()\n",
    "            lr_time = lr_end_time - lr_start_time\n",
    "            lr_times.append(lr_time)\n",
    "            \n",
    "            # Evaluate linear regression model\n",
    "            lr_results = evaluate_model(y_test, lr_predictions)\n",
    "            for metric, value in lr_results.items():\n",
    "                lr_metrics[metric].append(value)\n",
    "                all_metric_values[system_key][f'LR_{metric}'].append(value)\n",
    "\n",
    "            # Deep Learning Model\n",
    "            dl_start_time = time.time()\n",
    "            \n",
    "            # 1. Outlier and Categorical\n",
    "            X_train, y_train = detect_and_remove_outliers(X_train, y_train)\n",
    "            X_train = convert_to_categorical(X_train)\n",
    "            X_test = convert_to_categorical(X_test)\n",
    "\n",
    "            # 2. Use precomputed feature selection\n",
    "            X_train_selected = X_train.iloc[:, selected_feature_indices]\n",
    "            X_test_selected = X_test.iloc[:, selected_feature_indices]         \n",
    "            \n",
    "            # 3. Standardize the features\n",
    "            scaler = StandardScaler()\n",
    "            X_train_scaled = pd.DataFrame(\n",
    "                scaler.fit_transform(X_train_selected),\n",
    "                columns=X_train_selected.columns\n",
    "            )\n",
    "            X_test_scaled = pd.DataFrame(\n",
    "                scaler.transform(X_test_selected),\n",
    "                columns=X_test_selected.columns\n",
    "            )\n",
    "\n",
    "            # Create and train the neural network\n",
    "            model = create_neural_network(X_train_scaled.shape[1])\n",
    "            \n",
    "            # Callbacks for better training\n",
    "            callbacks = [\n",
    "                EarlyStopping(\n",
    "                    monitor='val_loss',\n",
    "                    patience=patience,\n",
    "                    restore_best_weights=True\n",
    "                ),\n",
    "                ReduceLROnPlateau(\n",
    "                    monitor='val_loss',\n",
    "                    factor=0.5,\n",
    "                    patience=5,\n",
    "                    min_lr=0.0001\n",
    "                )\n",
    "            ]\n",
    "            \n",
    "            # Train the model\n",
    "            model.fit(\n",
    "                X_train_scaled, y_train,\n",
    "                epochs=epochs,\n",
    "                batch_size=batch_size,\n",
    "                validation_split=0.2,\n",
    "                callbacks=callbacks,\n",
    "                verbose=0\n",
    "            )\n",
    "\n",
    "            # Make predictions\n",
    "            dl_predictions = model.predict(X_test_scaled).flatten()\n",
    "            \n",
    "            dl_end_time = time.time()\n",
    "            dl_time = dl_end_time - dl_start_time\n",
    "            dl_times.append(dl_time)\n",
    "\n",
    "            # Evaluate deep learning model\n",
    "            dl_results = evaluate_model(y_test, dl_predictions)\n",
    "            for metric, value in dl_results.items():\n",
    "                dl_metrics[metric].append(value)\n",
    "                all_metric_values[system_key][f'DL_{metric}'].append(value)\n",
    "            \n",
    "            # Print progress for current repeat\n",
    "            print(f\"LR - MAPE: {lr_results['MAPE']:.4f}, MAE: {lr_results['MAE']:.4f}, RMSE: {lr_results['RMSE']:.4f}, R2: {lr_results['R2']:.4f}\")\n",
    "            print(f\"DL - MAPE: {dl_results['MAPE']:.4f}, MAE: {dl_results['MAE']:.4f}, RMSE: {dl_results['RMSE']:.4f}, R2: {dl_results['R2']:.4f}\")\n",
    "\n",
    "        # Calculate average metrics and standard deviations across all repeats\n",
    "        avg_dl_metrics = {metric: np.mean(values) for metric, values in dl_metrics.items()}\n",
    "        std_dl_metrics = {metric: np.std(values) for metric, values in dl_metrics.items()}\n",
    "        \n",
    "        avg_lr_metrics = {metric: np.mean(values) for metric, values in lr_metrics.items()}\n",
    "        std_lr_metrics = {metric: np.std(values) for metric, values in lr_metrics.items()}\n",
    "        \n",
    "        # Calculate average training times\n",
    "        avg_lr_time = np.mean(lr_times)\n",
    "        avg_dl_time = np.mean(dl_times)\n",
    "        \n",
    "        # Store training times\n",
    "        training_times['System'].append(current_system)\n",
    "        training_times['Dataset'].append(csv_file)\n",
    "        training_times['LR_Time'].append(avg_lr_time)\n",
    "        training_times['DL_Time'].append(avg_dl_time)\n",
    "        \n",
    "        # Calculate improvements\n",
    "        improvements = calculate_improvement(avg_dl_metrics, avg_lr_metrics)\n",
    "        \n",
    "        # Run statistical tests\n",
    "        p_values = {}\n",
    "        for metric in avg_dl_metrics:\n",
    "            dl_values = all_metric_values[system_key][f'DL_{metric}']\n",
    "            lr_values = all_metric_values[system_key][f'LR_{metric}']\n",
    "            \n",
    "            if metric != 'R2':\n",
    "                # For error metrics, lower is better, so we're testing if DL is lower than LR\n",
    "                test_results = run_statistical_tests(dl_values, lr_values)\n",
    "            else:\n",
    "                # For R2, higher is better, so we're testing if DL is higher than LR\n",
    "                test_results = run_statistical_tests(lr_values, dl_values)\n",
    "            \n",
    "            p_values[metric] = test_results['p_value']\n",
    "        \n",
    "        # Add to summary results\n",
    "        summary_results['System'].append(current_system)\n",
    "        summary_results['Dataset'].append(csv_file)\n",
    "        summary_results['DL_MAPE'].append(avg_dl_metrics['MAPE'])\n",
    "        summary_results['LR_MAPE'].append(avg_lr_metrics['MAPE'])\n",
    "        summary_results['MAPE_Improv'].append(improvements['MAPE'])\n",
    "        summary_results['MAPE_p_value'].append(p_values['MAPE'])\n",
    "        summary_results['DL_MAE'].append(avg_dl_metrics['MAE'])\n",
    "        summary_results['LR_MAE'].append(avg_lr_metrics['MAE'])\n",
    "        summary_results['MAE_Improv'].append(improvements['MAE'])\n",
    "        summary_results['MAE_p_value'].append(p_values['MAE'])\n",
    "        summary_results['DL_RMSE'].append(avg_dl_metrics['RMSE'])\n",
    "        summary_results['LR_RMSE'].append(avg_lr_metrics['RMSE'])\n",
    "        summary_results['RMSE_Improv'].append(improvements['RMSE'])\n",
    "        summary_results['RMSE_p_value'].append(p_values['RMSE'])\n",
    "        summary_results['DL_R2'].append(avg_dl_metrics['R2'])\n",
    "        summary_results['LR_R2'].append(avg_lr_metrics['R2'])\n",
    "        summary_results['R2_Improv'].append(improvements['R2'])\n",
    "        summary_results['R2_p_value'].append(p_values['R2'])\n",
    "\n",
    "# Convert summary results to DataFrame\n",
    "summary_df = pd.DataFrame(summary_results)\n",
    "\n",
    "# Save all results to CSV file\n",
    "save_results_to_csv(summary_df, all_metric_values)\n",
    "\n",
    "\n",
    "# Save training times\n",
    "pd.DataFrame(training_times).to_csv('results/data/training_times.csv', index=False)\n",
    "\n",
    "# Calculate overall average metrics across all systems\n",
    "print(\"\\n===== OVERALL AVERAGE METRICS =====\")\n",
    "\n",
    "print(\"\\nLinear Regression (Overall Average):\")\n",
    "print(f\"Average MAPE: {np.mean(summary_df['LR_MAPE']):.4f}\")\n",
    "print(f\"Average MAE: {np.mean(summary_df['LR_MAE']):.4f}\")\n",
    "print(f\"Average RMSE: {np.mean(summary_df['LR_RMSE']):.4f}\")\n",
    "print(f\"Average R2: {np.mean(summary_df['LR_R2']):.4f}\")\n",
    "\n",
    "print(\"\\nDeep Learning (Overall Average):\")\n",
    "print(f\"Average MAPE: {np.mean(summary_df['DL_MAPE']):.4f}\")\n",
    "print(f\"Average MAE: {np.mean(summary_df['DL_MAE']):.4f}\")\n",
    "print(f\"Average RMSE: {np.mean(summary_df['DL_RMSE']):.4f}\")\n",
    "print(f\"Average R2: {np.mean(summary_df['DL_R2']):.4f}\")\n",
    "\n",
    "print(\"\\nAverage Improvements Across All Systems:\")\n",
    "print(f\"MAPE Improvement: {np.mean(summary_df['MAPE_Improv']):.2f}%\")\n",
    "print(f\"MAE Improvement: {np.mean(summary_df['MAE_Improv']):.2f}%\")\n",
    "print(f\"RMSE Improvement: {np.mean(summary_df['RMSE_Improv']):.2f}%\")\n",
    "print(f\"R2 Improvement: {np.mean(summary_df['R2_Improv']):.2f}%\")\n",
    "\n",
    "# Count number of systems where DL outperformed LR\n",
    "better_count = {\n",
    "    'MAPE': sum(summary_df['MAPE_Improv'] > 0),\n",
    "    'MAE': sum(summary_df['MAE_Improv'] > 0),\n",
    "    'RMSE': sum(summary_df['RMSE_Improv'] > 0),\n",
    "    'R2': sum(summary_df['R2_Improv'] > 0)\n",
    "}\n",
    "\n",
    "total_systems = len(summary_df)\n",
    "\n",
    "print(\"\\nDL outperformed LR in:\")\n",
    "print(f\"MAPE: {better_count['MAPE']}/{total_systems} systems ({better_count['MAPE']/total_systems*100:.1f}%)\")\n",
    "print(f\"MAE: {better_count['MAE']}/{total_systems} systems ({better_count['MAE']/total_systems*100:.1f}%)\")\n",
    "print(f\"RMSE: {better_count['RMSE']}/{total_systems} systems ({better_count['RMSE']/total_systems*100:.1f}%)\")\n",
    "print(f\"R2: {better_count['R2']}/{total_systems} systems ({better_count['R2']/total_systems*100:.1f}%)\")\n",
    "\n",
    "# Count statistically significant improvements\n",
    "sig_better_count = {\n",
    "    'MAPE': sum((summary_df['MAPE_Improv'] > 0) & (summary_df['MAPE_p_value'] < 0.05)),\n",
    "    'MAE': sum((summary_df['MAE_Improv'] > 0) & (summary_df['MAE_p_value'] < 0.05)),\n",
    "    'RMSE': sum((summary_df['RMSE_Improv'] > 0) & (summary_df['RMSE_p_value'] < 0.05)),\n",
    "    'R2': sum((summary_df['R2_Improv'] > 0) & (summary_df['R2_p_value'] < 0.05))\n",
    "}\n",
    "\n",
    "print(\"\\nDL significantly outperformed LR (p < 0.05) in:\")\n",
    "print(f\"MAPE: {sig_better_count['MAPE']}/{total_systems} systems ({sig_better_count['MAPE']/total_systems*100:.1f}%)\")\n",
    "print(f\"MAE: {sig_better_count['MAE']}/{total_systems} systems ({sig_better_count['MAE']/total_systems*100:.1f}%)\")\n",
    "print(f\"RMSE: {sig_better_count['RMSE']}/{total_systems} systems ({sig_better_count['RMSE']/total_systems*100:.1f}%)\")\n",
    "print(f\"R2: {sig_better_count['R2']}/{total_systems} systems ({sig_better_count['R2']/total_systems*100:.1f}%)\")"
   ]
  }
 ],
 "metadata": {
  "kernelspec": {
   "display_name": "base",
   "language": "python",
   "name": "python3"
  },
  "language_info": {
   "codemirror_mode": {
    "name": "ipython",
    "version": 3
   },
   "file_extension": ".py",
   "mimetype": "text/x-python",
   "name": "python",
   "nbconvert_exporter": "python",
   "pygments_lexer": "ipython3",
   "version": "3.12.3"
  }
 },
 "nbformat": 4,
 "nbformat_minor": 2
}
